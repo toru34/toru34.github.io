{
  "nbformat": 4,
  "nbformat_minor": 0,
  "metadata": {
    "colab": {
      "name": "conv2d-torch.ipynb",
      "provenance": [],
      "toc_visible": true
    },
    "kernelspec": {
      "name": "python3",
      "display_name": "Python 3"
    },
    "language_info": {
      "name": "python"
    },
    "accelerator": "GPU"
  },
  "cells": [
    {
      "cell_type": "markdown",
      "metadata": {
        "id": "n1BilhRQhLSv"
      },
      "source": [
        "# Foundations of Convolutional neural nets\n",
        "Based on sec 6.2 of\n",
        "http://d2l.ai/chapter_convolutional-neural-networks/conv-layer.html\n",
        "\n"
      ]
    },
    {
      "cell_type": "code",
      "metadata": {
        "id": "37BSsAk_hEZI"
      },
      "source": [
        "import numpy as np\n",
        "import matplotlib.pyplot as plt\n",
        "np.random.seed(seed=1)\n",
        "import math\n",
        "\n",
        "import torch\n",
        "from torch import nn\n",
        "from torch.nn import functional as F\n",
        "\n",
        "!mkdir figures # for saving plots\n",
        "\n",
        "import warnings\n",
        "warnings.filterwarnings(\"ignore\")\n",
        "\n",
        "# For reproducibility on different runs\n",
        "torch.backends.cudnn.deterministic = True\n",
        "torch.manual_seed(hash(\"by removing stochasticity\") % 2**32 - 1)\n",
        "torch.cuda.manual_seed_all(hash(\"so runs are repeatable\") % 2**32 - 1)"
      ],
      "execution_count": 1,
      "outputs": []
    },
    {
      "cell_type": "markdown",
      "metadata": {
        "id": "uj6qHIeFhmaB"
      },
      "source": [
        "# Cross correlation \n",
        "\n",
        "<img src=\"https://github.com/probml/pyprobml/blob/master/images/d2l-correlation.png?raw=true\" height=200>"
      ]
    },
    {
      "cell_type": "code",
      "metadata": {
        "colab": {
          "base_uri": "https://localhost:8080/"
        },
        "id": "V37sTMtzhUEH",
        "outputId": "ed6b9917-388d-4875-af33-78e17cf400fc"
      },
      "source": [
        "# Cross correlation\n",
        "\n",
        "def corr2d(X, K):  \n",
        "    \"\"\"Compute 2D cross-correlation.\"\"\"\n",
        "    h, w = K.shape\n",
        "    Y = torch.zeros((X.shape[0] - h + 1, X.shape[1] - w + 1))\n",
        "    for i in range(Y.shape[0]):\n",
        "        for j in range(Y.shape[1]):\n",
        "            Y[i, j] = (X[i:i + h, j:j + w] * K).sum()\n",
        "    return Y\n",
        "\n",
        "X = torch.tensor([[0.0, 1.0, 2.0], [3.0, 4.0, 5.0], [6.0, 7.0, 8.0]])\n",
        "K = torch.tensor([[0.0, 1.0], [2.0, 3.0]])\n",
        "print(corr2d(X, K))\n"
      ],
      "execution_count": 2,
      "outputs": [
        {
          "output_type": "stream",
          "text": [
            "tensor([[19., 25.],\n",
            "        [37., 43.]])\n"
          ],
          "name": "stdout"
        }
      ]
    },
    {
      "cell_type": "markdown",
      "metadata": {
        "id": "ih0vOzPshqZo"
      },
      "source": [
        "# Edge detection"
      ]
    },
    {
      "cell_type": "markdown",
      "metadata": {
        "id": "Dl2lJFBahsaR"
      },
      "source": [
        "We make a small image X of 1s, with a vertical stripe (of width 4) of 0s in the middle."
      ]
    },
    {
      "cell_type": "code",
      "metadata": {
        "colab": {
          "base_uri": "https://localhost:8080/"
        },
        "id": "irYSam83hcEE",
        "outputId": "e5e01b53-9a8b-48ab-eb02-a699081688cb"
      },
      "source": [
        "X = torch.ones((6, 8))\n",
        "X[:, 2:6] = 0\n",
        "X"
      ],
      "execution_count": 3,
      "outputs": [
        {
          "output_type": "execute_result",
          "data": {
            "text/plain": [
              "tensor([[1., 1., 0., 0., 0., 0., 1., 1.],\n",
              "        [1., 1., 0., 0., 0., 0., 1., 1.],\n",
              "        [1., 1., 0., 0., 0., 0., 1., 1.],\n",
              "        [1., 1., 0., 0., 0., 0., 1., 1.],\n",
              "        [1., 1., 0., 0., 0., 0., 1., 1.],\n",
              "        [1., 1., 0., 0., 0., 0., 1., 1.]])"
            ]
          },
          "metadata": {
            "tags": []
          },
          "execution_count": 3
        }
      ]
    },
    {
      "cell_type": "markdown",
      "metadata": {
        "id": "863GoP0Ph3k0"
      },
      "source": [
        "Now we apply a vertical edge detector. It fires on the 1-0 and 0-1 boundaries."
      ]
    },
    {
      "cell_type": "code",
      "metadata": {
        "colab": {
          "base_uri": "https://localhost:8080/"
        },
        "id": "rCG4tYnxh5l1",
        "outputId": "501077e0-51ee-46f5-d977-4515ced8bbea"
      },
      "source": [
        "K = torch.tensor([[1.0, -1.0]])\n",
        "Y = corr2d(X, K)\n",
        "print(Y)\n"
      ],
      "execution_count": 4,
      "outputs": [
        {
          "output_type": "stream",
          "text": [
            "tensor([[ 0.,  1.,  0.,  0.,  0., -1.,  0.],\n",
            "        [ 0.,  1.,  0.,  0.,  0., -1.,  0.],\n",
            "        [ 0.,  1.,  0.,  0.,  0., -1.,  0.],\n",
            "        [ 0.,  1.,  0.,  0.,  0., -1.,  0.],\n",
            "        [ 0.,  1.,  0.,  0.,  0., -1.,  0.],\n",
            "        [ 0.,  1.,  0.,  0.,  0., -1.,  0.]])\n"
          ],
          "name": "stdout"
        }
      ]
    },
    {
      "cell_type": "markdown",
      "metadata": {
        "id": "-pwo2mn2iENa"
      },
      "source": [
        "It fails to detect horizontal edges."
      ]
    },
    {
      "cell_type": "code",
      "metadata": {
        "colab": {
          "base_uri": "https://localhost:8080/"
        },
        "id": "_W6VahQah8ol",
        "outputId": "aa32eb65-c4aa-4e07-d037-713d9a091de4"
      },
      "source": [
        "corr2d(X.t(), K)\n"
      ],
      "execution_count": 5,
      "outputs": [
        {
          "output_type": "execute_result",
          "data": {
            "text/plain": [
              "tensor([[0., 0., 0., 0., 0.],\n",
              "        [0., 0., 0., 0., 0.],\n",
              "        [0., 0., 0., 0., 0.],\n",
              "        [0., 0., 0., 0., 0.],\n",
              "        [0., 0., 0., 0., 0.],\n",
              "        [0., 0., 0., 0., 0.],\n",
              "        [0., 0., 0., 0., 0.],\n",
              "        [0., 0., 0., 0., 0.]])"
            ]
          },
          "metadata": {
            "tags": []
          },
          "execution_count": 5
        }
      ]
    },
    {
      "cell_type": "markdown",
      "metadata": {
        "id": "kAktYXtl6ccn"
      },
      "source": [
        "# Convolution as matrix multiplication"
      ]
    },
    {
      "cell_type": "code",
      "metadata": {
        "id": "tavm4P4w6g5c",
        "colab": {
          "base_uri": "https://localhost:8080/"
        },
        "outputId": "eb6dfaab-4215-4ec9-c08c-d7ecac85e4e9"
      },
      "source": [
        "\n",
        "#K = torch.tensor([[0, 1], [2, 3]])\n",
        "K = torch.tensor([[1,2], [3, 4]])\n",
        "\n",
        "print(K)\n",
        "\n",
        "def kernel2matrix(K):\n",
        "    k, W = torch.zeros(5), torch.zeros((4, 9))\n",
        "    k[:2], k[3:5] = K[0, :], K[1, :]\n",
        "    W[0, :5], W[1, 1:6], W[2, 3:8], W[3, 4:] = k, k, k, k\n",
        "    return W\n",
        "\n",
        "W = kernel2matrix(K)\n",
        "print(W)\n"
      ],
      "execution_count": 6,
      "outputs": [
        {
          "output_type": "stream",
          "text": [
            "tensor([[1, 2],\n",
            "        [3, 4]])\n",
            "tensor([[1., 2., 0., 3., 4., 0., 0., 0., 0.],\n",
            "        [0., 1., 2., 0., 3., 4., 0., 0., 0.],\n",
            "        [0., 0., 0., 1., 2., 0., 3., 4., 0.],\n",
            "        [0., 0., 0., 0., 1., 2., 0., 3., 4.]])\n"
          ],
          "name": "stdout"
        }
      ]
    },
    {
      "cell_type": "code",
      "metadata": {
        "id": "DVNXaA8_6jJy",
        "colab": {
          "base_uri": "https://localhost:8080/"
        },
        "outputId": "aea7e84c-ff91-420d-d66d-85d08bda90a6"
      },
      "source": [
        "X = torch.arange(9.0).reshape(3, 3)\n",
        "Y = corr2d(X, K)\n",
        "print(Y)\n",
        "\n",
        "Y2 = torch.mv(W, X.reshape(-1)).reshape(2, 2)\n",
        "assert np.allclose(Y, Y2)"
      ],
      "execution_count": 7,
      "outputs": [
        {
          "output_type": "stream",
          "text": [
            "tensor([[27., 37.],\n",
            "        [57., 67.]])\n"
          ],
          "name": "stdout"
        }
      ]
    },
    {
      "cell_type": "markdown",
      "metadata": {
        "id": "_yhq_TwCiMy5"
      },
      "source": [
        "# Optimizing the kernel parameters"
      ]
    },
    {
      "cell_type": "markdown",
      "metadata": {
        "id": "RPRFUokDiPT7"
      },
      "source": [
        "Let's learn a kernel to match the output  of our manual edge detector."
      ]
    },
    {
      "cell_type": "code",
      "metadata": {
        "colab": {
          "base_uri": "https://localhost:8080/"
        },
        "id": "DvFbhb9liU-t",
        "outputId": "99ad3bd3-2e47-4710-f06a-1b16bc3d4e41"
      },
      "source": [
        "# Construct a two-dimensional convolutional layer with 1 output channel and a\n",
        "# kernel of shape (1, 2). For the sake of simplicity, we ignore the bias here\n",
        "conv2d = nn.Conv2d(1, 1, kernel_size=(1, 2), bias=False)\n",
        "\n",
        "# The two-dimensional convolutional layer uses four-dimensional input and\n",
        "# output in the format of (example channel, height, width), where the batch\n",
        "# size (number of examples in the batch) and the number of channels are both 1\n",
        "# Defining X and Y again.\n",
        "X = torch.ones((6, 8))\n",
        "X[:, 2:6] = 0\n",
        "\n",
        "K = torch.tensor([[1.0, -1.0]])\n",
        "Y = corr2d(X, K)\n",
        "\n",
        "X = X.reshape((1, 1, 6, 8))\n",
        "Y = Y.reshape((1, 1, 6, 7))\n",
        "\n",
        "for i in range(10):\n",
        "    Y_hat = conv2d(X)\n",
        "    l = (Y_hat - Y)**2\n",
        "    conv2d.zero_grad()\n",
        "    l.sum().backward()\n",
        "    # Update the kernel\n",
        "    conv2d.weight.data[:] -= 3e-2 * conv2d.weight.grad\n",
        "    if (i + 1) % 2 == 0:\n",
        "        print(f'batch {i + 1}, loss {l.sum():.3f}')\n",
        "\n",
        "print(conv2d.weight.data.reshape((1, 2)))"
      ],
      "execution_count": 8,
      "outputs": [
        {
          "output_type": "stream",
          "text": [
            "batch 2, loss 12.626\n",
            "batch 4, loss 2.939\n",
            "batch 6, loss 0.829\n",
            "batch 8, loss 0.277\n",
            "batch 10, loss 0.103\n",
            "tensor([[ 1.0161, -0.9523]])\n"
          ],
          "name": "stdout"
        }
      ]
    },
    {
      "cell_type": "markdown",
      "metadata": {
        "id": "vTNJUuYn27Kv"
      },
      "source": [
        "# Multiple input channels\n",
        "\n",
        "<img src=\"https://github.com/probml/pyprobml/blob/master/images/d2l-conv-multi-in.png?raw=true\" height=200>"
      ]
    },
    {
      "cell_type": "code",
      "metadata": {
        "id": "eDrYMCE6M3IB"
      },
      "source": [
        "def corr2d(X, K):\n",
        "    \"\"\"Compute 2D cross-correlation.\"\"\"\n",
        "    h, w = K.shape\n",
        "    Y = torch.zeros((X.shape[0] - h + 1, X.shape[1] - w + 1))\n",
        "    for i in range(Y.shape[0]):\n",
        "        for j in range(Y.shape[1]):\n",
        "            Y[i, j] = torch.sum((X[i:i + h, j:j + w] * K))\n",
        "    return Y"
      ],
      "execution_count": 9,
      "outputs": []
    },
    {
      "cell_type": "code",
      "metadata": {
        "colab": {
          "base_uri": "https://localhost:8080/"
        },
        "id": "Wlz4Um7b28iM",
        "outputId": "8ef255ae-9e6c-4143-9e4d-40178f4a5e0e"
      },
      "source": [
        "def corr2d_multi_in(X, K):\n",
        "    # First, iterate through the 0th dimension (channel dimension) of `X` and\n",
        "    # `K`. Then, add them together\n",
        "    return sum(corr2d(x, k) for x, k in zip(X, K))\n",
        "\n",
        "X = torch.tensor([[[0.0, 1.0, 2.0], [3.0, 4.0, 5.0], [6.0, 7.0, 8.0]],\n",
        "                  [[1.0, 2.0, 3.0], [4.0, 5.0, 6.0], [7.0, 8.0, 9.0]]])\n",
        "K = torch.tensor([[[0.0, 1.0], [2.0, 3.0]], [[1.0, 2.0], [3.0, 4.0]]])\n",
        "\n",
        "print(X.shape) # 2 channels, each 3x3\n",
        "print(K.shape) # 2 sets of 2x2 filters\n",
        "out = corr2d_multi_in(X, K)\n",
        "print(out.shape)\n",
        "print(out)"
      ],
      "execution_count": 10,
      "outputs": [
        {
          "output_type": "stream",
          "text": [
            "torch.Size([2, 3, 3])\n",
            "torch.Size([2, 2, 2])\n",
            "torch.Size([2, 2])\n",
            "tensor([[ 56.,  72.],\n",
            "        [104., 120.]])\n"
          ],
          "name": "stdout"
        }
      ]
    },
    {
      "cell_type": "markdown",
      "metadata": {
        "id": "z6FlFthE47Zy"
      },
      "source": [
        "# Multiple output channels"
      ]
    },
    {
      "cell_type": "code",
      "metadata": {
        "colab": {
          "base_uri": "https://localhost:8080/"
        },
        "id": "EYIeq6s13FHf",
        "outputId": "5fdd4479-cf8d-46d1-dbc8-31ff5798c974"
      },
      "source": [
        "def corr2d_multi_in_out(X, K):\n",
        "    # Iterate through the 0th dimension of `K`, and each time, perform\n",
        "    # cross-correlation operations with input `X`. All of the results are\n",
        "    # stacked together\n",
        "    return torch.stack([corr2d_multi_in(X, k) for k in K], 0)\n",
        "\n",
        "K = torch.stack((K, K + 1, K + 2), 0)\n",
        "print(K.shape)\n",
        "out = corr2d_multi_in_out(X, K)\n",
        "print(out.shape)\n"
      ],
      "execution_count": 11,
      "outputs": [
        {
          "output_type": "stream",
          "text": [
            "torch.Size([3, 2, 2, 2])\n",
            "torch.Size([3, 2, 2])\n"
          ],
          "name": "stdout"
        }
      ]
    },
    {
      "cell_type": "markdown",
      "metadata": {
        "id": "J55ZIGJR5rZK"
      },
      "source": [
        "# 1x1 convolution"
      ]
    },
    {
      "cell_type": "code",
      "metadata": {
        "colab": {
          "base_uri": "https://localhost:8080/"
        },
        "id": "-ID1SeI55EaU",
        "outputId": "f54dba3b-2b9f-47d8-899e-2eba6f1842e7"
      },
      "source": [
        "# 1x1 conv is same as multiplying each feature column at each pixel\n",
        "# by a fully connected matrix\n",
        "def corr2d_multi_in_out_1x1(X, K):\n",
        "    c_i, h, w = X.shape\n",
        "    c_o = K.shape[0]\n",
        "    X = X.reshape((c_i, h * w))\n",
        "    K = K.reshape((c_o, c_i))\n",
        "    Y = torch.matmul(K,\n",
        "                     X)  # Matrix multiplication in the fully-connected layer\n",
        "    return Y.reshape((c_o, h, w))\n",
        "\n",
        "X = torch.normal(0, 1, (3, 3, 3)) # 3 channels per pixel\n",
        "K = torch.normal(0, 1, (2, 3, 1, 1)) # map from 3 channels to 2\n",
        "\n",
        "Y1 = corr2d_multi_in_out_1x1(X, K)\n",
        "Y2 = corr2d_multi_in_out(X, K)\n",
        "print(Y2.shape)\n",
        "assert float(torch.abs(Y1 - Y2).sum()) < 1e-6"
      ],
      "execution_count": 12,
      "outputs": [
        {
          "output_type": "stream",
          "text": [
            "torch.Size([2, 3, 3])\n"
          ],
          "name": "stdout"
        }
      ]
    },
    {
      "cell_type": "markdown",
      "metadata": {
        "id": "7ZOVZR4R6xEB"
      },
      "source": [
        "# Pooling"
      ]
    },
    {
      "cell_type": "code",
      "metadata": {
        "id": "IgoSzfYo6x74"
      },
      "source": [
        "def pool2d(X, pool_size, mode='max'):\n",
        "    p_h, p_w = pool_size\n",
        "    Y = torch.zeros((X.shape[0] - p_h + 1, X.shape[1] - p_w + 1))\n",
        "    for i in range(Y.shape[0]):\n",
        "        for j in range(Y.shape[1]):\n",
        "            if mode == 'max':\n",
        "                Y[i, j] = X[i:i + p_h, j:j + p_w].max()\n",
        "            elif mode == 'avg':\n",
        "                Y[i, j] = X[i:i + p_h, j:j + p_w].mean()\n",
        "    return Y\n",
        "  "
      ],
      "execution_count": 13,
      "outputs": []
    },
    {
      "cell_type": "code",
      "metadata": {
        "colab": {
          "base_uri": "https://localhost:8080/"
        },
        "id": "S7QLazAI62na",
        "outputId": "027535d9-e11f-48c4-b454-cd47da80b3a4"
      },
      "source": [
        "#X = torch.arange(16, dtype=torch.float32).reshape((1, 1, 4, 4))\n",
        "X = torch.arange(16, dtype=torch.float32).reshape((4, 4))\n",
        "print(X)\n",
        "print(X.shape)\n",
        "print(pool2d(X, (3, 3), 'max'))\n"
      ],
      "execution_count": 14,
      "outputs": [
        {
          "output_type": "stream",
          "text": [
            "tensor([[ 0.,  1.,  2.,  3.],\n",
            "        [ 4.,  5.,  6.,  7.],\n",
            "        [ 8.,  9., 10., 11.],\n",
            "        [12., 13., 14., 15.]])\n",
            "torch.Size([4, 4])\n",
            "tensor([[10., 11.],\n",
            "        [14., 15.]])\n"
          ],
          "name": "stdout"
        }
      ]
    },
    {
      "cell_type": "code",
      "metadata": {
        "colab": {
          "base_uri": "https://localhost:8080/"
        },
        "id": "naun3ed-6_H_",
        "outputId": "f51b9163-df8b-4023-bed6-e53dc7b486e7"
      },
      "source": [
        "X = torch.arange(16, dtype=torch.float32).reshape((1, 1, 4, 4))\n",
        "pool2d = nn.MaxPool2d(3, padding=0, stride=1)\n",
        "print(pool2d(X))\n"
      ],
      "execution_count": 15,
      "outputs": [
        {
          "output_type": "stream",
          "text": [
            "tensor([[[[10., 11.],\n",
            "          [14., 15.]]]])\n"
          ],
          "name": "stdout"
        }
      ]
    },
    {
      "cell_type": "code",
      "metadata": {
        "id": "hzknEhSzNF2m"
      },
      "source": [
        ""
      ],
      "execution_count": null,
      "outputs": []
    }
  ]
}
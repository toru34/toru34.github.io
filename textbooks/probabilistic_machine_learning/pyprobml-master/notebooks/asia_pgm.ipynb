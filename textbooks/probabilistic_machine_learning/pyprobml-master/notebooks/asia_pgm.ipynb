{
  "nbformat": 4,
  "nbformat_minor": 0,
  "metadata": {
    "colab": {
      "name": "asia_pgm.ipynb",
      "provenance": [],
      "toc_visible": true,
      "authorship_tag": "ABX9TyPYiDAlow9ORGDzTiT1Agb+",
      "include_colab_link": true
    },
    "kernelspec": {
      "name": "python3",
      "display_name": "Python 3"
    },
    "language_info": {
      "name": "python"
    }
  },
  "cells": [
    {
      "cell_type": "markdown",
      "metadata": {
        "id": "view-in-github",
        "colab_type": "text"
      },
      "source": [
        "<a href=\"https://colab.research.google.com/github/probml/pyprobml/blob/master/notebooks/asia_pgm.ipynb\" target=\"_parent\"><img src=\"https://colab.research.google.com/assets/colab-badge.svg\" alt=\"Open In Colab\"/></a>"
      ]
    },
    {
      "cell_type": "markdown",
      "metadata": {
        "id": "caeOoFYBb5p2"
      },
      "source": [
        "# The \"Asia\"  graphical model\n",
        "\n",
        "We illustrate inference in the \"Asia\" medical diagnosis network.\n",
        "Network is from http://www.bnlearn.com/bnrepository/#asia.\n"
      ]
    },
    {
      "cell_type": "code",
      "metadata": {
        "id": "C-zM-WQZFMzv",
        "outputId": "445781c6-0c9d-44b1-d729-d10cf7aa34a7",
        "colab": {
          "base_uri": "https://localhost:8080/"
        }
      },
      "source": [
        "!pip install -q causalgraphicalmodels\n",
        "!pip install -q pgmpy\n",
        "\n",
        "!wget -q https://raw.githubusercontent.com/probml/pyprobml/master/scripts/pyprobml_utils.py\n",
        "!wget -q https://raw.githubusercontent.com/probml/pyprobml/master/scripts/pgmpy_utils.py\n",
        "import pyprobml_utils as pml\n",
        "import pgmpy_utils as pgm\n",
        "\n",
        "import numpy as np\n",
        "import matplotlib.pyplot as plt"
      ],
      "execution_count": 1,
      "outputs": [
        {
          "output_type": "stream",
          "text": [
            "\u001b[?25l\r\u001b[K     |█                               | 10kB 18.7MB/s eta 0:00:01\r\u001b[K     |██                              | 20kB 7.6MB/s eta 0:00:01\r\u001b[K     |███                             | 30kB 4.4MB/s eta 0:00:01\r\u001b[K     |████                            | 40kB 4.0MB/s eta 0:00:01\r\u001b[K     |█████                           | 51kB 2.1MB/s eta 0:00:01\r\u001b[K     |██████                          | 61kB 2.3MB/s eta 0:00:01\r\u001b[K     |███████                         | 71kB 2.5MB/s eta 0:00:01\r\u001b[K     |████████                        | 81kB 2.7MB/s eta 0:00:01\r\u001b[K     |█████████                       | 92kB 2.8MB/s eta 0:00:01\r\u001b[K     |█████████▉                      | 102kB 2.9MB/s eta 0:00:01\r\u001b[K     |██████████▉                     | 112kB 2.9MB/s eta 0:00:01\r\u001b[K     |███████████▉                    | 122kB 2.9MB/s eta 0:00:01\r\u001b[K     |████████████▉                   | 133kB 2.9MB/s eta 0:00:01\r\u001b[K     |█████████████▉                  | 143kB 2.9MB/s eta 0:00:01\r\u001b[K     |██████████████▉                 | 153kB 2.9MB/s eta 0:00:01\r\u001b[K     |███████████████▉                | 163kB 2.9MB/s eta 0:00:01\r\u001b[K     |████████████████▉               | 174kB 2.9MB/s eta 0:00:01\r\u001b[K     |█████████████████▉              | 184kB 2.9MB/s eta 0:00:01\r\u001b[K     |██████████████████▉             | 194kB 2.9MB/s eta 0:00:01\r\u001b[K     |███████████████████▊            | 204kB 2.9MB/s eta 0:00:01\r\u001b[K     |████████████████████▊           | 215kB 2.9MB/s eta 0:00:01\r\u001b[K     |█████████████████████▊          | 225kB 2.9MB/s eta 0:00:01\r\u001b[K     |██████████████████████▊         | 235kB 2.9MB/s eta 0:00:01\r\u001b[K     |███████████████████████▊        | 245kB 2.9MB/s eta 0:00:01\r\u001b[K     |████████████████████████▊       | 256kB 2.9MB/s eta 0:00:01\r\u001b[K     |█████████████████████████▊      | 266kB 2.9MB/s eta 0:00:01\r\u001b[K     |██████████████████████████▊     | 276kB 2.9MB/s eta 0:00:01\r\u001b[K     |███████████████████████████▊    | 286kB 2.9MB/s eta 0:00:01\r\u001b[K     |████████████████████████████▊   | 296kB 2.9MB/s eta 0:00:01\r\u001b[K     |█████████████████████████████▋  | 307kB 2.9MB/s eta 0:00:01\r\u001b[K     |██████████████████████████████▋ | 317kB 2.9MB/s eta 0:00:01\r\u001b[K     |███████████████████████████████▋| 327kB 2.9MB/s eta 0:00:01\r\u001b[K     |████████████████████████████████| 337kB 2.9MB/s \n",
            "\u001b[?25h"
          ],
          "name": "stdout"
        }
      ]
    },
    {
      "cell_type": "code",
      "metadata": {
        "id": "Go1UPp8eMIyC"
      },
      "source": [
        "from causalgraphicalmodels import CausalGraphicalModel\n",
        "import pgmpy\n",
        "import numpy as np\n",
        "import pandas as pd\n",
        "from graphviz import Digraph\n",
        "\n",
        "import pgmpy_utils as pgm # from pyprobml\n"
      ],
      "execution_count": 3,
      "outputs": []
    },
    {
      "cell_type": "markdown",
      "metadata": {
        "id": "u_-A-Hai4LbM"
      },
      "source": [
        "# Model"
      ]
    },
    {
      "cell_type": "code",
      "metadata": {
        "id": "Il1OHrxj3e8Y"
      },
      "source": [
        "#from pgmpy.utils import get_example_model\n",
        "#asia = get_example_model('asia')\n",
        "# No such file or directory: 'pgmpy/utils/example_models/asia.bif.gz'"
      ],
      "execution_count": null,
      "outputs": []
    },
    {
      "cell_type": "code",
      "metadata": {
        "id": "OGsv1dt81oyI"
      },
      "source": [
        "#!wget https://raw.githubusercontent.com/d2l-ai/d2l-en/master/d2l/torch.py -q -O d2l.py\n",
        "\n",
        "!wget https://www.bnlearn.com/bnrepository/asia/asia.bif.gz -q -O asia.bif.gz\n",
        "!gunzip asia.bif.gz"
      ],
      "execution_count": 4,
      "outputs": []
    },
    {
      "cell_type": "code",
      "metadata": {
        "id": "l8xzIiLr0En0",
        "colab": {
          "base_uri": "https://localhost:8080/"
        },
        "outputId": "d52ec9c4-d117-4f08-c322-d10548fe583a"
      },
      "source": [
        "\n",
        "from pgmpy.readwrite import BIFReader, BIFWriter\n",
        "reader = BIFReader(\"asia.bif\")\n",
        "model = reader.get_model()\n",
        "\n",
        "print(\"Nodes: \", model.nodes())\n",
        "print(\"Edges: \", model.edges())\n",
        "model.get_cpds()"
      ],
      "execution_count": 5,
      "outputs": [
        {
          "output_type": "stream",
          "text": [
            "Nodes:  ['asia', 'tub', 'smoke', 'lung', 'bronc', 'either', 'xray', 'dysp']\n",
            "Edges:  [('asia', 'tub'), ('tub', 'either'), ('smoke', 'lung'), ('smoke', 'bronc'), ('lung', 'either'), ('bronc', 'dysp'), ('either', 'xray'), ('either', 'dysp')]\n"
          ],
          "name": "stdout"
        },
        {
          "output_type": "execute_result",
          "data": {
            "text/plain": [
              "[<TabularCPD representing P(asia:2) at 0x7fa3a8c79090>,\n",
              " <TabularCPD representing P(bronc:2 | smoke:2) at 0x7fa3ac547d50>,\n",
              " <TabularCPD representing P(dysp:2 | bronc:2, either:2) at 0x7fa3a8c6ff10>,\n",
              " <TabularCPD representing P(either:2 | lung:2, tub:2) at 0x7fa3a8c7fd90>,\n",
              " <TabularCPD representing P(lung:2 | smoke:2) at 0x7fa3a8c7f350>,\n",
              " <TabularCPD representing P(smoke:2) at 0x7fa3a8c7f210>,\n",
              " <TabularCPD representing P(tub:2 | asia:2) at 0x7fa3a8c7f1d0>,\n",
              " <TabularCPD representing P(xray:2 | either:2) at 0x7fa3a8c7f7d0>]"
            ]
          },
          "metadata": {
            "tags": []
          },
          "execution_count": 5
        }
      ]
    },
    {
      "cell_type": "code",
      "metadata": {
        "colab": {
          "base_uri": "https://localhost:8080/"
        },
        "id": "d1GFKz5t5kxA",
        "outputId": "ea314557-c811-4b92-8cc8-06d521e37f30"
      },
      "source": [
        "for c in model.get_cpds():\n",
        "  print(c)"
      ],
      "execution_count": 6,
      "outputs": [
        {
          "output_type": "stream",
          "text": [
            "+-----------+------+\n",
            "| asia(yes) | 0.01 |\n",
            "+-----------+------+\n",
            "| asia(no)  | 0.99 |\n",
            "+-----------+------+\n",
            "+------------+------------+-----------+\n",
            "| smoke      | smoke(yes) | smoke(no) |\n",
            "+------------+------------+-----------+\n",
            "| bronc(yes) | 0.6        | 0.3       |\n",
            "+------------+------------+-----------+\n",
            "| bronc(no)  | 0.4        | 0.7       |\n",
            "+------------+------------+-----------+\n",
            "+-----------+-------------+------------+-------------+------------+\n",
            "| bronc     | bronc(yes)  | bronc(yes) | bronc(no)   | bronc(no)  |\n",
            "+-----------+-------------+------------+-------------+------------+\n",
            "| either    | either(yes) | either(no) | either(yes) | either(no) |\n",
            "+-----------+-------------+------------+-------------+------------+\n",
            "| dysp(yes) | 0.9         | 0.8        | 0.7         | 0.1        |\n",
            "+-----------+-------------+------------+-------------+------------+\n",
            "| dysp(no)  | 0.1         | 0.2        | 0.3         | 0.9        |\n",
            "+-----------+-------------+------------+-------------+------------+\n",
            "+-------------+-----------+-----------+----------+----------+\n",
            "| lung        | lung(yes) | lung(yes) | lung(no) | lung(no) |\n",
            "+-------------+-----------+-----------+----------+----------+\n",
            "| tub         | tub(yes)  | tub(no)   | tub(yes) | tub(no)  |\n",
            "+-------------+-----------+-----------+----------+----------+\n",
            "| either(yes) | 1.0       | 1.0       | 1.0      | 0.0      |\n",
            "+-------------+-----------+-----------+----------+----------+\n",
            "| either(no)  | 0.0       | 0.0       | 0.0      | 1.0      |\n",
            "+-------------+-----------+-----------+----------+----------+\n",
            "+-----------+------------+-----------+\n",
            "| smoke     | smoke(yes) | smoke(no) |\n",
            "+-----------+------------+-----------+\n",
            "| lung(yes) | 0.1        | 0.01      |\n",
            "+-----------+------------+-----------+\n",
            "| lung(no)  | 0.9        | 0.99      |\n",
            "+-----------+------------+-----------+\n",
            "+------------+-----+\n",
            "| smoke(yes) | 0.5 |\n",
            "+------------+-----+\n",
            "| smoke(no)  | 0.5 |\n",
            "+------------+-----+\n",
            "+----------+-----------+----------+\n",
            "| asia     | asia(yes) | asia(no) |\n",
            "+----------+-----------+----------+\n",
            "| tub(yes) | 0.05      | 0.01     |\n",
            "+----------+-----------+----------+\n",
            "| tub(no)  | 0.95      | 0.99     |\n",
            "+----------+-----------+----------+\n",
            "+-----------+-------------+------------+\n",
            "| either    | either(yes) | either(no) |\n",
            "+-----------+-------------+------------+\n",
            "| xray(yes) | 0.98        | 0.05       |\n",
            "+-----------+-------------+------------+\n",
            "| xray(no)  | 0.02        | 0.95       |\n",
            "+-----------+-------------+------------+\n"
          ],
          "name": "stdout"
        }
      ]
    },
    {
      "cell_type": "code",
      "metadata": {
        "colab": {
          "base_uri": "https://localhost:8080/"
        },
        "id": "8jzeJCpE50kw",
        "outputId": "771fdaed-4d31-4a21-ac65-293061bf0472"
      },
      "source": [
        "asia_cpd = model.get_cpds('asia')\n",
        "print(asia_cpd)\n",
        "print(asia_cpd.values)\n",
        "\n"
      ],
      "execution_count": 7,
      "outputs": [
        {
          "output_type": "stream",
          "text": [
            "+-----------+------+\n",
            "| asia(yes) | 0.01 |\n",
            "+-----------+------+\n",
            "| asia(no)  | 0.99 |\n",
            "+-----------+------+\n",
            "[0.01 0.99]\n"
          ],
          "name": "stdout"
        }
      ]
    },
    {
      "cell_type": "code",
      "metadata": {
        "colab": {
          "base_uri": "https://localhost:8080/"
        },
        "id": "VDNdkr0_6TsN",
        "outputId": "28e96aff-e08a-495e-b66c-8822c31badba"
      },
      "source": [
        "smoking_cpd = model.get_cpds()[5]\n",
        "print(smoking_cpd)\n",
        "print(smoking_cpd.values)\n",
        "smoking_prior_true = smoking_cpd.values[1]"
      ],
      "execution_count": 8,
      "outputs": [
        {
          "output_type": "stream",
          "text": [
            "+------------+-----+\n",
            "| smoke(yes) | 0.5 |\n",
            "+------------+-----+\n",
            "| smoke(no)  | 0.5 |\n",
            "+------------+-----+\n",
            "[0.5 0.5]\n"
          ],
          "name": "stdout"
        }
      ]
    },
    {
      "cell_type": "code",
      "metadata": {
        "id": "K8gIy5Bk2XJR",
        "colab": {
          "base_uri": "https://localhost:8080/",
          "height": 385
        },
        "outputId": "46b7790f-8a18-462a-a0e1-65f7bf5fd3aa"
      },
      "source": [
        "asia = CausalGraphicalModel(nodes = model.nodes(), edges=model.edges())\n",
        "\n",
        "out = asia.draw()\n",
        "display(out)\n",
        "out.render()"
      ],
      "execution_count": 10,
      "outputs": [
        {
          "output_type": "display_data",
          "data": {
            "text/plain": [
              "<graphviz.dot.Digraph at 0x7fa3a8c29490>"
            ],
            "image/svg+xml": "<?xml version=\"1.0\" encoding=\"UTF-8\" standalone=\"no\"?>\n<!DOCTYPE svg PUBLIC \"-//W3C//DTD SVG 1.1//EN\"\n \"http://www.w3.org/Graphics/SVG/1.1/DTD/svg11.dtd\">\n<!-- Generated by graphviz version 2.40.1 (20161225.0304)\n -->\n<!-- Title: %3 Pages: 1 -->\n<svg width=\"196pt\" height=\"260pt\"\n viewBox=\"0.00 0.00 196.50 260.00\" xmlns=\"http://www.w3.org/2000/svg\" xmlns:xlink=\"http://www.w3.org/1999/xlink\">\n<g id=\"graph0\" class=\"graph\" transform=\"scale(1 1) rotate(0) translate(4 256)\">\n<title>%3</title>\n<polygon fill=\"#ffffff\" stroke=\"transparent\" points=\"-4,4 -4,-256 192.4971,-256 192.4971,4 -4,4\"/>\n<!-- dysp -->\n<g id=\"node1\" class=\"node\">\n<title>dysp</title>\n<ellipse fill=\"none\" stroke=\"#000000\" cx=\"36.4971\" cy=\"-18\" rx=\"28.6953\" ry=\"18\"/>\n<text text-anchor=\"middle\" x=\"36.4971\" y=\"-14.3\" font-family=\"Times,serif\" font-size=\"14.00\" fill=\"#000000\">dysp</text>\n</g>\n<!-- asia -->\n<g id=\"node2\" class=\"node\">\n<title>asia</title>\n<ellipse fill=\"none\" stroke=\"#000000\" cx=\"161.4971\" cy=\"-234\" rx=\"27\" ry=\"18\"/>\n<text text-anchor=\"middle\" x=\"161.4971\" y=\"-230.3\" font-family=\"Times,serif\" font-size=\"14.00\" fill=\"#000000\">asia</text>\n</g>\n<!-- tub -->\n<g id=\"node7\" class=\"node\">\n<title>tub</title>\n<ellipse fill=\"none\" stroke=\"#000000\" cx=\"161.4971\" cy=\"-162\" rx=\"27\" ry=\"18\"/>\n<text text-anchor=\"middle\" x=\"161.4971\" y=\"-158.3\" font-family=\"Times,serif\" font-size=\"14.00\" fill=\"#000000\">tub</text>\n</g>\n<!-- asia&#45;&gt;tub -->\n<g id=\"edge1\" class=\"edge\">\n<title>asia&#45;&gt;tub</title>\n<path fill=\"none\" stroke=\"#000000\" d=\"M161.4971,-215.8314C161.4971,-208.131 161.4971,-198.9743 161.4971,-190.4166\"/>\n<polygon fill=\"#000000\" stroke=\"#000000\" points=\"164.9972,-190.4132 161.4971,-180.4133 157.9972,-190.4133 164.9972,-190.4132\"/>\n</g>\n<!-- either -->\n<g id=\"node3\" class=\"node\">\n<title>either</title>\n<ellipse fill=\"none\" stroke=\"#000000\" cx=\"114.4971\" cy=\"-90\" rx=\"31.3957\" ry=\"18\"/>\n<text text-anchor=\"middle\" x=\"114.4971\" y=\"-86.3\" font-family=\"Times,serif\" font-size=\"14.00\" fill=\"#000000\">either</text>\n</g>\n<!-- either&#45;&gt;dysp -->\n<g id=\"edge8\" class=\"edge\">\n<title>either&#45;&gt;dysp</title>\n<path fill=\"none\" stroke=\"#000000\" d=\"M97.9553,-74.7307C87.0236,-64.6398 72.5207,-51.2526 60.3488,-40.0169\"/>\n<polygon fill=\"#000000\" stroke=\"#000000\" points=\"62.4697,-37.2115 52.7476,-33.0004 57.7217,-42.3551 62.4697,-37.2115\"/>\n</g>\n<!-- xray -->\n<g id=\"node8\" class=\"node\">\n<title>xray</title>\n<ellipse fill=\"none\" stroke=\"#000000\" cx=\"114.4971\" cy=\"-18\" rx=\"27.0966\" ry=\"18\"/>\n<text text-anchor=\"middle\" x=\"114.4971\" y=\"-14.3\" font-family=\"Times,serif\" font-size=\"14.00\" fill=\"#000000\">xray</text>\n</g>\n<!-- either&#45;&gt;xray -->\n<g id=\"edge7\" class=\"edge\">\n<title>either&#45;&gt;xray</title>\n<path fill=\"none\" stroke=\"#000000\" d=\"M114.4971,-71.8314C114.4971,-64.131 114.4971,-54.9743 114.4971,-46.4166\"/>\n<polygon fill=\"#000000\" stroke=\"#000000\" points=\"117.9972,-46.4132 114.4971,-36.4133 110.9972,-46.4133 117.9972,-46.4132\"/>\n</g>\n<!-- bronc -->\n<g id=\"node4\" class=\"node\">\n<title>bronc</title>\n<ellipse fill=\"none\" stroke=\"#000000\" cx=\"32.4971\" cy=\"-90\" rx=\"32.4942\" ry=\"18\"/>\n<text text-anchor=\"middle\" x=\"32.4971\" y=\"-86.3\" font-family=\"Times,serif\" font-size=\"14.00\" fill=\"#000000\">bronc</text>\n</g>\n<!-- bronc&#45;&gt;dysp -->\n<g id=\"edge6\" class=\"edge\">\n<title>bronc&#45;&gt;dysp</title>\n<path fill=\"none\" stroke=\"#000000\" d=\"M33.5065,-71.8314C33.9343,-64.131 34.443,-54.9743 34.9184,-46.4166\"/>\n<polygon fill=\"#000000\" stroke=\"#000000\" points=\"38.414,-46.592 35.4742,-36.4133 31.4248,-46.2037 38.414,-46.592\"/>\n</g>\n<!-- lung -->\n<g id=\"node5\" class=\"node\">\n<title>lung</title>\n<ellipse fill=\"none\" stroke=\"#000000\" cx=\"88.4971\" cy=\"-162\" rx=\"27.8951\" ry=\"18\"/>\n<text text-anchor=\"middle\" x=\"88.4971\" y=\"-158.3\" font-family=\"Times,serif\" font-size=\"14.00\" fill=\"#000000\">lung</text>\n</g>\n<!-- lung&#45;&gt;either -->\n<g id=\"edge5\" class=\"edge\">\n<title>lung&#45;&gt;either</title>\n<path fill=\"none\" stroke=\"#000000\" d=\"M94.9241,-144.2022C97.8304,-136.1541 101.3314,-126.4588 104.5642,-117.5067\"/>\n<polygon fill=\"#000000\" stroke=\"#000000\" points=\"107.9494,-118.4369 108.054,-107.8425 101.3655,-116.0593 107.9494,-118.4369\"/>\n</g>\n<!-- smoke -->\n<g id=\"node6\" class=\"node\">\n<title>smoke</title>\n<ellipse fill=\"none\" stroke=\"#000000\" cx=\"57.4971\" cy=\"-234\" rx=\"35.194\" ry=\"18\"/>\n<text text-anchor=\"middle\" x=\"57.4971\" y=\"-230.3\" font-family=\"Times,serif\" font-size=\"14.00\" fill=\"#000000\">smoke</text>\n</g>\n<!-- smoke&#45;&gt;bronc -->\n<g id=\"edge4\" class=\"edge\">\n<title>smoke&#45;&gt;bronc</title>\n<path fill=\"none\" stroke=\"#000000\" d=\"M54.3814,-216.0535C50.1147,-191.4774 42.4104,-147.1008 37.3751,-118.0974\"/>\n<polygon fill=\"#000000\" stroke=\"#000000\" points=\"40.8111,-117.4266 35.6521,-108.1727 33.9143,-118.624 40.8111,-117.4266\"/>\n</g>\n<!-- smoke&#45;&gt;lung -->\n<g id=\"edge3\" class=\"edge\">\n<title>smoke&#45;&gt;lung</title>\n<path fill=\"none\" stroke=\"#000000\" d=\"M65.16,-216.2022C68.6888,-208.0064 72.953,-198.1024 76.8659,-189.0145\"/>\n<polygon fill=\"#000000\" stroke=\"#000000\" points=\"80.1824,-190.162 80.9223,-179.593 73.753,-187.3938 80.1824,-190.162\"/>\n</g>\n<!-- tub&#45;&gt;either -->\n<g id=\"edge2\" class=\"edge\">\n<title>tub&#45;&gt;either</title>\n<path fill=\"none\" stroke=\"#000000\" d=\"M150.5962,-145.3008C144.8659,-136.5224 137.7166,-125.5703 131.2957,-115.7339\"/>\n<polygon fill=\"#000000\" stroke=\"#000000\" points=\"134.0624,-113.5693 125.6653,-107.1086 128.2007,-117.3956 134.0624,-113.5693\"/>\n</g>\n</g>\n</svg>\n"
          },
          "metadata": {
            "tags": []
          }
        },
        {
          "output_type": "execute_result",
          "data": {
            "application/vnd.google.colaboratory.intrinsic+json": {
              "type": "string"
            },
            "text/plain": [
              "'Digraph.gv.pdf'"
            ]
          },
          "metadata": {
            "tags": []
          },
          "execution_count": 10
        }
      ]
    },
    {
      "cell_type": "code",
      "metadata": {
        "id": "hD1xceNIF7zI",
        "outputId": "18f390c9-ad89-45d8-c4b8-0b6c6a91d537",
        "colab": {
          "base_uri": "https://localhost:8080/",
          "height": 1000
        }
      },
      "source": [
        "\n",
        "dot = pgm.visualize_model(model)\n",
        "display(dot)\n",
        "dot.render('asia_pgm_with_cpt', format='pdf')"
      ],
      "execution_count": 17,
      "outputs": [
        {
          "output_type": "display_data",
          "data": {
            "text/plain": [
              "<graphviz.dot.Digraph at 0x7fa3a8b1c150>"
            ],
            "image/svg+xml": "<?xml version=\"1.0\" encoding=\"UTF-8\" standalone=\"no\"?>\n<!DOCTYPE svg PUBLIC \"-//W3C//DTD SVG 1.1//EN\"\n \"http://www.w3.org/Graphics/SVG/1.1/DTD/svg11.dtd\">\n<!-- Generated by graphviz version 2.40.1 (20161225.0304)\n -->\n<!-- Title: model_ Pages: 1 -->\n<svg width=\"489pt\" height=\"802pt\"\n viewBox=\"0.00 0.00 489.38 801.89\" xmlns=\"http://www.w3.org/2000/svg\" xmlns:xlink=\"http://www.w3.org/1999/xlink\">\n<g id=\"graph0\" class=\"graph\" transform=\"scale(1 1) rotate(0) translate(4 797.8936)\">\n<title>model_</title>\n<polygon fill=\"#ffffff\" stroke=\"transparent\" points=\"-4,4 -4,-797.8936 485.3833,-797.8936 485.3833,4 -4,4\"/>\n<!-- asia -->\n<g id=\"node1\" class=\"node\">\n<title>asia</title>\n<ellipse fill=\"none\" stroke=\"#000000\" cx=\"82.7315\" cy=\"-736.6179\" rx=\"63.7795\" ry=\"57.0522\"/>\n<polygon fill=\"none\" stroke=\"#000000\" points=\"48.7315,-748.6179 48.7315,-769.6179 116.7315,-769.6179 116.7315,-748.6179 48.7315,-748.6179\"/>\n<text text-anchor=\"start\" x=\"68.2315\" y=\"-755.4179\" font-family=\"Times,serif\" font-size=\"14.00\" fill=\"#000000\"> asia </text>\n<polygon fill=\"none\" stroke=\"#000000\" points=\"48.7315,-725.6179 48.7315,-746.6179 81.7315,-746.6179 81.7315,-725.6179 48.7315,-725.6179\"/>\n<text text-anchor=\"start\" x=\"55.7315\" y=\"-732.4179\" font-family=\"Times,serif\" font-size=\"14.00\" fill=\"#000000\">yes</text>\n<polygon fill=\"none\" stroke=\"#000000\" points=\"83.7315,-725.6179 83.7315,-746.6179 116.7315,-746.6179 116.7315,-725.6179 83.7315,-725.6179\"/>\n<text text-anchor=\"start\" x=\"92.2315\" y=\"-732.4179\" font-family=\"Times,serif\" font-size=\"14.00\" fill=\"#000000\">no</text>\n<polygon fill=\"none\" stroke=\"#000000\" points=\"48.7315,-702.6179 48.7315,-723.6179 81.7315,-723.6179 81.7315,-702.6179 48.7315,-702.6179\"/>\n<text text-anchor=\"start\" x=\"51.7315\" y=\"-709.4179\" font-family=\"Times,serif\" font-size=\"14.00\" fill=\"#000000\">0.01</text>\n<polygon fill=\"none\" stroke=\"#000000\" points=\"83.7315,-702.6179 83.7315,-723.6179 116.7315,-723.6179 116.7315,-702.6179 83.7315,-702.6179\"/>\n<text text-anchor=\"start\" x=\"86.7315\" y=\"-709.4179\" font-family=\"Times,serif\" font-size=\"14.00\" fill=\"#000000\">0.99</text>\n<polygon fill=\"none\" stroke=\"#000000\" points=\"45.7315,-700.1179 45.7315,-773.1179 119.7315,-773.1179 119.7315,-700.1179 45.7315,-700.1179\"/>\n</g>\n<!-- tub -->\n<g id=\"node7\" class=\"node\">\n<title>tub</title>\n<ellipse fill=\"none\" stroke=\"#000000\" cx=\"82.7315\" cy=\"-569.8032\" rx=\"82.9636\" ry=\"73.5782\"/>\n<polygon fill=\"none\" stroke=\"#000000\" points=\"35.7315,-593.8032 35.7315,-614.8032 130.7315,-614.8032 130.7315,-593.8032 35.7315,-593.8032\"/>\n<text text-anchor=\"start\" x=\"69.7315\" y=\"-600.6032\" font-family=\"Times,serif\" font-size=\"14.00\" fill=\"#000000\"> tub </text>\n<polygon fill=\"none\" stroke=\"#000000\" points=\"35.7315,-570.8032 35.7315,-591.8032 60.7315,-591.8032 60.7315,-570.8032 35.7315,-570.8032\"/>\n<text text-anchor=\"start\" x=\"46.2315\" y=\"-577.6032\" font-family=\"Times,serif\" font-size=\"14.00\" fill=\"#000000\"> </text>\n<polygon fill=\"none\" stroke=\"#000000\" points=\"62.7315,-570.8032 62.7315,-591.8032 95.7315,-591.8032 95.7315,-570.8032 62.7315,-570.8032\"/>\n<text text-anchor=\"start\" x=\"69.7315\" y=\"-577.6032\" font-family=\"Times,serif\" font-size=\"14.00\" fill=\"#000000\">yes</text>\n<polygon fill=\"none\" stroke=\"#000000\" points=\"97.7315,-570.8032 97.7315,-591.8032 130.7315,-591.8032 130.7315,-570.8032 97.7315,-570.8032\"/>\n<text text-anchor=\"start\" x=\"106.2315\" y=\"-577.6032\" font-family=\"Times,serif\" font-size=\"14.00\" fill=\"#000000\">no</text>\n<polygon fill=\"none\" stroke=\"#000000\" points=\"35.7315,-547.8032 35.7315,-568.8032 60.7315,-568.8032 60.7315,-547.8032 35.7315,-547.8032\"/>\n<text text-anchor=\"start\" x=\"38.7315\" y=\"-554.6032\" font-family=\"Times,serif\" font-size=\"14.00\" fill=\"#000000\">yes</text>\n<polygon fill=\"none\" stroke=\"#000000\" points=\"62.7315,-547.8032 62.7315,-568.8032 95.7315,-568.8032 95.7315,-547.8032 62.7315,-547.8032\"/>\n<text text-anchor=\"start\" x=\"65.7315\" y=\"-554.6032\" font-family=\"Times,serif\" font-size=\"14.00\" fill=\"#000000\">0.05</text>\n<polygon fill=\"none\" stroke=\"#000000\" points=\"97.7315,-547.8032 97.7315,-568.8032 130.7315,-568.8032 130.7315,-547.8032 97.7315,-547.8032\"/>\n<text text-anchor=\"start\" x=\"100.7315\" y=\"-554.6032\" font-family=\"Times,serif\" font-size=\"14.00\" fill=\"#000000\">0.95</text>\n<polygon fill=\"none\" stroke=\"#000000\" points=\"35.7315,-524.8032 35.7315,-545.8032 60.7315,-545.8032 60.7315,-524.8032 35.7315,-524.8032\"/>\n<text text-anchor=\"start\" x=\"40.2315\" y=\"-531.6032\" font-family=\"Times,serif\" font-size=\"14.00\" fill=\"#000000\">no</text>\n<polygon fill=\"none\" stroke=\"#000000\" points=\"62.7315,-524.8032 62.7315,-545.8032 95.7315,-545.8032 95.7315,-524.8032 62.7315,-524.8032\"/>\n<text text-anchor=\"start\" x=\"65.7315\" y=\"-531.6032\" font-family=\"Times,serif\" font-size=\"14.00\" fill=\"#000000\">0.01</text>\n<polygon fill=\"none\" stroke=\"#000000\" points=\"97.7315,-524.8032 97.7315,-545.8032 130.7315,-545.8032 130.7315,-524.8032 97.7315,-524.8032\"/>\n<text text-anchor=\"start\" x=\"100.7315\" y=\"-531.6032\" font-family=\"Times,serif\" font-size=\"14.00\" fill=\"#000000\">0.99</text>\n<polygon fill=\"none\" stroke=\"#000000\" points=\"32.2315,-521.8032 32.2315,-617.8032 133.2315,-617.8032 133.2315,-521.8032 32.2315,-521.8032\"/>\n</g>\n<!-- asia&#45;&gt;tub -->\n<g id=\"edge1\" class=\"edge\">\n<title>asia&#45;&gt;tub</title>\n<path fill=\"none\" stroke=\"#000000\" d=\"M82.7315,-679.2098C82.7315,-670.9456 82.7315,-662.3031 82.7315,-653.6543\"/>\n<polygon fill=\"#000000\" stroke=\"#000000\" points=\"86.2316,-653.5206 82.7315,-643.5206 79.2316,-653.5207 86.2316,-653.5206\"/>\n</g>\n<!-- bronc -->\n<g id=\"node2\" class=\"node\">\n<title>bronc</title>\n<ellipse fill=\"none\" stroke=\"#000000\" cx=\"376.7315\" cy=\"-354.1981\" rx=\"82.9636\" ry=\"73.5782\"/>\n<polygon fill=\"none\" stroke=\"#000000\" points=\"329.7315,-378.1981 329.7315,-399.1981 424.7315,-399.1981 424.7315,-378.1981 329.7315,-378.1981\"/>\n<text text-anchor=\"start\" x=\"356.7315\" y=\"-384.9981\" font-family=\"Times,serif\" font-size=\"14.00\" fill=\"#000000\"> bronc </text>\n<polygon fill=\"none\" stroke=\"#000000\" points=\"329.7315,-355.1981 329.7315,-376.1981 354.7315,-376.1981 354.7315,-355.1981 329.7315,-355.1981\"/>\n<text text-anchor=\"start\" x=\"340.2315\" y=\"-361.9981\" font-family=\"Times,serif\" font-size=\"14.00\" fill=\"#000000\"> </text>\n<polygon fill=\"none\" stroke=\"#000000\" points=\"356.7315,-355.1981 356.7315,-376.1981 389.7315,-376.1981 389.7315,-355.1981 356.7315,-355.1981\"/>\n<text text-anchor=\"start\" x=\"363.7315\" y=\"-361.9981\" font-family=\"Times,serif\" font-size=\"14.00\" fill=\"#000000\">yes</text>\n<polygon fill=\"none\" stroke=\"#000000\" points=\"391.7315,-355.1981 391.7315,-376.1981 424.7315,-376.1981 424.7315,-355.1981 391.7315,-355.1981\"/>\n<text text-anchor=\"start\" x=\"400.2315\" y=\"-361.9981\" font-family=\"Times,serif\" font-size=\"14.00\" fill=\"#000000\">no</text>\n<polygon fill=\"none\" stroke=\"#000000\" points=\"329.7315,-332.1981 329.7315,-353.1981 354.7315,-353.1981 354.7315,-332.1981 329.7315,-332.1981\"/>\n<text text-anchor=\"start\" x=\"332.7315\" y=\"-338.9981\" font-family=\"Times,serif\" font-size=\"14.00\" fill=\"#000000\">yes</text>\n<polygon fill=\"none\" stroke=\"#000000\" points=\"356.7315,-332.1981 356.7315,-353.1981 389.7315,-353.1981 389.7315,-332.1981 356.7315,-332.1981\"/>\n<text text-anchor=\"start\" x=\"359.7315\" y=\"-338.9981\" font-family=\"Times,serif\" font-size=\"14.00\" fill=\"#000000\">0.60</text>\n<polygon fill=\"none\" stroke=\"#000000\" points=\"391.7315,-332.1981 391.7315,-353.1981 424.7315,-353.1981 424.7315,-332.1981 391.7315,-332.1981\"/>\n<text text-anchor=\"start\" x=\"394.7315\" y=\"-338.9981\" font-family=\"Times,serif\" font-size=\"14.00\" fill=\"#000000\">0.40</text>\n<polygon fill=\"none\" stroke=\"#000000\" points=\"329.7315,-309.1981 329.7315,-330.1981 354.7315,-330.1981 354.7315,-309.1981 329.7315,-309.1981\"/>\n<text text-anchor=\"start\" x=\"334.2315\" y=\"-315.9981\" font-family=\"Times,serif\" font-size=\"14.00\" fill=\"#000000\">no</text>\n<polygon fill=\"none\" stroke=\"#000000\" points=\"356.7315,-309.1981 356.7315,-330.1981 389.7315,-330.1981 389.7315,-309.1981 356.7315,-309.1981\"/>\n<text text-anchor=\"start\" x=\"359.7315\" y=\"-315.9981\" font-family=\"Times,serif\" font-size=\"14.00\" fill=\"#000000\">0.30</text>\n<polygon fill=\"none\" stroke=\"#000000\" points=\"391.7315,-309.1981 391.7315,-330.1981 424.7315,-330.1981 424.7315,-309.1981 391.7315,-309.1981\"/>\n<text text-anchor=\"start\" x=\"394.7315\" y=\"-315.9981\" font-family=\"Times,serif\" font-size=\"14.00\" fill=\"#000000\">0.70</text>\n<polygon fill=\"none\" stroke=\"#000000\" points=\"326.2315,-306.1981 326.2315,-402.1981 427.2315,-402.1981 427.2315,-306.1981 326.2315,-306.1981\"/>\n</g>\n<!-- dysp -->\n<g id=\"node3\" class=\"node\">\n<title>dysp</title>\n<ellipse fill=\"none\" stroke=\"#000000\" cx=\"376.7315\" cy=\"-106.066\" rx=\"104.8038\" ry=\"106.1321\"/>\n<polygon fill=\"none\" stroke=\"#000000\" points=\"313.7315,-153.066 313.7315,-174.066 439.7315,-174.066 439.7315,-153.066 313.7315,-153.066\"/>\n<text text-anchor=\"start\" x=\"358.7315\" y=\"-159.866\" font-family=\"Times,serif\" font-size=\"14.00\" fill=\"#000000\"> dysp </text>\n<polygon fill=\"none\" stroke=\"#000000\" points=\"313.7315,-130.066 313.7315,-151.066 365.7315,-151.066 365.7315,-130.066 313.7315,-130.066\"/>\n<text text-anchor=\"start\" x=\"337.7315\" y=\"-136.866\" font-family=\"Times,serif\" font-size=\"14.00\" fill=\"#000000\"> </text>\n<polygon fill=\"none\" stroke=\"#000000\" points=\"367.7315,-130.066 367.7315,-151.066 400.7315,-151.066 400.7315,-130.066 367.7315,-130.066\"/>\n<text text-anchor=\"start\" x=\"374.7315\" y=\"-136.866\" font-family=\"Times,serif\" font-size=\"14.00\" fill=\"#000000\">yes</text>\n<polygon fill=\"none\" stroke=\"#000000\" points=\"402.7315,-130.066 402.7315,-151.066 435.7315,-151.066 435.7315,-130.066 402.7315,-130.066\"/>\n<text text-anchor=\"start\" x=\"411.2315\" y=\"-136.866\" font-family=\"Times,serif\" font-size=\"14.00\" fill=\"#000000\">no</text>\n<polygon fill=\"none\" stroke=\"#000000\" points=\"313.7315,-107.066 313.7315,-128.066 365.7315,-128.066 365.7315,-107.066 313.7315,-107.066\"/>\n<text text-anchor=\"start\" x=\"316.7315\" y=\"-113.866\" font-family=\"Times,serif\" font-size=\"14.00\" fill=\"#000000\">yes, yes</text>\n<polygon fill=\"none\" stroke=\"#000000\" points=\"367.7315,-107.066 367.7315,-128.066 400.7315,-128.066 400.7315,-107.066 367.7315,-107.066\"/>\n<text text-anchor=\"start\" x=\"370.7315\" y=\"-113.866\" font-family=\"Times,serif\" font-size=\"14.00\" fill=\"#000000\">0.90</text>\n<polygon fill=\"none\" stroke=\"#000000\" points=\"402.7315,-107.066 402.7315,-128.066 435.7315,-128.066 435.7315,-107.066 402.7315,-107.066\"/>\n<text text-anchor=\"start\" x=\"405.7315\" y=\"-113.866\" font-family=\"Times,serif\" font-size=\"14.00\" fill=\"#000000\">0.10</text>\n<polygon fill=\"none\" stroke=\"#000000\" points=\"313.7315,-84.066 313.7315,-105.066 365.7315,-105.066 365.7315,-84.066 313.7315,-84.066\"/>\n<text text-anchor=\"start\" x=\"318.7315\" y=\"-90.866\" font-family=\"Times,serif\" font-size=\"14.00\" fill=\"#000000\">yes, no</text>\n<polygon fill=\"none\" stroke=\"#000000\" points=\"367.7315,-84.066 367.7315,-105.066 400.7315,-105.066 400.7315,-84.066 367.7315,-84.066\"/>\n<text text-anchor=\"start\" x=\"370.7315\" y=\"-90.866\" font-family=\"Times,serif\" font-size=\"14.00\" fill=\"#000000\">0.70</text>\n<polygon fill=\"none\" stroke=\"#000000\" points=\"402.7315,-84.066 402.7315,-105.066 435.7315,-105.066 435.7315,-84.066 402.7315,-84.066\"/>\n<text text-anchor=\"start\" x=\"405.7315\" y=\"-90.866\" font-family=\"Times,serif\" font-size=\"14.00\" fill=\"#000000\">0.30</text>\n<polygon fill=\"none\" stroke=\"#000000\" points=\"313.7315,-61.066 313.7315,-82.066 365.7315,-82.066 365.7315,-61.066 313.7315,-61.066\"/>\n<text text-anchor=\"start\" x=\"318.7315\" y=\"-67.866\" font-family=\"Times,serif\" font-size=\"14.00\" fill=\"#000000\">no, yes</text>\n<polygon fill=\"none\" stroke=\"#000000\" points=\"367.7315,-61.066 367.7315,-82.066 400.7315,-82.066 400.7315,-61.066 367.7315,-61.066\"/>\n<text text-anchor=\"start\" x=\"370.7315\" y=\"-67.866\" font-family=\"Times,serif\" font-size=\"14.00\" fill=\"#000000\">0.80</text>\n<polygon fill=\"none\" stroke=\"#000000\" points=\"402.7315,-61.066 402.7315,-82.066 435.7315,-82.066 435.7315,-61.066 402.7315,-61.066\"/>\n<text text-anchor=\"start\" x=\"405.7315\" y=\"-67.866\" font-family=\"Times,serif\" font-size=\"14.00\" fill=\"#000000\">0.20</text>\n<polygon fill=\"none\" stroke=\"#000000\" points=\"313.7315,-38.066 313.7315,-59.066 365.7315,-59.066 365.7315,-38.066 313.7315,-38.066\"/>\n<text text-anchor=\"start\" x=\"320.7315\" y=\"-44.866\" font-family=\"Times,serif\" font-size=\"14.00\" fill=\"#000000\">no, no</text>\n<polygon fill=\"none\" stroke=\"#000000\" points=\"367.7315,-38.066 367.7315,-59.066 400.7315,-59.066 400.7315,-38.066 367.7315,-38.066\"/>\n<text text-anchor=\"start\" x=\"370.7315\" y=\"-44.866\" font-family=\"Times,serif\" font-size=\"14.00\" fill=\"#000000\">0.10</text>\n<polygon fill=\"none\" stroke=\"#000000\" points=\"402.7315,-38.066 402.7315,-59.066 435.7315,-59.066 435.7315,-38.066 402.7315,-38.066\"/>\n<text text-anchor=\"start\" x=\"405.7315\" y=\"-44.866\" font-family=\"Times,serif\" font-size=\"14.00\" fill=\"#000000\">0.90</text>\n<polygon fill=\"none\" stroke=\"#000000\" points=\"310.7315,-35.066 310.7315,-177.066 442.7315,-177.066 442.7315,-35.066 310.7315,-35.066\"/>\n</g>\n<!-- bronc&#45;&gt;dysp -->\n<g id=\"edge6\" class=\"edge\">\n<title>bronc&#45;&gt;dysp</title>\n<path fill=\"none\" stroke=\"#000000\" d=\"M376.7315,-280.4221C376.7315,-262.0907 376.7315,-241.9961 376.7315,-222.1735\"/>\n<polygon fill=\"#000000\" stroke=\"#000000\" points=\"380.2316,-222.1595 376.7315,-212.1595 373.2316,-222.1596 380.2316,-222.1595\"/>\n</g>\n<!-- either -->\n<g id=\"node4\" class=\"node\">\n<title>either</title>\n<ellipse fill=\"none\" stroke=\"#000000\" cx=\"171.7315\" cy=\"-354.1981\" rx=\"104.8038\" ry=\"106.1321\"/>\n<polygon fill=\"none\" stroke=\"#000000\" points=\"108.7315,-401.1981 108.7315,-422.1981 234.7315,-422.1981 234.7315,-401.1981 108.7315,-401.1981\"/>\n<text text-anchor=\"start\" x=\"151.7315\" y=\"-407.9981\" font-family=\"Times,serif\" font-size=\"14.00\" fill=\"#000000\"> either </text>\n<polygon fill=\"none\" stroke=\"#000000\" points=\"108.7315,-378.1981 108.7315,-399.1981 160.7315,-399.1981 160.7315,-378.1981 108.7315,-378.1981\"/>\n<text text-anchor=\"start\" x=\"132.7315\" y=\"-384.9981\" font-family=\"Times,serif\" font-size=\"14.00\" fill=\"#000000\"> </text>\n<polygon fill=\"none\" stroke=\"#000000\" points=\"162.7315,-378.1981 162.7315,-399.1981 195.7315,-399.1981 195.7315,-378.1981 162.7315,-378.1981\"/>\n<text text-anchor=\"start\" x=\"169.7315\" y=\"-384.9981\" font-family=\"Times,serif\" font-size=\"14.00\" fill=\"#000000\">yes</text>\n<polygon fill=\"none\" stroke=\"#000000\" points=\"197.7315,-378.1981 197.7315,-399.1981 230.7315,-399.1981 230.7315,-378.1981 197.7315,-378.1981\"/>\n<text text-anchor=\"start\" x=\"206.2315\" y=\"-384.9981\" font-family=\"Times,serif\" font-size=\"14.00\" fill=\"#000000\">no</text>\n<polygon fill=\"none\" stroke=\"#000000\" points=\"108.7315,-355.1981 108.7315,-376.1981 160.7315,-376.1981 160.7315,-355.1981 108.7315,-355.1981\"/>\n<text text-anchor=\"start\" x=\"111.7315\" y=\"-361.9981\" font-family=\"Times,serif\" font-size=\"14.00\" fill=\"#000000\">yes, yes</text>\n<polygon fill=\"none\" stroke=\"#000000\" points=\"162.7315,-355.1981 162.7315,-376.1981 195.7315,-376.1981 195.7315,-355.1981 162.7315,-355.1981\"/>\n<text text-anchor=\"start\" x=\"165.7315\" y=\"-361.9981\" font-family=\"Times,serif\" font-size=\"14.00\" fill=\"#000000\">1.00</text>\n<polygon fill=\"none\" stroke=\"#000000\" points=\"197.7315,-355.1981 197.7315,-376.1981 230.7315,-376.1981 230.7315,-355.1981 197.7315,-355.1981\"/>\n<text text-anchor=\"start\" x=\"200.7315\" y=\"-361.9981\" font-family=\"Times,serif\" font-size=\"14.00\" fill=\"#000000\">0.00</text>\n<polygon fill=\"none\" stroke=\"#000000\" points=\"108.7315,-332.1981 108.7315,-353.1981 160.7315,-353.1981 160.7315,-332.1981 108.7315,-332.1981\"/>\n<text text-anchor=\"start\" x=\"113.7315\" y=\"-338.9981\" font-family=\"Times,serif\" font-size=\"14.00\" fill=\"#000000\">yes, no</text>\n<polygon fill=\"none\" stroke=\"#000000\" points=\"162.7315,-332.1981 162.7315,-353.1981 195.7315,-353.1981 195.7315,-332.1981 162.7315,-332.1981\"/>\n<text text-anchor=\"start\" x=\"165.7315\" y=\"-338.9981\" font-family=\"Times,serif\" font-size=\"14.00\" fill=\"#000000\">1.00</text>\n<polygon fill=\"none\" stroke=\"#000000\" points=\"197.7315,-332.1981 197.7315,-353.1981 230.7315,-353.1981 230.7315,-332.1981 197.7315,-332.1981\"/>\n<text text-anchor=\"start\" x=\"200.7315\" y=\"-338.9981\" font-family=\"Times,serif\" font-size=\"14.00\" fill=\"#000000\">0.00</text>\n<polygon fill=\"none\" stroke=\"#000000\" points=\"108.7315,-309.1981 108.7315,-330.1981 160.7315,-330.1981 160.7315,-309.1981 108.7315,-309.1981\"/>\n<text text-anchor=\"start\" x=\"113.7315\" y=\"-315.9981\" font-family=\"Times,serif\" font-size=\"14.00\" fill=\"#000000\">no, yes</text>\n<polygon fill=\"none\" stroke=\"#000000\" points=\"162.7315,-309.1981 162.7315,-330.1981 195.7315,-330.1981 195.7315,-309.1981 162.7315,-309.1981\"/>\n<text text-anchor=\"start\" x=\"165.7315\" y=\"-315.9981\" font-family=\"Times,serif\" font-size=\"14.00\" fill=\"#000000\">1.00</text>\n<polygon fill=\"none\" stroke=\"#000000\" points=\"197.7315,-309.1981 197.7315,-330.1981 230.7315,-330.1981 230.7315,-309.1981 197.7315,-309.1981\"/>\n<text text-anchor=\"start\" x=\"200.7315\" y=\"-315.9981\" font-family=\"Times,serif\" font-size=\"14.00\" fill=\"#000000\">0.00</text>\n<polygon fill=\"none\" stroke=\"#000000\" points=\"108.7315,-286.1981 108.7315,-307.1981 160.7315,-307.1981 160.7315,-286.1981 108.7315,-286.1981\"/>\n<text text-anchor=\"start\" x=\"115.7315\" y=\"-292.9981\" font-family=\"Times,serif\" font-size=\"14.00\" fill=\"#000000\">no, no</text>\n<polygon fill=\"none\" stroke=\"#000000\" points=\"162.7315,-286.1981 162.7315,-307.1981 195.7315,-307.1981 195.7315,-286.1981 162.7315,-286.1981\"/>\n<text text-anchor=\"start\" x=\"165.7315\" y=\"-292.9981\" font-family=\"Times,serif\" font-size=\"14.00\" fill=\"#000000\">0.00</text>\n<polygon fill=\"none\" stroke=\"#000000\" points=\"197.7315,-286.1981 197.7315,-307.1981 230.7315,-307.1981 230.7315,-286.1981 197.7315,-286.1981\"/>\n<text text-anchor=\"start\" x=\"200.7315\" y=\"-292.9981\" font-family=\"Times,serif\" font-size=\"14.00\" fill=\"#000000\">1.00</text>\n<polygon fill=\"none\" stroke=\"#000000\" points=\"105.7315,-283.1981 105.7315,-425.1981 237.7315,-425.1981 237.7315,-283.1981 105.7315,-283.1981\"/>\n</g>\n<!-- either&#45;&gt;dysp -->\n<g id=\"edge8\" class=\"edge\">\n<title>either&#45;&gt;dysp</title>\n<path fill=\"none\" stroke=\"#000000\" d=\"M239.1401,-272.6067C259.5514,-247.9008 282.074,-220.6394 302.8835,-195.4516\"/>\n<polygon fill=\"#000000\" stroke=\"#000000\" points=\"305.6114,-197.645 309.2824,-187.7064 300.2149,-193.1865 305.6114,-197.645\"/>\n</g>\n<!-- xray -->\n<g id=\"node8\" class=\"node\">\n<title>xray</title>\n<ellipse fill=\"none\" stroke=\"#000000\" cx=\"171.7315\" cy=\"-106.066\" rx=\"82.9636\" ry=\"73.5782\"/>\n<polygon fill=\"none\" stroke=\"#000000\" points=\"124.7315,-130.066 124.7315,-151.066 219.7315,-151.066 219.7315,-130.066 124.7315,-130.066\"/>\n<text text-anchor=\"start\" x=\"155.2315\" y=\"-136.866\" font-family=\"Times,serif\" font-size=\"14.00\" fill=\"#000000\"> xray </text>\n<polygon fill=\"none\" stroke=\"#000000\" points=\"124.7315,-107.066 124.7315,-128.066 149.7315,-128.066 149.7315,-107.066 124.7315,-107.066\"/>\n<text text-anchor=\"start\" x=\"135.2315\" y=\"-113.866\" font-family=\"Times,serif\" font-size=\"14.00\" fill=\"#000000\"> </text>\n<polygon fill=\"none\" stroke=\"#000000\" points=\"151.7315,-107.066 151.7315,-128.066 184.7315,-128.066 184.7315,-107.066 151.7315,-107.066\"/>\n<text text-anchor=\"start\" x=\"158.7315\" y=\"-113.866\" font-family=\"Times,serif\" font-size=\"14.00\" fill=\"#000000\">yes</text>\n<polygon fill=\"none\" stroke=\"#000000\" points=\"186.7315,-107.066 186.7315,-128.066 219.7315,-128.066 219.7315,-107.066 186.7315,-107.066\"/>\n<text text-anchor=\"start\" x=\"195.2315\" y=\"-113.866\" font-family=\"Times,serif\" font-size=\"14.00\" fill=\"#000000\">no</text>\n<polygon fill=\"none\" stroke=\"#000000\" points=\"124.7315,-84.066 124.7315,-105.066 149.7315,-105.066 149.7315,-84.066 124.7315,-84.066\"/>\n<text text-anchor=\"start\" x=\"127.7315\" y=\"-90.866\" font-family=\"Times,serif\" font-size=\"14.00\" fill=\"#000000\">yes</text>\n<polygon fill=\"none\" stroke=\"#000000\" points=\"151.7315,-84.066 151.7315,-105.066 184.7315,-105.066 184.7315,-84.066 151.7315,-84.066\"/>\n<text text-anchor=\"start\" x=\"154.7315\" y=\"-90.866\" font-family=\"Times,serif\" font-size=\"14.00\" fill=\"#000000\">0.98</text>\n<polygon fill=\"none\" stroke=\"#000000\" points=\"186.7315,-84.066 186.7315,-105.066 219.7315,-105.066 219.7315,-84.066 186.7315,-84.066\"/>\n<text text-anchor=\"start\" x=\"189.7315\" y=\"-90.866\" font-family=\"Times,serif\" font-size=\"14.00\" fill=\"#000000\">0.02</text>\n<polygon fill=\"none\" stroke=\"#000000\" points=\"124.7315,-61.066 124.7315,-82.066 149.7315,-82.066 149.7315,-61.066 124.7315,-61.066\"/>\n<text text-anchor=\"start\" x=\"129.2315\" y=\"-67.866\" font-family=\"Times,serif\" font-size=\"14.00\" fill=\"#000000\">no</text>\n<polygon fill=\"none\" stroke=\"#000000\" points=\"151.7315,-61.066 151.7315,-82.066 184.7315,-82.066 184.7315,-61.066 151.7315,-61.066\"/>\n<text text-anchor=\"start\" x=\"154.7315\" y=\"-67.866\" font-family=\"Times,serif\" font-size=\"14.00\" fill=\"#000000\">0.05</text>\n<polygon fill=\"none\" stroke=\"#000000\" points=\"186.7315,-61.066 186.7315,-82.066 219.7315,-82.066 219.7315,-61.066 186.7315,-61.066\"/>\n<text text-anchor=\"start\" x=\"189.7315\" y=\"-67.866\" font-family=\"Times,serif\" font-size=\"14.00\" fill=\"#000000\">0.95</text>\n<polygon fill=\"none\" stroke=\"#000000\" points=\"121.2315,-58.066 121.2315,-154.066 222.2315,-154.066 222.2315,-58.066 121.2315,-58.066\"/>\n</g>\n<!-- either&#45;&gt;xray -->\n<g id=\"edge7\" class=\"edge\">\n<title>either&#45;&gt;xray</title>\n<path fill=\"none\" stroke=\"#000000\" d=\"M171.7315,-247.8879C171.7315,-228.5766 171.7315,-208.6792 171.7315,-190.1197\"/>\n<polygon fill=\"#000000\" stroke=\"#000000\" points=\"175.2316,-189.9586 171.7315,-179.9587 168.2316,-189.9587 175.2316,-189.9586\"/>\n</g>\n<!-- lung -->\n<g id=\"node5\" class=\"node\">\n<title>lung</title>\n<ellipse fill=\"none\" stroke=\"#000000\" cx=\"265.7315\" cy=\"-569.8032\" rx=\"82.9636\" ry=\"73.5782\"/>\n<polygon fill=\"none\" stroke=\"#000000\" points=\"218.7315,-593.8032 218.7315,-614.8032 313.7315,-614.8032 313.7315,-593.8032 218.7315,-593.8032\"/>\n<text text-anchor=\"start\" x=\"249.2315\" y=\"-600.6032\" font-family=\"Times,serif\" font-size=\"14.00\" fill=\"#000000\"> lung </text>\n<polygon fill=\"none\" stroke=\"#000000\" points=\"218.7315,-570.8032 218.7315,-591.8032 243.7315,-591.8032 243.7315,-570.8032 218.7315,-570.8032\"/>\n<text text-anchor=\"start\" x=\"229.2315\" y=\"-577.6032\" font-family=\"Times,serif\" font-size=\"14.00\" fill=\"#000000\"> </text>\n<polygon fill=\"none\" stroke=\"#000000\" points=\"245.7315,-570.8032 245.7315,-591.8032 278.7315,-591.8032 278.7315,-570.8032 245.7315,-570.8032\"/>\n<text text-anchor=\"start\" x=\"252.7315\" y=\"-577.6032\" font-family=\"Times,serif\" font-size=\"14.00\" fill=\"#000000\">yes</text>\n<polygon fill=\"none\" stroke=\"#000000\" points=\"280.7315,-570.8032 280.7315,-591.8032 313.7315,-591.8032 313.7315,-570.8032 280.7315,-570.8032\"/>\n<text text-anchor=\"start\" x=\"289.2315\" y=\"-577.6032\" font-family=\"Times,serif\" font-size=\"14.00\" fill=\"#000000\">no</text>\n<polygon fill=\"none\" stroke=\"#000000\" points=\"218.7315,-547.8032 218.7315,-568.8032 243.7315,-568.8032 243.7315,-547.8032 218.7315,-547.8032\"/>\n<text text-anchor=\"start\" x=\"221.7315\" y=\"-554.6032\" font-family=\"Times,serif\" font-size=\"14.00\" fill=\"#000000\">yes</text>\n<polygon fill=\"none\" stroke=\"#000000\" points=\"245.7315,-547.8032 245.7315,-568.8032 278.7315,-568.8032 278.7315,-547.8032 245.7315,-547.8032\"/>\n<text text-anchor=\"start\" x=\"248.7315\" y=\"-554.6032\" font-family=\"Times,serif\" font-size=\"14.00\" fill=\"#000000\">0.10</text>\n<polygon fill=\"none\" stroke=\"#000000\" points=\"280.7315,-547.8032 280.7315,-568.8032 313.7315,-568.8032 313.7315,-547.8032 280.7315,-547.8032\"/>\n<text text-anchor=\"start\" x=\"283.7315\" y=\"-554.6032\" font-family=\"Times,serif\" font-size=\"14.00\" fill=\"#000000\">0.90</text>\n<polygon fill=\"none\" stroke=\"#000000\" points=\"218.7315,-524.8032 218.7315,-545.8032 243.7315,-545.8032 243.7315,-524.8032 218.7315,-524.8032\"/>\n<text text-anchor=\"start\" x=\"223.2315\" y=\"-531.6032\" font-family=\"Times,serif\" font-size=\"14.00\" fill=\"#000000\">no</text>\n<polygon fill=\"none\" stroke=\"#000000\" points=\"245.7315,-524.8032 245.7315,-545.8032 278.7315,-545.8032 278.7315,-524.8032 245.7315,-524.8032\"/>\n<text text-anchor=\"start\" x=\"248.7315\" y=\"-531.6032\" font-family=\"Times,serif\" font-size=\"14.00\" fill=\"#000000\">0.01</text>\n<polygon fill=\"none\" stroke=\"#000000\" points=\"280.7315,-524.8032 280.7315,-545.8032 313.7315,-545.8032 313.7315,-524.8032 280.7315,-524.8032\"/>\n<text text-anchor=\"start\" x=\"283.7315\" y=\"-531.6032\" font-family=\"Times,serif\" font-size=\"14.00\" fill=\"#000000\">0.99</text>\n<polygon fill=\"none\" stroke=\"#000000\" points=\"215.2315,-521.8032 215.2315,-617.8032 316.2315,-617.8032 316.2315,-521.8032 215.2315,-521.8032\"/>\n</g>\n<!-- lung&#45;&gt;either -->\n<g id=\"edge5\" class=\"edge\">\n<title>lung&#45;&gt;either</title>\n<path fill=\"none\" stroke=\"#000000\" d=\"M235.7309,-500.9916C230.1429,-488.1747 224.1845,-474.5081 218.2367,-460.8656\"/>\n<polygon fill=\"#000000\" stroke=\"#000000\" points=\"221.3302,-459.2034 214.1253,-451.4355 214.9135,-462.001 221.3302,-459.2034\"/>\n</g>\n<!-- smoke -->\n<g id=\"node6\" class=\"node\">\n<title>smoke</title>\n<ellipse fill=\"none\" stroke=\"#000000\" cx=\"320.7315\" cy=\"-736.6179\" rx=\"63.7795\" ry=\"57.0522\"/>\n<polygon fill=\"none\" stroke=\"#000000\" points=\"286.7315,-748.6179 286.7315,-769.6179 354.7315,-769.6179 354.7315,-748.6179 286.7315,-748.6179\"/>\n<text text-anchor=\"start\" x=\"297.7315\" y=\"-755.4179\" font-family=\"Times,serif\" font-size=\"14.00\" fill=\"#000000\"> smoke </text>\n<polygon fill=\"none\" stroke=\"#000000\" points=\"286.7315,-725.6179 286.7315,-746.6179 319.7315,-746.6179 319.7315,-725.6179 286.7315,-725.6179\"/>\n<text text-anchor=\"start\" x=\"293.7315\" y=\"-732.4179\" font-family=\"Times,serif\" font-size=\"14.00\" fill=\"#000000\">yes</text>\n<polygon fill=\"none\" stroke=\"#000000\" points=\"321.7315,-725.6179 321.7315,-746.6179 354.7315,-746.6179 354.7315,-725.6179 321.7315,-725.6179\"/>\n<text text-anchor=\"start\" x=\"330.2315\" y=\"-732.4179\" font-family=\"Times,serif\" font-size=\"14.00\" fill=\"#000000\">no</text>\n<polygon fill=\"none\" stroke=\"#000000\" points=\"286.7315,-702.6179 286.7315,-723.6179 319.7315,-723.6179 319.7315,-702.6179 286.7315,-702.6179\"/>\n<text text-anchor=\"start\" x=\"289.7315\" y=\"-709.4179\" font-family=\"Times,serif\" font-size=\"14.00\" fill=\"#000000\">0.50</text>\n<polygon fill=\"none\" stroke=\"#000000\" points=\"321.7315,-702.6179 321.7315,-723.6179 354.7315,-723.6179 354.7315,-702.6179 321.7315,-702.6179\"/>\n<text text-anchor=\"start\" x=\"324.7315\" y=\"-709.4179\" font-family=\"Times,serif\" font-size=\"14.00\" fill=\"#000000\">0.50</text>\n<polygon fill=\"none\" stroke=\"#000000\" points=\"283.7315,-700.1179 283.7315,-773.1179 357.7315,-773.1179 357.7315,-700.1179 283.7315,-700.1179\"/>\n</g>\n<!-- smoke&#45;&gt;bronc -->\n<g id=\"edge4\" class=\"edge\">\n<title>smoke&#45;&gt;bronc</title>\n<path fill=\"none\" stroke=\"#000000\" d=\"M345.1877,-683.2696C350.1428,-670.4359 354.7445,-656.5985 357.7315,-643.3423 373.0404,-575.4018 377.3482,-496.386 378.0764,-438.1416\"/>\n<polygon fill=\"#000000\" stroke=\"#000000\" points=\"381.5785,-437.9136 378.1704,-427.8819 374.5788,-437.8493 381.5785,-437.9136\"/>\n</g>\n<!-- smoke&#45;&gt;lung -->\n<g id=\"edge3\" class=\"edge\">\n<title>smoke&#45;&gt;lung</title>\n<path fill=\"none\" stroke=\"#000000\" d=\"M302.57,-681.5342C299.2641,-671.5073 295.7538,-660.8607 292.2643,-650.2772\"/>\n<polygon fill=\"#000000\" stroke=\"#000000\" points=\"295.5273,-648.996 289.072,-640.5949 288.8794,-651.188 295.5273,-648.996\"/>\n</g>\n<!-- tub&#45;&gt;either -->\n<g id=\"edge2\" class=\"edge\">\n<title>tub&#45;&gt;either</title>\n<path fill=\"none\" stroke=\"#000000\" d=\"M111.2589,-500.6947C116.3731,-488.3054 121.8118,-475.13 127.2501,-461.9554\"/>\n<polygon fill=\"#000000\" stroke=\"#000000\" points=\"130.6249,-462.9527 131.2054,-452.3737 124.1545,-460.2817 130.6249,-462.9527\"/>\n</g>\n</g>\n</svg>\n"
          },
          "metadata": {
            "tags": []
          }
        },
        {
          "output_type": "execute_result",
          "data": {
            "application/vnd.google.colaboratory.intrinsic+json": {
              "type": "string"
            },
            "text/plain": [
              "'asia_pgm_with_cpt.pdf'"
            ]
          },
          "metadata": {
            "tags": []
          },
          "execution_count": 17
        }
      ]
    },
    {
      "cell_type": "markdown",
      "metadata": {
        "id": "5FyYbZfmD-AV"
      },
      "source": [
        "# Inference"
      ]
    },
    {
      "cell_type": "code",
      "metadata": {
        "id": "dJwoaVgi47Oe"
      },
      "source": [
        "from pgmpy.inference import VariableElimination\n",
        "infer = VariableElimination(model)\n",
        "\n"
      ],
      "execution_count": 11,
      "outputs": []
    },
    {
      "cell_type": "markdown",
      "metadata": {
        "id": "Fo1Z_lqa4fnB"
      },
      "source": [
        "## Prior marginals"
      ]
    },
    {
      "cell_type": "code",
      "metadata": {
        "colab": {
          "base_uri": "https://localhost:8080/"
        },
        "id": "wIj_U9mC-Q3M",
        "outputId": "d54c04d9-3e81-41f8-ea4b-33a92a04ec83"
      },
      "source": [
        "evidence = {}\n",
        "marginals = pgm.get_marginals(model, evidence)\n",
        "print('\\n')\n",
        "for k, v in marginals.items():\n",
        "  print(k, v)\n",
        "\n",
        "asia_prior = model.get_cpds('asia').values\n",
        "assert np.allclose(asia_prior, marginals['asia'])"
      ],
      "execution_count": 12,
      "outputs": [
        {
          "output_type": "stream",
          "text": [
            "Finding Elimination Order: : 100%|██████████| 7/7 [00:00<00:00, 843.42it/s]\n",
            "Eliminating: xray: 100%|██████████| 7/7 [00:00<00:00, 201.33it/s]\n",
            "Finding Elimination Order: : 100%|██████████| 7/7 [00:00<00:00, 3092.49it/s]\n",
            "Eliminating: xray: 100%|██████████| 7/7 [00:00<00:00, 174.27it/s]\n",
            "Finding Elimination Order: : 100%|██████████| 7/7 [00:00<00:00, 666.59it/s]\n",
            "Eliminating: xray: 100%|██████████| 7/7 [00:00<00:00, 246.33it/s]\n",
            "Finding Elimination Order: : 100%|██████████| 7/7 [00:00<00:00, 806.60it/s]\n",
            "Eliminating: xray: 100%|██████████| 7/7 [00:00<00:00, 190.94it/s]\n",
            "Finding Elimination Order: : 100%|██████████| 7/7 [00:00<00:00, 986.80it/s]\n",
            "Eliminating: xray: 100%|██████████| 7/7 [00:00<00:00, 212.91it/s]\n",
            "Finding Elimination Order: : 100%|██████████| 7/7 [00:00<00:00, 1849.69it/s]\n",
            "Eliminating: xray: 100%|██████████| 7/7 [00:00<00:00, 265.39it/s]\n",
            "Finding Elimination Order: : 100%|██████████| 7/7 [00:00<00:00, 1026.29it/s]\n",
            "Eliminating: tub: 100%|██████████| 7/7 [00:00<00:00, 152.79it/s]\n",
            "Finding Elimination Order: : 100%|██████████| 7/7 [00:00<00:00, 803.40it/s]\n",
            "Eliminating: either: 100%|██████████| 7/7 [00:00<00:00, 276.66it/s]"
          ],
          "name": "stderr"
        },
        {
          "output_type": "stream",
          "text": [
            "\n",
            "\n",
            "asia [0.01 0.99]\n",
            "tub [0.0104 0.9896]\n",
            "smoke [0.5 0.5]\n",
            "lung [0.055 0.945]\n",
            "bronc [0.45 0.55]\n",
            "either [0.064828 0.935172]\n",
            "xray [0.11029004 0.88970996]\n",
            "dysp [0.4359706 0.5640294]\n"
          ],
          "name": "stdout"
        },
        {
          "output_type": "stream",
          "text": [
            "\n"
          ],
          "name": "stderr"
        }
      ]
    },
    {
      "cell_type": "code",
      "metadata": {
        "colab": {
          "base_uri": "https://localhost:8080/",
          "height": 786
        },
        "id": "oC0BWo-PDQU8",
        "outputId": "c39cec10-e5a4-42c2-d26e-61dd43807d45"
      },
      "source": [
        "display(pgm.visualize_marginals(model, evidence, marginals))\n"
      ],
      "execution_count": 13,
      "outputs": [
        {
          "output_type": "display_data",
          "data": {
            "text/plain": [
              "<graphviz.dot.Digraph at 0x7fa3a8b67110>"
            ],
            "image/svg+xml": "<?xml version=\"1.0\" encoding=\"UTF-8\" standalone=\"no\"?>\n<!DOCTYPE svg PUBLIC \"-//W3C//DTD SVG 1.1//EN\"\n \"http://www.w3.org/Graphics/SVG/1.1/DTD/svg11.dtd\">\n<!-- Generated by graphviz version 2.40.1 (20161225.0304)\n -->\n<!-- Title: pgm Pages: 1 -->\n<svg width=\"372pt\" height=\"574pt\"\n viewBox=\"0.00 0.00 372.28 574.21\" xmlns=\"http://www.w3.org/2000/svg\" xmlns:xlink=\"http://www.w3.org/1999/xlink\">\n<g id=\"graph0\" class=\"graph\" transform=\"scale(1 1) rotate(0) translate(4 570.2052)\">\n<title>pgm</title>\n<polygon fill=\"#ffffff\" stroke=\"transparent\" points=\"-4,4 -4,-570.2052 368.2792,-570.2052 368.2792,4 -4,4\"/>\n<!-- asia -->\n<g id=\"node1\" class=\"node\">\n<title>asia</title>\n<ellipse fill=\"none\" stroke=\"#000000\" cx=\"63.6396\" cy=\"-508.9295\" rx=\"63.7795\" ry=\"57.0522\"/>\n<polygon fill=\"none\" stroke=\"#000000\" points=\"29.6396,-520.9295 29.6396,-541.9295 97.6396,-541.9295 97.6396,-520.9295 29.6396,-520.9295\"/>\n<text text-anchor=\"start\" x=\"49.1396\" y=\"-527.7295\" font-family=\"Times,serif\" font-size=\"14.00\" fill=\"#000000\"> asia </text>\n<polygon fill=\"none\" stroke=\"#000000\" points=\"29.6396,-497.9295 29.6396,-518.9295 62.6396,-518.9295 62.6396,-497.9295 29.6396,-497.9295\"/>\n<text text-anchor=\"start\" x=\"36.6396\" y=\"-504.7295\" font-family=\"Times,serif\" font-size=\"14.00\" fill=\"#000000\">yes</text>\n<polygon fill=\"none\" stroke=\"#000000\" points=\"64.6396,-497.9295 64.6396,-518.9295 97.6396,-518.9295 97.6396,-497.9295 64.6396,-497.9295\"/>\n<text text-anchor=\"start\" x=\"73.1396\" y=\"-504.7295\" font-family=\"Times,serif\" font-size=\"14.00\" fill=\"#000000\">no</text>\n<polygon fill=\"none\" stroke=\"#000000\" points=\"29.6396,-474.9295 29.6396,-495.9295 62.6396,-495.9295 62.6396,-474.9295 29.6396,-474.9295\"/>\n<text text-anchor=\"start\" x=\"32.6396\" y=\"-481.7295\" font-family=\"Times,serif\" font-size=\"14.00\" fill=\"#000000\">0.01</text>\n<polygon fill=\"none\" stroke=\"#000000\" points=\"64.6396,-474.9295 64.6396,-495.9295 97.6396,-495.9295 97.6396,-474.9295 64.6396,-474.9295\"/>\n<text text-anchor=\"start\" x=\"67.6396\" y=\"-481.7295\" font-family=\"Times,serif\" font-size=\"14.00\" fill=\"#000000\">0.99</text>\n<polygon fill=\"none\" stroke=\"#000000\" points=\"26.6396,-472.4295 26.6396,-545.4295 100.6396,-545.4295 100.6396,-472.4295 26.6396,-472.4295\"/>\n</g>\n<!-- tub -->\n<g id=\"node2\" class=\"node\">\n<title>tub</title>\n<ellipse fill=\"none\" stroke=\"#000000\" cx=\"63.6396\" cy=\"-358.3782\" rx=\"63.7795\" ry=\"57.0522\"/>\n<polygon fill=\"none\" stroke=\"#000000\" points=\"29.6396,-370.3782 29.6396,-391.3782 97.6396,-391.3782 97.6396,-370.3782 29.6396,-370.3782\"/>\n<text text-anchor=\"start\" x=\"50.1396\" y=\"-377.1782\" font-family=\"Times,serif\" font-size=\"14.00\" fill=\"#000000\"> tub </text>\n<polygon fill=\"none\" stroke=\"#000000\" points=\"29.6396,-347.3782 29.6396,-368.3782 62.6396,-368.3782 62.6396,-347.3782 29.6396,-347.3782\"/>\n<text text-anchor=\"start\" x=\"36.6396\" y=\"-354.1782\" font-family=\"Times,serif\" font-size=\"14.00\" fill=\"#000000\">yes</text>\n<polygon fill=\"none\" stroke=\"#000000\" points=\"64.6396,-347.3782 64.6396,-368.3782 97.6396,-368.3782 97.6396,-347.3782 64.6396,-347.3782\"/>\n<text text-anchor=\"start\" x=\"73.1396\" y=\"-354.1782\" font-family=\"Times,serif\" font-size=\"14.00\" fill=\"#000000\">no</text>\n<polygon fill=\"none\" stroke=\"#000000\" points=\"29.6396,-324.3782 29.6396,-345.3782 62.6396,-345.3782 62.6396,-324.3782 29.6396,-324.3782\"/>\n<text text-anchor=\"start\" x=\"32.6396\" y=\"-331.1782\" font-family=\"Times,serif\" font-size=\"14.00\" fill=\"#000000\">0.01</text>\n<polygon fill=\"none\" stroke=\"#000000\" points=\"64.6396,-324.3782 64.6396,-345.3782 97.6396,-345.3782 97.6396,-324.3782 64.6396,-324.3782\"/>\n<text text-anchor=\"start\" x=\"67.6396\" y=\"-331.1782\" font-family=\"Times,serif\" font-size=\"14.00\" fill=\"#000000\">0.99</text>\n<polygon fill=\"none\" stroke=\"#000000\" points=\"26.6396,-321.8782 26.6396,-394.8782 100.6396,-394.8782 100.6396,-321.8782 26.6396,-321.8782\"/>\n</g>\n<!-- asia&#45;&gt;tub -->\n<g id=\"edge1\" class=\"edge\">\n<title>asia&#45;&gt;tub</title>\n<path fill=\"none\" stroke=\"#000000\" d=\"M63.6396,-451.5831C63.6396,-443.3123 63.6396,-434.7349 63.6396,-426.2827\"/>\n<polygon fill=\"#000000\" stroke=\"#000000\" points=\"67.1397,-426.064 63.6396,-416.064 60.1397,-426.064 67.1397,-426.064\"/>\n</g>\n<!-- either -->\n<g id=\"node6\" class=\"node\">\n<title>either</title>\n<ellipse fill=\"none\" stroke=\"#000000\" cx=\"155.6396\" cy=\"-207.8269\" rx=\"63.7795\" ry=\"57.0522\"/>\n<polygon fill=\"none\" stroke=\"#000000\" points=\"121.6396,-219.8269 121.6396,-240.8269 189.6396,-240.8269 189.6396,-219.8269 121.6396,-219.8269\"/>\n<text text-anchor=\"start\" x=\"135.6396\" y=\"-226.6269\" font-family=\"Times,serif\" font-size=\"14.00\" fill=\"#000000\"> either </text>\n<polygon fill=\"none\" stroke=\"#000000\" points=\"121.6396,-196.8269 121.6396,-217.8269 154.6396,-217.8269 154.6396,-196.8269 121.6396,-196.8269\"/>\n<text text-anchor=\"start\" x=\"128.6396\" y=\"-203.6269\" font-family=\"Times,serif\" font-size=\"14.00\" fill=\"#000000\">yes</text>\n<polygon fill=\"none\" stroke=\"#000000\" points=\"156.6396,-196.8269 156.6396,-217.8269 189.6396,-217.8269 189.6396,-196.8269 156.6396,-196.8269\"/>\n<text text-anchor=\"start\" x=\"165.1396\" y=\"-203.6269\" font-family=\"Times,serif\" font-size=\"14.00\" fill=\"#000000\">no</text>\n<polygon fill=\"none\" stroke=\"#000000\" points=\"121.6396,-173.8269 121.6396,-194.8269 154.6396,-194.8269 154.6396,-173.8269 121.6396,-173.8269\"/>\n<text text-anchor=\"start\" x=\"124.6396\" y=\"-180.6269\" font-family=\"Times,serif\" font-size=\"14.00\" fill=\"#000000\">0.06</text>\n<polygon fill=\"none\" stroke=\"#000000\" points=\"156.6396,-173.8269 156.6396,-194.8269 189.6396,-194.8269 189.6396,-173.8269 156.6396,-173.8269\"/>\n<text text-anchor=\"start\" x=\"159.6396\" y=\"-180.6269\" font-family=\"Times,serif\" font-size=\"14.00\" fill=\"#000000\">0.94</text>\n<polygon fill=\"none\" stroke=\"#000000\" points=\"118.6396,-171.3269 118.6396,-244.3269 192.6396,-244.3269 192.6396,-171.3269 118.6396,-171.3269\"/>\n</g>\n<!-- tub&#45;&gt;either -->\n<g id=\"edge2\" class=\"edge\">\n<title>tub&#45;&gt;either</title>\n<path fill=\"none\" stroke=\"#000000\" d=\"M94.5302,-307.828C102.5378,-294.7242 111.2325,-280.4959 119.4839,-266.9931\"/>\n<polygon fill=\"#000000\" stroke=\"#000000\" points=\"122.6027,-268.6017 124.8305,-258.2437 116.6296,-264.9516 122.6027,-268.6017\"/>\n</g>\n<!-- smoke -->\n<g id=\"node3\" class=\"node\">\n<title>smoke</title>\n<ellipse fill=\"none\" stroke=\"#000000\" cx=\"254.6396\" cy=\"-508.9295\" rx=\"53.9813\" ry=\"57.0522\"/>\n<polygon fill=\"none\" stroke=\"#000000\" points=\"227.6396,-520.9295 227.6396,-541.9295 281.6396,-541.9295 281.6396,-520.9295 227.6396,-520.9295\"/>\n<text text-anchor=\"start\" x=\"231.6396\" y=\"-527.7295\" font-family=\"Times,serif\" font-size=\"14.00\" fill=\"#000000\"> smoke </text>\n<polygon fill=\"none\" stroke=\"#000000\" points=\"227.6396,-497.9295 227.6396,-518.9295 253.6396,-518.9295 253.6396,-497.9295 227.6396,-497.9295\"/>\n<text text-anchor=\"start\" x=\"231.1396\" y=\"-504.7295\" font-family=\"Times,serif\" font-size=\"14.00\" fill=\"#000000\">yes</text>\n<polygon fill=\"none\" stroke=\"#000000\" points=\"255.6396,-497.9295 255.6396,-518.9295 281.6396,-518.9295 281.6396,-497.9295 255.6396,-497.9295\"/>\n<text text-anchor=\"start\" x=\"260.6396\" y=\"-504.7295\" font-family=\"Times,serif\" font-size=\"14.00\" fill=\"#000000\">no</text>\n<polygon fill=\"none\" stroke=\"#000000\" points=\"227.6396,-474.9295 227.6396,-495.9295 253.6396,-495.9295 253.6396,-474.9295 227.6396,-474.9295\"/>\n<text text-anchor=\"start\" x=\"231.1396\" y=\"-481.7295\" font-family=\"Times,serif\" font-size=\"14.00\" fill=\"#000000\">0.5</text>\n<polygon fill=\"none\" stroke=\"#000000\" points=\"255.6396,-474.9295 255.6396,-495.9295 281.6396,-495.9295 281.6396,-474.9295 255.6396,-474.9295\"/>\n<text text-anchor=\"start\" x=\"259.1396\" y=\"-481.7295\" font-family=\"Times,serif\" font-size=\"14.00\" fill=\"#000000\">0.5</text>\n<polygon fill=\"none\" stroke=\"#000000\" points=\"224.6396,-472.4295 224.6396,-545.4295 284.6396,-545.4295 284.6396,-472.4295 224.6396,-472.4295\"/>\n</g>\n<!-- lung -->\n<g id=\"node4\" class=\"node\">\n<title>lung</title>\n<ellipse fill=\"none\" stroke=\"#000000\" cx=\"208.6396\" cy=\"-358.3782\" rx=\"63.7795\" ry=\"57.0522\"/>\n<polygon fill=\"none\" stroke=\"#000000\" points=\"174.6396,-370.3782 174.6396,-391.3782 242.6396,-391.3782 242.6396,-370.3782 174.6396,-370.3782\"/>\n<text text-anchor=\"start\" x=\"191.6396\" y=\"-377.1782\" font-family=\"Times,serif\" font-size=\"14.00\" fill=\"#000000\"> lung </text>\n<polygon fill=\"none\" stroke=\"#000000\" points=\"174.6396,-347.3782 174.6396,-368.3782 207.6396,-368.3782 207.6396,-347.3782 174.6396,-347.3782\"/>\n<text text-anchor=\"start\" x=\"181.6396\" y=\"-354.1782\" font-family=\"Times,serif\" font-size=\"14.00\" fill=\"#000000\">yes</text>\n<polygon fill=\"none\" stroke=\"#000000\" points=\"209.6396,-347.3782 209.6396,-368.3782 242.6396,-368.3782 242.6396,-347.3782 209.6396,-347.3782\"/>\n<text text-anchor=\"start\" x=\"218.1396\" y=\"-354.1782\" font-family=\"Times,serif\" font-size=\"14.00\" fill=\"#000000\">no</text>\n<polygon fill=\"none\" stroke=\"#000000\" points=\"174.6396,-324.3782 174.6396,-345.3782 207.6396,-345.3782 207.6396,-324.3782 174.6396,-324.3782\"/>\n<text text-anchor=\"start\" x=\"177.6396\" y=\"-331.1782\" font-family=\"Times,serif\" font-size=\"14.00\" fill=\"#000000\">0.06</text>\n<polygon fill=\"none\" stroke=\"#000000\" points=\"209.6396,-324.3782 209.6396,-345.3782 242.6396,-345.3782 242.6396,-324.3782 209.6396,-324.3782\"/>\n<text text-anchor=\"start\" x=\"212.6396\" y=\"-331.1782\" font-family=\"Times,serif\" font-size=\"14.00\" fill=\"#000000\">0.94</text>\n<polygon fill=\"none\" stroke=\"#000000\" points=\"171.6396,-321.8782 171.6396,-394.8782 245.6396,-394.8782 245.6396,-321.8782 171.6396,-321.8782\"/>\n</g>\n<!-- smoke&#45;&gt;lung -->\n<g id=\"edge3\" class=\"edge\">\n<title>smoke&#45;&gt;lung</title>\n<path fill=\"none\" stroke=\"#000000\" d=\"M237.9024,-454.1512C234.8461,-444.1482 231.63,-433.6226 228.4935,-423.3573\"/>\n<polygon fill=\"#000000\" stroke=\"#000000\" points=\"231.788,-422.1614 225.5186,-413.6206 225.0935,-424.2069 231.788,-422.1614\"/>\n</g>\n<!-- bronc -->\n<g id=\"node5\" class=\"node\">\n<title>bronc</title>\n<ellipse fill=\"none\" stroke=\"#000000\" cx=\"300.6396\" cy=\"-207.8269\" rx=\"63.7795\" ry=\"57.0522\"/>\n<polygon fill=\"none\" stroke=\"#000000\" points=\"266.6396,-219.8269 266.6396,-240.8269 334.6396,-240.8269 334.6396,-219.8269 266.6396,-219.8269\"/>\n<text text-anchor=\"start\" x=\"280.1396\" y=\"-226.6269\" font-family=\"Times,serif\" font-size=\"14.00\" fill=\"#000000\"> bronc </text>\n<polygon fill=\"none\" stroke=\"#000000\" points=\"266.6396,-196.8269 266.6396,-217.8269 299.6396,-217.8269 299.6396,-196.8269 266.6396,-196.8269\"/>\n<text text-anchor=\"start\" x=\"273.6396\" y=\"-203.6269\" font-family=\"Times,serif\" font-size=\"14.00\" fill=\"#000000\">yes</text>\n<polygon fill=\"none\" stroke=\"#000000\" points=\"301.6396,-196.8269 301.6396,-217.8269 334.6396,-217.8269 334.6396,-196.8269 301.6396,-196.8269\"/>\n<text text-anchor=\"start\" x=\"310.1396\" y=\"-203.6269\" font-family=\"Times,serif\" font-size=\"14.00\" fill=\"#000000\">no</text>\n<polygon fill=\"none\" stroke=\"#000000\" points=\"266.6396,-173.8269 266.6396,-194.8269 299.6396,-194.8269 299.6396,-173.8269 266.6396,-173.8269\"/>\n<text text-anchor=\"start\" x=\"269.6396\" y=\"-180.6269\" font-family=\"Times,serif\" font-size=\"14.00\" fill=\"#000000\">0.45</text>\n<polygon fill=\"none\" stroke=\"#000000\" points=\"301.6396,-173.8269 301.6396,-194.8269 334.6396,-194.8269 334.6396,-173.8269 301.6396,-173.8269\"/>\n<text text-anchor=\"start\" x=\"304.6396\" y=\"-180.6269\" font-family=\"Times,serif\" font-size=\"14.00\" fill=\"#000000\">0.55</text>\n<polygon fill=\"none\" stroke=\"#000000\" points=\"263.6396,-171.3269 263.6396,-244.3269 337.6396,-244.3269 337.6396,-171.3269 263.6396,-171.3269\"/>\n</g>\n<!-- smoke&#45;&gt;bronc -->\n<g id=\"edge4\" class=\"edge\">\n<title>smoke&#45;&gt;bronc</title>\n<path fill=\"none\" stroke=\"#000000\" d=\"M272.2513,-454.6028C275.8316,-441.931 279.2331,-428.4099 281.6396,-415.6539 290.4015,-369.2108 295.1673,-316.1372 297.7345,-275.2489\"/>\n<polygon fill=\"#000000\" stroke=\"#000000\" points=\"301.2365,-275.319 298.3409,-265.1276 294.249,-274.9003 301.2365,-275.319\"/>\n</g>\n<!-- lung&#45;&gt;either -->\n<g id=\"edge5\" class=\"edge\">\n<title>lung&#45;&gt;either</title>\n<path fill=\"none\" stroke=\"#000000\" d=\"M189.3555,-303.5999C185.7524,-293.3651 181.9567,-282.5831 178.2637,-272.0926\"/>\n<polygon fill=\"#000000\" stroke=\"#000000\" points=\"181.5315,-270.8348 174.9094,-262.5645 174.9287,-273.1593 181.5315,-270.8348\"/>\n</g>\n<!-- dysp -->\n<g id=\"node8\" class=\"node\">\n<title>dysp</title>\n<ellipse fill=\"none\" stroke=\"#000000\" cx=\"300.6396\" cy=\"-57.2756\" rx=\"63.7795\" ry=\"57.0522\"/>\n<polygon fill=\"none\" stroke=\"#000000\" points=\"266.6396,-69.2756 266.6396,-90.2756 334.6396,-90.2756 334.6396,-69.2756 266.6396,-69.2756\"/>\n<text text-anchor=\"start\" x=\"282.6396\" y=\"-76.0756\" font-family=\"Times,serif\" font-size=\"14.00\" fill=\"#000000\"> dysp </text>\n<polygon fill=\"none\" stroke=\"#000000\" points=\"266.6396,-46.2756 266.6396,-67.2756 299.6396,-67.2756 299.6396,-46.2756 266.6396,-46.2756\"/>\n<text text-anchor=\"start\" x=\"273.6396\" y=\"-53.0756\" font-family=\"Times,serif\" font-size=\"14.00\" fill=\"#000000\">yes</text>\n<polygon fill=\"none\" stroke=\"#000000\" points=\"301.6396,-46.2756 301.6396,-67.2756 334.6396,-67.2756 334.6396,-46.2756 301.6396,-46.2756\"/>\n<text text-anchor=\"start\" x=\"310.1396\" y=\"-53.0756\" font-family=\"Times,serif\" font-size=\"14.00\" fill=\"#000000\">no</text>\n<polygon fill=\"none\" stroke=\"#000000\" points=\"266.6396,-23.2756 266.6396,-44.2756 299.6396,-44.2756 299.6396,-23.2756 266.6396,-23.2756\"/>\n<text text-anchor=\"start\" x=\"269.6396\" y=\"-30.0756\" font-family=\"Times,serif\" font-size=\"14.00\" fill=\"#000000\">0.44</text>\n<polygon fill=\"none\" stroke=\"#000000\" points=\"301.6396,-23.2756 301.6396,-44.2756 334.6396,-44.2756 334.6396,-23.2756 301.6396,-23.2756\"/>\n<text text-anchor=\"start\" x=\"304.6396\" y=\"-30.0756\" font-family=\"Times,serif\" font-size=\"14.00\" fill=\"#000000\">0.56</text>\n<polygon fill=\"none\" stroke=\"#000000\" points=\"263.6396,-20.7756 263.6396,-93.7756 337.6396,-93.7756 337.6396,-20.7756 263.6396,-20.7756\"/>\n</g>\n<!-- bronc&#45;&gt;dysp -->\n<g id=\"edge6\" class=\"edge\">\n<title>bronc&#45;&gt;dysp</title>\n<path fill=\"none\" stroke=\"#000000\" d=\"M300.6396,-150.4805C300.6396,-142.2097 300.6396,-133.6324 300.6396,-125.1801\"/>\n<polygon fill=\"#000000\" stroke=\"#000000\" points=\"304.1397,-124.9614 300.6396,-114.9614 297.1397,-124.9614 304.1397,-124.9614\"/>\n</g>\n<!-- xray -->\n<g id=\"node7\" class=\"node\">\n<title>xray</title>\n<ellipse fill=\"none\" stroke=\"#000000\" cx=\"155.6396\" cy=\"-57.2756\" rx=\"62.8651\" ry=\"57.0522\"/>\n<polygon fill=\"none\" stroke=\"#000000\" points=\"122.6396,-69.2756 122.6396,-90.2756 189.6396,-90.2756 189.6396,-69.2756 122.6396,-69.2756\"/>\n<text text-anchor=\"start\" x=\"139.1396\" y=\"-76.0756\" font-family=\"Times,serif\" font-size=\"14.00\" fill=\"#000000\"> xray </text>\n<polygon fill=\"none\" stroke=\"#000000\" points=\"122.6396,-46.2756 122.6396,-67.2756 154.6396,-67.2756 154.6396,-46.2756 122.6396,-46.2756\"/>\n<text text-anchor=\"start\" x=\"129.1396\" y=\"-53.0756\" font-family=\"Times,serif\" font-size=\"14.00\" fill=\"#000000\">yes</text>\n<polygon fill=\"none\" stroke=\"#000000\" points=\"156.6396,-46.2756 156.6396,-67.2756 189.6396,-67.2756 189.6396,-46.2756 156.6396,-46.2756\"/>\n<text text-anchor=\"start\" x=\"165.1396\" y=\"-53.0756\" font-family=\"Times,serif\" font-size=\"14.00\" fill=\"#000000\">no</text>\n<polygon fill=\"none\" stroke=\"#000000\" points=\"122.6396,-23.2756 122.6396,-44.2756 154.6396,-44.2756 154.6396,-23.2756 122.6396,-23.2756\"/>\n<text text-anchor=\"start\" x=\"125.6396\" y=\"-30.0756\" font-family=\"Times,serif\" font-size=\"14.00\" fill=\"#000000\">0.11</text>\n<polygon fill=\"none\" stroke=\"#000000\" points=\"156.6396,-23.2756 156.6396,-44.2756 189.6396,-44.2756 189.6396,-23.2756 156.6396,-23.2756\"/>\n<text text-anchor=\"start\" x=\"159.6396\" y=\"-30.0756\" font-family=\"Times,serif\" font-size=\"14.00\" fill=\"#000000\">0.89</text>\n<polygon fill=\"none\" stroke=\"#000000\" points=\"119.1396,-20.7756 119.1396,-93.7756 192.1396,-93.7756 192.1396,-20.7756 119.1396,-20.7756\"/>\n</g>\n<!-- either&#45;&gt;xray -->\n<g id=\"edge7\" class=\"edge\">\n<title>either&#45;&gt;xray</title>\n<path fill=\"none\" stroke=\"#000000\" d=\"M155.6396,-150.4805C155.6396,-142.2097 155.6396,-133.6324 155.6396,-125.1801\"/>\n<polygon fill=\"#000000\" stroke=\"#000000\" points=\"159.1397,-124.9614 155.6396,-114.9614 152.1397,-124.9614 159.1397,-124.9614\"/>\n</g>\n<!-- either&#45;&gt;dysp -->\n<g id=\"edge8\" class=\"edge\">\n<title>either&#45;&gt;dysp</title>\n<path fill=\"none\" stroke=\"#000000\" d=\"M197.5796,-164.2813C214.4123,-146.8042 233.9352,-126.5339 251.4327,-108.3665\"/>\n<polygon fill=\"#000000\" stroke=\"#000000\" points=\"254.3777,-110.3541 258.7939,-100.7235 249.3359,-105.4981 254.3777,-110.3541\"/>\n</g>\n</g>\n</svg>\n"
          },
          "metadata": {
            "tags": []
          }
        }
      ]
    },
    {
      "cell_type": "markdown",
      "metadata": {
        "id": "StB-XG1z7FEP"
      },
      "source": [
        "## Posterior marginals given dsypnea=yes"
      ]
    },
    {
      "cell_type": "code",
      "metadata": {
        "colab": {
          "base_uri": "https://localhost:8080/",
          "height": 1000
        },
        "id": "ZMcpy_pA67bi",
        "outputId": "55655b2f-5813-4394-d20f-4b3c75a75363"
      },
      "source": [
        "\n",
        "evidence  = {'dysp': 0}\n",
        "marginals = pgm.get_marginals(model, evidence, infer)\n",
        "print('\\n')\n",
        "for k, v in marginals.items():\n",
        "  print(k, v)\n",
        "\n",
        "display(pgm.visualize_marginals(model, evidence, marginals))\n",
        "\n"
      ],
      "execution_count": 14,
      "outputs": [
        {
          "output_type": "stream",
          "text": [
            "/usr/local/lib/python3.7/dist-packages/pgmpy/factors/discrete/DiscreteFactor.py:519: UserWarning: Found unknown state name. Trying to switch to using all state names as state numbers\n",
            "  \"Found unknown state name. Trying to switch to using all state names as state numbers\"\n",
            "Finding Elimination Order: : 100%|██████████| 6/6 [00:00<00:00, 886.62it/s]\n",
            "Eliminating: either: 100%|██████████| 6/6 [00:00<00:00, 217.72it/s]\n",
            "Finding Elimination Order: : 100%|██████████| 6/6 [00:00<00:00, 2864.96it/s]\n",
            "Eliminating: either: 100%|██████████| 6/6 [00:00<00:00, 348.62it/s]\n",
            "Finding Elimination Order: : 100%|██████████| 6/6 [00:00<00:00, 1464.24it/s]\n",
            "Eliminating: either: 100%|██████████| 6/6 [00:00<00:00, 251.93it/s]\n",
            "Finding Elimination Order: : 100%|██████████| 6/6 [00:00<00:00, 1565.04it/s]\n",
            "Eliminating: either: 100%|██████████| 6/6 [00:00<00:00, 262.65it/s]\n",
            "Finding Elimination Order: : 100%|██████████| 6/6 [00:00<00:00, 857.38it/s]\n",
            "Eliminating: either: 100%|██████████| 6/6 [00:00<00:00, 211.80it/s]\n",
            "Finding Elimination Order: : 100%|██████████| 6/6 [00:00<00:00, 1712.78it/s]\n",
            "Eliminating: xray: 100%|██████████| 6/6 [00:00<00:00, 344.50it/s]\n",
            "Finding Elimination Order: : 100%|██████████| 6/6 [00:00<00:00, 669.98it/s]\n",
            "Eliminating: either: 100%|██████████| 6/6 [00:00<00:00, 290.36it/s]\n"
          ],
          "name": "stderr"
        },
        {
          "output_type": "stream",
          "text": [
            "\n",
            "\n",
            "asia [0.01032495 0.98967505]\n",
            "tub [0.01884531 0.98115469]\n",
            "smoke [0.63399688 0.36600312]\n",
            "lung [0.10275922 0.89724078]\n",
            "bronc [0.83396734 0.16603266]\n",
            "either [0.12053583 0.87946417]\n",
            "xray [0.16209833 0.83790167]\n",
            "dysp [1. 0.]\n"
          ],
          "name": "stdout"
        },
        {
          "output_type": "display_data",
          "data": {
            "text/plain": [
              "<graphviz.dot.Digraph at 0x7fa3a8b66dd0>"
            ],
            "image/svg+xml": "<?xml version=\"1.0\" encoding=\"UTF-8\" standalone=\"no\"?>\n<!DOCTYPE svg PUBLIC \"-//W3C//DTD SVG 1.1//EN\"\n \"http://www.w3.org/Graphics/SVG/1.1/DTD/svg11.dtd\">\n<!-- Generated by graphviz version 2.40.1 (20161225.0304)\n -->\n<!-- Title: pgm Pages: 1 -->\n<svg width=\"349pt\" height=\"574pt\"\n viewBox=\"0.00 0.00 349.28 574.21\" xmlns=\"http://www.w3.org/2000/svg\" xmlns:xlink=\"http://www.w3.org/1999/xlink\">\n<g id=\"graph0\" class=\"graph\" transform=\"scale(1 1) rotate(0) translate(4 570.2052)\">\n<title>pgm</title>\n<polygon fill=\"#ffffff\" stroke=\"transparent\" points=\"-4,4 -4,-570.2052 345.2792,-570.2052 345.2792,4 -4,4\"/>\n<!-- asia -->\n<g id=\"node1\" class=\"node\">\n<title>asia</title>\n<ellipse fill=\"none\" stroke=\"#000000\" cx=\"63.6396\" cy=\"-508.9295\" rx=\"63.7795\" ry=\"57.0522\"/>\n<polygon fill=\"none\" stroke=\"#000000\" points=\"29.6396,-520.9295 29.6396,-541.9295 97.6396,-541.9295 97.6396,-520.9295 29.6396,-520.9295\"/>\n<text text-anchor=\"start\" x=\"49.1396\" y=\"-527.7295\" font-family=\"Times,serif\" font-size=\"14.00\" fill=\"#000000\"> asia </text>\n<polygon fill=\"none\" stroke=\"#000000\" points=\"29.6396,-497.9295 29.6396,-518.9295 62.6396,-518.9295 62.6396,-497.9295 29.6396,-497.9295\"/>\n<text text-anchor=\"start\" x=\"36.6396\" y=\"-504.7295\" font-family=\"Times,serif\" font-size=\"14.00\" fill=\"#000000\">yes</text>\n<polygon fill=\"none\" stroke=\"#000000\" points=\"64.6396,-497.9295 64.6396,-518.9295 97.6396,-518.9295 97.6396,-497.9295 64.6396,-497.9295\"/>\n<text text-anchor=\"start\" x=\"73.1396\" y=\"-504.7295\" font-family=\"Times,serif\" font-size=\"14.00\" fill=\"#000000\">no</text>\n<polygon fill=\"none\" stroke=\"#000000\" points=\"29.6396,-474.9295 29.6396,-495.9295 62.6396,-495.9295 62.6396,-474.9295 29.6396,-474.9295\"/>\n<text text-anchor=\"start\" x=\"32.6396\" y=\"-481.7295\" font-family=\"Times,serif\" font-size=\"14.00\" fill=\"#000000\">0.01</text>\n<polygon fill=\"none\" stroke=\"#000000\" points=\"64.6396,-474.9295 64.6396,-495.9295 97.6396,-495.9295 97.6396,-474.9295 64.6396,-474.9295\"/>\n<text text-anchor=\"start\" x=\"67.6396\" y=\"-481.7295\" font-family=\"Times,serif\" font-size=\"14.00\" fill=\"#000000\">0.99</text>\n<polygon fill=\"none\" stroke=\"#000000\" points=\"26.6396,-472.4295 26.6396,-545.4295 100.6396,-545.4295 100.6396,-472.4295 26.6396,-472.4295\"/>\n</g>\n<!-- tub -->\n<g id=\"node2\" class=\"node\">\n<title>tub</title>\n<ellipse fill=\"none\" stroke=\"#000000\" cx=\"63.6396\" cy=\"-358.3782\" rx=\"63.7795\" ry=\"57.0522\"/>\n<polygon fill=\"none\" stroke=\"#000000\" points=\"29.6396,-370.3782 29.6396,-391.3782 97.6396,-391.3782 97.6396,-370.3782 29.6396,-370.3782\"/>\n<text text-anchor=\"start\" x=\"50.1396\" y=\"-377.1782\" font-family=\"Times,serif\" font-size=\"14.00\" fill=\"#000000\"> tub </text>\n<polygon fill=\"none\" stroke=\"#000000\" points=\"29.6396,-347.3782 29.6396,-368.3782 62.6396,-368.3782 62.6396,-347.3782 29.6396,-347.3782\"/>\n<text text-anchor=\"start\" x=\"36.6396\" y=\"-354.1782\" font-family=\"Times,serif\" font-size=\"14.00\" fill=\"#000000\">yes</text>\n<polygon fill=\"none\" stroke=\"#000000\" points=\"64.6396,-347.3782 64.6396,-368.3782 97.6396,-368.3782 97.6396,-347.3782 64.6396,-347.3782\"/>\n<text text-anchor=\"start\" x=\"73.1396\" y=\"-354.1782\" font-family=\"Times,serif\" font-size=\"14.00\" fill=\"#000000\">no</text>\n<polygon fill=\"none\" stroke=\"#000000\" points=\"29.6396,-324.3782 29.6396,-345.3782 62.6396,-345.3782 62.6396,-324.3782 29.6396,-324.3782\"/>\n<text text-anchor=\"start\" x=\"32.6396\" y=\"-331.1782\" font-family=\"Times,serif\" font-size=\"14.00\" fill=\"#000000\">0.02</text>\n<polygon fill=\"none\" stroke=\"#000000\" points=\"64.6396,-324.3782 64.6396,-345.3782 97.6396,-345.3782 97.6396,-324.3782 64.6396,-324.3782\"/>\n<text text-anchor=\"start\" x=\"67.6396\" y=\"-331.1782\" font-family=\"Times,serif\" font-size=\"14.00\" fill=\"#000000\">0.98</text>\n<polygon fill=\"none\" stroke=\"#000000\" points=\"26.6396,-321.8782 26.6396,-394.8782 100.6396,-394.8782 100.6396,-321.8782 26.6396,-321.8782\"/>\n</g>\n<!-- asia&#45;&gt;tub -->\n<g id=\"edge1\" class=\"edge\">\n<title>asia&#45;&gt;tub</title>\n<path fill=\"none\" stroke=\"#000000\" d=\"M63.6396,-451.5831C63.6396,-443.3123 63.6396,-434.7349 63.6396,-426.2827\"/>\n<polygon fill=\"#000000\" stroke=\"#000000\" points=\"67.1397,-426.064 63.6396,-416.064 60.1397,-426.064 67.1397,-426.064\"/>\n</g>\n<!-- either -->\n<g id=\"node6\" class=\"node\">\n<title>either</title>\n<ellipse fill=\"none\" stroke=\"#000000\" cx=\"132.6396\" cy=\"-207.8269\" rx=\"63.7795\" ry=\"57.0522\"/>\n<polygon fill=\"none\" stroke=\"#000000\" points=\"98.6396,-219.8269 98.6396,-240.8269 166.6396,-240.8269 166.6396,-219.8269 98.6396,-219.8269\"/>\n<text text-anchor=\"start\" x=\"112.6396\" y=\"-226.6269\" font-family=\"Times,serif\" font-size=\"14.00\" fill=\"#000000\"> either </text>\n<polygon fill=\"none\" stroke=\"#000000\" points=\"98.6396,-196.8269 98.6396,-217.8269 131.6396,-217.8269 131.6396,-196.8269 98.6396,-196.8269\"/>\n<text text-anchor=\"start\" x=\"105.6396\" y=\"-203.6269\" font-family=\"Times,serif\" font-size=\"14.00\" fill=\"#000000\">yes</text>\n<polygon fill=\"none\" stroke=\"#000000\" points=\"133.6396,-196.8269 133.6396,-217.8269 166.6396,-217.8269 166.6396,-196.8269 133.6396,-196.8269\"/>\n<text text-anchor=\"start\" x=\"142.1396\" y=\"-203.6269\" font-family=\"Times,serif\" font-size=\"14.00\" fill=\"#000000\">no</text>\n<polygon fill=\"none\" stroke=\"#000000\" points=\"98.6396,-173.8269 98.6396,-194.8269 131.6396,-194.8269 131.6396,-173.8269 98.6396,-173.8269\"/>\n<text text-anchor=\"start\" x=\"101.6396\" y=\"-180.6269\" font-family=\"Times,serif\" font-size=\"14.00\" fill=\"#000000\">0.12</text>\n<polygon fill=\"none\" stroke=\"#000000\" points=\"133.6396,-173.8269 133.6396,-194.8269 166.6396,-194.8269 166.6396,-173.8269 133.6396,-173.8269\"/>\n<text text-anchor=\"start\" x=\"136.6396\" y=\"-180.6269\" font-family=\"Times,serif\" font-size=\"14.00\" fill=\"#000000\">0.88</text>\n<polygon fill=\"none\" stroke=\"#000000\" points=\"95.6396,-171.3269 95.6396,-244.3269 169.6396,-244.3269 169.6396,-171.3269 95.6396,-171.3269\"/>\n</g>\n<!-- tub&#45;&gt;either -->\n<g id=\"edge2\" class=\"edge\">\n<title>tub&#45;&gt;either</title>\n<path fill=\"none\" stroke=\"#000000\" d=\"M87.9664,-305.2995C93.1711,-293.9435 98.7149,-281.8473 104.063,-270.1783\"/>\n<polygon fill=\"#000000\" stroke=\"#000000\" points=\"107.3152,-271.4828 108.2999,-260.9338 100.9517,-268.5663 107.3152,-271.4828\"/>\n</g>\n<!-- smoke -->\n<g id=\"node3\" class=\"node\">\n<title>smoke</title>\n<ellipse fill=\"none\" stroke=\"#000000\" cx=\"242.6396\" cy=\"-508.9295\" rx=\"63.7795\" ry=\"57.0522\"/>\n<polygon fill=\"none\" stroke=\"#000000\" points=\"208.6396,-520.9295 208.6396,-541.9295 276.6396,-541.9295 276.6396,-520.9295 208.6396,-520.9295\"/>\n<text text-anchor=\"start\" x=\"219.6396\" y=\"-527.7295\" font-family=\"Times,serif\" font-size=\"14.00\" fill=\"#000000\"> smoke </text>\n<polygon fill=\"none\" stroke=\"#000000\" points=\"208.6396,-497.9295 208.6396,-518.9295 241.6396,-518.9295 241.6396,-497.9295 208.6396,-497.9295\"/>\n<text text-anchor=\"start\" x=\"215.6396\" y=\"-504.7295\" font-family=\"Times,serif\" font-size=\"14.00\" fill=\"#000000\">yes</text>\n<polygon fill=\"none\" stroke=\"#000000\" points=\"243.6396,-497.9295 243.6396,-518.9295 276.6396,-518.9295 276.6396,-497.9295 243.6396,-497.9295\"/>\n<text text-anchor=\"start\" x=\"252.1396\" y=\"-504.7295\" font-family=\"Times,serif\" font-size=\"14.00\" fill=\"#000000\">no</text>\n<polygon fill=\"none\" stroke=\"#000000\" points=\"208.6396,-474.9295 208.6396,-495.9295 241.6396,-495.9295 241.6396,-474.9295 208.6396,-474.9295\"/>\n<text text-anchor=\"start\" x=\"211.6396\" y=\"-481.7295\" font-family=\"Times,serif\" font-size=\"14.00\" fill=\"#000000\">0.63</text>\n<polygon fill=\"none\" stroke=\"#000000\" points=\"243.6396,-474.9295 243.6396,-495.9295 276.6396,-495.9295 276.6396,-474.9295 243.6396,-474.9295\"/>\n<text text-anchor=\"start\" x=\"246.6396\" y=\"-481.7295\" font-family=\"Times,serif\" font-size=\"14.00\" fill=\"#000000\">0.37</text>\n<polygon fill=\"none\" stroke=\"#000000\" points=\"205.6396,-472.4295 205.6396,-545.4295 279.6396,-545.4295 279.6396,-472.4295 205.6396,-472.4295\"/>\n</g>\n<!-- lung -->\n<g id=\"node4\" class=\"node\">\n<title>lung</title>\n<ellipse fill=\"none\" stroke=\"#000000\" cx=\"197.6396\" cy=\"-358.3782\" rx=\"52.1524\" ry=\"57.0522\"/>\n<polygon fill=\"none\" stroke=\"#000000\" points=\"171.6396,-370.3782 171.6396,-391.3782 223.6396,-391.3782 223.6396,-370.3782 171.6396,-370.3782\"/>\n<text text-anchor=\"start\" x=\"180.6396\" y=\"-377.1782\" font-family=\"Times,serif\" font-size=\"14.00\" fill=\"#000000\"> lung </text>\n<polygon fill=\"none\" stroke=\"#000000\" points=\"171.6396,-347.3782 171.6396,-368.3782 196.6396,-368.3782 196.6396,-347.3782 171.6396,-347.3782\"/>\n<text text-anchor=\"start\" x=\"174.6396\" y=\"-354.1782\" font-family=\"Times,serif\" font-size=\"14.00\" fill=\"#000000\">yes</text>\n<polygon fill=\"none\" stroke=\"#000000\" points=\"198.6396,-347.3782 198.6396,-368.3782 223.6396,-368.3782 223.6396,-347.3782 198.6396,-347.3782\"/>\n<text text-anchor=\"start\" x=\"203.1396\" y=\"-354.1782\" font-family=\"Times,serif\" font-size=\"14.00\" fill=\"#000000\">no</text>\n<polygon fill=\"none\" stroke=\"#000000\" points=\"171.6396,-324.3782 171.6396,-345.3782 196.6396,-345.3782 196.6396,-324.3782 171.6396,-324.3782\"/>\n<text text-anchor=\"start\" x=\"174.6396\" y=\"-331.1782\" font-family=\"Times,serif\" font-size=\"14.00\" fill=\"#000000\">0.1</text>\n<polygon fill=\"none\" stroke=\"#000000\" points=\"198.6396,-324.3782 198.6396,-345.3782 223.6396,-345.3782 223.6396,-324.3782 198.6396,-324.3782\"/>\n<text text-anchor=\"start\" x=\"201.6396\" y=\"-331.1782\" font-family=\"Times,serif\" font-size=\"14.00\" fill=\"#000000\">0.9</text>\n<polygon fill=\"none\" stroke=\"#000000\" points=\"168.6396,-321.8782 168.6396,-394.8782 226.6396,-394.8782 226.6396,-321.8782 168.6396,-321.8782\"/>\n</g>\n<!-- smoke&#45;&gt;lung -->\n<g id=\"edge3\" class=\"edge\">\n<title>smoke&#45;&gt;lung</title>\n<path fill=\"none\" stroke=\"#000000\" d=\"M226.0111,-453.2975C223.0323,-443.3318 219.9059,-432.8721 216.8613,-422.6862\"/>\n<polygon fill=\"#000000\" stroke=\"#000000\" points=\"220.1922,-421.6081 213.9749,-413.0293 213.4854,-423.6128 220.1922,-421.6081\"/>\n</g>\n<!-- bronc -->\n<g id=\"node5\" class=\"node\">\n<title>bronc</title>\n<ellipse fill=\"none\" stroke=\"#000000\" cx=\"277.6396\" cy=\"-207.8269\" rx=\"63.7795\" ry=\"57.0522\"/>\n<polygon fill=\"none\" stroke=\"#000000\" points=\"243.6396,-219.8269 243.6396,-240.8269 311.6396,-240.8269 311.6396,-219.8269 243.6396,-219.8269\"/>\n<text text-anchor=\"start\" x=\"257.1396\" y=\"-226.6269\" font-family=\"Times,serif\" font-size=\"14.00\" fill=\"#000000\"> bronc </text>\n<polygon fill=\"none\" stroke=\"#000000\" points=\"243.6396,-196.8269 243.6396,-217.8269 276.6396,-217.8269 276.6396,-196.8269 243.6396,-196.8269\"/>\n<text text-anchor=\"start\" x=\"250.6396\" y=\"-203.6269\" font-family=\"Times,serif\" font-size=\"14.00\" fill=\"#000000\">yes</text>\n<polygon fill=\"none\" stroke=\"#000000\" points=\"278.6396,-196.8269 278.6396,-217.8269 311.6396,-217.8269 311.6396,-196.8269 278.6396,-196.8269\"/>\n<text text-anchor=\"start\" x=\"287.1396\" y=\"-203.6269\" font-family=\"Times,serif\" font-size=\"14.00\" fill=\"#000000\">no</text>\n<polygon fill=\"none\" stroke=\"#000000\" points=\"243.6396,-173.8269 243.6396,-194.8269 276.6396,-194.8269 276.6396,-173.8269 243.6396,-173.8269\"/>\n<text text-anchor=\"start\" x=\"246.6396\" y=\"-180.6269\" font-family=\"Times,serif\" font-size=\"14.00\" fill=\"#000000\">0.83</text>\n<polygon fill=\"none\" stroke=\"#000000\" points=\"278.6396,-173.8269 278.6396,-194.8269 311.6396,-194.8269 311.6396,-173.8269 278.6396,-173.8269\"/>\n<text text-anchor=\"start\" x=\"281.6396\" y=\"-180.6269\" font-family=\"Times,serif\" font-size=\"14.00\" fill=\"#000000\">0.17</text>\n<polygon fill=\"none\" stroke=\"#000000\" points=\"240.6396,-171.3269 240.6396,-244.3269 314.6396,-244.3269 314.6396,-171.3269 240.6396,-171.3269\"/>\n</g>\n<!-- smoke&#45;&gt;bronc -->\n<g id=\"edge4\" class=\"edge\">\n<title>smoke&#45;&gt;bronc</title>\n<path fill=\"none\" stroke=\"#000000\" d=\"M253.0854,-452.3127C255.1067,-440.2404 257.0785,-427.5459 258.6396,-415.6539 264.7693,-368.9592 269.5727,-316.1029 272.8163,-275.3806\"/>\n<polygon fill=\"#000000\" stroke=\"#000000\" points=\"276.3142,-275.5432 273.6072,-265.3 269.3357,-274.9956 276.3142,-275.5432\"/>\n</g>\n<!-- lung&#45;&gt;either -->\n<g id=\"edge5\" class=\"edge\">\n<title>lung&#45;&gt;either</title>\n<path fill=\"none\" stroke=\"#000000\" d=\"M175.2703,-306.567C170.2863,-295.0232 164.9491,-282.6614 159.7962,-270.7263\"/>\n<polygon fill=\"#000000\" stroke=\"#000000\" points=\"162.8906,-269.0635 155.7134,-261.27 156.464,-271.8382 162.8906,-269.0635\"/>\n</g>\n<!-- dysp -->\n<g id=\"node8\" class=\"node\">\n<title>dysp</title>\n<ellipse fill=\"none\" stroke=\"#000000\" cx=\"271.6396\" cy=\"-57.2756\" rx=\"52.1524\" ry=\"57.0522\"/>\n<polygon fill=\"#bebebe\" stroke=\"transparent\" points=\"245.6396,-69.2756 245.6396,-90.2756 297.6396,-90.2756 297.6396,-69.2756 245.6396,-69.2756\"/>\n<polygon fill=\"none\" stroke=\"#000000\" points=\"245.6396,-69.2756 245.6396,-90.2756 297.6396,-90.2756 297.6396,-69.2756 245.6396,-69.2756\"/>\n<text text-anchor=\"start\" x=\"253.6396\" y=\"-76.0756\" font-family=\"Times,serif\" font-size=\"14.00\" fill=\"#000000\"> dysp </text>\n<polygon fill=\"none\" stroke=\"#000000\" points=\"245.6396,-46.2756 245.6396,-67.2756 270.6396,-67.2756 270.6396,-46.2756 245.6396,-46.2756\"/>\n<text text-anchor=\"start\" x=\"248.6396\" y=\"-53.0756\" font-family=\"Times,serif\" font-size=\"14.00\" fill=\"#000000\">yes</text>\n<polygon fill=\"none\" stroke=\"#000000\" points=\"272.6396,-46.2756 272.6396,-67.2756 297.6396,-67.2756 297.6396,-46.2756 272.6396,-46.2756\"/>\n<text text-anchor=\"start\" x=\"277.1396\" y=\"-53.0756\" font-family=\"Times,serif\" font-size=\"14.00\" fill=\"#000000\">no</text>\n<polygon fill=\"none\" stroke=\"#000000\" points=\"245.6396,-23.2756 245.6396,-44.2756 270.6396,-44.2756 270.6396,-23.2756 245.6396,-23.2756\"/>\n<text text-anchor=\"start\" x=\"248.6396\" y=\"-30.0756\" font-family=\"Times,serif\" font-size=\"14.00\" fill=\"#000000\">1.0</text>\n<polygon fill=\"none\" stroke=\"#000000\" points=\"272.6396,-23.2756 272.6396,-44.2756 297.6396,-44.2756 297.6396,-23.2756 272.6396,-23.2756\"/>\n<text text-anchor=\"start\" x=\"275.6396\" y=\"-30.0756\" font-family=\"Times,serif\" font-size=\"14.00\" fill=\"#000000\">0.0</text>\n<polygon fill=\"none\" stroke=\"#000000\" points=\"242.6396,-20.7756 242.6396,-93.7756 300.6396,-93.7756 300.6396,-20.7756 242.6396,-20.7756\"/>\n</g>\n<!-- bronc&#45;&gt;dysp -->\n<g id=\"edge6\" class=\"edge\">\n<title>bronc&#45;&gt;dysp</title>\n<path fill=\"none\" stroke=\"#000000\" d=\"M275.3542,-150.4805C275.0245,-142.2097 274.6827,-133.6324 274.3458,-125.1801\"/>\n<polygon fill=\"#000000\" stroke=\"#000000\" points=\"277.8341,-124.814 273.9386,-114.9614 270.8397,-125.0929 277.8341,-124.814\"/>\n</g>\n<!-- xray -->\n<g id=\"node7\" class=\"node\">\n<title>xray</title>\n<ellipse fill=\"none\" stroke=\"#000000\" cx=\"132.6396\" cy=\"-57.2756\" rx=\"63.7795\" ry=\"57.0522\"/>\n<polygon fill=\"none\" stroke=\"#000000\" points=\"98.6396,-69.2756 98.6396,-90.2756 166.6396,-90.2756 166.6396,-69.2756 98.6396,-69.2756\"/>\n<text text-anchor=\"start\" x=\"115.6396\" y=\"-76.0756\" font-family=\"Times,serif\" font-size=\"14.00\" fill=\"#000000\"> xray </text>\n<polygon fill=\"none\" stroke=\"#000000\" points=\"98.6396,-46.2756 98.6396,-67.2756 131.6396,-67.2756 131.6396,-46.2756 98.6396,-46.2756\"/>\n<text text-anchor=\"start\" x=\"105.6396\" y=\"-53.0756\" font-family=\"Times,serif\" font-size=\"14.00\" fill=\"#000000\">yes</text>\n<polygon fill=\"none\" stroke=\"#000000\" points=\"133.6396,-46.2756 133.6396,-67.2756 166.6396,-67.2756 166.6396,-46.2756 133.6396,-46.2756\"/>\n<text text-anchor=\"start\" x=\"142.1396\" y=\"-53.0756\" font-family=\"Times,serif\" font-size=\"14.00\" fill=\"#000000\">no</text>\n<polygon fill=\"none\" stroke=\"#000000\" points=\"98.6396,-23.2756 98.6396,-44.2756 131.6396,-44.2756 131.6396,-23.2756 98.6396,-23.2756\"/>\n<text text-anchor=\"start\" x=\"101.6396\" y=\"-30.0756\" font-family=\"Times,serif\" font-size=\"14.00\" fill=\"#000000\">0.16</text>\n<polygon fill=\"none\" stroke=\"#000000\" points=\"133.6396,-23.2756 133.6396,-44.2756 166.6396,-44.2756 166.6396,-23.2756 133.6396,-23.2756\"/>\n<text text-anchor=\"start\" x=\"136.6396\" y=\"-30.0756\" font-family=\"Times,serif\" font-size=\"14.00\" fill=\"#000000\">0.84</text>\n<polygon fill=\"none\" stroke=\"#000000\" points=\"95.6396,-20.7756 95.6396,-93.7756 169.6396,-93.7756 169.6396,-20.7756 95.6396,-20.7756\"/>\n</g>\n<!-- either&#45;&gt;xray -->\n<g id=\"edge7\" class=\"edge\">\n<title>either&#45;&gt;xray</title>\n<path fill=\"none\" stroke=\"#000000\" d=\"M132.6396,-150.4805C132.6396,-142.2097 132.6396,-133.6324 132.6396,-125.1801\"/>\n<polygon fill=\"#000000\" stroke=\"#000000\" points=\"136.1397,-124.9614 132.6396,-114.9614 129.1397,-124.9614 136.1397,-124.9614\"/>\n</g>\n<!-- either&#45;&gt;dysp -->\n<g id=\"edge8\" class=\"edge\">\n<title>either&#45;&gt;dysp</title>\n<path fill=\"none\" stroke=\"#000000\" d=\"M173.5924,-163.4709C190.4094,-145.2563 209.9256,-124.1183 227.0976,-105.5193\"/>\n<polygon fill=\"#000000\" stroke=\"#000000\" points=\"230.0867,-107.4412 234.2988,-97.7196 224.9436,-102.6927 230.0867,-107.4412\"/>\n</g>\n</g>\n</svg>\n"
          },
          "metadata": {
            "tags": []
          }
        }
      ]
    },
    {
      "cell_type": "markdown",
      "metadata": {
        "id": "4xM1w8qR8wgG"
      },
      "source": [
        "## Posterior marginals given dsypnea=yes, asia=yes"
      ]
    },
    {
      "cell_type": "code",
      "metadata": {
        "colab": {
          "base_uri": "https://localhost:8080/",
          "height": 1000
        },
        "id": "eJJhZFWf70pl",
        "outputId": "8d9fc8bb-c41e-41e6-abc2-39f5bc4dac73"
      },
      "source": [
        "evidence  = {'dysp': 'yes', 'asia': 'yes'}\n",
        "marginals = pgm.get_marginals(model,  evidence, infer)\n",
        "print('\\n')\n",
        "for k, v in marginals.items():\n",
        "  print(k, v)\n",
        "\n",
        "display(pgm.visualize_marginals(model, evidence, marginals))\n"
      ],
      "execution_count": 15,
      "outputs": [
        {
          "output_type": "stream",
          "text": [
            "Finding Elimination Order: : 100%|██████████| 5/5 [00:00<00:00, 1342.95it/s]\n",
            "Eliminating: either: 100%|██████████| 5/5 [00:00<00:00, 380.20it/s]\n",
            "Finding Elimination Order: : 100%|██████████| 5/5 [00:00<00:00, 698.00it/s]\n",
            "Eliminating: either: 100%|██████████| 5/5 [00:00<00:00, 301.87it/s]\n",
            "Finding Elimination Order: : 100%|██████████| 5/5 [00:00<00:00, 449.52it/s]\n",
            "Eliminating: either: 100%|██████████| 5/5 [00:00<00:00, 298.22it/s]\n",
            "Finding Elimination Order: : 100%|██████████| 5/5 [00:00<00:00, 1148.12it/s]\n",
            "Eliminating: either: 100%|██████████| 5/5 [00:00<00:00, 144.04it/s]\n",
            "Finding Elimination Order: : 100%|██████████| 5/5 [00:00<00:00, 2005.88it/s]\n",
            "Eliminating: xray: 100%|██████████| 5/5 [00:00<00:00, 322.30it/s]\n",
            "Finding Elimination Order: : 100%|██████████| 5/5 [00:00<00:00, 556.76it/s]\n",
            "Eliminating: either: 100%|██████████| 5/5 [00:00<00:00, 215.90it/s]\n"
          ],
          "name": "stderr"
        },
        {
          "output_type": "stream",
          "text": [
            "\n",
            "\n",
            "asia [1. 0.]\n",
            "tub [0.08775096 0.91224904]\n",
            "smoke [0.62591986 0.37408014]\n",
            "lung [0.09952515 0.90047485]\n",
            "bronc [0.81140207 0.18859793]\n",
            "either [0.18229985 0.81770015]\n",
            "xray [0.21953886 0.78046114]\n",
            "dysp [1. 0.]\n"
          ],
          "name": "stdout"
        },
        {
          "output_type": "display_data",
          "data": {
            "text/plain": [
              "<graphviz.dot.Digraph at 0x7fa3a8b1ce90>"
            ],
            "image/svg+xml": "<?xml version=\"1.0\" encoding=\"UTF-8\" standalone=\"no\"?>\n<!DOCTYPE svg PUBLIC \"-//W3C//DTD SVG 1.1//EN\"\n \"http://www.w3.org/Graphics/SVG/1.1/DTD/svg11.dtd\">\n<!-- Generated by graphviz version 2.40.1 (20161225.0304)\n -->\n<!-- Title: pgm Pages: 1 -->\n<svg width=\"349pt\" height=\"574pt\"\n viewBox=\"0.00 0.00 349.28 574.21\" xmlns=\"http://www.w3.org/2000/svg\" xmlns:xlink=\"http://www.w3.org/1999/xlink\">\n<g id=\"graph0\" class=\"graph\" transform=\"scale(1 1) rotate(0) translate(4 570.2052)\">\n<title>pgm</title>\n<polygon fill=\"#ffffff\" stroke=\"transparent\" points=\"-4,4 -4,-570.2052 345.2792,-570.2052 345.2792,4 -4,4\"/>\n<!-- asia -->\n<g id=\"node1\" class=\"node\">\n<title>asia</title>\n<ellipse fill=\"none\" stroke=\"#000000\" cx=\"63.6396\" cy=\"-508.9295\" rx=\"52.1524\" ry=\"57.0522\"/>\n<polygon fill=\"#bebebe\" stroke=\"transparent\" points=\"37.6396,-520.9295 37.6396,-541.9295 89.6396,-541.9295 89.6396,-520.9295 37.6396,-520.9295\"/>\n<polygon fill=\"none\" stroke=\"#000000\" points=\"37.6396,-520.9295 37.6396,-541.9295 89.6396,-541.9295 89.6396,-520.9295 37.6396,-520.9295\"/>\n<text text-anchor=\"start\" x=\"49.1396\" y=\"-527.7295\" font-family=\"Times,serif\" font-size=\"14.00\" fill=\"#000000\"> asia </text>\n<polygon fill=\"none\" stroke=\"#000000\" points=\"37.6396,-497.9295 37.6396,-518.9295 62.6396,-518.9295 62.6396,-497.9295 37.6396,-497.9295\"/>\n<text text-anchor=\"start\" x=\"40.6396\" y=\"-504.7295\" font-family=\"Times,serif\" font-size=\"14.00\" fill=\"#000000\">yes</text>\n<polygon fill=\"none\" stroke=\"#000000\" points=\"64.6396,-497.9295 64.6396,-518.9295 89.6396,-518.9295 89.6396,-497.9295 64.6396,-497.9295\"/>\n<text text-anchor=\"start\" x=\"69.1396\" y=\"-504.7295\" font-family=\"Times,serif\" font-size=\"14.00\" fill=\"#000000\">no</text>\n<polygon fill=\"none\" stroke=\"#000000\" points=\"37.6396,-474.9295 37.6396,-495.9295 62.6396,-495.9295 62.6396,-474.9295 37.6396,-474.9295\"/>\n<text text-anchor=\"start\" x=\"40.6396\" y=\"-481.7295\" font-family=\"Times,serif\" font-size=\"14.00\" fill=\"#000000\">1.0</text>\n<polygon fill=\"none\" stroke=\"#000000\" points=\"64.6396,-474.9295 64.6396,-495.9295 89.6396,-495.9295 89.6396,-474.9295 64.6396,-474.9295\"/>\n<text text-anchor=\"start\" x=\"67.6396\" y=\"-481.7295\" font-family=\"Times,serif\" font-size=\"14.00\" fill=\"#000000\">0.0</text>\n<polygon fill=\"none\" stroke=\"#000000\" points=\"34.6396,-472.4295 34.6396,-545.4295 92.6396,-545.4295 92.6396,-472.4295 34.6396,-472.4295\"/>\n</g>\n<!-- tub -->\n<g id=\"node2\" class=\"node\">\n<title>tub</title>\n<ellipse fill=\"none\" stroke=\"#000000\" cx=\"63.6396\" cy=\"-358.3782\" rx=\"63.7795\" ry=\"57.0522\"/>\n<polygon fill=\"none\" stroke=\"#000000\" points=\"29.6396,-370.3782 29.6396,-391.3782 97.6396,-391.3782 97.6396,-370.3782 29.6396,-370.3782\"/>\n<text text-anchor=\"start\" x=\"50.1396\" y=\"-377.1782\" font-family=\"Times,serif\" font-size=\"14.00\" fill=\"#000000\"> tub </text>\n<polygon fill=\"none\" stroke=\"#000000\" points=\"29.6396,-347.3782 29.6396,-368.3782 62.6396,-368.3782 62.6396,-347.3782 29.6396,-347.3782\"/>\n<text text-anchor=\"start\" x=\"36.6396\" y=\"-354.1782\" font-family=\"Times,serif\" font-size=\"14.00\" fill=\"#000000\">yes</text>\n<polygon fill=\"none\" stroke=\"#000000\" points=\"64.6396,-347.3782 64.6396,-368.3782 97.6396,-368.3782 97.6396,-347.3782 64.6396,-347.3782\"/>\n<text text-anchor=\"start\" x=\"73.1396\" y=\"-354.1782\" font-family=\"Times,serif\" font-size=\"14.00\" fill=\"#000000\">no</text>\n<polygon fill=\"none\" stroke=\"#000000\" points=\"29.6396,-324.3782 29.6396,-345.3782 62.6396,-345.3782 62.6396,-324.3782 29.6396,-324.3782\"/>\n<text text-anchor=\"start\" x=\"32.6396\" y=\"-331.1782\" font-family=\"Times,serif\" font-size=\"14.00\" fill=\"#000000\">0.09</text>\n<polygon fill=\"none\" stroke=\"#000000\" points=\"64.6396,-324.3782 64.6396,-345.3782 97.6396,-345.3782 97.6396,-324.3782 64.6396,-324.3782\"/>\n<text text-anchor=\"start\" x=\"67.6396\" y=\"-331.1782\" font-family=\"Times,serif\" font-size=\"14.00\" fill=\"#000000\">0.91</text>\n<polygon fill=\"none\" stroke=\"#000000\" points=\"26.6396,-321.8782 26.6396,-394.8782 100.6396,-394.8782 100.6396,-321.8782 26.6396,-321.8782\"/>\n</g>\n<!-- asia&#45;&gt;tub -->\n<g id=\"edge1\" class=\"edge\">\n<title>asia&#45;&gt;tub</title>\n<path fill=\"none\" stroke=\"#000000\" d=\"M63.6396,-451.5831C63.6396,-443.3123 63.6396,-434.7349 63.6396,-426.2827\"/>\n<polygon fill=\"#000000\" stroke=\"#000000\" points=\"67.1397,-426.064 63.6396,-416.064 60.1397,-426.064 67.1397,-426.064\"/>\n</g>\n<!-- either -->\n<g id=\"node6\" class=\"node\">\n<title>either</title>\n<ellipse fill=\"none\" stroke=\"#000000\" cx=\"132.6396\" cy=\"-207.8269\" rx=\"63.7795\" ry=\"57.0522\"/>\n<polygon fill=\"none\" stroke=\"#000000\" points=\"98.6396,-219.8269 98.6396,-240.8269 166.6396,-240.8269 166.6396,-219.8269 98.6396,-219.8269\"/>\n<text text-anchor=\"start\" x=\"112.6396\" y=\"-226.6269\" font-family=\"Times,serif\" font-size=\"14.00\" fill=\"#000000\"> either </text>\n<polygon fill=\"none\" stroke=\"#000000\" points=\"98.6396,-196.8269 98.6396,-217.8269 131.6396,-217.8269 131.6396,-196.8269 98.6396,-196.8269\"/>\n<text text-anchor=\"start\" x=\"105.6396\" y=\"-203.6269\" font-family=\"Times,serif\" font-size=\"14.00\" fill=\"#000000\">yes</text>\n<polygon fill=\"none\" stroke=\"#000000\" points=\"133.6396,-196.8269 133.6396,-217.8269 166.6396,-217.8269 166.6396,-196.8269 133.6396,-196.8269\"/>\n<text text-anchor=\"start\" x=\"142.1396\" y=\"-203.6269\" font-family=\"Times,serif\" font-size=\"14.00\" fill=\"#000000\">no</text>\n<polygon fill=\"none\" stroke=\"#000000\" points=\"98.6396,-173.8269 98.6396,-194.8269 131.6396,-194.8269 131.6396,-173.8269 98.6396,-173.8269\"/>\n<text text-anchor=\"start\" x=\"101.6396\" y=\"-180.6269\" font-family=\"Times,serif\" font-size=\"14.00\" fill=\"#000000\">0.18</text>\n<polygon fill=\"none\" stroke=\"#000000\" points=\"133.6396,-173.8269 133.6396,-194.8269 166.6396,-194.8269 166.6396,-173.8269 133.6396,-173.8269\"/>\n<text text-anchor=\"start\" x=\"136.6396\" y=\"-180.6269\" font-family=\"Times,serif\" font-size=\"14.00\" fill=\"#000000\">0.82</text>\n<polygon fill=\"none\" stroke=\"#000000\" points=\"95.6396,-171.3269 95.6396,-244.3269 169.6396,-244.3269 169.6396,-171.3269 95.6396,-171.3269\"/>\n</g>\n<!-- tub&#45;&gt;either -->\n<g id=\"edge2\" class=\"edge\">\n<title>tub&#45;&gt;either</title>\n<path fill=\"none\" stroke=\"#000000\" d=\"M87.9664,-305.2995C93.1711,-293.9435 98.7149,-281.8473 104.063,-270.1783\"/>\n<polygon fill=\"#000000\" stroke=\"#000000\" points=\"107.3152,-271.4828 108.2999,-260.9338 100.9517,-268.5663 107.3152,-271.4828\"/>\n</g>\n<!-- smoke -->\n<g id=\"node3\" class=\"node\">\n<title>smoke</title>\n<ellipse fill=\"none\" stroke=\"#000000\" cx=\"237.6396\" cy=\"-508.9295\" rx=\"63.7795\" ry=\"57.0522\"/>\n<polygon fill=\"none\" stroke=\"#000000\" points=\"203.6396,-520.9295 203.6396,-541.9295 271.6396,-541.9295 271.6396,-520.9295 203.6396,-520.9295\"/>\n<text text-anchor=\"start\" x=\"214.6396\" y=\"-527.7295\" font-family=\"Times,serif\" font-size=\"14.00\" fill=\"#000000\"> smoke </text>\n<polygon fill=\"none\" stroke=\"#000000\" points=\"203.6396,-497.9295 203.6396,-518.9295 236.6396,-518.9295 236.6396,-497.9295 203.6396,-497.9295\"/>\n<text text-anchor=\"start\" x=\"210.6396\" y=\"-504.7295\" font-family=\"Times,serif\" font-size=\"14.00\" fill=\"#000000\">yes</text>\n<polygon fill=\"none\" stroke=\"#000000\" points=\"238.6396,-497.9295 238.6396,-518.9295 271.6396,-518.9295 271.6396,-497.9295 238.6396,-497.9295\"/>\n<text text-anchor=\"start\" x=\"247.1396\" y=\"-504.7295\" font-family=\"Times,serif\" font-size=\"14.00\" fill=\"#000000\">no</text>\n<polygon fill=\"none\" stroke=\"#000000\" points=\"203.6396,-474.9295 203.6396,-495.9295 236.6396,-495.9295 236.6396,-474.9295 203.6396,-474.9295\"/>\n<text text-anchor=\"start\" x=\"206.6396\" y=\"-481.7295\" font-family=\"Times,serif\" font-size=\"14.00\" fill=\"#000000\">0.63</text>\n<polygon fill=\"none\" stroke=\"#000000\" points=\"238.6396,-474.9295 238.6396,-495.9295 271.6396,-495.9295 271.6396,-474.9295 238.6396,-474.9295\"/>\n<text text-anchor=\"start\" x=\"241.6396\" y=\"-481.7295\" font-family=\"Times,serif\" font-size=\"14.00\" fill=\"#000000\">0.37</text>\n<polygon fill=\"none\" stroke=\"#000000\" points=\"200.6396,-472.4295 200.6396,-545.4295 274.6396,-545.4295 274.6396,-472.4295 200.6396,-472.4295\"/>\n</g>\n<!-- lung -->\n<g id=\"node4\" class=\"node\">\n<title>lung</title>\n<ellipse fill=\"none\" stroke=\"#000000\" cx=\"197.6396\" cy=\"-358.3782\" rx=\"52.1524\" ry=\"57.0522\"/>\n<polygon fill=\"none\" stroke=\"#000000\" points=\"171.6396,-370.3782 171.6396,-391.3782 223.6396,-391.3782 223.6396,-370.3782 171.6396,-370.3782\"/>\n<text text-anchor=\"start\" x=\"180.6396\" y=\"-377.1782\" font-family=\"Times,serif\" font-size=\"14.00\" fill=\"#000000\"> lung </text>\n<polygon fill=\"none\" stroke=\"#000000\" points=\"171.6396,-347.3782 171.6396,-368.3782 196.6396,-368.3782 196.6396,-347.3782 171.6396,-347.3782\"/>\n<text text-anchor=\"start\" x=\"174.6396\" y=\"-354.1782\" font-family=\"Times,serif\" font-size=\"14.00\" fill=\"#000000\">yes</text>\n<polygon fill=\"none\" stroke=\"#000000\" points=\"198.6396,-347.3782 198.6396,-368.3782 223.6396,-368.3782 223.6396,-347.3782 198.6396,-347.3782\"/>\n<text text-anchor=\"start\" x=\"203.1396\" y=\"-354.1782\" font-family=\"Times,serif\" font-size=\"14.00\" fill=\"#000000\">no</text>\n<polygon fill=\"none\" stroke=\"#000000\" points=\"171.6396,-324.3782 171.6396,-345.3782 196.6396,-345.3782 196.6396,-324.3782 171.6396,-324.3782\"/>\n<text text-anchor=\"start\" x=\"174.6396\" y=\"-331.1782\" font-family=\"Times,serif\" font-size=\"14.00\" fill=\"#000000\">0.1</text>\n<polygon fill=\"none\" stroke=\"#000000\" points=\"198.6396,-324.3782 198.6396,-345.3782 223.6396,-345.3782 223.6396,-324.3782 198.6396,-324.3782\"/>\n<text text-anchor=\"start\" x=\"201.6396\" y=\"-331.1782\" font-family=\"Times,serif\" font-size=\"14.00\" fill=\"#000000\">0.9</text>\n<polygon fill=\"none\" stroke=\"#000000\" points=\"168.6396,-321.8782 168.6396,-394.8782 226.6396,-394.8782 226.6396,-321.8782 168.6396,-321.8782\"/>\n</g>\n<!-- smoke&#45;&gt;lung -->\n<g id=\"edge3\" class=\"edge\">\n<title>smoke&#45;&gt;lung</title>\n<path fill=\"none\" stroke=\"#000000\" d=\"M222.7451,-452.8698C220.1796,-443.2138 217.494,-433.1058 214.873,-423.241\"/>\n<polygon fill=\"#000000\" stroke=\"#000000\" points=\"218.231,-422.249 212.2804,-413.4831 211.4657,-424.0466 218.231,-422.249\"/>\n</g>\n<!-- bronc -->\n<g id=\"node5\" class=\"node\">\n<title>bronc</title>\n<ellipse fill=\"none\" stroke=\"#000000\" cx=\"277.6396\" cy=\"-207.8269\" rx=\"63.7795\" ry=\"57.0522\"/>\n<polygon fill=\"none\" stroke=\"#000000\" points=\"243.6396,-219.8269 243.6396,-240.8269 311.6396,-240.8269 311.6396,-219.8269 243.6396,-219.8269\"/>\n<text text-anchor=\"start\" x=\"257.1396\" y=\"-226.6269\" font-family=\"Times,serif\" font-size=\"14.00\" fill=\"#000000\"> bronc </text>\n<polygon fill=\"none\" stroke=\"#000000\" points=\"243.6396,-196.8269 243.6396,-217.8269 276.6396,-217.8269 276.6396,-196.8269 243.6396,-196.8269\"/>\n<text text-anchor=\"start\" x=\"250.6396\" y=\"-203.6269\" font-family=\"Times,serif\" font-size=\"14.00\" fill=\"#000000\">yes</text>\n<polygon fill=\"none\" stroke=\"#000000\" points=\"278.6396,-196.8269 278.6396,-217.8269 311.6396,-217.8269 311.6396,-196.8269 278.6396,-196.8269\"/>\n<text text-anchor=\"start\" x=\"287.1396\" y=\"-203.6269\" font-family=\"Times,serif\" font-size=\"14.00\" fill=\"#000000\">no</text>\n<polygon fill=\"none\" stroke=\"#000000\" points=\"243.6396,-173.8269 243.6396,-194.8269 276.6396,-194.8269 276.6396,-173.8269 243.6396,-173.8269\"/>\n<text text-anchor=\"start\" x=\"246.6396\" y=\"-180.6269\" font-family=\"Times,serif\" font-size=\"14.00\" fill=\"#000000\">0.81</text>\n<polygon fill=\"none\" stroke=\"#000000\" points=\"278.6396,-173.8269 278.6396,-194.8269 311.6396,-194.8269 311.6396,-173.8269 278.6396,-173.8269\"/>\n<text text-anchor=\"start\" x=\"281.6396\" y=\"-180.6269\" font-family=\"Times,serif\" font-size=\"14.00\" fill=\"#000000\">0.19</text>\n<polygon fill=\"none\" stroke=\"#000000\" points=\"240.6396,-171.3269 240.6396,-244.3269 314.6396,-244.3269 314.6396,-171.3269 240.6396,-171.3269\"/>\n</g>\n<!-- smoke&#45;&gt;bronc -->\n<g id=\"edge4\" class=\"edge\">\n<title>smoke&#45;&gt;bronc</title>\n<path fill=\"none\" stroke=\"#000000\" d=\"M251.4905,-452.9276C254.1661,-440.7001 256.7274,-427.7874 258.6396,-415.6539 265.971,-369.1327 270.7558,-316.2737 273.6899,-275.5067\"/>\n<polygon fill=\"#000000\" stroke=\"#000000\" points=\"277.1895,-275.634 274.3964,-265.414 270.2066,-275.1451 277.1895,-275.634\"/>\n</g>\n<!-- lung&#45;&gt;either -->\n<g id=\"edge5\" class=\"edge\">\n<title>lung&#45;&gt;either</title>\n<path fill=\"none\" stroke=\"#000000\" d=\"M175.2703,-306.567C170.2863,-295.0232 164.9491,-282.6614 159.7962,-270.7263\"/>\n<polygon fill=\"#000000\" stroke=\"#000000\" points=\"162.8906,-269.0635 155.7134,-261.27 156.464,-271.8382 162.8906,-269.0635\"/>\n</g>\n<!-- dysp -->\n<g id=\"node8\" class=\"node\">\n<title>dysp</title>\n<ellipse fill=\"none\" stroke=\"#000000\" cx=\"271.6396\" cy=\"-57.2756\" rx=\"52.1524\" ry=\"57.0522\"/>\n<polygon fill=\"#bebebe\" stroke=\"transparent\" points=\"245.6396,-69.2756 245.6396,-90.2756 297.6396,-90.2756 297.6396,-69.2756 245.6396,-69.2756\"/>\n<polygon fill=\"none\" stroke=\"#000000\" points=\"245.6396,-69.2756 245.6396,-90.2756 297.6396,-90.2756 297.6396,-69.2756 245.6396,-69.2756\"/>\n<text text-anchor=\"start\" x=\"253.6396\" y=\"-76.0756\" font-family=\"Times,serif\" font-size=\"14.00\" fill=\"#000000\"> dysp </text>\n<polygon fill=\"none\" stroke=\"#000000\" points=\"245.6396,-46.2756 245.6396,-67.2756 270.6396,-67.2756 270.6396,-46.2756 245.6396,-46.2756\"/>\n<text text-anchor=\"start\" x=\"248.6396\" y=\"-53.0756\" font-family=\"Times,serif\" font-size=\"14.00\" fill=\"#000000\">yes</text>\n<polygon fill=\"none\" stroke=\"#000000\" points=\"272.6396,-46.2756 272.6396,-67.2756 297.6396,-67.2756 297.6396,-46.2756 272.6396,-46.2756\"/>\n<text text-anchor=\"start\" x=\"277.1396\" y=\"-53.0756\" font-family=\"Times,serif\" font-size=\"14.00\" fill=\"#000000\">no</text>\n<polygon fill=\"none\" stroke=\"#000000\" points=\"245.6396,-23.2756 245.6396,-44.2756 270.6396,-44.2756 270.6396,-23.2756 245.6396,-23.2756\"/>\n<text text-anchor=\"start\" x=\"248.6396\" y=\"-30.0756\" font-family=\"Times,serif\" font-size=\"14.00\" fill=\"#000000\">1.0</text>\n<polygon fill=\"none\" stroke=\"#000000\" points=\"272.6396,-23.2756 272.6396,-44.2756 297.6396,-44.2756 297.6396,-23.2756 272.6396,-23.2756\"/>\n<text text-anchor=\"start\" x=\"275.6396\" y=\"-30.0756\" font-family=\"Times,serif\" font-size=\"14.00\" fill=\"#000000\">0.0</text>\n<polygon fill=\"none\" stroke=\"#000000\" points=\"242.6396,-20.7756 242.6396,-93.7756 300.6396,-93.7756 300.6396,-20.7756 242.6396,-20.7756\"/>\n</g>\n<!-- bronc&#45;&gt;dysp -->\n<g id=\"edge6\" class=\"edge\">\n<title>bronc&#45;&gt;dysp</title>\n<path fill=\"none\" stroke=\"#000000\" d=\"M275.3542,-150.4805C275.0245,-142.2097 274.6827,-133.6324 274.3458,-125.1801\"/>\n<polygon fill=\"#000000\" stroke=\"#000000\" points=\"277.8341,-124.814 273.9386,-114.9614 270.8397,-125.0929 277.8341,-124.814\"/>\n</g>\n<!-- xray -->\n<g id=\"node7\" class=\"node\">\n<title>xray</title>\n<ellipse fill=\"none\" stroke=\"#000000\" cx=\"132.6396\" cy=\"-57.2756\" rx=\"63.7795\" ry=\"57.0522\"/>\n<polygon fill=\"none\" stroke=\"#000000\" points=\"98.6396,-69.2756 98.6396,-90.2756 166.6396,-90.2756 166.6396,-69.2756 98.6396,-69.2756\"/>\n<text text-anchor=\"start\" x=\"115.6396\" y=\"-76.0756\" font-family=\"Times,serif\" font-size=\"14.00\" fill=\"#000000\"> xray </text>\n<polygon fill=\"none\" stroke=\"#000000\" points=\"98.6396,-46.2756 98.6396,-67.2756 131.6396,-67.2756 131.6396,-46.2756 98.6396,-46.2756\"/>\n<text text-anchor=\"start\" x=\"105.6396\" y=\"-53.0756\" font-family=\"Times,serif\" font-size=\"14.00\" fill=\"#000000\">yes</text>\n<polygon fill=\"none\" stroke=\"#000000\" points=\"133.6396,-46.2756 133.6396,-67.2756 166.6396,-67.2756 166.6396,-46.2756 133.6396,-46.2756\"/>\n<text text-anchor=\"start\" x=\"142.1396\" y=\"-53.0756\" font-family=\"Times,serif\" font-size=\"14.00\" fill=\"#000000\">no</text>\n<polygon fill=\"none\" stroke=\"#000000\" points=\"98.6396,-23.2756 98.6396,-44.2756 131.6396,-44.2756 131.6396,-23.2756 98.6396,-23.2756\"/>\n<text text-anchor=\"start\" x=\"101.6396\" y=\"-30.0756\" font-family=\"Times,serif\" font-size=\"14.00\" fill=\"#000000\">0.22</text>\n<polygon fill=\"none\" stroke=\"#000000\" points=\"133.6396,-23.2756 133.6396,-44.2756 166.6396,-44.2756 166.6396,-23.2756 133.6396,-23.2756\"/>\n<text text-anchor=\"start\" x=\"136.6396\" y=\"-30.0756\" font-family=\"Times,serif\" font-size=\"14.00\" fill=\"#000000\">0.78</text>\n<polygon fill=\"none\" stroke=\"#000000\" points=\"95.6396,-20.7756 95.6396,-93.7756 169.6396,-93.7756 169.6396,-20.7756 95.6396,-20.7756\"/>\n</g>\n<!-- either&#45;&gt;xray -->\n<g id=\"edge7\" class=\"edge\">\n<title>either&#45;&gt;xray</title>\n<path fill=\"none\" stroke=\"#000000\" d=\"M132.6396,-150.4805C132.6396,-142.2097 132.6396,-133.6324 132.6396,-125.1801\"/>\n<polygon fill=\"#000000\" stroke=\"#000000\" points=\"136.1397,-124.9614 132.6396,-114.9614 129.1397,-124.9614 136.1397,-124.9614\"/>\n</g>\n<!-- either&#45;&gt;dysp -->\n<g id=\"edge8\" class=\"edge\">\n<title>either&#45;&gt;dysp</title>\n<path fill=\"none\" stroke=\"#000000\" d=\"M173.5924,-163.4709C190.4094,-145.2563 209.9256,-124.1183 227.0976,-105.5193\"/>\n<polygon fill=\"#000000\" stroke=\"#000000\" points=\"230.0867,-107.4412 234.2988,-97.7196 224.9436,-102.6927 230.0867,-107.4412\"/>\n</g>\n</g>\n</svg>\n"
          },
          "metadata": {
            "tags": []
          }
        }
      ]
    },
    {
      "cell_type": "markdown",
      "metadata": {
        "id": "hyALNuUaCNza"
      },
      "source": [
        "## Posterior marginals given dsypnea=yes, asia=yes, smoking=yes"
      ]
    },
    {
      "cell_type": "code",
      "metadata": {
        "colab": {
          "base_uri": "https://localhost:8080/",
          "height": 1000
        },
        "id": "gDydpbab9Svz",
        "outputId": "c821e8f4-a005-414d-8e0c-a46733bcec9d"
      },
      "source": [
        "evidence  = {'dysp': 'yes', 'asia': 'yes', 'smoke': 'yes'}\n",
        "marginals = pgm.get_marginals(model, evidence, infer)\n",
        "print('\\n')\n",
        "for k, v in marginals.items():\n",
        "  print(k, v)\n",
        "\n",
        "\n",
        "display(pgm.visualize_marginals(model, evidence, marginals))\n"
      ],
      "execution_count": 16,
      "outputs": [
        {
          "output_type": "stream",
          "text": [
            "Finding Elimination Order: : 100%|██████████| 4/4 [00:00<00:00, 879.26it/s]\n",
            "Eliminating: lung: 100%|██████████| 4/4 [00:00<00:00, 246.65it/s]\n",
            "Finding Elimination Order: : 100%|██████████| 4/4 [00:00<00:00, 643.64it/s]\n",
            "Eliminating: tub: 100%|██████████| 4/4 [00:00<00:00, 200.03it/s]\n",
            "Finding Elimination Order: :   0%|          | 0/4 [00:00<?, ?it/s]\n",
            "  0%|          | 0/4 [00:00<?, ?it/s]\u001b[A\n",
            "Eliminating: xray:   0%|          | 0/4 [00:00<?, ?it/s]\u001b[A\n",
            "Finding Elimination Order: : 100%|██████████| 4/4 [00:00<00:00, 140.14it/s]\n",
            "Eliminating: lung: 100%|██████████| 4/4 [00:00<00:00, 160.46it/s]\n",
            "Finding Elimination Order: : 100%|██████████| 4/4 [00:00<00:00, 1856.91it/s]\n",
            "Eliminating: lung: 100%|██████████| 4/4 [00:00<00:00, 285.87it/s]\n",
            "Finding Elimination Order: : 100%|██████████| 4/4 [00:00<00:00, 503.19it/s]\n",
            "Eliminating: either: 100%|██████████| 4/4 [00:00<00:00, 142.44it/s]\n"
          ],
          "name": "stderr"
        },
        {
          "output_type": "stream",
          "text": [
            "\n",
            "\n",
            "asia [1. 0.]\n",
            "tub [0.07275954 0.92724046]\n",
            "smoke [1. 0.]\n",
            "lung [0.14551908 0.85448092]\n",
            "bronc [0.86725821 0.13274179]\n",
            "either [0.21100266 0.78899734]\n",
            "xray [0.24623248 0.75376752]\n",
            "dysp [1. 0.]\n"
          ],
          "name": "stdout"
        },
        {
          "output_type": "display_data",
          "data": {
            "text/plain": [
              "<graphviz.dot.Digraph at 0x7fa3a8b1c1d0>"
            ],
            "image/svg+xml": "<?xml version=\"1.0\" encoding=\"UTF-8\" standalone=\"no\"?>\n<!DOCTYPE svg PUBLIC \"-//W3C//DTD SVG 1.1//EN\"\n \"http://www.w3.org/Graphics/SVG/1.1/DTD/svg11.dtd\">\n<!-- Generated by graphviz version 2.40.1 (20161225.0304)\n -->\n<!-- Title: pgm Pages: 1 -->\n<svg width=\"372pt\" height=\"574pt\"\n viewBox=\"0.00 0.00 372.28 574.21\" xmlns=\"http://www.w3.org/2000/svg\" xmlns:xlink=\"http://www.w3.org/1999/xlink\">\n<g id=\"graph0\" class=\"graph\" transform=\"scale(1 1) rotate(0) translate(4 570.2052)\">\n<title>pgm</title>\n<polygon fill=\"#ffffff\" stroke=\"transparent\" points=\"-4,4 -4,-570.2052 368.2792,-570.2052 368.2792,4 -4,4\"/>\n<!-- asia -->\n<g id=\"node1\" class=\"node\">\n<title>asia</title>\n<ellipse fill=\"none\" stroke=\"#000000\" cx=\"63.6396\" cy=\"-508.9295\" rx=\"52.1524\" ry=\"57.0522\"/>\n<polygon fill=\"#bebebe\" stroke=\"transparent\" points=\"37.6396,-520.9295 37.6396,-541.9295 89.6396,-541.9295 89.6396,-520.9295 37.6396,-520.9295\"/>\n<polygon fill=\"none\" stroke=\"#000000\" points=\"37.6396,-520.9295 37.6396,-541.9295 89.6396,-541.9295 89.6396,-520.9295 37.6396,-520.9295\"/>\n<text text-anchor=\"start\" x=\"49.1396\" y=\"-527.7295\" font-family=\"Times,serif\" font-size=\"14.00\" fill=\"#000000\"> asia </text>\n<polygon fill=\"none\" stroke=\"#000000\" points=\"37.6396,-497.9295 37.6396,-518.9295 62.6396,-518.9295 62.6396,-497.9295 37.6396,-497.9295\"/>\n<text text-anchor=\"start\" x=\"40.6396\" y=\"-504.7295\" font-family=\"Times,serif\" font-size=\"14.00\" fill=\"#000000\">yes</text>\n<polygon fill=\"none\" stroke=\"#000000\" points=\"64.6396,-497.9295 64.6396,-518.9295 89.6396,-518.9295 89.6396,-497.9295 64.6396,-497.9295\"/>\n<text text-anchor=\"start\" x=\"69.1396\" y=\"-504.7295\" font-family=\"Times,serif\" font-size=\"14.00\" fill=\"#000000\">no</text>\n<polygon fill=\"none\" stroke=\"#000000\" points=\"37.6396,-474.9295 37.6396,-495.9295 62.6396,-495.9295 62.6396,-474.9295 37.6396,-474.9295\"/>\n<text text-anchor=\"start\" x=\"40.6396\" y=\"-481.7295\" font-family=\"Times,serif\" font-size=\"14.00\" fill=\"#000000\">1.0</text>\n<polygon fill=\"none\" stroke=\"#000000\" points=\"64.6396,-474.9295 64.6396,-495.9295 89.6396,-495.9295 89.6396,-474.9295 64.6396,-474.9295\"/>\n<text text-anchor=\"start\" x=\"67.6396\" y=\"-481.7295\" font-family=\"Times,serif\" font-size=\"14.00\" fill=\"#000000\">0.0</text>\n<polygon fill=\"none\" stroke=\"#000000\" points=\"34.6396,-472.4295 34.6396,-545.4295 92.6396,-545.4295 92.6396,-472.4295 34.6396,-472.4295\"/>\n</g>\n<!-- tub -->\n<g id=\"node2\" class=\"node\">\n<title>tub</title>\n<ellipse fill=\"none\" stroke=\"#000000\" cx=\"63.6396\" cy=\"-358.3782\" rx=\"63.7795\" ry=\"57.0522\"/>\n<polygon fill=\"none\" stroke=\"#000000\" points=\"29.6396,-370.3782 29.6396,-391.3782 97.6396,-391.3782 97.6396,-370.3782 29.6396,-370.3782\"/>\n<text text-anchor=\"start\" x=\"50.1396\" y=\"-377.1782\" font-family=\"Times,serif\" font-size=\"14.00\" fill=\"#000000\"> tub </text>\n<polygon fill=\"none\" stroke=\"#000000\" points=\"29.6396,-347.3782 29.6396,-368.3782 62.6396,-368.3782 62.6396,-347.3782 29.6396,-347.3782\"/>\n<text text-anchor=\"start\" x=\"36.6396\" y=\"-354.1782\" font-family=\"Times,serif\" font-size=\"14.00\" fill=\"#000000\">yes</text>\n<polygon fill=\"none\" stroke=\"#000000\" points=\"64.6396,-347.3782 64.6396,-368.3782 97.6396,-368.3782 97.6396,-347.3782 64.6396,-347.3782\"/>\n<text text-anchor=\"start\" x=\"73.1396\" y=\"-354.1782\" font-family=\"Times,serif\" font-size=\"14.00\" fill=\"#000000\">no</text>\n<polygon fill=\"none\" stroke=\"#000000\" points=\"29.6396,-324.3782 29.6396,-345.3782 62.6396,-345.3782 62.6396,-324.3782 29.6396,-324.3782\"/>\n<text text-anchor=\"start\" x=\"32.6396\" y=\"-331.1782\" font-family=\"Times,serif\" font-size=\"14.00\" fill=\"#000000\">0.07</text>\n<polygon fill=\"none\" stroke=\"#000000\" points=\"64.6396,-324.3782 64.6396,-345.3782 97.6396,-345.3782 97.6396,-324.3782 64.6396,-324.3782\"/>\n<text text-anchor=\"start\" x=\"67.6396\" y=\"-331.1782\" font-family=\"Times,serif\" font-size=\"14.00\" fill=\"#000000\">0.93</text>\n<polygon fill=\"none\" stroke=\"#000000\" points=\"26.6396,-321.8782 26.6396,-394.8782 100.6396,-394.8782 100.6396,-321.8782 26.6396,-321.8782\"/>\n</g>\n<!-- asia&#45;&gt;tub -->\n<g id=\"edge1\" class=\"edge\">\n<title>asia&#45;&gt;tub</title>\n<path fill=\"none\" stroke=\"#000000\" d=\"M63.6396,-451.5831C63.6396,-443.3123 63.6396,-434.7349 63.6396,-426.2827\"/>\n<polygon fill=\"#000000\" stroke=\"#000000\" points=\"67.1397,-426.064 63.6396,-416.064 60.1397,-426.064 67.1397,-426.064\"/>\n</g>\n<!-- either -->\n<g id=\"node6\" class=\"node\">\n<title>either</title>\n<ellipse fill=\"none\" stroke=\"#000000\" cx=\"155.6396\" cy=\"-207.8269\" rx=\"63.7795\" ry=\"57.0522\"/>\n<polygon fill=\"none\" stroke=\"#000000\" points=\"121.6396,-219.8269 121.6396,-240.8269 189.6396,-240.8269 189.6396,-219.8269 121.6396,-219.8269\"/>\n<text text-anchor=\"start\" x=\"135.6396\" y=\"-226.6269\" font-family=\"Times,serif\" font-size=\"14.00\" fill=\"#000000\"> either </text>\n<polygon fill=\"none\" stroke=\"#000000\" points=\"121.6396,-196.8269 121.6396,-217.8269 154.6396,-217.8269 154.6396,-196.8269 121.6396,-196.8269\"/>\n<text text-anchor=\"start\" x=\"128.6396\" y=\"-203.6269\" font-family=\"Times,serif\" font-size=\"14.00\" fill=\"#000000\">yes</text>\n<polygon fill=\"none\" stroke=\"#000000\" points=\"156.6396,-196.8269 156.6396,-217.8269 189.6396,-217.8269 189.6396,-196.8269 156.6396,-196.8269\"/>\n<text text-anchor=\"start\" x=\"165.1396\" y=\"-203.6269\" font-family=\"Times,serif\" font-size=\"14.00\" fill=\"#000000\">no</text>\n<polygon fill=\"none\" stroke=\"#000000\" points=\"121.6396,-173.8269 121.6396,-194.8269 154.6396,-194.8269 154.6396,-173.8269 121.6396,-173.8269\"/>\n<text text-anchor=\"start\" x=\"124.6396\" y=\"-180.6269\" font-family=\"Times,serif\" font-size=\"14.00\" fill=\"#000000\">0.21</text>\n<polygon fill=\"none\" stroke=\"#000000\" points=\"156.6396,-173.8269 156.6396,-194.8269 189.6396,-194.8269 189.6396,-173.8269 156.6396,-173.8269\"/>\n<text text-anchor=\"start\" x=\"159.6396\" y=\"-180.6269\" font-family=\"Times,serif\" font-size=\"14.00\" fill=\"#000000\">0.79</text>\n<polygon fill=\"none\" stroke=\"#000000\" points=\"118.6396,-171.3269 118.6396,-244.3269 192.6396,-244.3269 192.6396,-171.3269 118.6396,-171.3269\"/>\n</g>\n<!-- tub&#45;&gt;either -->\n<g id=\"edge2\" class=\"edge\">\n<title>tub&#45;&gt;either</title>\n<path fill=\"none\" stroke=\"#000000\" d=\"M94.5302,-307.828C102.5378,-294.7242 111.2325,-280.4959 119.4839,-266.9931\"/>\n<polygon fill=\"#000000\" stroke=\"#000000\" points=\"122.6027,-268.6017 124.8305,-258.2437 116.6296,-264.9516 122.6027,-268.6017\"/>\n</g>\n<!-- smoke -->\n<g id=\"node3\" class=\"node\">\n<title>smoke</title>\n<ellipse fill=\"none\" stroke=\"#000000\" cx=\"254.6396\" cy=\"-508.9295\" rx=\"53.9813\" ry=\"57.0522\"/>\n<polygon fill=\"#bebebe\" stroke=\"transparent\" points=\"227.6396,-520.9295 227.6396,-541.9295 281.6396,-541.9295 281.6396,-520.9295 227.6396,-520.9295\"/>\n<polygon fill=\"none\" stroke=\"#000000\" points=\"227.6396,-520.9295 227.6396,-541.9295 281.6396,-541.9295 281.6396,-520.9295 227.6396,-520.9295\"/>\n<text text-anchor=\"start\" x=\"231.6396\" y=\"-527.7295\" font-family=\"Times,serif\" font-size=\"14.00\" fill=\"#000000\"> smoke </text>\n<polygon fill=\"none\" stroke=\"#000000\" points=\"227.6396,-497.9295 227.6396,-518.9295 253.6396,-518.9295 253.6396,-497.9295 227.6396,-497.9295\"/>\n<text text-anchor=\"start\" x=\"231.1396\" y=\"-504.7295\" font-family=\"Times,serif\" font-size=\"14.00\" fill=\"#000000\">yes</text>\n<polygon fill=\"none\" stroke=\"#000000\" points=\"255.6396,-497.9295 255.6396,-518.9295 281.6396,-518.9295 281.6396,-497.9295 255.6396,-497.9295\"/>\n<text text-anchor=\"start\" x=\"260.6396\" y=\"-504.7295\" font-family=\"Times,serif\" font-size=\"14.00\" fill=\"#000000\">no</text>\n<polygon fill=\"none\" stroke=\"#000000\" points=\"227.6396,-474.9295 227.6396,-495.9295 253.6396,-495.9295 253.6396,-474.9295 227.6396,-474.9295\"/>\n<text text-anchor=\"start\" x=\"231.1396\" y=\"-481.7295\" font-family=\"Times,serif\" font-size=\"14.00\" fill=\"#000000\">1.0</text>\n<polygon fill=\"none\" stroke=\"#000000\" points=\"255.6396,-474.9295 255.6396,-495.9295 281.6396,-495.9295 281.6396,-474.9295 255.6396,-474.9295\"/>\n<text text-anchor=\"start\" x=\"259.1396\" y=\"-481.7295\" font-family=\"Times,serif\" font-size=\"14.00\" fill=\"#000000\">0.0</text>\n<polygon fill=\"none\" stroke=\"#000000\" points=\"224.6396,-472.4295 224.6396,-545.4295 284.6396,-545.4295 284.6396,-472.4295 224.6396,-472.4295\"/>\n</g>\n<!-- lung -->\n<g id=\"node4\" class=\"node\">\n<title>lung</title>\n<ellipse fill=\"none\" stroke=\"#000000\" cx=\"208.6396\" cy=\"-358.3782\" rx=\"63.7795\" ry=\"57.0522\"/>\n<polygon fill=\"none\" stroke=\"#000000\" points=\"174.6396,-370.3782 174.6396,-391.3782 242.6396,-391.3782 242.6396,-370.3782 174.6396,-370.3782\"/>\n<text text-anchor=\"start\" x=\"191.6396\" y=\"-377.1782\" font-family=\"Times,serif\" font-size=\"14.00\" fill=\"#000000\"> lung </text>\n<polygon fill=\"none\" stroke=\"#000000\" points=\"174.6396,-347.3782 174.6396,-368.3782 207.6396,-368.3782 207.6396,-347.3782 174.6396,-347.3782\"/>\n<text text-anchor=\"start\" x=\"181.6396\" y=\"-354.1782\" font-family=\"Times,serif\" font-size=\"14.00\" fill=\"#000000\">yes</text>\n<polygon fill=\"none\" stroke=\"#000000\" points=\"209.6396,-347.3782 209.6396,-368.3782 242.6396,-368.3782 242.6396,-347.3782 209.6396,-347.3782\"/>\n<text text-anchor=\"start\" x=\"218.1396\" y=\"-354.1782\" font-family=\"Times,serif\" font-size=\"14.00\" fill=\"#000000\">no</text>\n<polygon fill=\"none\" stroke=\"#000000\" points=\"174.6396,-324.3782 174.6396,-345.3782 207.6396,-345.3782 207.6396,-324.3782 174.6396,-324.3782\"/>\n<text text-anchor=\"start\" x=\"177.6396\" y=\"-331.1782\" font-family=\"Times,serif\" font-size=\"14.00\" fill=\"#000000\">0.15</text>\n<polygon fill=\"none\" stroke=\"#000000\" points=\"209.6396,-324.3782 209.6396,-345.3782 242.6396,-345.3782 242.6396,-324.3782 209.6396,-324.3782\"/>\n<text text-anchor=\"start\" x=\"212.6396\" y=\"-331.1782\" font-family=\"Times,serif\" font-size=\"14.00\" fill=\"#000000\">0.85</text>\n<polygon fill=\"none\" stroke=\"#000000\" points=\"171.6396,-321.8782 171.6396,-394.8782 245.6396,-394.8782 245.6396,-321.8782 171.6396,-321.8782\"/>\n</g>\n<!-- smoke&#45;&gt;lung -->\n<g id=\"edge3\" class=\"edge\">\n<title>smoke&#45;&gt;lung</title>\n<path fill=\"none\" stroke=\"#000000\" d=\"M237.9024,-454.1512C234.8461,-444.1482 231.63,-433.6226 228.4935,-423.3573\"/>\n<polygon fill=\"#000000\" stroke=\"#000000\" points=\"231.788,-422.1614 225.5186,-413.6206 225.0935,-424.2069 231.788,-422.1614\"/>\n</g>\n<!-- bronc -->\n<g id=\"node5\" class=\"node\">\n<title>bronc</title>\n<ellipse fill=\"none\" stroke=\"#000000\" cx=\"300.6396\" cy=\"-207.8269\" rx=\"63.7795\" ry=\"57.0522\"/>\n<polygon fill=\"none\" stroke=\"#000000\" points=\"266.6396,-219.8269 266.6396,-240.8269 334.6396,-240.8269 334.6396,-219.8269 266.6396,-219.8269\"/>\n<text text-anchor=\"start\" x=\"280.1396\" y=\"-226.6269\" font-family=\"Times,serif\" font-size=\"14.00\" fill=\"#000000\"> bronc </text>\n<polygon fill=\"none\" stroke=\"#000000\" points=\"266.6396,-196.8269 266.6396,-217.8269 299.6396,-217.8269 299.6396,-196.8269 266.6396,-196.8269\"/>\n<text text-anchor=\"start\" x=\"273.6396\" y=\"-203.6269\" font-family=\"Times,serif\" font-size=\"14.00\" fill=\"#000000\">yes</text>\n<polygon fill=\"none\" stroke=\"#000000\" points=\"301.6396,-196.8269 301.6396,-217.8269 334.6396,-217.8269 334.6396,-196.8269 301.6396,-196.8269\"/>\n<text text-anchor=\"start\" x=\"310.1396\" y=\"-203.6269\" font-family=\"Times,serif\" font-size=\"14.00\" fill=\"#000000\">no</text>\n<polygon fill=\"none\" stroke=\"#000000\" points=\"266.6396,-173.8269 266.6396,-194.8269 299.6396,-194.8269 299.6396,-173.8269 266.6396,-173.8269\"/>\n<text text-anchor=\"start\" x=\"269.6396\" y=\"-180.6269\" font-family=\"Times,serif\" font-size=\"14.00\" fill=\"#000000\">0.87</text>\n<polygon fill=\"none\" stroke=\"#000000\" points=\"301.6396,-173.8269 301.6396,-194.8269 334.6396,-194.8269 334.6396,-173.8269 301.6396,-173.8269\"/>\n<text text-anchor=\"start\" x=\"304.6396\" y=\"-180.6269\" font-family=\"Times,serif\" font-size=\"14.00\" fill=\"#000000\">0.13</text>\n<polygon fill=\"none\" stroke=\"#000000\" points=\"263.6396,-171.3269 263.6396,-244.3269 337.6396,-244.3269 337.6396,-171.3269 263.6396,-171.3269\"/>\n</g>\n<!-- smoke&#45;&gt;bronc -->\n<g id=\"edge4\" class=\"edge\">\n<title>smoke&#45;&gt;bronc</title>\n<path fill=\"none\" stroke=\"#000000\" d=\"M272.2513,-454.6028C275.8316,-441.931 279.2331,-428.4099 281.6396,-415.6539 290.4015,-369.2108 295.1673,-316.1372 297.7345,-275.2489\"/>\n<polygon fill=\"#000000\" stroke=\"#000000\" points=\"301.2365,-275.319 298.3409,-265.1276 294.249,-274.9003 301.2365,-275.319\"/>\n</g>\n<!-- lung&#45;&gt;either -->\n<g id=\"edge5\" class=\"edge\">\n<title>lung&#45;&gt;either</title>\n<path fill=\"none\" stroke=\"#000000\" d=\"M189.3555,-303.5999C185.7524,-293.3651 181.9567,-282.5831 178.2637,-272.0926\"/>\n<polygon fill=\"#000000\" stroke=\"#000000\" points=\"181.5315,-270.8348 174.9094,-262.5645 174.9287,-273.1593 181.5315,-270.8348\"/>\n</g>\n<!-- dysp -->\n<g id=\"node8\" class=\"node\">\n<title>dysp</title>\n<ellipse fill=\"none\" stroke=\"#000000\" cx=\"294.6396\" cy=\"-57.2756\" rx=\"52.1524\" ry=\"57.0522\"/>\n<polygon fill=\"#bebebe\" stroke=\"transparent\" points=\"268.6396,-69.2756 268.6396,-90.2756 320.6396,-90.2756 320.6396,-69.2756 268.6396,-69.2756\"/>\n<polygon fill=\"none\" stroke=\"#000000\" points=\"268.6396,-69.2756 268.6396,-90.2756 320.6396,-90.2756 320.6396,-69.2756 268.6396,-69.2756\"/>\n<text text-anchor=\"start\" x=\"276.6396\" y=\"-76.0756\" font-family=\"Times,serif\" font-size=\"14.00\" fill=\"#000000\"> dysp </text>\n<polygon fill=\"none\" stroke=\"#000000\" points=\"268.6396,-46.2756 268.6396,-67.2756 293.6396,-67.2756 293.6396,-46.2756 268.6396,-46.2756\"/>\n<text text-anchor=\"start\" x=\"271.6396\" y=\"-53.0756\" font-family=\"Times,serif\" font-size=\"14.00\" fill=\"#000000\">yes</text>\n<polygon fill=\"none\" stroke=\"#000000\" points=\"295.6396,-46.2756 295.6396,-67.2756 320.6396,-67.2756 320.6396,-46.2756 295.6396,-46.2756\"/>\n<text text-anchor=\"start\" x=\"300.1396\" y=\"-53.0756\" font-family=\"Times,serif\" font-size=\"14.00\" fill=\"#000000\">no</text>\n<polygon fill=\"none\" stroke=\"#000000\" points=\"268.6396,-23.2756 268.6396,-44.2756 293.6396,-44.2756 293.6396,-23.2756 268.6396,-23.2756\"/>\n<text text-anchor=\"start\" x=\"271.6396\" y=\"-30.0756\" font-family=\"Times,serif\" font-size=\"14.00\" fill=\"#000000\">1.0</text>\n<polygon fill=\"none\" stroke=\"#000000\" points=\"295.6396,-23.2756 295.6396,-44.2756 320.6396,-44.2756 320.6396,-23.2756 295.6396,-23.2756\"/>\n<text text-anchor=\"start\" x=\"298.6396\" y=\"-30.0756\" font-family=\"Times,serif\" font-size=\"14.00\" fill=\"#000000\">0.0</text>\n<polygon fill=\"none\" stroke=\"#000000\" points=\"265.6396,-20.7756 265.6396,-93.7756 323.6396,-93.7756 323.6396,-20.7756 265.6396,-20.7756\"/>\n</g>\n<!-- bronc&#45;&gt;dysp -->\n<g id=\"edge6\" class=\"edge\">\n<title>bronc&#45;&gt;dysp</title>\n<path fill=\"none\" stroke=\"#000000\" d=\"M298.3542,-150.4805C298.0245,-142.2097 297.6827,-133.6324 297.3458,-125.1801\"/>\n<polygon fill=\"#000000\" stroke=\"#000000\" points=\"300.8341,-124.814 296.9386,-114.9614 293.8397,-125.0929 300.8341,-124.814\"/>\n</g>\n<!-- xray -->\n<g id=\"node7\" class=\"node\">\n<title>xray</title>\n<ellipse fill=\"none\" stroke=\"#000000\" cx=\"155.6396\" cy=\"-57.2756\" rx=\"63.7795\" ry=\"57.0522\"/>\n<polygon fill=\"none\" stroke=\"#000000\" points=\"121.6396,-69.2756 121.6396,-90.2756 189.6396,-90.2756 189.6396,-69.2756 121.6396,-69.2756\"/>\n<text text-anchor=\"start\" x=\"138.6396\" y=\"-76.0756\" font-family=\"Times,serif\" font-size=\"14.00\" fill=\"#000000\"> xray </text>\n<polygon fill=\"none\" stroke=\"#000000\" points=\"121.6396,-46.2756 121.6396,-67.2756 154.6396,-67.2756 154.6396,-46.2756 121.6396,-46.2756\"/>\n<text text-anchor=\"start\" x=\"128.6396\" y=\"-53.0756\" font-family=\"Times,serif\" font-size=\"14.00\" fill=\"#000000\">yes</text>\n<polygon fill=\"none\" stroke=\"#000000\" points=\"156.6396,-46.2756 156.6396,-67.2756 189.6396,-67.2756 189.6396,-46.2756 156.6396,-46.2756\"/>\n<text text-anchor=\"start\" x=\"165.1396\" y=\"-53.0756\" font-family=\"Times,serif\" font-size=\"14.00\" fill=\"#000000\">no</text>\n<polygon fill=\"none\" stroke=\"#000000\" points=\"121.6396,-23.2756 121.6396,-44.2756 154.6396,-44.2756 154.6396,-23.2756 121.6396,-23.2756\"/>\n<text text-anchor=\"start\" x=\"124.6396\" y=\"-30.0756\" font-family=\"Times,serif\" font-size=\"14.00\" fill=\"#000000\">0.25</text>\n<polygon fill=\"none\" stroke=\"#000000\" points=\"156.6396,-23.2756 156.6396,-44.2756 189.6396,-44.2756 189.6396,-23.2756 156.6396,-23.2756\"/>\n<text text-anchor=\"start\" x=\"159.6396\" y=\"-30.0756\" font-family=\"Times,serif\" font-size=\"14.00\" fill=\"#000000\">0.75</text>\n<polygon fill=\"none\" stroke=\"#000000\" points=\"118.6396,-20.7756 118.6396,-93.7756 192.6396,-93.7756 192.6396,-20.7756 118.6396,-20.7756\"/>\n</g>\n<!-- either&#45;&gt;xray -->\n<g id=\"edge7\" class=\"edge\">\n<title>either&#45;&gt;xray</title>\n<path fill=\"none\" stroke=\"#000000\" d=\"M155.6396,-150.4805C155.6396,-142.2097 155.6396,-133.6324 155.6396,-125.1801\"/>\n<polygon fill=\"#000000\" stroke=\"#000000\" points=\"159.1397,-124.9614 155.6396,-114.9614 152.1397,-124.9614 159.1397,-124.9614\"/>\n</g>\n<!-- either&#45;&gt;dysp -->\n<g id=\"edge8\" class=\"edge\">\n<title>either&#45;&gt;dysp</title>\n<path fill=\"none\" stroke=\"#000000\" d=\"M196.5924,-163.4709C213.4094,-145.2563 232.9256,-124.1183 250.0976,-105.5193\"/>\n<polygon fill=\"#000000\" stroke=\"#000000\" points=\"253.0867,-107.4412 257.2988,-97.7196 247.9436,-102.6927 253.0867,-107.4412\"/>\n</g>\n</g>\n</svg>\n"
          },
          "metadata": {
            "tags": []
          }
        }
      ]
    },
    {
      "cell_type": "code",
      "metadata": {
        "id": "24L0MlUXCgDw"
      },
      "source": [
        ""
      ],
      "execution_count": null,
      "outputs": []
    }
  ]
}
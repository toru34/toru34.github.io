{
  "nbformat": 4,
  "nbformat_minor": 0,
  "metadata": {
    "colab": {
      "name": "logreg_ucb_admissions_numpyro.ipynb",
      "provenance": [],
      "collapsed_sections": [
        "aIEJ5zrH288g",
        "hVaUNn1mBt0F",
        "aZCWR2nW6lyz"
      ],
      "include_colab_link": true
    },
    "kernelspec": {
      "name": "python3",
      "display_name": "Python 3"
    },
    "language_info": {
      "name": "python"
    }
  },
  "cells": [
    {
      "cell_type": "markdown",
      "metadata": {
        "id": "view-in-github",
        "colab_type": "text"
      },
      "source": [
        "<a href=\"https://colab.research.google.com/github/always-newbie161/pyprobml/blob/issue_hermes78/notebooks/logreg_ucb_admissions_numpyro.ipynb\" target=\"_parent\"><img src=\"https://colab.research.google.com/assets/colab-badge.svg\" alt=\"Open In Colab\"/></a>"
      ]
    },
    {
      "cell_type": "markdown",
      "metadata": {
        "id": "bZmPN5Gu1zna"
      },
      "source": [
        "# Binomial logistic regression for UCB admissions\n",
        "\n",
        "We illustrate binary logistic regression on 2 discrete inputs using the example in sec 11.1.4  of [Statistical Rethinking ed 2](https://xcelab.net/rm/statistical-rethinking/). \n",
        "The numpyro code is from [Du Phan's site](https://fehiepsi.github.io/rethinking-numpyro/11-god-spiked-the-integers.html)\n",
        "\n"
      ]
    },
    {
      "cell_type": "code",
      "metadata": {
        "id": "_y0aLBbR1zMh",
        "colab": {
          "base_uri": "https://localhost:8080/"
        },
        "outputId": "8b715628-06e4-4994-aea4-c4b61a03c17e"
      },
      "source": [
        "!pip install -q numpyro@git+https://github.com/pyro-ppl/numpyro\n",
        "!pip install -q arviz\n"
      ],
      "execution_count": null,
      "outputs": [
        {
          "output_type": "stream",
          "text": [
            "  Building wheel for numpyro (setup.py) ... \u001b[?25l\u001b[?25hdone\n"
          ],
          "name": "stdout"
        }
      ]
    },
    {
      "cell_type": "code",
      "metadata": {
        "colab": {
          "base_uri": "https://localhost:8080/",
          "height": 35
        },
        "id": "cehGSuboWUCj",
        "outputId": "bfbcc046-0ff1-4e78-a8b4-5bf423fd711c"
      },
      "source": [
        "import arviz as az\n",
        "az.__version__\n"
      ],
      "execution_count": null,
      "outputs": [
        {
          "output_type": "execute_result",
          "data": {
            "application/vnd.google.colaboratory.intrinsic+json": {
              "type": "string"
            },
            "text/plain": [
              "'0.11.2'"
            ]
          },
          "metadata": {
            "tags": []
          },
          "execution_count": 2
        }
      ]
    },
    {
      "cell_type": "code",
      "metadata": {
        "colab": {
          "base_uri": "https://localhost:8080/"
        },
        "id": "WKy5McPCB8R_",
        "outputId": "63dcc8d2-50b8-4073-8947-2b5a21dc8905"
      },
      "source": [
        "!pip install causalgraphicalmodels"
      ],
      "execution_count": null,
      "outputs": [
        {
          "output_type": "stream",
          "text": [
            "Collecting causalgraphicalmodels\n",
            "  Downloading https://files.pythonhosted.org/packages/c8/ee/3b2d184576f3cb4873cebfc696e8e5c1e53eaef691f38aea76c206f9f916/causalgraphicalmodels-0.0.4-py3-none-any.whl\n",
            "Requirement already satisfied: pandas in /usr/local/lib/python3.7/dist-packages (from causalgraphicalmodels) (1.1.5)\n",
            "Requirement already satisfied: graphviz in /usr/local/lib/python3.7/dist-packages (from causalgraphicalmodels) (0.10.1)\n",
            "Requirement already satisfied: networkx in /usr/local/lib/python3.7/dist-packages (from causalgraphicalmodels) (2.5.1)\n",
            "Requirement already satisfied: numpy in /usr/local/lib/python3.7/dist-packages (from causalgraphicalmodels) (1.19.5)\n",
            "Requirement already satisfied: python-dateutil>=2.7.3 in /usr/local/lib/python3.7/dist-packages (from pandas->causalgraphicalmodels) (2.8.1)\n",
            "Requirement already satisfied: pytz>=2017.2 in /usr/local/lib/python3.7/dist-packages (from pandas->causalgraphicalmodels) (2018.9)\n",
            "Requirement already satisfied: decorator<5,>=4.3 in /usr/local/lib/python3.7/dist-packages (from networkx->causalgraphicalmodels) (4.4.2)\n",
            "Requirement already satisfied: six>=1.5 in /usr/local/lib/python3.7/dist-packages (from python-dateutil>=2.7.3->pandas->causalgraphicalmodels) (1.15.0)\n",
            "Installing collected packages: causalgraphicalmodels\n",
            "Successfully installed causalgraphicalmodels-0.0.4\n"
          ],
          "name": "stdout"
        }
      ]
    },
    {
      "cell_type": "code",
      "metadata": {
        "id": "q2Nn5H_nDK7P"
      },
      "source": [
        "#!pip install -U daft"
      ],
      "execution_count": null,
      "outputs": []
    },
    {
      "cell_type": "code",
      "metadata": {
        "colab": {
          "base_uri": "https://localhost:8080/"
        },
        "id": "HxnMvcA72EPS",
        "outputId": "18693280-d54d-485a-d0c6-135293ce1be2"
      },
      "source": [
        "import numpy as np\n",
        "np.set_printoptions(precision=3)\n",
        "import matplotlib.pyplot as plt\n",
        "import math\n",
        "import os\n",
        "import warnings\n",
        "import pandas as pd\n",
        "\n",
        "import jax\n",
        "print(\"jax version {}\".format(jax.__version__))\n",
        "print(\"jax backend {}\".format(jax.lib.xla_bridge.get_backend().platform))\n",
        "\n",
        "import jax.numpy as jnp\n",
        "from jax import random, vmap\n",
        "from jax.scipy.special import expit\n",
        "\n",
        "rng_key = random.PRNGKey(0)\n",
        "rng_key, rng_key_ = random.split(rng_key)\n",
        "\n",
        "import numpyro\n",
        "import numpyro.distributions as dist\n",
        "from numpyro.distributions import constraints\n",
        "from numpyro.distributions.transforms import AffineTransform\n",
        "from numpyro.diagnostics import hpdi, print_summary\n",
        "from numpyro.infer import Predictive\n",
        "from numpyro.infer import MCMC, NUTS\n",
        "from numpyro.infer import SVI, Trace_ELBO, init_to_value\n",
        "from numpyro.infer.autoguide import AutoLaplaceApproximation\n",
        "import numpyro.optim as optim\n",
        "\n",
        "\n",
        "import daft\n",
        "from causalgraphicalmodels import CausalGraphicalModel\n",
        "\n",
        "from sklearn.preprocessing import StandardScaler"
      ],
      "execution_count": null,
      "outputs": [
        {
          "output_type": "stream",
          "text": [
            "WARNING:absl:No GPU/TPU found, falling back to CPU. (Set TF_CPP_MIN_LOG_LEVEL=0 and rerun for more info.)\n",
            "WARNING:absl:No GPU/TPU found, falling back to CPU. (Set TF_CPP_MIN_LOG_LEVEL=0 and rerun for more info.)\n"
          ],
          "name": "stderr"
        },
        {
          "output_type": "stream",
          "text": [
            "jax version 0.2.13\n",
            "jax backend cpu\n"
          ],
          "name": "stdout"
        }
      ]
    },
    {
      "cell_type": "code",
      "metadata": {
        "colab": {
          "base_uri": "https://localhost:8080/"
        },
        "id": "oKZlhvtKcDVs",
        "outputId": "55136941-f974-42e8-97b7-287ec3bd2f78"
      },
      "source": [
        "n = jax.local_device_count()\n",
        "print(n)"
      ],
      "execution_count": null,
      "outputs": [
        {
          "output_type": "stream",
          "text": [
            "1\n"
          ],
          "name": "stdout"
        }
      ]
    },
    {
      "cell_type": "markdown",
      "metadata": {
        "id": "JK9wTe4b2MBq"
      },
      "source": [
        "# Data"
      ]
    },
    {
      "cell_type": "code",
      "metadata": {
        "colab": {
          "base_uri": "https://localhost:8080/",
          "height": 392
        },
        "id": "DmV4wYiI2F1c",
        "outputId": "dfc5ec61-7d1d-4188-bd01-6fc16e2cc011"
      },
      "source": [
        "\n",
        "url = 'https://raw.githubusercontent.com/fehiepsi/rethinking-numpyro/master/data/UCBadmit.csv'\n",
        "UCBadmit = pd.read_csv(url, sep=\";\")\n",
        "d = UCBadmit\n",
        "display(d)\n"
      ],
      "execution_count": null,
      "outputs": [
        {
          "output_type": "display_data",
          "data": {
            "text/html": [
              "<div>\n",
              "<style scoped>\n",
              "    .dataframe tbody tr th:only-of-type {\n",
              "        vertical-align: middle;\n",
              "    }\n",
              "\n",
              "    .dataframe tbody tr th {\n",
              "        vertical-align: top;\n",
              "    }\n",
              "\n",
              "    .dataframe thead th {\n",
              "        text-align: right;\n",
              "    }\n",
              "</style>\n",
              "<table border=\"1\" class=\"dataframe\">\n",
              "  <thead>\n",
              "    <tr style=\"text-align: right;\">\n",
              "      <th></th>\n",
              "      <th>dept</th>\n",
              "      <th>applicant.gender</th>\n",
              "      <th>admit</th>\n",
              "      <th>reject</th>\n",
              "      <th>applications</th>\n",
              "    </tr>\n",
              "  </thead>\n",
              "  <tbody>\n",
              "    <tr>\n",
              "      <th>1</th>\n",
              "      <td>A</td>\n",
              "      <td>male</td>\n",
              "      <td>512</td>\n",
              "      <td>313</td>\n",
              "      <td>825</td>\n",
              "    </tr>\n",
              "    <tr>\n",
              "      <th>2</th>\n",
              "      <td>A</td>\n",
              "      <td>female</td>\n",
              "      <td>89</td>\n",
              "      <td>19</td>\n",
              "      <td>108</td>\n",
              "    </tr>\n",
              "    <tr>\n",
              "      <th>3</th>\n",
              "      <td>B</td>\n",
              "      <td>male</td>\n",
              "      <td>353</td>\n",
              "      <td>207</td>\n",
              "      <td>560</td>\n",
              "    </tr>\n",
              "    <tr>\n",
              "      <th>4</th>\n",
              "      <td>B</td>\n",
              "      <td>female</td>\n",
              "      <td>17</td>\n",
              "      <td>8</td>\n",
              "      <td>25</td>\n",
              "    </tr>\n",
              "    <tr>\n",
              "      <th>5</th>\n",
              "      <td>C</td>\n",
              "      <td>male</td>\n",
              "      <td>120</td>\n",
              "      <td>205</td>\n",
              "      <td>325</td>\n",
              "    </tr>\n",
              "    <tr>\n",
              "      <th>6</th>\n",
              "      <td>C</td>\n",
              "      <td>female</td>\n",
              "      <td>202</td>\n",
              "      <td>391</td>\n",
              "      <td>593</td>\n",
              "    </tr>\n",
              "    <tr>\n",
              "      <th>7</th>\n",
              "      <td>D</td>\n",
              "      <td>male</td>\n",
              "      <td>138</td>\n",
              "      <td>279</td>\n",
              "      <td>417</td>\n",
              "    </tr>\n",
              "    <tr>\n",
              "      <th>8</th>\n",
              "      <td>D</td>\n",
              "      <td>female</td>\n",
              "      <td>131</td>\n",
              "      <td>244</td>\n",
              "      <td>375</td>\n",
              "    </tr>\n",
              "    <tr>\n",
              "      <th>9</th>\n",
              "      <td>E</td>\n",
              "      <td>male</td>\n",
              "      <td>53</td>\n",
              "      <td>138</td>\n",
              "      <td>191</td>\n",
              "    </tr>\n",
              "    <tr>\n",
              "      <th>10</th>\n",
              "      <td>E</td>\n",
              "      <td>female</td>\n",
              "      <td>94</td>\n",
              "      <td>299</td>\n",
              "      <td>393</td>\n",
              "    </tr>\n",
              "    <tr>\n",
              "      <th>11</th>\n",
              "      <td>F</td>\n",
              "      <td>male</td>\n",
              "      <td>22</td>\n",
              "      <td>351</td>\n",
              "      <td>373</td>\n",
              "    </tr>\n",
              "    <tr>\n",
              "      <th>12</th>\n",
              "      <td>F</td>\n",
              "      <td>female</td>\n",
              "      <td>24</td>\n",
              "      <td>317</td>\n",
              "      <td>341</td>\n",
              "    </tr>\n",
              "  </tbody>\n",
              "</table>\n",
              "</div>"
            ],
            "text/plain": [
              "   dept applicant.gender  admit  reject  applications\n",
              "1     A             male    512     313           825\n",
              "2     A           female     89      19           108\n",
              "3     B             male    353     207           560\n",
              "4     B           female     17       8            25\n",
              "5     C             male    120     205           325\n",
              "6     C           female    202     391           593\n",
              "7     D             male    138     279           417\n",
              "8     D           female    131     244           375\n",
              "9     E             male     53     138           191\n",
              "10    E           female     94     299           393\n",
              "11    F             male     22     351           373\n",
              "12    F           female     24     317           341"
            ]
          },
          "metadata": {
            "tags": []
          }
        }
      ]
    },
    {
      "cell_type": "code",
      "metadata": {
        "colab": {
          "base_uri": "https://localhost:8080/"
        },
        "id": "WNXUcstfgMb7",
        "outputId": "28361766-63e7-4ecc-81e3-ffab529019be"
      },
      "source": [
        "print(d.to_latex(index=False))"
      ],
      "execution_count": null,
      "outputs": [
        {
          "output_type": "stream",
          "text": [
            "\\begin{tabular}{llrrr}\n",
            "\\toprule\n",
            "dept & applicant.gender &  admit &  reject &  applications \\\\\n",
            "\\midrule\n",
            "   A &             male &    512 &     313 &           825 \\\\\n",
            "   A &           female &     89 &      19 &           108 \\\\\n",
            "   B &             male &    353 &     207 &           560 \\\\\n",
            "   B &           female &     17 &       8 &            25 \\\\\n",
            "   C &             male &    120 &     205 &           325 \\\\\n",
            "   C &           female &    202 &     391 &           593 \\\\\n",
            "   D &             male &    138 &     279 &           417 \\\\\n",
            "   D &           female &    131 &     244 &           375 \\\\\n",
            "   E &             male &     53 &     138 &           191 \\\\\n",
            "   E &           female &     94 &     299 &           393 \\\\\n",
            "   F &             male &     22 &     351 &           373 \\\\\n",
            "   F &           female &     24 &     317 &           341 \\\\\n",
            "\\bottomrule\n",
            "\\end{tabular}\n",
            "\n"
          ],
          "name": "stdout"
        }
      ]
    },
    {
      "cell_type": "code",
      "metadata": {
        "colab": {
          "base_uri": "https://localhost:8080/"
        },
        "id": "4s0itZ74AVD8",
        "outputId": "221a6709-2672-46f2-aea3-46fffb76ae7a"
      },
      "source": [
        "\n",
        "dat_list = dict(\n",
        "    admit=d.admit.values,\n",
        "    applications=d.applications.values,\n",
        "    gid=(d[\"applicant.gender\"] != \"male\").astype(int).values,\n",
        ")\n",
        "\n",
        "dat_list[\"dept_id\"] = jnp.repeat(jnp.arange(6), 2)\n",
        "\n",
        "print(dat_list)"
      ],
      "execution_count": null,
      "outputs": [
        {
          "output_type": "stream",
          "text": [
            "{'admit': array([512,  89, 353,  17, 120, 202, 138, 131,  53,  94,  22,  24]), 'applications': array([825, 108, 560,  25, 325, 593, 417, 375, 191, 393, 373, 341]), 'gid': array([0, 1, 0, 1, 0, 1, 0, 1, 0, 1, 0, 1]), 'dept_id': DeviceArray([0, 0, 1, 1, 2, 2, 3, 3, 4, 4, 5, 5], dtype=int32)}\n"
          ],
          "name": "stdout"
        }
      ]
    },
    {
      "cell_type": "code",
      "metadata": {
        "colab": {
          "base_uri": "https://localhost:8080/"
        },
        "id": "awteD7M-Asri",
        "outputId": "59c78248-6254-47f8-9007-baf41c2b802e"
      },
      "source": [
        "# extract number of applicaitons for dept 2 (C)\n",
        "d.applications[dat_list[\"dept_id\"].copy() == 2]\n",
        "               "
      ],
      "execution_count": null,
      "outputs": [
        {
          "output_type": "execute_result",
          "data": {
            "text/plain": [
              "5    325\n",
              "6    593\n",
              "Name: applications, dtype: int64"
            ]
          },
          "metadata": {
            "tags": []
          },
          "execution_count": 13
        }
      ]
    },
    {
      "cell_type": "code",
      "metadata": {
        "colab": {
          "base_uri": "https://localhost:8080/"
        },
        "id": "tso5iKGVZ1A3",
        "outputId": "6ffa821c-ca79-4f23-c78e-4c78a7f70ce1"
      },
      "source": [
        "d.applications[dat_list[\"dept_id\"].copy() == 2].sum()"
      ],
      "execution_count": null,
      "outputs": [
        {
          "output_type": "execute_result",
          "data": {
            "text/plain": [
              "918"
            ]
          },
          "metadata": {
            "tags": []
          },
          "execution_count": 14
        }
      ]
    },
    {
      "cell_type": "code",
      "metadata": {
        "colab": {
          "base_uri": "https://localhost:8080/",
          "height": 251
        },
        "id": "rjKvZC7w9F_t",
        "outputId": "b94f80b7-1f9e-4fb9-ca93-da19a2982c07"
      },
      "source": [
        "# application rate per department\n",
        "pg = jnp.stack(\n",
        "    list(\n",
        "        map(\n",
        "            lambda k: jnp.divide(\n",
        "                d.applications[dat_list[\"dept_id\"].copy() == k].values,\n",
        "                d.applications[dat_list[\"dept_id\"].copy() == k].sum(),\n",
        "            ),\n",
        "            range(6),\n",
        "        )\n",
        "    ),\n",
        "    axis=0,\n",
        ").T\n",
        "pg = pd.DataFrame(pg, index=[\"male\", \"female\"], columns=d.dept.unique())\n",
        "display(pg.round(2))\n",
        "print(pg.to_latex())"
      ],
      "execution_count": null,
      "outputs": [
        {
          "output_type": "display_data",
          "data": {
            "text/html": [
              "<div>\n",
              "<style scoped>\n",
              "    .dataframe tbody tr th:only-of-type {\n",
              "        vertical-align: middle;\n",
              "    }\n",
              "\n",
              "    .dataframe tbody tr th {\n",
              "        vertical-align: top;\n",
              "    }\n",
              "\n",
              "    .dataframe thead th {\n",
              "        text-align: right;\n",
              "    }\n",
              "</style>\n",
              "<table border=\"1\" class=\"dataframe\">\n",
              "  <thead>\n",
              "    <tr style=\"text-align: right;\">\n",
              "      <th></th>\n",
              "      <th>A</th>\n",
              "      <th>B</th>\n",
              "      <th>C</th>\n",
              "      <th>D</th>\n",
              "      <th>E</th>\n",
              "      <th>F</th>\n",
              "    </tr>\n",
              "  </thead>\n",
              "  <tbody>\n",
              "    <tr>\n",
              "      <th>male</th>\n",
              "      <td>0.88</td>\n",
              "      <td>0.96</td>\n",
              "      <td>0.35</td>\n",
              "      <td>0.53</td>\n",
              "      <td>0.33</td>\n",
              "      <td>0.52</td>\n",
              "    </tr>\n",
              "    <tr>\n",
              "      <th>female</th>\n",
              "      <td>0.12</td>\n",
              "      <td>0.04</td>\n",
              "      <td>0.65</td>\n",
              "      <td>0.47</td>\n",
              "      <td>0.67</td>\n",
              "      <td>0.48</td>\n",
              "    </tr>\n",
              "  </tbody>\n",
              "</table>\n",
              "</div>"
            ],
            "text/plain": [
              "           A     B     C     D     E     F\n",
              "male    0.88  0.96  0.35  0.53  0.33  0.52\n",
              "female  0.12  0.04  0.65  0.47  0.67  0.48"
            ]
          },
          "metadata": {
            "tags": []
          }
        },
        {
          "output_type": "stream",
          "text": [
            "\\begin{tabular}{lrrrrrr}\n",
            "\\toprule\n",
            "{} &         A &         B &        C &         D &         E &         F \\\\\n",
            "\\midrule\n",
            "male   &  0.884244 &  0.957265 &  0.35403 &  0.526515 &  0.327055 &  0.522409 \\\\\n",
            "female &  0.115756 &  0.042735 &  0.64597 &  0.473485 &  0.672945 &  0.477591 \\\\\n",
            "\\bottomrule\n",
            "\\end{tabular}\n",
            "\n"
          ],
          "name": "stdout"
        }
      ]
    },
    {
      "cell_type": "code",
      "metadata": {
        "colab": {
          "base_uri": "https://localhost:8080/",
          "height": 251
        },
        "id": "OLoWrfLyaZrw",
        "outputId": "4cfd5397-f780-4cf2-e679-4d8f3a3b0eb2"
      },
      "source": [
        "# admisions rate per department\n",
        "pg = jnp.stack(\n",
        "    list(\n",
        "        map(\n",
        "            lambda k: jnp.divide(\n",
        "                d.admit[dat_list[\"dept_id\"].copy() == k].values,\n",
        "                d.applications[dat_list[\"dept_id\"].copy() == k].values,\n",
        "            ),\n",
        "            range(6),\n",
        "        )\n",
        "    ),\n",
        "    axis=0,\n",
        ").T\n",
        "pg = pd.DataFrame(pg, index=[\"male\", \"female\"], columns=d.dept.unique())\n",
        "display(pg.round(2))\n",
        "print(pg.to_latex())"
      ],
      "execution_count": null,
      "outputs": [
        {
          "output_type": "display_data",
          "data": {
            "text/html": [
              "<div>\n",
              "<style scoped>\n",
              "    .dataframe tbody tr th:only-of-type {\n",
              "        vertical-align: middle;\n",
              "    }\n",
              "\n",
              "    .dataframe tbody tr th {\n",
              "        vertical-align: top;\n",
              "    }\n",
              "\n",
              "    .dataframe thead th {\n",
              "        text-align: right;\n",
              "    }\n",
              "</style>\n",
              "<table border=\"1\" class=\"dataframe\">\n",
              "  <thead>\n",
              "    <tr style=\"text-align: right;\">\n",
              "      <th></th>\n",
              "      <th>A</th>\n",
              "      <th>B</th>\n",
              "      <th>C</th>\n",
              "      <th>D</th>\n",
              "      <th>E</th>\n",
              "      <th>F</th>\n",
              "    </tr>\n",
              "  </thead>\n",
              "  <tbody>\n",
              "    <tr>\n",
              "      <th>male</th>\n",
              "      <td>0.62</td>\n",
              "      <td>0.63</td>\n",
              "      <td>0.37</td>\n",
              "      <td>0.33</td>\n",
              "      <td>0.28</td>\n",
              "      <td>0.06</td>\n",
              "    </tr>\n",
              "    <tr>\n",
              "      <th>female</th>\n",
              "      <td>0.82</td>\n",
              "      <td>0.68</td>\n",
              "      <td>0.34</td>\n",
              "      <td>0.35</td>\n",
              "      <td>0.24</td>\n",
              "      <td>0.07</td>\n",
              "    </tr>\n",
              "  </tbody>\n",
              "</table>\n",
              "</div>"
            ],
            "text/plain": [
              "           A     B     C     D     E     F\n",
              "male    0.62  0.63  0.37  0.33  0.28  0.06\n",
              "female  0.82  0.68  0.34  0.35  0.24  0.07"
            ]
          },
          "metadata": {
            "tags": []
          }
        },
        {
          "output_type": "stream",
          "text": [
            "\\begin{tabular}{lrrrrrr}\n",
            "\\toprule\n",
            "{} &         A &         B &         C &         D &         E &         F \\\\\n",
            "\\midrule\n",
            "male   &  0.620606 &  0.630357 &  0.369231 &  0.330935 &  0.277487 &  0.058981 \\\\\n",
            "female &  0.824074 &  0.680000 &  0.340641 &  0.349333 &  0.239186 &  0.070381 \\\\\n",
            "\\bottomrule\n",
            "\\end{tabular}\n",
            "\n"
          ],
          "name": "stdout"
        }
      ]
    },
    {
      "cell_type": "markdown",
      "metadata": {
        "id": "lIH__8Bz2Vhf"
      },
      "source": [
        "# Model 1"
      ]
    },
    {
      "cell_type": "code",
      "metadata": {
        "colab": {
          "base_uri": "https://localhost:8080/"
        },
        "id": "DCchW_SRb2tJ",
        "outputId": "7dd337c0-b177-46ac-f5a3-649b888c818d"
      },
      "source": [
        "dat_list = dict(\n",
        "    admit=d.admit.values,\n",
        "    applications=d.applications.values,\n",
        "    gid=(d[\"applicant.gender\"] != \"male\").astype(int).values,\n",
        ")\n",
        "\n",
        "\n",
        "def model(gid, applications, admit=None):\n",
        "    a = numpyro.sample(\"a\", dist.Normal(0, 1.5).expand([2]))\n",
        "    logit_p = a[gid]\n",
        "    numpyro.sample(\"admit\", dist.Binomial(applications, logits=logit_p), obs=admit)\n",
        "\n",
        "\n",
        "m11_7 = MCMC(NUTS(model), num_warmup=500, num_samples=500, num_chains=4)\n",
        "m11_7.run(random.PRNGKey(0), **dat_list)\n",
        "m11_7.print_summary(0.89)"
      ],
      "execution_count": null,
      "outputs": [
        {
          "output_type": "stream",
          "text": [
            "/usr/local/lib/python3.7/dist-packages/numpyro/infer/mcmc.py:269: UserWarning: There are not enough devices to run parallel chains: expected 4 but got 1. Chains will be drawn sequentially. If you are running MCMC in CPU, consider using `numpyro.set_host_device_count(4)` at the beginning of your program. You can double-check how many devices are available in your system using `jax.local_device_count()`.\n",
            "  self.num_chains, local_device_count(), self.num_chains\n",
            "sample: 100%|██████████| 1000/1000 [00:03<00:00, 315.95it/s, 1 steps of size 9.77e-01. acc. prob=0.90]\n",
            "sample: 100%|██████████| 1000/1000 [00:00<00:00, 3346.04it/s, 3 steps of size 9.47e-01. acc. prob=0.90]\n",
            "sample: 100%|██████████| 1000/1000 [00:00<00:00, 3074.75it/s, 3 steps of size 7.58e-01. acc. prob=0.93]\n",
            "sample: 100%|██████████| 1000/1000 [00:00<00:00, 3412.96it/s, 3 steps of size 8.87e-01. acc. prob=0.91]\n"
          ],
          "name": "stderr"
        },
        {
          "output_type": "stream",
          "text": [
            "\n",
            "                mean       std    median      5.5%     94.5%     n_eff     r_hat\n",
            "      a[0]     -0.22      0.04     -0.22     -0.29     -0.16   2008.99      1.00\n",
            "      a[1]     -0.83      0.05     -0.83     -0.91     -0.75   1810.07      1.00\n",
            "\n",
            "Number of divergences: 0\n"
          ],
          "name": "stdout"
        }
      ]
    },
    {
      "cell_type": "code",
      "metadata": {
        "colab": {
          "base_uri": "https://localhost:8080/"
        },
        "id": "YrkAgHHH2zvJ",
        "outputId": "4195c61e-908c-4975-b786-f1d7e7fb5467"
      },
      "source": [
        "post = m11_7.get_samples()\n",
        "diff_a = post[\"a\"][:, 0] - post[\"a\"][:, 1]\n",
        "diff_p = expit(post[\"a\"][:, 0]) - expit(post[\"a\"][:, 1])\n",
        "print_summary({\"diff_a\": diff_a, \"diff_p\": diff_p}, 0.89, False)"
      ],
      "execution_count": null,
      "outputs": [
        {
          "output_type": "stream",
          "text": [
            "\n",
            "                mean       std    median      5.5%     94.5%     n_eff     r_hat\n",
            "    diff_a      0.61      0.06      0.61      0.50      0.71   1926.84      1.00\n",
            "    diff_p      0.14      0.01      0.14      0.12      0.16   1948.02      1.00\n",
            "\n"
          ],
          "name": "stdout"
        }
      ]
    },
    {
      "cell_type": "markdown",
      "metadata": {
        "id": "aIEJ5zrH288g"
      },
      "source": [
        "# Posterior predictive check"
      ]
    },
    {
      "cell_type": "code",
      "metadata": {
        "id": "jY1URpYA4_TJ"
      },
      "source": [
        "def ppc(mcmc_run, model_args):\n",
        "  post = mcmc_run.get_samples()\n",
        "  pred = Predictive(mcmc_run.sampler.model, post)(random.PRNGKey(2), **model_args)\n",
        "  admit_pred = pred[\"admit\"]\n",
        "  admit_rate = admit_pred / d.applications.values\n",
        "  plt.errorbar(\n",
        "      range(1, 13),\n",
        "      jnp.mean(admit_rate, 0),\n",
        "      jnp.std(admit_rate, 0) / 2,\n",
        "      fmt=\"o\",\n",
        "      c=\"k\",\n",
        "      mfc=\"none\",\n",
        "      ms=7,\n",
        "      elinewidth=1,\n",
        "  )\n",
        "  plt.plot(range(1, 13), jnp.percentile(admit_rate, 5.5, 0), \"k+\")\n",
        "  plt.plot(range(1, 13), jnp.percentile(admit_rate, 94.5, 0), \"k+\")\n",
        "  # draw lines connecting points from same dept\n",
        "  for i in range(1, 7):\n",
        "      x = 1 + 2 * (i - 1) # 1,3,5,7,9,11\n",
        "      y1 = d.admit.iloc[x - 1] / d.applications.iloc[x - 1] # male\n",
        "      y2 = d.admit.iloc[x] / d.applications.iloc[x] # female\n",
        "      plt.plot((x, x + 1), (y1, y2), \"bo-\")\n",
        "      plt.annotate(\n",
        "          d.dept.iloc[x], (x + 0.5, (y1 + y2) / 2 + 0.05), ha=\"center\", color=\"royalblue\"\n",
        "      )\n",
        "  plt.gca().set(ylim=(0, 1), xticks=range(1, 13), ylabel=\"admit\", xlabel=\"case\")"
      ],
      "execution_count": null,
      "outputs": []
    },
    {
      "cell_type": "code",
      "metadata": {
        "colab": {
          "base_uri": "https://localhost:8080/",
          "height": 282
        },
        "id": "FyrzH_Yi30N2",
        "outputId": "d2180a68-4b0b-4a22-e300-9f04427b8e6c"
      },
      "source": [
        "ppc(m11_7, {'gid': dat_list[\"gid\"], 'applications': dat_list[\"applications\"]})\n",
        "plt.savefig('admissions_ppc.pdf', dpi=300)\n",
        "plt.show()"
      ],
      "execution_count": null,
      "outputs": [
        {
          "output_type": "display_data",
          "data": {
            "image/png": "[encoded data removed]",
            "text/plain": [
              "<Figure size 432x288 with 1 Axes>"
            ]
          },
          "metadata": {
            "tags": [],
            "needs_background": "light"
          }
        }
      ]
    },
    {
      "cell_type": "markdown",
      "metadata": {
        "id": "KlJGu63T4Jew"
      },
      "source": [
        "# Model 2 (departmental-specific offset)"
      ]
    },
    {
      "cell_type": "code",
      "metadata": {
        "colab": {
          "base_uri": "https://localhost:8080/"
        },
        "id": "EgepyNLf4E9H",
        "outputId": "bbd5aef4-990c-42c9-b1a1-0d14de4e1b8e"
      },
      "source": [
        "\n",
        "dat_list[\"dept_id\"] = jnp.repeat(jnp.arange(6), 2)\n",
        "\n",
        "def model(gid, dept_id, applications, admit=None):\n",
        "    a = numpyro.sample(\"a\", dist.Normal(0, 1.5).expand([2]))\n",
        "    delta = numpyro.sample(\"delta\", dist.Normal(0, 1.5).expand([6]))\n",
        "    logit_p = a[gid] + delta[dept_id]\n",
        "    numpyro.sample(\"admit\", dist.Binomial(applications, logits=logit_p), obs=admit)\n",
        "\n",
        "\n",
        "m11_8 = MCMC(NUTS(model), num_warmup=2000, num_samples=2000, num_chains=4)\n",
        "m11_8.run(random.PRNGKey(0), **dat_list)\n",
        "m11_8.print_summary(0.89)"
      ],
      "execution_count": null,
      "outputs": [
        {
          "output_type": "stream",
          "text": [
            "/usr/local/lib/python3.7/dist-packages/numpyro/infer/mcmc.py:269: UserWarning: There are not enough devices to run parallel chains: expected 4 but got 1. Chains will be drawn sequentially. If you are running MCMC in CPU, consider using `numpyro.set_host_device_count(4)` at the beginning of your program. You can double-check how many devices are available in your system using `jax.local_device_count()`.\n",
            "  self.num_chains, local_device_count(), self.num_chains\n",
            "sample: 100%|██████████| 4000/4000 [00:04<00:00, 837.65it/s, 15 steps of size 7.18e-02. acc. prob=0.91]\n",
            "sample: 100%|██████████| 4000/4000 [00:01<00:00, 2770.22it/s, 15 steps of size 7.13e-02. acc. prob=0.92]\n",
            "sample: 100%|██████████| 4000/4000 [00:01<00:00, 2754.92it/s, 7 steps of size 6.88e-02. acc. prob=0.91] \n",
            "sample: 100%|██████████| 4000/4000 [00:01<00:00, 2839.85it/s, 15 steps of size 6.43e-02. acc. prob=0.92]\n"
          ],
          "name": "stderr"
        },
        {
          "output_type": "stream",
          "text": [
            "\n",
            "                mean       std    median      5.5%     94.5%     n_eff     r_hat\n",
            "      a[0]     -0.54      0.55     -0.54     -1.38      0.35    581.04      1.01\n",
            "      a[1]     -0.44      0.55     -0.44     -1.31      0.42    579.82      1.01\n",
            "  delta[0]      1.12      0.55      1.12      0.25      1.99    584.56      1.01\n",
            "  delta[1]      1.08      0.55      1.07      0.20      1.95    589.21      1.01\n",
            "  delta[2]     -0.14      0.55     -0.14     -1.02      0.73    583.25      1.01\n",
            "  delta[3]     -0.17      0.55     -0.17     -1.03      0.72    588.07      1.01\n",
            "  delta[4]     -0.62      0.55     -0.62     -1.50      0.25    584.70      1.01\n",
            "  delta[5]     -2.17      0.57     -2.17     -3.12     -1.31    602.85      1.00\n",
            "\n",
            "Number of divergences: 0\n"
          ],
          "name": "stdout"
        }
      ]
    },
    {
      "cell_type": "code",
      "metadata": {
        "colab": {
          "base_uri": "https://localhost:8080/"
        },
        "id": "8CYrU2uN4nli",
        "outputId": "57cb1fd2-3db5-4cb1-b7cc-b7d1e6069597"
      },
      "source": [
        "post = m11_8.get_samples()\n",
        "diff_a = post[\"a\"][:, 0] - post[\"a\"][:, 1]\n",
        "diff_p = expit(post[\"a\"][:, 0]) - expit(post[\"a\"][:, 1])\n",
        "print_summary({\"diff_a\": diff_a, \"diff_p\": diff_p}, 0.89, False)"
      ],
      "execution_count": null,
      "outputs": [
        {
          "output_type": "stream",
          "text": [
            "\n",
            "                mean       std    median      5.5%     94.5%     n_eff     r_hat\n",
            "    diff_a     -0.10      0.08     -0.10     -0.22      0.03   9440.98      1.00\n",
            "    diff_p     -0.02      0.02     -0.02     -0.05      0.01   6953.82      1.00\n",
            "\n"
          ],
          "name": "stdout"
        }
      ]
    },
    {
      "cell_type": "code",
      "metadata": {
        "colab": {
          "base_uri": "https://localhost:8080/",
          "height": 282
        },
        "id": "BFXYpYYh4gZL",
        "outputId": "12e334c8-6689-48ad-ef94-3c3fbab577db"
      },
      "source": [
        "data_dict = {'gid': dat_list[\"gid\"],\n",
        "             'dept_id': dat_list[\"dept_id\"],\n",
        "             'applications': dat_list[\"applications\"]}\n",
        "ppc(m11_8, data_dict)\n",
        "#ppc(m11_8, dat_list) # must exclude 'admit' for predictive distribution\n",
        "plt.savefig('admissions_ppc_per_dept.pdf', dpi=300)\n",
        "plt.show()"
      ],
      "execution_count": null,
      "outputs": [
        {
          "output_type": "display_data",
          "data": {
            "image/png": "[encoded data removed]",
            "text/plain": [
              "<Figure size 432x288 with 1 Axes>"
            ]
          },
          "metadata": {
            "tags": [],
            "needs_background": "light"
          }
        }
      ]
    },
    {
      "cell_type": "markdown",
      "metadata": {
        "id": "fTyU9j5gWpG5"
      },
      "source": [
        "# Poisson regression\n",
        "\n",
        "We now show we can emulate binomial regresison using 2 poisson regressions,\n",
        "following sec 11.3.3 of rethinking. We use a simplified model that just predicts outcomes, and has no features (just an offset term)."
      ]
    },
    {
      "cell_type": "code",
      "metadata": {
        "colab": {
          "base_uri": "https://localhost:8080/"
        },
        "id": "K6zWmx1LXdrj",
        "outputId": "0740c417-7657-4329-b55d-a2e15bba106a"
      },
      "source": [
        "# binomial model of overall admission probability\n",
        "def model(applications, admit):\n",
        "    a = numpyro.sample(\"a\", dist.Normal(0, 1.5))\n",
        "    logit_p = a\n",
        "    numpyro.sample(\"admit\", dist.Binomial(applications, logits=logit_p), obs=admit)\n",
        "\n",
        "'''\n",
        "m_binom = AutoLaplaceApproximation(model)\n",
        "svi = SVI(\n",
        "    model,\n",
        "    m_binom,\n",
        "    optim.Adam(1),\n",
        "    Trace_ELBO(),\n",
        "    applications=d.applications.values,\n",
        "    admit=d.admit.values,\n",
        ")\n",
        "p_binom, losses = svi.run(random.PRNGKey(0), 1000)\n",
        "'''\n",
        "\n",
        "m_binom = MCMC(NUTS(model), num_warmup=500, num_samples=500, num_chains=4)\n",
        "m_binom.run(random.PRNGKey(0), d.applications.values, d.admit.values)\n",
        "m_binom.print_summary(0.95)\n",
        "\n"
      ],
      "execution_count": null,
      "outputs": [
        {
          "output_type": "stream",
          "text": [
            "/usr/local/lib/python3.7/dist-packages/numpyro/infer/mcmc.py:269: UserWarning: There are not enough devices to run parallel chains: expected 4 but got 1. Chains will be drawn sequentially. If you are running MCMC in CPU, consider using `numpyro.set_host_device_count(4)` at the beginning of your program. You can double-check how many devices are available in your system using `jax.local_device_count()`.\n",
            "  self.num_chains, local_device_count(), self.num_chains\n",
            "sample: 100%|██████████| 1000/1000 [00:02<00:00, 334.19it/s, 3 steps of size 1.05e+00. acc. prob=0.93]\n",
            "sample: 100%|██████████| 1000/1000 [00:00<00:00, 3464.85it/s, 3 steps of size 9.75e-01. acc. prob=0.92]\n",
            "sample: 100%|██████████| 1000/1000 [00:00<00:00, 3071.06it/s, 3 steps of size 8.25e-01. acc. prob=0.94]\n",
            "sample: 100%|██████████| 1000/1000 [00:00<00:00, 3351.14it/s, 1 steps of size 1.23e+00. acc. prob=0.92]\n"
          ],
          "name": "stderr"
        },
        {
          "output_type": "stream",
          "text": [
            "\n",
            "                mean       std    median      2.5%     97.5%     n_eff     r_hat\n",
            "         a     -0.46      0.03     -0.46     -0.52     -0.39    800.65      1.01\n",
            "\n",
            "Number of divergences: 0\n"
          ],
          "name": "stdout"
        }
      ]
    },
    {
      "cell_type": "code",
      "metadata": {
        "colab": {
          "base_uri": "https://localhost:8080/"
        },
        "id": "pKRQopvFYeSq",
        "outputId": "1ea101a6-a230-4676-84bd-0fdee708433c"
      },
      "source": [
        "logit = jnp.mean(m_binom.get_samples()[\"a\"])\n",
        "print(expit(logit))"
      ],
      "execution_count": null,
      "outputs": [
        {
          "output_type": "stream",
          "text": [
            "0.38789943\n"
          ],
          "name": "stdout"
        }
      ]
    },
    {
      "cell_type": "code",
      "metadata": {
        "colab": {
          "base_uri": "https://localhost:8080/"
        },
        "id": "oYMtHurQYArE",
        "outputId": "9ff3ba00-d8e0-4c2b-ec87-937edc01c4a5"
      },
      "source": [
        "def model(rej, admit):\n",
        "    a1, a2 = numpyro.sample(\"a\", dist.Normal(0, 1.5).expand([2]))\n",
        "    lambda1 = jnp.exp(a1)\n",
        "    lambda2 = jnp.exp(a2)\n",
        "    numpyro.sample(\"rej\", dist.Poisson(lambda2), obs=rej)\n",
        "    numpyro.sample(\"admit\", dist.Poisson(lambda1), obs=admit)\n",
        "\n",
        "\n",
        "m_pois = MCMC(NUTS(model), num_warmup=1000, num_samples=1000, num_chains=3)\n",
        "m_pois.run(random.PRNGKey(0), d.reject.values, d.admit.values)\n",
        "m_pois.print_summary(0.95)\n",
        "                     \n"
      ],
      "execution_count": null,
      "outputs": [
        {
          "output_type": "stream",
          "text": [
            "/usr/local/lib/python3.7/dist-packages/numpyro/infer/mcmc.py:269: UserWarning: There are not enough devices to run parallel chains: expected 3 but got 1. Chains will be drawn sequentially. If you are running MCMC in CPU, consider using `numpyro.set_host_device_count(3)` at the beginning of your program. You can double-check how many devices are available in your system using `jax.local_device_count()`.\n",
            "  self.num_chains, local_device_count(), self.num_chains\n",
            "sample: 100%|██████████| 2000/2000 [00:03<00:00, 583.14it/s, 3 steps of size 8.14e-01. acc. prob=0.93]\n",
            "sample: 100%|██████████| 2000/2000 [00:00<00:00, 3418.88it/s, 3 steps of size 8.73e-01. acc. prob=0.92]\n",
            "sample: 100%|██████████| 2000/2000 [00:00<00:00, 3400.91it/s, 3 steps of size 9.12e-01. acc. prob=0.90]\n"
          ],
          "name": "stderr"
        },
        {
          "output_type": "stream",
          "text": [
            "\n",
            "                mean       std    median      2.5%     97.5%     n_eff     r_hat\n",
            "      a[0]      4.98      0.02      4.98      4.94      5.03   2860.29      1.00\n",
            "      a[1]      5.44      0.02      5.44      5.41      5.48   2870.62      1.00\n",
            "\n",
            "Number of divergences: 0\n"
          ],
          "name": "stdout"
        }
      ]
    },
    {
      "cell_type": "code",
      "metadata": {
        "colab": {
          "base_uri": "https://localhost:8080/"
        },
        "id": "Pwr25iX4ZGZD",
        "outputId": "59e577c0-4ede-4ce4-b022-45124c9aadd0"
      },
      "source": [
        "params = jnp.mean(m_pois.get_samples()[\"a\"], 0)\n",
        "a1 = params[0]\n",
        "a2 = params[1]\n",
        "lam1 = jnp.exp(a1)\n",
        "lam2 = jnp.exp(a2)\n",
        "print([lam1, lam2])\n",
        "print(lam1 / (lam1 + lam2))"
      ],
      "execution_count": null,
      "outputs": [
        {
          "output_type": "stream",
          "text": [
            "[DeviceArray(145.997, dtype=float32), DeviceArray(230.732, dtype=float32)]\n",
            "0.3875381\n"
          ],
          "name": "stdout"
        }
      ]
    },
    {
      "cell_type": "markdown",
      "metadata": {
        "id": "k7RykjuvbG5F"
      },
      "source": [
        "# Beta-binomial regression\n",
        "\n",
        "Sec 12.1.1 of rethinking.\n",
        "Code from snippet 12.2 of [Du Phan's site](https://fehiepsi.github.io/rethinking-numpyro/12-monsters-and-mixtures.html)\n"
      ]
    },
    {
      "cell_type": "code",
      "metadata": {
        "colab": {
          "base_uri": "https://localhost:8080/"
        },
        "id": "rXLcgSYibLs8",
        "outputId": "a96b1c01-1b6f-426e-dfe6-ba18c7f22d06"
      },
      "source": [
        "d = UCBadmit\n",
        "d[\"gid\"] = (d[\"applicant.gender\"] != \"male\").astype(int)\n",
        "dat = dict(A=d.admit.values, N=d.applications.values, gid=d.gid.values)\n",
        "\n",
        "\n",
        "def model(gid, N, A=None):\n",
        "    a = numpyro.sample(\"a\", dist.Normal(0, 1.5).expand([2]))\n",
        "    phi = numpyro.sample(\"phi\", dist.Exponential(1))\n",
        "    theta = numpyro.deterministic(\"theta\", phi + 2) # shape\n",
        "    pbar = expit(a[gid]) # mean\n",
        "    numpyro.sample(\"A\", dist.BetaBinomial(pbar * theta, (1 - pbar) * theta, N), obs=A)\n",
        "\n",
        "\n",
        "m12_1 = MCMC(NUTS(model), num_warmup=500, num_samples=500, num_chains=4)\n",
        "m12_1.run(random.PRNGKey(0), **dat)"
      ],
      "execution_count": null,
      "outputs": [
        {
          "output_type": "stream",
          "text": [
            "/usr/local/lib/python3.7/dist-packages/numpyro/infer/mcmc.py:269: UserWarning: There are not enough devices to run parallel chains: expected 4 but got 1. Chains will be drawn sequentially. If you are running MCMC in CPU, consider using `numpyro.set_host_device_count(4)` at the beginning of your program. You can double-check how many devices are available in your system using `jax.local_device_count()`.\n",
            "  self.num_chains, local_device_count(), self.num_chains\n",
            "sample: 100%|██████████| 1000/1000 [00:05<00:00, 195.53it/s, 7 steps of size 6.86e-01. acc. prob=0.92]\n",
            "sample: 100%|██████████| 1000/1000 [00:00<00:00, 2260.61it/s, 7 steps of size 6.23e-01. acc. prob=0.89]\n",
            "sample: 100%|██████████| 1000/1000 [00:00<00:00, 2394.25it/s, 3 steps of size 4.89e-01. acc. prob=0.91]\n",
            "sample: 100%|██████████| 1000/1000 [00:00<00:00, 2341.94it/s, 7 steps of size 5.29e-01. acc. prob=0.92]\n"
          ],
          "name": "stderr"
        }
      ]
    },
    {
      "cell_type": "code",
      "metadata": {
        "colab": {
          "base_uri": "https://localhost:8080/"
        },
        "id": "DroRyUENbvyD",
        "outputId": "eedcc585-f2a4-4d01-d42c-d920476b0c51"
      },
      "source": [
        "post = m12_1.get_samples()\n",
        "post[\"theta\"] = Predictive(m12_1.sampler.model, post)(random.PRNGKey(1), **dat)[\"theta\"]\n",
        "post[\"da\"] = post[\"a\"][:, 0] - post[\"a\"][:, 1]\n",
        "print_summary(post, 0.89, False)"
      ],
      "execution_count": null,
      "outputs": [
        {
          "output_type": "stream",
          "text": [
            "\n",
            "                mean       std    median      5.5%     94.5%     n_eff     r_hat\n",
            "      a[0]     -0.45      0.43     -0.45     -1.13      0.23   1521.61      1.00\n",
            "      a[1]     -0.33      0.40     -0.33     -0.95      0.30   1734.01      1.00\n",
            "        da     -0.12      0.58     -0.11     -0.97      0.82   1731.04      1.00\n",
            "       phi      1.03      0.81      0.87      0.00      2.04   1447.97      1.00\n",
            "     theta      3.03      0.81      2.87      2.00      4.04   1447.97      1.00\n",
            "\n"
          ],
          "name": "stdout"
        }
      ]
    },
    {
      "cell_type": "code",
      "metadata": {
        "id": "S9VxiaDZyecO",
        "colab": {
          "base_uri": "https://localhost:8080/"
        },
        "outputId": "3de32392-9a74-46d8-e248-f687986adab4"
      },
      "source": [
        "post"
      ],
      "execution_count": null,
      "outputs": [
        {
          "output_type": "execute_result",
          "data": {
            "text/plain": [
              "{'a': DeviceArray([[ 0.006, -0.371],\n",
              "              [-0.743, -0.347],\n",
              "              [-0.104, -0.377],\n",
              "              ...,\n",
              "              [-0.976, -0.948],\n",
              "              [ 0.453,  0.092],\n",
              "              [-0.244,  0.167]], dtype=float32),\n",
              " 'da': DeviceArray([ 0.376, -0.396,  0.272, ..., -0.028,  0.361, -0.412], dtype=float32),\n",
              " 'phi': DeviceArray([0.962, 1.338, 2.239, ..., 3.375, 0.398, 0.241], dtype=float32),\n",
              " 'theta': DeviceArray([2.962, 3.338, 4.239, ..., 5.375, 2.398, 2.241], dtype=float32)}"
            ]
          },
          "metadata": {
            "tags": []
          },
          "execution_count": 33
        }
      ]
    },
    {
      "cell_type": "code",
      "metadata": {
        "colab": {
          "base_uri": "https://localhost:8080/",
          "height": 295
        },
        "id": "GIwMyYUob2At",
        "outputId": "8bdc1adc-c386-4e95-b454-b954c8b149c9"
      },
      "source": [
        "gid = 1\n",
        "# draw posterior mean beta distribution\n",
        "x = jnp.linspace(0, 1, 101)\n",
        "pbar = jnp.mean(expit(post[\"a\"][:, gid]))\n",
        "theta = jnp.mean(post[\"theta\"])\n",
        "plt.plot(x, jnp.exp(dist.Beta(pbar * theta, (1 - pbar) * theta).log_prob(x)))\n",
        "plt.gca().set(ylabel=\"Density\", xlabel=\"probability admit\", ylim=(0, 3))\n",
        "\n",
        "# draw 50 beta distributions sampled from posterior\n",
        "for i in range(50):\n",
        "    p = expit(post[\"a\"][i, gid])\n",
        "    theta = post[\"theta\"][i]\n",
        "    plt.plot(\n",
        "        x, jnp.exp(dist.Beta(p * theta, (1 - p) * theta).log_prob(x)), \"k\", alpha=0.2\n",
        "    )\n",
        "plt.title(\"distribution of female admission rates\")\n",
        "plt.savefig('admissions_betabinom_female_rate.pdf')\n",
        "plt.show()"
      ],
      "execution_count": null,
      "outputs": [
        {
          "output_type": "display_data",
          "data": {
            "image/png": "[encoded data removed]",
            "text/plain": [
              "<Figure size 432x288 with 1 Axes>"
            ]
          },
          "metadata": {
            "tags": [],
            "needs_background": "light"
          }
        }
      ]
    },
    {
      "cell_type": "code",
      "metadata": {
        "id": "P0m8BionvsXR",
        "colab": {
          "base_uri": "https://localhost:8080/",
          "height": 295
        },
        "outputId": "0202f6b7-cd3a-4813-e6b6-3d780fb95778"
      },
      "source": [
        "fig, ax = plt.subplots()\n",
        "labels = ['male', 'female']\n",
        "colors = ['b', 'r']\n",
        "for gid in [0,1]:\n",
        "  # draw posterior mean beta distribution\n",
        "  x = jnp.linspace(0, 1, 101)\n",
        "  pbar = jnp.mean(expit(post[\"a\"][:, gid]))\n",
        "  theta = jnp.mean(post[\"theta\"])\n",
        "  y = jnp.exp(dist.Beta(pbar * theta, (1 - pbar) * theta).log_prob(x))\n",
        "  ax.plot(x, y, label=labels[gid], color=colors[gid])\n",
        "  ax.set_ylabel(\"Density\")\n",
        "  ax.set_xlabel(\"probability admit\")\n",
        "  ax.set_ylim(0, 3)\n",
        "\n",
        "  # draw some beta distributions sampled from posterior\n",
        "  for i in range(10):\n",
        "      p = expit(post[\"a\"][i, gid])\n",
        "      theta = post[\"theta\"][i]\n",
        "      y =jnp.exp(dist.Beta(p * theta, (1 - p) * theta).log_prob(x))\n",
        "      plt.plot(x, y, colors[gid], alpha=0.2)\n",
        "\n",
        "plt.title(\"distribution of admission rates\")\n",
        "plt.legend()\n",
        "plt.savefig('admissions_betabinom_rates.pdf')\n",
        "plt.show()"
      ],
      "execution_count": null,
      "outputs": [
        {
          "output_type": "display_data",
          "data": {
            "image/png": "[encoded data removed]",
            "text/plain": [
              "<Figure size 432x288 with 1 Axes>"
            ]
          },
          "metadata": {
            "tags": [],
            "needs_background": "light"
          }
        }
      ]
    },
    {
      "cell_type": "code",
      "metadata": {
        "colab": {
          "base_uri": "https://localhost:8080/",
          "height": 265
        },
        "id": "LqPtmN_IcLY4",
        "outputId": "2519a209-84d0-477d-a13f-49ac03214931"
      },
      "source": [
        "post = m12_1.get_samples()\n",
        "admit_pred = Predictive(m12_1.sampler.model, post)(\n",
        "    random.PRNGKey(1), gid=dat[\"gid\"], N=dat[\"N\"]\n",
        ")[\"A\"]\n",
        "admit_rate = admit_pred / dat[\"N\"]\n",
        "plt.scatter(range(1, 13), dat[\"A\"] / dat[\"N\"])\n",
        "plt.errorbar(\n",
        "    range(1, 13),\n",
        "    jnp.mean(admit_rate, 0),\n",
        "    jnp.std(admit_rate, 0) / 2,\n",
        "    fmt=\"o\",\n",
        "    c=\"k\",\n",
        "    mfc=\"none\",\n",
        "    ms=7,\n",
        "    elinewidth=1,\n",
        ")\n",
        "plt.plot(range(1, 13), jnp.percentile(admit_rate, 5.5, 0), \"k+\")\n",
        "plt.plot(range(1, 13), jnp.percentile(admit_rate, 94.5, 0), \"k+\")\n",
        "plt.savefig('admissions_betabinom_post_pred.pdf')\n",
        "plt.show()"
      ],
      "execution_count": null,
      "outputs": [
        {
          "output_type": "display_data",
          "data": {
            "image/png": "[encoded data removed]",
            "text/plain": [
              "<Figure size 432x288 with 1 Axes>"
            ]
          },
          "metadata": {
            "tags": [],
            "needs_background": "light"
          }
        }
      ]
    },
    {
      "cell_type": "markdown",
      "metadata": {
        "id": "WASI8v5XHUhi"
      },
      "source": [
        "# Mixed effects model with joint prior\n",
        "\n",
        "This code is from https://numpyro.readthedocs.io/en/latest/examples/ucbadmit.html."
      ]
    },
    {
      "cell_type": "code",
      "metadata": {
        "id": "peOoI8OLHZFs"
      },
      "source": [
        "from numpyro.examples.datasets import UCBADMIT, load_dataset\n",
        "\n",
        "\n",
        "\n",
        "def glmm(dept, male, applications, admit=None):\n",
        "    v_mu = numpyro.sample(\"v_mu\", dist.Normal(0, jnp.array([4.0, 1.0])))\n",
        "\n",
        "    sigma = numpyro.sample(\"sigma\", dist.HalfNormal(jnp.ones(2)))\n",
        "    L_Rho = numpyro.sample(\"L_Rho\", dist.LKJCholesky(2, concentration=2))\n",
        "    scale_tril = sigma[..., jnp.newaxis] * L_Rho\n",
        "    # non-centered parameterization\n",
        "    num_dept = len(np.unique(dept))\n",
        "    z = numpyro.sample(\"z\", dist.Normal(jnp.zeros((num_dept, 2)), 1))\n",
        "    v = jnp.dot(scale_tril, z.T).T\n",
        "\n",
        "    logits = v_mu[0] + v[dept, 0] + (v_mu[1] + v[dept, 1]) * male\n",
        "    if admit is None:\n",
        "        # we use a Delta site to record probs for predictive distribution\n",
        "        probs = expit(logits)\n",
        "        numpyro.sample(\"probs\", dist.Delta(probs), obs=probs)\n",
        "    numpyro.sample(\"admit\", dist.Binomial(applications, logits=logits), obs=admit)\n",
        "\n",
        "\n",
        "def run_inference(dept, male, applications, admit, rng_key):\n",
        "    kernel = NUTS(glmm)\n",
        "    mcmc = MCMC(kernel, num_warmup=500, num_samples=1000, num_chains=1)\n",
        "    mcmc.run(rng_key, dept, male, applications, admit)\n",
        "    return mcmc.get_samples()\n",
        "\n",
        "\n",
        "def print_results(header, preds, dept, male, probs):\n",
        "    columns = [\"Dept\", \"Male\", \"ActualProb\", \"Pred(p25)\", \"Pred(p50)\", \"Pred(p75)\"]\n",
        "    header_format = \"{:>10} {:>10} {:>10} {:>10} {:>10} {:>10}\"\n",
        "    row_format = \"{:>10.0f} {:>10.0f} {:>10.2f} {:>10.2f} {:>10.2f} {:>10.2f}\"\n",
        "    quantiles = jnp.quantile(preds, jnp.array([0.25, 0.5, 0.75]), axis=0)\n",
        "    print(\"\\n\", header, \"\\n\")\n",
        "    print(header_format.format(*columns))\n",
        "    for i in range(len(dept)):\n",
        "        print(row_format.format(dept[i], male[i], probs[i], *quantiles[:, i]), \"\\n\")\n"
      ],
      "execution_count": null,
      "outputs": []
    },
    {
      "cell_type": "code",
      "metadata": {
        "id": "tGUqrgCgHlPt",
        "colab": {
          "base_uri": "https://localhost:8080/",
          "height": 961
        },
        "outputId": "8f9e1a80-05e8-4ef3-9b0c-5bf23cf3ebb6"
      },
      "source": [
        "\n",
        "_, fetch_train = load_dataset(UCBADMIT, split=\"train\", shuffle=False)\n",
        "dept, male, applications, admit = fetch_train()\n",
        "rng_key, rng_key_predict = random.split(random.PRNGKey(1))\n",
        "zs = run_inference(dept, male, applications, admit, rng_key)\n",
        "pred_probs = Predictive(glmm, zs)(rng_key_predict, dept, male, applications)[\n",
        "    \"probs\"\n",
        "]\n",
        "header = \"=\" * 30 + \"glmm - TRAIN\" + \"=\" * 30\n",
        "print_results(header, pred_probs, dept, male, admit / applications)\n",
        "\n",
        "# make plots\n",
        "fig, ax = plt.subplots(figsize=(8, 6), constrained_layout=True)\n",
        "\n",
        "ax.plot(range(1, 13), admit / applications, \"o\", ms=7, label=\"actual rate\")\n",
        "ax.errorbar(\n",
        "    range(1, 13),\n",
        "    jnp.mean(pred_probs, 0),\n",
        "    jnp.std(pred_probs, 0),\n",
        "    fmt=\"o\",\n",
        "    c=\"k\",\n",
        "    mfc=\"none\",\n",
        "    ms=7,\n",
        "    elinewidth=1,\n",
        "    label=r\"mean $\\pm$ std\",\n",
        ")\n",
        "ax.plot(range(1, 13), jnp.percentile(pred_probs, 5, 0), \"k+\")\n",
        "ax.plot(range(1, 13), jnp.percentile(pred_probs, 95, 0), \"k+\")\n",
        "ax.set(\n",
        "    xlabel=\"cases\",\n",
        "    ylabel=\"admit rate\",\n",
        "    title=\"Posterior Predictive Check with 90% CI\",\n",
        ")\n",
        "ax.legend()\n",
        "\n",
        "plt.savefig(\"ucbadmit_plot.pdf\")"
      ],
      "execution_count": null,
      "outputs": [
        {
          "output_type": "stream",
          "text": [
            "Downloading - https://d2hg8soec8ck9v.cloudfront.net/datasets/UCBadmit.csv.\n",
            "Download complete.\n"
          ],
          "name": "stdout"
        },
        {
          "output_type": "stream",
          "text": [
            "sample: 100%|██████████| 1500/1500 [00:07<00:00, 191.12it/s, 63 steps of size 3.92e-02. acc. prob=0.94]\n"
          ],
          "name": "stderr"
        },
        {
          "output_type": "stream",
          "text": [
            "\n",
            " ==============================glmm - TRAIN============================== \n",
            "\n",
            "      Dept       Male ActualProb  Pred(p25)  Pred(p50)  Pred(p75)\n",
            "         0          1       0.62       0.61       0.63       0.64 \n",
            "\n",
            "         0          0       0.82       0.76       0.79       0.81 \n",
            "\n",
            "         1          1       0.63       0.62       0.63       0.64 \n",
            "\n",
            "         1          0       0.68       0.63       0.68       0.72 \n",
            "\n",
            "         2          1       0.37       0.34       0.36       0.38 \n",
            "\n",
            "         2          0       0.34       0.33       0.34       0.36 \n",
            "\n",
            "         3          1       0.33       0.31       0.33       0.34 \n",
            "\n",
            "         3          0       0.35       0.33       0.35       0.37 \n",
            "\n",
            "         4          1       0.28       0.25       0.27       0.29 \n",
            "\n",
            "         4          0       0.24       0.23       0.24       0.26 \n",
            "\n",
            "         5          1       0.06       0.05       0.06       0.07 \n",
            "\n",
            "         5          0       0.07       0.06       0.07       0.08 \n",
            "\n"
          ],
          "name": "stdout"
        },
        {
          "output_type": "display_data",
          "data": {
            "image/png": "[encoded data removed]",
            "text/plain": [
              "<Figure size 576x432 with 1 Axes>"
            ]
          },
          "metadata": {
            "tags": [],
            "needs_background": "light"
          }
        }
      ]
    },
    {
      "cell_type": "markdown",
      "metadata": {
        "id": "hVaUNn1mBt0F"
      },
      "source": [
        "# PGMs"
      ]
    },
    {
      "cell_type": "code",
      "metadata": {
        "colab": {
          "base_uri": "https://localhost:8080/",
          "height": 288
        },
        "id": "EOYJu0IvYyP9",
        "outputId": "c9182a6b-6f0f-4c17-9771-737d503d2966"
      },
      "source": [
        "\n",
        "# p344\n",
        "dag = CausalGraphicalModel(\n",
        "    nodes=[\"G\", \"D\", \"A\"], edges=[(\"G\", \"D\"), (\"G\", \"A\"), (\"D\", \"A\")]\n",
        ")\n",
        "out = dag.draw()\n",
        "display(out)  \n",
        "out.render(filename='admissions_dag', format='pdf')"
      ],
      "execution_count": null,
      "outputs": [
        {
          "output_type": "display_data",
          "data": {
            "text/plain": [
              "<graphviz.dot.Digraph at 0x7f5319184c50>"
            ],
            "image/svg+xml": "<?xml version=\"1.0\" encoding=\"UTF-8\" standalone=\"no\"?>\n<!DOCTYPE svg PUBLIC \"-//W3C//DTD SVG 1.1//EN\"\n \"http://www.w3.org/Graphics/SVG/1.1/DTD/svg11.dtd\">\n<!-- Generated by graphviz version 2.40.1 (20161225.0304)\n -->\n<!-- Title: %3 Pages: 1 -->\n<svg width=\"89pt\" height=\"188pt\"\n viewBox=\"0.00 0.00 89.00 188.00\" xmlns=\"http://www.w3.org/2000/svg\" xmlns:xlink=\"http://www.w3.org/1999/xlink\">\n<g id=\"graph0\" class=\"graph\" transform=\"scale(1 1) rotate(0) translate(4 184)\">\n<title>%3</title>\n<polygon fill=\"#ffffff\" stroke=\"transparent\" points=\"-4,4 -4,-184 85,-184 85,4 -4,4\"/>\n<!-- D -->\n<g id=\"node1\" class=\"node\">\n<title>D</title>\n<ellipse fill=\"none\" stroke=\"#000000\" cx=\"27\" cy=\"-90\" rx=\"27\" ry=\"18\"/>\n<text text-anchor=\"middle\" x=\"27\" y=\"-86.3\" font-family=\"Times,serif\" font-size=\"14.00\" fill=\"#000000\">D</text>\n</g>\n<!-- A -->\n<g id=\"node2\" class=\"node\">\n<title>A</title>\n<ellipse fill=\"none\" stroke=\"#000000\" cx=\"54\" cy=\"-18\" rx=\"27\" ry=\"18\"/>\n<text text-anchor=\"middle\" x=\"54\" y=\"-14.3\" font-family=\"Times,serif\" font-size=\"14.00\" fill=\"#000000\">A</text>\n</g>\n<!-- D&#45;&gt;A -->\n<g id=\"edge3\" class=\"edge\">\n<title>D&#45;&gt;A</title>\n<path fill=\"none\" stroke=\"#000000\" d=\"M33.6742,-72.2022C36.7476,-64.0064 40.4616,-54.1024 43.8695,-45.0145\"/>\n<polygon fill=\"#000000\" stroke=\"#000000\" points=\"47.1685,-46.1853 47.4026,-35.593 40.6142,-43.7274 47.1685,-46.1853\"/>\n</g>\n<!-- G -->\n<g id=\"node3\" class=\"node\">\n<title>G</title>\n<ellipse fill=\"none\" stroke=\"#000000\" cx=\"54\" cy=\"-162\" rx=\"27\" ry=\"18\"/>\n<text text-anchor=\"middle\" x=\"54\" y=\"-158.3\" font-family=\"Times,serif\" font-size=\"14.00\" fill=\"#000000\">G</text>\n</g>\n<!-- G&#45;&gt;D -->\n<g id=\"edge1\" class=\"edge\">\n<title>G&#45;&gt;D</title>\n<path fill=\"none\" stroke=\"#000000\" d=\"M47.3258,-144.2022C44.2524,-136.0064 40.5384,-126.1024 37.1305,-117.0145\"/>\n<polygon fill=\"#000000\" stroke=\"#000000\" points=\"40.3858,-115.7274 33.5974,-107.593 33.8315,-118.1853 40.3858,-115.7274\"/>\n</g>\n<!-- G&#45;&gt;A -->\n<g id=\"edge2\" class=\"edge\">\n<title>G&#45;&gt;A</title>\n<path fill=\"none\" stroke=\"#000000\" d=\"M57.7474,-144.0931C59.7466,-133.6241 61.9966,-120.1241 63,-108 64.3197,-92.0545 64.3197,-87.9455 63,-72 62.2945,-63.4753 60.9727,-54.2703 59.5551,-45.917\"/>\n<polygon fill=\"#000000\" stroke=\"#000000\" points=\"62.9689,-45.1258 57.7474,-35.9069 56.0803,-46.3698 62.9689,-45.1258\"/>\n</g>\n</g>\n</svg>\n"
          },
          "metadata": {
            "tags": []
          }
        },
        {
          "output_type": "execute_result",
          "data": {
            "application/vnd.google.colaboratory.intrinsic+json": {
              "type": "string"
            },
            "text/plain": [
              "'admissions_dag.pdf'"
            ]
          },
          "metadata": {
            "tags": []
          },
          "execution_count": 37
        }
      ]
    },
    {
      "cell_type": "code",
      "metadata": {
        "colab": {
          "base_uri": "https://localhost:8080/",
          "height": 288
        },
        "id": "fzcGU936ZIK2",
        "outputId": "aff43b4b-f9a6-4298-e603-9103019837fa"
      },
      "source": [
        "# p345\n",
        "dag = CausalGraphicalModel(\n",
        "    nodes=[\"G\", \"D\", \"A\"],\n",
        "    edges=[(\"G\", \"D\"), (\"G\", \"A\"), (\"D\", \"A\")],\n",
        "    latent_edges = [(\"D\", \"A\")]\n",
        ")\n",
        "out = dag.draw()\n",
        "display(out)  \n",
        "out.render(filename='admissions_dag_hidden', format='pdf')"
      ],
      "execution_count": null,
      "outputs": [
        {
          "output_type": "display_data",
          "data": {
            "text/plain": [
              "<graphviz.dot.Digraph at 0x7f531927b210>"
            ],
            "image/svg+xml": "<?xml version=\"1.0\" encoding=\"UTF-8\" standalone=\"no\"?>\n<!DOCTYPE svg PUBLIC \"-//W3C//DTD SVG 1.1//EN\"\n \"http://www.w3.org/Graphics/SVG/1.1/DTD/svg11.dtd\">\n<!-- Generated by graphviz version 2.40.1 (20161225.0304)\n -->\n<!-- Title: %3 Pages: 1 -->\n<svg width=\"100pt\" height=\"188pt\"\n viewBox=\"0.00 0.00 100.50 188.00\" xmlns=\"http://www.w3.org/2000/svg\" xmlns:xlink=\"http://www.w3.org/1999/xlink\">\n<g id=\"graph0\" class=\"graph\" transform=\"scale(1 1) rotate(0) translate(4 184)\">\n<title>%3</title>\n<polygon fill=\"#ffffff\" stroke=\"transparent\" points=\"-4,4 -4,-184 96.497,-184 96.497,4 -4,4\"/>\n<!-- D -->\n<g id=\"node1\" class=\"node\">\n<title>D</title>\n<ellipse fill=\"none\" stroke=\"#000000\" cx=\"53\" cy=\"-90\" rx=\"27\" ry=\"18\"/>\n<text text-anchor=\"middle\" x=\"53\" y=\"-86.3\" font-family=\"Times,serif\" font-size=\"14.00\" fill=\"#000000\">D</text>\n</g>\n<!-- A -->\n<g id=\"node2\" class=\"node\">\n<title>A</title>\n<ellipse fill=\"none\" stroke=\"#000000\" cx=\"53\" cy=\"-18\" rx=\"27\" ry=\"18\"/>\n<text text-anchor=\"middle\" x=\"53\" y=\"-14.3\" font-family=\"Times,serif\" font-size=\"14.00\" fill=\"#000000\">A</text>\n</g>\n<!-- D&#45;&gt;A -->\n<g id=\"edge3\" class=\"edge\">\n<title>D&#45;&gt;A</title>\n<path fill=\"none\" stroke=\"#000000\" d=\"M53,-71.8314C53,-64.131 53,-54.9743 53,-46.4166\"/>\n<polygon fill=\"#000000\" stroke=\"#000000\" points=\"56.5001,-46.4132 53,-36.4133 49.5001,-46.4133 56.5001,-46.4132\"/>\n</g>\n<!-- G -->\n<g id=\"node3\" class=\"node\">\n<title>G</title>\n<ellipse fill=\"none\" stroke=\"#000000\" cx=\"27\" cy=\"-162\" rx=\"27\" ry=\"18\"/>\n<text text-anchor=\"middle\" x=\"27\" y=\"-158.3\" font-family=\"Times,serif\" font-size=\"14.00\" fill=\"#000000\">G</text>\n</g>\n<!-- G&#45;&gt;D -->\n<g id=\"edge1\" class=\"edge\">\n<title>G&#45;&gt;D</title>\n<path fill=\"none\" stroke=\"#000000\" d=\"M33.427,-144.2022C36.3866,-136.0064 39.963,-126.1024 43.2447,-117.0145\"/>\n<polygon fill=\"#000000\" stroke=\"#000000\" points=\"46.5424,-118.1874 46.647,-107.593 39.9585,-115.8098 46.5424,-118.1874\"/>\n</g>\n<!-- G&#45;&gt;A -->\n<g id=\"edge2\" class=\"edge\">\n<title>G&#45;&gt;A</title>\n<path fill=\"none\" stroke=\"#000000\" d=\"M20.9601,-144.3674C15.5846,-125.9414 9.6197,-96.3755 17,-72 20.2661,-61.2127 26.4764,-50.6108 32.8313,-41.6963\"/>\n<polygon fill=\"#000000\" stroke=\"#000000\" points=\"35.6285,-43.8001 38.8771,-33.7156 30.0487,-39.5732 35.6285,-43.8001\"/>\n</g>\n<!-- Unobserved_0 -->\n<g id=\"node4\" class=\"node\">\n<title>Unobserved_0</title>\n<ellipse fill=\"#000000\" stroke=\"#000000\" cx=\"78\" cy=\"-162\" rx=\"1.8\" ry=\"1.8\"/>\n</g>\n<!-- Unobserved_0&#45;&gt;D -->\n<g id=\"edge4\" class=\"edge\">\n<title>Unobserved_0&#45;&gt;D</title>\n<path fill=\"none\" stroke=\"#000000\" stroke-dasharray=\"5,2\" d=\"M77.382,-160.2202C75.3078,-154.2465 68.3908,-134.3255 62.4516,-117.2206\"/>\n<polygon fill=\"#000000\" stroke=\"#000000\" points=\"65.6982,-115.9003 59.1117,-107.6017 59.0855,-118.1965 65.6982,-115.9003\"/>\n</g>\n<!-- Unobserved_0&#45;&gt;A -->\n<g id=\"edge5\" class=\"edge\">\n<title>Unobserved_0&#45;&gt;A</title>\n<path fill=\"none\" stroke=\"#000000\" stroke-dasharray=\"5,2\" d=\"M78.7392,-160.2383C82.5497,-150.9033 99.4004,-106.3501 89,-72 85.7339,-61.2127 79.5236,-50.6108 73.1687,-41.6963\"/>\n<polygon fill=\"#000000\" stroke=\"#000000\" points=\"75.9513,-39.5732 67.1229,-33.7156 70.3715,-43.8001 75.9513,-39.5732\"/>\n</g>\n</g>\n</svg>\n"
          },
          "metadata": {
            "tags": []
          }
        },
        {
          "output_type": "execute_result",
          "data": {
            "application/vnd.google.colaboratory.intrinsic+json": {
              "type": "string"
            },
            "text/plain": [
              "'admissions_dag_hidden.pdf'"
            ]
          },
          "metadata": {
            "tags": []
          },
          "execution_count": 38
        }
      ]
    },
    {
      "cell_type": "markdown",
      "metadata": {
        "id": "dMRqbhs1q3Uy"
      },
      "source": [
        "# Causal inference with  the latent DAG\n",
        "\n",
        "This is based on sec 6.3 (collider bias) of the Rethinking book.\n",
        "Code is from [Du Phan](https://fehiepsi.github.io/rethinking-numpyro/06-the-haunted-dag-and-the-causal-terror.html), code snippet 6.25. We change the names to match our current example: P (parents) -> D (department), C (child) -> A (admit)."
      ]
    },
    {
      "cell_type": "markdown",
      "metadata": {
        "id": "P--fqICIuKH9"
      },
      "source": [
        "## Linear regression version"
      ]
    },
    {
      "cell_type": "code",
      "metadata": {
        "id": "Styoo0wXVIqv"
      },
      "source": [
        "N = 200  # number of samples\n",
        "b_GP = 1  # direct effect of G on P\n",
        "b_GC = 0  # direct effect of G on C\n",
        "b_PC = 1  # direct effect of P on C\n",
        "b_U = 2  # direct effect of U on P and C\n",
        "\n",
        "with numpyro.handlers.seed(rng_seed=1):\n",
        "    U = 2 * numpyro.sample(\"U\", dist.Bernoulli(0.5).expand([N])) - 1\n",
        "    G = numpyro.sample(\"G\", dist.Normal().expand([N]))\n",
        "    P = numpyro.sample(\"P\", dist.Normal(b_GP * G + b_U * U))\n",
        "    C = numpyro.sample(\"C\", dist.Normal(b_PC * P + b_GC * G + b_U * U))\n",
        "    df_gauss = pd.DataFrame({\"C\": C, \"P\": P, \"G\": G, \"U\": U})"
      ],
      "execution_count": null,
      "outputs": []
    },
    {
      "cell_type": "code",
      "metadata": {
        "id": "17Tj_YW3uR8a"
      },
      "source": [
        "def model_linreg(P, G, C):\n",
        "    a = numpyro.sample(\"a\", dist.Normal(0, 1))\n",
        "    b_PC = numpyro.sample(\"b_PC\", dist.Normal(0, 1))\n",
        "    b_GC = numpyro.sample(\"b_GC\", dist.Normal(0, 1))\n",
        "    sigma = numpyro.sample(\"sigma\", dist.Exponential(1))\n",
        "    mu = a + b_PC * P + b_GC * G\n",
        "    numpyro.sample(\"C\", dist.Normal(mu, sigma), obs=C)\n",
        "\n",
        "data_gauss = {'P': df_gauss.P.values, 'G': df_gauss.G.values, 'C': df_gauss.C.values}\n",
        "\n",
        "m6_11 = AutoLaplaceApproximation(model_linreg)\n",
        "svi = SVI(model_linreg, m6_11, optim.Adam(0.3), Trace_ELBO(), **data_gauss)\n",
        "p6_11, losses = svi.run(random.PRNGKey(0), 1000)\n",
        "post = m6_11.sample_posterior(random.PRNGKey(1), p6_11, (1000,))\n",
        "print_summary(post, 0.89, False)\n",
        "\n",
        "mcmc_run = MCMC(NUTS(model_linreg), num_warmup=200, num_samples=200, num_chains=4)\n",
        "mcmc_run.run(random.PRNGKey(0), **data)\n",
        "mcmc_run.print_summary(0.89)"
      ],
      "execution_count": null,
      "outputs": []
    },
    {
      "cell_type": "code",
      "metadata": {
        "id": "1WJ0MO-yun23"
      },
      "source": [
        "def model_linreg_hidden(P, G, U, C):\n",
        "    a = numpyro.sample(\"a\", dist.Normal(0, 1))\n",
        "    b_PC = numpyro.sample(\"b_PC\", dist.Normal(0, 1))\n",
        "    b_GC = numpyro.sample(\"b_GC\", dist.Normal(0, 1))\n",
        "    b_U = numpyro.sample(\"U\", dist.Normal(0, 1))\n",
        "    sigma = numpyro.sample(\"sigma\", dist.Exponential(1))\n",
        "    mu = a + b_PC * P + b_GC * G + b_U * U\n",
        "    numpyro.sample(\"C\", dist.Normal(mu, sigma), obs=C)\n",
        "\n",
        "\n",
        "m6_12 = AutoLaplaceApproximation(model_linreg_hidden)\n",
        "svi = SVI(\n",
        "    model_linreg_hidden,\n",
        "    m6_12,\n",
        "    optim.Adam(1),\n",
        "    Trace_ELBO(),\n",
        "    P=d.P.values,\n",
        "    G=d.G.values,\n",
        "    U=d.U.values,\n",
        "    C=d.C.values,\n",
        ")\n",
        "p6_12, losses = svi.run(random.PRNGKey(0), 1000)\n",
        "post = m6_12.sample_posterior(random.PRNGKey(1), p6_12, (1000,))\n",
        "print_summary(post, 0.89, False)"
      ],
      "execution_count": null,
      "outputs": []
    },
    {
      "cell_type": "markdown",
      "metadata": {
        "id": "T29wJN6AuTHr"
      },
      "source": [
        "## Logistic regression version\n",
        "\n",
        "We modify the scenario to match the UC Berkeley admissions scenario (with binary data) in sec 11.1.4."
      ]
    },
    {
      "cell_type": "code",
      "metadata": {
        "id": "01b-kAurskxC"
      },
      "source": [
        "N = 200  # number of samples\n",
        "b_GP = 1  # direct effect of G on P\n",
        "b_GC = 0  # direct effect of G on C\n",
        "b_PC = 1  # direct effect of P on C\n",
        "b_U = 2  # direct effect of U on P and C\n",
        "\n",
        "with numpyro.handlers.seed(rng_seed=1):\n",
        "    #U = 2 * numpyro.sample(\"U\", dist.Bernoulli(0.5).expand([N])) - 1\n",
        "    U = numpyro.sample(\"U\", dist.Normal().expand([N]))\n",
        "    #G = numpyro.sample(\"G\", dist.Normal().expand([N]))\n",
        "    G = numpyro.sample(\"G\", dist.Bernoulli(0.5).expand([N])) \n",
        "    P = numpyro.sample(\"P\", dist.Normal(b_GP * G + b_U * U))\n",
        "    #C = numpyro.sample(\"C\", dist.Normal(b_PC * P + b_GC * G + b_U * U))\n",
        "    logits = b_PC * P + b_GC * G + b_U * U\n",
        "    probs = expit(logits)\n",
        "    C = numpyro.sample(\"C\", dist.BernoulliProbs(probs))\n",
        "    df_binary = pd.DataFrame({\"C\": C, \"G\": G, \"P\": P,  \"U\": U, \"probs\": probs})\n",
        "\n",
        "display(df_binary.head(10))"
      ],
      "execution_count": null,
      "outputs": []
    },
    {
      "cell_type": "code",
      "metadata": {
        "id": "N5i75UBY7hNj"
      },
      "source": [
        "def model_causal(C=None, G=None, P=None, U=None):\n",
        "    U = numpyro.sample(\"U\", dist.Normal(), obs=U)\n",
        "    G = numpyro.sample(\"G\", dist.Bernoulli(0.5), obs=G)\n",
        "    P = numpyro.sample(\"P\", dist.Normal(b_GP * G + b_U * U), obs=P) \n",
        "    logits = b_PC * P + b_GC * G + b_U * U\n",
        "    probs = expit(logits)\n",
        "    C = numpyro.sample(\"C\", dist.BernoulliProbs(probs), obs=C)\n",
        "    return np.array([C, G, P, U])\n"
      ],
      "execution_count": null,
      "outputs": []
    },
    {
      "cell_type": "code",
      "metadata": {
        "id": "Q8SRcep98R5I"
      },
      "source": [
        "def make_samples(C=None, G=None, P=None, U=None, nsamples=200):\n",
        "  data_list = []\n",
        "  with numpyro.handlers.seed(rng_seed=0):\n",
        "    for i in range(nsamples):\n",
        "      out = model_causal(C, G, P, U)\n",
        "      data_list.append(out)\n",
        "  df = pd.DataFrame.from_records(data_list, columns=['C','G','P','U'])\n",
        "  return df\n",
        "\n",
        "df_binary = make_samples() \n",
        "display(df_binary.head())\n",
        "\n"
      ],
      "execution_count": null,
      "outputs": []
    },
    {
      "cell_type": "code",
      "metadata": {
        "id": "n4lGYRcMB1vF"
      },
      "source": [
        "\n",
        "Cbar = df_binary['C'].values.mean()\n",
        "Gbar = df_binary['G'].values.mean()\n",
        "Pbar = df_binary['P'].values.mean()\n",
        "Ubar = df_binary['U'].values.mean()\n",
        "print([Cbar, Gbar, Pbar, Ubar])\n",
        "print(b_GP * Gbar + b_U * Ubar) # expected Pbar\n",
        "\n"
      ],
      "execution_count": null,
      "outputs": []
    },
    {
      "cell_type": "code",
      "metadata": {
        "id": "RA1ltAvl9Mjj"
      },
      "source": [
        "N = len(df0)\n",
        "prob_admitted0 = np.sum(df0.C.values)/N\n",
        "prob_admitted1 = np.sum(df1.C.values)/N\n",
        "print([prob_admitted0, prob_admitted1])"
      ],
      "execution_count": null,
      "outputs": []
    },
    {
      "cell_type": "code",
      "metadata": {
        "id": "9jKjNnLdrPFS"
      },
      "source": [
        "def model_logreg(C=None, G=None, P=None):\n",
        "    a = numpyro.sample(\"a\", dist.Normal(0, 1))\n",
        "    b_PC = numpyro.sample(\"b_PC\", dist.Normal(0, 0.1))\n",
        "    b_GC = numpyro.sample(\"b_GC\", dist.Normal(0, 0.1))\n",
        "    logits = a + b_PC * P + b_GC * G\n",
        "    numpyro.sample(\"C\", dist.Bernoulli(logits=logits), obs=C)\n",
        "\n",
        "data_binary = {'P': df_binary.P.values, 'G': df_binary.G.values, 'C': df_binary.C.values}\n",
        "\n",
        "warmup  = 1000\n",
        "samples = 500\n",
        "mcmc_run = MCMC(NUTS(model_logreg), num_warmup=warmup, num_samples=samples, num_chains=4)\n",
        "mcmc_run.run(random.PRNGKey(0), **data)\n",
        "mcmc_run.print_summary(0.89)"
      ],
      "execution_count": null,
      "outputs": []
    },
    {
      "cell_type": "markdown",
      "metadata": {
        "id": "aZCWR2nW6lyz"
      },
      "source": [
        "## Counterfactual plot\n",
        "\n",
        "Similar to p140"
      ]
    },
    {
      "cell_type": "code",
      "metadata": {
        "id": "bjhP_mPtDINb"
      },
      "source": [
        "# p(C | do(G), do(P))\n",
        "Pfixed = 0\n",
        "\n",
        "df0 = make_samples(G=0, P=Pfixed, nsamples=200) \n",
        "display(df0.head())\n",
        "Cbar0 = df0['C'].values.mean()\n",
        "\n",
        "df1 = make_samples(G=1, P=Pfixed, nsamples=200) \n",
        "display(df1.head())\n",
        "Cbar1 = df1['C'].values.mean()\n",
        "\n",
        "print([Cbar0, Cbar1])"
      ],
      "execution_count": null,
      "outputs": []
    },
    {
      "cell_type": "code",
      "metadata": {
        "id": "KRONqS_twABe"
      },
      "source": [
        "sim_dat = dict(G=jnp.array([0,1]), P=jnp.array(Pfixed))\n",
        "post = mcmc_run.get_samples()\n",
        "pred = Predictive(model_logreg, post)(random.PRNGKey(22), **sim_dat)\n",
        "print(pred['C'].shape)\n",
        "print(np.mean(pred['C'], axis=0))\n"
      ],
      "execution_count": null,
      "outputs": []
    },
    {
      "cell_type": "code",
      "metadata": {
        "id": "RLd_WHLm7zzb"
      },
      "source": [
        "a_est = post['a'].mean()\n",
        "b_PC_est = post['b_PC'].mean()\n",
        "b_GC_est = post['b_GC'].mean()\n",
        "P = Pfixed\n",
        "\n",
        "G = np.array([0,1])\n",
        "logits = a_est + b_PC_est * P + b_GC_est * G\n",
        "np.set_printoptions(formatter={'float': lambda x: \"{0:0.3f}\".format(x)})\n",
        "print(expit(logits))"
      ],
      "execution_count": null,
      "outputs": []
    },
    {
      "cell_type": "code",
      "metadata": {
        "id": "WoXQNbK_BXGF"
      },
      "source": [
        "pred"
      ],
      "execution_count": null,
      "outputs": []
    },
    {
      "cell_type": "code",
      "metadata": {
        "id": "97wFDtiqG3Mv"
      },
      "source": [
        ""
      ],
      "execution_count": null,
      "outputs": []
    }
  ]
}
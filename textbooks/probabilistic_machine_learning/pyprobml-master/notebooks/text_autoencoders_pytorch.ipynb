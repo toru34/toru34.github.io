{
  "nbformat": 4,
  "nbformat_minor": 0,
  "metadata": {
    "colab": {
      "name": "text-autoencoders-pytorch.ipynb",
      "provenance": [],
      "toc_visible": true,
      "machine_shape": "hm",
      "authorship_tag": "ABX9TyNVy1+GhdGSP4pGe39tas5S",
      "include_colab_link": true
    },
    "kernelspec": {
      "name": "python3",
      "display_name": "Python 3"
    },
    "language_info": {
      "name": "python"
    },
    "accelerator": "GPU"
  },
  "cells": [
    {
      "cell_type": "markdown",
      "metadata": {
        "id": "view-in-github",
        "colab_type": "text"
      },
      "source": [
        "<a href=\"https://colab.research.google.com/github/probml/pyprobml/blob/master/notebooks/text_autoencoders_pytorch.ipynb\" target=\"_parent\"><img src=\"https://colab.research.google.com/assets/colab-badge.svg\" alt=\"Open In Colab\"/></a>"
      ]
    },
    {
      "cell_type": "markdown",
      "metadata": {
        "id": "Gmm_TyNcTdLD"
      },
      "source": [
        "\n",
        "\n",
        "https://github.com/shentianxiao/text-autoencoders"
      ]
    },
    {
      "cell_type": "markdown",
      "metadata": {
        "id": "dV3lykF6TvwL"
      },
      "source": [
        "# Setup"
      ]
    },
    {
      "cell_type": "code",
      "metadata": {
        "colab": {
          "base_uri": "https://localhost:8080/"
        },
        "id": "G29OhPQcTdoO",
        "outputId": "76a6322a-f4bc-417a-a180-fe19f8ff9c84"
      },
      "source": [
        "import torch\n",
        "from multiprocessing import cpu_count\n",
        "print(cpu_count())\n",
        "print(torch.cuda.is_available())"
      ],
      "execution_count": 2,
      "outputs": [
        {
          "output_type": "stream",
          "text": [
            "4\n",
            "True\n"
          ],
          "name": "stdout"
        }
      ]
    },
    {
      "cell_type": "code",
      "metadata": {
        "colab": {
          "base_uri": "https://localhost:8080/"
        },
        "id": "5JtFQPuqTaw2",
        "outputId": "95dce02e-5439-45c0-bfa6-dec0bf2da6f4"
      },
      "source": [
        "!git clone https://github.com/shentianxiao/text-autoencoders.git"
      ],
      "execution_count": 1,
      "outputs": [
        {
          "output_type": "stream",
          "text": [
            "Cloning into 'text-autoencoders'...\n",
            "remote: Enumerating objects: 103, done.\u001b[K\n",
            "remote: Counting objects: 100% (20/20), done.\u001b[K\n",
            "remote: Compressing objects: 100% (20/20), done.\u001b[K\n",
            "remote: Total 103 (delta 6), reused 5 (delta 0), pack-reused 83\u001b[K\n",
            "Receiving objects: 100% (103/103), 268.45 KiB | 5.48 MiB/s, done.\n",
            "Resolving deltas: 100% (51/51), done.\n"
          ],
          "name": "stdout"
        }
      ]
    },
    {
      "cell_type": "code",
      "metadata": {
        "colab": {
          "base_uri": "https://localhost:8080/"
        },
        "id": "rSKVhddyUUm2",
        "outputId": "58e5dc29-a43c-41f7-d655-65600fc69143"
      },
      "source": [
        "!ls"
      ],
      "execution_count": 4,
      "outputs": [
        {
          "output_type": "stream",
          "text": [
            "sample_data  text-autoencoders\n"
          ],
          "name": "stdout"
        }
      ]
    },
    {
      "cell_type": "code",
      "metadata": {
        "colab": {
          "base_uri": "https://localhost:8080/"
        },
        "id": "qh7fYGg9UWcz",
        "outputId": "3eec8841-519f-4f66-9ce1-639086d49f43"
      },
      "source": [
        "%cd text-autoencoders"
      ],
      "execution_count": 5,
      "outputs": [
        {
          "output_type": "stream",
          "text": [
            "/content/text-autoencoders\n"
          ],
          "name": "stdout"
        }
      ]
    },
    {
      "cell_type": "code",
      "metadata": {
        "colab": {
          "base_uri": "https://localhost:8080/"
        },
        "id": "dTmgH_QUUYId",
        "outputId": "47214fa7-974b-41ca-de35-521a99ea9d73"
      },
      "source": [
        "!ls"
      ],
      "execution_count": 6,
      "outputs": [
        {
          "output_type": "stream",
          "text": [
            "batchify.py\t  img\t   meter.py  noise.py\ttest.py   utils.py\n",
            "download_data.sh  LICENSE  model.py  README.md\ttrain.py  vocab.py\n"
          ],
          "name": "stdout"
        }
      ]
    },
    {
      "cell_type": "code",
      "metadata": {
        "id": "iiJtRlRTVMi6"
      },
      "source": [
        "from google.colab import files\n",
        "%load_ext autoreload\n",
        "%autoreload 2"
      ],
      "execution_count": 10,
      "outputs": []
    },
    {
      "cell_type": "code",
      "metadata": {
        "colab": {
          "base_uri": "https://localhost:8080/",
          "height": 17
        },
        "id": "AKVOqmzAVO1F",
        "outputId": "992fb522-81b7-4b1c-eaa6-930f121e9282"
      },
      "source": [
        "# open files in editor for debugging locally in colab\n",
        "files.view('train.py') \n",
        "files.view('test.py') \n",
        "files.view('model.py') "
      ],
      "execution_count": 12,
      "outputs": [
        {
          "output_type": "display_data",
          "data": {
            "application/javascript": [
              "\n",
              "      ((filepath) => {{\n",
              "        if (!google.colab.kernel.accessAllowed) {{\n",
              "          return;\n",
              "        }}\n",
              "        google.colab.files.view(filepath);\n",
              "      }})(\"/content/text-autoencoders/train.py\")"
            ],
            "text/plain": [
              "<IPython.core.display.Javascript object>"
            ]
          },
          "metadata": {
            "tags": []
          }
        },
        {
          "output_type": "display_data",
          "data": {
            "application/javascript": [
              "\n",
              "      ((filepath) => {{\n",
              "        if (!google.colab.kernel.accessAllowed) {{\n",
              "          return;\n",
              "        }}\n",
              "        google.colab.files.view(filepath);\n",
              "      }})(\"/content/text-autoencoders/test.py\")"
            ],
            "text/plain": [
              "<IPython.core.display.Javascript object>"
            ]
          },
          "metadata": {
            "tags": []
          }
        },
        {
          "output_type": "display_data",
          "data": {
            "application/javascript": [
              "\n",
              "      ((filepath) => {{\n",
              "        if (!google.colab.kernel.accessAllowed) {{\n",
              "          return;\n",
              "        }}\n",
              "        google.colab.files.view(filepath);\n",
              "      }})(\"/content/text-autoencoders/model.py\")"
            ],
            "text/plain": [
              "<IPython.core.display.Javascript object>"
            ]
          },
          "metadata": {
            "tags": []
          }
        }
      ]
    },
    {
      "cell_type": "markdown",
      "metadata": {
        "id": "u-FxMmZ3Txlk"
      },
      "source": [
        "# Data"
      ]
    },
    {
      "cell_type": "code",
      "metadata": {
        "colab": {
          "base_uri": "https://localhost:8080/"
        },
        "id": "PJqGHr-KTo9W",
        "outputId": "3442ec81-4491-445d-9aed-f20ab2272902"
      },
      "source": [
        "!bash download_data.sh"
      ],
      "execution_count": 7,
      "outputs": [
        {
          "output_type": "stream",
          "text": [
            "--2021-06-26 21:55:00--  http://people.csail.mit.edu/tianxiao/data/yelp.zip\n",
            "Resolving people.csail.mit.edu (people.csail.mit.edu)... 128.30.2.133\n",
            "Connecting to people.csail.mit.edu (people.csail.mit.edu)|128.30.2.133|:80... connected.\n",
            "HTTP request sent, awaiting response... 200 OK\n",
            "Length: 3676642 (3.5M) [application/zip]\n",
            "Saving to: ‘yelp.zip’\n",
            "\n",
            "yelp.zip            100%[===================>]   3.51M  7.61MB/s    in 0.5s    \n",
            "\n",
            "2021-06-26 21:55:00 (7.61 MB/s) - ‘yelp.zip’ saved [3676642/3676642]\n",
            "\n",
            "Archive:  yelp.zip\n",
            "   creating: yelp/\n",
            "   creating: yelp/tense/\n",
            "  inflating: yelp/tense/valid.past   \n",
            "  inflating: yelp/tense/valid.present  \n",
            "  inflating: yelp/tense/test.past    \n",
            "  inflating: yelp/tense/test.present  \n",
            "   creating: yelp/sentiment/\n",
            "  inflating: yelp/sentiment/100.neg  \n",
            "  inflating: yelp/sentiment/100.pos  \n",
            "  inflating: yelp/sentiment/1000.neg  \n",
            "  inflating: yelp/sentiment/1000.pos  \n",
            "  inflating: yelp/test.txt           \n",
            "  inflating: yelp/train.txt          \n",
            "  inflating: yelp/valid.txt          \n",
            "   creating: yelp/interpolate/\n",
            "  inflating: yelp/interpolate/example.long  \n",
            "  inflating: yelp/interpolate/example.short  \n",
            "--2021-06-26 21:55:00--  http://people.csail.mit.edu/tianxiao/data/yahoo.zip\n",
            "Resolving people.csail.mit.edu (people.csail.mit.edu)... 128.30.2.133\n",
            "Connecting to people.csail.mit.edu (people.csail.mit.edu)|128.30.2.133|:80... connected.\n",
            "HTTP request sent, awaiting response... 200 OK\n",
            "Length: 11962156 (11M) [application/zip]\n",
            "Saving to: ‘yahoo.zip’\n",
            "\n",
            "yahoo.zip           100%[===================>]  11.41M  9.87MB/s    in 1.2s    \n",
            "\n",
            "2021-06-26 21:55:02 (9.87 MB/s) - ‘yahoo.zip’ saved [11962156/11962156]\n",
            "\n",
            "Archive:  yahoo.zip\n",
            "   creating: yahoo/\n",
            "  inflating: yahoo/test.txt          \n",
            "  inflating: yahoo/train.txt         \n",
            "  inflating: yahoo/valid.txt         \n"
          ],
          "name": "stdout"
        }
      ]
    },
    {
      "cell_type": "markdown",
      "metadata": {
        "id": "RBD4mGZ_Uqjr"
      },
      "source": [
        "# Train"
      ]
    },
    {
      "cell_type": "code",
      "metadata": {
        "colab": {
          "base_uri": "https://localhost:8080/"
        },
        "id": "aPw6uP1MU0qh",
        "outputId": "656cc55d-ac60-469c-ca8f-0c35cfb793e6"
      },
      "source": [
        "!python train.py -h"
      ],
      "execution_count": 13,
      "outputs": [
        {
          "output_type": "stream",
          "text": [
            "usage: train.py [-h] --train FILE --valid FILE [--save-dir DIR]\n",
            "                [--load-model FILE] [--vocab-size N] [--dim_z D] [--dim_emb D]\n",
            "                [--dim_h D] [--nlayers N] [--dim_d D] [--model_type M]\n",
            "                [--lambda_kl R] [--lambda_adv R] [--lambda_p R]\n",
            "                [--noise P,P,P,K] [--dropout DROP] [--lr LR] [--epochs N]\n",
            "                [--batch-size N] [--seed N] [--no-cuda] [--log-interval N]\n",
            "\n",
            "optional arguments:\n",
            "  -h, --help         show this help message and exit\n",
            "  --train FILE       path to training file\n",
            "  --valid FILE       path to validation file\n",
            "  --save-dir DIR     directory to save checkpoints and outputs\n",
            "  --load-model FILE  path to load checkpoint if specified\n",
            "  --vocab-size N     keep N most frequent words in vocabulary\n",
            "  --dim_z D          dimension of latent variable z\n",
            "  --dim_emb D        dimension of word embedding\n",
            "  --dim_h D          dimension of hidden state per layer\n",
            "  --nlayers N        number of layers\n",
            "  --dim_d D          dimension of hidden state in AAE discriminator\n",
            "  --model_type M     which model to learn\n",
            "  --lambda_kl R      weight for kl term in VAE\n",
            "  --lambda_adv R     weight for adversarial loss in AAE\n",
            "  --lambda_p R       weight for L1 penalty on posterior log-variance\n",
            "  --noise P,P,P,K    word drop prob, blank prob, substitute probmax word\n",
            "                     shuffle distance\n",
            "  --dropout DROP     dropout probability (0 = no dropout)\n",
            "  --lr LR            learning rate\n",
            "  --epochs N         number of training epochs\n",
            "  --batch-size N     batch size\n",
            "  --seed N           random seed\n",
            "  --no-cuda          disable CUDA\n",
            "  --log-interval N   report interval\n"
          ],
          "name": "stdout"
        }
      ]
    },
    {
      "cell_type": "code",
      "metadata": {
        "colab": {
          "base_uri": "https://localhost:8080/",
          "height": 116
        },
        "id": "6rTRlHtdXwwX",
        "outputId": "5f12d336-de05-4643-8f41-40116e18d76c"
      },
      "source": [
        "'''\n",
        "# Path arguments\n",
        "parser.add_argument('--train', metavar='FILE', required=True,\n",
        "                    help='path to training file')\n",
        "parser.add_argument('--valid', metavar='FILE', required=True,\n",
        "                    help='path to validation file')\n",
        "parser.add_argument('--save-dir', default='checkpoints', metavar='DIR',\n",
        "                    help='directory to save checkpoints and outputs')\n",
        "parser.add_argument('--load-model', default='', metavar='FILE',\n",
        "                    help='path to load checkpoint if specified')\n",
        "# Architecture arguments\n",
        "parser.add_argument('--vocab-size', type=int, default=10000, metavar='N',\n",
        "                    help='keep N most frequent words in vocabulary')\n",
        "parser.add_argument('--dim_z', type=int, default=128, metavar='D',\n",
        "                    help='dimension of latent variable z')\n",
        "parser.add_argument('--dim_emb', type=int, default=512, metavar='D',\n",
        "                    help='dimension of word embedding')\n",
        "parser.add_argument('--dim_h', type=int, default=1024, metavar='D',\n",
        "                    help='dimension of hidden state per layer')\n",
        "parser.add_argument('--nlayers', type=int, default=1, metavar='N',\n",
        "                    help='number of layers')\n",
        "parser.add_argument('--dim_d', type=int, default=512, metavar='D',\n",
        "                    help='dimension of hidden state in AAE discriminator')\n",
        "# Model arguments\n",
        "parser.add_argument('--model_type', default='dae', metavar='M',\n",
        "                    choices=['dae', 'vae', 'aae'],\n",
        "                    help='which model to learn')\n",
        "parser.add_argument('--lambda_kl', type=float, default=0, metavar='R',\n",
        "                    help='weight for kl term in VAE')\n",
        "parser.add_argument('--lambda_adv', type=float, default=0, metavar='R',\n",
        "                    help='weight for adversarial loss in AAE')\n",
        "parser.add_argument('--lambda_p', type=float, default=0, metavar='R',\n",
        "                    help='weight for L1 penalty on posterior log-variance')\n",
        "parser.add_argument('--noise', default='0,0,0,0', metavar='P,P,P,K',\n",
        "                    help='word drop prob, blank prob, substitute prob'\n",
        "                         'max word shuffle distance')\n",
        "# Training arguments\n",
        "parser.add_argument('--dropout', type=float, default=0.5, metavar='DROP',\n",
        "                    help='dropout probability (0 = no dropout)')\n",
        "parser.add_argument('--lr', type=float, default=0.0005, metavar='LR',\n",
        "                    help='learning rate')\n",
        "#parser.add_argument('--clip', type=float, default=0.25, metavar='NORM',\n",
        "#                    help='gradient clipping')\n",
        "parser.add_argument('--epochs', type=int, default=50, metavar='N',\n",
        "                    help='number of training epochs')\n",
        "parser.add_argument('--batch-size', type=int, default=256, metavar='N',\n",
        "                    help='batch size')\n",
        "# Others\n",
        "parser.add_argument('--seed', type=int, default=1111, metavar='N',\n",
        "                    help='random seed')\n",
        "parser.add_argument('--no-cuda', action='store_true',\n",
        "                    help='disable CUDA')\n",
        "parser.add_argument('--log-interval', type=int, default=100, metavar='N',\n",
        "                    help='report interval')\n",
        "'''"
      ],
      "execution_count": 15,
      "outputs": [
        {
          "output_type": "execute_result",
          "data": {
            "application/vnd.google.colaboratory.intrinsic+json": {
              "type": "string"
            },
            "text/plain": [
              "\"\\n# Path arguments\\nparser.add_argument('--train', metavar='FILE', required=True,\\n                    help='path to training file')\\nparser.add_argument('--valid', metavar='FILE', required=True,\\n                    help='path to validation file')\\nparser.add_argument('--save-dir', default='checkpoints', metavar='DIR',\\n                    help='directory to save checkpoints and outputs')\\nparser.add_argument('--load-model', default='', metavar='FILE',\\n                    help='path to load checkpoint if specified')\\n# Architecture arguments\\nparser.add_argument('--vocab-size', type=int, default=10000, metavar='N',\\n                    help='keep N most frequent words in vocabulary')\\nparser.add_argument('--dim_z', type=int, default=128, metavar='D',\\n                    help='dimension of latent variable z')\\nparser.add_argument('--dim_emb', type=int, default=512, metavar='D',\\n                    help='dimension of word embedding')\\nparser.add_argument('--dim_h', type=int, default=1024, metavar='D',\\n                    help='dimension of hidden state per layer')\\nparser.add_argument('--nlayers', type=int, default=1, metavar='N',\\n                    help='number of layers')\\nparser.add_argument('--dim_d', type=int, default=512, metavar='D',\\n                    help='dimension of hidden state in AAE discriminator')\\n# Model arguments\\nparser.add_argument('--model_type', default='dae', metavar='M',\\n                    choices=['dae', 'vae', 'aae'],\\n                    help='which model to learn')\\nparser.add_argument('--lambda_kl', type=float, default=0, metavar='R',\\n                    help='weight for kl term in VAE')\\nparser.add_argument('--lambda_adv', type=float, default=0, metavar='R',\\n                    help='weight for adversarial loss in AAE')\\nparser.add_argument('--lambda_p', type=float, default=0, metavar='R',\\n                    help='weight for L1 penalty on posterior log-variance')\\nparser.add_argument('--noise', default='0,0,0,0', metavar='P,P,P,K',\\n                    help='word drop prob, blank prob, substitute prob'\\n                         'max word shuffle distance')\\n# Training arguments\\nparser.add_argument('--dropout', type=float, default=0.5, metavar='DROP',\\n                    help='dropout probability (0 = no dropout)')\\nparser.add_argument('--lr', type=float, default=0.0005, metavar='LR',\\n                    help='learning rate')\\n#parser.add_argument('--clip', type=float, default=0.25, metavar='NORM',\\n#                    help='gradient clipping')\\nparser.add_argument('--epochs', type=int, default=50, metavar='N',\\n                    help='number of training epochs')\\nparser.add_argument('--batch-size', type=int, default=256, metavar='N',\\n                    help='batch size')\\n# Others\\nparser.add_argument('--seed', type=int, default=1111, metavar='N',\\n                    help='random seed')\\nparser.add_argument('--no-cuda', action='store_true',\\n                    help='disable CUDA')\\nparser.add_argument('--log-interval', type=int, default=100, metavar='N',\\n                    help='report interval')\\n\""
            ]
          },
          "metadata": {
            "tags": []
          },
          "execution_count": 15
        }
      ]
    },
    {
      "cell_type": "code",
      "metadata": {
        "colab": {
          "base_uri": "https://localhost:8080/"
        },
        "id": "G3i3cj-0Up3_",
        "outputId": "8064c405-bba8-460f-9c17-6ab5da15ca53"
      },
      "source": [
        "NUM_EPOCHS = 1 # debugging\n",
        "!python train.py --epochs $NUM_EPOCHS --train data/yelp/train.txt --valid data/yelp/valid.txt --model_type aae --lambda_adv 10 --noise 0.3,0,0,0 --save-dir checkpoints/yelp/daae\n"
      ],
      "execution_count": 16,
      "outputs": [
        {
          "output_type": "stream",
          "text": [
            "Namespace(batch_size=256, dim_d=512, dim_emb=512, dim_h=1024, dim_z=128, dropout=0.5, epochs=1, lambda_adv=10.0, lambda_kl=0, lambda_p=0, load_model='', log_interval=100, lr=0.0005, model_type='aae', nlayers=1, no_cuda=False, noise=[0.3, 0.0, 0.0, 0.0], save_dir='checkpoints/yelp/daae', seed=1111, train='data/yelp/train.txt', valid='data/yelp/valid.txt', vocab_size=10000)\n",
            "# train sents 200000, tokens 1821469\n",
            "# valid sents 10000, tokens 90833\n",
            "# vocab size 10005\n",
            "# model parameters: 34933782\n",
            "--------------------------------------------------------------------------------\n",
            "| epoch   1 |   100/  790 batches | rec 72.15, adv 0.92, |lvar| 157.64, loss_d 1.52, loss 81.37,\n",
            "| epoch   1 |   200/  790 batches | rec 61.28, adv 0.80, |lvar| 368.74, loss_d 1.55, loss 69.28,\n",
            "| epoch   1 |   300/  790 batches | rec 57.19, adv 0.91, |lvar| 314.87, loss_d 1.40, loss 66.32,\n",
            "| epoch   1 |   400/  790 batches | rec 58.70, adv 0.60, |lvar| 254.65, loss_d 1.40, loss 64.66,\n",
            "| epoch   1 |   500/  790 batches | rec 54.06, adv 0.61, |lvar| 237.14, loss_d 1.41, loss 60.12,\n",
            "| epoch   1 |   600/  790 batches | rec 53.41, adv 0.68, |lvar| 185.83, loss_d 1.38, loss 60.18,\n",
            "| epoch   1 |   700/  790 batches | rec 54.19, adv 0.69, |lvar| 203.57, loss_d 1.39, loss 61.10,\n",
            "--------------------------------------------------------------------------------\n",
            "| end of epoch   1 | time    66s | valid rec 52.74, adv 0.66, |lvar| 281.09, loss_d 1.43, loss 59.33, | saving model\n",
            "Done training\n"
          ],
          "name": "stdout"
        }
      ]
    },
    {
      "cell_type": "code",
      "metadata": {
        "colab": {
          "base_uri": "https://localhost:8080/"
        },
        "id": "1mh7nfgidNdJ",
        "outputId": "da0ebbbe-2e7a-499f-af30-22169349f034"
      },
      "source": [
        "NUM_EPOCHS = 10 # debugging\n",
        "!python train.py --epochs $NUM_EPOCHS --train data/yelp/train.txt --valid data/yelp/valid.txt --model_type aae --lambda_adv 10 --noise 0.3,0,0,0 --save-dir checkpoints/yelp/daae\n"
      ],
      "execution_count": 51,
      "outputs": [
        {
          "output_type": "stream",
          "text": [
            "Namespace(batch_size=256, dim_d=512, dim_emb=512, dim_h=1024, dim_z=128, dropout=0.5, epochs=10, lambda_adv=10.0, lambda_kl=0, lambda_p=0, load_model='', log_interval=100, lr=0.0005, model_type='aae', nlayers=1, no_cuda=False, noise=[0.3, 0.0, 0.0, 0.0], save_dir='checkpoints/yelp/daae', seed=1111, train='data/yelp/train.txt', valid='data/yelp/valid.txt', vocab_size=10000)\n",
            "# train sents 200000, tokens 1821469\n",
            "# valid sents 10000, tokens 90833\n",
            "# vocab size 10005\n",
            "# model parameters: 34933782\n",
            "--------------------------------------------------------------------------------\n",
            "| epoch   1 |   100/  790 batches | rec 72.15, adv 0.92, |lvar| 157.64, loss_d 1.52, loss 81.37,\n",
            "| epoch   1 |   200/  790 batches | rec 61.28, adv 0.80, |lvar| 368.74, loss_d 1.55, loss 69.28,\n",
            "| epoch   1 |   300/  790 batches | rec 57.19, adv 0.91, |lvar| 314.87, loss_d 1.40, loss 66.32,\n",
            "| epoch   1 |   400/  790 batches | rec 58.70, adv 0.60, |lvar| 254.65, loss_d 1.40, loss 64.66,\n",
            "| epoch   1 |   500/  790 batches | rec 54.06, adv 0.61, |lvar| 237.14, loss_d 1.41, loss 60.12,\n",
            "| epoch   1 |   600/  790 batches | rec 53.41, adv 0.68, |lvar| 185.83, loss_d 1.38, loss 60.18,\n",
            "| epoch   1 |   700/  790 batches | rec 54.19, adv 0.69, |lvar| 203.57, loss_d 1.39, loss 61.10,\n",
            "--------------------------------------------------------------------------------\n",
            "| end of epoch   1 | time    66s | valid rec 52.74, adv 0.66, |lvar| 281.09, loss_d 1.43, loss 59.33, | saving model\n",
            "--------------------------------------------------------------------------------\n",
            "| epoch   2 |   100/  790 batches | rec 54.50, adv 0.66, |lvar| 249.45, loss_d 1.43, loss 61.13,\n",
            "| epoch   2 |   200/  790 batches | rec 52.90, adv 0.68, |lvar| 288.31, loss_d 1.43, loss 59.72,\n",
            "| epoch   2 |   300/  790 batches | rec 49.13, adv 0.68, |lvar| 258.10, loss_d 1.43, loss 55.98,\n",
            "| epoch   2 |   400/  790 batches | rec 49.15, adv 0.68, |lvar| 320.36, loss_d 1.44, loss 55.92,\n",
            "| epoch   2 |   500/  790 batches | rec 51.68, adv 0.66, |lvar| 281.76, loss_d 1.41, loss 58.25,\n",
            "| epoch   2 |   600/  790 batches | rec 46.09, adv 0.69, |lvar| 286.85, loss_d 1.41, loss 53.01,\n",
            "| epoch   2 |   700/  790 batches | rec 48.18, adv 0.67, |lvar| 299.13, loss_d 1.41, loss 54.88,\n",
            "--------------------------------------------------------------------------------\n",
            "| end of epoch   2 | time    66s | valid rec 46.07, adv 0.64, |lvar| 273.55, loss_d 1.48, loss 52.43, | saving model\n",
            "--------------------------------------------------------------------------------\n",
            "| epoch   3 |   100/  790 batches | rec 43.80, adv 0.70, |lvar| 293.57, loss_d 1.41, loss 50.85,\n",
            "| epoch   3 |   200/  790 batches | rec 45.89, adv 0.69, |lvar| 304.35, loss_d 1.38, loss 52.83,\n",
            "| epoch   3 |   300/  790 batches | rec 44.62, adv 0.70, |lvar| 286.05, loss_d 1.40, loss 51.59,\n",
            "| epoch   3 |   400/  790 batches | rec 44.92, adv 0.70, |lvar| 315.18, loss_d 1.39, loss 51.89,\n",
            "| epoch   3 |   500/  790 batches | rec 43.00, adv 0.70, |lvar| 317.48, loss_d 1.40, loss 50.03,\n",
            "| epoch   3 |   600/  790 batches | rec 44.38, adv 0.71, |lvar| 350.57, loss_d 1.39, loss 51.45,\n",
            "| epoch   3 |   700/  790 batches | rec 44.94, adv 0.70, |lvar| 352.35, loss_d 1.40, loss 51.97,\n",
            "--------------------------------------------------------------------------------\n",
            "| end of epoch   3 | time    66s | valid rec 40.11, adv 0.79, |lvar| 368.65, loss_d 1.30, loss 48.04, | saving model\n",
            "--------------------------------------------------------------------------------\n",
            "| epoch   4 |   100/  790 batches | rec 41.11, adv 0.70, |lvar| 380.44, loss_d 1.40, loss 48.11,\n",
            "| epoch   4 |   200/  790 batches | rec 41.87, adv 0.70, |lvar| 400.96, loss_d 1.39, loss 48.87,\n",
            "| epoch   4 |   300/  790 batches | rec 43.25, adv 0.69, |lvar| 425.94, loss_d 1.41, loss 50.19,\n",
            "| epoch   4 |   400/  790 batches | rec 40.89, adv 0.69, |lvar| 434.84, loss_d 1.40, loss 47.82,\n",
            "| epoch   4 |   500/  790 batches | rec 37.34, adv 0.70, |lvar| 451.81, loss_d 1.40, loss 44.32,\n",
            "| epoch   4 |   600/  790 batches | rec 38.67, adv 0.71, |lvar| 486.41, loss_d 1.41, loss 45.77,\n",
            "| epoch   4 |   700/  790 batches | rec 36.62, adv 0.70, |lvar| 486.20, loss_d 1.40, loss 43.61,\n",
            "--------------------------------------------------------------------------------\n",
            "| end of epoch   4 | time    66s | valid rec 34.56, adv 0.64, |lvar| 482.84, loss_d 1.42, loss 41.01, | saving model\n",
            "--------------------------------------------------------------------------------\n",
            "| epoch   5 |   100/  790 batches | rec 35.33, adv 0.69, |lvar| 524.51, loss_d 1.40, loss 42.25,\n",
            "| epoch   5 |   200/  790 batches | rec 40.24, adv 0.69, |lvar| 577.20, loss_d 1.42, loss 47.17,\n",
            "| epoch   5 |   300/  790 batches | rec 38.09, adv 0.69, |lvar| 596.49, loss_d 1.40, loss 45.03,\n",
            "| epoch   5 |   400/  790 batches | rec 36.00, adv 0.70, |lvar| 569.64, loss_d 1.39, loss 42.98,\n",
            "| epoch   5 |   500/  790 batches | rec 36.03, adv 0.69, |lvar| 586.76, loss_d 1.40, loss 42.95,\n",
            "| epoch   5 |   600/  790 batches | rec 32.30, adv 0.70, |lvar| 590.84, loss_d 1.39, loss 39.28,\n",
            "| epoch   5 |   700/  790 batches | rec 34.58, adv 0.69, |lvar| 633.49, loss_d 1.42, loss 41.52,\n",
            "--------------------------------------------------------------------------------\n",
            "| end of epoch   5 | time    66s | valid rec 29.65, adv 0.64, |lvar| 595.48, loss_d 1.48, loss 36.05, | saving model\n",
            "--------------------------------------------------------------------------------\n",
            "| epoch   6 |   100/  790 batches | rec 31.80, adv 0.70, |lvar| 647.55, loss_d 1.39, loss 38.78,\n",
            "| epoch   6 |   200/  790 batches | rec 34.04, adv 0.68, |lvar| 672.40, loss_d 1.41, loss 40.81,\n",
            "| epoch   6 |   300/  790 batches | rec 35.40, adv 0.69, |lvar| 709.54, loss_d 1.39, loss 42.34,\n",
            "| epoch   6 |   400/  790 batches | rec 31.72, adv 0.70, |lvar| 707.19, loss_d 1.40, loss 38.68,\n",
            "| epoch   6 |   500/  790 batches | rec 32.81, adv 0.68, |lvar| 724.37, loss_d 1.40, loss 39.65,\n",
            "| epoch   6 |   600/  790 batches | rec 31.77, adv 0.70, |lvar| 718.67, loss_d 1.40, loss 38.78,\n",
            "| epoch   6 |   700/  790 batches | rec 31.37, adv 0.69, |lvar| 738.34, loss_d 1.41, loss 38.24,\n",
            "--------------------------------------------------------------------------------\n",
            "| end of epoch   6 | time    66s | valid rec 24.50, adv 0.71, |lvar| 785.44, loss_d 1.38, loss 31.56, | saving model\n",
            "--------------------------------------------------------------------------------\n",
            "| epoch   7 |   100/  790 batches | rec 32.00, adv 0.69, |lvar| 763.55, loss_d 1.39, loss 38.91,\n",
            "| epoch   7 |   200/  790 batches | rec 30.15, adv 0.70, |lvar| 737.62, loss_d 1.40, loss 37.12,\n",
            "| epoch   7 |   300/  790 batches | rec 29.71, adv 0.69, |lvar| 765.28, loss_d 1.40, loss 36.60,\n",
            "| epoch   7 |   400/  790 batches | rec 30.01, adv 0.70, |lvar| 775.44, loss_d 1.39, loss 36.97,\n",
            "| epoch   7 |   500/  790 batches | rec 29.47, adv 0.70, |lvar| 780.16, loss_d 1.41, loss 36.42,\n",
            "| epoch   7 |   600/  790 batches | rec 28.60, adv 0.69, |lvar| 791.09, loss_d 1.41, loss 35.52,\n",
            "| epoch   7 |   700/  790 batches | rec 29.47, adv 0.69, |lvar| 831.18, loss_d 1.39, loss 36.40,\n",
            "--------------------------------------------------------------------------------\n",
            "| end of epoch   7 | time    66s | valid rec 21.93, adv 0.68, |lvar| 810.54, loss_d 1.39, loss 28.73, | saving model\n",
            "--------------------------------------------------------------------------------\n",
            "| epoch   8 |   100/  790 batches | rec 26.61, adv 0.68, |lvar| 818.99, loss_d 1.40, loss 33.45,\n",
            "| epoch   8 |   200/  790 batches | rec 25.80, adv 0.69, |lvar| 826.74, loss_d 1.40, loss 32.72,\n",
            "| epoch   8 |   300/  790 batches | rec 28.62, adv 0.69, |lvar| 827.60, loss_d 1.39, loss 35.50,\n",
            "| epoch   8 |   400/  790 batches | rec 26.52, adv 0.69, |lvar| 811.13, loss_d 1.39, loss 33.44,\n",
            "| epoch   8 |   500/  790 batches | rec 27.45, adv 0.70, |lvar| 842.61, loss_d 1.41, loss 34.43,\n",
            "| epoch   8 |   600/  790 batches | rec 27.73, adv 0.70, |lvar| 861.45, loss_d 1.41, loss 34.70,\n",
            "| epoch   8 |   700/  790 batches | rec 28.03, adv 0.69, |lvar| 861.65, loss_d 1.40, loss 34.89,\n",
            "--------------------------------------------------------------------------------\n",
            "| end of epoch   8 | time    66s | valid rec 18.50, adv 0.70, |lvar| 845.20, loss_d 1.39, loss 25.48, | saving model\n",
            "--------------------------------------------------------------------------------\n",
            "| epoch   9 |   100/  790 batches | rec 25.04, adv 0.70, |lvar| 861.96, loss_d 1.40, loss 32.03,\n",
            "| epoch   9 |   200/  790 batches | rec 24.46, adv 0.69, |lvar| 848.88, loss_d 1.40, loss 31.38,\n",
            "| epoch   9 |   300/  790 batches | rec 26.20, adv 0.69, |lvar| 846.17, loss_d 1.40, loss 33.14,\n",
            "| epoch   9 |   400/  790 batches | rec 24.05, adv 0.70, |lvar| 852.65, loss_d 1.40, loss 31.00,\n",
            "| epoch   9 |   500/  790 batches | rec 27.10, adv 0.69, |lvar| 885.44, loss_d 1.40, loss 34.00,\n",
            "| epoch   9 |   600/  790 batches | rec 25.56, adv 0.69, |lvar| 890.12, loss_d 1.40, loss 32.50,\n",
            "| epoch   9 |   700/  790 batches | rec 24.77, adv 0.69, |lvar| 899.00, loss_d 1.40, loss 31.65,\n",
            "--------------------------------------------------------------------------------\n",
            "| end of epoch   9 | time    66s | valid rec 15.39, adv 0.72, |lvar| 833.77, loss_d 1.38, loss 22.56, | saving model\n",
            "--------------------------------------------------------------------------------\n",
            "| epoch  10 |   100/  790 batches | rec 23.29, adv 0.70, |lvar| 905.26, loss_d 1.40, loss 30.28,\n",
            "| epoch  10 |   200/  790 batches | rec 23.91, adv 0.69, |lvar| 902.32, loss_d 1.40, loss 30.79,\n",
            "| epoch  10 |   300/  790 batches | rec 22.96, adv 0.69, |lvar| 884.58, loss_d 1.40, loss 29.86,\n",
            "| epoch  10 |   400/  790 batches | rec 24.87, adv 0.70, |lvar| 909.95, loss_d 1.39, loss 31.87,\n",
            "| epoch  10 |   500/  790 batches | rec 24.02, adv 0.69, |lvar| 914.94, loss_d 1.40, loss 30.95,\n",
            "| epoch  10 |   600/  790 batches | rec 23.20, adv 0.70, |lvar| 932.04, loss_d 1.39, loss 30.16,\n",
            "| epoch  10 |   700/  790 batches | rec 21.58, adv 0.69, |lvar| 917.46, loss_d 1.40, loss 28.52,\n",
            "--------------------------------------------------------------------------------\n",
            "| end of epoch  10 | time    66s | valid rec 13.59, adv 0.70, |lvar| 980.20, loss_d 1.39, loss 20.58, | saving model\n",
            "Done training\n"
          ],
          "name": "stdout"
        }
      ]
    },
    {
      "cell_type": "code",
      "metadata": {
        "colab": {
          "base_uri": "https://localhost:8080/"
        },
        "id": "NaNeyq3ZYhe_",
        "outputId": "e24dd9eb-737a-4a45-ab16-095518bebda8"
      },
      "source": [
        "!ls"
      ],
      "execution_count": 52,
      "outputs": [
        {
          "output_type": "stream",
          "text": [
            "batchify.py  download_data.sh  meter.py  __pycache__  train.py\n",
            "checkpoints  img\t       model.py  README.md    utils.py\n",
            "data\t     LICENSE\t       noise.py  test.py      vocab.py\n"
          ],
          "name": "stdout"
        }
      ]
    },
    {
      "cell_type": "code",
      "metadata": {
        "colab": {
          "base_uri": "https://localhost:8080/"
        },
        "id": "W_OdNhuwYlLa",
        "outputId": "986b4c15-1430-4643-a7b5-1b6555ffd2b7"
      },
      "source": [
        "!ls checkpoints/yelp/daae"
      ],
      "execution_count": 20,
      "outputs": [
        {
          "output_type": "stream",
          "text": [
            "log.txt  model.pt  vocab.txt\n"
          ],
          "name": "stdout"
        }
      ]
    },
    {
      "cell_type": "code",
      "metadata": {
        "id": "e1Hq9eseq7dv"
      },
      "source": [
        "from google.colab import files\n",
        "#files.download('checkpoints/yelp/daae/model.pt')"
      ],
      "execution_count": null,
      "outputs": []
    },
    {
      "cell_type": "markdown",
      "metadata": {
        "id": "fSRiEn32rCL7"
      },
      "source": [
        "# Upload pretrained model"
      ]
    },
    {
      "cell_type": "code",
      "metadata": {
        "id": "Y3AqiUXFrEcN"
      },
      "source": [
        "from google.colab import files\n",
        "#uploaded = files.upload() # store it in checkpoints/yelp/daae/model.pt"
      ],
      "execution_count": null,
      "outputs": []
    },
    {
      "cell_type": "markdown",
      "metadata": {
        "id": "MoCvv4mfYSA9"
      },
      "source": [
        "# Reconstruction"
      ]
    },
    {
      "cell_type": "code",
      "metadata": {
        "id": "uKXVJuyxYLWD"
      },
      "source": [
        "!python test.py --reconstruct --data data/yelp/test.txt --output test.rec --checkpoint checkpoints/yelp/daae/\n",
        "\n"
      ],
      "execution_count": 53,
      "outputs": []
    },
    {
      "cell_type": "code",
      "metadata": {
        "colab": {
          "base_uri": "https://localhost:8080/"
        },
        "id": "llD_hqk7Y3Rm",
        "outputId": "8a894987-358a-475d-a7a7-eef797f2db22"
      },
      "source": [
        "!ls checkpoints/yelp/daae"
      ],
      "execution_count": 27,
      "outputs": [
        {
          "output_type": "stream",
          "text": [
            "log.txt  model.pt  test.rec.rec  test.rec.z  vocab.txt\n"
          ],
          "name": "stdout"
        }
      ]
    },
    {
      "cell_type": "code",
      "metadata": {
        "colab": {
          "base_uri": "https://localhost:8080/"
        },
        "id": "BzBL_6uPY3kz",
        "outputId": "4ed5e6f0-6f69-4d44-e139-3dcc70372e60"
      },
      "source": [
        "!head checkpoints/yelp/daae/test.rec.rec"
      ],
      "execution_count": 54,
      "outputs": [
        {
          "output_type": "stream",
          "text": [
            "i love the thin crust pizza .\n",
            "the pizzas are great .\n",
            "<unk> pizza is by far one of my favorite items .\n",
            "the thin crust with <unk> and it 's <unk> at it 's .\n",
            "i also like this location .\n",
            "it has two entrances that they need a little more <unk> .\n",
            "even as the chicken and was a little amount .\n",
            "the reason ?\n",
            "`` the dish '' it was _num_ % , the waitress .\n",
            "absolutely love the thin crust .\n"
          ],
          "name": "stdout"
        }
      ]
    },
    {
      "cell_type": "code",
      "metadata": {
        "colab": {
          "base_uri": "https://localhost:8080/"
        },
        "id": "krtESrsPZ3y_",
        "outputId": "0284615d-54d2-4a69-c34e-d67bae5fc3bd"
      },
      "source": [
        "!head checkpoints/yelp/daae/test.rec.z"
      ],
      "execution_count": 30,
      "outputs": [
        {
          "output_type": "stream",
          "text": [
            "0.094768 -0.291090 -0.489985 0.202093 0.117203 -0.806483 0.181313 0.153859 -0.704442 0.698928 -1.055091 0.777047 0.117410 0.014868 -1.339213 -0.221679 0.042334 0.606998 -0.376029 -0.751561 0.107382 0.644721 -0.000460 0.872706 -0.087044 -0.579721 0.411608 -0.185749 -0.554745 0.604862 -0.731883 -0.309543 -0.016051 -0.578636 0.659351 -0.709625 0.038995 0.502465 -0.001106 -0.520677 0.694700 0.066660 -0.088520 -0.091965 0.098838 0.115278 -1.166481 -0.523997 0.153134 -0.076340 0.842360 -0.698873 0.435798 -1.878466 0.261303 0.089877 -0.620121 0.330970 -0.032149 0.696021 0.999824 0.721442 1.245590 -0.445772 1.051999 0.326336 -0.854949 -0.545385 0.075077 0.738972 -0.148082 -0.060089 -0.085434 -0.683974 -0.152279 0.153202 -1.588573 -1.088758 0.249445 0.497600 0.719089 1.306792 -0.319849 -0.097299 0.345759 -0.136131 0.001014 0.306229 0.593422 -0.243222 0.560697 0.096621 0.760783 -0.492208 -0.058051 1.178401 0.152416 -0.979651 0.732733 0.021835 -0.461662 0.118697 1.805571 -0.249457 0.196653 0.127691 0.148959 0.364355 0.373442 -0.650193 0.025967 0.043460 -0.291715 0.871036 0.489503 0.935723 -0.225825 0.296358 0.527469 0.329645 0.743442 -0.797124 0.369072 -0.296547 -0.707378 0.114796 0.851280 0.748895 \n",
            "0.175576 0.352076 0.528566 0.343538 0.210135 0.452443 -0.237208 -0.064081 -0.385313 0.277960 -0.746840 0.587933 0.194315 0.468545 0.110448 -0.725623 -0.007990 0.210706 -0.051041 -0.274813 -0.063545 0.302449 -0.033124 0.681614 -0.634652 -0.484238 0.079980 -0.732730 -0.001305 0.546167 -0.575248 -0.976934 -0.281549 -0.028678 0.222788 -0.005943 -0.027046 0.024587 -0.518448 0.399749 0.051738 -0.471561 0.202964 0.330834 0.112801 0.041670 -0.958475 0.621059 0.258354 -0.553534 -0.220367 -0.344702 0.152008 -0.235173 -0.116362 -0.439438 -0.194245 0.084475 0.375865 0.438327 0.258012 0.419289 0.673057 0.106533 0.331279 -0.117470 -0.675567 -0.191377 -0.170565 0.276580 -0.172365 -0.254197 -0.012578 -0.072902 -0.251575 0.712608 0.119250 -0.105046 -0.704841 0.471368 -0.475724 0.044601 -0.134231 -0.424492 -0.115615 -0.323934 0.482314 0.238680 0.177936 -0.642847 0.181783 0.629128 0.001201 0.515697 0.308635 -0.085906 -0.218499 0.202768 -0.015926 -0.065907 -0.659766 0.288892 -0.046565 -0.208426 0.189318 -0.012726 0.515853 -0.002859 -0.134683 0.044843 -0.051230 0.052398 -0.114450 0.417747 -0.161222 -0.258179 0.138295 -0.511289 0.817381 -0.189724 0.053699 -0.333626 -0.143524 0.571706 -0.171116 0.135160 0.074207 -0.140594 \n",
            "0.377537 -0.550619 -0.846019 -0.269229 -0.452875 -0.932608 -0.090894 1.111177 -0.212942 1.051892 -1.082652 -0.182971 0.287440 -0.161131 -1.618333 0.545152 -0.318005 0.315380 -0.269417 -1.008450 0.511594 0.328612 -0.873497 1.029103 0.653937 -0.842981 1.266447 0.124758 -1.182421 -0.010126 -0.340031 -0.422423 0.731869 -1.701799 0.812010 -0.484447 0.152575 0.323199 0.801992 -1.291648 1.076449 -0.287668 0.420760 -0.828157 0.082867 -0.469972 -1.740531 -1.838476 0.383107 0.994645 1.200643 -0.951448 0.452048 -1.091131 0.291244 0.792989 -0.992507 0.914608 -0.078313 0.757068 2.156646 -0.219840 0.944295 -0.563062 1.549810 0.370200 -0.742905 -0.259333 0.507082 1.151934 -0.326590 -0.084591 0.147315 -0.518948 0.002146 -0.054324 -1.688352 -1.563459 -0.122746 -0.278868 1.529726 2.150300 -0.496528 0.540838 0.529558 0.438843 -0.849766 0.283150 0.373730 0.828038 0.728322 -0.719268 0.409130 -0.519335 -0.315731 1.581723 -0.010547 -1.603308 0.398224 -0.048983 0.134013 0.541887 2.683975 -0.450990 0.596757 -0.136049 -0.885066 1.155879 0.126084 -0.202658 0.280292 -0.413376 -0.946115 0.801298 0.833415 1.582121 -0.416130 0.465672 0.487927 0.974523 0.891498 -0.331526 0.647609 -0.417833 -0.640038 0.286476 1.674352 1.222302 \n",
            "0.396292 -0.573572 -0.842215 -0.318264 -0.467342 -0.869690 -0.132323 1.147050 -0.192725 1.114053 -1.101995 -0.225488 0.328020 -0.121091 -1.539439 0.591076 -0.310046 0.310001 -0.218205 -1.004514 0.551018 0.286965 -0.900729 1.045094 0.711552 -0.900558 1.304591 0.122793 -1.150469 -0.020403 -0.304879 -0.482288 0.729921 -1.756299 0.826078 -0.428432 0.139871 0.337482 0.862803 -1.322351 1.084813 -0.376365 0.449074 -0.813895 0.073051 -0.484781 -1.772864 -1.983560 0.356316 1.053334 1.193180 -0.926891 0.491060 -1.036345 0.263814 0.848646 -0.988288 0.974724 -0.084639 0.767669 2.220429 -0.286146 0.953894 -0.574014 1.579199 0.303155 -0.753163 -0.255363 0.582513 1.153276 -0.354266 -0.117093 0.162631 -0.490379 -0.008434 -0.001033 -1.652005 -1.588729 -0.239018 -0.365210 1.620554 2.182957 -0.518572 0.609694 0.496592 0.450046 -0.919020 0.333960 0.360054 0.890026 0.769719 -0.738226 0.371317 -0.445784 -0.294941 1.583616 0.016299 -1.665640 0.301991 -0.065753 0.135814 0.565372 2.733590 -0.521412 0.633838 -0.123397 -0.970065 1.246276 0.119117 -0.207116 0.287287 -0.524463 -1.048092 0.799235 0.797808 1.511354 -0.469880 0.410959 0.522914 1.005144 0.918658 -0.324569 0.629127 -0.393650 -0.630899 0.257162 1.657734 1.212597 \n",
            "0.016869 -0.299974 -0.391998 0.375871 0.384432 -0.727043 0.199460 -0.002526 -0.977441 0.677860 -1.067152 0.979977 0.089604 0.083457 -1.205850 -0.375306 0.204020 0.642876 -0.386741 -0.684124 0.029160 0.802722 0.286093 0.924006 -0.294763 -0.549616 0.175682 -0.232475 -0.275254 0.695300 -0.819041 -0.306092 -0.165561 -0.317992 0.739570 -0.703702 -0.063324 0.570373 -0.116044 -0.450352 0.777637 0.119342 -0.209892 0.195988 0.083973 0.259991 -1.028196 -0.422681 -0.034287 -0.357230 0.802604 -0.653247 0.542732 -2.113590 0.254535 -0.080154 -0.517517 0.209406 -0.166583 0.692712 0.842894 0.827087 1.542206 -0.523665 1.048316 0.215012 -1.006898 -0.643877 0.075836 0.604458 -0.235093 -0.185094 -0.000108 -0.738816 -0.254148 0.218250 -1.675015 -0.981622 0.157122 0.714942 0.691412 1.059508 -0.274221 -0.055562 0.325578 -0.346450 0.150453 0.422791 0.623354 -0.493605 0.637105 0.210689 0.819944 -0.570102 0.146869 1.197623 0.300871 -0.907092 0.721336 0.019754 -0.606671 0.107952 1.612146 -0.264392 0.164352 0.188685 0.222021 0.251363 0.445870 -0.839485 -0.053391 0.076896 -0.185989 0.944485 0.314605 0.563823 -0.256447 0.166717 0.695016 0.196819 0.821186 -0.809081 0.231174 -0.153893 -0.784880 -0.038297 0.542591 0.584473 \n",
            "0.382035 -0.570354 -0.838712 -0.321761 -0.460870 -0.922330 -0.099692 1.118831 -0.210563 1.097340 -1.075488 -0.213270 0.292194 -0.128596 -1.609142 0.585393 -0.321954 0.342159 -0.288777 -1.008358 0.537347 0.309728 -0.914955 1.018724 0.681232 -0.880368 1.304345 0.121747 -1.160252 -0.029181 -0.304603 -0.440030 0.725309 -1.718676 0.831253 -0.461571 0.160701 0.314686 0.829745 -1.324155 1.114298 -0.315319 0.427726 -0.831700 0.072024 -0.486885 -1.758220 -1.927919 0.366867 1.022294 1.218804 -0.929218 0.445680 -1.100537 0.282265 0.820648 -0.984394 0.962338 -0.109913 0.766029 2.185224 -0.254122 0.945330 -0.569209 1.561467 0.347726 -0.732170 -0.266788 0.529729 1.173147 -0.348426 -0.106117 0.152977 -0.526538 0.017092 -0.076607 -1.681277 -1.579640 -0.138156 -0.317888 1.563615 2.169025 -0.511330 0.582176 0.536063 0.455494 -0.898602 0.291426 0.380313 0.838584 0.789771 -0.744012 0.397009 -0.524327 -0.291457 1.594839 -0.004237 -1.654805 0.366684 -0.050859 0.154441 0.552347 2.720422 -0.483075 0.601879 -0.127886 -0.951976 1.222253 0.128117 -0.225543 0.297038 -0.474908 -0.985284 0.792372 0.804523 1.567985 -0.434675 0.488800 0.497173 1.010279 0.898472 -0.333989 0.649278 -0.450027 -0.636256 0.280487 1.704678 1.244107 \n",
            "0.397933 -0.565683 -0.824038 -0.307588 -0.453145 -0.927167 -0.085130 1.084823 -0.237883 1.080607 -1.081354 -0.198610 0.258063 -0.124295 -1.634848 0.536150 -0.333285 0.350804 -0.301445 -0.992877 0.522409 0.344789 -0.915479 1.015587 0.654237 -0.870999 1.280684 0.108901 -1.150430 -0.020548 -0.296765 -0.441141 0.716455 -1.665454 0.825253 -0.479701 0.157232 0.330352 0.775765 -1.308442 1.096311 -0.285795 0.403779 -0.815778 0.082078 -0.490405 -1.752708 -1.876453 0.352360 0.997711 1.221486 -0.924664 0.427800 -1.118261 0.271088 0.810712 -0.970326 0.944887 -0.098980 0.764217 2.142244 -0.214331 0.963159 -0.562568 1.556342 0.374394 -0.752536 -0.268473 0.512381 1.175195 -0.329834 -0.083465 0.137701 -0.553305 0.019852 -0.089386 -1.689172 -1.552099 -0.106148 -0.300656 1.539136 2.153819 -0.516822 0.558857 0.541170 0.461096 -0.865821 0.278095 0.385951 0.815751 0.778869 -0.708793 0.405318 -0.535887 -0.289084 1.581055 -0.027786 -1.621486 0.417063 -0.041766 0.162505 0.549893 2.698995 -0.464584 0.582517 -0.151564 -0.917864 1.178658 0.120067 -0.222955 0.300882 -0.449747 -0.945679 0.798599 0.800158 1.587963 -0.398955 0.491239 0.497209 0.968055 0.871160 -0.347672 0.664123 -0.451379 -0.621370 0.286334 1.708270 1.245312 \n",
            "0.101124 0.127664 0.314467 0.698218 0.367726 0.170124 -0.211478 0.163128 -0.511131 0.197474 -0.995137 0.945883 0.434090 0.275559 -0.099120 -0.544327 0.228851 0.057383 0.112494 -0.432515 -0.042491 0.345397 0.299624 0.912588 -0.627934 -0.375914 0.007020 -0.541662 -0.055278 0.648253 -1.028423 -0.944209 -0.244599 -0.188503 0.353486 -0.127822 -0.203185 0.128743 -0.406416 0.184412 0.162849 -0.399610 0.080360 0.483201 0.121494 0.251235 -0.900783 0.401551 0.197446 -0.575251 -0.045740 -0.477389 0.433750 -0.613927 0.016029 -0.397862 -0.426633 -0.092614 0.386329 0.478888 0.413458 0.433426 1.011489 -0.057910 0.666118 -0.272251 -0.803678 -0.401070 -0.030497 0.218433 -0.211696 -0.393838 0.058926 0.027369 -0.421899 0.942831 -0.492906 -0.366402 -0.895611 0.536975 -0.038459 0.174873 -0.059991 -0.221009 -0.078360 -0.429794 0.503542 0.461939 0.316502 -0.577972 0.127764 0.500519 0.283176 0.462845 0.294768 0.246121 0.229681 -0.045212 -0.020309 0.005303 -0.861569 0.204579 0.360456 -0.261727 0.249317 0.057810 0.427718 -0.039894 0.018666 -0.108920 -0.038172 0.056353 -0.253926 0.516522 0.038544 -0.348083 -0.124812 -0.680521 0.813292 -0.080403 0.268477 -0.298735 -0.329714 0.719862 -0.429380 -0.095207 -0.033109 -0.183284 \n",
            "0.393274 -0.571445 -0.849210 -0.288539 -0.459005 -0.908631 -0.138314 1.162455 -0.186385 1.076810 -1.124916 -0.181318 0.332669 -0.165249 -1.574378 0.596820 -0.294844 0.286692 -0.225191 -1.004882 0.548082 0.274044 -0.907443 1.033711 0.697111 -0.880188 1.300858 0.141856 -1.173958 -0.019355 -0.359538 -0.452667 0.747699 -1.754842 0.804379 -0.433686 0.115734 0.336450 0.859048 -1.322457 1.066418 -0.351501 0.441445 -0.836743 0.071632 -0.481790 -1.761931 -1.935069 0.389488 1.061864 1.190850 -0.954084 0.474484 -1.049133 0.307529 0.811188 -1.015239 0.936546 -0.071627 0.751314 2.197936 -0.295401 0.925512 -0.576308 1.591426 0.306305 -0.733172 -0.289077 0.563338 1.138785 -0.319013 -0.121604 0.163705 -0.493298 -0.012867 0.010865 -1.693517 -1.609405 -0.227771 -0.372207 1.609182 2.151958 -0.509898 0.600843 0.521779 0.448696 -0.891417 0.354176 0.377518 0.889270 0.753408 -0.731878 0.403139 -0.449101 -0.315434 1.566170 0.034688 -1.629413 0.317431 -0.058386 0.133525 0.556783 2.731996 -0.483229 0.609623 -0.121278 -0.962987 1.218452 0.100082 -0.196771 0.313531 -0.494425 -1.017929 0.820212 0.834291 1.538771 -0.456616 0.415192 0.480795 1.008653 0.888111 -0.289727 0.621084 -0.389904 -0.649566 0.256392 1.694350 1.188071 \n",
            "0.100485 -0.347291 -0.494623 0.253220 0.085505 -0.829785 0.159128 0.236521 -0.643928 0.670791 -1.094934 0.741223 0.200971 -0.025321 -1.341436 -0.168885 0.008708 0.522901 -0.299671 -0.817634 0.133553 0.625686 0.029051 0.907360 -0.063526 -0.579016 0.419591 -0.149774 -0.618408 0.589426 -0.783679 -0.379087 0.049038 -0.634384 0.653165 -0.695538 0.024578 0.502632 0.038929 -0.575574 0.667328 0.022698 -0.017516 -0.158532 0.086205 0.129233 -1.203345 -0.524003 0.217107 -0.067156 0.843573 -0.780171 0.495100 -1.767860 0.263478 0.092624 -0.674736 0.326620 0.037735 0.698694 1.065190 0.679193 1.234307 -0.467657 1.084875 0.295876 -0.868208 -0.497684 0.097510 0.759100 -0.177521 -0.096830 -0.069325 -0.633602 -0.210823 0.221571 -1.639466 -1.099725 0.146516 0.438590 0.766391 1.316995 -0.286180 -0.032820 0.337410 -0.154796 -0.020468 0.323591 0.556597 -0.154176 0.499393 0.010404 0.768385 -0.452360 -0.080577 1.198025 0.200660 -0.943887 0.706533 0.071325 -0.485808 0.113047 1.854523 -0.226972 0.257979 0.110339 0.132313 0.341847 0.391231 -0.574506 0.014373 0.071486 -0.347768 0.843936 0.534922 0.927831 -0.269828 0.194225 0.537798 0.389576 0.763193 -0.743131 0.334336 -0.260358 -0.743981 0.084440 0.863184 0.745664 \n"
          ],
          "name": "stdout"
        }
      ]
    },
    {
      "cell_type": "code",
      "metadata": {
        "colab": {
          "base_uri": "https://localhost:8080/"
        },
        "id": "aVAGRBBmZ_Wo",
        "outputId": "e57cc98a-becd-42cb-e737-b3a6ca123cc5"
      },
      "source": [
        "!head data/yelp/test.txt"
      ],
      "execution_count": 31,
      "outputs": [
        {
          "output_type": "stream",
          "text": [
            "husband loves the thin crust pizza .\n",
            "breadsticks are great too\n",
            "monicals pizza is by far one of my favorite pizzas .\n",
            "the traditional thin crust topped with sausage and pinnaple it where its at .\n",
            "i also like this location .\n",
            "it has two levels which gives is a more homey feeeling .\n",
            "and more unbelievably the pizza served was missing a portion .\n",
            "the reason ?\n",
            "`` the oven ate it '' - according to the waitress .\n",
            "absolutely love their thin crust pizzas .\n"
          ],
          "name": "stdout"
        }
      ]
    },
    {
      "cell_type": "markdown",
      "metadata": {
        "id": "iYP4zjFCaS2Q"
      },
      "source": [
        "# Sample"
      ]
    },
    {
      "cell_type": "code",
      "metadata": {
        "id": "oRtLTTRNaEKT"
      },
      "source": [
        "!python test.py --sample --n 10 --output sample --checkpoint checkpoints/yelp/daae/\n"
      ],
      "execution_count": 55,
      "outputs": []
    },
    {
      "cell_type": "code",
      "metadata": {
        "colab": {
          "base_uri": "https://localhost:8080/"
        },
        "id": "yg1MEw8uaUnY",
        "outputId": "a341b76e-dfaa-4677-bdee-33ef47b5f36c"
      },
      "source": [
        "!ls checkpoints/yelp/daae"
      ],
      "execution_count": 33,
      "outputs": [
        {
          "output_type": "stream",
          "text": [
            "log.txt  model.pt  sample  test.rec.rec  test.rec.z  vocab.txt\n"
          ],
          "name": "stdout"
        }
      ]
    },
    {
      "cell_type": "code",
      "metadata": {
        "colab": {
          "base_uri": "https://localhost:8080/"
        },
        "id": "Q-EF4QvYaYqz",
        "outputId": "70f0acd9-172b-4a74-e853-6a37d099a839"
      },
      "source": [
        "!head checkpoints/yelp/daae/sample"
      ],
      "execution_count": 56,
      "outputs": [
        {
          "output_type": "stream",
          "text": [
            "so know !\n",
            "the <unk> that was n't <unk> that was a good thing !\n",
            "the <unk> have to eat home , too .\n",
            "for a _num_ night , a decent size of their wine list .\n",
            "the owner was awesome , and i will never recommend them again !\n",
            "very romantic restaurant in the staff was beyond <unk> !\n",
            "prices though are pretty weak but the prices are low .\n",
            "the goat cheese is also a bit of the last time .\n",
            "the staff here are always nice .\n",
            "very nice , and no complaints , but the entire experience .\n"
          ],
          "name": "stdout"
        }
      ]
    },
    {
      "cell_type": "markdown",
      "metadata": {
        "id": "sr-THLamamjI"
      },
      "source": [
        "# Arithmetic\n",
        "\n",
        "The difference between the average latent representation of the first two data files will be applied to the third file (separated by commas), and k denotes the scaling factor.\n"
      ]
    },
    {
      "cell_type": "markdown",
      "metadata": {
        "id": "_Tz_Y_Txg55c"
      },
      "source": [
        "## Tense"
      ]
    },
    {
      "cell_type": "code",
      "metadata": {
        "id": "Y6cqFAmxab3j"
      },
      "source": [
        "!python test.py --arithmetic --data data/yelp/tense/valid.past,data/yelp/tense/valid.present,data/yelp/tense/test.past --output test.past2present --checkpoint checkpoints/yelp/daae/\n",
        "\n"
      ],
      "execution_count": 57,
      "outputs": []
    },
    {
      "cell_type": "code",
      "metadata": {
        "colab": {
          "base_uri": "https://localhost:8080/"
        },
        "id": "UtOj8o5AbSEh",
        "outputId": "517effc9-bcd6-436e-8cfa-831e20eae74e"
      },
      "source": [
        "!head data/yelp/tense/valid.past"
      ],
      "execution_count": 40,
      "outputs": [
        {
          "output_type": "stream",
          "text": [
            "overpriced .\n",
            "the pizza was pretty bland , despite a hefty helping of oregano .\n",
            "perhaps because i was indoctrinated into loving this pizza as a small child .\n",
            "we got the thin crust with steak and bacon and it was awesome !\n",
            "i had to knock it down a star .\n",
            "the food was n't good .\n",
            "went here after a doctors appointment one day .\n",
            "the pizza was good .\n",
            "the small salad was n't their best .\n",
            "the service sucked .\n"
          ],
          "name": "stdout"
        }
      ]
    },
    {
      "cell_type": "code",
      "metadata": {
        "colab": {
          "base_uri": "https://localhost:8080/"
        },
        "id": "FqwU42qvbnTP",
        "outputId": "101396ac-1b37-444e-ee6e-5c0e6310d596"
      },
      "source": [
        "!head data/yelp/tense/valid.present"
      ],
      "execution_count": 42,
      "outputs": [
        {
          "output_type": "stream",
          "text": [
            "pizza is pretty good !\n",
            "everything is usually pretty fresh and hot .\n",
            "there is something about this pizza that is addictive .\n",
            "there is very little sauce , fairly dry cheese , and a chewy crust .\n",
            "i do n't know what to call it ... .\n",
            "because every local i know loves monicals .\n",
            "in fact , they even sell their french dressing online !\n",
            "seriously , i 've looked . )\n",
            "the pizza is pretty good , but not the best in champaign-urbana .\n",
            "i prefer papa del 's .\n"
          ],
          "name": "stdout"
        }
      ]
    },
    {
      "cell_type": "code",
      "metadata": {
        "colab": {
          "base_uri": "https://localhost:8080/"
        },
        "id": "Sl91aiLWbql1",
        "outputId": "084def78-c9c8-4850-f1aa-b4845eca557b"
      },
      "source": [
        "!head data/yelp/tense/test.past"
      ],
      "execution_count": 43,
      "outputs": [
        {
          "output_type": "stream",
          "text": [
            "and more unbelievably the pizza served was missing a portion .\n",
            "`` the oven ate it '' - according to the waitress .\n",
            "reasonably priced .\n",
            "could n't be more happy with their service either .\n",
            "they could use a fork upgrade , but the rice was nice .\n",
            "i got the garlic chicken with vegetables with lo mein .\n",
            "paid over $ _ num _ and it was pretty greasy and just very underwhelming .\n",
            "i walked in and briefly fingered coats , feeling lost and confused .\n",
            "`` have you spent a winter here before ? ''\n",
            "she asked , eyeing my confused expression .\n"
          ],
          "name": "stdout"
        }
      ]
    },
    {
      "cell_type": "code",
      "metadata": {
        "colab": {
          "base_uri": "https://localhost:8080/"
        },
        "id": "Df37XG-xbKin",
        "outputId": "04e98445-73dc-44dd-8cbf-2568bc8c79b6"
      },
      "source": [
        "!head checkpoints/yelp/daae/test.past2present"
      ],
      "execution_count": 58,
      "outputs": [
        {
          "output_type": "stream",
          "text": [
            "even as the cheese and it was a little variety .\n",
            "`` the burger '' it 's : not the to say .\n",
            "reasonably priced .\n",
            "i might not have many good customer service either .\n",
            "they should have a difference , but the bread was nice .\n",
            "i got the garlic chicken with fresh and sour .\n",
            "i paid on <unk> <unk> and it 's pretty <unk> and very good .\n",
            "i walked in <unk> , and <unk> in a hurry and leave .\n",
            "`` you have a reservation here in here ? ''\n",
            "she said , <unk> my <unk> .\n"
          ],
          "name": "stdout"
        }
      ]
    },
    {
      "cell_type": "markdown",
      "metadata": {
        "id": "z5nbF9p_g7pQ"
      },
      "source": [
        "## Sentiment"
      ]
    },
    {
      "cell_type": "code",
      "metadata": {
        "id": "vZPQ6sZoatXK"
      },
      "source": [
        "!python test.py --arithmetic --k 2 --data data/yelp/sentiment/100.neg,data/yelp/sentiment/100.pos,data/yelp/sentiment/1000.neg --output 1000.neg2pos --checkpoint checkpoints/yelp/daae/"
      ],
      "execution_count": 59,
      "outputs": []
    },
    {
      "cell_type": "code",
      "metadata": {
        "colab": {
          "base_uri": "https://localhost:8080/"
        },
        "id": "i1o_A_3rgs79",
        "outputId": "c9d1b8a0-ec27-4a8f-8a05-545aa124c56a"
      },
      "source": [
        "!head data/yelp/sentiment/100.neg"
      ],
      "execution_count": 60,
      "outputs": [
        {
          "output_type": "stream",
          "text": [
            "the $ _num_ minimum charge to use a credit card is also annoying .\n",
            "sorry but i do n't get the rave reviews for this place .\n",
            "the desserts were very bland .\n",
            "the cake portion was extremely light and a bit dry .\n",
            "it was super dry and had a weird taste to the entire slice .\n",
            "once again , i have n't figured out why they change so much .\n",
            "consistently slow .\n",
            "even in the awkward freezer burn then microwaved scent .\n",
            "so nasty .\n",
            "i hate mayonnaise .\n"
          ],
          "name": "stdout"
        }
      ]
    },
    {
      "cell_type": "code",
      "metadata": {
        "colab": {
          "base_uri": "https://localhost:8080/"
        },
        "id": "l9vw2Pwtgxlx",
        "outputId": "7dd93048-0ac3-4a0b-da35-8f7997a5db73"
      },
      "source": [
        "!head data/yelp/sentiment/100.pos"
      ],
      "execution_count": 61,
      "outputs": [
        {
          "output_type": "stream",
          "text": [
            "excellent chinese and superb service .\n",
            "my favorite chinese food in az !\n",
            "it 's full of fresh ingredients , light and tasty .\n",
            "we had the shrimp with vegetables and shrimp fried rice - both lovely .\n",
            "they 're quite generous with the shrimp !\n",
            "i had christmas dinner at george 's and thought it to be the best .\n",
            "as i said , best ever !\n",
            "did n't know this type cuisine could be this great !\n",
            "go there , eat , enjoy !\n",
            "best chinese food i 've had in a long time .\n"
          ],
          "name": "stdout"
        }
      ]
    },
    {
      "cell_type": "code",
      "metadata": {
        "colab": {
          "base_uri": "https://localhost:8080/"
        },
        "id": "xh9fTPahg19l",
        "outputId": "64c5da57-40a8-4b88-a0ca-611d1a57086b"
      },
      "source": [
        "!head data/yelp/sentiment/1000.neg"
      ],
      "execution_count": 62,
      "outputs": [
        {
          "output_type": "stream",
          "text": [
            "the answer was none .\n",
            "this place sucks .\n",
            "we have been there _num_ times , with an attempted 3rd time .\n",
            "1st time , burnt pizza , was horrible .\n",
            "wo n't go back .\n",
            "also like all spinatos they are closed on monday .\n",
            "the food was bland ... if you like spinatos , just avoid this location .\n",
            "it 's not worth it .\n",
            "friendly staff , but not overly helpful .\n",
            "we got the thicker crust and it tasted really dry and hard .\n"
          ],
          "name": "stdout"
        }
      ]
    },
    {
      "cell_type": "code",
      "metadata": {
        "colab": {
          "base_uri": "https://localhost:8080/"
        },
        "id": "Z8LiQoRZhGLo",
        "outputId": "f8c36c27-59ee-4789-be54-66a11c1003f7"
      },
      "source": [
        "!head checkpoints/yelp/daae/1000.neg2pos"
      ],
      "execution_count": 63,
      "outputs": [
        {
          "output_type": "stream",
          "text": [
            "the staff is excellent .\n",
            "this place is phenomenal .\n",
            "we have been here for a nice , and both with our time .\n",
            "our experience , the pizza was fantastic .\n",
            "we will definitely go back .\n",
            "also love all and <unk> are on sunday .\n",
            "the food is delicious , and it is not good at this place .\n",
            "it 's always worth it .\n",
            "friendly staff , friendly and helpful .\n",
            "we had the italian crust and it was really fresh and fresh .\n"
          ],
          "name": "stdout"
        }
      ]
    },
    {
      "cell_type": "markdown",
      "metadata": {
        "id": "327Ahgmgb86B"
      },
      "source": [
        "# Interpolation\n",
        "\n",
        "Sentence interpolation between two data files (separated by a comma), \n"
      ]
    },
    {
      "cell_type": "code",
      "metadata": {
        "id": "tGekWTjnb9lc"
      },
      "source": [
        "!python test.py --interpolate --data data/yelp/interpolate/example.long,data/yelp/interpolate/example.short --output example.int --checkpoint checkpoints/yelp/daae/\n"
      ],
      "execution_count": 64,
      "outputs": []
    },
    {
      "cell_type": "code",
      "metadata": {
        "colab": {
          "base_uri": "https://localhost:8080/"
        },
        "id": "Q3u-mKAhcbnO",
        "outputId": "63c8fd4c-3d15-4f9d-a68b-d96d8f5a1513"
      },
      "source": [
        "!head checkpoints/yelp/daae/example.int"
      ],
      "execution_count": 66,
      "outputs": [
        {
          "output_type": "stream",
          "text": [
            "i highly recommend it and i will be back !\n",
            "i highly recommend it and i will be back !\n",
            "i will definitely be back !\n",
            "i will be back !\n",
            "i will be back !\n",
            "\n",
            "probably the worst chinese food i 've ever had in my life .\n",
            "probably the worst chinese food i 've ever had in my life .\n",
            "worst chinese chinese food .\n",
            "worst chinese food .\n"
          ],
          "name": "stdout"
        }
      ]
    },
    {
      "cell_type": "code",
      "metadata": {
        "colab": {
          "base_uri": "https://localhost:8080/"
        },
        "id": "sbO3hWLIckRQ",
        "outputId": "8f22487f-fa94-4e26-c23b-543d2bb45e84"
      },
      "source": [
        "!head data/yelp/interpolate/example.long"
      ],
      "execution_count": 65,
      "outputs": [
        {
          "output_type": "stream",
          "text": [
            "i highly recommend it and i 'll definitely be back !\n",
            "probably the worst chinese food i 've had in my life .\n",
            "i say again , do n't ever stay at this hotel !\n",
            "it 's so much better than the other chinese food places in this area .\n",
            "the fried dumplings are a must if you ever visit this place .\n",
            "definitely worth going for if you want good quick chinese food .\n",
            "everyone who works there is very sweet and genuine too !\n",
            "this was the must disgusting restaurant i have eaten at in years .\n",
            "this is one of my favorite restaurants in town .\n",
            "literally the best place for students and locals who want diversity in their food .\n"
          ],
          "name": "stdout"
        }
      ]
    },
    {
      "cell_type": "code",
      "metadata": {
        "colab": {
          "base_uri": "https://localhost:8080/"
        },
        "id": "sEXD-qXIcpzw",
        "outputId": "be940779-9bf6-403b-dc68-bfc8631d06e0"
      },
      "source": [
        "!head data/yelp/interpolate/example.short"
      ],
      "execution_count": 50,
      "outputs": [
        {
          "output_type": "stream",
          "text": [
            "i will be back !\n",
            "worst chinese food .\n",
            "do n't stay !\n",
            "better than other places .\n",
            "fried dumplings are a must .\n",
            "definitely worth going !\n",
            "everyone is sweet !\n",
            "disgusting !\n",
            "my favorite !\n",
            "the best !\n"
          ],
          "name": "stdout"
        }
      ]
    },
    {
      "cell_type": "code",
      "metadata": {
        "id": "dqI6ngticulp"
      },
      "source": [
        ""
      ],
      "execution_count": null,
      "outputs": []
    }
  ]
}
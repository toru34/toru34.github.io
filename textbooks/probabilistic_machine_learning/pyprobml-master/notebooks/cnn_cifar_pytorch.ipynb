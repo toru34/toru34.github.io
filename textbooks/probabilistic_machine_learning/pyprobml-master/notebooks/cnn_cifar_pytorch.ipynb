{
  "nbformat": 4,
  "nbformat_minor": 0,
  "metadata": {
    "colab": {
      "name": "cnn_cifar_pytorch.ipynb",
      "provenance": [],
      "toc_visible": true,
      "authorship_tag": "ABX9TyOd5uz0QcQ5Si0hqfSpZRr8",
      "include_colab_link": true
    },
    "kernelspec": {
      "name": "python3",
      "display_name": "Python 3"
    },
    "language_info": {
      "name": "python"
    },
    "accelerator": "GPU",
    "widgets": {
      "application/vnd.jupyter.widget-state+json": {
        "8ffa87f9b83f4decabddedc7b11b42d1": {
          "model_module": "@jupyter-widgets/controls",
          "model_name": "HBoxModel",
          "state": {
            "_view_name": "HBoxView",
            "_dom_classes": [],
            "_model_name": "HBoxModel",
            "_view_module": "@jupyter-widgets/controls",
            "_model_module_version": "1.5.0",
            "_view_count": null,
            "_view_module_version": "1.5.0",
            "box_style": "",
            "layout": "IPY_MODEL_64d2f5290589473bb799f9745a591c25",
            "_model_module": "@jupyter-widgets/controls",
            "children": [
              "IPY_MODEL_f8c0fc1c00c442b2b6d89bb34141afb3",
              "IPY_MODEL_094ba7067c6f4fedb1a79fe59ee81cca"
            ]
          }
        },
        "64d2f5290589473bb799f9745a591c25": {
          "model_module": "@jupyter-widgets/base",
          "model_name": "LayoutModel",
          "state": {
            "_view_name": "LayoutView",
            "grid_template_rows": null,
            "right": null,
            "justify_content": null,
            "_view_module": "@jupyter-widgets/base",
            "overflow": null,
            "_model_module_version": "1.2.0",
            "_view_count": null,
            "flex_flow": null,
            "width": null,
            "min_width": null,
            "border": null,
            "align_items": null,
            "bottom": null,
            "_model_module": "@jupyter-widgets/base",
            "top": null,
            "grid_column": null,
            "overflow_y": null,
            "overflow_x": null,
            "grid_auto_flow": null,
            "grid_area": null,
            "grid_template_columns": null,
            "flex": null,
            "_model_name": "LayoutModel",
            "justify_items": null,
            "grid_row": null,
            "max_height": null,
            "align_content": null,
            "visibility": null,
            "align_self": null,
            "height": null,
            "min_height": null,
            "padding": null,
            "grid_auto_rows": null,
            "grid_gap": null,
            "max_width": null,
            "order": null,
            "_view_module_version": "1.2.0",
            "grid_template_areas": null,
            "object_position": null,
            "object_fit": null,
            "grid_auto_columns": null,
            "margin": null,
            "display": null,
            "left": null
          }
        },
        "f8c0fc1c00c442b2b6d89bb34141afb3": {
          "model_module": "@jupyter-widgets/controls",
          "model_name": "FloatProgressModel",
          "state": {
            "_view_name": "ProgressView",
            "style": "IPY_MODEL_3a0040c40cd34465ac9f790332b71542",
            "_dom_classes": [],
            "description": "",
            "_model_name": "FloatProgressModel",
            "bar_style": "success",
            "max": 170498071,
            "_view_module": "@jupyter-widgets/controls",
            "_model_module_version": "1.5.0",
            "value": 170498071,
            "_view_count": null,
            "_view_module_version": "1.5.0",
            "orientation": "horizontal",
            "min": 0,
            "description_tooltip": null,
            "_model_module": "@jupyter-widgets/controls",
            "layout": "IPY_MODEL_809c869b098b42fc898afacb83c53e91"
          }
        },
        "094ba7067c6f4fedb1a79fe59ee81cca": {
          "model_module": "@jupyter-widgets/controls",
          "model_name": "HTMLModel",
          "state": {
            "_view_name": "HTMLView",
            "style": "IPY_MODEL_1f88cab621f541bf825acda9acf1df42",
            "_dom_classes": [],
            "description": "",
            "_model_name": "HTMLModel",
            "placeholder": "​",
            "_view_module": "@jupyter-widgets/controls",
            "_model_module_version": "1.5.0",
            "value": " 170499072/? [00:04&lt;00:00, 39952151.81it/s]",
            "_view_count": null,
            "_view_module_version": "1.5.0",
            "description_tooltip": null,
            "_model_module": "@jupyter-widgets/controls",
            "layout": "IPY_MODEL_717fa68813bc459584b0ed360f94d2a5"
          }
        },
        "3a0040c40cd34465ac9f790332b71542": {
          "model_module": "@jupyter-widgets/controls",
          "model_name": "ProgressStyleModel",
          "state": {
            "_view_name": "StyleView",
            "_model_name": "ProgressStyleModel",
            "description_width": "initial",
            "_view_module": "@jupyter-widgets/base",
            "_model_module_version": "1.5.0",
            "_view_count": null,
            "_view_module_version": "1.2.0",
            "bar_color": null,
            "_model_module": "@jupyter-widgets/controls"
          }
        },
        "809c869b098b42fc898afacb83c53e91": {
          "model_module": "@jupyter-widgets/base",
          "model_name": "LayoutModel",
          "state": {
            "_view_name": "LayoutView",
            "grid_template_rows": null,
            "right": null,
            "justify_content": null,
            "_view_module": "@jupyter-widgets/base",
            "overflow": null,
            "_model_module_version": "1.2.0",
            "_view_count": null,
            "flex_flow": null,
            "width": null,
            "min_width": null,
            "border": null,
            "align_items": null,
            "bottom": null,
            "_model_module": "@jupyter-widgets/base",
            "top": null,
            "grid_column": null,
            "overflow_y": null,
            "overflow_x": null,
            "grid_auto_flow": null,
            "grid_area": null,
            "grid_template_columns": null,
            "flex": null,
            "_model_name": "LayoutModel",
            "justify_items": null,
            "grid_row": null,
            "max_height": null,
            "align_content": null,
            "visibility": null,
            "align_self": null,
            "height": null,
            "min_height": null,
            "padding": null,
            "grid_auto_rows": null,
            "grid_gap": null,
            "max_width": null,
            "order": null,
            "_view_module_version": "1.2.0",
            "grid_template_areas": null,
            "object_position": null,
            "object_fit": null,
            "grid_auto_columns": null,
            "margin": null,
            "display": null,
            "left": null
          }
        },
        "1f88cab621f541bf825acda9acf1df42": {
          "model_module": "@jupyter-widgets/controls",
          "model_name": "DescriptionStyleModel",
          "state": {
            "_view_name": "StyleView",
            "_model_name": "DescriptionStyleModel",
            "description_width": "",
            "_view_module": "@jupyter-widgets/base",
            "_model_module_version": "1.5.0",
            "_view_count": null,
            "_view_module_version": "1.2.0",
            "_model_module": "@jupyter-widgets/controls"
          }
        },
        "717fa68813bc459584b0ed360f94d2a5": {
          "model_module": "@jupyter-widgets/base",
          "model_name": "LayoutModel",
          "state": {
            "_view_name": "LayoutView",
            "grid_template_rows": null,
            "right": null,
            "justify_content": null,
            "_view_module": "@jupyter-widgets/base",
            "overflow": null,
            "_model_module_version": "1.2.0",
            "_view_count": null,
            "flex_flow": null,
            "width": null,
            "min_width": null,
            "border": null,
            "align_items": null,
            "bottom": null,
            "_model_module": "@jupyter-widgets/base",
            "top": null,
            "grid_column": null,
            "overflow_y": null,
            "overflow_x": null,
            "grid_auto_flow": null,
            "grid_area": null,
            "grid_template_columns": null,
            "flex": null,
            "_model_name": "LayoutModel",
            "justify_items": null,
            "grid_row": null,
            "max_height": null,
            "align_content": null,
            "visibility": null,
            "align_self": null,
            "height": null,
            "min_height": null,
            "padding": null,
            "grid_auto_rows": null,
            "grid_gap": null,
            "max_width": null,
            "order": null,
            "_view_module_version": "1.2.0",
            "grid_template_areas": null,
            "object_position": null,
            "object_fit": null,
            "grid_auto_columns": null,
            "margin": null,
            "display": null,
            "left": null
          }
        },
        "d94dc1a1722d412486777816774d2d8d": {
          "model_module": "@jupyter-widgets/controls",
          "model_name": "HBoxModel",
          "state": {
            "_view_name": "HBoxView",
            "_dom_classes": [],
            "_model_name": "HBoxModel",
            "_view_module": "@jupyter-widgets/controls",
            "_model_module_version": "1.5.0",
            "_view_count": null,
            "_view_module_version": "1.5.0",
            "box_style": "",
            "layout": "IPY_MODEL_23f97b3ca11745ca86da99644f232422",
            "_model_module": "@jupyter-widgets/controls",
            "children": [
              "IPY_MODEL_72b70df3a70a4eb99b8955a88d3d23d5",
              "IPY_MODEL_55d3805aa7be4c7aabf3898838d8d02c"
            ]
          }
        },
        "23f97b3ca11745ca86da99644f232422": {
          "model_module": "@jupyter-widgets/base",
          "model_name": "LayoutModel",
          "state": {
            "_view_name": "LayoutView",
            "grid_template_rows": null,
            "right": null,
            "justify_content": null,
            "_view_module": "@jupyter-widgets/base",
            "overflow": null,
            "_model_module_version": "1.2.0",
            "_view_count": null,
            "flex_flow": null,
            "width": null,
            "min_width": null,
            "border": null,
            "align_items": null,
            "bottom": null,
            "_model_module": "@jupyter-widgets/base",
            "top": null,
            "grid_column": null,
            "overflow_y": null,
            "overflow_x": null,
            "grid_auto_flow": null,
            "grid_area": null,
            "grid_template_columns": null,
            "flex": null,
            "_model_name": "LayoutModel",
            "justify_items": null,
            "grid_row": null,
            "max_height": null,
            "align_content": null,
            "visibility": null,
            "align_self": null,
            "height": null,
            "min_height": null,
            "padding": null,
            "grid_auto_rows": null,
            "grid_gap": null,
            "max_width": null,
            "order": null,
            "_view_module_version": "1.2.0",
            "grid_template_areas": null,
            "object_position": null,
            "object_fit": null,
            "grid_auto_columns": null,
            "margin": null,
            "display": null,
            "left": null
          }
        },
        "72b70df3a70a4eb99b8955a88d3d23d5": {
          "model_module": "@jupyter-widgets/controls",
          "model_name": "FloatProgressModel",
          "state": {
            "_view_name": "ProgressView",
            "style": "IPY_MODEL_97f44fecf5e14b9fbb240e0ebec6a64b",
            "_dom_classes": [],
            "description": "",
            "_model_name": "FloatProgressModel",
            "bar_style": "success",
            "max": 9912422,
            "_view_module": "@jupyter-widgets/controls",
            "_model_module_version": "1.5.0",
            "value": 9912422,
            "_view_count": null,
            "_view_module_version": "1.5.0",
            "orientation": "horizontal",
            "min": 0,
            "description_tooltip": null,
            "_model_module": "@jupyter-widgets/controls",
            "layout": "IPY_MODEL_9b810b90351e463ab05c79c8809a16d9"
          }
        },
        "55d3805aa7be4c7aabf3898838d8d02c": {
          "model_module": "@jupyter-widgets/controls",
          "model_name": "HTMLModel",
          "state": {
            "_view_name": "HTMLView",
            "style": "IPY_MODEL_0a4982b2eb73461cace57a6500dcafe7",
            "_dom_classes": [],
            "description": "",
            "_model_name": "HTMLModel",
            "placeholder": "​",
            "_view_module": "@jupyter-widgets/controls",
            "_model_module_version": "1.5.0",
            "value": " 9913344/? [00:40&lt;00:00, 247742.83it/s]",
            "_view_count": null,
            "_view_module_version": "1.5.0",
            "description_tooltip": null,
            "_model_module": "@jupyter-widgets/controls",
            "layout": "IPY_MODEL_f5f235e3053642a1bb5d49d5a7f454b8"
          }
        },
        "97f44fecf5e14b9fbb240e0ebec6a64b": {
          "model_module": "@jupyter-widgets/controls",
          "model_name": "ProgressStyleModel",
          "state": {
            "_view_name": "StyleView",
            "_model_name": "ProgressStyleModel",
            "description_width": "initial",
            "_view_module": "@jupyter-widgets/base",
            "_model_module_version": "1.5.0",
            "_view_count": null,
            "_view_module_version": "1.2.0",
            "bar_color": null,
            "_model_module": "@jupyter-widgets/controls"
          }
        },
        "9b810b90351e463ab05c79c8809a16d9": {
          "model_module": "@jupyter-widgets/base",
          "model_name": "LayoutModel",
          "state": {
            "_view_name": "LayoutView",
            "grid_template_rows": null,
            "right": null,
            "justify_content": null,
            "_view_module": "@jupyter-widgets/base",
            "overflow": null,
            "_model_module_version": "1.2.0",
            "_view_count": null,
            "flex_flow": null,
            "width": null,
            "min_width": null,
            "border": null,
            "align_items": null,
            "bottom": null,
            "_model_module": "@jupyter-widgets/base",
            "top": null,
            "grid_column": null,
            "overflow_y": null,
            "overflow_x": null,
            "grid_auto_flow": null,
            "grid_area": null,
            "grid_template_columns": null,
            "flex": null,
            "_model_name": "LayoutModel",
            "justify_items": null,
            "grid_row": null,
            "max_height": null,
            "align_content": null,
            "visibility": null,
            "align_self": null,
            "height": null,
            "min_height": null,
            "padding": null,
            "grid_auto_rows": null,
            "grid_gap": null,
            "max_width": null,
            "order": null,
            "_view_module_version": "1.2.0",
            "grid_template_areas": null,
            "object_position": null,
            "object_fit": null,
            "grid_auto_columns": null,
            "margin": null,
            "display": null,
            "left": null
          }
        },
        "0a4982b2eb73461cace57a6500dcafe7": {
          "model_module": "@jupyter-widgets/controls",
          "model_name": "DescriptionStyleModel",
          "state": {
            "_view_name": "StyleView",
            "_model_name": "DescriptionStyleModel",
            "description_width": "",
            "_view_module": "@jupyter-widgets/base",
            "_model_module_version": "1.5.0",
            "_view_count": null,
            "_view_module_version": "1.2.0",
            "_model_module": "@jupyter-widgets/controls"
          }
        },
        "f5f235e3053642a1bb5d49d5a7f454b8": {
          "model_module": "@jupyter-widgets/base",
          "model_name": "LayoutModel",
          "state": {
            "_view_name": "LayoutView",
            "grid_template_rows": null,
            "right": null,
            "justify_content": null,
            "_view_module": "@jupyter-widgets/base",
            "overflow": null,
            "_model_module_version": "1.2.0",
            "_view_count": null,
            "flex_flow": null,
            "width": null,
            "min_width": null,
            "border": null,
            "align_items": null,
            "bottom": null,
            "_model_module": "@jupyter-widgets/base",
            "top": null,
            "grid_column": null,
            "overflow_y": null,
            "overflow_x": null,
            "grid_auto_flow": null,
            "grid_area": null,
            "grid_template_columns": null,
            "flex": null,
            "_model_name": "LayoutModel",
            "justify_items": null,
            "grid_row": null,
            "max_height": null,
            "align_content": null,
            "visibility": null,
            "align_self": null,
            "height": null,
            "min_height": null,
            "padding": null,
            "grid_auto_rows": null,
            "grid_gap": null,
            "max_width": null,
            "order": null,
            "_view_module_version": "1.2.0",
            "grid_template_areas": null,
            "object_position": null,
            "object_fit": null,
            "grid_auto_columns": null,
            "margin": null,
            "display": null,
            "left": null
          }
        },
        "f1a5938297014f72a35e375c543f2778": {
          "model_module": "@jupyter-widgets/controls",
          "model_name": "HBoxModel",
          "state": {
            "_view_name": "HBoxView",
            "_dom_classes": [],
            "_model_name": "HBoxModel",
            "_view_module": "@jupyter-widgets/controls",
            "_model_module_version": "1.5.0",
            "_view_count": null,
            "_view_module_version": "1.5.0",
            "box_style": "",
            "layout": "IPY_MODEL_ddfab70242d84a39ada141ad6435fe61",
            "_model_module": "@jupyter-widgets/controls",
            "children": [
              "IPY_MODEL_0689fc9445db4711883a2d7318d927fb",
              "IPY_MODEL_22605743ca9147ebbe9c670cbada3713"
            ]
          }
        },
        "ddfab70242d84a39ada141ad6435fe61": {
          "model_module": "@jupyter-widgets/base",
          "model_name": "LayoutModel",
          "state": {
            "_view_name": "LayoutView",
            "grid_template_rows": null,
            "right": null,
            "justify_content": null,
            "_view_module": "@jupyter-widgets/base",
            "overflow": null,
            "_model_module_version": "1.2.0",
            "_view_count": null,
            "flex_flow": null,
            "width": null,
            "min_width": null,
            "border": null,
            "align_items": null,
            "bottom": null,
            "_model_module": "@jupyter-widgets/base",
            "top": null,
            "grid_column": null,
            "overflow_y": null,
            "overflow_x": null,
            "grid_auto_flow": null,
            "grid_area": null,
            "grid_template_columns": null,
            "flex": null,
            "_model_name": "LayoutModel",
            "justify_items": null,
            "grid_row": null,
            "max_height": null,
            "align_content": null,
            "visibility": null,
            "align_self": null,
            "height": null,
            "min_height": null,
            "padding": null,
            "grid_auto_rows": null,
            "grid_gap": null,
            "max_width": null,
            "order": null,
            "_view_module_version": "1.2.0",
            "grid_template_areas": null,
            "object_position": null,
            "object_fit": null,
            "grid_auto_columns": null,
            "margin": null,
            "display": null,
            "left": null
          }
        },
        "0689fc9445db4711883a2d7318d927fb": {
          "model_module": "@jupyter-widgets/controls",
          "model_name": "FloatProgressModel",
          "state": {
            "_view_name": "ProgressView",
            "style": "IPY_MODEL_453bf0a288a9499cb66b7f5d63d18f26",
            "_dom_classes": [],
            "description": "",
            "_model_name": "FloatProgressModel",
            "bar_style": "success",
            "max": 28881,
            "_view_module": "@jupyter-widgets/controls",
            "_model_module_version": "1.5.0",
            "value": 28881,
            "_view_count": null,
            "_view_module_version": "1.5.0",
            "orientation": "horizontal",
            "min": 0,
            "description_tooltip": null,
            "_model_module": "@jupyter-widgets/controls",
            "layout": "IPY_MODEL_b986f9012b7643d5b5d2240cbe4cff77"
          }
        },
        "22605743ca9147ebbe9c670cbada3713": {
          "model_module": "@jupyter-widgets/controls",
          "model_name": "HTMLModel",
          "state": {
            "_view_name": "HTMLView",
            "style": "IPY_MODEL_18de83b1829646d0be71bf68583db6cb",
            "_dom_classes": [],
            "description": "",
            "_model_name": "HTMLModel",
            "placeholder": "​",
            "_view_module": "@jupyter-widgets/controls",
            "_model_module_version": "1.5.0",
            "value": " 29696/? [00:00&lt;00:00, 106316.52it/s]",
            "_view_count": null,
            "_view_module_version": "1.5.0",
            "description_tooltip": null,
            "_model_module": "@jupyter-widgets/controls",
            "layout": "IPY_MODEL_e30caf368bbf4da7b9feca8ca6fccdf3"
          }
        },
        "453bf0a288a9499cb66b7f5d63d18f26": {
          "model_module": "@jupyter-widgets/controls",
          "model_name": "ProgressStyleModel",
          "state": {
            "_view_name": "StyleView",
            "_model_name": "ProgressStyleModel",
            "description_width": "initial",
            "_view_module": "@jupyter-widgets/base",
            "_model_module_version": "1.5.0",
            "_view_count": null,
            "_view_module_version": "1.2.0",
            "bar_color": null,
            "_model_module": "@jupyter-widgets/controls"
          }
        },
        "b986f9012b7643d5b5d2240cbe4cff77": {
          "model_module": "@jupyter-widgets/base",
          "model_name": "LayoutModel",
          "state": {
            "_view_name": "LayoutView",
            "grid_template_rows": null,
            "right": null,
            "justify_content": null,
            "_view_module": "@jupyter-widgets/base",
            "overflow": null,
            "_model_module_version": "1.2.0",
            "_view_count": null,
            "flex_flow": null,
            "width": null,
            "min_width": null,
            "border": null,
            "align_items": null,
            "bottom": null,
            "_model_module": "@jupyter-widgets/base",
            "top": null,
            "grid_column": null,
            "overflow_y": null,
            "overflow_x": null,
            "grid_auto_flow": null,
            "grid_area": null,
            "grid_template_columns": null,
            "flex": null,
            "_model_name": "LayoutModel",
            "justify_items": null,
            "grid_row": null,
            "max_height": null,
            "align_content": null,
            "visibility": null,
            "align_self": null,
            "height": null,
            "min_height": null,
            "padding": null,
            "grid_auto_rows": null,
            "grid_gap": null,
            "max_width": null,
            "order": null,
            "_view_module_version": "1.2.0",
            "grid_template_areas": null,
            "object_position": null,
            "object_fit": null,
            "grid_auto_columns": null,
            "margin": null,
            "display": null,
            "left": null
          }
        },
        "18de83b1829646d0be71bf68583db6cb": {
          "model_module": "@jupyter-widgets/controls",
          "model_name": "DescriptionStyleModel",
          "state": {
            "_view_name": "StyleView",
            "_model_name": "DescriptionStyleModel",
            "description_width": "",
            "_view_module": "@jupyter-widgets/base",
            "_model_module_version": "1.5.0",
            "_view_count": null,
            "_view_module_version": "1.2.0",
            "_model_module": "@jupyter-widgets/controls"
          }
        },
        "e30caf368bbf4da7b9feca8ca6fccdf3": {
          "model_module": "@jupyter-widgets/base",
          "model_name": "LayoutModel",
          "state": {
            "_view_name": "LayoutView",
            "grid_template_rows": null,
            "right": null,
            "justify_content": null,
            "_view_module": "@jupyter-widgets/base",
            "overflow": null,
            "_model_module_version": "1.2.0",
            "_view_count": null,
            "flex_flow": null,
            "width": null,
            "min_width": null,
            "border": null,
            "align_items": null,
            "bottom": null,
            "_model_module": "@jupyter-widgets/base",
            "top": null,
            "grid_column": null,
            "overflow_y": null,
            "overflow_x": null,
            "grid_auto_flow": null,
            "grid_area": null,
            "grid_template_columns": null,
            "flex": null,
            "_model_name": "LayoutModel",
            "justify_items": null,
            "grid_row": null,
            "max_height": null,
            "align_content": null,
            "visibility": null,
            "align_self": null,
            "height": null,
            "min_height": null,
            "padding": null,
            "grid_auto_rows": null,
            "grid_gap": null,
            "max_width": null,
            "order": null,
            "_view_module_version": "1.2.0",
            "grid_template_areas": null,
            "object_position": null,
            "object_fit": null,
            "grid_auto_columns": null,
            "margin": null,
            "display": null,
            "left": null
          }
        },
        "2476160c1873406f82a67c192c647eb5": {
          "model_module": "@jupyter-widgets/controls",
          "model_name": "HBoxModel",
          "state": {
            "_view_name": "HBoxView",
            "_dom_classes": [],
            "_model_name": "HBoxModel",
            "_view_module": "@jupyter-widgets/controls",
            "_model_module_version": "1.5.0",
            "_view_count": null,
            "_view_module_version": "1.5.0",
            "box_style": "",
            "layout": "IPY_MODEL_e93f832e09824741a34364253377d837",
            "_model_module": "@jupyter-widgets/controls",
            "children": [
              "IPY_MODEL_699136ff86264a5db465cc458d0344c4",
              "IPY_MODEL_5f46d062c441434882e8ae3e0a35eb63"
            ]
          }
        },
        "e93f832e09824741a34364253377d837": {
          "model_module": "@jupyter-widgets/base",
          "model_name": "LayoutModel",
          "state": {
            "_view_name": "LayoutView",
            "grid_template_rows": null,
            "right": null,
            "justify_content": null,
            "_view_module": "@jupyter-widgets/base",
            "overflow": null,
            "_model_module_version": "1.2.0",
            "_view_count": null,
            "flex_flow": null,
            "width": null,
            "min_width": null,
            "border": null,
            "align_items": null,
            "bottom": null,
            "_model_module": "@jupyter-widgets/base",
            "top": null,
            "grid_column": null,
            "overflow_y": null,
            "overflow_x": null,
            "grid_auto_flow": null,
            "grid_area": null,
            "grid_template_columns": null,
            "flex": null,
            "_model_name": "LayoutModel",
            "justify_items": null,
            "grid_row": null,
            "max_height": null,
            "align_content": null,
            "visibility": null,
            "align_self": null,
            "height": null,
            "min_height": null,
            "padding": null,
            "grid_auto_rows": null,
            "grid_gap": null,
            "max_width": null,
            "order": null,
            "_view_module_version": "1.2.0",
            "grid_template_areas": null,
            "object_position": null,
            "object_fit": null,
            "grid_auto_columns": null,
            "margin": null,
            "display": null,
            "left": null
          }
        },
        "699136ff86264a5db465cc458d0344c4": {
          "model_module": "@jupyter-widgets/controls",
          "model_name": "FloatProgressModel",
          "state": {
            "_view_name": "ProgressView",
            "style": "IPY_MODEL_c75b8ab87f534424a0df9bc570e723eb",
            "_dom_classes": [],
            "description": "",
            "_model_name": "FloatProgressModel",
            "bar_style": "success",
            "max": 1648877,
            "_view_module": "@jupyter-widgets/controls",
            "_model_module_version": "1.5.0",
            "value": 1648877,
            "_view_count": null,
            "_view_module_version": "1.5.0",
            "orientation": "horizontal",
            "min": 0,
            "description_tooltip": null,
            "_model_module": "@jupyter-widgets/controls",
            "layout": "IPY_MODEL_e3609f57f8cd4609b85699439ae8480d"
          }
        },
        "5f46d062c441434882e8ae3e0a35eb63": {
          "model_module": "@jupyter-widgets/controls",
          "model_name": "HTMLModel",
          "state": {
            "_view_name": "HTMLView",
            "style": "IPY_MODEL_5861ef24fd3c40df85d773a816371ff8",
            "_dom_classes": [],
            "description": "",
            "_model_name": "HTMLModel",
            "placeholder": "​",
            "_view_module": "@jupyter-widgets/controls",
            "_model_module_version": "1.5.0",
            "value": " 1649664/? [01:28&lt;00:00, 18673.79it/s]",
            "_view_count": null,
            "_view_module_version": "1.5.0",
            "description_tooltip": null,
            "_model_module": "@jupyter-widgets/controls",
            "layout": "IPY_MODEL_b43a4e7f7c0c43ed89146ab7c3c982cd"
          }
        },
        "c75b8ab87f534424a0df9bc570e723eb": {
          "model_module": "@jupyter-widgets/controls",
          "model_name": "ProgressStyleModel",
          "state": {
            "_view_name": "StyleView",
            "_model_name": "ProgressStyleModel",
            "description_width": "initial",
            "_view_module": "@jupyter-widgets/base",
            "_model_module_version": "1.5.0",
            "_view_count": null,
            "_view_module_version": "1.2.0",
            "bar_color": null,
            "_model_module": "@jupyter-widgets/controls"
          }
        },
        "e3609f57f8cd4609b85699439ae8480d": {
          "model_module": "@jupyter-widgets/base",
          "model_name": "LayoutModel",
          "state": {
            "_view_name": "LayoutView",
            "grid_template_rows": null,
            "right": null,
            "justify_content": null,
            "_view_module": "@jupyter-widgets/base",
            "overflow": null,
            "_model_module_version": "1.2.0",
            "_view_count": null,
            "flex_flow": null,
            "width": null,
            "min_width": null,
            "border": null,
            "align_items": null,
            "bottom": null,
            "_model_module": "@jupyter-widgets/base",
            "top": null,
            "grid_column": null,
            "overflow_y": null,
            "overflow_x": null,
            "grid_auto_flow": null,
            "grid_area": null,
            "grid_template_columns": null,
            "flex": null,
            "_model_name": "LayoutModel",
            "justify_items": null,
            "grid_row": null,
            "max_height": null,
            "align_content": null,
            "visibility": null,
            "align_self": null,
            "height": null,
            "min_height": null,
            "padding": null,
            "grid_auto_rows": null,
            "grid_gap": null,
            "max_width": null,
            "order": null,
            "_view_module_version": "1.2.0",
            "grid_template_areas": null,
            "object_position": null,
            "object_fit": null,
            "grid_auto_columns": null,
            "margin": null,
            "display": null,
            "left": null
          }
        },
        "5861ef24fd3c40df85d773a816371ff8": {
          "model_module": "@jupyter-widgets/controls",
          "model_name": "DescriptionStyleModel",
          "state": {
            "_view_name": "StyleView",
            "_model_name": "DescriptionStyleModel",
            "description_width": "",
            "_view_module": "@jupyter-widgets/base",
            "_model_module_version": "1.5.0",
            "_view_count": null,
            "_view_module_version": "1.2.0",
            "_model_module": "@jupyter-widgets/controls"
          }
        },
        "b43a4e7f7c0c43ed89146ab7c3c982cd": {
          "model_module": "@jupyter-widgets/base",
          "model_name": "LayoutModel",
          "state": {
            "_view_name": "LayoutView",
            "grid_template_rows": null,
            "right": null,
            "justify_content": null,
            "_view_module": "@jupyter-widgets/base",
            "overflow": null,
            "_model_module_version": "1.2.0",
            "_view_count": null,
            "flex_flow": null,
            "width": null,
            "min_width": null,
            "border": null,
            "align_items": null,
            "bottom": null,
            "_model_module": "@jupyter-widgets/base",
            "top": null,
            "grid_column": null,
            "overflow_y": null,
            "overflow_x": null,
            "grid_auto_flow": null,
            "grid_area": null,
            "grid_template_columns": null,
            "flex": null,
            "_model_name": "LayoutModel",
            "justify_items": null,
            "grid_row": null,
            "max_height": null,
            "align_content": null,
            "visibility": null,
            "align_self": null,
            "height": null,
            "min_height": null,
            "padding": null,
            "grid_auto_rows": null,
            "grid_gap": null,
            "max_width": null,
            "order": null,
            "_view_module_version": "1.2.0",
            "grid_template_areas": null,
            "object_position": null,
            "object_fit": null,
            "grid_auto_columns": null,
            "margin": null,
            "display": null,
            "left": null
          }
        },
        "08836a8f047f46f4b8d9e9a2510dab3a": {
          "model_module": "@jupyter-widgets/controls",
          "model_name": "HBoxModel",
          "state": {
            "_view_name": "HBoxView",
            "_dom_classes": [],
            "_model_name": "HBoxModel",
            "_view_module": "@jupyter-widgets/controls",
            "_model_module_version": "1.5.0",
            "_view_count": null,
            "_view_module_version": "1.5.0",
            "box_style": "",
            "layout": "IPY_MODEL_fdd62f0666c146109182abd9d2cb143a",
            "_model_module": "@jupyter-widgets/controls",
            "children": [
              "IPY_MODEL_b0199da3d6a24649ad4ec3d086c30e87",
              "IPY_MODEL_5f78b6d2c2184c24bb6d62d486de068c"
            ]
          }
        },
        "fdd62f0666c146109182abd9d2cb143a": {
          "model_module": "@jupyter-widgets/base",
          "model_name": "LayoutModel",
          "state": {
            "_view_name": "LayoutView",
            "grid_template_rows": null,
            "right": null,
            "justify_content": null,
            "_view_module": "@jupyter-widgets/base",
            "overflow": null,
            "_model_module_version": "1.2.0",
            "_view_count": null,
            "flex_flow": null,
            "width": null,
            "min_width": null,
            "border": null,
            "align_items": null,
            "bottom": null,
            "_model_module": "@jupyter-widgets/base",
            "top": null,
            "grid_column": null,
            "overflow_y": null,
            "overflow_x": null,
            "grid_auto_flow": null,
            "grid_area": null,
            "grid_template_columns": null,
            "flex": null,
            "_model_name": "LayoutModel",
            "justify_items": null,
            "grid_row": null,
            "max_height": null,
            "align_content": null,
            "visibility": null,
            "align_self": null,
            "height": null,
            "min_height": null,
            "padding": null,
            "grid_auto_rows": null,
            "grid_gap": null,
            "max_width": null,
            "order": null,
            "_view_module_version": "1.2.0",
            "grid_template_areas": null,
            "object_position": null,
            "object_fit": null,
            "grid_auto_columns": null,
            "margin": null,
            "display": null,
            "left": null
          }
        },
        "b0199da3d6a24649ad4ec3d086c30e87": {
          "model_module": "@jupyter-widgets/controls",
          "model_name": "FloatProgressModel",
          "state": {
            "_view_name": "ProgressView",
            "style": "IPY_MODEL_6c21485c9daf4ebf98cc591691261715",
            "_dom_classes": [],
            "description": "",
            "_model_name": "FloatProgressModel",
            "bar_style": "success",
            "max": 4542,
            "_view_module": "@jupyter-widgets/controls",
            "_model_module_version": "1.5.0",
            "value": 4542,
            "_view_count": null,
            "_view_module_version": "1.5.0",
            "orientation": "horizontal",
            "min": 0,
            "description_tooltip": null,
            "_model_module": "@jupyter-widgets/controls",
            "layout": "IPY_MODEL_66b3cfce0c3b43e595ff5dd9a3773453"
          }
        },
        "5f78b6d2c2184c24bb6d62d486de068c": {
          "model_module": "@jupyter-widgets/controls",
          "model_name": "HTMLModel",
          "state": {
            "_view_name": "HTMLView",
            "style": "IPY_MODEL_8faa2b14fc4f46789b246c4a6cbc8681",
            "_dom_classes": [],
            "description": "",
            "_model_name": "HTMLModel",
            "placeholder": "​",
            "_view_module": "@jupyter-widgets/controls",
            "_model_module_version": "1.5.0",
            "value": " 5120/? [01:17&lt;00:00, 65.91it/s]",
            "_view_count": null,
            "_view_module_version": "1.5.0",
            "description_tooltip": null,
            "_model_module": "@jupyter-widgets/controls",
            "layout": "IPY_MODEL_07dbf541fd2f4719bbcc9e517036634d"
          }
        },
        "6c21485c9daf4ebf98cc591691261715": {
          "model_module": "@jupyter-widgets/controls",
          "model_name": "ProgressStyleModel",
          "state": {
            "_view_name": "StyleView",
            "_model_name": "ProgressStyleModel",
            "description_width": "initial",
            "_view_module": "@jupyter-widgets/base",
            "_model_module_version": "1.5.0",
            "_view_count": null,
            "_view_module_version": "1.2.0",
            "bar_color": null,
            "_model_module": "@jupyter-widgets/controls"
          }
        },
        "66b3cfce0c3b43e595ff5dd9a3773453": {
          "model_module": "@jupyter-widgets/base",
          "model_name": "LayoutModel",
          "state": {
            "_view_name": "LayoutView",
            "grid_template_rows": null,
            "right": null,
            "justify_content": null,
            "_view_module": "@jupyter-widgets/base",
            "overflow": null,
            "_model_module_version": "1.2.0",
            "_view_count": null,
            "flex_flow": null,
            "width": null,
            "min_width": null,
            "border": null,
            "align_items": null,
            "bottom": null,
            "_model_module": "@jupyter-widgets/base",
            "top": null,
            "grid_column": null,
            "overflow_y": null,
            "overflow_x": null,
            "grid_auto_flow": null,
            "grid_area": null,
            "grid_template_columns": null,
            "flex": null,
            "_model_name": "LayoutModel",
            "justify_items": null,
            "grid_row": null,
            "max_height": null,
            "align_content": null,
            "visibility": null,
            "align_self": null,
            "height": null,
            "min_height": null,
            "padding": null,
            "grid_auto_rows": null,
            "grid_gap": null,
            "max_width": null,
            "order": null,
            "_view_module_version": "1.2.0",
            "grid_template_areas": null,
            "object_position": null,
            "object_fit": null,
            "grid_auto_columns": null,
            "margin": null,
            "display": null,
            "left": null
          }
        },
        "8faa2b14fc4f46789b246c4a6cbc8681": {
          "model_module": "@jupyter-widgets/controls",
          "model_name": "DescriptionStyleModel",
          "state": {
            "_view_name": "StyleView",
            "_model_name": "DescriptionStyleModel",
            "description_width": "",
            "_view_module": "@jupyter-widgets/base",
            "_model_module_version": "1.5.0",
            "_view_count": null,
            "_view_module_version": "1.2.0",
            "_model_module": "@jupyter-widgets/controls"
          }
        },
        "07dbf541fd2f4719bbcc9e517036634d": {
          "model_module": "@jupyter-widgets/base",
          "model_name": "LayoutModel",
          "state": {
            "_view_name": "LayoutView",
            "grid_template_rows": null,
            "right": null,
            "justify_content": null,
            "_view_module": "@jupyter-widgets/base",
            "overflow": null,
            "_model_module_version": "1.2.0",
            "_view_count": null,
            "flex_flow": null,
            "width": null,
            "min_width": null,
            "border": null,
            "align_items": null,
            "bottom": null,
            "_model_module": "@jupyter-widgets/base",
            "top": null,
            "grid_column": null,
            "overflow_y": null,
            "overflow_x": null,
            "grid_auto_flow": null,
            "grid_area": null,
            "grid_template_columns": null,
            "flex": null,
            "_model_name": "LayoutModel",
            "justify_items": null,
            "grid_row": null,
            "max_height": null,
            "align_content": null,
            "visibility": null,
            "align_self": null,
            "height": null,
            "min_height": null,
            "padding": null,
            "grid_auto_rows": null,
            "grid_gap": null,
            "max_width": null,
            "order": null,
            "_view_module_version": "1.2.0",
            "grid_template_areas": null,
            "object_position": null,
            "object_fit": null,
            "grid_auto_columns": null,
            "margin": null,
            "display": null,
            "left": null
          }
        }
      }
    }
  },
  "cells": [
    {
      "cell_type": "markdown",
      "metadata": {
        "id": "view-in-github",
        "colab_type": "text"
      },
      "source": [
        "<a href=\"https://colab.research.google.com/github/probml/pyprobml/blob/master/book1/supplements/cnn_cifar_pytorch.ipynb\" target=\"_parent\"><img src=\"https://colab.research.google.com/assets/colab-badge.svg\" alt=\"Open In Colab\"/></a>"
      ]
    },
    {
      "cell_type": "markdown",
      "metadata": {
        "id": "wwEzgnhWgIVr"
      },
      "source": [
        "\n",
        "# CNN for image classification using PyTorch\n",
        "\n",
        "In this section, we follow Chap. 8 of the [Deep Learning With PyTorch](https://pytorch.org/assets/deep-learning/Deep-Learning-with-PyTorch.pdf) book, and illustrate how to fit a CNN to a two-class version of CIFAR. We modify the code from [here](https://github.com/deep-learning-with-pytorch/dlwpt-code/blob/master/p1ch8/1_convolution.ipynb)\n"
      ]
    },
    {
      "cell_type": "code",
      "metadata": {
        "id": "RtO_TmeDgRUp"
      },
      "source": [
        "import numpy as np\n",
        "import matplotlib.pyplot as plt\n",
        "import itertools\n",
        "import time\n",
        "from functools import partial\n",
        "import os\n",
        "import collections\n",
        "\n"
      ],
      "execution_count": 1,
      "outputs": []
    },
    {
      "cell_type": "code",
      "metadata": {
        "colab": {
          "base_uri": "https://localhost:8080/"
        },
        "id": "wTzpnH_bgjD_",
        "outputId": "5d00f8b1-85a7-4ac9-912b-78e34d02bd84"
      },
      "source": [
        "\n",
        "import torch\n",
        "import torch.nn as nn\n",
        "import torch.nn.functional as F\n",
        "import torch.optim as optim\n",
        "import torchvision\n",
        "\n",
        "print(\"torch version {}\".format(torch.__version__))\n",
        "if torch.cuda.is_available():\n",
        "  print(torch.cuda.get_device_name(0))\n",
        "  print(\"current device {}\".format(torch.cuda.current_device()))\n",
        "else:\n",
        "  print(\"Torch cannot find GPU\")\n",
        "\n",
        "use_cuda = torch.cuda.is_available()\n",
        "device = torch.device(\"cuda:0\" if use_cuda else \"cpu\")\n"
      ],
      "execution_count": 2,
      "outputs": [
        {
          "output_type": "stream",
          "text": [
            "torch version 1.8.0+cu101\n",
            "Tesla P100-PCIE-16GB\n",
            "current device 0\n"
          ],
          "name": "stdout"
        }
      ]
    },
    {
      "cell_type": "code",
      "metadata": {
        "id": "ePXi5pgOvzcf"
      },
      "source": [
        "\n",
        "def set_seed(seed):\n",
        "  np.random.seed(seed)\n",
        "  torch.manual_seed(seed)\n",
        "  torch.cuda.manual_seed_all(seed)"
      ],
      "execution_count": 21,
      "outputs": []
    },
    {
      "cell_type": "markdown",
      "metadata": {
        "id": "I-OIHr6Ahgdj"
      },
      "source": [
        "# Get the data\n",
        "\n",
        "We standardize the data. (The mean/std of the RGB channels are precomputed in the MLP version of this colab.)\n"
      ]
    },
    {
      "cell_type": "code",
      "metadata": {
        "colab": {
          "base_uri": "https://localhost:8080/",
          "height": 117,
          "referenced_widgets": [
            "8ffa87f9b83f4decabddedc7b11b42d1",
            "64d2f5290589473bb799f9745a591c25",
            "f8c0fc1c00c442b2b6d89bb34141afb3",
            "094ba7067c6f4fedb1a79fe59ee81cca",
            "3a0040c40cd34465ac9f790332b71542",
            "809c869b098b42fc898afacb83c53e91",
            "1f88cab621f541bf825acda9acf1df42",
            "717fa68813bc459584b0ed360f94d2a5"
          ]
        },
        "id": "rJkOHhx8hnAy",
        "outputId": "f6888f6c-796e-4ab1-9c1b-c6a2cfba0481"
      },
      "source": [
        "class_names = ['airplane','automobile','bird','cat','deer',\n",
        "               'dog','frog','horse','ship','truck']\n",
        "\n",
        "from torchvision import datasets, transforms\n",
        "data_path = 'data'\n",
        "cifar10 = datasets.CIFAR10(\n",
        "    data_path, train=True, download=True,\n",
        "    transform=transforms.Compose([\n",
        "        transforms.ToTensor(),\n",
        "        transforms.Normalize((0.4915, 0.4823, 0.4468),\n",
        "                             (0.2470, 0.2435, 0.2616))\n",
        "    ]))\n",
        "\n",
        "cifar10_val = datasets.CIFAR10(\n",
        "    data_path, train=False, download=True,\n",
        "    transform=transforms.Compose([\n",
        "        transforms.ToTensor(),\n",
        "        transforms.Normalize((0.4915, 0.4823, 0.4468),\n",
        "                             (0.2470, 0.2435, 0.2616))\n",
        "    ]))"
      ],
      "execution_count": 3,
      "outputs": [
        {
          "output_type": "stream",
          "text": [
            "Downloading https://www.cs.toronto.edu/~kriz/cifar-10-python.tar.gz to data/cifar-10-python.tar.gz\n"
          ],
          "name": "stdout"
        },
        {
          "output_type": "display_data",
          "data": {
            "application/vnd.jupyter.widget-view+json": {
              "model_id": "8ffa87f9b83f4decabddedc7b11b42d1",
              "version_minor": 0,
              "version_major": 2
            },
            "text/plain": [
              "HBox(children=(FloatProgress(value=0.0, max=170498071.0), HTML(value='')))"
            ]
          },
          "metadata": {
            "tags": []
          }
        },
        {
          "output_type": "stream",
          "text": [
            "\n",
            "Extracting data/cifar-10-python.tar.gz to data\n",
            "Files already downloaded and verified\n"
          ],
          "name": "stdout"
        }
      ]
    },
    {
      "cell_type": "code",
      "metadata": {
        "id": "iqZRbS5Ih9pN"
      },
      "source": [
        "label_map = {0: 0, 2: 1}\n",
        "class_names = ['plane', 'bird']\n",
        "nclasses = 2\n",
        "cifar2 = [(img, label_map[label])\n",
        "          for img, label in cifar10\n",
        "          if label in [0, 2]]\n",
        "cifar2_val = [(img, label_map[label])\n",
        "              for img, label in cifar10_val\n",
        "              if label in [0, 2]]"
      ],
      "execution_count": 4,
      "outputs": []
    },
    {
      "cell_type": "markdown",
      "metadata": {
        "id": "YNUUJrQugmNE"
      },
      "source": [
        "# Basics of convolution\n",
        "\n",
        "Lets apply a set of `nfeatures` convolutional kernels to a gray scale image."
      ]
    },
    {
      "cell_type": "code",
      "metadata": {
        "colab": {
          "base_uri": "https://localhost:8080/"
        },
        "id": "DXyymfW-gjXf",
        "outputId": "d4146b17-693a-462e-d35d-3aaac25e85c1"
      },
      "source": [
        "img, label = cifar2[0]\n",
        "img_t  = img.unsqueeze(0)\n",
        "print(img_t.shape)\n",
        "\n",
        "nfeatures = 16\n",
        "kernel_size = 3\n",
        "conv = nn.Conv2d(3, nfeatures, kernel_size=kernel_size) \n",
        "output = conv(img_t)\n",
        "print(output.shape)\n"
      ],
      "execution_count": 32,
      "outputs": [
        {
          "output_type": "stream",
          "text": [
            "torch.Size([1, 3, 32, 32])\n",
            "torch.Size([1, 16, 30, 30])\n"
          ],
          "name": "stdout"
        }
      ]
    },
    {
      "cell_type": "markdown",
      "metadata": {
        "id": "CbnqS7Cui9Kt"
      },
      "source": [
        "Now we adding padding to ensure output size is same as input."
      ]
    },
    {
      "cell_type": "code",
      "metadata": {
        "colab": {
          "base_uri": "https://localhost:8080/"
        },
        "id": "GLCDqJ03i03q",
        "outputId": "8eece124-fd12-41d2-e106-5b2a3b13118d"
      },
      "source": [
        "nfeatures = 16\n",
        "kernel_size = 3\n",
        "pad = kernel_size // 2\n",
        "conv = nn.Conv2d(3, nfeatures, kernel_size=kernel_size, padding=pad) \n",
        "\n",
        "output = conv(img_t)\n",
        "print(output.shape)"
      ],
      "execution_count": 33,
      "outputs": [
        {
          "output_type": "stream",
          "text": [
            "torch.Size([1, 16, 32, 32])\n"
          ],
          "name": "stdout"
        }
      ]
    },
    {
      "cell_type": "code",
      "metadata": {
        "colab": {
          "base_uri": "https://localhost:8080/",
          "height": 216
        },
        "id": "IbnKy4jHmQTG",
        "outputId": "54a374f7-3f12-4e5f-d2f1-c6b4b351b846"
      },
      "source": [
        "def show_results(img_batch, output_batch, index=0, channel=0):\n",
        "  ax1 = plt.subplot(1, 2, 1)  \n",
        "  img = img_batch[index] \n",
        "  plt.imshow(img.mean(0), cmap='gray')  \n",
        "  plt.title('input')   \n",
        "  plt.subplot(1, 2, 2) #, sharex=ax1, sharey=ax1) \n",
        "  plt.title('output')   \n",
        "  out = output_batch[index, channel]\n",
        "  plt.imshow(out.detach(), cmap='gray')\n",
        "  plt.show()\n",
        "\n",
        "show_results(img_t, output)"
      ],
      "execution_count": 34,
      "outputs": [
        {
          "output_type": "display_data",
          "data": {
            "image/png": "[encoded data removed]",
            "text/plain": [
              "<Figure size 432x288 with 2 Axes>"
            ]
          },
          "metadata": {
            "tags": [],
            "needs_background": "light"
          }
        }
      ]
    },
    {
      "cell_type": "markdown",
      "metadata": {
        "id": "JVVXo_IOn6fV"
      },
      "source": [
        "Currently the filter parameters are random."
      ]
    },
    {
      "cell_type": "code",
      "metadata": {
        "colab": {
          "base_uri": "https://localhost:8080/"
        },
        "id": "LZq-NEKKn9o3",
        "outputId": "c2691cdc-349c-4d22-bc63-2b997d812919"
      },
      "source": [
        "print(conv)\n",
        "print(conv.weight.shape) # nfeatures x nchannels x kernel x kernel\n",
        "print(conv.bias.shape) # nfeatures \n",
        "print(conv.weight[0,:,:,:])"
      ],
      "execution_count": 35,
      "outputs": [
        {
          "output_type": "stream",
          "text": [
            "Conv2d(3, 16, kernel_size=(3, 3), stride=(1, 1), padding=(1, 1))\n",
            "torch.Size([16, 3, 3, 3])\n",
            "torch.Size([16])\n",
            "tensor([[[-0.1058,  0.0373, -0.1809],\n",
            "         [-0.1409,  0.0590,  0.1684],\n",
            "         [ 0.1271,  0.1002,  0.0951]],\n",
            "\n",
            "        [[-0.1837,  0.0583, -0.0172],\n",
            "         [ 0.1736, -0.0064, -0.1365],\n",
            "         [-0.1089, -0.0310,  0.0804]],\n",
            "\n",
            "        [[ 0.1745, -0.1209, -0.1577],\n",
            "         [-0.0519,  0.0920,  0.1084],\n",
            "         [-0.1184, -0.0044,  0.0039]]], grad_fn=<SliceBackward>)\n"
          ],
          "name": "stdout"
        }
      ]
    },
    {
      "cell_type": "markdown",
      "metadata": {
        "id": "Sgu8ZdFOnKhH"
      },
      "source": [
        "Let's make the first filter just be an averaging operation."
      ]
    },
    {
      "cell_type": "code",
      "metadata": {
        "colab": {
          "base_uri": "https://localhost:8080/",
          "height": 403
        },
        "id": "RMEzbPVImrGc",
        "outputId": "0d426a8a-c73f-45f2-df39-0b3e8a08575f"
      },
      "source": [
        "\n",
        "with torch.no_grad():\n",
        "    conv.bias.zero_()\n",
        "    \n",
        "with torch.no_grad():\n",
        "    conv.weight.fill_(1.0 / 9.0)\n",
        "print(conv.weight[0,:,:,:])\n",
        "\n",
        "output = conv(img_t)\n",
        "show_results(img_t, output)"
      ],
      "execution_count": 36,
      "outputs": [
        {
          "output_type": "stream",
          "text": [
            "tensor([[[0.1111, 0.1111, 0.1111],\n",
            "         [0.1111, 0.1111, 0.1111],\n",
            "         [0.1111, 0.1111, 0.1111]],\n",
            "\n",
            "        [[0.1111, 0.1111, 0.1111],\n",
            "         [0.1111, 0.1111, 0.1111],\n",
            "         [0.1111, 0.1111, 0.1111]],\n",
            "\n",
            "        [[0.1111, 0.1111, 0.1111],\n",
            "         [0.1111, 0.1111, 0.1111],\n",
            "         [0.1111, 0.1111, 0.1111]]], grad_fn=<SliceBackward>)\n"
          ],
          "name": "stdout"
        },
        {
          "output_type": "display_data",
          "data": {
            "image/png": "[encoded data removed]",
            "text/plain": [
              "<Figure size 432x288 with 2 Axes>"
            ]
          },
          "metadata": {
            "tags": [],
            "needs_background": "light"
          }
        }
      ]
    },
    {
      "cell_type": "markdown",
      "metadata": {
        "id": "2nDkp2_2oIEg"
      },
      "source": [
        "Let's make the first filter be a vertical edge detector."
      ]
    },
    {
      "cell_type": "code",
      "metadata": {
        "colab": {
          "base_uri": "https://localhost:8080/",
          "height": 216
        },
        "id": "0jFq8d13nfdx",
        "outputId": "60cd9994-7d0e-4eef-9930-96b1580af73a"
      },
      "source": [
        "\n",
        "conv = nn.Conv2d(3, 1, kernel_size=3, padding=1)\n",
        "\n",
        "with torch.no_grad():\n",
        "    conv.weight[:] = torch.tensor([[-1.0, 0.0, 1.0],\n",
        "                                   [-1.0, 0.0, 1.0],\n",
        "                                   [-1.0, 0.0, 1.0]])\n",
        "    conv.bias.zero_()\n",
        "\n",
        "output = conv(img_t)\n",
        "show_results(img_t, output)"
      ],
      "execution_count": 37,
      "outputs": [
        {
          "output_type": "display_data",
          "data": {
            "image/png": "[encoded data removed]",
            "text/plain": [
              "<Figure size 432x288 with 2 Axes>"
            ]
          },
          "metadata": {
            "tags": [],
            "needs_background": "light"
          }
        }
      ]
    },
    {
      "cell_type": "markdown",
      "metadata": {
        "id": "Hna7FLWDpdey"
      },
      "source": [
        "# Max-pooling\n",
        "\n",
        "We can reduce the size of the internal feature maps by using max-pooling."
      ]
    },
    {
      "cell_type": "code",
      "metadata": {
        "colab": {
          "base_uri": "https://localhost:8080/",
          "height": 233
        },
        "id": "3g4_2jqEoTuB",
        "outputId": "610d4668-0dcb-46be-8f36-d63b3a716524"
      },
      "source": [
        "pool = nn.MaxPool2d(2)\n",
        "output = pool(img_t)\n",
        "print(output.shape)\n",
        "\n",
        "show_results(img_t, output)"
      ],
      "execution_count": 38,
      "outputs": [
        {
          "output_type": "stream",
          "text": [
            "torch.Size([1, 3, 16, 16])\n"
          ],
          "name": "stdout"
        },
        {
          "output_type": "display_data",
          "data": {
            "image/png": "[encoded data removed]",
            "text/plain": [
              "<Figure size 432x288 with 2 Axes>"
            ]
          },
          "metadata": {
            "tags": [],
            "needs_background": "light"
          }
        }
      ]
    },
    {
      "cell_type": "markdown",
      "metadata": {
        "id": "PkA_bONKrA0x"
      },
      "source": [
        "# Making our first CNN"
      ]
    },
    {
      "cell_type": "code",
      "metadata": {
        "colab": {
          "base_uri": "https://localhost:8080/"
        },
        "id": "p-j2s3Y5q0jC",
        "outputId": "63cca1c3-ec98-4ad6-a8b2-6c86919a17b8"
      },
      "source": [
        "import torch.nn.functional as F\n",
        "\n",
        "class Net(nn.Module):\n",
        "    def __init__(self, nclasses, img, nchans1=16, nhidden=32):\n",
        "        super().__init__()\n",
        "        nchannels, nrows, ncols = img.shape\n",
        "        self.nchans1 = nchans1\n",
        "        self.nchans2 = nchans1//2\n",
        "        self.nhidden = nhidden\n",
        "        self.nclasses = nclasses\n",
        "        self.conv1 = nn.Conv2d(nchannels, self.nchans1, kernel_size=3, padding=1)\n",
        "        self.conv2 = nn.Conv2d(nchans1, self.nchans2, kernel_size=3, padding=1)\n",
        "        # size of input to fc1 will be  8 * nrows/4 * ncols/4, \n",
        "        # We divide by 4 since we apply 2 maxpooling layers with size 2\n",
        "        # For a 32x32 image, this becomes 8x8 times 8 channnels.\n",
        "        self.nflat = nrows//4 * ncols//4\n",
        "        self.fc1 = nn.Linear(self.nchans2 * self.nflat, self.nhidden)\n",
        "        self.fc2 = nn.Linear(self.nhidden, self.nclasses)\n",
        "        \n",
        "    def forward(self, x):\n",
        "        out = F.max_pool2d(torch.tanh(self.conv1(x)), 2)\n",
        "        out = F.max_pool2d(torch.tanh(self.conv2(out)), 2)\n",
        "        out = out.view(-1, self.nchans2 * self.nflat)\n",
        "        out = torch.tanh(self.fc1(out))\n",
        "        out = self.fc2(out)\n",
        "        return out\n",
        "\n",
        "set_seed(0)\n",
        "img_batch = img_t.to(device=device)\n",
        "model = Net(nclasses, img_batch[0]).to(device=device)\n",
        "out_batch = model(img_batch)\n",
        "print(out_batch.shape)\n",
        "print(out_batch)\n"
      ],
      "execution_count": 86,
      "outputs": [
        {
          "output_type": "stream",
          "text": [
            "torch.Size([1, 10])\n",
            "tensor([[ 0.1466, -0.1393,  0.1252,  0.1701, -0.0367,  0.2073, -0.0655, -0.2038,\n",
            "          0.2444,  0.0490]], device='cuda:0', grad_fn=<AddmmBackward>)\n"
          ],
          "name": "stdout"
        }
      ]
    },
    {
      "cell_type": "markdown",
      "metadata": {
        "id": "78RzWsB3nF2o"
      },
      "source": [
        "# Training loop"
      ]
    },
    {
      "cell_type": "code",
      "metadata": {
        "id": "jnzRkdaLsOtm"
      },
      "source": [
        "import datetime  \n",
        "\n",
        "def training_loop(n_epochs, optimizer, model, loss_fn, train_loader, \n",
        "                  l2_regularizer=0, print_every=5):\n",
        "    for epoch in range(1, n_epochs + 1):  \n",
        "        loss_train = 0.0\n",
        "        for imgs, labels in train_loader: \n",
        "            imgs = imgs.to(device=device)\n",
        "            labels = labels.to(device=device)\n",
        "            outputs = model(imgs)  \n",
        "            loss = loss_fn(outputs, labels) \n",
        "\n",
        "            l2_norm = sum(p.pow(2.0).sum()\n",
        "                          for p in model.parameters())\n",
        "            loss = loss + l2_regularizer * l2_norm\n",
        "\n",
        "            optimizer.zero_grad()  \n",
        "            loss.backward()  \n",
        "            optimizer.step() \n",
        "            loss_train += loss.item() \n",
        "\n",
        "        if epoch == 1 or epoch % print_every == 0:\n",
        "            print('{} Epoch {}, Training loss {}'.format(\n",
        "                datetime.datetime.now(), epoch,\n",
        "                loss_train / len(train_loader)))  "
      ],
      "execution_count": 90,
      "outputs": []
    },
    {
      "cell_type": "code",
      "metadata": {
        "colab": {
          "base_uri": "https://localhost:8080/"
        },
        "id": "urZLNnYhnVNG",
        "outputId": "84581110-9fd7-4c7a-baac-b8290dc31547"
      },
      "source": [
        "\n",
        "train_loader = torch.utils.data.DataLoader(cifar2, batch_size=64,\n",
        "                                           shuffle=True)  \n",
        "\n",
        "model = Net(nclasses, img_batch[0]).to(device=device)\n",
        "optimizer = optim.SGD(model.parameters(), lr=1e-2)  \n",
        "loss_fn = nn.CrossEntropyLoss() \n",
        "\n",
        "training_loop(  \n",
        "    n_epochs = 50,\n",
        "    optimizer = optimizer,\n",
        "    model = model,\n",
        "    loss_fn = loss_fn,\n",
        "    train_loader = train_loader,\n",
        ")"
      ],
      "execution_count": 42,
      "outputs": [
        {
          "output_type": "stream",
          "text": [
            "2021-03-28 21:55:45.454476 Epoch 1, Training loss 0.5770701002922787\n",
            "2021-03-28 21:55:49.234000 Epoch 10, Training loss 0.3304970498867096\n",
            "2021-03-28 21:55:53.406244 Epoch 20, Training loss 0.29530569654741107\n",
            "2021-03-28 21:55:57.584638 Epoch 30, Training loss 0.2718532092062531\n",
            "2021-03-28 21:56:01.780303 Epoch 40, Training loss 0.2536234989003011\n",
            "2021-03-28 21:56:05.981223 Epoch 50, Training loss 0.23627873552832634\n"
          ],
          "name": "stdout"
        }
      ]
    },
    {
      "cell_type": "markdown",
      "metadata": {
        "id": "x4zPGA_XntHO"
      },
      "source": [
        "# Validation accuracy"
      ]
    },
    {
      "cell_type": "code",
      "metadata": {
        "colab": {
          "base_uri": "https://localhost:8080/"
        },
        "id": "weB--S4FnVcQ",
        "outputId": "8930c375-6cd5-4c23-a3ee-9e5ee731dacb"
      },
      "source": [
        "val_loader = torch.utils.data.DataLoader(cifar2_val, batch_size=64,\n",
        "                                         shuffle=False)\n",
        "\n",
        "def accuracy(model, loader):\n",
        "  correct = 0\n",
        "  total = 0\n",
        "  with torch.no_grad(): \n",
        "      for imgs, labels in loader:\n",
        "          imgs = imgs.to(device=device)\n",
        "          labels = labels.to(device=device)\n",
        "          outputs = model(imgs)\n",
        "          _, predicted = torch.max(outputs, dim=1) \n",
        "          total += labels.shape[0]  # batch size\n",
        "          correct += int((predicted == labels).sum())  \n",
        "  accuracy =  correct / total\n",
        "  return accuracy\n",
        "\n",
        "\n",
        "train_acc = accuracy(model, train_loader)\n",
        "val_acc = accuracy(model, val_loader)\n",
        "print([train_acc, val_acc])"
      ],
      "execution_count": 43,
      "outputs": [
        {
          "output_type": "stream",
          "text": [
            "[0.9033, 0.8865]\n"
          ],
          "name": "stdout"
        }
      ]
    },
    {
      "cell_type": "code",
      "metadata": {
        "colab": {
          "base_uri": "https://localhost:8080/"
        },
        "id": "j3ldjlvGuR2h",
        "outputId": "0e3e348e-7027-495a-9548-d9823bfd919a"
      },
      "source": [
        "# Apply the model to a minibatch\n",
        "set_seed(0)\n",
        "dataiter = iter(train_loader)\n",
        "img_batch, label_batch = dataiter.next()\n",
        "print(img_batch.shape)\n",
        "img_batch = img_batch.to(device=device)\n",
        "outputs = model(img_batch)\n",
        "_, predicted = torch.max(outputs, dim=1) \n"
      ],
      "execution_count": 44,
      "outputs": [
        {
          "output_type": "stream",
          "text": [
            "torch.Size([64, 3, 32, 32])\n"
          ],
          "name": "stdout"
        }
      ]
    },
    {
      "cell_type": "code",
      "metadata": {
        "colab": {
          "base_uri": "https://localhost:8080/",
          "height": 388
        },
        "id": "WlTmlw2tuonS",
        "outputId": "a4439d41-e160-4719-a123-fd973ace2b96"
      },
      "source": [
        "def imshow(img, ax):\n",
        "  #img = img / 2 + 0.5     # unnormalize from -1..1 to 0..1\n",
        "  npimg = img.cpu().numpy()\n",
        "  ax.imshow(np.transpose(npimg, (1,2,0)), interpolation='nearest')\n",
        "\n",
        "def plot_results(images, labels, pred_labels, nrows, ncols):\n",
        "  fig, axs = plt.subplots(nrows, ncols) \n",
        "  k = 0\n",
        "  for i in range(nrows):\n",
        "    for j in range(ncols):\n",
        "      ax = axs[i,j]\n",
        "      imshow(images[k], ax)\n",
        "      ttl = f'{class_names[labels[k]]}, est {class_names[pred_labels[k]]}'\n",
        "      ax.set_title(ttl, fontsize=8)\n",
        "      k += 1\n",
        "\n",
        "plot_results(img_batch, label_batch, predicted, 2,4)"
      ],
      "execution_count": 45,
      "outputs": [
        {
          "output_type": "stream",
          "text": [
            "Clipping input data to the valid range for imshow with RGB data ([0..1] for floats or [0..255] for integers).\n",
            "Clipping input data to the valid range for imshow with RGB data ([0..1] for floats or [0..255] for integers).\n",
            "Clipping input data to the valid range for imshow with RGB data ([0..1] for floats or [0..255] for integers).\n",
            "Clipping input data to the valid range for imshow with RGB data ([0..1] for floats or [0..255] for integers).\n",
            "Clipping input data to the valid range for imshow with RGB data ([0..1] for floats or [0..255] for integers).\n",
            "Clipping input data to the valid range for imshow with RGB data ([0..1] for floats or [0..255] for integers).\n",
            "Clipping input data to the valid range for imshow with RGB data ([0..1] for floats or [0..255] for integers).\n",
            "Clipping input data to the valid range for imshow with RGB data ([0..1] for floats or [0..255] for integers).\n"
          ],
          "name": "stderr"
        },
        {
          "output_type": "display_data",
          "data": {
            "image/png": "[encoded data removed]",
            "text/plain": [
              "<Figure size 432x288 with 8 Axes>"
            ]
          },
          "metadata": {
            "tags": [],
            "needs_background": "light"
          }
        }
      ]
    },
    {
      "cell_type": "markdown",
      "metadata": {
        "id": "CNy1PDlropBX"
      },
      "source": [
        "# Save/load model"
      ]
    },
    {
      "cell_type": "code",
      "metadata": {
        "id": "NfkpyYR3op6H"
      },
      "source": [
        "out = model(img_batch)\n",
        "fname = os.path.join(data_path, 'birds_vs_airplanes.pt')\n",
        "torch.save(model.state_dict(), fname)\n",
        "\n",
        "\n"
      ],
      "execution_count": 46,
      "outputs": []
    },
    {
      "cell_type": "code",
      "metadata": {
        "id": "6NONMXTDv_6I"
      },
      "source": [
        "\n",
        "loaded_model = Net(nclasses, img_batch[0]).to(device=device)\n",
        "loaded_model.load_state_dict(torch.load(fname, map_location=device))\n",
        "out2 = loaded_model(img_batch)\n",
        "torch.testing.assert_allclose(out, out2)"
      ],
      "execution_count": 47,
      "outputs": []
    },
    {
      "cell_type": "markdown",
      "metadata": {
        "id": "-BVLFB4V6JNn"
      },
      "source": [
        "# Dropout\n",
        "\n",
        "We can use dropout as a form of regularization. Let's see how it works for a single convolutional layer. We pass in a single image of size 1x3x32x32 and get back a tensor of size 1x10x16x16, where 10 is the number of filters we choose, and size 16 arises because we use maxpool of 2."
      ]
    },
    {
      "cell_type": "code",
      "metadata": {
        "colab": {
          "base_uri": "https://localhost:8080/",
          "height": 267
        },
        "id": "xJHxImyr6Sfv",
        "outputId": "20b3410a-bef3-4508-be8d-ed4894ea8eb2"
      },
      "source": [
        "\n",
        "\n",
        "class NetDropout(nn.Module):\n",
        "    def __init__(self, nclasses, img, nchans1=10, dropout_prob=0.4):\n",
        "        super().__init__()\n",
        "        nchannels, nrows, ncols = img.shape\n",
        "        self.conv1 = nn.Conv2d(nchannels, nchans1, kernel_size=3, padding=1)\n",
        "        self.conv1_dropout = nn.Dropout2d(dropout_prob)\n",
        "        \n",
        "    def forward(self, x):\n",
        "        out = F.max_pool2d(torch.tanh(self.conv1(x)), 2)\n",
        "        out = self.conv1_dropout(out)\n",
        "        return out\n",
        "\n",
        "set_seed(0)\n",
        "print(img_t.shape)\n",
        "img_batch = img_t.to(device=device) # single image\n",
        "model = NetDropout(nclasses, img_batch[0]).to(device=device)\n",
        "output = model(img_batch).cpu()\n",
        "print(output.shape)\n",
        "print(type(output))\n",
        "show_results(img_t, output)"
      ],
      "execution_count": 72,
      "outputs": [
        {
          "output_type": "stream",
          "text": [
            "torch.Size([1, 3, 32, 32])\n",
            "torch.Size([1, 10, 16, 16])\n",
            "<class 'torch.Tensor'>\n"
          ],
          "name": "stdout"
        },
        {
          "output_type": "display_data",
          "data": {
            "image/png": "[encoded data removed]",
            "text/plain": [
              "<Figure size 432x288 with 2 Axes>"
            ]
          },
          "metadata": {
            "tags": [],
            "needs_background": "light"
          }
        }
      ]
    },
    {
      "cell_type": "markdown",
      "metadata": {
        "id": "MrumaZWx7kiL"
      },
      "source": [
        "In training model, the model is stochastic."
      ]
    },
    {
      "cell_type": "code",
      "metadata": {
        "colab": {
          "base_uri": "https://localhost:8080/"
        },
        "id": "foZcp_iJ7niU",
        "outputId": "c6e484c3-c04a-4ab3-a7e1-930810337779"
      },
      "source": [
        "model.train()\n",
        "set_seed(0)\n",
        "out_batch1 = model(img_batch).detach().cpu().numpy()\n",
        "out_batch2 = model(img_batch).detach().cpu().numpy()\n",
        "np.allclose(out_batch1, out_batch2)"
      ],
      "execution_count": 73,
      "outputs": [
        {
          "output_type": "execute_result",
          "data": {
            "text/plain": [
              "False"
            ]
          },
          "metadata": {
            "tags": []
          },
          "execution_count": 73
        }
      ]
    },
    {
      "cell_type": "markdown",
      "metadata": {
        "id": "nw00sPpw72Tl"
      },
      "source": [
        "In testing model, the model is deterministic, since dropout is turned off.\n",
        "This is controlled by the fact that the dropout layer inherits state from the parent nn.Module."
      ]
    },
    {
      "cell_type": "code",
      "metadata": {
        "colab": {
          "base_uri": "https://localhost:8080/"
        },
        "id": "mJaqFXEe8ASC",
        "outputId": "24e5bb62-5858-47a3-a155-2ce6c8b1e78a"
      },
      "source": [
        "model.eval()\n",
        "set_seed(0)\n",
        "out_batch1 = model(img_batch).detach().cpu().numpy()\n",
        "out_batch2 = model(img_batch).detach().cpu().numpy()\n",
        "np.allclose(out_batch1, out_batch2)\n"
      ],
      "execution_count": 74,
      "outputs": [
        {
          "output_type": "execute_result",
          "data": {
            "text/plain": [
              "True"
            ]
          },
          "metadata": {
            "tags": []
          },
          "execution_count": 74
        }
      ]
    },
    {
      "cell_type": "markdown",
      "metadata": {
        "id": "uLNTRb_Cxv2o"
      },
      "source": [
        "# MNIST\n",
        "\n",
        "We've written the model definition to work with images with any number of input channels, including just 1 (i.e., gray-scale images). It can also handle any number of output classes. Let's check that it works on 10-class gray-scale MNIST.\n",
        "\n"
      ]
    },
    {
      "cell_type": "code",
      "metadata": {
        "colab": {
          "base_uri": "https://localhost:8080/",
          "height": 383,
          "referenced_widgets": [
            "d94dc1a1722d412486777816774d2d8d",
            "23f97b3ca11745ca86da99644f232422",
            "72b70df3a70a4eb99b8955a88d3d23d5",
            "55d3805aa7be4c7aabf3898838d8d02c",
            "97f44fecf5e14b9fbb240e0ebec6a64b",
            "9b810b90351e463ab05c79c8809a16d9",
            "0a4982b2eb73461cace57a6500dcafe7",
            "f5f235e3053642a1bb5d49d5a7f454b8",
            "f1a5938297014f72a35e375c543f2778",
            "ddfab70242d84a39ada141ad6435fe61",
            "0689fc9445db4711883a2d7318d927fb",
            "22605743ca9147ebbe9c670cbada3713",
            "453bf0a288a9499cb66b7f5d63d18f26",
            "b986f9012b7643d5b5d2240cbe4cff77",
            "18de83b1829646d0be71bf68583db6cb",
            "e30caf368bbf4da7b9feca8ca6fccdf3",
            "2476160c1873406f82a67c192c647eb5",
            "e93f832e09824741a34364253377d837",
            "699136ff86264a5db465cc458d0344c4",
            "5f46d062c441434882e8ae3e0a35eb63",
            "c75b8ab87f534424a0df9bc570e723eb",
            "e3609f57f8cd4609b85699439ae8480d",
            "5861ef24fd3c40df85d773a816371ff8",
            "b43a4e7f7c0c43ed89146ab7c3c982cd",
            "08836a8f047f46f4b8d9e9a2510dab3a",
            "fdd62f0666c146109182abd9d2cb143a",
            "b0199da3d6a24649ad4ec3d086c30e87",
            "5f78b6d2c2184c24bb6d62d486de068c",
            "6c21485c9daf4ebf98cc591691261715",
            "66b3cfce0c3b43e595ff5dd9a3773453",
            "8faa2b14fc4f46789b246c4a6cbc8681",
            "07dbf541fd2f4719bbcc9e517036634d"
          ]
        },
        "id": "c7NvlSml4AgD",
        "outputId": "7d1ead0c-0be1-4efa-f3a0-f4c3a7500ec1"
      },
      "source": [
        "# https://github.com/pytorch/examples/blob/master/mnist/main.py\n",
        "from torchvision import datasets, transforms\n",
        "data_path = 'data'\n",
        "transform=transforms.Compose([\n",
        "    transforms.ToTensor(),\n",
        "    transforms.Normalize((0.1307,), (0.3081,))\n",
        "    ])\n",
        "dataset1 = datasets.MNIST(data_path, train=True, download=True,\n",
        "                    transform=transform)\n",
        "dataset2 = datasets.MNIST(data_path, train=False,\n",
        "                    transform=transform)\n",
        "train_loader = torch.utils.data.DataLoader(dataset1)\n",
        "val_loader = torch.utils.data.DataLoader(dataset2)"
      ],
      "execution_count": 75,
      "outputs": [
        {
          "output_type": "stream",
          "text": [
            "Downloading http://yann.lecun.com/exdb/mnist/train-images-idx3-ubyte.gz to data/MNIST/raw/train-images-idx3-ubyte.gz\n"
          ],
          "name": "stdout"
        },
        {
          "output_type": "display_data",
          "data": {
            "application/vnd.jupyter.widget-view+json": {
              "model_id": "d94dc1a1722d412486777816774d2d8d",
              "version_minor": 0,
              "version_major": 2
            },
            "text/plain": [
              "HBox(children=(FloatProgress(value=0.0, max=9912422.0), HTML(value='')))"
            ]
          },
          "metadata": {
            "tags": []
          }
        },
        {
          "output_type": "stream",
          "text": [
            "\n",
            "Extracting data/MNIST/raw/train-images-idx3-ubyte.gz to data/MNIST/raw\n",
            "Downloading http://yann.lecun.com/exdb/mnist/train-labels-idx1-ubyte.gz to data/MNIST/raw/train-labels-idx1-ubyte.gz\n"
          ],
          "name": "stdout"
        },
        {
          "output_type": "display_data",
          "data": {
            "application/vnd.jupyter.widget-view+json": {
              "model_id": "f1a5938297014f72a35e375c543f2778",
              "version_minor": 0,
              "version_major": 2
            },
            "text/plain": [
              "HBox(children=(FloatProgress(value=0.0, max=28881.0), HTML(value='')))"
            ]
          },
          "metadata": {
            "tags": []
          }
        },
        {
          "output_type": "stream",
          "text": [
            "\n",
            "Extracting data/MNIST/raw/train-labels-idx1-ubyte.gz to data/MNIST/raw\n",
            "Downloading http://yann.lecun.com/exdb/mnist/t10k-images-idx3-ubyte.gz to data/MNIST/raw/t10k-images-idx3-ubyte.gz\n"
          ],
          "name": "stdout"
        },
        {
          "output_type": "display_data",
          "data": {
            "application/vnd.jupyter.widget-view+json": {
              "model_id": "2476160c1873406f82a67c192c647eb5",
              "version_minor": 0,
              "version_major": 2
            },
            "text/plain": [
              "HBox(children=(FloatProgress(value=0.0, max=1648877.0), HTML(value='')))"
            ]
          },
          "metadata": {
            "tags": []
          }
        },
        {
          "output_type": "stream",
          "text": [
            "\n",
            "Extracting data/MNIST/raw/t10k-images-idx3-ubyte.gz to data/MNIST/raw\n",
            "Downloading http://yann.lecun.com/exdb/mnist/t10k-labels-idx1-ubyte.gz to data/MNIST/raw/t10k-labels-idx1-ubyte.gz\n"
          ],
          "name": "stdout"
        },
        {
          "output_type": "display_data",
          "data": {
            "application/vnd.jupyter.widget-view+json": {
              "model_id": "08836a8f047f46f4b8d9e9a2510dab3a",
              "version_minor": 0,
              "version_major": 2
            },
            "text/plain": [
              "HBox(children=(FloatProgress(value=0.0, max=4542.0), HTML(value='')))"
            ]
          },
          "metadata": {
            "tags": []
          }
        },
        {
          "output_type": "stream",
          "text": [
            "\n",
            "Extracting data/MNIST/raw/t10k-labels-idx1-ubyte.gz to data/MNIST/raw\n",
            "Processing...\n",
            "Done!\n"
          ],
          "name": "stdout"
        }
      ]
    },
    {
      "cell_type": "code",
      "metadata": {
        "colab": {
          "base_uri": "https://localhost:8080/"
        },
        "id": "aP3sE_6l2dIo",
        "outputId": "15c1bf67-0ee9-41be-fa2c-6289267ae72c"
      },
      "source": [
        "set_seed(0)\n",
        "\n",
        "# Apply the (randomly initialized) model to a minibatch of size 1\n",
        "train_loader = torch.utils.data.DataLoader(dataset1, batch_size=1)\n",
        "dataiter = iter(train_loader)\n",
        "img_batch, label_batch = dataiter.next()\n",
        "img_batch = img_batch.to(device=device)\n",
        "print(img_batch.shape)\n",
        "\n",
        "nclasses = 10\n",
        "model = Net(nclasses, img_batch[0]).to(device=device)\n",
        "outputs = model(img_batch)\n",
        "print(outputs.shape)"
      ],
      "execution_count": 87,
      "outputs": [
        {
          "output_type": "stream",
          "text": [
            "torch.Size([1, 1, 28, 28])\n",
            "torch.Size([1, 10])\n"
          ],
          "name": "stdout"
        }
      ]
    },
    {
      "cell_type": "code",
      "metadata": {
        "colab": {
          "base_uri": "https://localhost:8080/"
        },
        "id": "qF5XLH4fCxRV",
        "outputId": "61ef2a8e-8c5c-4e2a-d2c0-4e511ef5b665"
      },
      "source": [
        "image_size = img_batch[0].shape\n",
        "nchannels, nrows, ncols = image_size\n",
        "print([nchannels, nrows, ncols])"
      ],
      "execution_count": 88,
      "outputs": [
        {
          "output_type": "stream",
          "text": [
            "[1, 28, 28]\n"
          ],
          "name": "stdout"
        }
      ]
    },
    {
      "cell_type": "code",
      "metadata": {
        "colab": {
          "base_uri": "https://localhost:8080/"
        },
        "id": "T8dWHuSGCGJX",
        "outputId": "346638a4-610f-459c-ccff-a50a3530ae5e"
      },
      "source": [
        "train_loader = torch.utils.data.DataLoader(dataset1, batch_size=64,\n",
        "                                           shuffle=True)  \n",
        "\n",
        "model = Net(nclasses, img_batch[0], nhidden=20).to(device=device)\n",
        "optimizer = optim.SGD(model.parameters(), lr=1e-2)  \n",
        "loss_fn = nn.CrossEntropyLoss() \n",
        "\n",
        "training_loop(  \n",
        "    n_epochs = 20,\n",
        "    optimizer = optimizer,\n",
        "    model = model,\n",
        "    loss_fn = loss_fn,\n",
        "    train_loader = train_loader,\n",
        "    print_every=1\n",
        ")"
      ],
      "execution_count": 91,
      "outputs": [
        {
          "output_type": "stream",
          "text": [
            "2021-03-28 23:12:32.413452 Epoch 1, Training loss 1.348366360865168\n",
            "2021-03-28 23:12:47.300725 Epoch 2, Training loss 0.5616921444437397\n",
            "2021-03-28 23:13:02.106452 Epoch 3, Training loss 0.39617641281280946\n",
            "2021-03-28 23:13:16.896062 Epoch 4, Training loss 0.32059357216808076\n",
            "2021-03-28 23:13:31.614771 Epoch 5, Training loss 0.26856143299990626\n",
            "2021-03-28 23:13:46.377483 Epoch 6, Training loss 0.22952063539738593\n",
            "2021-03-28 23:14:01.252976 Epoch 7, Training loss 0.20017906803407395\n",
            "2021-03-28 23:14:16.069047 Epoch 8, Training loss 0.1777344694666898\n",
            "2021-03-28 23:14:30.700300 Epoch 9, Training loss 0.15989948194751988\n",
            "2021-03-28 23:14:45.437307 Epoch 10, Training loss 0.14568282193990786\n",
            "2021-03-28 23:15:00.200467 Epoch 11, Training loss 0.13381109085640927\n",
            "2021-03-28 23:15:15.010119 Epoch 12, Training loss 0.12376804805315061\n",
            "2021-03-28 23:15:29.809214 Epoch 13, Training loss 0.11577249571943143\n",
            "2021-03-28 23:15:44.552620 Epoch 14, Training loss 0.10888972268032748\n",
            "2021-03-28 23:15:59.243147 Epoch 15, Training loss 0.1028667597004822\n",
            "2021-03-28 23:16:13.929543 Epoch 16, Training loss 0.09755562247037253\n",
            "2021-03-28 23:16:28.740428 Epoch 17, Training loss 0.09306973462074455\n",
            "2021-03-28 23:16:43.537006 Epoch 18, Training loss 0.08906044052647692\n",
            "2021-03-28 23:16:58.339293 Epoch 19, Training loss 0.08534367154958024\n",
            "2021-03-28 23:17:13.136699 Epoch 20, Training loss 0.08217107146672571\n"
          ],
          "name": "stdout"
        }
      ]
    },
    {
      "cell_type": "code",
      "metadata": {
        "colab": {
          "base_uri": "https://localhost:8080/"
        },
        "id": "gQOkNR7XFQFi",
        "outputId": "a48d74ee-4c6d-4d5c-9035-248d9c729c31"
      },
      "source": [
        "val_loader = torch.utils.data.DataLoader(dataset2, batch_size=64,\n",
        "                                           shuffle=True) \n",
        "\n",
        "train_acc = accuracy(model, train_loader)\n",
        "val_acc = accuracy(model, val_loader)\n",
        "print([train_acc, val_acc])"
      ],
      "execution_count": 92,
      "outputs": [
        {
          "output_type": "stream",
          "text": [
            "[0.9783333333333334, 0.9784]\n"
          ],
          "name": "stdout"
        }
      ]
    }
  ]
}
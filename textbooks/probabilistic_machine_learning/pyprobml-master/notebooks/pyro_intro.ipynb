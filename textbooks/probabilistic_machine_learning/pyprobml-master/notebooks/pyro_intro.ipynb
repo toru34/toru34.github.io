{
  "nbformat": 4,
  "nbformat_minor": 0,
  "metadata": {
    "colab": {
      "name": "pyro-intro.ipynb",
      "provenance": [],
      "toc_visible": true,
      "authorship_tag": "ABX9TyOcfbW0SPDi0oztDaEeBgUa",
      "include_colab_link": true
    },
    "kernelspec": {
      "name": "python3",
      "display_name": "Python 3"
    },
    "language_info": {
      "name": "python"
    }
  },
  "cells": [
    {
      "cell_type": "markdown",
      "metadata": {
        "id": "view-in-github",
        "colab_type": "text"
      },
      "source": [
        "<a href=\"https://colab.research.google.com/github/probml/pyprobml/blob/master/notebooks/pyro_intro.ipynb\" target=\"_parent\"><img src=\"https://colab.research.google.com/assets/colab-badge.svg\" alt=\"Open In Colab\"/></a>"
      ]
    },
    {
      "cell_type": "markdown",
      "metadata": {
        "id": "BGe00SEV5KTl"
      },
      "source": [
        "[Pyro](https://pyro.ai/) is a probabilistic programming system built on top of PyTorch. It supports posterior inference based on MCMC and stochastic variational inference; discrete latent variables can be marginalized out exactly using dynamic programmming."
      ]
    },
    {
      "cell_type": "code",
      "metadata": {
        "colab": {
          "base_uri": "https://localhost:8080/"
        },
        "id": "P_uM0GuF5ZWr",
        "outputId": "4cafba49-31b3-4fcb-d5e5-a151912d2224"
      },
      "source": [
        "!pip install pyro-ppl "
      ],
      "execution_count": 1,
      "outputs": [
        {
          "output_type": "stream",
          "text": [
            "Collecting pyro-ppl\n",
            "\u001b[?25l  Downloading https://files.pythonhosted.org/packages/aa/7a/fbab572fd385154a0c07b0fa138683aa52e14603bb83d37b198e5f9269b1/pyro_ppl-1.6.0-py3-none-any.whl (634kB)\n",
            "\u001b[K     |████████████████████████████████| 634kB 5.4MB/s \n",
            "\u001b[?25hRequirement already satisfied: torch>=1.8.0 in /usr/local/lib/python3.7/dist-packages (from pyro-ppl) (1.8.1+cu101)\n",
            "Collecting pyro-api>=0.1.1\n",
            "  Downloading https://files.pythonhosted.org/packages/fc/81/957ae78e6398460a7230b0eb9b8f1cb954c5e913e868e48d89324c68cec7/pyro_api-0.1.2-py3-none-any.whl\n",
            "Requirement already satisfied: numpy>=1.7 in /usr/local/lib/python3.7/dist-packages (from pyro-ppl) (1.19.5)\n",
            "Requirement already satisfied: tqdm>=4.36 in /usr/local/lib/python3.7/dist-packages (from pyro-ppl) (4.41.1)\n",
            "Requirement already satisfied: opt-einsum>=2.3.2 in /usr/local/lib/python3.7/dist-packages (from pyro-ppl) (3.3.0)\n",
            "Requirement already satisfied: typing-extensions in /usr/local/lib/python3.7/dist-packages (from torch>=1.8.0->pyro-ppl) (3.7.4.3)\n",
            "Installing collected packages: pyro-api, pyro-ppl\n",
            "Successfully installed pyro-api-0.1.2 pyro-ppl-1.6.0\n"
          ],
          "name": "stdout"
        }
      ]
    },
    {
      "cell_type": "code",
      "metadata": {
        "id": "3SBZ5Pmr5F0N"
      },
      "source": [
        "\n",
        "\n",
        "import matplotlib.pyplot as plt\n",
        "import numpy as np\n",
        "import torch\n",
        "\n",
        "import pyro\n",
        "import pyro.infer\n",
        "import pyro.optim\n",
        "import pyro.distributions as dist\n",
        "from torch.distributions import constraints\n",
        "from pyro.infer import MCMC, NUTS, Predictive, HMC\n",
        "from pyro.infer import SVI, Trace_ELBO\n",
        "from pyro.infer import EmpiricalMarginal\n",
        "\n",
        "from pyro.distributions import Beta, Binomial, HalfCauchy, Normal, Pareto, Uniform\n",
        "from pyro.distributions.util import scalar_like\n",
        "from pyro.infer.mcmc.util import initialize_model, summary\n",
        "from pyro.util import ignore_experimental_warning\n",
        "\n",
        "pyro.set_rng_seed(101)\n"
      ],
      "execution_count": 47,
      "outputs": []
    },
    {
      "cell_type": "markdown",
      "metadata": {
        "id": "FE8OW3Zd50Nn"
      },
      "source": [
        "# Example: inferring mean of 1d Gaussian .\n",
        "\n",
        "We use the simple example from the [Pyro intro](https://pyro.ai/examples/intro_part_ii.html#A-Simple-Example). The goal is to infer the weight $\\theta$ of an object, given noisy measurements $y$. We assume the following model:\n",
        "$$\n",
        "\\begin{align}\n",
        "\\theta &\\sim N(\\mu=8.5, \\tau^2=1.0)\\\\ \n",
        "y \\sim &N(\\theta, \\sigma^2=0.75^2)\n",
        "\\end{align}\n",
        "$$\n",
        "\n",
        "Where $\\mu=8.5$ is the initial guess. \n",
        "\n"
      ]
    },
    {
      "cell_type": "code",
      "metadata": {
        "id": "hYMFFGAMV0fW"
      },
      "source": [
        "\n",
        "def model(hparams, data=None):\n",
        "    prior_mean, prior_sd, obs_sd = hparams\n",
        "    theta = pyro.sample(\"theta\", dist.Normal(prior_mean, prior_sd))\n",
        "    y = pyro.sample(\"y\", dist.Normal(theta, obs_sd), obs=data)\n",
        "    return y"
      ],
      "execution_count": 110,
      "outputs": []
    },
    {
      "cell_type": "markdown",
      "metadata": {
        "id": "4511pkTB9GYC"
      },
      "source": [
        "## Exact inference\n",
        "\n",
        "By Bayes rule for Gaussians, we know that the exact posterior,\n",
        "given a single observation $y=9.5$, is given by\n",
        "\n",
        "\n",
        "$$\n",
        "\\begin{align}\n",
        "\\theta|y &\\sim N(m, s^s) \\\\\n",
        "m &=\\frac{\\sigma^2 \\mu + \\tau^2 y}{\\sigma^2 + \\tau^2} \n",
        "  = \\frac{0.75^2 \\times 8.5 + 1 \\times 9.5}{0.75^2 + 1^2}\n",
        "  = 9.14 \\\\\n",
        "s^2 &= \\frac{\\sigma^2 \\tau^2}{\\sigma^2  + \\tau^2} \n",
        "= \\frac{0.75^2 \\times 1^2}{0.75^2 + 1^2}= 0.6^2\n",
        "\\end{align}\n",
        "$$"
      ]
    },
    {
      "cell_type": "code",
      "metadata": {
        "colab": {
          "base_uri": "https://localhost:8080/"
        },
        "id": "qNZ4aNNj9M-2",
        "outputId": "2d2ee5cf-2dc1-49da-93fa-574577b812f8"
      },
      "source": [
        "mu = 8.5; tau = 1.0; sigma = 0.75; \n",
        "hparams = (mu, tau, sigma)\n",
        "\n",
        "y = 9.5\n",
        "m = (sigma**2 * mu + tau**2 * y)/(sigma**2 + tau**2) # posterior mean\n",
        "s2 = (sigma**2 * tau**2)/(sigma**2 + tau**2) # posterior variance\n",
        "s = np.sqrt(s2)\n",
        "print(m)\n",
        "print(s)"
      ],
      "execution_count": 93,
      "outputs": [
        {
          "output_type": "stream",
          "text": [
            "9.14\n",
            "0.6\n"
          ],
          "name": "stdout"
        }
      ]
    },
    {
      "cell_type": "markdown",
      "metadata": {
        "id": "tFIu6O-H8YFM"
      },
      "source": [
        "## Ancestral sampling"
      ]
    },
    {
      "cell_type": "code",
      "metadata": {
        "colab": {
          "base_uri": "https://localhost:8080/"
        },
        "id": "6dMY6oxJ8bEZ",
        "outputId": "3bb6bb9a-1793-4f92-aa9c-bbc4998064e0"
      },
      "source": [
        "def model2(hparams, data=None):\n",
        "    prior_mean, prior_sd, obs_sd = hparams\n",
        "    theta = pyro.sample(\"theta\", dist.Normal(prior_mean, prior_sd))\n",
        "    y = pyro.sample(\"y\", dist.Normal(theta, obs_sd), obs=data)\n",
        "    return theta, y\n",
        "\n",
        "for i in range(5):\n",
        "  theta, y = model2(hparams)\n",
        "  print([theta, y])\n"
      ],
      "execution_count": 68,
      "outputs": [
        {
          "output_type": "stream",
          "text": [
            "[tensor(9.1529), tensor(8.7116)]\n",
            "[tensor(8.7306), tensor(9.3978)]\n",
            "[tensor(9.0740), tensor(9.4240)]\n",
            "[tensor(7.3040), tensor(7.8569)]\n",
            "[tensor(7.8939), tensor(8.0257)]\n"
          ],
          "name": "stdout"
        }
      ]
    },
    {
      "cell_type": "markdown",
      "metadata": {
        "id": "r6ZtMB_cGhz4"
      },
      "source": [
        "## MCMC\n",
        "\n",
        "See [the documentation](http://docs.pyro.ai/en/stable/mcmc.html)\n"
      ]
    },
    {
      "cell_type": "code",
      "metadata": {
        "colab": {
          "base_uri": "https://localhost:8080/"
        },
        "id": "WQIhsROHH4uG",
        "outputId": "1ec3aa8e-dbdb-4f97-e626-21cb3f69c6e5"
      },
      "source": [
        "\n",
        "nuts_kernel = NUTS(model)\n",
        "obs = torch.tensor(y)\n",
        "mcmc = MCMC(nuts_kernel, num_samples=1000, warmup_steps=50)\n",
        "mcmc.run(hparams, obs)         \n",
        "print(type(mcmc))"
      ],
      "execution_count": 100,
      "outputs": [
        {
          "output_type": "stream",
          "text": [
            "Sample: 100%|██████████| 1050/1050 [00:03, 326.67it/s, step size=1.30e+00, acc. prob=0.880]"
          ],
          "name": "stderr"
        },
        {
          "output_type": "stream",
          "text": [
            "<class 'pyro.infer.mcmc.api.MCMC'>\n"
          ],
          "name": "stdout"
        },
        {
          "output_type": "stream",
          "text": [
            "\n"
          ],
          "name": "stderr"
        }
      ]
    },
    {
      "cell_type": "code",
      "metadata": {
        "colab": {
          "base_uri": "https://localhost:8080/"
        },
        "id": "K46LfO1rR-ty",
        "outputId": "ad6f1d3e-d8a3-4341-8fc7-93aec9c403a0"
      },
      "source": [
        "samples = mcmc.get_samples()\n",
        "print(type(samples))\n",
        "print(samples.keys())\n",
        "print(samples['theta'].shape)"
      ],
      "execution_count": 103,
      "outputs": [
        {
          "output_type": "stream",
          "text": [
            "<class 'dict'>\n",
            "dict_keys(['theta'])\n",
            "torch.Size([1000])\n"
          ],
          "name": "stdout"
        }
      ]
    },
    {
      "cell_type": "code",
      "metadata": {
        "colab": {
          "base_uri": "https://localhost:8080/"
        },
        "id": "E1go0L6Szh-f",
        "outputId": "1b34fe04-bc90-4366-ae88-630093ba5f40"
      },
      "source": [
        "mcmc.diagnostics()"
      ],
      "execution_count": 104,
      "outputs": [
        {
          "output_type": "execute_result",
          "data": {
            "text/plain": [
              "{'acceptance rate': {'chain 0': 0.924},\n",
              " 'divergences': {'chain 0': []},\n",
              " 'theta': OrderedDict([('n_eff', tensor(500.2368)),\n",
              "              ('r_hat', tensor(1.0050))])}"
            ]
          },
          "metadata": {
            "tags": []
          },
          "execution_count": 104
        }
      ]
    },
    {
      "cell_type": "code",
      "metadata": {
        "colab": {
          "base_uri": "https://localhost:8080/"
        },
        "id": "MPA4YwjaSrkp",
        "outputId": "5abaf70f-ac02-4165-be54-5610bb473471"
      },
      "source": [
        "thetas = samples['theta'].numpy()\n",
        "print(np.mean(thetas))\n",
        "print(np.std(thetas))"
      ],
      "execution_count": 105,
      "outputs": [
        {
          "output_type": "stream",
          "text": [
            "9.152181\n",
            "0.625822\n"
          ],
          "name": "stdout"
        }
      ]
    },
    {
      "cell_type": "markdown",
      "metadata": {
        "id": "sjobNAZt8cOv"
      },
      "source": [
        "##  Variational Inference\n",
        "\n",
        "See [the documentation](http://docs.pyro.ai/en/stable/inference_algos.html)\n",
        "\n",
        "\n",
        "\n",
        "\n"
      ]
    },
    {
      "cell_type": "markdown",
      "metadata": {
        "id": "_AVn8sW8GzLH"
      },
      "source": [
        "For the guide (approximate posterior), we use a [pytorch.distributions.normal](https://pytorch.org/docs/master/distributions.html#torch.distributions.normal.Normal)."
      ]
    },
    {
      "cell_type": "code",
      "metadata": {
        "colab": {
          "base_uri": "https://localhost:8080/",
          "height": 366
        },
        "id": "bNX2i6fB8jmB",
        "outputId": "31f8e8ec-724a-4299-f5cf-6c7c89d7b715"
      },
      "source": [
        "# the guide must have the same signature as the model\n",
        "def guide(hparams, data):\n",
        "  y = data\n",
        "  prior_mean, prior_sd, obs_sd = hparams\n",
        "  m = pyro.param(\"m\", torch.tensor(y)) # location\n",
        "  s = pyro.param(\"s\", torch.tensor(prior_sd), constraint=constraints.positive) # scale\n",
        "  return pyro.sample(\"theta\", dist.Normal(m, s))\n",
        "\n",
        "\n",
        "# initialize variational parameters\n",
        "pyro.clear_param_store()\n",
        "\n",
        "# set up the optimizer\n",
        "#optimizer = pyro.optim.Adam({\"lr\": 0.001, \"betas\": (0.90, 0.999)})\n",
        "optimizer = pyro.optim.SGD({\"lr\": 0.001, \"momentum\":0.1})\n",
        "\n",
        "# setup the inference algorithm\n",
        "svi = SVI(model, guide, optimizer, loss=Trace_ELBO())\n",
        "\n",
        "n_steps = 2000\n",
        "# do gradient steps\n",
        "obs = torch.tensor(y)\n",
        "loss_history, m_history, s_history  = [], [], []\n",
        "for t in range(num_steps):\n",
        "    loss_history.append(svi.step(hparams, obs))\n",
        "    m_history.append(pyro.param(\"m\").item())\n",
        "    s_history.append(pyro.param(\"s\").item())\n",
        "\n",
        "plt.plot(loss_history)\n",
        "plt.title(\"ELBO\")\n",
        "plt.xlabel(\"step\")\n",
        "plt.ylabel(\"loss\");\n",
        "\n",
        "post_mean = pyro.param(\"m\").item()\n",
        "post_std = pyro.param(\"s\").item()\n",
        "print([post_mean, post_std])\n"
      ],
      "execution_count": 60,
      "outputs": [
        {
          "output_type": "stream",
          "text": [
            "/usr/local/lib/python3.7/dist-packages/ipykernel_launcher.py:5: UserWarning: To copy construct from a tensor, it is recommended to use sourceTensor.clone().detach() or sourceTensor.clone().detach().requires_grad_(True), rather than torch.tensor(sourceTensor).\n",
            "  \"\"\"\n"
          ],
          "name": "stderr"
        },
        {
          "output_type": "stream",
          "text": [
            "[9.205821990966797, 0.6176195740699768]\n"
          ],
          "name": "stdout"
        },
        {
          "output_type": "display_data",
          "data": {
            "image/png": "[encoded data removed]",
            "text/plain": [
              "<Figure size 432x288 with 1 Axes>"
            ]
          },
          "metadata": {
            "tags": [],
            "needs_background": "light"
          }
        }
      ]
    },
    {
      "cell_type": "markdown",
      "metadata": {
        "id": "kUjGSy5y3Tcy"
      },
      "source": [
        "# Example: beta-bernoulli model\n",
        "\n",
        "Example is from [SVI tutorial](https://pyro.ai/examples/svi_part_i.html)\n",
        "\n",
        "The model is\n",
        "$$\n",
        "\\begin{align}\n",
        "\\theta &\\sim \\text{Beta}(\\alpha, \\beta) \\\\\n",
        "x_i &\\sim \\text{Ber}(\\theta)\n",
        "\\end{align}\n",
        "$$\n",
        "where $\\alpha=\\beta=10$. \n"
      ]
    },
    {
      "cell_type": "code",
      "metadata": {
        "id": "LFLetJ0hDUFS"
      },
      "source": [
        "alpha0 = 10.0\n",
        "beta0 = 10.0\n",
        "\n",
        "def model(data):\n",
        "    alpha0_tt = torch.tensor(alpha0)\n",
        "    beta0_tt = torch.tensor(beta0)\n",
        "    f = pyro.sample(\"theta\", dist.Beta(alpha0_tt, beta0_tt))\n",
        "    # loop over the observed data\n",
        "    for i in range(len(data)):\n",
        "        pyro.sample(\"obs_{}\".format(i), dist.Bernoulli(f), obs=data[i])\n",
        "\n",
        "\n",
        "def model_binom(data):\n",
        "    alpha0_tt = torch.tensor(alpha0)\n",
        "    beta0_tt = torch.tensor(beta0)\n",
        "    theta = pyro.sample(\"theta\", dist.Beta(alpha0_tt, beta0_tt))\n",
        "    data_np = [x.item() for x in data]\n",
        "    N = len(data_np)\n",
        "    N1 = np.sum(data_np)\n",
        "    N0 = N-N1\n",
        "    pyro.sample(\"obs\", dist.Binomial(N, theta))\n",
        " "
      ],
      "execution_count": 125,
      "outputs": []
    },
    {
      "cell_type": "code",
      "metadata": {
        "colab": {
          "base_uri": "https://localhost:8080/"
        },
        "id": "8vr9twVP5JZN",
        "outputId": "6ad208b9-f7f0-4b7e-98fa-9fa1dfa64368"
      },
      "source": [
        "# create some data with 6 observed heads and 4 observed tails\n",
        "data = []\n",
        "for _ in range(6):\n",
        "    data.append(torch.tensor(1.0))\n",
        "for _ in range(4):\n",
        "    data.append(torch.tensor(0.0))\n",
        "\n",
        "data_np = [x.item() for x in data]\n",
        "print(data)\n",
        "print(data_np)\n",
        "\n",
        "N = len(data_np)\n",
        "N1 = np.sum(data_np)\n",
        "N0 = N-N1\n",
        "print([N1, N0])\n",
        "\n"
      ],
      "execution_count": 124,
      "outputs": [
        {
          "output_type": "stream",
          "text": [
            "[tensor(1.), tensor(1.), tensor(1.), tensor(1.), tensor(1.), tensor(1.), tensor(0.), tensor(0.), tensor(0.), tensor(0.)]\n",
            "[1.0, 1.0, 1.0, 1.0, 1.0, 1.0, 0.0, 0.0, 0.0, 0.0]\n",
            "[6.0, 4.0]\n"
          ],
          "name": "stdout"
        }
      ]
    },
    {
      "cell_type": "code",
      "metadata": {
        "colab": {
          "base_uri": "https://localhost:8080/"
        },
        "id": "6Lz7luT0XK_0",
        "outputId": "3b7f13c7-f492-4f97-b5eb-fad6ff28d7ea"
      },
      "source": [
        ""
      ],
      "execution_count": 116,
      "outputs": [
        {
          "output_type": "stream",
          "text": [
            "[tensor(1.), tensor(1.), tensor(1.), tensor(1.), tensor(1.), tensor(1.), tensor(0.), tensor(0.), tensor(0.), tensor(0.)]\n",
            "[1.0, 1.0, 1.0, 1.0, 1.0, 1.0, 0.0, 0.0, 0.0, 0.0]\n"
          ],
          "name": "stdout"
        }
      ]
    },
    {
      "cell_type": "markdown",
      "metadata": {
        "id": "gRmA5WNW4OB2"
      },
      "source": [
        "## Exact inference\n",
        "\n",
        "The posterior is given by\n",
        "$$\n",
        "\\begin{align}\n",
        "\\theta &\\sim \\text{Ber}(\\alpha + N_1, \\beta  + N_0) \\\\\n",
        "N_1 &= \\sum_{i=1}^N [x_i=1] \\\\\n",
        "N_0 &= \\sum_{i=1}^N [x_i=0]\n",
        "\\end{align}\n",
        "$$\n"
      ]
    },
    {
      "cell_type": "code",
      "metadata": {
        "colab": {
          "base_uri": "https://localhost:8080/"
        },
        "id": "3jCN9q0q5nMa",
        "outputId": "0a4f4a1a-da9b-499d-b527-e0dc548d04d1"
      },
      "source": [
        "alpha1 = alpha0 + N1\n",
        "beta1 = beta0 + N0\n",
        "print('exact posterior: alpha={:0.3f}, beta={:0.3f}'.format(alpha1, beta1))\n",
        "post_mean = alpha1 / (alpha1 + beta1)\n",
        "post_var = (post_mean * beta1)/((alpha1 + beta1) * (alpha1 + beta1 + 1))\n",
        "post_std = np.sqrt(post_var)\n",
        "print([post_mean, post_std])\n",
        "\n"
      ],
      "execution_count": 91,
      "outputs": [
        {
          "output_type": "stream",
          "text": [
            "exact posterior: alpha=16.000, beta=14.000\n",
            "[0.5333333333333333, 0.08960286733763294]\n"
          ],
          "name": "stdout"
        }
      ]
    },
    {
      "cell_type": "markdown",
      "metadata": {
        "id": "eWkKUr-iV5-Q"
      },
      "source": [
        "## MCMC"
      ]
    },
    {
      "cell_type": "code",
      "metadata": {
        "colab": {
          "base_uri": "https://localhost:8080/"
        },
        "id": "xj5zuHCKV5Ni",
        "outputId": "82533034-e381-4d80-e204-65954686067f"
      },
      "source": [
        "\n",
        "nuts_kernel = NUTS(model)\n",
        "mcmc = MCMC(nuts_kernel, num_samples=1000, warmup_steps=50)\n",
        "mcmc.run(data)         \n",
        "print(mcmc.diagnostics())\n",
        "samples = mcmc.get_samples()\n",
        "print(samples['theta'].shape)\n"
      ],
      "execution_count": 114,
      "outputs": [
        {
          "output_type": "stream",
          "text": [
            "Sample: 100%|██████████| 1050/1050 [00:09, 111.12it/s, step size=1.50e+00, acc. prob=0.803]\n"
          ],
          "name": "stderr"
        },
        {
          "output_type": "stream",
          "text": [
            "{'theta': OrderedDict([('n_eff', tensor(443.8569)), ('r_hat', tensor(0.9992))]), 'divergences': {'chain 0': []}, 'acceptance rate': {'chain 0': 0.864}}\n",
            "torch.Size([1000])\n"
          ],
          "name": "stdout"
        }
      ]
    },
    {
      "cell_type": "code",
      "metadata": {
        "colab": {
          "base_uri": "https://localhost:8080/"
        },
        "id": "JypxLZfoWfQo",
        "outputId": "764a5976-6c2b-4ee4-a004-46eb724432c0"
      },
      "source": [
        "thetas = samples['theta'].numpy()\n",
        "print(np.mean(thetas))\n",
        "print(np.std(thetas))"
      ],
      "execution_count": 115,
      "outputs": [
        {
          "output_type": "stream",
          "text": [
            "0.5330437\n",
            "0.09079484\n"
          ],
          "name": "stdout"
        }
      ]
    },
    {
      "cell_type": "code",
      "metadata": {
        "colab": {
          "base_uri": "https://localhost:8080/"
        },
        "id": "15sbJzp2YPn5",
        "outputId": "849cf672-fd2b-41c1-e4b1-d72102d5c621"
      },
      "source": [
        "\n",
        "nuts_kernel = NUTS(model_binom)\n",
        "mcmc = MCMC(nuts_kernel, num_samples=1000, warmup_steps=50)\n",
        "mcmc.run(data)         \n",
        "print(mcmc.diagnostics())\n",
        "samples = mcmc.get_samples()\n",
        "print(samples['theta'].shape)"
      ],
      "execution_count": 126,
      "outputs": [
        {
          "output_type": "stream",
          "text": [
            "Sample: 100%|██████████| 1050/1050 [00:08, 117.55it/s, step size=9.57e-01, acc. prob=0.919]"
          ],
          "name": "stderr"
        },
        {
          "output_type": "stream",
          "text": [
            "{'theta': OrderedDict([('n_eff', tensor(269.4737)), ('r_hat', tensor(0.9990))]), 'divergences': {'chain 0': []}, 'acceptance rate': {'chain 0': 0.951}}\n",
            "torch.Size([1000])\n"
          ],
          "name": "stdout"
        },
        {
          "output_type": "stream",
          "text": [
            "\n"
          ],
          "name": "stderr"
        }
      ]
    },
    {
      "cell_type": "code",
      "metadata": {
        "colab": {
          "base_uri": "https://localhost:8080/"
        },
        "id": "6MfMCOd2YVnP",
        "outputId": "e6483f94-a423-4350-8963-d850117510fd"
      },
      "source": [
        "thetas = samples['theta'].numpy()\n",
        "print(np.mean(thetas))\n",
        "print(np.std(thetas))"
      ],
      "execution_count": 127,
      "outputs": [
        {
          "output_type": "stream",
          "text": [
            "0.48617417\n",
            "0.112258926\n"
          ],
          "name": "stdout"
        }
      ]
    },
    {
      "cell_type": "markdown",
      "metadata": {
        "id": "210Q9non4lmw"
      },
      "source": [
        "## Variational inference"
      ]
    },
    {
      "cell_type": "code",
      "metadata": {
        "id": "HVp6t7uM336Q"
      },
      "source": [
        "def guide(data):\n",
        "    alpha_q = pyro.param(\"alpha_q\", torch.tensor(15.0),\n",
        "                         constraint=constraints.positive)\n",
        "    beta_q = pyro.param(\"beta_q\", torch.tensor(15.0),\n",
        "                        constraint=constraints.positive)\n",
        "    pyro.sample(\"theta\", dist.Beta(alpha_q, beta_q))"
      ],
      "execution_count": 82,
      "outputs": []
    },
    {
      "cell_type": "code",
      "metadata": {
        "colab": {
          "base_uri": "https://localhost:8080/",
          "height": 295
        },
        "id": "QqY4kp-T4nZ3",
        "outputId": "87d7b1bf-23e0-4bb2-eab2-9790050fbcb3"
      },
      "source": [
        "\n",
        "\n",
        "#optimizer = pyro.optim.Adam({\"lr\": 0.0005, \"betas\": (0.90, 0.999)})\n",
        "optimizer = pyro.optim.SGD({\"lr\": 0.001, \"momentum\":0.1})\n",
        "\n",
        "svi = SVI(model, guide, optimizer, loss=Trace_ELBO())\n",
        "\n",
        "n_steps = 2000\n",
        "loss_history = []\n",
        "for step in range(n_steps):\n",
        "  loss_history.append(svi.step(data))\n",
        "\n",
        "plt.plot(loss_history)\n",
        "plt.title(\"ELBO\")\n",
        "plt.xlabel(\"step\")\n",
        "plt.ylabel(\"loss\");\n"
      ],
      "execution_count": 89,
      "outputs": [
        {
          "output_type": "display_data",
          "data": {
            "image/png": "[encoded data removed]",
            "text/plain": [
              "<Figure size 432x288 with 1 Axes>"
            ]
          },
          "metadata": {
            "tags": [],
            "needs_background": "light"
          }
        }
      ]
    },
    {
      "cell_type": "code",
      "metadata": {
        "colab": {
          "base_uri": "https://localhost:8080/"
        },
        "id": "K-DsSLVv4_nM",
        "outputId": "f0fb31ea-285d-4829-ac44-378f35d18629"
      },
      "source": [
        "# grab the learned variational parameters\n",
        "alpha_q = pyro.param(\"alpha_q\").item()\n",
        "beta_q = pyro.param(\"beta_q\").item()\n",
        "print('variational posterior: alpha={:0.3f}, beta={:0.3f}'.format(alpha_q, beta_q))\n",
        "\n",
        "post_mean = alpha_q / (alpha_q + beta_q)\n",
        "post_var = (post_mean * beta_q)/((alpha_q + beta_q) * (alpha_q + beta_q + 1))\n",
        "post_std = np.sqrt(post_var)\n",
        "print([post_mean, post_std])"
      ],
      "execution_count": 92,
      "outputs": [
        {
          "output_type": "stream",
          "text": [
            "variational posterior: alpha=15.414, beta=14.094\n",
            "[0.5223745147578196, 0.09043264875842827]\n"
          ],
          "name": "stdout"
        }
      ]
    },
    {
      "cell_type": "code",
      "metadata": {
        "id": "qIdMq9mGN429"
      },
      "source": [
        ""
      ],
      "execution_count": null,
      "outputs": []
    }
  ]
}
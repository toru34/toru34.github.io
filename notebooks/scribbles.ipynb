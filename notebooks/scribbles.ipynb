{
 "cells": [
  {
   "cell_type": "code",
   "execution_count": 29,
   "id": "legendary-thanks",
   "metadata": {},
   "outputs": [],
   "source": [
    "from collections import OrderedDict\n",
    "\n",
    "import numpy as np\n",
    "import pandas as pd\n",
    "import altair as alt\n",
    "from numpy.random import Generator, PCG64"
   ]
  },
  {
   "cell_type": "code",
   "execution_count": 43,
   "metadata": {},
   "outputs": [],
   "source": [
    "def generate_test_data(n):\n",
    "    x = np.linspace(start=0, stop=1, num=n)\n",
    "    t = np.sin(2 * np.pi * x)\n",
    "\n",
    "    return pd.DataFrame({'x': x, 't': t})\n",
    "\n",
    "def generate_training_data(n, seed=None):\n",
    "    rg = Generator(PCG64(seed))\n",
    "\n",
    "    x = np.linspace(start=0, stop=1, num=n)\n",
    "    t = np.sin(2 * np.pi * x) + rg.normal(scale=0.2, size=n)\n",
    "\n",
    "    return pd.DataFrame({'x': x, 't': t})"
   ]
  },
  {
   "cell_type": "code",
   "execution_count": 3,
   "id": "double-static",
   "metadata": {},
   "outputs": [
    {
     "output_type": "execute_result",
     "data": {
      "text/html": "\n<div id=\"altair-viz-b0e2715b581646deb6f5c43eb778156c\"></div>\n<script type=\"text/javascript\">\n  (function(spec, embedOpt){\n    let outputDiv = document.currentScript.previousElementSibling;\n    if (outputDiv.id !== \"altair-viz-b0e2715b581646deb6f5c43eb778156c\") {\n      outputDiv = document.getElementById(\"altair-viz-b0e2715b581646deb6f5c43eb778156c\");\n    }\n    const paths = {\n      \"vega\": \"https://cdn.jsdelivr.net/npm//vega@5?noext\",\n      \"vega-lib\": \"https://cdn.jsdelivr.net/npm//vega-lib?noext\",\n      \"vega-lite\": \"https://cdn.jsdelivr.net/npm//vega-lite@4.8.1?noext\",\n      \"vega-embed\": \"https://cdn.jsdelivr.net/npm//vega-embed@6?noext\",\n    };\n\n    function loadScript(lib) {\n      return new Promise(function(resolve, reject) {\n        var s = document.createElement('script');\n        s.src = paths[lib];\n        s.async = true;\n        s.onload = () => resolve(paths[lib]);\n        s.onerror = () => reject(`Error loading script: ${paths[lib]}`);\n        document.getElementsByTagName(\"head\")[0].appendChild(s);\n      });\n    }\n\n    function showError(err) {\n      outputDiv.innerHTML = `<div class=\"error\" style=\"color:red;\">${err}</div>`;\n      throw err;\n    }\n\n    function displayChart(vegaEmbed) {\n      vegaEmbed(outputDiv, spec, embedOpt)\n        .catch(err => showError(`Javascript Error: ${err.message}<br>This usually means there's a typo in your chart specification. See the javascript console for the full traceback.`));\n    }\n\n    if(typeof define === \"function\" && define.amd) {\n      requirejs.config({paths});\n      require([\"vega-embed\"], displayChart, err => showError(`Error loading script: ${err.message}`));\n    } else if (typeof vegaEmbed === \"function\") {\n      displayChart(vegaEmbed);\n    } else {\n      loadScript(\"vega\")\n        .then(() => loadScript(\"vega-lite\"))\n        .then(() => loadScript(\"vega-embed\"))\n        .catch(showError)\n        .then(() => displayChart(vegaEmbed));\n    }\n  })({\"config\": {\"view\": {\"continuousWidth\": 400, \"continuousHeight\": 300}}, \"layer\": [{\"data\": {\"name\": \"data-0e2f549fbf4594e2a958160320c6e19b\"}, \"mark\": {\"type\": \"point\", \"color\": \"blue\"}, \"encoding\": {\"x\": {\"type\": \"quantitative\", \"field\": \"x\"}, \"y\": {\"type\": \"quantitative\", \"field\": \"t\"}}}, {\"data\": {\"name\": \"data-39f392daf85fbdc83952a670b62c54a6\"}, \"mark\": {\"type\": \"line\", \"color\": \"lime\"}, \"encoding\": {\"x\": {\"type\": \"quantitative\", \"field\": \"x\"}, \"y\": {\"type\": \"quantitative\", \"field\": \"t\"}}}], \"$schema\": \"https://vega.github.io/schema/vega-lite/v4.8.1.json\", \"datasets\": {\"data-0e2f549fbf4594e2a958160320c6e19b\": [{\"x\": 0.0, \"t\": 0.04876702012554658}, {\"x\": 0.1111111111111111, \"t\": 0.49332397337875833}, {\"x\": 0.2222222222222222, \"t\": 0.6725723540952333}, {\"x\": 0.3333333333333333, \"t\": 0.7731747794265448}, {\"x\": 0.4444444444444444, \"t\": 0.27160767451859963}, {\"x\": 0.5555555555555556, \"t\": -0.5983185186939937}, {\"x\": 0.6666666666666666, \"t\": -0.8081655558171813}, {\"x\": 0.7777777777777777, \"t\": -0.7888020520473427}, {\"x\": 0.8888888888888888, \"t\": -0.5472027652087244}, {\"x\": 1.0, \"t\": 0.0901636266504974}], \"data-39f392daf85fbdc83952a670b62c54a6\": [{\"x\": 0.0, \"t\": 0.0}, {\"x\": 0.010101010101010102, \"t\": 0.0634239196565645}, {\"x\": 0.020202020202020204, \"t\": 0.12659245357374926}, {\"x\": 0.030303030303030304, \"t\": 0.1892512443604102}, {\"x\": 0.04040404040404041, \"t\": 0.2511479871810792}, {\"x\": 0.05050505050505051, \"t\": 0.3120334456984871}, {\"x\": 0.06060606060606061, \"t\": 0.3716624556603275}, {\"x\": 0.07070707070707072, \"t\": 0.4297949120891717}, {\"x\": 0.08080808080808081, \"t\": 0.4861967361004687}, {\"x\": 0.09090909090909091, \"t\": 0.5406408174555976}, {\"x\": 0.10101010101010102, \"t\": 0.5929079290546405}, {\"x\": 0.11111111111111112, \"t\": 0.6427876096865394}, {\"x\": 0.12121212121212122, \"t\": 0.6900790114821119}, {\"x\": 0.13131313131313133, \"t\": 0.7345917086575333}, {\"x\": 0.14141414141414144, \"t\": 0.7761464642917568}, {\"x\": 0.15151515151515152, \"t\": 0.8145759520503357}, {\"x\": 0.16161616161616163, \"t\": 0.8497254299495144}, {\"x\": 0.17171717171717174, \"t\": 0.8814533634475821}, {\"x\": 0.18181818181818182, \"t\": 0.9096319953545183}, {\"x\": 0.19191919191919193, \"t\": 0.9341478602651068}, {\"x\": 0.20202020202020204, \"t\": 0.954902241444074}, {\"x\": 0.21212121212121213, \"t\": 0.9718115683235417}, {\"x\": 0.22222222222222224, \"t\": 0.9848077530122081}, {\"x\": 0.23232323232323235, \"t\": 0.9938384644612541}, {\"x\": 0.24242424242424243, \"t\": 0.998867339183008}, {\"x\": 0.25252525252525254, \"t\": 0.9998741276738751}, {\"x\": 0.26262626262626265, \"t\": 0.9968547759519424}, {\"x\": 0.27272727272727276, \"t\": 0.9898214418809327}, {\"x\": 0.2828282828282829, \"t\": 0.9788024462147786}, {\"x\": 0.29292929292929293, \"t\": 0.9638421585599422}, {\"x\": 0.30303030303030304, \"t\": 0.9450008187146685}, {\"x\": 0.31313131313131315, \"t\": 0.9223542941045814}, {\"x\": 0.32323232323232326, \"t\": 0.8959937742913359}, {\"x\": 0.33333333333333337, \"t\": 0.8660254037844386}, {\"x\": 0.3434343434343435, \"t\": 0.8325698546347712}, {\"x\": 0.3535353535353536, \"t\": 0.795761840530832}, {\"x\": 0.36363636363636365, \"t\": 0.7557495743542584}, {\"x\": 0.37373737373737376, \"t\": 0.7126941713788628}, {\"x\": 0.38383838383838387, \"t\": 0.6667690005162916}, {\"x\": 0.393939393939394, \"t\": 0.6181589862206051}, {\"x\": 0.4040404040404041, \"t\": 0.5670598638627704}, {\"x\": 0.4141414141414142, \"t\": 0.5136773915734063}, {\"x\": 0.42424242424242425, \"t\": 0.4582265217274105}, {\"x\": 0.43434343434343436, \"t\": 0.4009305354066136}, {\"x\": 0.4444444444444445, \"t\": 0.34202014332566844}, {\"x\": 0.4545454545454546, \"t\": 0.2817325568414296}, {\"x\": 0.4646464646464647, \"t\": 0.22031053278654036}, {\"x\": 0.4747474747474748, \"t\": 0.15800139597334942}, {\"x\": 0.48484848484848486, \"t\": 0.09505604330418288}, {\"x\": 0.494949494949495, \"t\": 0.031727933498067656}, {\"x\": 0.5050505050505051, \"t\": -0.03172793349806785}, {\"x\": 0.5151515151515152, \"t\": -0.09505604330418307}, {\"x\": 0.5252525252525253, \"t\": -0.15800139597335008}, {\"x\": 0.5353535353535354, \"t\": -0.22031053278654059}, {\"x\": 0.5454545454545455, \"t\": -0.28173255684142984}, {\"x\": 0.5555555555555556, \"t\": -0.34202014332566866}, {\"x\": 0.5656565656565657, \"t\": -0.4009305354066142}, {\"x\": 0.5757575757575758, \"t\": -0.4582265217274107}, {\"x\": 0.5858585858585859, \"t\": -0.5136773915734061}, {\"x\": 0.595959595959596, \"t\": -0.567059863862771}, {\"x\": 0.6060606060606061, \"t\": -0.6181589862206053}, {\"x\": 0.6161616161616162, \"t\": -0.6667690005162918}, {\"x\": 0.6262626262626263, \"t\": -0.7126941713788628}, {\"x\": 0.6363636363636365, \"t\": -0.7557495743542587}, {\"x\": 0.6464646464646465, \"t\": -0.7957618405308321}, {\"x\": 0.6565656565656566, \"t\": -0.8325698546347713}, {\"x\": 0.6666666666666667, \"t\": -0.8660254037844388}, {\"x\": 0.6767676767676768, \"t\": -0.895993774291336}, {\"x\": 0.686868686868687, \"t\": -0.9223542941045817}, {\"x\": 0.696969696969697, \"t\": -0.9450008187146683}, {\"x\": 0.7070707070707072, \"t\": -0.9638421585599422}, {\"x\": 0.7171717171717172, \"t\": -0.9788024462147787}, {\"x\": 0.7272727272727273, \"t\": -0.9898214418809327}, {\"x\": 0.7373737373737375, \"t\": -0.9968547759519424}, {\"x\": 0.7474747474747475, \"t\": -0.9998741276738751}, {\"x\": 0.7575757575757577, \"t\": -0.998867339183008}, {\"x\": 0.7676767676767677, \"t\": -0.9938384644612541}, {\"x\": 0.7777777777777778, \"t\": -0.9848077530122081}, {\"x\": 0.787878787878788, \"t\": -0.9718115683235417}, {\"x\": 0.797979797979798, \"t\": -0.9549022414440739}, {\"x\": 0.8080808080808082, \"t\": -0.9341478602651064}, {\"x\": 0.8181818181818182, \"t\": -0.9096319953545182}, {\"x\": 0.8282828282828284, \"t\": -0.881453363447582}, {\"x\": 0.8383838383838385, \"t\": -0.8497254299495144}, {\"x\": 0.8484848484848485, \"t\": -0.814575952050336}, {\"x\": 0.8585858585858587, \"t\": -0.7761464642917566}, {\"x\": 0.8686868686868687, \"t\": -0.7345917086575331}, {\"x\": 0.8787878787878789, \"t\": -0.6900790114821114}, {\"x\": 0.888888888888889, \"t\": -0.6427876096865389}, {\"x\": 0.8989898989898991, \"t\": -0.5929079290546402}, {\"x\": 0.9090909090909092, \"t\": -0.5406408174555974}, {\"x\": 0.9191919191919192, \"t\": -0.48619673610046876}, {\"x\": 0.9292929292929294, \"t\": -0.42979491208917114}, {\"x\": 0.9393939393939394, \"t\": -0.37166245566032724}, {\"x\": 0.9494949494949496, \"t\": -0.3120334456984862}, {\"x\": 0.9595959595959597, \"t\": -0.25114798718107934}, {\"x\": 0.9696969696969697, \"t\": -0.18925124436041063}, {\"x\": 0.9797979797979799, \"t\": -0.12659245357374904}, {\"x\": 0.98989898989899, \"t\": -0.06342391965656452}, {\"x\": 1.0, \"t\": -2.4492935982947064e-16}]}}, {\"mode\": \"vega-lite\"});\n</script>",
      "text/plain": [
       "alt.LayerChart(...)"
      ]
     },
     "metadata": {},
     "execution_count": 3
    }
   ],
   "source": [
    "chart_train = alt.Chart(df_train).mark_point(color='blue').encode(\n",
    "    x='x',\n",
    "    y='t',\n",
    ")\n",
    "\n",
    "chart_test = alt.Chart(df_test).mark_line(color='lime').encode(\n",
    "    x='x',\n",
    "    y='t',\n",
    ")\n",
    "\n",
    "chart_train + chart_test"
   ]
  },
  {
   "cell_type": "code",
   "execution_count": 4,
   "metadata": {},
   "outputs": [],
   "source": [
    "def polynomial(x_train, t_train, power, return_w=False):\n",
    "    X_train = np.stack([np.power(x_train, p) for p in range(power+1)], axis=1)\n",
    "    w_ml = np.linalg.inv(X_train.T @ X_train) @ X_train.T @ t_train\n",
    "\n",
    "    def _polynomial(x_test):\n",
    "        X_test = np.stack([np.power(x_test, p) for p in range(power+1)], axis=1)\n",
    "        return X_test @ w_ml\n",
    "    \n",
    "    if return_w:\n",
    "        return _polynomial, w_ml\n",
    "    else:\n",
    "        return _polynomial"
   ]
  },
  {
   "cell_type": "code",
   "execution_count": 5,
   "metadata": {},
   "outputs": [
    {
     "output_type": "execute_result",
     "data": {
      "text/html": "\n<div id=\"altair-viz-875d653b221f4e23bf7d4a254160e3e5\"></div>\n<script type=\"text/javascript\">\n  (function(spec, embedOpt){\n    let outputDiv = document.currentScript.previousElementSibling;\n    if (outputDiv.id !== \"altair-viz-875d653b221f4e23bf7d4a254160e3e5\") {\n      outputDiv = document.getElementById(\"altair-viz-875d653b221f4e23bf7d4a254160e3e5\");\n    }\n    const paths = {\n      \"vega\": \"https://cdn.jsdelivr.net/npm//vega@5?noext\",\n      \"vega-lib\": \"https://cdn.jsdelivr.net/npm//vega-lib?noext\",\n      \"vega-lite\": \"https://cdn.jsdelivr.net/npm//vega-lite@4.8.1?noext\",\n      \"vega-embed\": \"https://cdn.jsdelivr.net/npm//vega-embed@6?noext\",\n    };\n\n    function loadScript(lib) {\n      return new Promise(function(resolve, reject) {\n        var s = document.createElement('script');\n        s.src = paths[lib];\n        s.async = true;\n        s.onload = () => resolve(paths[lib]);\n        s.onerror = () => reject(`Error loading script: ${paths[lib]}`);\n        document.getElementsByTagName(\"head\")[0].appendChild(s);\n      });\n    }\n\n    function showError(err) {\n      outputDiv.innerHTML = `<div class=\"error\" style=\"color:red;\">${err}</div>`;\n      throw err;\n    }\n\n    function displayChart(vegaEmbed) {\n      vegaEmbed(outputDiv, spec, embedOpt)\n        .catch(err => showError(`Javascript Error: ${err.message}<br>This usually means there's a typo in your chart specification. See the javascript console for the full traceback.`));\n    }\n\n    if(typeof define === \"function\" && define.amd) {\n      requirejs.config({paths});\n      require([\"vega-embed\"], displayChart, err => showError(`Error loading script: ${err.message}`));\n    } else if (typeof vegaEmbed === \"function\") {\n      displayChart(vegaEmbed);\n    } else {\n      loadScript(\"vega\")\n        .then(() => loadScript(\"vega-lite\"))\n        .then(() => loadScript(\"vega-embed\"))\n        .catch(showError)\n        .then(() => displayChart(vegaEmbed));\n    }\n  })({\"config\": {\"view\": {\"continuousWidth\": 400, \"continuousHeight\": 300}}, \"layer\": [{\"data\": {\"name\": \"data-0e2f549fbf4594e2a958160320c6e19b\"}, \"mark\": {\"type\": \"point\", \"color\": \"blue\"}, \"encoding\": {\"x\": {\"type\": \"quantitative\", \"field\": \"x\"}, \"y\": {\"type\": \"quantitative\", \"field\": \"t\"}}}, {\"data\": {\"name\": \"data-39f392daf85fbdc83952a670b62c54a6\"}, \"mark\": {\"type\": \"line\", \"color\": \"lime\"}, \"encoding\": {\"x\": {\"type\": \"quantitative\", \"field\": \"x\"}, \"y\": {\"type\": \"quantitative\", \"field\": \"t\"}}}, {\"data\": {\"name\": \"data-05e7a799e3f0cf289e01066605a1c7cb\"}, \"mark\": {\"type\": \"line\", \"color\": \"red\"}, \"encoding\": {\"x\": {\"type\": \"quantitative\", \"field\": \"x\"}, \"y\": {\"type\": \"quantitative\", \"field\": \"t\"}}}], \"$schema\": \"https://vega.github.io/schema/vega-lite/v4.8.1.json\", \"datasets\": {\"data-0e2f549fbf4594e2a958160320c6e19b\": [{\"x\": 0.0, \"t\": 0.04876702012554658}, {\"x\": 0.1111111111111111, \"t\": 0.49332397337875833}, {\"x\": 0.2222222222222222, \"t\": 0.6725723540952333}, {\"x\": 0.3333333333333333, \"t\": 0.7731747794265448}, {\"x\": 0.4444444444444444, \"t\": 0.27160767451859963}, {\"x\": 0.5555555555555556, \"t\": -0.5983185186939937}, {\"x\": 0.6666666666666666, \"t\": -0.8081655558171813}, {\"x\": 0.7777777777777777, \"t\": -0.7888020520473427}, {\"x\": 0.8888888888888888, \"t\": -0.5472027652087244}, {\"x\": 1.0, \"t\": 0.0901636266504974}], \"data-39f392daf85fbdc83952a670b62c54a6\": [{\"x\": 0.0, \"t\": 0.0}, {\"x\": 0.010101010101010102, \"t\": 0.0634239196565645}, {\"x\": 0.020202020202020204, \"t\": 0.12659245357374926}, {\"x\": 0.030303030303030304, \"t\": 0.1892512443604102}, {\"x\": 0.04040404040404041, \"t\": 0.2511479871810792}, {\"x\": 0.05050505050505051, \"t\": 0.3120334456984871}, {\"x\": 0.06060606060606061, \"t\": 0.3716624556603275}, {\"x\": 0.07070707070707072, \"t\": 0.4297949120891717}, {\"x\": 0.08080808080808081, \"t\": 0.4861967361004687}, {\"x\": 0.09090909090909091, \"t\": 0.5406408174555976}, {\"x\": 0.10101010101010102, \"t\": 0.5929079290546405}, {\"x\": 0.11111111111111112, \"t\": 0.6427876096865394}, {\"x\": 0.12121212121212122, \"t\": 0.6900790114821119}, {\"x\": 0.13131313131313133, \"t\": 0.7345917086575333}, {\"x\": 0.14141414141414144, \"t\": 0.7761464642917568}, {\"x\": 0.15151515151515152, \"t\": 0.8145759520503357}, {\"x\": 0.16161616161616163, \"t\": 0.8497254299495144}, {\"x\": 0.17171717171717174, \"t\": 0.8814533634475821}, {\"x\": 0.18181818181818182, \"t\": 0.9096319953545183}, {\"x\": 0.19191919191919193, \"t\": 0.9341478602651068}, {\"x\": 0.20202020202020204, \"t\": 0.954902241444074}, {\"x\": 0.21212121212121213, \"t\": 0.9718115683235417}, {\"x\": 0.22222222222222224, \"t\": 0.9848077530122081}, {\"x\": 0.23232323232323235, \"t\": 0.9938384644612541}, {\"x\": 0.24242424242424243, \"t\": 0.998867339183008}, {\"x\": 0.25252525252525254, \"t\": 0.9998741276738751}, {\"x\": 0.26262626262626265, \"t\": 0.9968547759519424}, {\"x\": 0.27272727272727276, \"t\": 0.9898214418809327}, {\"x\": 0.2828282828282829, \"t\": 0.9788024462147786}, {\"x\": 0.29292929292929293, \"t\": 0.9638421585599422}, {\"x\": 0.30303030303030304, \"t\": 0.9450008187146685}, {\"x\": 0.31313131313131315, \"t\": 0.9223542941045814}, {\"x\": 0.32323232323232326, \"t\": 0.8959937742913359}, {\"x\": 0.33333333333333337, \"t\": 0.8660254037844386}, {\"x\": 0.3434343434343435, \"t\": 0.8325698546347712}, {\"x\": 0.3535353535353536, \"t\": 0.795761840530832}, {\"x\": 0.36363636363636365, \"t\": 0.7557495743542584}, {\"x\": 0.37373737373737376, \"t\": 0.7126941713788628}, {\"x\": 0.38383838383838387, \"t\": 0.6667690005162916}, {\"x\": 0.393939393939394, \"t\": 0.6181589862206051}, {\"x\": 0.4040404040404041, \"t\": 0.5670598638627704}, {\"x\": 0.4141414141414142, \"t\": 0.5136773915734063}, {\"x\": 0.42424242424242425, \"t\": 0.4582265217274105}, {\"x\": 0.43434343434343436, \"t\": 0.4009305354066136}, {\"x\": 0.4444444444444445, \"t\": 0.34202014332566844}, {\"x\": 0.4545454545454546, \"t\": 0.2817325568414296}, {\"x\": 0.4646464646464647, \"t\": 0.22031053278654036}, {\"x\": 0.4747474747474748, \"t\": 0.15800139597334942}, {\"x\": 0.48484848484848486, \"t\": 0.09505604330418288}, {\"x\": 0.494949494949495, \"t\": 0.031727933498067656}, {\"x\": 0.5050505050505051, \"t\": -0.03172793349806785}, {\"x\": 0.5151515151515152, \"t\": -0.09505604330418307}, {\"x\": 0.5252525252525253, \"t\": -0.15800139597335008}, {\"x\": 0.5353535353535354, \"t\": -0.22031053278654059}, {\"x\": 0.5454545454545455, \"t\": -0.28173255684142984}, {\"x\": 0.5555555555555556, \"t\": -0.34202014332566866}, {\"x\": 0.5656565656565657, \"t\": -0.4009305354066142}, {\"x\": 0.5757575757575758, \"t\": -0.4582265217274107}, {\"x\": 0.5858585858585859, \"t\": -0.5136773915734061}, {\"x\": 0.595959595959596, \"t\": -0.567059863862771}, {\"x\": 0.6060606060606061, \"t\": -0.6181589862206053}, {\"x\": 0.6161616161616162, \"t\": -0.6667690005162918}, {\"x\": 0.6262626262626263, \"t\": -0.7126941713788628}, {\"x\": 0.6363636363636365, \"t\": -0.7557495743542587}, {\"x\": 0.6464646464646465, \"t\": -0.7957618405308321}, {\"x\": 0.6565656565656566, \"t\": -0.8325698546347713}, {\"x\": 0.6666666666666667, \"t\": -0.8660254037844388}, {\"x\": 0.6767676767676768, \"t\": -0.895993774291336}, {\"x\": 0.686868686868687, \"t\": -0.9223542941045817}, {\"x\": 0.696969696969697, \"t\": -0.9450008187146683}, {\"x\": 0.7070707070707072, \"t\": -0.9638421585599422}, {\"x\": 0.7171717171717172, \"t\": -0.9788024462147787}, {\"x\": 0.7272727272727273, \"t\": -0.9898214418809327}, {\"x\": 0.7373737373737375, \"t\": -0.9968547759519424}, {\"x\": 0.7474747474747475, \"t\": -0.9998741276738751}, {\"x\": 0.7575757575757577, \"t\": -0.998867339183008}, {\"x\": 0.7676767676767677, \"t\": -0.9938384644612541}, {\"x\": 0.7777777777777778, \"t\": -0.9848077530122081}, {\"x\": 0.787878787878788, \"t\": -0.9718115683235417}, {\"x\": 0.797979797979798, \"t\": -0.9549022414440739}, {\"x\": 0.8080808080808082, \"t\": -0.9341478602651064}, {\"x\": 0.8181818181818182, \"t\": -0.9096319953545182}, {\"x\": 0.8282828282828284, \"t\": -0.881453363447582}, {\"x\": 0.8383838383838385, \"t\": -0.8497254299495144}, {\"x\": 0.8484848484848485, \"t\": -0.814575952050336}, {\"x\": 0.8585858585858587, \"t\": -0.7761464642917566}, {\"x\": 0.8686868686868687, \"t\": -0.7345917086575331}, {\"x\": 0.8787878787878789, \"t\": -0.6900790114821114}, {\"x\": 0.888888888888889, \"t\": -0.6427876096865389}, {\"x\": 0.8989898989898991, \"t\": -0.5929079290546402}, {\"x\": 0.9090909090909092, \"t\": -0.5406408174555974}, {\"x\": 0.9191919191919192, \"t\": -0.48619673610046876}, {\"x\": 0.9292929292929294, \"t\": -0.42979491208917114}, {\"x\": 0.9393939393939394, \"t\": -0.37166245566032724}, {\"x\": 0.9494949494949496, \"t\": -0.3120334456984862}, {\"x\": 0.9595959595959597, \"t\": -0.25114798718107934}, {\"x\": 0.9696969696969697, \"t\": -0.18925124436041063}, {\"x\": 0.9797979797979799, \"t\": -0.12659245357374904}, {\"x\": 0.98989898989899, \"t\": -0.06342391965656452}, {\"x\": 1.0, \"t\": -2.4492935982947064e-16}], \"data-05e7a799e3f0cf289e01066605a1c7cb\": [{\"x\": 0.0, \"t\": -0.01722948756591043}, {\"x\": 0.010101010101010102, \"t\": 0.0655166222547463}, {\"x\": 0.020202020202020204, \"t\": 0.14301384721807497}, {\"x\": 0.030303030303030304, \"t\": 0.21537332131970466}, {\"x\": 0.04040404040404041, \"t\": 0.28270617855526436}, {\"x\": 0.05050505050505051, \"t\": 0.3451235529203831}, {\"x\": 0.06060606060606061, \"t\": 0.40273657841069}, {\"x\": 0.07070707070707072, \"t\": 0.455656389021814}, {\"x\": 0.08080808080808081, \"t\": 0.503994118749384}, {\"x\": 0.09090909090909091, \"t\": 0.5478609015890293}, {\"x\": 0.10101010101010102, \"t\": 0.5873678715363788}, {\"x\": 0.11111111111111112, \"t\": 0.6226261625870617}, {\"x\": 0.12121212121212122, \"t\": 0.6537469087367067}, {\"x\": 0.13131313131313133, \"t\": 0.680841243980943}, {\"x\": 0.14141414141414144, \"t\": 0.7040203023153997}, {\"x\": 0.15151515151515152, \"t\": 0.7233952177357058}, {\"x\": 0.16161616161616163, \"t\": 0.7390771242374903}, {\"x\": 0.17171717171717174, \"t\": 0.7511771558163823}, {\"x\": 0.18181818181818182, \"t\": 0.7598064464680108}, {\"x\": 0.19191919191919193, \"t\": 0.7650761301880047}, {\"x\": 0.20202020202020204, \"t\": 0.7670973409719932}, {\"x\": 0.21212121212121213, \"t\": 0.7659812128156054}, {\"x\": 0.22222222222222224, \"t\": 0.7618388797144702}, {\"x\": 0.23232323232323235, \"t\": 0.7547814756642164}, {\"x\": 0.24242424242424243, \"t\": 0.7449201346604732}, {\"x\": 0.25252525252525254, \"t\": 0.73236599069887}, {\"x\": 0.26262626262626265, \"t\": 0.7172301777750354}, {\"x\": 0.27272727272727276, \"t\": 0.6996238298845987}, {\"x\": 0.2828282828282829, \"t\": 0.6796580810231889}, {\"x\": 0.29292929292929293, \"t\": 0.6574440651864357}, {\"x\": 0.30303030303030304, \"t\": 0.6330929163699661}, {\"x\": 0.31313131313131315, \"t\": 0.6067157685694111}, {\"x\": 0.32323232323232326, \"t\": 0.5784237557803982}, {\"x\": 0.33333333333333337, \"t\": 0.5483280119985583}, {\"x\": 0.3434343434343435, \"t\": 0.5165396712195185}, {\"x\": 0.3535353535353536, \"t\": 0.4831698674389089}, {\"x\": 0.36363636363636365, \"t\": 0.44832973465235915}, {\"x\": 0.37373737373737376, \"t\": 0.41213040685549673}, {\"x\": 0.38383838383838387, \"t\": 0.3746830180439509}, {\"x\": 0.393939393939394, \"t\": 0.33609870221335303}, {\"x\": 0.4040404040404041, \"t\": 0.29648859335932887}, {\"x\": 0.4141414141414142, \"t\": 0.25596382547750984}, {\"x\": 0.42424242424242425, \"t\": 0.21463553256352252}, {\"x\": 0.43434343434343436, \"t\": 0.1726148486129997}, {\"x\": 0.4444444444444445, \"t\": 0.13001290762156703}, {\"x\": 0.4545454545454546, \"t\": 0.08694084358485465}, {\"x\": 0.4646464646464647, \"t\": 0.043509790498491796}, {\"x\": 0.4747474747474748, \"t\": -0.00016911764189231349}, {\"x\": 0.48484848484848486, \"t\": -0.04398474684067022}, {\"x\": 0.494949494949495, \"t\": -0.08782596310221003}, {\"x\": 0.5050505050505051, \"t\": -0.13158163243088516}, {\"x\": 0.5151515151515152, \"t\": -0.17514062083106552}, {\"x\": 0.5252525252525253, \"t\": -0.21839179430712186}, {\"x\": 0.5353535353535354, \"t\": -0.26122401886342406}, {\"x\": 0.5454545454545455, \"t\": -0.3035261605043482}, {\"x\": 0.5555555555555556, \"t\": -0.3451870852342589}, {\"x\": 0.5656565656565657, \"t\": -0.3860956590575313}, {\"x\": 0.5757575757575758, \"t\": -0.4261407479785344}, {\"x\": 0.5858585858585859, \"t\": -0.4652112180016381}, {\"x\": 0.595959595959596, \"t\": -0.5031959351312185}, {\"x\": 0.6060606060606061, \"t\": -0.5399837653716393}, {\"x\": 0.6161616161616162, \"t\": -0.5754635747272783}, {\"x\": 0.6262626262626263, \"t\": -0.6095242292025009}, {\"x\": 0.6363636363636365, \"t\": -0.6420545948016834}, {\"x\": 0.6464646464646465, \"t\": -0.6729435375291928}, {\"x\": 0.6565656565656566, \"t\": -0.7020799233893982}, {\"x\": 0.6666666666666667, \"t\": -0.7293526183866774}, {\"x\": 0.6767676767676768, \"t\": -0.7546504885253977}, {\"x\": 0.686868686868687, \"t\": -0.7778623998099281}, {\"x\": 0.696969696969697, \"t\": -0.7988772182446411}, {\"x\": 0.7070707070707072, \"t\": -0.8175838098339092}, {\"x\": 0.7171717171717172, \"t\": -0.8338710405820979}, {\"x\": 0.7272727272727273, \"t\": -0.8476277764935887}, {\"x\": 0.7373737373737375, \"t\": -0.8587428835727433}, {\"x\": 0.7474747474747475, \"t\": -0.8671052278239344}, {\"x\": 0.7575757575757577, \"t\": -0.8726036752515363}, {\"x\": 0.7676767676767677, \"t\": -0.8751270918599179}, {\"x\": 0.7777777777777778, \"t\": -0.8745643436534483}, {\"x\": 0.787878787878788, \"t\": -0.8708042966364999}, {\"x\": 0.797979797979798, \"t\": -0.8637358168134419}, {\"x\": 0.8080808080808082, \"t\": -0.853247770188652}, {\"x\": 0.8181818181818182, \"t\": -0.8392290227664994}, {\"x\": 0.8282828282828284, \"t\": -0.8215684405513457}, {\"x\": 0.8383838383838385, \"t\": -0.8001548895475672}, {\"x\": 0.8484848484848485, \"t\": -0.7748772357595435}, {\"x\": 0.8585858585858587, \"t\": -0.7456243451916329}, {\"x\": 0.8686868686868687, \"t\": -0.7122850838482151}, {\"x\": 0.8787878787878789, \"t\": -0.674748317733652}, {\"x\": 0.888888888888889, \"t\": -0.6329029128523231}, {\"x\": 0.8989898989898991, \"t\": -0.5866377352085976}, {\"x\": 0.9090909090909092, \"t\": -0.5358416508068444}, {\"x\": 0.9191919191919192, \"t\": -0.48040352565143607}, {\"x\": 0.9292929292929294, \"t\": -0.42021222574674155}, {\"x\": 0.9393939393939394, \"t\": -0.3551566170971334}, {\"x\": 0.9494949494949496, \"t\": -0.28512556570698067}, {\"x\": 0.9595959595959597, \"t\": -0.21000793758066294}, {\"x\": 0.9696969696969697, \"t\": -0.12969259872253858}, {\"x\": 0.9797979797979799, \"t\": -0.044068415136983674}, {\"x\": 0.98989898989899, \"t\": 0.04697574717162922}, {\"x\": 1.0, \"t\": 0.14355102219893112}]}}, {\"mode\": \"vega-lite\"});\n</script>",
      "text/plain": [
       "alt.LayerChart(...)"
      ]
     },
     "metadata": {},
     "execution_count": 5
    }
   ],
   "source": [
    "power = 3\n",
    "\n",
    "f = polynomial(x_train, t_train, power=power)\n",
    "\n",
    "data = pd.DataFrame({\n",
    "    'x': x_test,\n",
    "    't': f(x_test),\n",
    "})\n",
    "\n",
    "chart_pred = alt.Chart(data).mark_line(color='red').encode(\n",
    "    x='x',\n",
    "    y='t',\n",
    ")\n",
    "\n",
    "chart_train + chart_test + chart_pred"
   ]
  },
  {
   "cell_type": "code",
   "execution_count": 7,
   "metadata": {},
   "outputs": [
    {
     "output_type": "execute_result",
     "data": {
      "text/html": "\n<div id=\"altair-viz-748da9cb924b42b0961af10e591765eb\"></div>\n<script type=\"text/javascript\">\n  (function(spec, embedOpt){\n    let outputDiv = document.currentScript.previousElementSibling;\n    if (outputDiv.id !== \"altair-viz-748da9cb924b42b0961af10e591765eb\") {\n      outputDiv = document.getElementById(\"altair-viz-748da9cb924b42b0961af10e591765eb\");\n    }\n    const paths = {\n      \"vega\": \"https://cdn.jsdelivr.net/npm//vega@5?noext\",\n      \"vega-lib\": \"https://cdn.jsdelivr.net/npm//vega-lib?noext\",\n      \"vega-lite\": \"https://cdn.jsdelivr.net/npm//vega-lite@4.8.1?noext\",\n      \"vega-embed\": \"https://cdn.jsdelivr.net/npm//vega-embed@6?noext\",\n    };\n\n    function loadScript(lib) {\n      return new Promise(function(resolve, reject) {\n        var s = document.createElement('script');\n        s.src = paths[lib];\n        s.async = true;\n        s.onload = () => resolve(paths[lib]);\n        s.onerror = () => reject(`Error loading script: ${paths[lib]}`);\n        document.getElementsByTagName(\"head\")[0].appendChild(s);\n      });\n    }\n\n    function showError(err) {\n      outputDiv.innerHTML = `<div class=\"error\" style=\"color:red;\">${err}</div>`;\n      throw err;\n    }\n\n    function displayChart(vegaEmbed) {\n      vegaEmbed(outputDiv, spec, embedOpt)\n        .catch(err => showError(`Javascript Error: ${err.message}<br>This usually means there's a typo in your chart specification. See the javascript console for the full traceback.`));\n    }\n\n    if(typeof define === \"function\" && define.amd) {\n      requirejs.config({paths});\n      require([\"vega-embed\"], displayChart, err => showError(`Error loading script: ${err.message}`));\n    } else if (typeof vegaEmbed === \"function\") {\n      displayChart(vegaEmbed);\n    } else {\n      loadScript(\"vega\")\n        .then(() => loadScript(\"vega-lite\"))\n        .then(() => loadScript(\"vega-embed\"))\n        .catch(showError)\n        .then(() => displayChart(vegaEmbed));\n    }\n  })({\"config\": {\"view\": {\"continuousWidth\": 400, \"continuousHeight\": 300}}, \"layer\": [{\"data\": {\"name\": \"data-14a1429c4c7a0d4bd55dbbb90059531d\"}, \"mark\": {\"type\": \"line\", \"color\": \"blue\", \"point\": true}, \"encoding\": {\"x\": {\"type\": \"quantitative\", \"field\": \"power\"}, \"y\": {\"type\": \"quantitative\", \"field\": \"rms\"}}}, {\"data\": {\"name\": \"data-461d7fbf4da40d2962f668c522fe40ce\"}, \"mark\": {\"type\": \"line\", \"color\": \"red\", \"point\": true}, \"encoding\": {\"x\": {\"type\": \"quantitative\", \"field\": \"power\"}, \"y\": {\"type\": \"quantitative\", \"field\": \"rms\"}}}], \"$schema\": \"https://vega.github.io/schema/vega-lite/v4.8.1.json\", \"datasets\": {\"data-14a1429c4c7a0d4bd55dbbb90059531d\": [{\"power\": 0, \"rms\": 0.5740314029844332}, {\"power\": 1, \"rms\": 0.4586158514906232}, {\"power\": 2, \"rms\": 0.45440077203890816}, {\"power\": 3, \"rms\": 0.13692521910737038}, {\"power\": 4, \"rms\": 0.13691183358433365}, {\"power\": 5, \"rms\": 0.08804405174562202}, {\"power\": 6, \"rms\": 0.08357088766667013}, {\"power\": 7, \"rms\": 0.04291608199127493}, {\"power\": 8, \"rms\": 0.028656266050638292}, {\"power\": 9, \"rms\": 9.332006030075517e-05}], \"data-461d7fbf4da40d2962f668c522fe40ce\": [{\"power\": 0, \"rms\": 0.7046584582114704}, {\"power\": 1, \"rms\": 0.5052285425168473}, {\"power\": 2, \"rms\": 0.5089897031992227}, {\"power\": 3, \"rms\": 0.15961775270921935}, {\"power\": 4, \"rms\": 0.15978145042549238}, {\"power\": 5, \"rms\": 0.1440380908401281}, {\"power\": 6, \"rms\": 0.14529644542939513}, {\"power\": 7, \"rms\": 0.16719553024389508}, {\"power\": 8, \"rms\": 0.18453444925856186}, {\"power\": 9, \"rms\": 0.23727760961716668}]}}, {\"mode\": \"vega-lite\"});\n</script>",
      "text/plain": [
       "alt.LayerChart(...)"
      ]
     },
     "metadata": {},
     "execution_count": 7
    }
   ],
   "source": [
    "def rms(f, x_test, t_test):\n",
    "    return np.sqrt(np.mean((f(x_test) - t_test)**2))\n",
    "\n",
    "powers = list(range(10))\n",
    "\n",
    "df_rms_train = pd.DataFrame({\n",
    "    'power': powers,\n",
    "    'rms': [rms(polynomial(x_train, t_train, power), x_train, t_train) for power in powers]})\n",
    "\n",
    "df_rms_test = pd.DataFrame({\n",
    "    'power': powers,\n",
    "    'rms': [rms(polynomial(x_train, t_train, power), x_test, t_test) for power in powers]})\n",
    "\n",
    "chart_rms_train = alt.Chart(df_rms_train).mark_line(point=True, color='blue').encode(\n",
    "    x='power',\n",
    "    y='rms')\n",
    "\n",
    "chart_rms_test = alt.Chart(df_rms_test).mark_line(point=True, color='red').encode(\n",
    "    x='power',\n",
    "    y='rms')\n",
    "\n",
    "chart_rms_train + chart_rms_test\n"
   ]
  },
  {
   "cell_type": "code",
   "execution_count": 8,
   "metadata": {},
   "outputs": [
    {
     "output_type": "execute_result",
     "data": {
      "text/plain": [
       "        M=0       M=1         M=6            M=9\n",
       "0 -0.039288  0.501583    0.062194       0.048551\n",
       "1       NaN -1.081742   -0.687544     -17.140434\n",
       "2       NaN       NaN   61.121484     566.069995\n",
       "3       NaN       NaN -279.282402   -5883.051116\n",
       "4       NaN       NaN  455.109969   31048.778856\n",
       "5       NaN       NaN -319.314197  -93178.434412\n",
       "6       NaN       NaN   83.071011  164491.118910\n",
       "7       NaN       NaN         NaN -168794.264626\n",
       "8       NaN       NaN         NaN   93095.820038\n",
       "9       NaN       NaN         NaN  -21328.855448"
      ],
      "text/html": "<div>\n<style scoped>\n    .dataframe tbody tr th:only-of-type {\n        vertical-align: middle;\n    }\n\n    .dataframe tbody tr th {\n        vertical-align: top;\n    }\n\n    .dataframe thead th {\n        text-align: right;\n    }\n</style>\n<table border=\"1\" class=\"dataframe\">\n  <thead>\n    <tr style=\"text-align: right;\">\n      <th></th>\n      <th>M=0</th>\n      <th>M=1</th>\n      <th>M=6</th>\n      <th>M=9</th>\n    </tr>\n  </thead>\n  <tbody>\n    <tr>\n      <th>0</th>\n      <td>-0.039288</td>\n      <td>0.501583</td>\n      <td>0.062194</td>\n      <td>0.048551</td>\n    </tr>\n    <tr>\n      <th>1</th>\n      <td>NaN</td>\n      <td>-1.081742</td>\n      <td>-0.687544</td>\n      <td>-17.140434</td>\n    </tr>\n    <tr>\n      <th>2</th>\n      <td>NaN</td>\n      <td>NaN</td>\n      <td>61.121484</td>\n      <td>566.069995</td>\n    </tr>\n    <tr>\n      <th>3</th>\n      <td>NaN</td>\n      <td>NaN</td>\n      <td>-279.282402</td>\n      <td>-5883.051116</td>\n    </tr>\n    <tr>\n      <th>4</th>\n      <td>NaN</td>\n      <td>NaN</td>\n      <td>455.109969</td>\n      <td>31048.778856</td>\n    </tr>\n    <tr>\n      <th>5</th>\n      <td>NaN</td>\n      <td>NaN</td>\n      <td>-319.314197</td>\n      <td>-93178.434412</td>\n    </tr>\n    <tr>\n      <th>6</th>\n      <td>NaN</td>\n      <td>NaN</td>\n      <td>83.071011</td>\n      <td>164491.118910</td>\n    </tr>\n    <tr>\n      <th>7</th>\n      <td>NaN</td>\n      <td>NaN</td>\n      <td>NaN</td>\n      <td>-168794.264626</td>\n    </tr>\n    <tr>\n      <th>8</th>\n      <td>NaN</td>\n      <td>NaN</td>\n      <td>NaN</td>\n      <td>93095.820038</td>\n    </tr>\n    <tr>\n      <th>9</th>\n      <td>NaN</td>\n      <td>NaN</td>\n      <td>NaN</td>\n      <td>-21328.855448</td>\n    </tr>\n  </tbody>\n</table>\n</div>"
     },
     "metadata": {},
     "execution_count": 8
    }
   ],
   "source": [
    "df_coefficients = pd.concat([pd.DataFrame({\n",
    "    f'M={power}': polynomial(x_train, t_train, power=power, return_w=True)[-1]\n",
    "}) for power in [0, 1, 6, 9]], axis=1)\n",
    "\n",
    "df_coefficients"
   ]
  },
  {
   "cell_type": "code",
   "execution_count": 15,
   "metadata": {},
   "outputs": [],
   "source": [
    "np.random.seed(34)\n",
    "\n",
    "x_train_n15 = np.linspace(0, 1, 15)\n",
    "t_train_n15 = np.sin(2 * np.pi * x_train_n15) + np.random.normal(scale=0.2, size=15)\n",
    "\n",
    "x_train_n100 = np.linspace(0, 1, 100)\n",
    "t_train_n100 = np.sin(2 * np.pi * x_train_n100) + np.random.normal(scale=0.2, size=100)\n",
    "\n",
    "x_test = np.linspace(0, 1, 100)\n",
    "t_test = np.sin(2 * np.pi * x_test)\n",
    "\n",
    "df_train_n15 = pd.DataFrame({'x': x_train_n15, 't': t_train_n15})\n",
    "df_train_n100 = pd.DataFrame({'x': x_train_n100, 't': t_train_n100})\n",
    "df_test = pd.DataFrame({'x': x_test, 't': t_test})"
   ]
  },
  {
   "cell_type": "code",
   "execution_count": 22,
   "metadata": {},
   "outputs": [
    {
     "output_type": "execute_result",
     "data": {
      "text/html": "\n<div id=\"altair-viz-c4d199e836bd4ec8aabbdec6f009cae9\"></div>\n<script type=\"text/javascript\">\n  (function(spec, embedOpt){\n    let outputDiv = document.currentScript.previousElementSibling;\n    if (outputDiv.id !== \"altair-viz-c4d199e836bd4ec8aabbdec6f009cae9\") {\n      outputDiv = document.getElementById(\"altair-viz-c4d199e836bd4ec8aabbdec6f009cae9\");\n    }\n    const paths = {\n      \"vega\": \"https://cdn.jsdelivr.net/npm//vega@5?noext\",\n      \"vega-lib\": \"https://cdn.jsdelivr.net/npm//vega-lib?noext\",\n      \"vega-lite\": \"https://cdn.jsdelivr.net/npm//vega-lite@4.8.1?noext\",\n      \"vega-embed\": \"https://cdn.jsdelivr.net/npm//vega-embed@6?noext\",\n    };\n\n    function loadScript(lib) {\n      return new Promise(function(resolve, reject) {\n        var s = document.createElement('script');\n        s.src = paths[lib];\n        s.async = true;\n        s.onload = () => resolve(paths[lib]);\n        s.onerror = () => reject(`Error loading script: ${paths[lib]}`);\n        document.getElementsByTagName(\"head\")[0].appendChild(s);\n      });\n    }\n\n    function showError(err) {\n      outputDiv.innerHTML = `<div class=\"error\" style=\"color:red;\">${err}</div>`;\n      throw err;\n    }\n\n    function displayChart(vegaEmbed) {\n      vegaEmbed(outputDiv, spec, embedOpt)\n        .catch(err => showError(`Javascript Error: ${err.message}<br>This usually means there's a typo in your chart specification. See the javascript console for the full traceback.`));\n    }\n\n    if(typeof define === \"function\" && define.amd) {\n      requirejs.config({paths});\n      require([\"vega-embed\"], displayChart, err => showError(`Error loading script: ${err.message}`));\n    } else if (typeof vegaEmbed === \"function\") {\n      displayChart(vegaEmbed);\n    } else {\n      loadScript(\"vega\")\n        .then(() => loadScript(\"vega-lite\"))\n        .then(() => loadScript(\"vega-embed\"))\n        .catch(showError)\n        .then(() => displayChart(vegaEmbed));\n    }\n  })({\"config\": {\"view\": {\"continuousWidth\": 400, \"continuousHeight\": 300}}, \"layer\": [{\"data\": {\"name\": \"data-fb643b2ad9601301ba0e368f8a612cb4\"}, \"mark\": {\"type\": \"point\", \"color\": \"blue\"}, \"encoding\": {\"x\": {\"type\": \"quantitative\", \"field\": \"x\"}, \"y\": {\"type\": \"quantitative\", \"field\": \"t\"}}}, {\"data\": {\"name\": \"data-39f392daf85fbdc83952a670b62c54a6\"}, \"mark\": {\"type\": \"line\", \"color\": \"lime\"}, \"encoding\": {\"x\": {\"type\": \"quantitative\", \"field\": \"x\"}, \"y\": {\"type\": \"quantitative\", \"field\": \"t\"}}}, {\"data\": {\"name\": \"data-072d3bfef29bd9a0ecfb3d148cd13801\"}, \"mark\": {\"type\": \"line\", \"color\": \"red\"}, \"encoding\": {\"x\": {\"type\": \"quantitative\", \"field\": \"x\"}, \"y\": {\"type\": \"quantitative\", \"field\": \"t\"}}}], \"$schema\": \"https://vega.github.io/schema/vega-lite/v4.8.1.json\", \"datasets\": {\"data-fb643b2ad9601301ba0e368f8a612cb4\": [{\"x\": 0.0, \"t\": 0.3630280952594465}, {\"x\": 0.010101010101010102, \"t\": -0.3555259535650259}, {\"x\": 0.020202020202020204, \"t\": 0.3337836763104234}, {\"x\": 0.030303030303030304, \"t\": -0.09757688810123327}, {\"x\": 0.04040404040404041, \"t\": 0.19550224769136282}, {\"x\": 0.05050505050505051, \"t\": 0.3239363436226188}, {\"x\": 0.06060606060606061, \"t\": 0.11000002833197081}, {\"x\": 0.07070707070707072, \"t\": 0.4295376516802151}, {\"x\": 0.08080808080808081, \"t\": 0.7384061218563206}, {\"x\": 0.09090909090909091, \"t\": 0.5033760176569486}, {\"x\": 0.10101010101010102, \"t\": 0.8788934731077518}, {\"x\": 0.11111111111111112, \"t\": 0.48456721420373183}, {\"x\": 0.12121212121212122, \"t\": 0.6305311674617}, {\"x\": 0.13131313131313133, \"t\": 0.9269816279969294}, {\"x\": 0.14141414141414144, \"t\": 0.5620583305519926}, {\"x\": 0.15151515151515152, \"t\": 0.5734823091293586}, {\"x\": 0.16161616161616163, \"t\": 0.9785315720305292}, {\"x\": 0.17171717171717174, \"t\": 0.8928377957405531}, {\"x\": 0.18181818181818182, \"t\": 1.1933412174856575}, {\"x\": 0.19191919191919193, \"t\": 0.7055588963147029}, {\"x\": 0.20202020202020204, \"t\": 0.9980661509921389}, {\"x\": 0.21212121212121213, \"t\": 1.156932848768349}, {\"x\": 0.22222222222222224, \"t\": 1.066248633701082}, {\"x\": 0.23232323232323235, \"t\": 1.105375714496375}, {\"x\": 0.24242424242424243, \"t\": 0.8898024801921601}, {\"x\": 0.25252525252525254, \"t\": 1.041211532936927}, {\"x\": 0.26262626262626265, \"t\": 0.8678437147096554}, {\"x\": 0.27272727272727276, \"t\": 0.8841022019618787}, {\"x\": 0.2828282828282829, \"t\": 1.1465727306223787}, {\"x\": 0.29292929292929293, \"t\": 0.7037917438475951}, {\"x\": 0.30303030303030304, \"t\": 0.9256113754667527}, {\"x\": 0.31313131313131315, \"t\": 0.96465548837343}, {\"x\": 0.32323232323232326, \"t\": 0.939790745114511}, {\"x\": 0.33333333333333337, \"t\": 0.5732300248480431}, {\"x\": 0.3434343434343435, \"t\": 1.0581831525531418}, {\"x\": 0.3535353535353536, \"t\": 1.0770261994442796}, {\"x\": 0.36363636363636365, \"t\": 0.7284916382522517}, {\"x\": 0.37373737373737376, \"t\": 0.6610481567146614}, {\"x\": 0.38383838383838387, \"t\": 0.6796278132704088}, {\"x\": 0.393939393939394, \"t\": 0.35085911871392605}, {\"x\": 0.4040404040404041, \"t\": 0.6745472334688396}, {\"x\": 0.4141414141414142, \"t\": 0.6108318009687589}, {\"x\": 0.42424242424242425, \"t\": 0.45799220810452557}, {\"x\": 0.43434343434343436, \"t\": 0.511976886719518}, {\"x\": 0.4444444444444445, \"t\": 0.21932739705869903}, {\"x\": 0.4545454545454546, \"t\": 0.5524949537593582}, {\"x\": 0.4646464646464647, \"t\": 0.5772939099349608}, {\"x\": 0.4747474747474748, \"t\": -0.19268193692387256}, {\"x\": 0.48484848484848486, \"t\": 0.032003279334284304}, {\"x\": 0.494949494949495, \"t\": 0.19704686137624677}, {\"x\": 0.5050505050505051, \"t\": -0.0749106856238394}, {\"x\": 0.5151515151515152, \"t\": -0.21462103759040319}, {\"x\": 0.5252525252525253, \"t\": -0.11896905770829208}, {\"x\": 0.5353535353535354, \"t\": 0.0983257452529043}, {\"x\": 0.5454545454545455, \"t\": -0.2821125772316697}, {\"x\": 0.5555555555555556, \"t\": -0.35905492167259334}, {\"x\": 0.5656565656565657, \"t\": -0.12240881400900011}, {\"x\": 0.5757575757575758, \"t\": -0.4849438893982719}, {\"x\": 0.5858585858585859, \"t\": -0.3786533414852094}, {\"x\": 0.595959595959596, \"t\": -0.5948559463388685}, {\"x\": 0.6060606060606061, \"t\": -0.5449849984813446}, {\"x\": 0.6161616161616162, \"t\": -0.8026010855880417}, {\"x\": 0.6262626262626263, \"t\": -0.3086238580659559}, {\"x\": 0.6363636363636365, \"t\": -0.6095945850825991}, {\"x\": 0.6464646464646465, \"t\": -0.4230860416329745}, {\"x\": 0.6565656565656566, \"t\": -0.8741398094567583}, {\"x\": 0.6666666666666667, \"t\": -0.9663129919269411}, {\"x\": 0.6767676767676768, \"t\": -0.9074373264368831}, {\"x\": 0.686868686868687, \"t\": -1.0812461925650638}, {\"x\": 0.696969696969697, \"t\": -1.0778184456207094}, {\"x\": 0.7070707070707072, \"t\": -1.1266607521070215}, {\"x\": 0.7171717171717172, \"t\": -0.9940276335434198}, {\"x\": 0.7272727272727273, \"t\": -1.0025907024565501}, {\"x\": 0.7373737373737375, \"t\": -0.9550125621076708}, {\"x\": 0.7474747474747475, \"t\": -0.9246966468776119}, {\"x\": 0.7575757575757577, \"t\": -0.8797997573854891}, {\"x\": 0.7676767676767677, \"t\": -0.9032572259001942}, {\"x\": 0.7777777777777778, \"t\": -1.023261036829527}, {\"x\": 0.787878787878788, \"t\": -0.7246809435190618}, {\"x\": 0.797979797979798, \"t\": -1.0082970467696435}, {\"x\": 0.8080808080808082, \"t\": -1.1912517158633014}, {\"x\": 0.8181818181818182, \"t\": -0.6122150400101414}, {\"x\": 0.8282828282828284, \"t\": -0.6515238261019278}, {\"x\": 0.8383838383838385, \"t\": -0.9134606379383136}, {\"x\": 0.8484848484848485, \"t\": -0.5510423451410162}, {\"x\": 0.8585858585858587, \"t\": -0.7808935347216646}, {\"x\": 0.8686868686868687, \"t\": -0.8362055341287046}, {\"x\": 0.8787878787878789, \"t\": -0.9358816429209822}, {\"x\": 0.888888888888889, \"t\": -0.4821737777193891}, {\"x\": 0.8989898989898991, \"t\": -0.7652375035182553}, {\"x\": 0.9090909090909092, \"t\": -0.5140395993844951}, {\"x\": 0.9191919191919192, \"t\": -0.7580099630939956}, {\"x\": 0.9292929292929294, \"t\": -0.4192778773547058}, {\"x\": 0.9393939393939394, \"t\": -0.6682120783270111}, {\"x\": 0.9494949494949496, \"t\": -0.25739713850725876}, {\"x\": 0.9595959595959597, \"t\": -0.25445047291597883}, {\"x\": 0.9696969696969697, \"t\": -0.1742780442175925}, {\"x\": 0.9797979797979799, \"t\": -0.3127054891780914}, {\"x\": 0.98989898989899, \"t\": 0.09444344666810262}, {\"x\": 1.0, \"t\": 0.04721384392926168}], \"data-39f392daf85fbdc83952a670b62c54a6\": [{\"x\": 0.0, \"t\": 0.0}, {\"x\": 0.010101010101010102, \"t\": 0.0634239196565645}, {\"x\": 0.020202020202020204, \"t\": 0.12659245357374926}, {\"x\": 0.030303030303030304, \"t\": 0.1892512443604102}, {\"x\": 0.04040404040404041, \"t\": 0.2511479871810792}, {\"x\": 0.05050505050505051, \"t\": 0.3120334456984871}, {\"x\": 0.06060606060606061, \"t\": 0.3716624556603275}, {\"x\": 0.07070707070707072, \"t\": 0.4297949120891717}, {\"x\": 0.08080808080808081, \"t\": 0.4861967361004687}, {\"x\": 0.09090909090909091, \"t\": 0.5406408174555976}, {\"x\": 0.10101010101010102, \"t\": 0.5929079290546405}, {\"x\": 0.11111111111111112, \"t\": 0.6427876096865394}, {\"x\": 0.12121212121212122, \"t\": 0.6900790114821119}, {\"x\": 0.13131313131313133, \"t\": 0.7345917086575333}, {\"x\": 0.14141414141414144, \"t\": 0.7761464642917568}, {\"x\": 0.15151515151515152, \"t\": 0.8145759520503357}, {\"x\": 0.16161616161616163, \"t\": 0.8497254299495144}, {\"x\": 0.17171717171717174, \"t\": 0.8814533634475821}, {\"x\": 0.18181818181818182, \"t\": 0.9096319953545183}, {\"x\": 0.19191919191919193, \"t\": 0.9341478602651068}, {\"x\": 0.20202020202020204, \"t\": 0.954902241444074}, {\"x\": 0.21212121212121213, \"t\": 0.9718115683235417}, {\"x\": 0.22222222222222224, \"t\": 0.9848077530122081}, {\"x\": 0.23232323232323235, \"t\": 0.9938384644612541}, {\"x\": 0.24242424242424243, \"t\": 0.998867339183008}, {\"x\": 0.25252525252525254, \"t\": 0.9998741276738751}, {\"x\": 0.26262626262626265, \"t\": 0.9968547759519424}, {\"x\": 0.27272727272727276, \"t\": 0.9898214418809327}, {\"x\": 0.2828282828282829, \"t\": 0.9788024462147786}, {\"x\": 0.29292929292929293, \"t\": 0.9638421585599422}, {\"x\": 0.30303030303030304, \"t\": 0.9450008187146685}, {\"x\": 0.31313131313131315, \"t\": 0.9223542941045814}, {\"x\": 0.32323232323232326, \"t\": 0.8959937742913359}, {\"x\": 0.33333333333333337, \"t\": 0.8660254037844386}, {\"x\": 0.3434343434343435, \"t\": 0.8325698546347712}, {\"x\": 0.3535353535353536, \"t\": 0.795761840530832}, {\"x\": 0.36363636363636365, \"t\": 0.7557495743542584}, {\"x\": 0.37373737373737376, \"t\": 0.7126941713788628}, {\"x\": 0.38383838383838387, \"t\": 0.6667690005162916}, {\"x\": 0.393939393939394, \"t\": 0.6181589862206051}, {\"x\": 0.4040404040404041, \"t\": 0.5670598638627704}, {\"x\": 0.4141414141414142, \"t\": 0.5136773915734063}, {\"x\": 0.42424242424242425, \"t\": 0.4582265217274105}, {\"x\": 0.43434343434343436, \"t\": 0.4009305354066136}, {\"x\": 0.4444444444444445, \"t\": 0.34202014332566844}, {\"x\": 0.4545454545454546, \"t\": 0.2817325568414296}, {\"x\": 0.4646464646464647, \"t\": 0.22031053278654036}, {\"x\": 0.4747474747474748, \"t\": 0.15800139597334942}, {\"x\": 0.48484848484848486, \"t\": 0.09505604330418288}, {\"x\": 0.494949494949495, \"t\": 0.031727933498067656}, {\"x\": 0.5050505050505051, \"t\": -0.03172793349806785}, {\"x\": 0.5151515151515152, \"t\": -0.09505604330418307}, {\"x\": 0.5252525252525253, \"t\": -0.15800139597335008}, {\"x\": 0.5353535353535354, \"t\": -0.22031053278654059}, {\"x\": 0.5454545454545455, \"t\": -0.28173255684142984}, {\"x\": 0.5555555555555556, \"t\": -0.34202014332566866}, {\"x\": 0.5656565656565657, \"t\": -0.4009305354066142}, {\"x\": 0.5757575757575758, \"t\": -0.4582265217274107}, {\"x\": 0.5858585858585859, \"t\": -0.5136773915734061}, {\"x\": 0.595959595959596, \"t\": -0.567059863862771}, {\"x\": 0.6060606060606061, \"t\": -0.6181589862206053}, {\"x\": 0.6161616161616162, \"t\": -0.6667690005162918}, {\"x\": 0.6262626262626263, \"t\": -0.7126941713788628}, {\"x\": 0.6363636363636365, \"t\": -0.7557495743542587}, {\"x\": 0.6464646464646465, \"t\": -0.7957618405308321}, {\"x\": 0.6565656565656566, \"t\": -0.8325698546347713}, {\"x\": 0.6666666666666667, \"t\": -0.8660254037844388}, {\"x\": 0.6767676767676768, \"t\": -0.895993774291336}, {\"x\": 0.686868686868687, \"t\": -0.9223542941045817}, {\"x\": 0.696969696969697, \"t\": -0.9450008187146683}, {\"x\": 0.7070707070707072, \"t\": -0.9638421585599422}, {\"x\": 0.7171717171717172, \"t\": -0.9788024462147787}, {\"x\": 0.7272727272727273, \"t\": -0.9898214418809327}, {\"x\": 0.7373737373737375, \"t\": -0.9968547759519424}, {\"x\": 0.7474747474747475, \"t\": -0.9998741276738751}, {\"x\": 0.7575757575757577, \"t\": -0.998867339183008}, {\"x\": 0.7676767676767677, \"t\": -0.9938384644612541}, {\"x\": 0.7777777777777778, \"t\": -0.9848077530122081}, {\"x\": 0.787878787878788, \"t\": -0.9718115683235417}, {\"x\": 0.797979797979798, \"t\": -0.9549022414440739}, {\"x\": 0.8080808080808082, \"t\": -0.9341478602651064}, {\"x\": 0.8181818181818182, \"t\": -0.9096319953545182}, {\"x\": 0.8282828282828284, \"t\": -0.881453363447582}, {\"x\": 0.8383838383838385, \"t\": -0.8497254299495144}, {\"x\": 0.8484848484848485, \"t\": -0.814575952050336}, {\"x\": 0.8585858585858587, \"t\": -0.7761464642917566}, {\"x\": 0.8686868686868687, \"t\": -0.7345917086575331}, {\"x\": 0.8787878787878789, \"t\": -0.6900790114821114}, {\"x\": 0.888888888888889, \"t\": -0.6427876096865389}, {\"x\": 0.8989898989898991, \"t\": -0.5929079290546402}, {\"x\": 0.9090909090909092, \"t\": -0.5406408174555974}, {\"x\": 0.9191919191919192, \"t\": -0.48619673610046876}, {\"x\": 0.9292929292929294, \"t\": -0.42979491208917114}, {\"x\": 0.9393939393939394, \"t\": -0.37166245566032724}, {\"x\": 0.9494949494949496, \"t\": -0.3120334456984862}, {\"x\": 0.9595959595959597, \"t\": -0.25114798718107934}, {\"x\": 0.9696969696969697, \"t\": -0.18925124436041063}, {\"x\": 0.9797979797979799, \"t\": -0.12659245357374904}, {\"x\": 0.98989898989899, \"t\": -0.06342391965656452}, {\"x\": 1.0, \"t\": -2.4492935982947064e-16}], \"data-072d3bfef29bd9a0ecfb3d148cd13801\": [{\"x\": 0.0, \"t\": 0.09983763069216078}, {\"x\": 0.010101010101010102, \"t\": 0.08097160661841546}, {\"x\": 0.020202020202020204, \"t\": 0.09167427077048156}, {\"x\": 0.030303030303030304, \"t\": 0.12477590987666806}, {\"x\": 0.04040404040404041, \"t\": 0.1742348839368177}, {\"x\": 0.05050505050505051, \"t\": 0.2350068206081583}, {\"x\": 0.06060606060606061, \"t\": 0.3029247516064363}, {\"x\": 0.07070707070707072, \"t\": 0.37458957333482856}, {\"x\": 0.08080808080808081, \"t\": 0.4472702346623616}, {\"x\": 0.09090909090909091, \"t\": 0.5188130751840758}, {\"x\": 0.10101010101010102, \"t\": 0.5875597574069236}, {\"x\": 0.11111111111111112, \"t\": 0.6522732561184217}, {\"x\": 0.12121212121212122, \"t\": 0.7120713877093778}, {\"x\": 0.13131313131313133, \"t\": 0.7663673814375258}, {\"x\": 0.14141414141414144, \"t\": 0.8148170135357722}, {\"x\": 0.15151515151515152, \"t\": 0.8572718436867932}, {\"x\": 0.16161616161616163, \"t\": 0.8937381117050496}, {\"x\": 0.17171717171717174, \"t\": 0.9243408702879634}, {\"x\": 0.18181818181818182, \"t\": 0.9492929474197709}, {\"x\": 0.19191919191919193, \"t\": 0.9688683494347252}, {\"x\": 0.20202020202020204, \"t\": 0.9833797328708336}, {\"x\": 0.21212121212121213, \"t\": 0.9931595900706789}, {\"x\": 0.22222222222222224, \"t\": 0.9985448100131649}, {\"x\": 0.23232323232323235, \"t\": 0.9998642920878815}, {\"x\": 0.24242424242424243, \"t\": 0.9974293064534052}, {\"x\": 0.25252525252525254, \"t\": 0.9915263102515937}, {\"x\": 0.26262626262626265, \"t\": 0.9824119442815729}, {\"x\": 0.27272727272727276, \"t\": 0.9703099497709502}, {\"x\": 0.2828282828282829, \"t\": 0.9554097596156268}, {\"x\": 0.29292929292929293, \"t\": 0.9378665328957396}, {\"x\": 0.30303030303030304, \"t\": 0.9178024156123286}, {\"x\": 0.31313131313131315, \"t\": 0.8953088244270191}, {\"x\": 0.32323232323232326, \"t\": 0.8704495637277176}, {\"x\": 0.33333333333333337, \"t\": 0.843264599582497}, {\"x\": 0.3434343434343435, \"t\": 0.8137743270878275}, {\"x\": 0.3535353535353536, \"t\": 0.7819841802586893}, {\"x\": 0.36363636363636365, \"t\": 0.747889445954371}, {\"x\": 0.37373737373737376, \"t\": 0.7114801553783536}, {\"x\": 0.38383838383838387, \"t\": 0.6727459384390784}, {\"x\": 0.393939393939394, \"t\": 0.6316807377050964}, {\"x\": 0.4040404040404041, \"t\": 0.588287289839343}, {\"x\": 0.4141414141414142, \"t\": 0.5425812932478493}, {\"x\": 0.42424242424242425, \"t\": 0.49459519122871143}, {\"x\": 0.43434343434343436, \"t\": 0.44438151016402117}, {\"x\": 0.4444444444444445, \"t\": 0.39201570224787474}, {\"x\": 0.4545454545454546, \"t\": 0.33759845190343185}, {\"x\": 0.4646464646464647, \"t\": 0.2812574143970892}, {\"x\": 0.4747474747474748, \"t\": 0.22314836421560358}, {\"x\": 0.48484848484848486, \"t\": 0.16345573953481107}, {\"x\": 0.494949494949495, \"t\": 0.1023925775675707}, {\"x\": 0.5050505050505051, \"t\": 0.0401998437379234}, {\"x\": 0.5151515151515152, \"t\": -0.02285483450157244}, {\"x\": 0.5252525252525253, \"t\": -0.0864790108297484}, {\"x\": 0.5353535353535354, \"t\": -0.15035781455617325}, {\"x\": 0.5454545454545455, \"t\": -0.21415686384011678}, {\"x\": 0.5555555555555556, \"t\": -0.27752565835317}, {\"x\": 0.5656565656565657, \"t\": -0.3401014057383236}, {\"x\": 0.5757575757575758, \"t\": -0.40151323013196816}, {\"x\": 0.5858585858585859, \"t\": -0.4613867052739806}, {\"x\": 0.595959595959596, \"t\": -0.5193486492178181}, {\"x\": 0.6060606060606061, \"t\": -0.5750321125187838}, {\"x\": 0.6161616161616162, \"t\": -0.6280814868619018}, {\"x\": 0.6262626262626263, \"t\": -0.6781576565508658}, {\"x\": 0.6363636363636365, \"t\": -0.7249431109721627}, {\"x\": 0.6464646464646465, \"t\": -0.7681469321851182}, {\"x\": 0.6565656565656566, \"t\": -0.8075095681015227}, {\"x\": 0.6666666666666667, \"t\": -0.8428072983319908}, {\"x\": 0.6767676767676768, \"t\": -0.8738562967082544}, {\"x\": 0.686868686868687, \"t\": -0.9005161916788893}, {\"x\": 0.696969696969697, \"t\": -0.9226930233171515}, {\"x\": 0.7070707070707072, \"t\": -0.9403414934799912}, {\"x\": 0.7171717171717172, \"t\": -0.9534664037601033}, {\"x\": 0.7272727272727273, \"t\": -0.9621231742912641}, {\"x\": 0.7373737373737375, \"t\": -0.9664173351993668}, {\"x\": 0.7474747474747475, \"t\": -0.9665028814379184}, {\"x\": 0.7575757575757577, \"t\": -0.9625793811155745}, {\"x\": 0.7676767676767677, \"t\": -0.9548877270062803}, {\"x\": 0.7777777777777778, \"t\": -0.9437044208143561}, {\"x\": 0.787878787878788, \"t\": -0.9293342799983293}, {\"x\": 0.797979797979798, \"t\": -0.9121014574593573}, {\"x\": 0.8080808080808082, \"t\": -0.8923386651567853}, {\"x\": 0.8181818181818182, \"t\": -0.8703744938902673}, {\"x\": 0.8282828282828284, \"t\": -0.8465187227848219}, {\"x\": 0.8383838383838385, \"t\": -0.8210455138214456}, {\"x\": 0.8484848484848485, \"t\": -0.7941743886349286}, {\"x\": 0.8585858585858587, \"t\": -0.766048887217039}, {\"x\": 0.8686868686868687, \"t\": -0.7367128106252494}, {\"x\": 0.8787878787878789, \"t\": -0.7060839528330689}, {\"x\": 0.888888888888889, \"t\": -0.6739252298721112}, {\"x\": 0.8989898989898991, \"t\": -0.6398131181067583}, {\"x\": 0.9090909090909092, \"t\": -0.6031033170729643}, {\"x\": 0.9191919191919192, \"t\": -0.5628935565655411}, {\"x\": 0.9292929292929294, \"t\": -0.5179834719056089}, {\"x\": 0.9393939393939394, \"t\": -0.4668314761038346}, {\"x\": 0.9494949494949496, \"t\": -0.4075085625736392}, {\"x\": 0.9595959595959597, \"t\": -0.33764897732180543}, {\"x\": 0.9696969696969697, \"t\": -0.2543977051791444}, {\"x\": 0.9797979797979799, \"t\": -0.15435472033641418}, {\"x\": 0.98989898989899, \"t\": -0.03351595799904317}, {\"x\": 1.0, \"t\": 0.11278903004858876}]}}, {\"mode\": \"vega-lite\"});\n</script>",
      "text/plain": [
       "alt.LayerChart(...)"
      ]
     },
     "metadata": {},
     "execution_count": 22
    }
   ],
   "source": [
    "power = 9\n",
    "\n",
    "f = polynomial(x_train_n100, t_train_n100, power=power)\n",
    "\n",
    "data = pd.DataFrame({\n",
    "    'x': x_test,\n",
    "    't': f(x_test),\n",
    "})\n",
    "\n",
    "chart_train = alt.Chart(df_train_n100).mark_point(color='blue').encode(\n",
    "    x='x',\n",
    "    y='t',\n",
    ")\n",
    "\n",
    "chart_pred = alt.Chart(data).mark_line(color='red').encode(\n",
    "    x='x',\n",
    "    y='t',\n",
    ")\n",
    "\n",
    "chart_train + chart_test + chart_pred"
   ]
  },
  {
   "cell_type": "code",
   "execution_count": 31,
   "metadata": {},
   "outputs": [
    {
     "output_type": "stream",
     "text": [
      "\u001b[0;31mDocstring:\u001b[0m\n",
      "normal(loc=0.0, scale=1.0, size=None)\n",
      "\n",
      "Draw random samples from a normal (Gaussian) distribution.\n",
      "\n",
      "The probability density function of the normal distribution, first\n",
      "derived by De Moivre and 200 years later by both Gauss and Laplace\n",
      "independently [2]_, is often called the bell curve because of\n",
      "its characteristic shape (see the example below).\n",
      "\n",
      "The normal distributions occurs often in nature.  For example, it\n",
      "describes the commonly occurring distribution of samples influenced\n",
      "by a large number of tiny, random disturbances, each with its own\n",
      "unique distribution [2]_.\n",
      "\n",
      "Parameters\n",
      "----------\n",
      "loc : float or array_like of floats\n",
      "    Mean (\"centre\") of the distribution.\n",
      "scale : float or array_like of floats\n",
      "    Standard deviation (spread or \"width\") of the distribution. Must be\n",
      "    non-negative.\n",
      "size : int or tuple of ints, optional\n",
      "    Output shape.  If the given shape is, e.g., ``(m, n, k)``, then\n",
      "    ``m * n * k`` samples are drawn.  If size is ``None`` (default),\n",
      "    a single value is returned if ``loc`` and ``scale`` are both scalars.\n",
      "    Otherwise, ``np.broadcast(loc, scale).size`` samples are drawn.\n",
      "\n",
      "Returns\n",
      "-------\n",
      "out : ndarray or scalar\n",
      "    Drawn samples from the parameterized normal distribution.\n",
      "\n",
      "See Also\n",
      "--------\n",
      "scipy.stats.norm : probability density function, distribution or\n",
      "    cumulative density function, etc.\n",
      "\n",
      "Notes\n",
      "-----\n",
      "The probability density for the Gaussian distribution is\n",
      "\n",
      ".. math:: p(x) = \\frac{1}{\\sqrt{ 2 \\pi \\sigma^2 }}\n",
      "                 e^{ - \\frac{ (x - \\mu)^2 } {2 \\sigma^2} },\n",
      "\n",
      "where :math:`\\mu` is the mean and :math:`\\sigma` the standard\n",
      "deviation. The square of the standard deviation, :math:`\\sigma^2`,\n",
      "is called the variance.\n",
      "\n",
      "The function has its peak at the mean, and its \"spread\" increases with\n",
      "the standard deviation (the function reaches 0.607 times its maximum at\n",
      ":math:`x + \\sigma` and :math:`x - \\sigma` [2]_).  This implies that\n",
      ":meth:`normal` is more likely to return samples lying close to the\n",
      "mean, rather than those far away.\n",
      "\n",
      "References\n",
      "----------\n",
      ".. [1] Wikipedia, \"Normal distribution\",\n",
      "       https://en.wikipedia.org/wiki/Normal_distribution\n",
      ".. [2] P. R. Peebles Jr., \"Central Limit Theorem\" in \"Probability,\n",
      "       Random Variables and Random Signal Principles\", 4th ed., 2001,\n",
      "       pp. 51, 51, 125.\n",
      "\n",
      "Examples\n",
      "--------\n",
      "Draw samples from the distribution:\n",
      "\n",
      ">>> mu, sigma = 0, 0.1 # mean and standard deviation\n",
      ">>> s = np.random.default_rng().normal(mu, sigma, 1000)\n",
      "\n",
      "Verify the mean and the variance:\n",
      "\n",
      ">>> abs(mu - np.mean(s))\n",
      "0.0  # may vary\n",
      "\n",
      ">>> abs(sigma - np.std(s, ddof=1))\n",
      "0.1  # may vary\n",
      "\n",
      "Display the histogram of the samples, along with\n",
      "the probability density function:\n",
      "\n",
      ">>> import matplotlib.pyplot as plt\n",
      ">>> count, bins, ignored = plt.hist(s, 30, density=True)\n",
      ">>> plt.plot(bins, 1/(sigma * np.sqrt(2 * np.pi)) *\n",
      "...                np.exp( - (bins - mu)**2 / (2 * sigma**2) ),\n",
      "...          linewidth=2, color='r')\n",
      ">>> plt.show()\n",
      "\n",
      "Two-by-four array of samples from N(3, 6.25):\n",
      "\n",
      ">>> np.random.default_rng().normal(3, 2.5, size=(2, 4))\n",
      "array([[-4.49401501,  4.00950034, -1.81814867,  7.29718677],   # random\n",
      "       [ 0.39924804,  4.68456316,  4.99394529,  4.84057254]])  # random\n",
      "\u001b[0;31mType:\u001b[0m      builtin_function_or_method\n"
     ],
     "name": "stdout"
    }
   ],
   "source": []
  },
  {
   "cell_type": "code",
   "execution_count": null,
   "metadata": {},
   "outputs": [],
   "source": []
  }
 ],
 "metadata": {
  "kernelspec": {
   "display_name": "Python 3",
   "language": "python",
   "name": "python3"
  },
  "language_info": {
   "codemirror_mode": {
    "name": "ipython",
    "version": 3
   },
   "file_extension": ".py",
   "mimetype": "text/x-python",
   "name": "python",
   "nbconvert_exporter": "python",
   "pygments_lexer": "ipython3",
   "version": "3.8.5-final"
  }
 },
 "nbformat": 4,
 "nbformat_minor": 5
}
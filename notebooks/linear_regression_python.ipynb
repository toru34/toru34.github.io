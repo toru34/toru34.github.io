{
 "cells": [
  {
   "cell_type": "code",
   "execution_count": 2,
   "metadata": {},
   "outputs": [],
   "source": [
    "import numpy as np\n",
    "\n",
    "fig_scale = 2.5"
   ]
  },
  {
   "cell_type": "code",
   "execution_count": null,
   "metadata": {},
   "outputs": [],
   "source": [
    "np.random.seed(34)\n",
    "\n",
    "# Training data\n",
    "x_train = np.linspace(0, 1, 10)\n",
    "t_train = np.sin(2 * np.pi * x_train) + np.random.normal(scale=0.2, size=10)\n",
    "\n",
    "# Test data\n",
    "x_test = np.linspace(0, 1, 100)\n",
    "t_test = np.sin(2 * np.pi * x_test)"
   ]
  },
  {
   "cell_type": "code",
   "execution_count": null,
   "metadata": {},
   "outputs": [],
   "source": [
    "def polynomial_function(x_train, t_train, power):\n",
    "    X_train = np.stack([np.power(x_train, p) for p in range(power+1)], axis=1)\n",
    "    \n",
    "    w_ml = np.linalg.inv(X_train.T @ X_train) @ X_train.T @ t_train\n",
    "    \n",
    "    def _polynomial_function(x_test):\n",
    "        X_test = np.stack([np.power(x_test, p) for p in range(power+1)], axis=1)\n",
    "        \n",
    "        return X_test @ w_ml\n",
    "    \n",
    "    return _polynomial_function"
   ]
  },
  {
   "cell_type": "code",
   "execution_count": null,
   "metadata": {},
   "outputs": [],
   "source": [
    "np.random.seed(34)\n",
    "\n",
    "fig = plt.figure(figsize=(6.4 * fig_scale, 4.8 * fig_scale))\n",
    "\n",
    "# M = 0\n",
    "ax = fig.add_subplot(221)\n",
    "ax.plot(x_test, t_test, color='lime')\n",
    "ax.scatter(x_train, t_train, edgecolor='blue', facecolor='none')\n",
    "\n",
    "f = polynomial_function(x_train, t_train, power=0)\n",
    "ax.plot(x_test, f(x_test), color='red')\n",
    "ax.text(x=0.8, y=1, s=r'$M=0$', fontsize=20)\n",
    "\n",
    "# M = 1\n",
    "ax = fig.add_subplot(222)\n",
    "ax.plot(x_test, t_test, color='lime')\n",
    "ax.scatter(x_train, t_train, edgecolor='blue', facecolor='none')\n",
    "\n",
    "f = polynomial_function(x_train, t_train, power=1)\n",
    "ax.plot(x_test, f(x_test), color='red')\n",
    "ax.text(x=0.8, y=1, s=r'$M=1$', fontsize=20)\n",
    "\n",
    "# M = 3\n",
    "ax = fig.add_subplot(223)\n",
    "ax.plot(x_test, t_test, color='lime')\n",
    "ax.scatter(x_train, t_train, edgecolor='blue', facecolor='none')\n",
    "\n",
    "f = polynomial_function(x_train, t_train, power=3)\n",
    "ax.plot(x_test, f(x_test), color='red')\n",
    "ax.text(x=0.8, y=1, s=r'$M=3$', fontsize=20)\n",
    "\n",
    "# M = 9\n",
    "ax = fig.add_subplot(224)\n",
    "ax.plot(x_test, t_test, color='lime')\n",
    "ax.scatter(x_train, t_train, edgecolor='blue', facecolor='none')\n",
    "\n",
    "f = polynomial_function(x_train, t_train, power=9)\n",
    "ax.plot(x_test, f(x_test), color='red')\n",
    "ax.text(x=0.8, y=1, s=r'$M=9$', fontsize=20)\n",
    "\n",
    "plt.show()"
   ]
  },
  {
   "cell_type": "code",
   "execution_count": null,
   "metadata": {},
   "outputs": [],
   "source": [
    "def root_mean_square(f, x_test, t_test):\n",
    "    return np.sqrt(np.mean((f(x_test) - t_test)**2))"
   ]
  },
  {
   "cell_type": "code",
   "execution_count": null,
   "metadata": {},
   "outputs": [],
   "source": [
    "powers = np.arange(0, 10)\n",
    "rmss_train = []\n",
    "rmss_test = []\n",
    "\n",
    "for power in powers:\n",
    "    f = polynomial_function(x_train, t_train, power=power)\n",
    "    \n",
    "    rms_train = root_mean_square(f, x_train, t_train)\n",
    "    rms_test = root_mean_square(f, x_test, t_test)\n",
    "    \n",
    "    rmss_train.append(rms_train)\n",
    "    rmss_test.append(rms_test)\n",
    "\n",
    "# fig = plt.figure(figsize=(6.4 * fig_scale, 4.8 * fig_scale))\n",
    "\n",
    "# ax = fig.add_subplot(111)\n",
    "ax = plt.subplot()\n",
    "ax.plot(powers, rmss_train, color='blue', marker='o', label='Training')\n",
    "ax.plot(powers, rmss_test, color='red', marker='o', label='Test')\n",
    "\n",
    "ax.legend()\n",
    "\n",
    "plt.show()"
   ]
  },
  {
   "cell_type": "code",
   "execution_count": null,
   "metadata": {},
   "outputs": [],
   "source": [
    "# fig = plt.figure(figsize=(6.4 * fig_scale, 4.8 * fig_scale))\n",
    "\n",
    "# ax = fig.add_subplot(111)\n",
    "\n",
    "# plt.show()"
   ]
  },
  {
   "cell_type": "code",
   "execution_count": null,
   "metadata": {},
   "outputs": [],
   "source": [
    "np.random.seed(34)\n",
    "\n",
    "ax = plt.subplot()\n",
    "\n",
    "x = np.linspace(0, 1, 10)\n",
    "t = np.sin(2 * np.pi * x) + np.random.normal(scale=0.2, size=10)\n",
    "\n",
    "x_line = np.linspace(0, 1, 100)\n",
    "t_line = np.sin(2 * np.pi * x_line)\n",
    "\n",
    "ax.scatter(x, t, edgecolor='blue', facecolor='none')\n",
    "ax.plot(x_line, t_line, color='lime')"
   ]
  },
  {
   "cell_type": "code",
   "execution_count": null,
   "metadata": {},
   "outputs": [],
   "source": [
    "power = 3\n",
    "\n",
    "X = np.stack([np.power(x, p) for p in range(power+1)], axis=1)\n",
    "\n",
    "w = np.linalg.inv(X.T @ X) @ X.T @ t\n",
    "\n",
    "plt.scatter(X[:, 1], X @ w)"
   ]
  },
  {
   "cell_type": "code",
   "execution_count": null,
   "metadata": {},
   "outputs": [],
   "source": [
    "power = 30\n",
    "lmd = 0.01\n",
    "\n",
    "X = np.stack([np.power(x, p) for p in range(power+1)], axis=1)\n",
    "\n",
    "w = np.linalg.inv(lmd * np.eye(X.shape[1]) + X.T @ X) @ X.T @ t\n",
    "\n",
    "plt.scatter(X[:, 1], X @ w)"
   ]
  },
  {
   "cell_type": "code",
   "execution_count": null,
   "metadata": {},
   "outputs": [],
   "source": [
    "X.shape, x_line.shape"
   ]
  },
  {
   "cell_type": "code",
   "execution_count": null,
   "metadata": {},
   "outputs": [],
   "source": []
  }
 ],
 "metadata": {
  "kernelspec": {
   "display_name": "Python 3",
   "language": "python",
   "name": "python3"
  },
  "language_info": {
   "codemirror_mode": {
    "name": "ipython",
    "version": 3
   },
   "file_extension": ".py",
   "mimetype": "text/x-python",
   "name": "python",
   "nbconvert_exporter": "python",
   "pygments_lexer": "ipython3",
   "version": "3.8.5"
  }
 },
 "nbformat": 4,
 "nbformat_minor": 4
}

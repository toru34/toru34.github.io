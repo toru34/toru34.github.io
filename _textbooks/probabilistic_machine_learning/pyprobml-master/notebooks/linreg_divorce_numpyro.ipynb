{
  "nbformat": 4,
  "nbformat_minor": 0,
  "metadata": {
    "colab": {
      "name": "linreg_divorce_numpyro.ipynb",
      "provenance": [],
      "toc_visible": true,
      "authorship_tag": "ABX9TyMAtUs/BjAM8bCfZRQ7MotY",
      "include_colab_link": true
    },
    "kernelspec": {
      "name": "python3",
      "display_name": "Python 3"
    },
    "language_info": {
      "name": "python"
    }
  },
  "cells": [
    {
      "cell_type": "markdown",
      "metadata": {
        "id": "view-in-github",
        "colab_type": "text"
      },
      "source": [
        "<a href=\"https://colab.research.google.com/github/probml/pyprobml/blob/master/notebooks/linreg_divorce_numpyro.ipynb\" target=\"_parent\"><img src=\"https://colab.research.google.com/assets/colab-badge.svg\" alt=\"Open In Colab\"/></a>"
      ]
    },
    {
      "cell_type": "markdown",
      "metadata": {
        "id": "xuUCwM8u7d_C"
      },
      "source": [
        "# Robust linear regression \n",
        "\n",
        "We illustrate  linear using the \"waffle divorce\" example in sec 5.1  of [Statistical Rethinking ed 2](https://xcelab.net/rm/statistical-rethinking/). \n",
        "The numpyro code is from [Du Phan's site](https://fehiepsi.github.io/rethinking-numpyro/05-the-many-variables-and-the-spurious-waffles.html)\n",
        "  \n",
        "\n"
      ]
    },
    {
      "cell_type": "code",
      "metadata": {
        "colab": {
          "base_uri": "https://localhost:8080/"
        },
        "id": "zrZ4gm-47aCF",
        "outputId": "4879c72d-2ba1-4eaa-d441-0aa3acaf3ad6"
      },
      "source": [
        "!pip install -q numpyro@git+https://github.com/pyro-ppl/numpyro\n",
        "!pip install -q arviz"
      ],
      "execution_count": 1,
      "outputs": [
        {
          "output_type": "stream",
          "text": [
            "  Building wheel for numpyro (setup.py) ... \u001b[?25l\u001b[?25hdone\n",
            "\u001b[K     |████████████████████████████████| 1.6MB 15.0MB/s \n",
            "\u001b[K     |████████████████████████████████| 808kB 35.4MB/s \n",
            "\u001b[K     |████████████████████████████████| 4.7MB 36.1MB/s \n",
            "\u001b[K     |████████████████████████████████| 317kB 36.7MB/s \n",
            "\u001b[?25h"
          ],
          "name": "stdout"
        }
      ]
    },
    {
      "cell_type": "code",
      "metadata": {
        "colab": {
          "base_uri": "https://localhost:8080/"
        },
        "id": "Ae7e0Ef671cl",
        "outputId": "952dcffc-4918-4058-da4b-e7bf63815cb2"
      },
      "source": [
        "import numpy as np\n",
        "np.set_printoptions(precision=3)\n",
        "import matplotlib.pyplot as plt\n",
        "import math\n",
        "import os\n",
        "import warnings\n",
        "import pandas as pd\n",
        "\n",
        "import jax\n",
        "print(\"jax version {}\".format(jax.__version__))\n",
        "print(\"jax backend {}\".format(jax.lib.xla_bridge.get_backend().platform))\n",
        "\n",
        "import jax.numpy as jnp\n",
        "from jax import random, vmap\n",
        "\n",
        "rng_key = random.PRNGKey(0)\n",
        "rng_key, rng_key_ = random.split(rng_key)\n",
        "\n",
        "import numpyro\n",
        "import numpyro.distributions as dist\n",
        "from numpyro.distributions import constraints\n",
        "from numpyro.distributions.transforms import AffineTransform\n",
        "from numpyro.diagnostics import hpdi, print_summary\n",
        "from numpyro.infer import Predictive, log_likelihood\n",
        "from numpyro.infer import MCMC, NUTS\n",
        "from numpyro.infer import SVI, Trace_ELBO, init_to_value\n",
        "from numpyro.infer.autoguide import AutoLaplaceApproximation\n",
        "import numpyro.optim as optim\n",
        "\n",
        "\n",
        "import arviz as az"
      ],
      "execution_count": 24,
      "outputs": [
        {
          "output_type": "stream",
          "text": [
            "jax version 0.2.12\n",
            "jax backend cpu\n"
          ],
          "name": "stdout"
        }
      ]
    },
    {
      "cell_type": "markdown",
      "metadata": {
        "id": "MyKMMdN_7yEh"
      },
      "source": [
        "# Data\n",
        "\n",
        "The data records the divorce rate $D$, marriage rate $M$, and average age $A$ that people get married at for 50 US states."
      ]
    },
    {
      "cell_type": "code",
      "metadata": {
        "id": "avu-Z75e7zBK"
      },
      "source": [
        "# load data and copy\n",
        "url = 'https://raw.githubusercontent.com/fehiepsi/rethinking-numpyro/master/data/WaffleDivorce.csv'\n",
        "WaffleDivorce = pd.read_csv(url, sep=\";\")\n",
        "d = WaffleDivorce\n",
        "\n",
        "# standardize variables\n",
        "d[\"A\"] = d.MedianAgeMarriage.pipe(lambda x: (x - x.mean()) / x.std())\n",
        "d[\"D\"] = d.Divorce.pipe(lambda x: (x - x.mean()) / x.std())\n",
        "d[\"M\"] = d.Marriage.pipe(lambda x: (x - x.mean()) / x.std())"
      ],
      "execution_count": 4,
      "outputs": []
    },
    {
      "cell_type": "markdown",
      "metadata": {
        "id": "Zycpf_NB8WNA"
      },
      "source": [
        "# Model (Gaussian likelihood)\n",
        "\n",
        "We predict divorce rate D given marriage rate M and age A."
      ]
    },
    {
      "cell_type": "code",
      "metadata": {
        "colab": {
          "base_uri": "https://localhost:8080/"
        },
        "id": "D2jggu2v8XOU",
        "outputId": "6974503e-0a27-466e-9668-881e0f96a2ad"
      },
      "source": [
        "def model(M, A, D=None):\n",
        "    a = numpyro.sample(\"a\", dist.Normal(0, 0.2))\n",
        "    bM = numpyro.sample(\"bM\", dist.Normal(0, 0.5))\n",
        "    bA = numpyro.sample(\"bA\", dist.Normal(0, 0.5))\n",
        "    sigma = numpyro.sample(\"sigma\", dist.Exponential(1))\n",
        "    mu = numpyro.deterministic(\"mu\", a + bM * M + bA * A)\n",
        "    numpyro.sample(\"D\", dist.Normal(mu, sigma), obs=D)\n",
        "\n",
        "\n",
        "m5_3 = AutoLaplaceApproximation(model)\n",
        "svi = SVI(model, m5_3, optim.Adam(1), Trace_ELBO(), M=d.M.values, A=d.A.values, D=d.D.values)\n",
        "p5_3, losses = svi.run(random.PRNGKey(0), 1000)\n",
        "post = m5_3.sample_posterior(random.PRNGKey(1), p5_3, (1000,))\n"
      ],
      "execution_count": 9,
      "outputs": [
        {
          "output_type": "stream",
          "text": [
            "100%|██████████| 1000/1000 [00:01<00:00, 718.29it/s, init loss: 3201.7393, avg. loss [951-1000]: 60.7879]\n"
          ],
          "name": "stderr"
        }
      ]
    },
    {
      "cell_type": "code",
      "metadata": {
        "colab": {
          "base_uri": "https://localhost:8080/"
        },
        "id": "omQy9sZf9M9q",
        "outputId": "a8b98472-a44f-4b34-f461-a4c7bd431b13"
      },
      "source": [
        "param_names = {'a', 'bA', 'bM', 'sigma'}\n",
        "for p in param_names:\n",
        "  print(f'posterior for {p}')\n",
        "  print_summary(post[p], 0.95, False)\n",
        "          \n"
      ],
      "execution_count": 12,
      "outputs": [
        {
          "output_type": "stream",
          "text": [
            "posterior for bM\n",
            "\n",
            "                mean       std    median      2.5%     97.5%     n_eff     r_hat\n",
            "   Param:0     -0.06      0.16     -0.06     -0.38      0.24    984.99      1.00\n",
            "\n",
            "posterior for bA\n",
            "\n",
            "                mean       std    median      2.5%     97.5%     n_eff     r_hat\n",
            "   Param:0     -0.61      0.16     -0.61     -0.90     -0.30    822.38      1.00\n",
            "\n",
            "posterior for sigma\n",
            "\n",
            "                mean       std    median      2.5%     97.5%     n_eff     r_hat\n",
            "   Param:0      0.80      0.08      0.79      0.65      0.94    971.25      1.00\n",
            "\n",
            "posterior for a\n",
            "\n",
            "                mean       std    median      2.5%     97.5%     n_eff     r_hat\n",
            "   Param:0     -0.00      0.10     -0.01     -0.19      0.17   1049.96      1.00\n",
            "\n"
          ],
          "name": "stdout"
        }
      ]
    },
    {
      "cell_type": "markdown",
      "metadata": {
        "id": "w-2Y2AY-91OU"
      },
      "source": [
        "# Posterior predicted vs actual"
      ]
    },
    {
      "cell_type": "code",
      "metadata": {
        "id": "OgH6toqX9NyV"
      },
      "source": [
        "# call predictive without specifying new data\n",
        "# so it uses original data\n",
        "post = m5_3.sample_posterior(random.PRNGKey(1), p5_3, (int(1e4),))\n",
        "post_pred = Predictive(m5_3.model, post)(random.PRNGKey(2), M=d.M.values, A=d.A.values)\n",
        "mu = post_pred[\"mu\"]\n",
        "\n",
        "# summarize samples across cases\n",
        "mu_mean = jnp.mean(mu, 0)\n",
        "mu_PI = jnp.percentile(mu, q=(5.5, 94.5), axis=0)\n",
        "\n"
      ],
      "execution_count": 46,
      "outputs": []
    },
    {
      "cell_type": "code",
      "metadata": {
        "colab": {
          "base_uri": "https://localhost:8080/",
          "height": 278
        },
        "id": "pmxVjQGg-omZ",
        "outputId": "64201dd2-55e7-411f-d8fa-67a7291f7701"
      },
      "source": [
        "ax = plt.subplot(\n",
        "    ylim=(float(mu_PI.min()), float(mu_PI.max())),\n",
        "    xlabel=\"Observed divorce\",\n",
        "    ylabel=\"Predicted divorce\"\n",
        ")\n",
        "plt.plot(d.D, mu_mean, \"o\")\n",
        "x = jnp.linspace(mu_PI.min(), mu_PI.max(), 101)\n",
        "plt.plot(x, x, \"--\")\n",
        "for i in range(d.shape[0]):\n",
        "    plt.plot([d.D[i]] * 2, mu_PI[:, i], \"b\")\n",
        "fig = plt.gcf()"
      ],
      "execution_count": 47,
      "outputs": [
        {
          "output_type": "display_data",
          "data": {
            "image/png": "[encoded data removed]",
            "text/plain": [
              "<Figure size 432x288 with 1 Axes>"
            ]
          },
          "metadata": {
            "tags": [],
            "needs_background": "light"
          }
        }
      ]
    },
    {
      "cell_type": "code",
      "metadata": {
        "colab": {
          "base_uri": "https://localhost:8080/",
          "height": 295
        },
        "id": "C5LQYmJ7-owr",
        "outputId": "04afba64-94ae-483e-9399-5a010d98aedf"
      },
      "source": [
        "for i in range(d.shape[0]):\n",
        "    if d.Loc[i] in [\"ID\", \"UT\", \"AR\", \"ME\"]:\n",
        "        ax.annotate(\n",
        "            d.Loc[i], (d.D[i], mu_mean[i]), xytext=(-25, -5), textcoords=\"offset pixels\"\n",
        "        )\n",
        "plt.tight_layout()\n",
        "plt.savefig('linreg_divorce_postpred.pdf')\n",
        "plt.show()\n",
        "fig"
      ],
      "execution_count": 48,
      "outputs": [
        {
          "output_type": "display_data",
          "data": {
            "text/plain": [
              "<Figure size 432x288 with 0 Axes>"
            ]
          },
          "metadata": {
            "tags": []
          }
        },
        {
          "output_type": "execute_result",
          "data": {
            "image/png": "[encoded data removed]",
            "text/plain": [
              "<Figure size 432x288 with 1 Axes>"
            ]
          },
          "metadata": {
            "tags": []
          },
          "execution_count": 48
        }
      ]
    },
    {
      "cell_type": "markdown",
      "metadata": {
        "id": "lT7ATLTm_nrM"
      },
      "source": [
        "# Per-point LOO scores\n",
        "\n",
        "We compute the predicted probability of each point given the others, following\n",
        "sec 7.5.2   of [Statistical Rethinking ed 2](https://xcelab.net/rm/statistical-rethinking/). \n",
        "The numpyro code is from [Du Phan's site](https://fehiepsi.github.io/rethinking-numpyro/07-ulysses-compass.html)\n",
        "  \n"
      ]
    },
    {
      "cell_type": "code",
      "metadata": {
        "id": "AhXUMAg_-w2P"
      },
      "source": [
        "#post = m5_3.sample_posterior(random.PRNGKey(24071847), p5_3, (1000,))\n",
        "logprob = log_likelihood(m5_3.model, post, A=d.A.values, M=d.M.values, D=d.D.values)[\n",
        "    \"D\"\n",
        "]\n",
        "az5_3 = az.from_dict(\n",
        "    posterior={k: v[None, ...] for k, v in post.items()},\n",
        "    log_likelihood={\"D\": logprob[None, ...]},\n",
        ")"
      ],
      "execution_count": 49,
      "outputs": []
    },
    {
      "cell_type": "code",
      "metadata": {
        "colab": {
          "base_uri": "https://localhost:8080/",
          "height": 380
        },
        "id": "CtBDE7SMAcUU",
        "outputId": "6ac0092d-c99d-4b1c-fb27-082eab672cf7"
      },
      "source": [
        "PSIS_m5_3 = az.loo(az5_3, pointwise=True, scale=\"deviance\")\n",
        "WAIC_m5_3 = az.waic(az5_3, pointwise=True, scale=\"deviance\")\n",
        "penalty = az5_3.log_likelihood.stack(sample=(\"chain\", \"draw\")).var(dim=\"sample\")\n",
        "\n",
        "fig, ax = plt.subplots()\n",
        "ax.plot(PSIS_m5_3.pareto_k.values, penalty.D.values, \"o\", mfc=\"none\")\n",
        "ax.set_xlabel(\"PSIS Pareto k\")\n",
        "ax.set_ylabel(\"WAIC penalty\")\n",
        "\n",
        "plt.savefig('linreg_divorce_waic_vs_pareto.pdf')\n",
        "plt.show()\n",
        "plt.show()"
      ],
      "execution_count": 61,
      "outputs": [
        {
          "output_type": "stream",
          "text": [
            "/usr/local/lib/python3.7/dist-packages/arviz/stats/stats.py:656: UserWarning: Estimated shape parameter of Pareto distribution is greater than 0.7 for one or more samples. You should consider using a more robust model, this is because importance sampling is less likely to work well if the marginal posterior and LOO posterior are very different. This is more likely to happen with a non-robust model and highly influential observations.\n",
            "  \"Estimated shape parameter of Pareto distribution is greater than 0.7 for \"\n",
            "/usr/local/lib/python3.7/dist-packages/arviz/stats/stats.py:1407: UserWarning: For one or more samples the posterior variance of the log predictive densities exceeds 0.4. This could be indication of WAIC starting to fail. \n",
            "See http://arxiv.org/abs/1507.04544 for details\n",
            "  \"For one or more samples the posterior variance of the log predictive \"\n"
          ],
          "name": "stderr"
        },
        {
          "output_type": "display_data",
          "data": {
            "image/png": "[encoded data removed]",
            "text/plain": [
              "<Figure size 432x288 with 1 Axes>"
            ]
          },
          "metadata": {
            "tags": [],
            "needs_background": "light"
          }
        }
      ]
    },
    {
      "cell_type": "code",
      "metadata": {
        "colab": {
          "base_uri": "https://localhost:8080/",
          "height": 327
        },
        "id": "GeHg_-JDA_KA",
        "outputId": "8044852c-06ac-45c7-d747-2a974f45ddb0"
      },
      "source": [
        "pareto =  PSIS_m5_3.pareto_k.values\n",
        "waic = penalty.D.values\n",
        "ndx = np.where(pareto > 0.4)[0]\n",
        "for i in ndx:\n",
        "  print(d.Loc[i], pareto[i], waic[i])\n",
        "\n",
        "\n",
        "for i in ndx:\n",
        "    ax.annotate(d.Loc[i], (pareto[i], waic[i]), xytext=(5, 0), textcoords=\"offset pixels\")\n",
        "fig"
      ],
      "execution_count": 62,
      "outputs": [
        {
          "output_type": "stream",
          "text": [
            "ID 0.8625359073761971 2.032347\n",
            "ME 0.669250330617351 0.86887264\n",
            "ND 0.4184033659196669 0.22986734\n"
          ],
          "name": "stdout"
        },
        {
          "output_type": "execute_result",
          "data": {
            "image/png": "[encoded data removed]",
            "text/plain": [
              "<Figure size 432x288 with 1 Axes>"
            ]
          },
          "metadata": {
            "tags": []
          },
          "execution_count": 62
        }
      ]
    },
    {
      "cell_type": "markdown",
      "metadata": {
        "id": "Lu8OOz-hFhIe"
      },
      "source": [
        "# Student likelihood"
      ]
    },
    {
      "cell_type": "code",
      "metadata": {
        "colab": {
          "base_uri": "https://localhost:8080/"
        },
        "id": "wRTRc2hsBPUA",
        "outputId": "367f484e-b32a-432c-ba47-b034270680fa"
      },
      "source": [
        "def model(M, A, D=None):\n",
        "    a = numpyro.sample(\"a\", dist.Normal(0, 0.2))\n",
        "    bM = numpyro.sample(\"bM\", dist.Normal(0, 0.5))\n",
        "    bA = numpyro.sample(\"bA\", dist.Normal(0, 0.5))\n",
        "    sigma = numpyro.sample(\"sigma\", dist.Exponential(1))\n",
        "    #mu = a + bM * M + bA * A\n",
        "    mu = numpyro.deterministic(\"mu\", a + bM * M + bA * A)\n",
        "    numpyro.sample(\"D\", dist.StudentT(2, mu, sigma), obs=D)\n",
        "\n",
        "\n",
        "m5_3t = AutoLaplaceApproximation(model)\n",
        "svi = SVI(\n",
        "    model, m5_3t, optim.Adam(0.3), Trace_ELBO(), M=d.M.values, A=d.A.values, D=d.D.values\n",
        ")\n",
        "p5_3t, losses = svi.run(random.PRNGKey(0), 1000)"
      ],
      "execution_count": 55,
      "outputs": [
        {
          "output_type": "stream",
          "text": [
            "100%|██████████| 1000/1000 [00:01<00:00, 677.59it/s, init loss: 194.5655, avg. loss [951-1000]: 63.3271]\n"
          ],
          "name": "stderr"
        }
      ]
    },
    {
      "cell_type": "code",
      "metadata": {
        "colab": {
          "base_uri": "https://localhost:8080/",
          "height": 278
        },
        "id": "64ZEbcnQFl0E",
        "outputId": "dfccdae3-5578-4ad4-dc80-22c16ae82844"
      },
      "source": [
        "# call predictive without specifying new data\n",
        "# so it uses original data\n",
        "post_t = m5_3t.sample_posterior(random.PRNGKey(1), p5_3t, (int(1e4),))\n",
        "post_pred_t = Predictive(m5_3t.model, post_t)(random.PRNGKey(2), M=d.M.values, A=d.A.values)\n",
        "mu = post_pred_t[\"mu\"]\n",
        "\n",
        "# summarize samples across cases\n",
        "mu_mean = jnp.mean(mu, 0)\n",
        "mu_PI = jnp.percentile(mu, q=(5.5, 94.5), axis=0)\n",
        "\n",
        "\n",
        "ax = plt.subplot(\n",
        "    ylim=(float(mu_PI.min()), float(mu_PI.max())),\n",
        "    xlabel=\"Observed divorce\",\n",
        "    ylabel=\"Predicted divorce\"\n",
        ")\n",
        "plt.plot(d.D, mu_mean, \"o\")\n",
        "x = jnp.linspace(mu_PI.min(), mu_PI.max(), 101)\n",
        "plt.plot(x, x, \"--\")\n",
        "for i in range(d.shape[0]):\n",
        "    plt.plot([d.D[i]] * 2, mu_PI[:, i], \"b\")\n",
        "fig = plt.gcf()"
      ],
      "execution_count": 56,
      "outputs": [
        {
          "output_type": "display_data",
          "data": {
            "image/png": "[encoded data removed]",
            "text/plain": [
              "<Figure size 432x288 with 1 Axes>"
            ]
          },
          "metadata": {
            "tags": [],
            "needs_background": "light"
          }
        }
      ]
    }
  ]
}
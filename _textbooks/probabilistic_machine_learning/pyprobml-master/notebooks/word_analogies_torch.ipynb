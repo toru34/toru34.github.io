{
  "nbformat": 4,
  "nbformat_minor": 0,
  "metadata": {
    "colab": {
      "name": "word_analogies_torch.ipynb",
      "provenance": [],
      "toc_visible": true,
      "authorship_tag": "ABX9TyPGGCgJ5TwAOYqIIYSiah8R",
      "include_colab_link": true
    },
    "kernelspec": {
      "name": "python367jvsc74a57bd050da0f6fa72fb86d21724871d314354b884db45bd357078f1680189ca335f685",
      "display_name": "Python 3.6.7 64-bit ('base': conda)"
    },
    "language_info": {
      "name": "python",
      "version": "3.6.7-final"
    },
    "accelerator": "GPU",
    "metadata": {
      "interpreter": {
        "hash": "dfc3641d2968f953b738b1dc0c9747e3c41396f999ba0376896eb7547ee9da03"
      }
    }
  },
  "cells": [
    {
      "cell_type": "markdown",
      "metadata": {
        "id": "view-in-github",
        "colab_type": "text"
      },
      "source": [
        "<a href=\"https://colab.research.google.com/github/probml/pyprobml/blob/master/notebooks/word_analogies_torch.ipynb\" target=\"_parent\"><img src=\"https://colab.research.google.com/assets/colab-badge.svg\" alt=\"Open In Colab\"/></a>"
      ]
    },
    {
      "cell_type": "markdown",
      "metadata": {
        "id": "4NznbOHRe2fO"
      },
      "source": [
        "\n",
        "# Solving word analogies using pre-trained word embeddings\n",
        "\n",
        "Based on D2L 14.7\n",
        "\n",
        "http://d2l.ai/chapter_natural-language-processing-pretraining/similarity-analogy.html\n",
        "\n"
      ]
    },
    {
      "cell_type": "code",
      "metadata": {
        "id": "7FMeymiael2A"
      },
      "source": [
        "import numpy as np\n",
        "import matplotlib.pyplot as plt\n",
        "np.random.seed(seed=1)\n",
        "import math\n",
        "\n",
        "import requests\n",
        "import zipfile\n",
        "import hashlib\n",
        "\n",
        "import os\n",
        "import random\n",
        "import torch\n",
        "from torch import nn\n",
        "from torch.nn import functional as F\n",
        "\n",
        "!mkdir figures # for saving plots\n"
      ],
      "execution_count": 2,
      "outputs": [
        {
          "output_type": "stream",
          "name": "stdout",
          "text": [
            "mkdir: figures: File exists\n"
          ]
        }
      ]
    },
    {
      "cell_type": "code",
      "execution_count": 3,
      "metadata": {},
      "outputs": [],
      "source": [
        "# Required functions\n",
        "def download(name, cache_dir=os.path.join('..', 'data')):\n",
        "    \"\"\"Download a file inserted into DATA_HUB, return the local filename.\"\"\"\n",
        "    assert name in DATA_HUB, f\"{name} does not exist in {DATA_HUB}.\"\n",
        "    url, sha1_hash = DATA_HUB[name]\n",
        "    os.makedirs(cache_dir, exist_ok=True)\n",
        "    fname = os.path.join(cache_dir, url.split('/')[-1])\n",
        "    if os.path.exists(fname):\n",
        "        sha1 = hashlib.sha1()\n",
        "        with open(fname, 'rb') as f:\n",
        "            while True:\n",
        "                data = f.read(1048576)\n",
        "                if not data:\n",
        "                    break\n",
        "                sha1.update(data)\n",
        "        if sha1.hexdigest() == sha1_hash:\n",
        "            return fname  # Hit cache\n",
        "    print(f'Downloading {fname} from {url}...')\n",
        "    r = requests.get(url, stream=True, verify=True)\n",
        "    with open(fname, 'wb') as f:\n",
        "        f.write(r.content)\n",
        "    return fname\n",
        "\n",
        "def download_extract(name, folder=None):\n",
        "    \"\"\"Download and extract a zip/tar file.\"\"\"\n",
        "    fname = download(name)\n",
        "    base_dir = os.path.dirname(fname)\n",
        "    data_dir, ext = os.path.splitext(fname)\n",
        "    if ext == '.zip':\n",
        "        fp = zipfile.ZipFile(fname, 'r')\n",
        "    elif ext in ('.tar', '.gz'):\n",
        "        fp = tarfile.open(fname, 'r')\n",
        "    else:\n",
        "        assert False, 'Only zip/tar files can be extracted.'\n",
        "    fp.extractall(base_dir)\n",
        "    return os.path.join(base_dir, folder) if folder else data_dir"
      ]
    },
    {
      "cell_type": "markdown",
      "metadata": {
        "id": "Z1xTDK1Qf9aA"
      },
      "source": [
        "# Get pre-trained word embeddings"
      ]
    },
    {
      "cell_type": "markdown",
      "metadata": {
        "id": "o0GSs7iSfuH7"
      },
      "source": [
        "Pretrained embeddings taken from \n",
        "\n",
        "GloVe website: https://nlp.stanford.edu/projects/glove/\n",
        "\n",
        "fastText website: https://fasttext.cc/\n"
      ]
    },
    {
      "cell_type": "code",
      "metadata": {
        "id": "w1NzVIFPfBFQ"
      },
      "source": [
        "DATA_HUB = dict()\n",
        "DATA_URL = 'http://d2l-data.s3-accelerate.amazonaws.com/'\n",
        "\n",
        "DATA_HUB['glove.6b.50d'] = (DATA_URL + 'glove.6B.50d.zip',\n",
        "                              '0b8703943ccdb6eb788e6f091b8946e82231bc4d')\n",
        "\n",
        "DATA_HUB['glove.6b.100d'] = (DATA_URL + 'glove.6B.100d.zip',\n",
        "                                 'cd43bfb07e44e6f27cbcc7bc9ae3d80284fdaf5a')\n",
        "\n",
        "DATA_HUB['glove.42b.300d'] = (DATA_URL + 'glove.42B.300d.zip',\n",
        "                                  'b5116e234e9eb9076672cfeabf5469f3eec904fa')\n",
        "\n",
        "DATA_HUB['wiki.en'] = (DATA_URL + 'wiki.en.zip',\n",
        "                           'c1816da3821ae9f43899be655002f6c723e91b88')"
      ],
      "execution_count": 4,
      "outputs": []
    },
    {
      "cell_type": "code",
      "metadata": {
        "id": "XZR0gKx0f2im"
      },
      "source": [
        "class TokenEmbedding:\n",
        "    \"\"\"Token Embedding.\"\"\"\n",
        "    def __init__(self, embedding_name):\n",
        "        self.idx_to_token, self.idx_to_vec = self._load_embedding(\n",
        "            embedding_name)\n",
        "        self.unknown_idx = 0\n",
        "        self.token_to_idx = {\n",
        "            token: idx for idx, token in enumerate(self.idx_to_token)}\n",
        "\n",
        "    def _load_embedding(self, embedding_name):\n",
        "        idx_to_token, idx_to_vec = ['<unk>'], []\n",
        "        # data_dir = d2l.download_extract(embedding_name)\n",
        "        data_dir = download_extract(embedding_name)\n",
        "        # GloVe website: https://nlp.stanford.edu/projects/glove/\n",
        "        # fastText website: https://fasttext.cc/\n",
        "        with open(os.path.join(data_dir, 'vec.txt'), 'r') as f:\n",
        "            for line in f:\n",
        "                elems = line.rstrip().split(' ')\n",
        "                token, elems = elems[0], [float(elem) for elem in elems[1:]]\n",
        "                # Skip header information, such as the top row in fastText\n",
        "                if len(elems) > 1:\n",
        "                    idx_to_token.append(token)\n",
        "                    idx_to_vec.append(elems)\n",
        "        idx_to_vec = [[0] * len(idx_to_vec[0])] + idx_to_vec\n",
        "        return idx_to_token, torch.tensor(idx_to_vec)\n",
        "\n",
        "    def __getitem__(self, tokens):\n",
        "        indices = [\n",
        "            self.token_to_idx.get(token, self.unknown_idx)\n",
        "            for token in tokens]\n",
        "        vecs = self.idx_to_vec[torch.tensor(indices)]\n",
        "        return vecs\n",
        "\n",
        "    def __len__(self):\n",
        "        return len(self.idx_to_token)"
      ],
      "execution_count": 7,
      "outputs": []
    },
    {
      "cell_type": "markdown",
      "metadata": {
        "id": "CX6p18D3gHKT"
      },
      "source": [
        "Get a 50dimensional glove embedding, with vocab size of 400k"
      ]
    },
    {
      "cell_type": "code",
      "metadata": {
        "colab": {
          "base_uri": "https://localhost:8080/"
        },
        "id": "8A_9mY5qgGbZ",
        "outputId": "3667dbff-840a-424e-9538-6ad2761a1cf9"
      },
      "source": [
        "glove_6b50d = TokenEmbedding('glove.6b.50d')"
      ],
      "execution_count": 8,
      "outputs": [
        {
          "output_type": "stream",
          "name": "stdout",
          "text": [
            "Downloading ../data/glove.6B.50d.zip from http://d2l-data.s3-accelerate.amazonaws.com/glove.6B.50d.zip...\n"
          ]
        }
      ]
    },
    {
      "cell_type": "code",
      "metadata": {
        "colab": {
          "base_uri": "https://localhost:8080/"
        },
        "id": "sgmGyJStgGo_",
        "outputId": "7e7b4155-6e96-4667-ba7c-91770f04595a"
      },
      "source": [
        "len(glove_6b50d)"
      ],
      "execution_count": 9,
      "outputs": [
        {
          "output_type": "execute_result",
          "data": {
            "text/plain": [
              "400001"
            ]
          },
          "metadata": {},
          "execution_count": 9
        }
      ]
    },
    {
      "cell_type": "markdown",
      "metadata": {
        "id": "LrWGMzT3gQpi"
      },
      "source": [
        "Map from word to index and vice versa."
      ]
    },
    {
      "cell_type": "code",
      "metadata": {
        "colab": {
          "base_uri": "https://localhost:8080/"
        },
        "id": "tvnnAN5vgNj2",
        "outputId": "9405b7bf-0c28-49e0-9b45-ae8cf1117eb9"
      },
      "source": [
        "glove_6b50d.token_to_idx['beautiful'], glove_6b50d.idx_to_token[3367]"
      ],
      "execution_count": 10,
      "outputs": [
        {
          "output_type": "execute_result",
          "data": {
            "text/plain": [
              "(3367, 'beautiful')"
            ]
          },
          "metadata": {},
          "execution_count": 10
        }
      ]
    },
    {
      "cell_type": "code",
      "metadata": {
        "id": "D-tiXFE0kJX8"
      },
      "source": [
        "embedder = glove_6b50d"
      ],
      "execution_count": 11,
      "outputs": []
    },
    {
      "cell_type": "code",
      "metadata": {
        "colab": {
          "base_uri": "https://localhost:8080/"
        },
        "id": "Z5F8ltlBhTAi",
        "outputId": "27b13df7-cb11-45e8-8cd7-50e4aff158f1"
      },
      "source": [
        "#embedder = TokenEmbedding('glove.6b.100d')"
      ],
      "execution_count": 16,
      "outputs": [
        {
          "output_type": "stream",
          "text": [
            "Downloading ../data/glove.6B.100d.zip from http://d2l-data.s3-accelerate.amazonaws.com/glove.6B.100d.zip...\n"
          ],
          "name": "stdout"
        }
      ]
    },
    {
      "cell_type": "code",
      "metadata": {
        "colab": {
          "base_uri": "https://localhost:8080/"
        },
        "id": "P9Gs8Vdzka6H",
        "outputId": "385882c3-a805-4799-d2c7-12af548e7dc1"
      },
      "source": [
        "embedder.idx_to_vec.shape"
      ],
      "execution_count": 12,
      "outputs": [
        {
          "output_type": "execute_result",
          "data": {
            "text/plain": [
              "torch.Size([400001, 50])"
            ]
          },
          "metadata": {},
          "execution_count": 12
        }
      ]
    },
    {
      "cell_type": "markdown",
      "metadata": {
        "id": "PvItt6znggX0"
      },
      "source": [
        "# Finding most similar words"
      ]
    },
    {
      "cell_type": "code",
      "metadata": {
        "id": "Ve2x_2aXgQDD"
      },
      "source": [
        "def knn(W, x, k):\n",
        "    # The added 1e-9 is for numerical stability\n",
        "    cos = torch.mv(W, x.reshape(-1,)) / (\n",
        "      (torch.sqrt(torch.sum(W * W, axis=1) + 1e-9) * torch.sqrt((x * x).sum())) )\n",
        "    _, topk = torch.topk(cos, k=k)\n",
        "    return topk, [cos[int(i)] for i in topk]"
      ],
      "execution_count": 13,
      "outputs": []
    },
    {
      "cell_type": "code",
      "metadata": {
        "id": "3jRdTj2rgibv"
      },
      "source": [
        "def get_similar_tokens(query_token, k, embed):\n",
        "    topk, cos = knn(embed.idx_to_vec, embed[[query_token]], k + 1)\n",
        "    for i, c in zip(topk[1:], cos[1:]):  # Remove input words\n",
        "        print(f'cosine sim={float(c):.3f}: {embed.idx_to_token[int(i)]}')"
      ],
      "execution_count": 14,
      "outputs": []
    },
    {
      "cell_type": "code",
      "metadata": {
        "colab": {
          "base_uri": "https://localhost:8080/"
        },
        "id": "3S5rJ20Lgltu",
        "outputId": "85610d85-993a-4816-c139-bbce63383c43"
      },
      "source": [
        "get_similar_tokens('man', 3, embedder)"
      ],
      "execution_count": 15,
      "outputs": [
        {
          "output_type": "stream",
          "name": "stdout",
          "text": [
            "cosine sim=0.886: woman\ncosine sim=0.856: boy\ncosine sim=0.845: another\n"
          ]
        }
      ]
    },
    {
      "cell_type": "code",
      "metadata": {
        "colab": {
          "base_uri": "https://localhost:8080/"
        },
        "id": "m-9JlDAwgsVJ",
        "outputId": "1c900bc7-8d1d-4936-b7b1-235ab7c138f3"
      },
      "source": [
        "get_similar_tokens('banana', 3, embedder)"
      ],
      "execution_count": 16,
      "outputs": [
        {
          "output_type": "stream",
          "name": "stdout",
          "text": [
            "cosine sim=0.815: bananas\ncosine sim=0.787: coconut\ncosine sim=0.758: pineapple\n"
          ]
        }
      ]
    },
    {
      "cell_type": "markdown",
      "metadata": {
        "id": "PRmfkSHdgyTg"
      },
      "source": [
        "# Word analogies"
      ]
    },
    {
      "cell_type": "code",
      "metadata": {
        "id": "qfmQvY-zhx5L"
      },
      "source": [
        "# We slightly modify D2L code so it works on the man:woman:king:queen example\n",
        "def get_analogy(token_a, token_b, token_c, embed):\n",
        "    vecs = embed[[token_a, token_b, token_c]]\n",
        "    x = vecs[1] - vecs[0] + vecs[2]\n",
        "    topk, cos = knn(embed.idx_to_vec, x, 10)\n",
        "    # remove word c from nearest neighbor\n",
        "    idx_c = embed.token_to_idx[token_c]\n",
        "    topk = list(topk.numpy())\n",
        "    topk.remove(idx_c)\n",
        "    return embed.idx_to_token[int(topk[0])]  "
      ],
      "execution_count": 17,
      "outputs": []
    },
    {
      "cell_type": "code",
      "metadata": {
        "colab": {
          "base_uri": "https://localhost:8080/",
          "height": 35
        },
        "id": "n8BTBz0Qg5ZL",
        "outputId": "d47a2aeb-0419-4087-f1b9-abc8cac8d53c"
      },
      "source": [
        "get_analogy('man', 'woman', 'king', embedder)"
      ],
      "execution_count": 18,
      "outputs": [
        {
          "output_type": "execute_result",
          "data": {
            "text/plain": [
              "'queen'"
            ]
          },
          "metadata": {},
          "execution_count": 18
        }
      ]
    },
    {
      "cell_type": "code",
      "metadata": {
        "colab": {
          "base_uri": "https://localhost:8080/",
          "height": 35
        },
        "id": "GroF4uZ9g28K",
        "outputId": "933eed85-bf73-46f4-e858-807c147a991f"
      },
      "source": [
        "get_analogy('man', 'woman', 'son', embedder)"
      ],
      "execution_count": 19,
      "outputs": [
        {
          "output_type": "execute_result",
          "data": {
            "text/plain": [
              "'daughter'"
            ]
          },
          "metadata": {},
          "execution_count": 19
        }
      ]
    },
    {
      "cell_type": "code",
      "metadata": {
        "colab": {
          "base_uri": "https://localhost:8080/",
          "height": 35
        },
        "id": "6cQyWtLzhHSu",
        "outputId": "ebef9f27-866b-419f-8547-6205544950ec"
      },
      "source": [
        "get_analogy('beijing', 'china', 'tokyo', embedder)"
      ],
      "execution_count": 20,
      "outputs": [
        {
          "output_type": "execute_result",
          "data": {
            "text/plain": [
              "'japan'"
            ]
          },
          "metadata": {},
          "execution_count": 20
        }
      ]
    },
    {
      "cell_type": "code",
      "metadata": {
        "id": "w_eQLYblj_ep"
      },
      "source": [],
      "execution_count": null,
      "outputs": []
    }
  ]
}
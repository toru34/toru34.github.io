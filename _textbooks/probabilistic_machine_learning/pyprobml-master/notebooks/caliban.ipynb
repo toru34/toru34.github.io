{
  "nbformat": 4,
  "nbformat_minor": 0,
  "metadata": {
    "colab": {
      "name": "caliban",
      "provenance": [],
      "toc_visible": true,
      "authorship_tag": "ABX9TyNyaaB/yBBdF3P0AlXx1wVI",
      "include_colab_link": true
    },
    "kernelspec": {
      "name": "python3",
      "display_name": "Python 3"
    }
  },
  "cells": [
    {
      "cell_type": "markdown",
      "metadata": {
        "id": "view-in-github",
        "colab_type": "text"
      },
      "source": [
        "<a href=\"https://colab.research.google.com/github/probml/pyprobml/blob/master/book1/intro/caliban.ipynb\" target=\"_parent\"><img src=\"https://colab.research.google.com/assets/colab-badge.svg\" alt=\"Open In Colab\"/></a>"
      ]
    },
    {
      "cell_type": "markdown",
      "metadata": {
        "id": "0-yTlCjR1xm3"
      },
      "source": [
        "# Running parallel jobs on Google Cloud using Caliban \n",
        "\n",
        "[Caliban](https://github.com/google/caliban) is a package that makes it easy to run embarassingly parallel jobs on Google Cloud Platform (GCP) from your laptop.  (Caliban bundles your code into a Docker image, and then runs it on  [Cloud AI Platform](https://cloud.google.com/ai-platform), which is a VM on top of GCP.)\n"
      ]
    },
    {
      "cell_type": "code",
      "metadata": {
        "id": "VpDcr6kBW4Za"
      },
      "source": [
        "import json\n",
        "import pandas as pd\n",
        "import glob\n",
        "from IPython.display import display\n",
        "import numpy as np\n",
        "import matplotlib as plt"
      ],
      "execution_count": 42,
      "outputs": []
    },
    {
      "cell_type": "markdown",
      "metadata": {
        "id": "_puU0I-07XJ0"
      },
      "source": [
        "# Installation\n",
        "\n",
        "The details on how to install and run Caliban can be found [here](https://github.com/google/caliban). Below we give a very brief summary. Do these steps on your laptop, **outside of this colab**."
      ]
    },
    {
      "cell_type": "markdown",
      "metadata": {
        "id": "22HUS_6b9NDz"
      },
      "source": [
        "- [install docker](https://github.com/google/caliban#docker) and test using ```docker run hello-world```\n",
        "\n",
        "- ```pip install caliban```\n",
        "\n",
        "- [setup GCP](https://caliban.readthedocs.io/en/latest/getting_started/cloud.html)\n"
      ]
    },
    {
      "cell_type": "markdown",
      "metadata": {
        "id": "9oupB5yUPOpA"
      },
      "source": [
        "# Launch jobs on GCP \n",
        "\n",
        "Do these steps on your laptop, **outside of this colab**.\n"
      ]
    },
    {
      "cell_type": "markdown",
      "metadata": {
        "id": "ZN-__YAZPZXB"
      },
      "source": [
        "\n",
        "- create a requirements.txt file containing packages you need to be installed in GCP Docker image. Example:\n",
        "\n",
        "```\n",
        "numpy\n",
        "scipy\n",
        "#sympy\n",
        "matplotlib\n",
        "#torch # 776MB  slow\n",
        "#torchvision\n",
        "tensorflow_datasets\n",
        "jupyter\n",
        "ipywidgets\n",
        "seaborn\n",
        "pandas\n",
        "keras\n",
        "sklearn\n",
        "#ipympl \n",
        "jax\n",
        "flax\n",
        " \n",
        "# below is jaxlib with GPU support\n",
        " \n",
        "# CUDA 10.0\n",
        "#tensorflow-gpu==2.0\n",
        "#https://storage.googleapis.com/jax-releases/cuda100/jaxlib-0.1.47-cp36-none-linux_x86_64.whl\n",
        "#https://storage.googleapis.com/jax-releases/cuda100/jaxlib-0.1.47-cp37-none-linux_x86_64.whl\n",
        " \n",
        "# CUDA 10.1\n",
        "#tensorflow-gpu==2.1\n",
        "#https://storage.googleapis.com/jax-releases/cuda101/jaxlib-0.1.47-cp37-none-linux_x86_64.whl\n",
        " \n",
        "tensorflow==2.1  # 421MB slow\n",
        "https://storage.googleapis.com/jax-releases/cuda101/jaxlib-0.1.60+cuda101-cp37-none-manylinux2010_x86_64.whl\n",
        " \n",
        "# jaxlib with CPU support\n",
        "#tensorflow\n",
        "#jaxlib\n",
        "```\n",
        "\n",
        "- create script that you want to run in parallel, eg [caliban_test.py](https://github.com/probml/pyprobml/blob/master/scripts/caliban_test.py)\n",
        "\n",
        "\n",
        "- create config.json file with the list of flag combinations you want to pass to the script. For example the following file says to run 2 versions of the script, with flags ```--ndims 10 --prefix \"***\"``` and ```--ndims 100 --prefix \"***\"```. (The prefix flag is for pretty printing.)\n",
        "```\n",
        "{\"ndims\": [10, 100],\n",
        "\"prefix\": \"***\" }\n",
        "```\n",
        "\n",
        "- launch jobs on GCP, giving them a common name using the xgroup flag. \n",
        "```\n",
        "cp ~/github/pyprobml/scripts/caliban_test.py .\n",
        "caliban cloud --experiment_config config.json --xgroup mygroup --gpu_spec 2xV100  caliban_test.py\n",
        "```\n",
        "You can specify the kind of machines you want to use as explained [here](https://caliban.readthedocs.io/en/latest/cloud/gpu_specs.html). If you omit \"--gpu_spec\", it defaults to n1-standard-8 with a single P100 GPU.\n",
        "\n",
        "\n",
        "- open the URL that it prints to monitor progress. Example:\n",
        "```\n",
        "Visit https://console.cloud.google.com/ai-platform/jobs/?projectId=probml to see the status of all jobs.\n",
        " ```\n",
        "You should see something like this:\n",
        "<img src=\"https://github.com/probml/pyprobml/blob/\n",
        "master/book1/intro/figures/GCP-jobs.png?raw=true\">\n",
        "\n",
        "- Monitor your jobs by clicking on 'view logs'.   You should see something like this:\n",
        "<img src=\"https://github.com/probml/pyprobml/blob/\n",
        "master/book1/intro/figures/GCP-logs-GPU.png?raw=true\">\n",
        "\n",
        "- When jobs are done,  download  the log files using [caliban_save_logs.py](https://github.com/probml/pyprobml/blob/master/scripts/caliban_save_logs.py). Example:\n",
        "```\n",
        "python ~/github/pyprobml/scripts/caliban_save_logs.py --xgroup mygroup \n",
        "```\n",
        "\n",
        "- Upload the log files to Google drive and parse them  inside colab using python code below.\n"
      ]
    },
    {
      "cell_type": "markdown",
      "metadata": {
        "id": "MyY8uW4j13k3"
      },
      "source": [
        "# Parse the log files"
      ]
    },
    {
      "cell_type": "code",
      "metadata": {
        "colab": {
          "base_uri": "https://localhost:8080/"
        },
        "id": "wlVvzb_yPDkW",
        "outputId": "54902e5e-a736-47e1-8317-6216ce11c468"
      },
      "source": [
        "!rm -rf pyprobml # Remove any old local directory to ensure fresh install\n",
        "!git clone https://github.com/probml/pyprobml\n"
      ],
      "execution_count": 137,
      "outputs": [
        {
          "output_type": "stream",
          "text": [
            "Cloning into 'pyprobml'...\n",
            "remote: Enumerating objects: 24, done.\u001b[K\n",
            "remote: Counting objects: 100% (24/24), done.\u001b[K\n",
            "remote: Compressing objects: 100% (21/21), done.\u001b[K\n",
            "remote: Total 6409 (delta 8), reused 13 (delta 3), pack-reused 6385\u001b[K\n",
            "Receiving objects: 100% (6409/6409), 249.32 MiB | 29.15 MiB/s, done.\n",
            "Resolving deltas: 100% (3571/3571), done.\n",
            "Checking out files: 100% (738/738), done.\n"
          ],
          "name": "stdout"
        }
      ]
    },
    {
      "cell_type": "code",
      "metadata": {
        "colab": {
          "base_uri": "https://localhost:8080/"
        },
        "id": "HNvDkoDjPPDd",
        "outputId": "91492cbf-c9d0-43ac-e07e-92f265233ae0"
      },
      "source": [
        "import pyprobml.scripts.probml_tools as pml\n",
        "pml.test()\n"
      ],
      "execution_count": 138,
      "outputs": [
        {
          "output_type": "stream",
          "text": [
            "welcome to python probabilistic ML library\n"
          ],
          "name": "stdout"
        }
      ]
    },
    {
      "cell_type": "code",
      "metadata": {
        "id": "-ddv_l5fRp_k"
      },
      "source": [
        "import pyprobml.scripts.caliban_logs_parse as parse"
      ],
      "execution_count": null,
      "outputs": []
    },
    {
      "cell_type": "code",
      "metadata": {
        "colab": {
          "base_uri": "https://localhost:8080/"
        },
        "id": "nQM7oDPIQlcw",
        "outputId": "6203ae97-c341-48d2-e1a5-4cf7ebb403df"
      },
      "source": [
        "import glob\n",
        "logdir = 'https://github.com/probml/pyprobml/tree/master/data/Logs'\n",
        "fnames = glob.glob(f'{logdir}/*.config')\n",
        "print(fnames) # empty"
      ],
      "execution_count": 146,
      "outputs": [
        {
          "output_type": "stream",
          "text": [
            "[]\n"
          ],
          "name": "stdout"
        }
      ]
    },
    {
      "cell_type": "code",
      "metadata": {
        "colab": {
          "base_uri": "https://localhost:8080/"
        },
        "id": "CVMC4JaiVcA0",
        "outputId": "7ee0c0df-4f32-4d9f-f102-f64bcebca5a5"
      },
      "source": [
        "from google.colab import drive\n",
        "drive.mount('/content/gdrive')\n",
        "\n",
        "logdir = '/content/gdrive/MyDrive/Logs'\n",
        "fnames = glob.glob(f'{logdir}/*.config')\n",
        "print(fnames)"
      ],
      "execution_count": 147,
      "outputs": [
        {
          "output_type": "stream",
          "text": [
            "Drive already mounted at /content/gdrive; to attempt to forcibly remount, call drive.mount(\"/content/gdrive\", force_remount=True).\n",
            "['/content/gdrive/MyDrive/Logs/caliban_kpmurphy_20210209_172547_1.config', '/content/gdrive/MyDrive/Logs/caliban_kpmurphy_20210209_172548_2.config']\n"
          ],
          "name": "stdout"
        }
      ]
    },
    {
      "cell_type": "code",
      "metadata": {
        "colab": {
          "base_uri": "https://localhost:8080/",
          "height": 212
        },
        "id": "-NnEroyxPUCh",
        "outputId": "e9819fa8-1562-4d35-e184-a4ab7c18d5fd"
      },
      "source": [
        "configs_df = parse.parse_configs(logdir)\n",
        "display(configs_df)\n",
        "\n",
        "for n in [1,2]:\n",
        "  print(get_args(configs_df, n))"
      ],
      "execution_count": 148,
      "outputs": [
        {
          "output_type": "stream",
          "text": [
            "reading  /content/gdrive/MyDrive/Logs/caliban_kpmurphy_20210209_172547_1.config\n",
            "reading  /content/gdrive/MyDrive/Logs/caliban_kpmurphy_20210209_172548_2.config\n"
          ],
          "name": "stdout"
        },
        {
          "output_type": "display_data",
          "data": {
            "text/html": [
              "<div>\n",
              "<style scoped>\n",
              "    .dataframe tbody tr th:only-of-type {\n",
              "        vertical-align: middle;\n",
              "    }\n",
              "\n",
              "    .dataframe tbody tr th {\n",
              "        vertical-align: top;\n",
              "    }\n",
              "\n",
              "    .dataframe thead th {\n",
              "        text-align: right;\n",
              "    }\n",
              "</style>\n",
              "<table border=\"1\" class=\"dataframe\">\n",
              "  <thead>\n",
              "    <tr style=\"text-align: right;\">\n",
              "      <th></th>\n",
              "      <th>createTime</th>\n",
              "      <th>endTime</th>\n",
              "      <th>etag</th>\n",
              "      <th>jobId</th>\n",
              "      <th>labels</th>\n",
              "      <th>startTime</th>\n",
              "      <th>state</th>\n",
              "      <th>trainingInput</th>\n",
              "      <th>trainingOutput</th>\n",
              "      <th>job_num</th>\n",
              "    </tr>\n",
              "  </thead>\n",
              "  <tbody>\n",
              "    <tr>\n",
              "      <th>0</th>\n",
              "      <td>2021-02-10T01:25:48Z</td>\n",
              "      <td>2021-02-10T01:31:53Z</td>\n",
              "      <td>6IkX86ZWV7A=</td>\n",
              "      <td>caliban_kpmurphy_20210209_172547_1</td>\n",
              "      <td>{'docker_image': 'gcr_ioprobmlf07f9a7112celate...</td>\n",
              "      <td>2021-02-10T01:29:22Z</td>\n",
              "      <td>SUCCEEDED</td>\n",
              "      <td>{'args': ['--ndims', '10'], 'masterConfig': {'...</td>\n",
              "      <td>{'consumedMLUnits': 1.82}</td>\n",
              "      <td>1</td>\n",
              "    </tr>\n",
              "    <tr>\n",
              "      <th>0</th>\n",
              "      <td>2021-02-10T01:25:49Z</td>\n",
              "      <td>2021-02-10T01:37:42Z</td>\n",
              "      <td>GqLt4PZ0ttw=</td>\n",
              "      <td>caliban_kpmurphy_20210209_172548_2</td>\n",
              "      <td>{'docker_image': 'gcr_ioprobmlf07f9a7112celate...</td>\n",
              "      <td>2021-02-10T01:35:10Z</td>\n",
              "      <td>SUCCEEDED</td>\n",
              "      <td>{'args': ['--ndims', '100'], 'masterConfig': {...</td>\n",
              "      <td>{'consumedMLUnits': 1.82}</td>\n",
              "      <td>2</td>\n",
              "    </tr>\n",
              "  </tbody>\n",
              "</table>\n",
              "</div>"
            ],
            "text/plain": [
              "             createTime  ... job_num\n",
              "0  2021-02-10T01:25:48Z  ...       1\n",
              "0  2021-02-10T01:25:49Z  ...       2\n",
              "\n",
              "[2 rows x 10 columns]"
            ]
          },
          "metadata": {
            "tags": []
          }
        },
        {
          "output_type": "stream",
          "text": [
            "['--ndims', '10']\n",
            "['--ndims', '100']\n"
          ],
          "name": "stdout"
        }
      ]
    },
    {
      "cell_type": "code",
      "metadata": {
        "colab": {
          "base_uri": "https://localhost:8080/",
          "height": 403
        },
        "id": "Afk0WLWetAmS",
        "outputId": "6be0e180-c5c6-4e8a-c01b-a76c92e750c3"
      },
      "source": [
        "logdir = '/content/gdrive/MyDrive/Logs'\n",
        "#df1 = log_file_to_pandas('/content/gdrive/MyDrive/Logs/caliban_kpmurphy_20210208_194505_1.log')\n",
        "logs_df = parse.parse_logs(logdir)\n",
        "display(logs_df.sample(n=5))\n"
      ],
      "execution_count": 140,
      "outputs": [
        {
          "output_type": "stream",
          "text": [
            "reading  /content/gdrive/MyDrive/Logs/caliban_kpmurphy_20210209_172547_1.log\n",
            "reading  /content/gdrive/MyDrive/Logs/caliban_kpmurphy_20210209_172548_2.log\n"
          ],
          "name": "stdout"
        },
        {
          "output_type": "display_data",
          "data": {
            "text/html": [
              "<div>\n",
              "<style scoped>\n",
              "    .dataframe tbody tr th:only-of-type {\n",
              "        vertical-align: middle;\n",
              "    }\n",
              "\n",
              "    .dataframe tbody tr th {\n",
              "        vertical-align: top;\n",
              "    }\n",
              "\n",
              "    .dataframe thead th {\n",
              "        text-align: right;\n",
              "    }\n",
              "</style>\n",
              "<table border=\"1\" class=\"dataframe\">\n",
              "  <thead>\n",
              "    <tr style=\"text-align: right;\">\n",
              "      <th></th>\n",
              "      <th>insertId</th>\n",
              "      <th>labels</th>\n",
              "      <th>logName</th>\n",
              "      <th>receiveTimestamp</th>\n",
              "      <th>resource</th>\n",
              "      <th>severity</th>\n",
              "      <th>textPayload</th>\n",
              "      <th>timestamp</th>\n",
              "      <th>levelname</th>\n",
              "      <th>message</th>\n",
              "      <th>job_num</th>\n",
              "    </tr>\n",
              "  </thead>\n",
              "  <tbody>\n",
              "    <tr>\n",
              "      <th>38</th>\n",
              "      <td>1nntk2eb1c</td>\n",
              "      <td>{'ml.googleapis.com/endpoint': ''}</td>\n",
              "      <td>projects/probml/logs/ml.googleapis.com%2Fcalib...</td>\n",
              "      <td>2021-02-10T01:31:55.013085729Z</td>\n",
              "      <td>{'labels': {'job_id': 'caliban_kpmurphy_202102...</td>\n",
              "      <td>INFO</td>\n",
              "      <td>Waiting for job to be provisioned.</td>\n",
              "      <td>2021-02-10T01:31:54.456090168Z</td>\n",
              "      <td>NaN</td>\n",
              "      <td>NaN</td>\n",
              "      <td>2</td>\n",
              "    </tr>\n",
              "    <tr>\n",
              "      <th>26</th>\n",
              "      <td>vd5m7bg2f7mpm1</td>\n",
              "      <td>{'compute.googleapis.com/resource_id': '395485...</td>\n",
              "      <td>projects/probml/logs/master-replica-0</td>\n",
              "      <td>2021-02-10T01:29:20.975762879Z</td>\n",
              "      <td>{'labels': {'job_id': 'caliban_kpmurphy_202102...</td>\n",
              "      <td>ERROR</td>\n",
              "      <td>NaN</td>\n",
              "      <td>2021-02-10T01:29:02.428182549Z</td>\n",
              "      <td>ERROR</td>\n",
              "      <td>2021-02-10 01:29:02.428102: I tensorflow/core/...</td>\n",
              "      <td>1</td>\n",
              "    </tr>\n",
              "    <tr>\n",
              "      <th>21</th>\n",
              "      <td>vd5m7bg2f7mpm6</td>\n",
              "      <td>{'compute.googleapis.com/resource_id': '395485...</td>\n",
              "      <td>projects/probml/logs/master-replica-0</td>\n",
              "      <td>2021-02-10T01:29:20.975762879Z</td>\n",
              "      <td>{'labels': {'job_id': 'caliban_kpmurphy_202102...</td>\n",
              "      <td>ERROR</td>\n",
              "      <td>NaN</td>\n",
              "      <td>2021-02-10T01:29:02.428854113Z</td>\n",
              "      <td>ERROR</td>\n",
              "      <td>2021-02-10 01:29:02.428771: W tensorflow/strea...</td>\n",
              "      <td>1</td>\n",
              "    </tr>\n",
              "    <tr>\n",
              "      <th>7</th>\n",
              "      <td>sl3titg23clsu2</td>\n",
              "      <td>{'compute.googleapis.com/resource_id': '668635...</td>\n",
              "      <td>projects/probml/logs/master-replica-0</td>\n",
              "      <td>2021-02-10T01:35:26.468383099Z</td>\n",
              "      <td>{'labels': {'job_id': 'caliban_kpmurphy_202102...</td>\n",
              "      <td>INFO</td>\n",
              "      <td>NaN</td>\n",
              "      <td>2021-02-10T01:35:06.347586078Z</td>\n",
              "      <td>INFO</td>\n",
              "      <td>TF backend\\n</td>\n",
              "      <td>2</td>\n",
              "    </tr>\n",
              "    <tr>\n",
              "      <th>5</th>\n",
              "      <td>sl3titg23clsu4</td>\n",
              "      <td>{'compute.googleapis.com/resource_id': '668635...</td>\n",
              "      <td>projects/probml/logs/master-replica-0</td>\n",
              "      <td>2021-02-10T01:35:26.468383099Z</td>\n",
              "      <td>{'labels': {'job_id': 'caliban_kpmurphy_202102...</td>\n",
              "      <td>INFO</td>\n",
              "      <td>NaN</td>\n",
              "      <td>2021-02-10T01:35:06.347591706Z</td>\n",
              "      <td>INFO</td>\n",
              "      <td>*** flax version 0.3.0\\n</td>\n",
              "      <td>2</td>\n",
              "    </tr>\n",
              "  </tbody>\n",
              "</table>\n",
              "</div>"
            ],
            "text/plain": [
              "          insertId  ... job_num\n",
              "38      1nntk2eb1c  ...       2\n",
              "26  vd5m7bg2f7mpm1  ...       1\n",
              "21  vd5m7bg2f7mpm6  ...       1\n",
              "7   sl3titg23clsu2  ...       2\n",
              "5   sl3titg23clsu4  ...       2\n",
              "\n",
              "[5 rows x 11 columns]"
            ]
          },
          "metadata": {
            "tags": []
          }
        }
      ]
    },
    {
      "cell_type": "code",
      "metadata": {
        "colab": {
          "base_uri": "https://localhost:8080/"
        },
        "id": "c905D4VR-kgv",
        "outputId": "dd8bdb27-330d-4b7c-fa29-978874b11e70"
      },
      "source": [
        "print(parse.get_log_messages(logs_df, 1))"
      ],
      "execution_count": 141,
      "outputs": [
        {
          "output_type": "stream",
          "text": [
            "[['Validating job requirements...']\n",
            " ['Job creation request has been successfully validated.']\n",
            " ['Job caliban_kpmurphy_20210209_172547_1 is queued.']\n",
            " ['INFO:root:python caliban_test.py --ndims 10\\n']\n",
            " [\"2021-02-10 01:28:58.986485: W tensorflow/stream_executor/platform/default/dso_loader.cc:60] Could not load dynamic library 'libcudart.so.11.0'; dlerror: libcudart.so.11.0: cannot open shared object file: No such file or directory; LD_LIBRARY_PATH: /usr/local/cuda/extras/CUPTI/lib64:/usr/local/cuda/lib64:/usr/local/nvidia/lib:/usr/local/nvidia/lib64\\n\"]\n",
            " ['2021-02-10 01:28:58.986516: I tensorflow/stream_executor/cuda/cudart_stub.cc:29] Ignore above cudart dlerror if you do not have a GPU set up on your machine.\\n']\n",
            " ['2021-02-10 01:29:02.426093: I tensorflow/compiler/jit/xla_cpu_device.cc:41] Not creating XLA devices, tf_xla_enable_xla_devices not set\\n']\n",
            " ['2021-02-10 01:29:02.426243: I tensorflow/stream_executor/platform/default/dso_loader.cc:49] Successfully opened dynamic library libcuda.so.1\\n']\n",
            " ['2021-02-10 01:29:02.426486: I tensorflow/stream_executor/cuda/cuda_gpu_executor.cc:941] successful NUMA node read from SysFS had negative value (-1), but there must be at least one NUMA node, so returning NUMA node zero\\n']\n",
            " ['2021-02-10 01:29:02.427176: I tensorflow/core/common_runtime/gpu/gpu_device.cc:1720] Found device 0 with properties: \\n']\n",
            " ['pciBusID: 0000:00:04.0 name: Tesla V100-SXM2-16GB computeCapability: 7.0\\n']\n",
            " ['coreClock: 1.53GHz coreCount: 80 deviceMemorySize: 15.78GiB deviceMemoryBandwidth: 836.37GiB/s\\n']\n",
            " ['2021-02-10 01:29:02.427362: I tensorflow/stream_executor/cuda/cuda_gpu_executor.cc:941] successful NUMA node read from SysFS had negative value (-1), but there must be at least one NUMA node, so returning NUMA node zero\\n']\n",
            " ['2021-02-10 01:29:02.428102: I tensorflow/core/common_runtime/gpu/gpu_device.cc:1720] Found device 1 with properties: \\n']\n",
            " ['pciBusID: 0000:00:05.0 name: Tesla V100-SXM2-16GB computeCapability: 7.0\\n']\n",
            " ['coreClock: 1.53GHz coreCount: 80 deviceMemorySize: 15.78GiB deviceMemoryBandwidth: 836.37GiB/s\\n']\n",
            " [\"2021-02-10 01:29:02.428386: W tensorflow/stream_executor/platform/default/dso_loader.cc:60] Could not load dynamic library 'libcudart.so.11.0'; dlerror: libcudart.so.11.0: cannot open shared object file: No such file or directory; LD_LIBRARY_PATH: /usr/local/cuda/extras/CUPTI/lib64:/usr/local/cuda/lib64:/usr/local/nvidia/lib:/usr/local/nvidia/lib64\\n\"]\n",
            " [\"2021-02-10 01:29:02.428602: W tensorflow/stream_executor/platform/default/dso_loader.cc:60] Could not load dynamic library 'libcublas.so.11'; dlerror: libcublas.so.11: cannot open shared object file: No such file or directory; LD_LIBRARY_PATH: /usr/local/cuda/extras/CUPTI/lib64:/usr/local/cuda/lib64:/usr/local/nvidia/lib:/usr/local/nvidia/lib64\\n\"]\n",
            " [\"2021-02-10 01:29:02.428771: W tensorflow/stream_executor/platform/default/dso_loader.cc:60] Could not load dynamic library 'libcublasLt.so.11'; dlerror: libcublasLt.so.11: cannot open shared object file: No such file or directory; LD_LIBRARY_PATH: /usr/local/cuda/extras/CUPTI/lib64:/usr/local/cuda/lib64:/usr/local/nvidia/lib:/usr/local/nvidia/lib64\\n\"]\n",
            " ['2021-02-10 01:29:02.430711: I tensorflow/stream_executor/platform/default/dso_loader.cc:49] Successfully opened dynamic library libcufft.so.10\\n']\n",
            " ['2021-02-10 01:29:02.431307: I tensorflow/stream_executor/platform/default/dso_loader.cc:49] Successfully opened dynamic library libcurand.so.10\\n']\n",
            " ['2021-02-10 01:29:02.431359: I tensorflow/stream_executor/platform/default/dso_loader.cc:49] Successfully opened dynamic library libcusolver.so.10\\n']\n",
            " [\"2021-02-10 01:29:02.431555: W tensorflow/stream_executor/platform/default/dso_loader.cc:60] Could not load dynamic library 'libcusparse.so.11'; dlerror: libcusparse.so.11: cannot open shared object file: No such file or directory; LD_LIBRARY_PATH: /usr/local/cuda/extras/CUPTI/lib64:/usr/local/cuda/lib64:/usr/local/nvidia/lib:/usr/local/nvidia/lib64\\n\"]\n",
            " [\"2021-02-10 01:29:02.431737: W tensorflow/stream_executor/platform/default/dso_loader.cc:60] Could not load dynamic library 'libcudnn.so.8'; dlerror: libcudnn.so.8: cannot open shared object file: No such file or directory; LD_LIBRARY_PATH: /usr/local/cuda/extras/CUPTI/lib64:/usr/local/cuda/lib64:/usr/local/nvidia/lib:/usr/local/nvidia/lib64\\n\"]\n",
            " ['2021-02-10 01:29:02.431757: W tensorflow/core/common_runtime/gpu/gpu_device.cc:1757] Cannot dlopen some GPU libraries. Please make sure the missing libraries mentioned above are installed properly if you would like to use GPU. Follow the guide at https://www.tensorflow.org/install/gpu for how to download and setup the required libraries for your platform.\\n']\n",
            " ['Skipping registering GPU devices...\\n']\n",
            " ['*** jax version 0.2.9\\n']\n",
            " ['*** jax backend gpu\\n']\n",
            " ['*** [GpuDevice(id=0), GpuDevice(id=1)]\\n']\n",
            " ['*** ndims = 10\\n']\n",
            " ['-1.0 5.6525435\\n']\n",
            " ['tf version 2.4.1\\n']\n",
            " ['TF backend\\n']\n",
            " [\"[PhysicalDevice(name='/physical_device:CPU:0', device_type='CPU')]\\n\"]\n",
            " ['*** flax version 0.3.0\\n']\n",
            " ['*** MLP(\\n']\n",
            " ['    # attributes\\n']\n",
            " ['    features = [10, 10]\\n']\n",
            " [')\\n']]\n"
          ],
          "name": "stdout"
        }
      ]
    },
    {
      "cell_type": "code",
      "metadata": {
        "colab": {
          "base_uri": "https://localhost:8080/"
        },
        "id": "z26JN7y21ffg",
        "outputId": "daebf3b4-6e48-41ec-ec22-f27cbd5b9113"
      },
      "source": [
        "print(parse.get_log_messages(logs_df, 2))"
      ],
      "execution_count": 142,
      "outputs": [
        {
          "output_type": "stream",
          "text": [
            "[['Validating job requirements...']\n",
            " ['Job creation request has been successfully validated.']\n",
            " ['Job caliban_kpmurphy_20210209_172548_2 is queued.']\n",
            " ['This job is number 1 in the queue and requires 8.0 N1/E2 CPUs, 2 V100 accelerators, 100Gb standard disks and 0Gb ssd disks. The project is using 8.0 N1/E2 CPUs out of 450.0 N1/E2, 8.0 C2, 8.0 N2, 800.0 preemptible allowed, 2 V100 accelerators out of 0 A100, 0 TPU_V2_POD, 0 TPU_V3_POD, 16 TPU_V2, 16 TPU_V3, 2 V100, 30 K80, 30 P100, 4 P4, 6 T4 allowed, 100Gb standard disks out of 180000 allowed and 0Gb ssd disks out of 75000 allowed across all regions.The project is using 8.0 N1/E2 CPUs out of 450.0 N1/E2, 8.0 C2, 8.0 N2, 800.0 preemptible allowed, 2 V100 accelerators out of 0 A100, 0 TPU_V2_POD, 0 TPU_V3_POD, 16 TPU_V2, 16 TPU_V3, 2 P4, 2 V100, 30 K80, 30 P100, 6 T4 allowed, 100Gb standard disks out of 180000 allowed and 0Gb ssd disks out of 75000 allowed in the region us-central1.']\n",
            " ['INFO:root:python caliban_test.py --ndims 100\\n']\n",
            " [\"2021-02-10 01:35:02.630394: W tensorflow/stream_executor/platform/default/dso_loader.cc:60] Could not load dynamic library 'libcudart.so.11.0'; dlerror: libcudart.so.11.0: cannot open shared object file: No such file or directory; LD_LIBRARY_PATH: /usr/local/cuda/extras/CUPTI/lib64:/usr/local/cuda/lib64:/usr/local/nvidia/lib:/usr/local/nvidia/lib64\\n\"]\n",
            " ['2021-02-10 01:35:02.630430: I tensorflow/stream_executor/cuda/cudart_stub.cc:29] Ignore above cudart dlerror if you do not have a GPU set up on your machine.\\n']\n",
            " ['2021-02-10 01:35:06.340820: I tensorflow/compiler/jit/xla_cpu_device.cc:41] Not creating XLA devices, tf_xla_enable_xla_devices not set\\n']\n",
            " ['2021-02-10 01:35:06.340947: I tensorflow/stream_executor/platform/default/dso_loader.cc:49] Successfully opened dynamic library libcuda.so.1\\n']\n",
            " ['2021-02-10 01:35:06.341216: I tensorflow/stream_executor/cuda/cuda_gpu_executor.cc:941] successful NUMA node read from SysFS had negative value (-1), but there must be at least one NUMA node, so returning NUMA node zero\\n']\n",
            " ['2021-02-10 01:35:06.341889: I tensorflow/core/common_runtime/gpu/gpu_device.cc:1720] Found device 0 with properties: \\n']\n",
            " ['pciBusID: 0000:00:04.0 name: Tesla V100-SXM2-16GB computeCapability: 7.0\\n']\n",
            " ['coreClock: 1.53GHz coreCount: 80 deviceMemorySize: 15.78GiB deviceMemoryBandwidth: 836.37GiB/s\\n']\n",
            " ['2021-02-10 01:35:06.342074: I tensorflow/stream_executor/cuda/cuda_gpu_executor.cc:941] successful NUMA node read from SysFS had negative value (-1), but there must be at least one NUMA node, so returning NUMA node zero\\n']\n",
            " ['2021-02-10 01:35:06.342853: I tensorflow/core/common_runtime/gpu/gpu_device.cc:1720] Found device 1 with properties: \\n']\n",
            " ['pciBusID: 0000:00:05.0 name: Tesla V100-SXM2-16GB computeCapability: 7.0\\n']\n",
            " ['coreClock: 1.53GHz coreCount: 80 deviceMemorySize: 15.78GiB deviceMemoryBandwidth: 836.37GiB/s\\n']\n",
            " [\"2021-02-10 01:35:06.343169: W tensorflow/stream_executor/platform/default/dso_loader.cc:60] Could not load dynamic library 'libcudart.so.11.0'; dlerror: libcudart.so.11.0: cannot open shared object file: No such file or directory; LD_LIBRARY_PATH: /usr/local/cuda/extras/CUPTI/lib64:/usr/local/cuda/lib64:/usr/local/nvidia/lib:/usr/local/nvidia/lib64\\n\"]\n",
            " [\"2021-02-10 01:35:06.343422: W tensorflow/stream_executor/platform/default/dso_loader.cc:60] Could not load dynamic library 'libcublas.so.11'; dlerror: libcublas.so.11: cannot open shared object file: No such file or directory; LD_LIBRARY_PATH: /usr/local/cuda/extras/CUPTI/lib64:/usr/local/cuda/lib64:/usr/local/nvidia/lib:/usr/local/nvidia/lib64\\n\"]\n",
            " [\"2021-02-10 01:35:06.343587: W tensorflow/stream_executor/platform/default/dso_loader.cc:60] Could not load dynamic library 'libcublasLt.so.11'; dlerror: libcublasLt.so.11: cannot open shared object file: No such file or directory; LD_LIBRARY_PATH: /usr/local/cuda/extras/CUPTI/lib64:/usr/local/cuda/lib64:/usr/local/nvidia/lib:/usr/local/nvidia/lib64\\n\"]\n",
            " ['2021-02-10 01:35:06.346030: I tensorflow/stream_executor/platform/default/dso_loader.cc:49] Successfully opened dynamic library libcufft.so.10\\n']\n",
            " ['2021-02-10 01:35:06.346487: I tensorflow/stream_executor/platform/default/dso_loader.cc:49] Successfully opened dynamic library libcurand.so.10\\n']\n",
            " ['2021-02-10 01:35:06.346528: I tensorflow/stream_executor/platform/default/dso_loader.cc:49] Successfully opened dynamic library libcusolver.so.10\\n']\n",
            " [\"2021-02-10 01:35:06.346676: W tensorflow/stream_executor/platform/default/dso_loader.cc:60] Could not load dynamic library 'libcusparse.so.11'; dlerror: libcusparse.so.11: cannot open shared object file: No such file or directory; LD_LIBRARY_PATH: /usr/local/cuda/extras/CUPTI/lib64:/usr/local/cuda/lib64:/usr/local/nvidia/lib:/usr/local/nvidia/lib64\\n\"]\n",
            " [\"2021-02-10 01:35:06.346837: W tensorflow/stream_executor/platform/default/dso_loader.cc:60] Could not load dynamic library 'libcudnn.so.8'; dlerror: libcudnn.so.8: cannot open shared object file: No such file or directory; LD_LIBRARY_PATH: /usr/local/cuda/extras/CUPTI/lib64:/usr/local/cuda/lib64:/usr/local/nvidia/lib:/usr/local/nvidia/lib64\\n\"]\n",
            " ['2021-02-10 01:35:06.346859: W tensorflow/core/common_runtime/gpu/gpu_device.cc:1757] Cannot dlopen some GPU libraries. Please make sure the missing libraries mentioned above are installed properly if you would like to use GPU. Follow the guide at https://www.tensorflow.org/install/gpu for how to download and setup the required libraries for your platform.\\n']\n",
            " ['Skipping registering GPU devices...\\n']\n",
            " ['*** jax version 0.2.9\\n']\n",
            " ['*** jax backend gpu\\n']\n",
            " ['*** [GpuDevice(id=0), GpuDevice(id=1)]\\n']\n",
            " ['*** ndims = 100\\n']\n",
            " ['1.0 180.60815\\n']\n",
            " ['tf version 2.4.1\\n']\n",
            " ['TF backend\\n']\n",
            " [\"[PhysicalDevice(name='/physical_device:CPU:0', device_type='CPU')]\\n\"]\n",
            " ['*** flax version 0.3.0\\n']\n",
            " ['*** MLP(\\n']\n",
            " ['    # attributes\\n']\n",
            " ['    features = [100, 100]\\n']\n",
            " [')\\n']]\n"
          ],
          "name": "stdout"
        }
      ]
    },
    {
      "cell_type": "code",
      "metadata": {
        "id": "GNBhwnty-7uW"
      },
      "source": [
        ""
      ],
      "execution_count": null,
      "outputs": []
    }
  ]
}
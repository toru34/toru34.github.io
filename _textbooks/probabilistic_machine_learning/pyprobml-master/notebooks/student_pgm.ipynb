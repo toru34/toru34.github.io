{
  "nbformat": 4,
  "nbformat_minor": 0,
  "metadata": {
    "colab": {
      "name": "student_pgmpy.ipynb",
      "provenance": [],
      "toc_visible": true,
      "authorship_tag": "ABX9TyMttRA9OiEcKZJUJ+Wso3iz",
      "include_colab_link": true
    },
    "kernelspec": {
      "name": "python3",
      "display_name": "Python 3"
    },
    "language_info": {
      "name": "python"
    }
  },
  "cells": [
    {
      "cell_type": "markdown",
      "metadata": {
        "id": "view-in-github",
        "colab_type": "text"
      },
      "source": [
        "<a href=\"https://colab.research.google.com/github/probml/pyprobml/blob/master/notebooks/student_pgmpy.ipynb\" target=\"_parent\"><img src=\"https://colab.research.google.com/assets/colab-badge.svg\" alt=\"Open In Colab\"/></a>"
      ]
    },
    {
      "cell_type": "markdown",
      "metadata": {
        "id": "FtkM9t9gXaVB"
      },
      "source": [
        "# The (simplified) student Bayes net\n",
        "\n",
        "This model is from https://github.com/pgmpy/pgmpy_notebook/blob/master/notebooks/2.%20Bayesian%20Networks.ipynb"
      ]
    },
    {
      "cell_type": "code",
      "metadata": {
        "colab": {
          "base_uri": "https://localhost:8080/"
        },
        "id": "8FEYdsYCXYj5",
        "outputId": "92d18d95-7059-4844-ff39-178f6daed5d8"
      },
      "source": [
        "!pip install -q causalgraphicalmodels\n",
        "!pip install -q pgmpy\n",
        "\n",
        "!wget -q https://raw.githubusercontent.com/probml/pyprobml/master/scripts/pyprobml_utils.py\n",
        "!wget -q https://raw.githubusercontent.com/probml/pyprobml/master/scripts/pgmpy_utils.py\n",
        "import pyprobml_utils as pml\n",
        "import pgmpy_utils as pgm"
      ],
      "execution_count": 1,
      "outputs": [
        {
          "output_type": "stream",
          "text": [
            "\u001b[?25l\r\u001b[K     |█                               | 10kB 17.7MB/s eta 0:00:01\r\u001b[K     |██                              | 20kB 22.7MB/s eta 0:00:01\r\u001b[K     |███                             | 30kB 25.4MB/s eta 0:00:01\r\u001b[K     |████                            | 40kB 26.9MB/s eta 0:00:01\r\u001b[K     |█████                           | 51kB 28.3MB/s eta 0:00:01\r\u001b[K     |██████                          | 61kB 30.1MB/s eta 0:00:01\r\u001b[K     |███████                         | 71kB 25.9MB/s eta 0:00:01\r\u001b[K     |████████                        | 81kB 27.1MB/s eta 0:00:01\r\u001b[K     |█████████                       | 92kB 27.3MB/s eta 0:00:01\r\u001b[K     |█████████▉                      | 102kB 28.5MB/s eta 0:00:01\r\u001b[K     |██████████▉                     | 112kB 28.5MB/s eta 0:00:01\r\u001b[K     |███████████▉                    | 122kB 28.5MB/s eta 0:00:01\r\u001b[K     |████████████▉                   | 133kB 28.5MB/s eta 0:00:01\r\u001b[K     |█████████████▉                  | 143kB 28.5MB/s eta 0:00:01\r\u001b[K     |██████████████▉                 | 153kB 28.5MB/s eta 0:00:01\r\u001b[K     |███████████████▉                | 163kB 28.5MB/s eta 0:00:01\r\u001b[K     |████████████████▉               | 174kB 28.5MB/s eta 0:00:01\r\u001b[K     |█████████████████▉              | 184kB 28.5MB/s eta 0:00:01\r\u001b[K     |██████████████████▉             | 194kB 28.5MB/s eta 0:00:01\r\u001b[K     |███████████████████▊            | 204kB 28.5MB/s eta 0:00:01\r\u001b[K     |████████████████████▊           | 215kB 28.5MB/s eta 0:00:01\r\u001b[K     |█████████████████████▊          | 225kB 28.5MB/s eta 0:00:01\r\u001b[K     |██████████████████████▊         | 235kB 28.5MB/s eta 0:00:01\r\u001b[K     |███████████████████████▊        | 245kB 28.5MB/s eta 0:00:01\r\u001b[K     |████████████████████████▊       | 256kB 28.5MB/s eta 0:00:01\r\u001b[K     |█████████████████████████▊      | 266kB 28.5MB/s eta 0:00:01\r\u001b[K     |██████████████████████████▊     | 276kB 28.5MB/s eta 0:00:01\r\u001b[K     |███████████████████████████▊    | 286kB 28.5MB/s eta 0:00:01\r\u001b[K     |████████████████████████████▊   | 296kB 28.5MB/s eta 0:00:01\r\u001b[K     |█████████████████████████████▋  | 307kB 28.5MB/s eta 0:00:01\r\u001b[K     |██████████████████████████████▋ | 317kB 28.5MB/s eta 0:00:01\r\u001b[K     |███████████████████████████████▋| 327kB 28.5MB/s eta 0:00:01\r\u001b[K     |████████████████████████████████| 337kB 28.5MB/s \n",
            "\u001b[?25h"
          ],
          "name": "stdout"
        }
      ]
    },
    {
      "cell_type": "code",
      "metadata": {
        "id": "piOvstm5YQWx"
      },
      "source": [
        "from causalgraphicalmodels import CausalGraphicalModel\n",
        "import pgmpy\n",
        "import numpy as np\n",
        "import pandas as pd"
      ],
      "execution_count": 2,
      "outputs": []
    },
    {
      "cell_type": "markdown",
      "metadata": {
        "id": "uF_UjCP-Xi9-"
      },
      "source": [
        "# Model"
      ]
    },
    {
      "cell_type": "markdown",
      "metadata": {
        "id": "7A8L5MSGcuPC"
      },
      "source": [
        "\n",
        "\n",
        "<img src=\"https://user-images.githubusercontent.com/4632336/118884310-21bec180-b8ab-11eb-81cf-481553c21d8a.png?raw=true\">\n"
      ]
    },
    {
      "cell_type": "code",
      "metadata": {
        "id": "Yt2Dql3yXcgC"
      },
      "source": [
        "from pgmpy.models import BayesianModel\n",
        "from pgmpy.factors.discrete import TabularCPD\n",
        "\n",
        "# Defining the model structure. We can define the network by just passing a list of edges.\n",
        "#model = BayesianModel([('D', 'G'), ('I', 'G'), ('G', 'L'), ('I', 'S')])\n",
        "model = BayesianModel([('Diff', 'Grade'), ('Intel', 'Grade'), ('Grade', 'Letter'), ('Intel', 'SAT')])\n",
        "\n"
      ],
      "execution_count": 3,
      "outputs": []
    },
    {
      "cell_type": "markdown",
      "metadata": {
        "id": "KHlBciCF8EUp"
      },
      "source": [
        "## Basic CPDs"
      ]
    },
    {
      "cell_type": "code",
      "metadata": {
        "id": "UXxKULXg8Ixx",
        "colab": {
          "base_uri": "https://localhost:8080/"
        },
        "outputId": "a11535e6-86ab-436d-ba2a-7e92d3d7686f"
      },
      "source": [
        "# Defining individual CPDs.\n",
        "cpd_d = TabularCPD(variable='Diff', variable_card=2, values=[[0.6], [0.4]])\n",
        "cpd_i = TabularCPD(variable='Intel', variable_card=2, values=[[0.7], [0.3]])\n",
        "\n",
        "# The representation of CPD in pgmpy is a bit different than the CPD shown in the above picture. In pgmpy the colums\n",
        "# are the evidences and rows are the states of the variable. So the grade CPD is represented like this:\n",
        "#\n",
        "#    +---------+---------+---------+---------+---------+\n",
        "#    | diff    | intel_0 | intel_0 | intel_1 | intel_1 |\n",
        "#    +---------+---------+---------+---------+---------+\n",
        "#    | intel   | diff_0  | diff_1  | diff_0  | diff_1  |\n",
        "#    +---------+---------+---------+---------+---------+\n",
        "#    | grade_0 | 0.3     | 0.05    | 0.9     | 0.5     |\n",
        "#    +---------+---------+---------+---------+---------+\n",
        "#    | grade_1 | 0.4     | 0.25    | 0.08    | 0.3     |\n",
        "#    +---------+---------+---------+---------+---------+\n",
        "#    | grade_2 | 0.3     | 0.7     | 0.02    | 0.2     |\n",
        "#    +---------+---------+---------+---------+---------+\n",
        "\n",
        "cpd_g = TabularCPD(variable='Grade', variable_card=3, \n",
        "                   values=[[0.3, 0.05, 0.9,  0.5],\n",
        "                           [0.4, 0.25, 0.08, 0.3],\n",
        "                           [0.3, 0.7,  0.02, 0.2]],\n",
        "                  evidence=['Intel', 'Diff'],\n",
        "                  evidence_card=[2, 2])\n",
        "\n",
        "cpd_l = TabularCPD(variable='Letter', variable_card=2, \n",
        "                   values=[[0.1, 0.4, 0.99],\n",
        "                           [0.9, 0.6, 0.01]],\n",
        "                   evidence=['Grade'],\n",
        "                   evidence_card=[3])\n",
        "\n",
        "cpd_s = TabularCPD(variable='SAT', variable_card=2,\n",
        "                   values=[[0.95, 0.2],\n",
        "                           [0.05, 0.8]],\n",
        "                   evidence=['Intel'],\n",
        "                   evidence_card=[2])\n",
        "\n",
        "# Associating the CPDs with the network\n",
        "model.add_cpds(cpd_d, cpd_i, cpd_g, cpd_l, cpd_s)\n",
        "\n",
        "# check_model checks for the network structure and CPDs and verifies that the CPDs are correctly \n",
        "# defined and sum to 1.\n",
        "model.check_model()"
      ],
      "execution_count": 4,
      "outputs": [
        {
          "output_type": "execute_result",
          "data": {
            "text/plain": [
              "True"
            ]
          },
          "metadata": {
            "tags": []
          },
          "execution_count": 4
        }
      ]
    },
    {
      "cell_type": "code",
      "metadata": {
        "id": "XU_P8PWX76bh",
        "colab": {
          "base_uri": "https://localhost:8080/"
        },
        "outputId": "467b027e-a7c3-465b-f82a-bbbeca7e360c"
      },
      "source": [
        "print(model.get_cpds('Grade'))"
      ],
      "execution_count": 5,
      "outputs": [
        {
          "output_type": "stream",
          "text": [
            "+----------+----------+----------+----------+----------+\n",
            "| Intel    | Intel(0) | Intel(0) | Intel(1) | Intel(1) |\n",
            "+----------+----------+----------+----------+----------+\n",
            "| Diff     | Diff(0)  | Diff(1)  | Diff(0)  | Diff(1)  |\n",
            "+----------+----------+----------+----------+----------+\n",
            "| Grade(0) | 0.3      | 0.05     | 0.9      | 0.5      |\n",
            "+----------+----------+----------+----------+----------+\n",
            "| Grade(1) | 0.4      | 0.25     | 0.08     | 0.3      |\n",
            "+----------+----------+----------+----------+----------+\n",
            "| Grade(2) | 0.3      | 0.7      | 0.02     | 0.2      |\n",
            "+----------+----------+----------+----------+----------+\n"
          ],
          "name": "stdout"
        }
      ]
    },
    {
      "cell_type": "markdown",
      "metadata": {
        "id": "1kCNIT4b8Jts"
      },
      "source": [
        "## CPDs with names states"
      ]
    },
    {
      "cell_type": "code",
      "metadata": {
        "colab": {
          "base_uri": "https://localhost:8080/"
        },
        "id": "8c14_W6CX883",
        "outputId": "3d2d14ea-1ea4-44af-fa47-a5861701fff3"
      },
      "source": [
        "# CPDs can also be defined using the state names of the variables. If the state names are not provided\n",
        "# like in the previous example, pgmpy will automatically assign names as: 0, 1, 2, ....\n",
        "\n",
        "cpd_d_sn = TabularCPD(variable='Diff', variable_card=2, values=[[0.6], [0.4]], \n",
        "                      state_names={'Diff': ['Easy', 'Hard']})\n",
        "cpd_i_sn = TabularCPD(variable='Intel', variable_card=2, values=[[0.7], [0.3]],\n",
        "                      state_names={'Intel': ['Dumb', 'Intelligent']})\n",
        "cpd_g_sn = TabularCPD(variable='Grade', variable_card=3, \n",
        "                      values=[[0.3, 0.05, 0.9,  0.5],\n",
        "                              [0.4, 0.25, 0.08, 0.3],\n",
        "                              [0.3, 0.7,  0.02, 0.2]],\n",
        "                      evidence=['Intel', 'Diff'],\n",
        "                      evidence_card=[2, 2],\n",
        "                      state_names={'Grade': ['A', 'B', 'C'],\n",
        "                                   'Intel': ['Dumb', 'Intelligent'],\n",
        "                                   'Diff': ['Easy', 'Hard']})\n",
        "\n",
        "cpd_l_sn = TabularCPD(variable='Letter', variable_card=2, \n",
        "                      values=[[0.1, 0.4, 0.99],\n",
        "                              [0.9, 0.6, 0.01]],\n",
        "                      evidence=['Grade'],\n",
        "                      evidence_card=[3],\n",
        "                      state_names={'Letter': ['Bad', 'Good'],\n",
        "                                   'Grade': ['A', 'B', 'C']})\n",
        "\n",
        "cpd_s_sn = TabularCPD(variable='SAT', variable_card=2,\n",
        "                      values=[[0.95, 0.2],\n",
        "                              [0.05, 0.8]],\n",
        "                      evidence=['Intel'],\n",
        "                      evidence_card=[2],\n",
        "                      state_names={'SAT': ['Bad', 'Good'],\n",
        "                                   'Intel': ['Dumb', 'Intelligent']})\n",
        "\n",
        "# These defined CPDs can be added to the model. Since, the model already has CPDs associated to variables, it will\n",
        "# show warning that pmgpy is now replacing those CPDs with the new ones.\n",
        "model.add_cpds(cpd_d_sn, cpd_i_sn, cpd_g_sn, cpd_l_sn, cpd_s_sn)\n",
        "model.check_model()"
      ],
      "execution_count": 6,
      "outputs": [
        {
          "output_type": "stream",
          "text": [
            "WARNING:root:Replacing existing CPD for Diff\n",
            "WARNING:root:Replacing existing CPD for Intel\n",
            "WARNING:root:Replacing existing CPD for Grade\n",
            "WARNING:root:Replacing existing CPD for Letter\n",
            "WARNING:root:Replacing existing CPD for SAT\n"
          ],
          "name": "stderr"
        },
        {
          "output_type": "execute_result",
          "data": {
            "text/plain": [
              "True"
            ]
          },
          "metadata": {
            "tags": []
          },
          "execution_count": 6
        }
      ]
    },
    {
      "cell_type": "code",
      "metadata": {
        "colab": {
          "base_uri": "https://localhost:8080/"
        },
        "id": "PzkidOsEX9H6",
        "outputId": "2d05861d-d282-4702-d362-a4ea421b35de"
      },
      "source": [
        " #Printing a CPD with it's state names defined.\n",
        "print(model.get_cpds('Grade'))"
      ],
      "execution_count": 7,
      "outputs": [
        {
          "output_type": "stream",
          "text": [
            "+----------+-------------+-------------+--------------------+--------------------+\n",
            "| Intel    | Intel(Dumb) | Intel(Dumb) | Intel(Intelligent) | Intel(Intelligent) |\n",
            "+----------+-------------+-------------+--------------------+--------------------+\n",
            "| Diff     | Diff(Easy)  | Diff(Hard)  | Diff(Easy)         | Diff(Hard)         |\n",
            "+----------+-------------+-------------+--------------------+--------------------+\n",
            "| Grade(A) | 0.3         | 0.05        | 0.9                | 0.5                |\n",
            "+----------+-------------+-------------+--------------------+--------------------+\n",
            "| Grade(B) | 0.4         | 0.25        | 0.08               | 0.3                |\n",
            "+----------+-------------+-------------+--------------------+--------------------+\n",
            "| Grade(C) | 0.3         | 0.7         | 0.02               | 0.2                |\n",
            "+----------+-------------+-------------+--------------------+--------------------+\n"
          ],
          "name": "stdout"
        }
      ]
    },
    {
      "cell_type": "code",
      "metadata": {
        "colab": {
          "base_uri": "https://localhost:8080/"
        },
        "id": "6S3T_rFxYCfR",
        "outputId": "903312b9-fa05-49ba-8189-e87d4f46d045"
      },
      "source": [
        "for cpd in model.get_cpds():\n",
        "  print(cpd)"
      ],
      "execution_count": 8,
      "outputs": [
        {
          "output_type": "stream",
          "text": [
            "+------------+-----+\n",
            "| Diff(Easy) | 0.6 |\n",
            "+------------+-----+\n",
            "| Diff(Hard) | 0.4 |\n",
            "+------------+-----+\n",
            "+--------------------+-----+\n",
            "| Intel(Dumb)        | 0.7 |\n",
            "+--------------------+-----+\n",
            "| Intel(Intelligent) | 0.3 |\n",
            "+--------------------+-----+\n",
            "+----------+-------------+-------------+--------------------+--------------------+\n",
            "| Intel    | Intel(Dumb) | Intel(Dumb) | Intel(Intelligent) | Intel(Intelligent) |\n",
            "+----------+-------------+-------------+--------------------+--------------------+\n",
            "| Diff     | Diff(Easy)  | Diff(Hard)  | Diff(Easy)         | Diff(Hard)         |\n",
            "+----------+-------------+-------------+--------------------+--------------------+\n",
            "| Grade(A) | 0.3         | 0.05        | 0.9                | 0.5                |\n",
            "+----------+-------------+-------------+--------------------+--------------------+\n",
            "| Grade(B) | 0.4         | 0.25        | 0.08               | 0.3                |\n",
            "+----------+-------------+-------------+--------------------+--------------------+\n",
            "| Grade(C) | 0.3         | 0.7         | 0.02               | 0.2                |\n",
            "+----------+-------------+-------------+--------------------+--------------------+\n",
            "+--------------+----------+----------+----------+\n",
            "| Grade        | Grade(A) | Grade(B) | Grade(C) |\n",
            "+--------------+----------+----------+----------+\n",
            "| Letter(Bad)  | 0.1      | 0.4      | 0.99     |\n",
            "+--------------+----------+----------+----------+\n",
            "| Letter(Good) | 0.9      | 0.6      | 0.01     |\n",
            "+--------------+----------+----------+----------+\n",
            "+-----------+-------------+--------------------+\n",
            "| Intel     | Intel(Dumb) | Intel(Intelligent) |\n",
            "+-----------+-------------+--------------------+\n",
            "| SAT(Bad)  | 0.95        | 0.2                |\n",
            "+-----------+-------------+--------------------+\n",
            "| SAT(Good) | 0.05        | 0.8                |\n",
            "+-----------+-------------+--------------------+\n"
          ],
          "name": "stdout"
        }
      ]
    },
    {
      "cell_type": "markdown",
      "metadata": {
        "id": "mmIYMZVzYuxu"
      },
      "source": [
        "# Inference"
      ]
    },
    {
      "cell_type": "code",
      "metadata": {
        "id": "PrFI130fYMQ0"
      },
      "source": [
        "from pgmpy.inference import VariableElimination\n",
        "infer = VariableElimination(model)\n"
      ],
      "execution_count": 9,
      "outputs": []
    },
    {
      "cell_type": "markdown",
      "metadata": {
        "id": "zxIyjd9eYx2S"
      },
      "source": [
        "## Posterior given Grade=C"
      ]
    },
    {
      "cell_type": "code",
      "metadata": {
        "colab": {
          "base_uri": "https://localhost:8080/"
        },
        "id": "oEEU40_pY4C7",
        "outputId": "a3e73c3e-24e6-48e8-8fcc-2035066fdcf2"
      },
      "source": [
        "evidence = {'Grade': 'C'}\n",
        "postD = infer.query(['Diff'],  evidence=evidence).values\n",
        "postI = infer.query(['Intel'],  evidence=evidence).values\n",
        "\n",
        "print('\\n')\n",
        "print('Pr(Difficulty=Hard|Grade=C) = {:0.2f}'.format(postD[1]))\n",
        "print('Pr(Intelligent=High|Grade=C) = {:0.2f}'.format(postI[1]))"
      ],
      "execution_count": 10,
      "outputs": [
        {
          "output_type": "stream",
          "text": [
            "Finding Elimination Order: : 100%|██████████| 3/3 [00:00<00:00, 905.70it/s]\n",
            "Eliminating: Intel: 100%|██████████| 3/3 [00:00<00:00, 440.13it/s]\n",
            "Finding Elimination Order: : 100%|██████████| 3/3 [00:00<00:00, 1031.98it/s]\n",
            "Eliminating: SAT: 100%|██████████| 3/3 [00:00<00:00, 528.78it/s]"
          ],
          "name": "stderr"
        },
        {
          "output_type": "stream",
          "text": [
            "\n",
            "\n",
            "Pr(Difficulty=Hard|Grade=C) = 0.63\n",
            "Pr(Intelligent=High|Grade=C) = 0.08\n"
          ],
          "name": "stdout"
        },
        {
          "output_type": "stream",
          "text": [
            "\n"
          ],
          "name": "stderr"
        }
      ]
    },
    {
      "cell_type": "markdown",
      "metadata": {
        "id": "Z2nLT8lYZ2QC"
      },
      "source": [
        "## Posterior given Grade=C, SAT=Good"
      ]
    },
    {
      "cell_type": "code",
      "metadata": {
        "colab": {
          "base_uri": "https://localhost:8080/"
        },
        "id": "NfKdVsChZwrR",
        "outputId": "1041bab8-4fe2-4d62-b5e3-f6bbd4513db1"
      },
      "source": [
        "evidence = {'Grade': 'C', 'SAT': 'Good'}\n",
        "postD = infer.query(['Diff'],  evidence=evidence).values\n",
        "postI = infer.query(['Intel'],  evidence=evidence).values\n",
        "\n",
        "print('\\n')\n",
        "print('Pr(Difficulty=Hard|Grade=C,SAT=Good) = {:0.2f}'.format(postD[1]))\n",
        "print('Pr(Intelligent=High|Grade=C,SAT=Good) = {:0.2f}'.format(postI[1]))"
      ],
      "execution_count": 11,
      "outputs": [
        {
          "output_type": "stream",
          "text": [
            "Finding Elimination Order: : 100%|██████████| 2/2 [00:00<00:00, 698.06it/s]\n",
            "Eliminating: Intel: 100%|██████████| 2/2 [00:00<00:00, 365.37it/s]\n",
            "Finding Elimination Order: : 100%|██████████| 2/2 [00:00<00:00, 680.78it/s]\n",
            "Eliminating: Diff: 100%|██████████| 2/2 [00:00<00:00, 574.25it/s]"
          ],
          "name": "stderr"
        },
        {
          "output_type": "stream",
          "text": [
            "\n",
            "\n",
            "Pr(Difficulty=Hard|Grade=C,SAT=Good) = 0.76\n",
            "Pr(Intelligent=High|Grade=C,SAT=Good) = 0.58\n"
          ],
          "name": "stdout"
        },
        {
          "output_type": "stream",
          "text": [
            "\n"
          ],
          "name": "stderr"
        }
      ]
    },
    {
      "cell_type": "markdown",
      "metadata": {
        "id": "E5LUO3VSYE5_"
      },
      "source": [
        "# Visualization"
      ]
    },
    {
      "cell_type": "markdown",
      "metadata": {
        "id": "x5jx0FmAf1t7"
      },
      "source": [
        "## DAG"
      ]
    },
    {
      "cell_type": "code",
      "metadata": {
        "colab": {
          "base_uri": "https://localhost:8080/",
          "height": 305
        },
        "id": "MDFzI490YFq9",
        "outputId": "0ebb3ece-c80b-427f-ad72-cd1d6be69f55"
      },
      "source": [
        "model2 = CausalGraphicalModel(nodes = model.nodes(), edges=model.edges())\n",
        "\n",
        "dot = model2.draw()\n",
        "print(type(dot))\n",
        "display(dot)\n",
        "dot.render(filename='student_pgm', format='pdf')\n",
        "# creates student_pgm (a text file of the graph) and student_pgm.pdf"
      ],
      "execution_count": 12,
      "outputs": [
        {
          "output_type": "stream",
          "text": [
            "<class 'graphviz.dot.Digraph'>\n"
          ],
          "name": "stdout"
        },
        {
          "output_type": "display_data",
          "data": {
            "text/plain": [
              "<graphviz.dot.Digraph at 0x7f8496075fd0>"
            ],
            "image/svg+xml": "<?xml version=\"1.0\" encoding=\"UTF-8\" standalone=\"no\"?>\n<!DOCTYPE svg PUBLIC \"-//W3C//DTD SVG 1.1//EN\"\n \"http://www.w3.org/Graphics/SVG/1.1/DTD/svg11.dtd\">\n<!-- Generated by graphviz version 2.40.1 (20161225.0304)\n -->\n<!-- Title: %3 Pages: 1 -->\n<svg width=\"148pt\" height=\"188pt\"\n viewBox=\"0.00 0.00 148.09 188.00\" xmlns=\"http://www.w3.org/2000/svg\" xmlns:xlink=\"http://www.w3.org/1999/xlink\">\n<g id=\"graph0\" class=\"graph\" transform=\"scale(1 1) rotate(0) translate(4 184)\">\n<title>%3</title>\n<polygon fill=\"#ffffff\" stroke=\"transparent\" points=\"-4,4 -4,-184 144.0946,-184 144.0946,4 -4,4\"/>\n<!-- Grade -->\n<g id=\"node1\" class=\"node\">\n<title>Grade</title>\n<ellipse fill=\"none\" stroke=\"#000000\" cx=\"33.1471\" cy=\"-90\" rx=\"33.2948\" ry=\"18\"/>\n<text text-anchor=\"middle\" x=\"33.1471\" y=\"-86.3\" font-family=\"Times,serif\" font-size=\"14.00\" fill=\"#000000\">Grade</text>\n</g>\n<!-- Letter -->\n<g id=\"node2\" class=\"node\">\n<title>Letter</title>\n<ellipse fill=\"none\" stroke=\"#000000\" cx=\"33.1471\" cy=\"-18\" rx=\"32.4942\" ry=\"18\"/>\n<text text-anchor=\"middle\" x=\"33.1471\" y=\"-14.3\" font-family=\"Times,serif\" font-size=\"14.00\" fill=\"#000000\">Letter</text>\n</g>\n<!-- Grade&#45;&gt;Letter -->\n<g id=\"edge2\" class=\"edge\">\n<title>Grade&#45;&gt;Letter</title>\n<path fill=\"none\" stroke=\"#000000\" d=\"M33.1471,-71.8314C33.1471,-64.131 33.1471,-54.9743 33.1471,-46.4166\"/>\n<polygon fill=\"#000000\" stroke=\"#000000\" points=\"36.6472,-46.4132 33.1471,-36.4133 29.6472,-46.4133 36.6472,-46.4132\"/>\n</g>\n<!-- SAT -->\n<g id=\"node3\" class=\"node\">\n<title>SAT</title>\n<ellipse fill=\"none\" stroke=\"#000000\" cx=\"112.1471\" cy=\"-90\" rx=\"27.8951\" ry=\"18\"/>\n<text text-anchor=\"middle\" x=\"112.1471\" y=\"-86.3\" font-family=\"Times,serif\" font-size=\"14.00\" fill=\"#000000\">SAT</text>\n</g>\n<!-- Diff -->\n<g id=\"node4\" class=\"node\">\n<title>Diff</title>\n<ellipse fill=\"none\" stroke=\"#000000\" cx=\"33.1471\" cy=\"-162\" rx=\"27\" ry=\"18\"/>\n<text text-anchor=\"middle\" x=\"33.1471\" y=\"-158.3\" font-family=\"Times,serif\" font-size=\"14.00\" fill=\"#000000\">Diff</text>\n</g>\n<!-- Diff&#45;&gt;Grade -->\n<g id=\"edge1\" class=\"edge\">\n<title>Diff&#45;&gt;Grade</title>\n<path fill=\"none\" stroke=\"#000000\" d=\"M33.1471,-143.8314C33.1471,-136.131 33.1471,-126.9743 33.1471,-118.4166\"/>\n<polygon fill=\"#000000\" stroke=\"#000000\" points=\"36.6472,-118.4132 33.1471,-108.4133 29.6472,-118.4133 36.6472,-118.4132\"/>\n</g>\n<!-- Intel -->\n<g id=\"node5\" class=\"node\">\n<title>Intel</title>\n<ellipse fill=\"none\" stroke=\"#000000\" cx=\"108.1471\" cy=\"-162\" rx=\"27.0966\" ry=\"18\"/>\n<text text-anchor=\"middle\" x=\"108.1471\" y=\"-158.3\" font-family=\"Times,serif\" font-size=\"14.00\" fill=\"#000000\">Intel</text>\n</g>\n<!-- Intel&#45;&gt;Grade -->\n<g id=\"edge3\" class=\"edge\">\n<title>Intel&#45;&gt;Grade</title>\n<path fill=\"none\" stroke=\"#000000\" d=\"M92.607,-147.0816C82.3296,-137.2153 68.6545,-124.0872 57.0103,-112.9087\"/>\n<polygon fill=\"#000000\" stroke=\"#000000\" points=\"59.3455,-110.2987 49.7077,-105.8982 54.4977,-115.3484 59.3455,-110.2987\"/>\n</g>\n<!-- Intel&#45;&gt;SAT -->\n<g id=\"edge4\" class=\"edge\">\n<title>Intel&#45;&gt;SAT</title>\n<path fill=\"none\" stroke=\"#000000\" d=\"M109.1564,-143.8314C109.5842,-136.131 110.0929,-126.9743 110.5684,-118.4166\"/>\n<polygon fill=\"#000000\" stroke=\"#000000\" points=\"114.0639,-118.592 111.1241,-108.4133 107.0747,-118.2037 114.0639,-118.592\"/>\n</g>\n</g>\n</svg>\n"
          },
          "metadata": {
            "tags": []
          }
        },
        {
          "output_type": "execute_result",
          "data": {
            "application/vnd.google.colaboratory.intrinsic+json": {
              "type": "string"
            },
            "text/plain": [
              "'student_pgm.pdf'"
            ]
          },
          "metadata": {
            "tags": []
          },
          "execution_count": 12
        }
      ]
    },
    {
      "cell_type": "code",
      "metadata": {
        "colab": {
          "base_uri": "https://localhost:8080/",
          "height": 17
        },
        "id": "l2UUtA5_w15d",
        "outputId": "cbcc8b5f-e406-491c-caee-6d0350c5121e"
      },
      "source": [
        "from google.colab import files\n",
        "files.view('student_pgm') # open text file"
      ],
      "execution_count": 13,
      "outputs": [
        {
          "output_type": "display_data",
          "data": {
            "application/javascript": [
              "\n",
              "      ((filepath) => {{\n",
              "        if (!google.colab.kernel.accessAllowed) {{\n",
              "          return;\n",
              "        }}\n",
              "        google.colab.files.view(filepath);\n",
              "      }})(\"/content/student_pgm\")"
            ],
            "text/plain": [
              "<IPython.core.display.Javascript object>"
            ]
          },
          "metadata": {
            "tags": []
          }
        }
      ]
    },
    {
      "cell_type": "markdown",
      "metadata": {
        "id": "LXTnimbBf3yy"
      },
      "source": [
        "## CPTs"
      ]
    },
    {
      "cell_type": "code",
      "metadata": {
        "id": "_ujhz9g6eAy6",
        "colab": {
          "base_uri": "https://localhost:8080/",
          "height": 820
        },
        "outputId": "a5eead04-3fd3-4d68-d001-42ab649facbd"
      },
      "source": [
        "dot = pgm.visualize_model(model)\n",
        "display(dot)\n",
        "dot.render('student_pgm_with_cpt', format='pdf')\n"
      ],
      "execution_count": 14,
      "outputs": [
        {
          "output_type": "display_data",
          "data": {
            "text/plain": [
              "<graphviz.dot.Digraph at 0x7f84960a91d0>"
            ],
            "image/svg+xml": "<?xml version=\"1.0\" encoding=\"UTF-8\" standalone=\"no\"?>\n<!DOCTYPE svg PUBLIC \"-//W3C//DTD SVG 1.1//EN\"\n \"http://www.w3.org/Graphics/SVG/1.1/DTD/svg11.dtd\">\n<!-- Generated by graphviz version 2.40.1 (20161225.0304)\n -->\n<!-- Title: model_ Pages: 1 -->\n<svg width=\"580pt\" height=\"586pt\"\n viewBox=\"0.00 0.00 580.19 586.29\" xmlns=\"http://www.w3.org/2000/svg\" xmlns:xlink=\"http://www.w3.org/1999/xlink\">\n<g id=\"graph0\" class=\"graph\" transform=\"scale(1 1) rotate(0) translate(4 582.2885)\">\n<title>model_</title>\n<polygon fill=\"#ffffff\" stroke=\"transparent\" points=\"-4,4 -4,-582.2885 576.1859,-582.2885 576.1859,4 -4,4\"/>\n<!-- Diff -->\n<g id=\"node1\" class=\"node\">\n<title>Diff</title>\n<ellipse fill=\"none\" stroke=\"#000000\" cx=\"161.9275\" cy=\"-521.0128\" rx=\"65.5227\" ry=\"57.0522\"/>\n<polygon fill=\"none\" stroke=\"#000000\" points=\"126.9275,-533.0128 126.9275,-554.0128 197.9275,-554.0128 197.9275,-533.0128 126.9275,-533.0128\"/>\n<text text-anchor=\"start\" x=\"146.9275\" y=\"-539.8128\" font-family=\"Times,serif\" font-size=\"14.00\" fill=\"#000000\"> Diff </text>\n<polygon fill=\"none\" stroke=\"#000000\" points=\"126.9275,-510.0128 126.9275,-531.0128 160.9275,-531.0128 160.9275,-510.0128 126.9275,-510.0128\"/>\n<text text-anchor=\"start\" x=\"129.9275\" y=\"-516.8128\" font-family=\"Times,serif\" font-size=\"14.00\" fill=\"#000000\">Easy</text>\n<polygon fill=\"none\" stroke=\"#000000\" points=\"162.9275,-510.0128 162.9275,-531.0128 197.9275,-531.0128 197.9275,-510.0128 162.9275,-510.0128\"/>\n<text text-anchor=\"start\" x=\"165.9275\" y=\"-516.8128\" font-family=\"Times,serif\" font-size=\"14.00\" fill=\"#000000\">Hard</text>\n<polygon fill=\"none\" stroke=\"#000000\" points=\"126.9275,-487.0128 126.9275,-508.0128 160.9275,-508.0128 160.9275,-487.0128 126.9275,-487.0128\"/>\n<text text-anchor=\"start\" x=\"130.4275\" y=\"-493.8128\" font-family=\"Times,serif\" font-size=\"14.00\" fill=\"#000000\">0.60</text>\n<polygon fill=\"none\" stroke=\"#000000\" points=\"162.9275,-487.0128 162.9275,-508.0128 197.9275,-508.0128 197.9275,-487.0128 162.9275,-487.0128\"/>\n<text text-anchor=\"start\" x=\"166.9275\" y=\"-493.8128\" font-family=\"Times,serif\" font-size=\"14.00\" fill=\"#000000\">0.40</text>\n<polygon fill=\"none\" stroke=\"#000000\" points=\"123.4275,-484.5128 123.4275,-557.5128 200.4275,-557.5128 200.4275,-484.5128 123.4275,-484.5128\"/>\n</g>\n<!-- Grade -->\n<g id=\"node3\" class=\"node\">\n<title>Grade</title>\n<ellipse fill=\"none\" stroke=\"#000000\" cx=\"161.9275\" cy=\"-321.6711\" rx=\"161.8549\" ry=\"106.1321\"/>\n<polygon fill=\"none\" stroke=\"#000000\" points=\"58.9275,-368.6711 58.9275,-389.6711 265.9275,-389.6711 265.9275,-368.6711 58.9275,-368.6711\"/>\n<text text-anchor=\"start\" x=\"140.9275\" y=\"-375.4711\" font-family=\"Times,serif\" font-size=\"14.00\" fill=\"#000000\"> Grade </text>\n<polygon fill=\"none\" stroke=\"#000000\" points=\"58.9275,-345.6711 58.9275,-366.6711 158.9275,-366.6711 158.9275,-345.6711 58.9275,-345.6711\"/>\n<text text-anchor=\"start\" x=\"106.9275\" y=\"-352.4711\" font-family=\"Times,serif\" font-size=\"14.00\" fill=\"#000000\"> </text>\n<polygon fill=\"none\" stroke=\"#000000\" points=\"160.9275,-345.6711 160.9275,-366.6711 193.9275,-366.6711 193.9275,-345.6711 160.9275,-345.6711\"/>\n<text text-anchor=\"start\" x=\"171.9275\" y=\"-352.4711\" font-family=\"Times,serif\" font-size=\"14.00\" fill=\"#000000\">A</text>\n<polygon fill=\"none\" stroke=\"#000000\" points=\"195.9275,-345.6711 195.9275,-366.6711 228.9275,-366.6711 228.9275,-345.6711 195.9275,-345.6711\"/>\n<text text-anchor=\"start\" x=\"207.4275\" y=\"-352.4711\" font-family=\"Times,serif\" font-size=\"14.00\" fill=\"#000000\">B</text>\n<polygon fill=\"none\" stroke=\"#000000\" points=\"230.9275,-345.6711 230.9275,-366.6711 263.9275,-366.6711 263.9275,-345.6711 230.9275,-345.6711\"/>\n<text text-anchor=\"start\" x=\"242.4275\" y=\"-352.4711\" font-family=\"Times,serif\" font-size=\"14.00\" fill=\"#000000\">C</text>\n<polygon fill=\"none\" stroke=\"#000000\" points=\"58.9275,-322.6711 58.9275,-343.6711 158.9275,-343.6711 158.9275,-322.6711 58.9275,-322.6711\"/>\n<text text-anchor=\"start\" x=\"72.4275\" y=\"-329.4711\" font-family=\"Times,serif\" font-size=\"14.00\" fill=\"#000000\">Dumb, Easy</text>\n<polygon fill=\"none\" stroke=\"#000000\" points=\"160.9275,-322.6711 160.9275,-343.6711 193.9275,-343.6711 193.9275,-322.6711 160.9275,-322.6711\"/>\n<text text-anchor=\"start\" x=\"163.9275\" y=\"-329.4711\" font-family=\"Times,serif\" font-size=\"14.00\" fill=\"#000000\">0.30</text>\n<polygon fill=\"none\" stroke=\"#000000\" points=\"195.9275,-322.6711 195.9275,-343.6711 228.9275,-343.6711 228.9275,-322.6711 195.9275,-322.6711\"/>\n<text text-anchor=\"start\" x=\"198.9275\" y=\"-329.4711\" font-family=\"Times,serif\" font-size=\"14.00\" fill=\"#000000\">0.40</text>\n<polygon fill=\"none\" stroke=\"#000000\" points=\"230.9275,-322.6711 230.9275,-343.6711 263.9275,-343.6711 263.9275,-322.6711 230.9275,-322.6711\"/>\n<text text-anchor=\"start\" x=\"233.9275\" y=\"-329.4711\" font-family=\"Times,serif\" font-size=\"14.00\" fill=\"#000000\">0.30</text>\n<polygon fill=\"none\" stroke=\"#000000\" points=\"58.9275,-299.6711 58.9275,-320.6711 158.9275,-320.6711 158.9275,-299.6711 58.9275,-299.6711\"/>\n<text text-anchor=\"start\" x=\"72.4275\" y=\"-306.4711\" font-family=\"Times,serif\" font-size=\"14.00\" fill=\"#000000\">Dumb, Hard</text>\n<polygon fill=\"none\" stroke=\"#000000\" points=\"160.9275,-299.6711 160.9275,-320.6711 193.9275,-320.6711 193.9275,-299.6711 160.9275,-299.6711\"/>\n<text text-anchor=\"start\" x=\"163.9275\" y=\"-306.4711\" font-family=\"Times,serif\" font-size=\"14.00\" fill=\"#000000\">0.90</text>\n<polygon fill=\"none\" stroke=\"#000000\" points=\"195.9275,-299.6711 195.9275,-320.6711 228.9275,-320.6711 228.9275,-299.6711 195.9275,-299.6711\"/>\n<text text-anchor=\"start\" x=\"198.9275\" y=\"-306.4711\" font-family=\"Times,serif\" font-size=\"14.00\" fill=\"#000000\">0.08</text>\n<polygon fill=\"none\" stroke=\"#000000\" points=\"230.9275,-299.6711 230.9275,-320.6711 263.9275,-320.6711 263.9275,-299.6711 230.9275,-299.6711\"/>\n<text text-anchor=\"start\" x=\"233.9275\" y=\"-306.4711\" font-family=\"Times,serif\" font-size=\"14.00\" fill=\"#000000\">0.02</text>\n<polygon fill=\"none\" stroke=\"#000000\" points=\"58.9275,-276.6711 58.9275,-297.6711 158.9275,-297.6711 158.9275,-276.6711 58.9275,-276.6711\"/>\n<text text-anchor=\"start\" x=\"61.9275\" y=\"-283.4711\" font-family=\"Times,serif\" font-size=\"14.00\" fill=\"#000000\">Intelligent, Easy</text>\n<polygon fill=\"none\" stroke=\"#000000\" points=\"160.9275,-276.6711 160.9275,-297.6711 193.9275,-297.6711 193.9275,-276.6711 160.9275,-276.6711\"/>\n<text text-anchor=\"start\" x=\"163.9275\" y=\"-283.4711\" font-family=\"Times,serif\" font-size=\"14.00\" fill=\"#000000\">0.05</text>\n<polygon fill=\"none\" stroke=\"#000000\" points=\"195.9275,-276.6711 195.9275,-297.6711 228.9275,-297.6711 228.9275,-276.6711 195.9275,-276.6711\"/>\n<text text-anchor=\"start\" x=\"198.9275\" y=\"-283.4711\" font-family=\"Times,serif\" font-size=\"14.00\" fill=\"#000000\">0.25</text>\n<polygon fill=\"none\" stroke=\"#000000\" points=\"230.9275,-276.6711 230.9275,-297.6711 263.9275,-297.6711 263.9275,-276.6711 230.9275,-276.6711\"/>\n<text text-anchor=\"start\" x=\"233.9275\" y=\"-283.4711\" font-family=\"Times,serif\" font-size=\"14.00\" fill=\"#000000\">0.70</text>\n<polygon fill=\"none\" stroke=\"#000000\" points=\"58.9275,-253.6711 58.9275,-274.6711 158.9275,-274.6711 158.9275,-253.6711 58.9275,-253.6711\"/>\n<text text-anchor=\"start\" x=\"61.9275\" y=\"-260.4711\" font-family=\"Times,serif\" font-size=\"14.00\" fill=\"#000000\">Intelligent, Hard</text>\n<polygon fill=\"none\" stroke=\"#000000\" points=\"160.9275,-253.6711 160.9275,-274.6711 193.9275,-274.6711 193.9275,-253.6711 160.9275,-253.6711\"/>\n<text text-anchor=\"start\" x=\"163.9275\" y=\"-260.4711\" font-family=\"Times,serif\" font-size=\"14.00\" fill=\"#000000\">0.50</text>\n<polygon fill=\"none\" stroke=\"#000000\" points=\"195.9275,-253.6711 195.9275,-274.6711 228.9275,-274.6711 228.9275,-253.6711 195.9275,-253.6711\"/>\n<text text-anchor=\"start\" x=\"198.9275\" y=\"-260.4711\" font-family=\"Times,serif\" font-size=\"14.00\" fill=\"#000000\">0.30</text>\n<polygon fill=\"none\" stroke=\"#000000\" points=\"230.9275,-253.6711 230.9275,-274.6711 263.9275,-274.6711 263.9275,-253.6711 230.9275,-253.6711\"/>\n<text text-anchor=\"start\" x=\"233.9275\" y=\"-260.4711\" font-family=\"Times,serif\" font-size=\"14.00\" fill=\"#000000\">0.20</text>\n<polygon fill=\"none\" stroke=\"#000000\" points=\"55.4275,-250.6711 55.4275,-392.6711 268.4275,-392.6711 268.4275,-250.6711 55.4275,-250.6711\"/>\n</g>\n<!-- Diff&#45;&gt;Grade -->\n<g id=\"edge1\" class=\"edge\">\n<title>Diff&#45;&gt;Grade</title>\n<path fill=\"none\" stroke=\"#000000\" d=\"M161.9275,-463.6224C161.9275,-455.4327 161.9275,-446.7755 161.9275,-437.9393\"/>\n<polygon fill=\"#000000\" stroke=\"#000000\" points=\"165.4276,-437.9021 161.9275,-427.9022 158.4276,-437.9022 165.4276,-437.9021\"/>\n</g>\n<!-- Intel -->\n<g id=\"node2\" class=\"node\">\n<title>Intel</title>\n<ellipse fill=\"none\" stroke=\"#000000\" cx=\"396.9275\" cy=\"-521.0128\" rx=\"92.7622\" ry=\"57.0522\"/>\n<polygon fill=\"none\" stroke=\"#000000\" points=\"342.9275,-533.0128 342.9275,-554.0128 451.9275,-554.0128 451.9275,-533.0128 342.9275,-533.0128\"/>\n<text text-anchor=\"start\" x=\"380.4275\" y=\"-539.8128\" font-family=\"Times,serif\" font-size=\"14.00\" fill=\"#000000\"> Intel </text>\n<polygon fill=\"none\" stroke=\"#000000\" points=\"342.9275,-510.0128 342.9275,-531.0128 385.9275,-531.0128 385.9275,-510.0128 342.9275,-510.0128\"/>\n<text text-anchor=\"start\" x=\"345.9275\" y=\"-516.8128\" font-family=\"Times,serif\" font-size=\"14.00\" fill=\"#000000\">Dumb</text>\n<polygon fill=\"none\" stroke=\"#000000\" points=\"387.9275,-510.0128 387.9275,-531.0128 451.9275,-531.0128 451.9275,-510.0128 387.9275,-510.0128\"/>\n<text text-anchor=\"start\" x=\"390.9275\" y=\"-516.8128\" font-family=\"Times,serif\" font-size=\"14.00\" fill=\"#000000\">Intelligent</text>\n<polygon fill=\"none\" stroke=\"#000000\" points=\"342.9275,-487.0128 342.9275,-508.0128 385.9275,-508.0128 385.9275,-487.0128 342.9275,-487.0128\"/>\n<text text-anchor=\"start\" x=\"350.9275\" y=\"-493.8128\" font-family=\"Times,serif\" font-size=\"14.00\" fill=\"#000000\">0.70</text>\n<polygon fill=\"none\" stroke=\"#000000\" points=\"387.9275,-487.0128 387.9275,-508.0128 451.9275,-508.0128 451.9275,-487.0128 387.9275,-487.0128\"/>\n<text text-anchor=\"start\" x=\"406.4275\" y=\"-493.8128\" font-family=\"Times,serif\" font-size=\"14.00\" fill=\"#000000\">0.30</text>\n<polygon fill=\"none\" stroke=\"#000000\" points=\"339.4275,-484.5128 339.4275,-557.5128 454.4275,-557.5128 454.4275,-484.5128 339.4275,-484.5128\"/>\n</g>\n<!-- Intel&#45;&gt;Grade -->\n<g id=\"edge3\" class=\"edge\">\n<title>Intel&#45;&gt;Grade</title>\n<path fill=\"none\" stroke=\"#000000\" d=\"M342.127,-474.5276C320.2488,-455.9692 294.2691,-433.9316 268.9442,-412.4494\"/>\n<polygon fill=\"#000000\" stroke=\"#000000\" points=\"271.001,-409.6045 261.111,-405.8048 266.4728,-414.9427 271.001,-409.6045\"/>\n</g>\n<!-- SAT -->\n<g id=\"node5\" class=\"node\">\n<title>SAT</title>\n<ellipse fill=\"none\" stroke=\"#000000\" cx=\"456.9275\" cy=\"-321.6711\" rx=\"115.0173\" ry=\"73.5782\"/>\n<polygon fill=\"none\" stroke=\"#000000\" points=\"386.9275,-345.6711 386.9275,-366.6711 527.9275,-366.6711 527.9275,-345.6711 386.9275,-345.6711\"/>\n<text text-anchor=\"start\" x=\"440.4275\" y=\"-352.4711\" font-family=\"Times,serif\" font-size=\"14.00\" fill=\"#000000\"> SAT </text>\n<polygon fill=\"none\" stroke=\"#000000\" points=\"386.9275,-322.6711 386.9275,-343.6711 450.9275,-343.6711 450.9275,-322.6711 386.9275,-322.6711\"/>\n<text text-anchor=\"start\" x=\"416.9275\" y=\"-329.4711\" font-family=\"Times,serif\" font-size=\"14.00\" fill=\"#000000\"> </text>\n<polygon fill=\"none\" stroke=\"#000000\" points=\"452.9275,-322.6711 452.9275,-343.6711 485.9275,-343.6711 485.9275,-322.6711 452.9275,-322.6711\"/>\n<text text-anchor=\"start\" x=\"457.4275\" y=\"-329.4711\" font-family=\"Times,serif\" font-size=\"14.00\" fill=\"#000000\">Bad</text>\n<polygon fill=\"none\" stroke=\"#000000\" points=\"487.9275,-322.6711 487.9275,-343.6711 527.9275,-343.6711 527.9275,-322.6711 487.9275,-322.6711\"/>\n<text text-anchor=\"start\" x=\"490.9275\" y=\"-329.4711\" font-family=\"Times,serif\" font-size=\"14.00\" fill=\"#000000\">Good</text>\n<polygon fill=\"none\" stroke=\"#000000\" points=\"386.9275,-299.6711 386.9275,-320.6711 450.9275,-320.6711 450.9275,-299.6711 386.9275,-299.6711\"/>\n<text text-anchor=\"start\" x=\"400.4275\" y=\"-306.4711\" font-family=\"Times,serif\" font-size=\"14.00\" fill=\"#000000\">Dumb</text>\n<polygon fill=\"none\" stroke=\"#000000\" points=\"452.9275,-299.6711 452.9275,-320.6711 485.9275,-320.6711 485.9275,-299.6711 452.9275,-299.6711\"/>\n<text text-anchor=\"start\" x=\"455.9275\" y=\"-306.4711\" font-family=\"Times,serif\" font-size=\"14.00\" fill=\"#000000\">0.95</text>\n<polygon fill=\"none\" stroke=\"#000000\" points=\"487.9275,-299.6711 487.9275,-320.6711 527.9275,-320.6711 527.9275,-299.6711 487.9275,-299.6711\"/>\n<text text-anchor=\"start\" x=\"494.4275\" y=\"-306.4711\" font-family=\"Times,serif\" font-size=\"14.00\" fill=\"#000000\">0.05</text>\n<polygon fill=\"none\" stroke=\"#000000\" points=\"386.9275,-276.6711 386.9275,-297.6711 450.9275,-297.6711 450.9275,-276.6711 386.9275,-276.6711\"/>\n<text text-anchor=\"start\" x=\"389.9275\" y=\"-283.4711\" font-family=\"Times,serif\" font-size=\"14.00\" fill=\"#000000\">Intelligent</text>\n<polygon fill=\"none\" stroke=\"#000000\" points=\"452.9275,-276.6711 452.9275,-297.6711 485.9275,-297.6711 485.9275,-276.6711 452.9275,-276.6711\"/>\n<text text-anchor=\"start\" x=\"455.9275\" y=\"-283.4711\" font-family=\"Times,serif\" font-size=\"14.00\" fill=\"#000000\">0.20</text>\n<polygon fill=\"none\" stroke=\"#000000\" points=\"487.9275,-276.6711 487.9275,-297.6711 527.9275,-297.6711 527.9275,-276.6711 487.9275,-276.6711\"/>\n<text text-anchor=\"start\" x=\"494.4275\" y=\"-283.4711\" font-family=\"Times,serif\" font-size=\"14.00\" fill=\"#000000\">0.80</text>\n<polygon fill=\"none\" stroke=\"#000000\" points=\"383.4275,-273.6711 383.4275,-369.6711 530.4275,-369.6711 530.4275,-273.6711 383.4275,-273.6711\"/>\n</g>\n<!-- Intel&#45;&gt;SAT -->\n<g id=\"edge4\" class=\"edge\">\n<title>Intel&#45;&gt;SAT</title>\n<path fill=\"none\" stroke=\"#000000\" d=\"M413.8805,-464.6888C419.5944,-445.7051 426.0926,-424.1158 432.2772,-403.5681\"/>\n<polygon fill=\"#000000\" stroke=\"#000000\" points=\"435.6569,-404.4829 435.1877,-393.8984 428.954,-402.4653 435.6569,-404.4829\"/>\n</g>\n<!-- Letter -->\n<g id=\"node4\" class=\"node\">\n<title>Letter</title>\n<ellipse fill=\"none\" stroke=\"#000000\" cx=\"161.9275\" cy=\"-89.8026\" rx=\"83.3772\" ry=\"89.6056\"/>\n<polygon fill=\"none\" stroke=\"#000000\" points=\"113.9275,-124.8026 113.9275,-145.8026 209.9275,-145.8026 209.9275,-124.8026 113.9275,-124.8026\"/>\n<text text-anchor=\"start\" x=\"141.4275\" y=\"-131.6026\" font-family=\"Times,serif\" font-size=\"14.00\" fill=\"#000000\"> Letter </text>\n<polygon fill=\"none\" stroke=\"#000000\" points=\"113.9275,-101.8026 113.9275,-122.8026 130.9275,-122.8026 130.9275,-101.8026 113.9275,-101.8026\"/>\n<text text-anchor=\"start\" x=\"120.4275\" y=\"-108.6026\" font-family=\"Times,serif\" font-size=\"14.00\" fill=\"#000000\"> </text>\n<polygon fill=\"none\" stroke=\"#000000\" points=\"132.9275,-101.8026 132.9275,-122.8026 165.9275,-122.8026 165.9275,-101.8026 132.9275,-101.8026\"/>\n<text text-anchor=\"start\" x=\"137.4275\" y=\"-108.6026\" font-family=\"Times,serif\" font-size=\"14.00\" fill=\"#000000\">Bad</text>\n<polygon fill=\"none\" stroke=\"#000000\" points=\"167.9275,-101.8026 167.9275,-122.8026 207.9275,-122.8026 207.9275,-101.8026 167.9275,-101.8026\"/>\n<text text-anchor=\"start\" x=\"170.9275\" y=\"-108.6026\" font-family=\"Times,serif\" font-size=\"14.00\" fill=\"#000000\">Good</text>\n<polygon fill=\"none\" stroke=\"#000000\" points=\"113.9275,-78.8026 113.9275,-99.8026 130.9275,-99.8026 130.9275,-78.8026 113.9275,-78.8026\"/>\n<text text-anchor=\"start\" x=\"116.9275\" y=\"-85.6026\" font-family=\"Times,serif\" font-size=\"14.00\" fill=\"#000000\">A</text>\n<polygon fill=\"none\" stroke=\"#000000\" points=\"132.9275,-78.8026 132.9275,-99.8026 165.9275,-99.8026 165.9275,-78.8026 132.9275,-78.8026\"/>\n<text text-anchor=\"start\" x=\"135.9275\" y=\"-85.6026\" font-family=\"Times,serif\" font-size=\"14.00\" fill=\"#000000\">0.10</text>\n<polygon fill=\"none\" stroke=\"#000000\" points=\"167.9275,-78.8026 167.9275,-99.8026 207.9275,-99.8026 207.9275,-78.8026 167.9275,-78.8026\"/>\n<text text-anchor=\"start\" x=\"174.4275\" y=\"-85.6026\" font-family=\"Times,serif\" font-size=\"14.00\" fill=\"#000000\">0.90</text>\n<polygon fill=\"none\" stroke=\"#000000\" points=\"113.9275,-55.8026 113.9275,-76.8026 130.9275,-76.8026 130.9275,-55.8026 113.9275,-55.8026\"/>\n<text text-anchor=\"start\" x=\"117.4275\" y=\"-62.6026\" font-family=\"Times,serif\" font-size=\"14.00\" fill=\"#000000\">B</text>\n<polygon fill=\"none\" stroke=\"#000000\" points=\"132.9275,-55.8026 132.9275,-76.8026 165.9275,-76.8026 165.9275,-55.8026 132.9275,-55.8026\"/>\n<text text-anchor=\"start\" x=\"135.9275\" y=\"-62.6026\" font-family=\"Times,serif\" font-size=\"14.00\" fill=\"#000000\">0.40</text>\n<polygon fill=\"none\" stroke=\"#000000\" points=\"167.9275,-55.8026 167.9275,-76.8026 207.9275,-76.8026 207.9275,-55.8026 167.9275,-55.8026\"/>\n<text text-anchor=\"start\" x=\"174.4275\" y=\"-62.6026\" font-family=\"Times,serif\" font-size=\"14.00\" fill=\"#000000\">0.60</text>\n<polygon fill=\"none\" stroke=\"#000000\" points=\"113.9275,-32.8026 113.9275,-53.8026 130.9275,-53.8026 130.9275,-32.8026 113.9275,-32.8026\"/>\n<text text-anchor=\"start\" x=\"117.4275\" y=\"-39.6026\" font-family=\"Times,serif\" font-size=\"14.00\" fill=\"#000000\">C</text>\n<polygon fill=\"none\" stroke=\"#000000\" points=\"132.9275,-32.8026 132.9275,-53.8026 165.9275,-53.8026 165.9275,-32.8026 132.9275,-32.8026\"/>\n<text text-anchor=\"start\" x=\"135.9275\" y=\"-39.6026\" font-family=\"Times,serif\" font-size=\"14.00\" fill=\"#000000\">0.99</text>\n<polygon fill=\"none\" stroke=\"#000000\" points=\"167.9275,-32.8026 167.9275,-53.8026 207.9275,-53.8026 207.9275,-32.8026 167.9275,-32.8026\"/>\n<text text-anchor=\"start\" x=\"174.4275\" y=\"-39.6026\" font-family=\"Times,serif\" font-size=\"14.00\" fill=\"#000000\">0.01</text>\n<polygon fill=\"none\" stroke=\"#000000\" points=\"110.9275,-30.3026 110.9275,-149.3026 212.9275,-149.3026 212.9275,-30.3026 110.9275,-30.3026\"/>\n</g>\n<!-- Grade&#45;&gt;Letter -->\n<g id=\"edge2\" class=\"edge\">\n<title>Grade&#45;&gt;Letter</title>\n<path fill=\"none\" stroke=\"#000000\" d=\"M161.9275,-215.5762C161.9275,-207.0986 161.9275,-198.5502 161.9275,-190.1143\"/>\n<polygon fill=\"#000000\" stroke=\"#000000\" points=\"165.4276,-189.8924 161.9275,-179.8924 158.4276,-189.8924 165.4276,-189.8924\"/>\n</g>\n</g>\n</svg>\n"
          },
          "metadata": {
            "tags": []
          }
        },
        {
          "output_type": "execute_result",
          "data": {
            "application/vnd.google.colaboratory.intrinsic+json": {
              "type": "string"
            },
            "text/plain": [
              "'student_pgm_with_cpt.pdf'"
            ]
          },
          "metadata": {
            "tags": []
          },
          "execution_count": 14
        }
      ]
    },
    {
      "cell_type": "markdown",
      "metadata": {
        "id": "GdtP7ww5f5v0"
      },
      "source": [
        "## Marginals"
      ]
    },
    {
      "cell_type": "code",
      "metadata": {
        "colab": {
          "base_uri": "https://localhost:8080/"
        },
        "id": "2rUHEgV8yTCw",
        "outputId": "f2e39344-86b4-4228-e8f4-6221ba591502"
      },
      "source": [
        "\n",
        "evidence = {'Grade': 'C'}\n",
        "marginals = pgm.get_marginals(model, evidence)\n",
        "print(marginals)"
      ],
      "execution_count": 15,
      "outputs": [
        {
          "output_type": "stream",
          "text": [
            "Finding Elimination Order: : 100%|██████████| 3/3 [00:00<00:00, 284.21it/s]\n",
            "Eliminating: Intel: 100%|██████████| 3/3 [00:00<00:00, 296.37it/s]\n",
            "Finding Elimination Order: : 100%|██████████| 3/3 [00:00<00:00, 400.65it/s]\n",
            "Eliminating: SAT: 100%|██████████| 3/3 [00:00<00:00, 480.94it/s]\n",
            "Finding Elimination Order: : 100%|██████████| 3/3 [00:00<00:00, 588.87it/s]\n",
            "Eliminating: Diff: 100%|██████████| 3/3 [00:00<00:00, 463.90it/s]\n",
            "Finding Elimination Order: : 100%|██████████| 3/3 [00:00<00:00, 625.89it/s]\n",
            "Eliminating: Intel: 100%|██████████| 3/3 [00:00<00:00, 272.48it/s]"
          ],
          "name": "stderr"
        },
        {
          "output_type": "stream",
          "text": [
            "{'Diff': array([0.37070938, 0.62929062]), 'Grade': array([0., 0., 1.]), 'Intel': array([0.92105263, 0.07894737]), 'Letter': array([0.99, 0.01]), 'SAT': array([0.89078947, 0.10921053])}\n"
          ],
          "name": "stdout"
        },
        {
          "output_type": "stream",
          "text": [
            "\n"
          ],
          "name": "stderr"
        }
      ]
    },
    {
      "cell_type": "code",
      "metadata": {
        "colab": {
          "base_uri": "https://localhost:8080/",
          "height": 603
        },
        "id": "hIwLouEyyWnQ",
        "outputId": "8b70ba1a-86ac-42b9-ed83-d1afb87e9ffe"
      },
      "source": [
        "dot = pgm.visualize_marginals(model, evidence, marginals)\n",
        "display(dot)\n",
        "dot.render('student_pgm_marginals_given_grade', format='pdf')"
      ],
      "execution_count": 16,
      "outputs": [
        {
          "output_type": "display_data",
          "data": {
            "text/plain": [
              "<graphviz.dot.Digraph at 0x7f84960f9710>"
            ],
            "image/svg+xml": "<?xml version=\"1.0\" encoding=\"UTF-8\" standalone=\"no\"?>\n<!DOCTYPE svg PUBLIC \"-//W3C//DTD SVG 1.1//EN\"\n \"http://www.w3.org/Graphics/SVG/1.1/DTD/svg11.dtd\">\n<!-- Generated by graphviz version 2.40.1 (20161225.0304)\n -->\n<!-- Title: pgm Pages: 1 -->\n<svg width=\"342pt\" height=\"424pt\"\n viewBox=\"0.00 0.00 342.39 423.65\" xmlns=\"http://www.w3.org/2000/svg\" xmlns:xlink=\"http://www.w3.org/1999/xlink\">\n<g id=\"graph0\" class=\"graph\" transform=\"scale(1 1) rotate(0) translate(4 419.6539)\">\n<title>pgm</title>\n<polygon fill=\"#ffffff\" stroke=\"transparent\" points=\"-4,4 -4,-419.6539 338.3919,-419.6539 338.3919,4 -4,4\"/>\n<!-- Diff -->\n<g id=\"node1\" class=\"node\">\n<title>Diff</title>\n<ellipse fill=\"none\" stroke=\"#000000\" cx=\"65.7609\" cy=\"-358.3782\" rx=\"65.5227\" ry=\"57.0522\"/>\n<polygon fill=\"none\" stroke=\"#000000\" points=\"30.7609,-370.3782 30.7609,-391.3782 101.7609,-391.3782 101.7609,-370.3782 30.7609,-370.3782\"/>\n<text text-anchor=\"start\" x=\"50.7609\" y=\"-377.1782\" font-family=\"Times,serif\" font-size=\"14.00\" fill=\"#000000\"> Diff </text>\n<polygon fill=\"none\" stroke=\"#000000\" points=\"30.7609,-347.3782 30.7609,-368.3782 64.7609,-368.3782 64.7609,-347.3782 30.7609,-347.3782\"/>\n<text text-anchor=\"start\" x=\"33.7609\" y=\"-354.1782\" font-family=\"Times,serif\" font-size=\"14.00\" fill=\"#000000\">Easy</text>\n<polygon fill=\"none\" stroke=\"#000000\" points=\"66.7609,-347.3782 66.7609,-368.3782 101.7609,-368.3782 101.7609,-347.3782 66.7609,-347.3782\"/>\n<text text-anchor=\"start\" x=\"69.7609\" y=\"-354.1782\" font-family=\"Times,serif\" font-size=\"14.00\" fill=\"#000000\">Hard</text>\n<polygon fill=\"none\" stroke=\"#000000\" points=\"30.7609,-324.3782 30.7609,-345.3782 64.7609,-345.3782 64.7609,-324.3782 30.7609,-324.3782\"/>\n<text text-anchor=\"start\" x=\"34.2609\" y=\"-331.1782\" font-family=\"Times,serif\" font-size=\"14.00\" fill=\"#000000\">0.37</text>\n<polygon fill=\"none\" stroke=\"#000000\" points=\"66.7609,-324.3782 66.7609,-345.3782 101.7609,-345.3782 101.7609,-324.3782 66.7609,-324.3782\"/>\n<text text-anchor=\"start\" x=\"70.7609\" y=\"-331.1782\" font-family=\"Times,serif\" font-size=\"14.00\" fill=\"#000000\">0.63</text>\n<polygon fill=\"none\" stroke=\"#000000\" points=\"27.2609,-321.8782 27.2609,-394.8782 104.2609,-394.8782 104.2609,-321.8782 27.2609,-321.8782\"/>\n</g>\n<!-- Grade -->\n<g id=\"node2\" class=\"node\">\n<title>Grade</title>\n<ellipse fill=\"none\" stroke=\"#000000\" cx=\"74.7609\" cy=\"-207.8269\" rx=\"71.3357\" ry=\"57.0522\"/>\n<polygon fill=\"#bebebe\" stroke=\"transparent\" points=\"35.7609,-219.8269 35.7609,-240.8269 114.7609,-240.8269 114.7609,-219.8269 35.7609,-219.8269\"/>\n<polygon fill=\"none\" stroke=\"#000000\" points=\"35.7609,-219.8269 35.7609,-240.8269 114.7609,-240.8269 114.7609,-219.8269 35.7609,-219.8269\"/>\n<text text-anchor=\"start\" x=\"53.7609\" y=\"-226.6269\" font-family=\"Times,serif\" font-size=\"14.00\" fill=\"#000000\"> Grade </text>\n<polygon fill=\"none\" stroke=\"#000000\" points=\"35.7609,-196.8269 35.7609,-217.8269 60.7609,-217.8269 60.7609,-196.8269 35.7609,-196.8269\"/>\n<text text-anchor=\"start\" x=\"42.7609\" y=\"-203.6269\" font-family=\"Times,serif\" font-size=\"14.00\" fill=\"#000000\">A</text>\n<polygon fill=\"none\" stroke=\"#000000\" points=\"62.7609,-196.8269 62.7609,-217.8269 87.7609,-217.8269 87.7609,-196.8269 62.7609,-196.8269\"/>\n<text text-anchor=\"start\" x=\"70.2609\" y=\"-203.6269\" font-family=\"Times,serif\" font-size=\"14.00\" fill=\"#000000\">B</text>\n<polygon fill=\"none\" stroke=\"#000000\" points=\"89.7609,-196.8269 89.7609,-217.8269 114.7609,-217.8269 114.7609,-196.8269 89.7609,-196.8269\"/>\n<text text-anchor=\"start\" x=\"97.2609\" y=\"-203.6269\" font-family=\"Times,serif\" font-size=\"14.00\" fill=\"#000000\">C</text>\n<polygon fill=\"none\" stroke=\"#000000\" points=\"35.7609,-173.8269 35.7609,-194.8269 60.7609,-194.8269 60.7609,-173.8269 35.7609,-173.8269\"/>\n<text text-anchor=\"start\" x=\"38.7609\" y=\"-180.6269\" font-family=\"Times,serif\" font-size=\"14.00\" fill=\"#000000\">0.0</text>\n<polygon fill=\"none\" stroke=\"#000000\" points=\"62.7609,-173.8269 62.7609,-194.8269 87.7609,-194.8269 87.7609,-173.8269 62.7609,-173.8269\"/>\n<text text-anchor=\"start\" x=\"65.7609\" y=\"-180.6269\" font-family=\"Times,serif\" font-size=\"14.00\" fill=\"#000000\">0.0</text>\n<polygon fill=\"none\" stroke=\"#000000\" points=\"89.7609,-173.8269 89.7609,-194.8269 114.7609,-194.8269 114.7609,-173.8269 89.7609,-173.8269\"/>\n<text text-anchor=\"start\" x=\"92.7609\" y=\"-180.6269\" font-family=\"Times,serif\" font-size=\"14.00\" fill=\"#000000\">1.0</text>\n<polygon fill=\"none\" stroke=\"#000000\" points=\"32.2609,-171.3269 32.2609,-244.3269 117.2609,-244.3269 117.2609,-171.3269 32.2609,-171.3269\"/>\n</g>\n<!-- Diff&#45;&gt;Grade -->\n<g id=\"edge1\" class=\"edge\">\n<title>Diff&#45;&gt;Grade</title>\n<path fill=\"none\" stroke=\"#000000\" d=\"M69.1891,-301.0318C69.6835,-292.761 70.1963,-284.1837 70.7016,-275.7314\"/>\n<polygon fill=\"#000000\" stroke=\"#000000\" points=\"74.2094,-275.7038 71.3125,-265.5127 67.2219,-275.286 74.2094,-275.7038\"/>\n</g>\n<!-- Letter -->\n<g id=\"node4\" class=\"node\">\n<title>Letter</title>\n<ellipse fill=\"none\" stroke=\"#000000\" cx=\"74.7609\" cy=\"-57.2756\" rx=\"68.6788\" ry=\"57.0522\"/>\n<polygon fill=\"none\" stroke=\"#000000\" points=\"37.7609,-69.2756 37.7609,-90.2756 112.7609,-90.2756 112.7609,-69.2756 37.7609,-69.2756\"/>\n<text text-anchor=\"start\" x=\"54.7609\" y=\"-76.0756\" font-family=\"Times,serif\" font-size=\"14.00\" fill=\"#000000\"> Letter </text>\n<polygon fill=\"none\" stroke=\"#000000\" points=\"37.7609,-46.2756 37.7609,-67.2756 70.7609,-67.2756 70.7609,-46.2756 37.7609,-46.2756\"/>\n<text text-anchor=\"start\" x=\"42.2609\" y=\"-53.0756\" font-family=\"Times,serif\" font-size=\"14.00\" fill=\"#000000\">Bad</text>\n<polygon fill=\"none\" stroke=\"#000000\" points=\"72.7609,-46.2756 72.7609,-67.2756 112.7609,-67.2756 112.7609,-46.2756 72.7609,-46.2756\"/>\n<text text-anchor=\"start\" x=\"75.7609\" y=\"-53.0756\" font-family=\"Times,serif\" font-size=\"14.00\" fill=\"#000000\">Good</text>\n<polygon fill=\"none\" stroke=\"#000000\" points=\"37.7609,-23.2756 37.7609,-44.2756 70.7609,-44.2756 70.7609,-23.2756 37.7609,-23.2756\"/>\n<text text-anchor=\"start\" x=\"40.7609\" y=\"-30.0756\" font-family=\"Times,serif\" font-size=\"14.00\" fill=\"#000000\">0.99</text>\n<polygon fill=\"none\" stroke=\"#000000\" points=\"72.7609,-23.2756 72.7609,-44.2756 112.7609,-44.2756 112.7609,-23.2756 72.7609,-23.2756\"/>\n<text text-anchor=\"start\" x=\"79.2609\" y=\"-30.0756\" font-family=\"Times,serif\" font-size=\"14.00\" fill=\"#000000\">0.01</text>\n<polygon fill=\"none\" stroke=\"#000000\" points=\"34.2609,-20.7756 34.2609,-93.7756 115.2609,-93.7756 115.2609,-20.7756 34.2609,-20.7756\"/>\n</g>\n<!-- Grade&#45;&gt;Letter -->\n<g id=\"edge2\" class=\"edge\">\n<title>Grade&#45;&gt;Letter</title>\n<path fill=\"none\" stroke=\"#000000\" d=\"M74.7609,-150.4805C74.7609,-142.2097 74.7609,-133.6324 74.7609,-125.1801\"/>\n<polygon fill=\"#000000\" stroke=\"#000000\" points=\"78.261,-124.9614 74.7609,-114.9614 71.261,-124.9614 78.261,-124.9614\"/>\n</g>\n<!-- Intel -->\n<g id=\"node3\" class=\"node\">\n<title>Intel</title>\n<ellipse fill=\"none\" stroke=\"#000000\" cx=\"241.7609\" cy=\"-358.3782\" rx=\"92.7622\" ry=\"57.0522\"/>\n<polygon fill=\"none\" stroke=\"#000000\" points=\"187.7609,-370.3782 187.7609,-391.3782 296.7609,-391.3782 296.7609,-370.3782 187.7609,-370.3782\"/>\n<text text-anchor=\"start\" x=\"225.2609\" y=\"-377.1782\" font-family=\"Times,serif\" font-size=\"14.00\" fill=\"#000000\"> Intel </text>\n<polygon fill=\"none\" stroke=\"#000000\" points=\"187.7609,-347.3782 187.7609,-368.3782 230.7609,-368.3782 230.7609,-347.3782 187.7609,-347.3782\"/>\n<text text-anchor=\"start\" x=\"190.7609\" y=\"-354.1782\" font-family=\"Times,serif\" font-size=\"14.00\" fill=\"#000000\">Dumb</text>\n<polygon fill=\"none\" stroke=\"#000000\" points=\"232.7609,-347.3782 232.7609,-368.3782 296.7609,-368.3782 296.7609,-347.3782 232.7609,-347.3782\"/>\n<text text-anchor=\"start\" x=\"235.7609\" y=\"-354.1782\" font-family=\"Times,serif\" font-size=\"14.00\" fill=\"#000000\">Intelligent</text>\n<polygon fill=\"none\" stroke=\"#000000\" points=\"187.7609,-324.3782 187.7609,-345.3782 230.7609,-345.3782 230.7609,-324.3782 187.7609,-324.3782\"/>\n<text text-anchor=\"start\" x=\"195.7609\" y=\"-331.1782\" font-family=\"Times,serif\" font-size=\"14.00\" fill=\"#000000\">0.92</text>\n<polygon fill=\"none\" stroke=\"#000000\" points=\"232.7609,-324.3782 232.7609,-345.3782 296.7609,-345.3782 296.7609,-324.3782 232.7609,-324.3782\"/>\n<text text-anchor=\"start\" x=\"251.2609\" y=\"-331.1782\" font-family=\"Times,serif\" font-size=\"14.00\" fill=\"#000000\">0.08</text>\n<polygon fill=\"none\" stroke=\"#000000\" points=\"184.2609,-321.8782 184.2609,-394.8782 299.2609,-394.8782 299.2609,-321.8782 184.2609,-321.8782\"/>\n</g>\n<!-- Intel&#45;&gt;Grade -->\n<g id=\"edge3\" class=\"edge\">\n<title>Intel&#45;&gt;Grade</title>\n<path fill=\"none\" stroke=\"#000000\" d=\"M188.9211,-310.7429C170.1088,-293.7835 148.8854,-274.6505 129.8864,-257.5228\"/>\n<polygon fill=\"#000000\" stroke=\"#000000\" points=\"132.2197,-254.914 122.4488,-250.8178 127.5326,-260.1132 132.2197,-254.914\"/>\n</g>\n<!-- SAT -->\n<g id=\"node5\" class=\"node\">\n<title>SAT</title>\n<ellipse fill=\"none\" stroke=\"#000000\" cx=\"241.7609\" cy=\"-207.8269\" rx=\"68.6788\" ry=\"57.0522\"/>\n<polygon fill=\"none\" stroke=\"#000000\" points=\"204.7609,-219.8269 204.7609,-240.8269 279.7609,-240.8269 279.7609,-219.8269 204.7609,-219.8269\"/>\n<text text-anchor=\"start\" x=\"225.2609\" y=\"-226.6269\" font-family=\"Times,serif\" font-size=\"14.00\" fill=\"#000000\"> SAT </text>\n<polygon fill=\"none\" stroke=\"#000000\" points=\"204.7609,-196.8269 204.7609,-217.8269 237.7609,-217.8269 237.7609,-196.8269 204.7609,-196.8269\"/>\n<text text-anchor=\"start\" x=\"209.2609\" y=\"-203.6269\" font-family=\"Times,serif\" font-size=\"14.00\" fill=\"#000000\">Bad</text>\n<polygon fill=\"none\" stroke=\"#000000\" points=\"239.7609,-196.8269 239.7609,-217.8269 279.7609,-217.8269 279.7609,-196.8269 239.7609,-196.8269\"/>\n<text text-anchor=\"start\" x=\"242.7609\" y=\"-203.6269\" font-family=\"Times,serif\" font-size=\"14.00\" fill=\"#000000\">Good</text>\n<polygon fill=\"none\" stroke=\"#000000\" points=\"204.7609,-173.8269 204.7609,-194.8269 237.7609,-194.8269 237.7609,-173.8269 204.7609,-173.8269\"/>\n<text text-anchor=\"start\" x=\"207.7609\" y=\"-180.6269\" font-family=\"Times,serif\" font-size=\"14.00\" fill=\"#000000\">0.89</text>\n<polygon fill=\"none\" stroke=\"#000000\" points=\"239.7609,-173.8269 239.7609,-194.8269 279.7609,-194.8269 279.7609,-173.8269 239.7609,-173.8269\"/>\n<text text-anchor=\"start\" x=\"246.7609\" y=\"-180.6269\" font-family=\"Times,serif\" font-size=\"14.00\" fill=\"#000000\">0.11</text>\n<polygon fill=\"none\" stroke=\"#000000\" points=\"201.2609,-171.3269 201.2609,-244.3269 282.2609,-244.3269 282.2609,-171.3269 201.2609,-171.3269\"/>\n</g>\n<!-- Intel&#45;&gt;SAT -->\n<g id=\"edge4\" class=\"edge\">\n<title>Intel&#45;&gt;SAT</title>\n<path fill=\"none\" stroke=\"#000000\" d=\"M241.7609,-301.0318C241.7609,-292.761 241.7609,-284.1837 241.7609,-275.7314\"/>\n<polygon fill=\"#000000\" stroke=\"#000000\" points=\"245.261,-275.5127 241.7609,-265.5127 238.261,-275.5127 245.261,-275.5127\"/>\n</g>\n</g>\n</svg>\n"
          },
          "metadata": {
            "tags": []
          }
        },
        {
          "output_type": "execute_result",
          "data": {
            "application/vnd.google.colaboratory.intrinsic+json": {
              "type": "string"
            },
            "text/plain": [
              "'student_pgm_marginals_given_grade.pdf'"
            ]
          },
          "metadata": {
            "tags": []
          },
          "execution_count": 16
        }
      ]
    },
    {
      "cell_type": "code",
      "metadata": {
        "colab": {
          "base_uri": "https://localhost:8080/",
          "height": 753
        },
        "id": "GvQFdruIvlu8",
        "outputId": "cbc1f070-d7c2-4ab1-f51c-944740855911"
      },
      "source": [
        "\n",
        "evidence = {'Grade': 'C', 'SAT': 'Good'}\n",
        "marginals = pgm.get_marginals(model, evidence)\n",
        "print(marginals)\n",
        "\n",
        "dot = pgm.visualize_marginals(model, evidence, marginals)\n",
        "display(dot)\n",
        "dot.render('student_pgm_marginals_given_grade_sat', format='pdf')"
      ],
      "execution_count": 17,
      "outputs": [
        {
          "output_type": "stream",
          "text": [
            "Finding Elimination Order: : 100%|██████████| 2/2 [00:00<00:00, 297.35it/s]\n",
            "Eliminating: Intel: 100%|██████████| 2/2 [00:00<00:00, 348.60it/s]\n",
            "Finding Elimination Order: : 100%|██████████| 2/2 [00:00<00:00, 282.49it/s]\n",
            "Eliminating: Diff: 100%|██████████| 2/2 [00:00<00:00, 541.27it/s]\n",
            "Finding Elimination Order: : 100%|██████████| 2/2 [00:00<00:00, 1198.20it/s]\n",
            "Eliminating: Intel: 100%|██████████| 2/2 [00:00<00:00, 142.09it/s]"
          ],
          "name": "stderr"
        },
        {
          "output_type": "stream",
          "text": [
            "{'Diff': array([0.24044002, 0.75955998]), 'Grade': array([0., 0., 1.]), 'Intel': array([0.42168675, 0.57831325]), 'Letter': array([0.99, 0.01]), 'SAT': array([0., 1.])}\n"
          ],
          "name": "stdout"
        },
        {
          "output_type": "stream",
          "text": [
            "\n"
          ],
          "name": "stderr"
        },
        {
          "output_type": "display_data",
          "data": {
            "text/plain": [
              "<graphviz.dot.Digraph at 0x7f84960a9190>"
            ],
            "image/svg+xml": "<?xml version=\"1.0\" encoding=\"UTF-8\" standalone=\"no\"?>\n<!DOCTYPE svg PUBLIC \"-//W3C//DTD SVG 1.1//EN\"\n \"http://www.w3.org/Graphics/SVG/1.1/DTD/svg11.dtd\">\n<!-- Generated by graphviz version 2.40.1 (20161225.0304)\n -->\n<!-- Title: pgm Pages: 1 -->\n<svg width=\"342pt\" height=\"424pt\"\n viewBox=\"0.00 0.00 342.39 423.65\" xmlns=\"http://www.w3.org/2000/svg\" xmlns:xlink=\"http://www.w3.org/1999/xlink\">\n<g id=\"graph0\" class=\"graph\" transform=\"scale(1 1) rotate(0) translate(4 419.6539)\">\n<title>pgm</title>\n<polygon fill=\"#ffffff\" stroke=\"transparent\" points=\"-4,4 -4,-419.6539 338.3919,-419.6539 338.3919,4 -4,4\"/>\n<!-- Diff -->\n<g id=\"node1\" class=\"node\">\n<title>Diff</title>\n<ellipse fill=\"none\" stroke=\"#000000\" cx=\"65.7609\" cy=\"-358.3782\" rx=\"65.5227\" ry=\"57.0522\"/>\n<polygon fill=\"none\" stroke=\"#000000\" points=\"30.7609,-370.3782 30.7609,-391.3782 101.7609,-391.3782 101.7609,-370.3782 30.7609,-370.3782\"/>\n<text text-anchor=\"start\" x=\"50.7609\" y=\"-377.1782\" font-family=\"Times,serif\" font-size=\"14.00\" fill=\"#000000\"> Diff </text>\n<polygon fill=\"none\" stroke=\"#000000\" points=\"30.7609,-347.3782 30.7609,-368.3782 64.7609,-368.3782 64.7609,-347.3782 30.7609,-347.3782\"/>\n<text text-anchor=\"start\" x=\"33.7609\" y=\"-354.1782\" font-family=\"Times,serif\" font-size=\"14.00\" fill=\"#000000\">Easy</text>\n<polygon fill=\"none\" stroke=\"#000000\" points=\"66.7609,-347.3782 66.7609,-368.3782 101.7609,-368.3782 101.7609,-347.3782 66.7609,-347.3782\"/>\n<text text-anchor=\"start\" x=\"69.7609\" y=\"-354.1782\" font-family=\"Times,serif\" font-size=\"14.00\" fill=\"#000000\">Hard</text>\n<polygon fill=\"none\" stroke=\"#000000\" points=\"30.7609,-324.3782 30.7609,-345.3782 64.7609,-345.3782 64.7609,-324.3782 30.7609,-324.3782\"/>\n<text text-anchor=\"start\" x=\"34.2609\" y=\"-331.1782\" font-family=\"Times,serif\" font-size=\"14.00\" fill=\"#000000\">0.24</text>\n<polygon fill=\"none\" stroke=\"#000000\" points=\"66.7609,-324.3782 66.7609,-345.3782 101.7609,-345.3782 101.7609,-324.3782 66.7609,-324.3782\"/>\n<text text-anchor=\"start\" x=\"70.7609\" y=\"-331.1782\" font-family=\"Times,serif\" font-size=\"14.00\" fill=\"#000000\">0.76</text>\n<polygon fill=\"none\" stroke=\"#000000\" points=\"27.2609,-321.8782 27.2609,-394.8782 104.2609,-394.8782 104.2609,-321.8782 27.2609,-321.8782\"/>\n</g>\n<!-- Grade -->\n<g id=\"node2\" class=\"node\">\n<title>Grade</title>\n<ellipse fill=\"none\" stroke=\"#000000\" cx=\"75.7609\" cy=\"-207.8269\" rx=\"71.3357\" ry=\"57.0522\"/>\n<polygon fill=\"#bebebe\" stroke=\"transparent\" points=\"36.7609,-219.8269 36.7609,-240.8269 115.7609,-240.8269 115.7609,-219.8269 36.7609,-219.8269\"/>\n<polygon fill=\"none\" stroke=\"#000000\" points=\"36.7609,-219.8269 36.7609,-240.8269 115.7609,-240.8269 115.7609,-219.8269 36.7609,-219.8269\"/>\n<text text-anchor=\"start\" x=\"54.7609\" y=\"-226.6269\" font-family=\"Times,serif\" font-size=\"14.00\" fill=\"#000000\"> Grade </text>\n<polygon fill=\"none\" stroke=\"#000000\" points=\"36.7609,-196.8269 36.7609,-217.8269 61.7609,-217.8269 61.7609,-196.8269 36.7609,-196.8269\"/>\n<text text-anchor=\"start\" x=\"43.7609\" y=\"-203.6269\" font-family=\"Times,serif\" font-size=\"14.00\" fill=\"#000000\">A</text>\n<polygon fill=\"none\" stroke=\"#000000\" points=\"63.7609,-196.8269 63.7609,-217.8269 88.7609,-217.8269 88.7609,-196.8269 63.7609,-196.8269\"/>\n<text text-anchor=\"start\" x=\"71.2609\" y=\"-203.6269\" font-family=\"Times,serif\" font-size=\"14.00\" fill=\"#000000\">B</text>\n<polygon fill=\"none\" stroke=\"#000000\" points=\"90.7609,-196.8269 90.7609,-217.8269 115.7609,-217.8269 115.7609,-196.8269 90.7609,-196.8269\"/>\n<text text-anchor=\"start\" x=\"98.2609\" y=\"-203.6269\" font-family=\"Times,serif\" font-size=\"14.00\" fill=\"#000000\">C</text>\n<polygon fill=\"none\" stroke=\"#000000\" points=\"36.7609,-173.8269 36.7609,-194.8269 61.7609,-194.8269 61.7609,-173.8269 36.7609,-173.8269\"/>\n<text text-anchor=\"start\" x=\"39.7609\" y=\"-180.6269\" font-family=\"Times,serif\" font-size=\"14.00\" fill=\"#000000\">0.0</text>\n<polygon fill=\"none\" stroke=\"#000000\" points=\"63.7609,-173.8269 63.7609,-194.8269 88.7609,-194.8269 88.7609,-173.8269 63.7609,-173.8269\"/>\n<text text-anchor=\"start\" x=\"66.7609\" y=\"-180.6269\" font-family=\"Times,serif\" font-size=\"14.00\" fill=\"#000000\">0.0</text>\n<polygon fill=\"none\" stroke=\"#000000\" points=\"90.7609,-173.8269 90.7609,-194.8269 115.7609,-194.8269 115.7609,-173.8269 90.7609,-173.8269\"/>\n<text text-anchor=\"start\" x=\"93.7609\" y=\"-180.6269\" font-family=\"Times,serif\" font-size=\"14.00\" fill=\"#000000\">1.0</text>\n<polygon fill=\"none\" stroke=\"#000000\" points=\"33.2609,-171.3269 33.2609,-244.3269 118.2609,-244.3269 118.2609,-171.3269 33.2609,-171.3269\"/>\n</g>\n<!-- Diff&#45;&gt;Grade -->\n<g id=\"edge1\" class=\"edge\">\n<title>Diff&#45;&gt;Grade</title>\n<path fill=\"none\" stroke=\"#000000\" d=\"M69.57,-301.0318C70.1194,-292.761 70.6891,-284.1837 71.2505,-275.7314\"/>\n<polygon fill=\"#000000\" stroke=\"#000000\" points=\"74.7587,-275.7227 71.9293,-265.5127 67.7741,-275.2587 74.7587,-275.7227\"/>\n</g>\n<!-- Letter -->\n<g id=\"node4\" class=\"node\">\n<title>Letter</title>\n<ellipse fill=\"none\" stroke=\"#000000\" cx=\"75.7609\" cy=\"-57.2756\" rx=\"68.6788\" ry=\"57.0522\"/>\n<polygon fill=\"none\" stroke=\"#000000\" points=\"38.7609,-69.2756 38.7609,-90.2756 113.7609,-90.2756 113.7609,-69.2756 38.7609,-69.2756\"/>\n<text text-anchor=\"start\" x=\"55.7609\" y=\"-76.0756\" font-family=\"Times,serif\" font-size=\"14.00\" fill=\"#000000\"> Letter </text>\n<polygon fill=\"none\" stroke=\"#000000\" points=\"38.7609,-46.2756 38.7609,-67.2756 71.7609,-67.2756 71.7609,-46.2756 38.7609,-46.2756\"/>\n<text text-anchor=\"start\" x=\"43.2609\" y=\"-53.0756\" font-family=\"Times,serif\" font-size=\"14.00\" fill=\"#000000\">Bad</text>\n<polygon fill=\"none\" stroke=\"#000000\" points=\"73.7609,-46.2756 73.7609,-67.2756 113.7609,-67.2756 113.7609,-46.2756 73.7609,-46.2756\"/>\n<text text-anchor=\"start\" x=\"76.7609\" y=\"-53.0756\" font-family=\"Times,serif\" font-size=\"14.00\" fill=\"#000000\">Good</text>\n<polygon fill=\"none\" stroke=\"#000000\" points=\"38.7609,-23.2756 38.7609,-44.2756 71.7609,-44.2756 71.7609,-23.2756 38.7609,-23.2756\"/>\n<text text-anchor=\"start\" x=\"41.7609\" y=\"-30.0756\" font-family=\"Times,serif\" font-size=\"14.00\" fill=\"#000000\">0.99</text>\n<polygon fill=\"none\" stroke=\"#000000\" points=\"73.7609,-23.2756 73.7609,-44.2756 113.7609,-44.2756 113.7609,-23.2756 73.7609,-23.2756\"/>\n<text text-anchor=\"start\" x=\"80.2609\" y=\"-30.0756\" font-family=\"Times,serif\" font-size=\"14.00\" fill=\"#000000\">0.01</text>\n<polygon fill=\"none\" stroke=\"#000000\" points=\"35.2609,-20.7756 35.2609,-93.7756 116.2609,-93.7756 116.2609,-20.7756 35.2609,-20.7756\"/>\n</g>\n<!-- Grade&#45;&gt;Letter -->\n<g id=\"edge2\" class=\"edge\">\n<title>Grade&#45;&gt;Letter</title>\n<path fill=\"none\" stroke=\"#000000\" d=\"M75.7609,-150.4805C75.7609,-142.2097 75.7609,-133.6324 75.7609,-125.1801\"/>\n<polygon fill=\"#000000\" stroke=\"#000000\" points=\"79.261,-124.9614 75.7609,-114.9614 72.261,-124.9614 79.261,-124.9614\"/>\n</g>\n<!-- Intel -->\n<g id=\"node3\" class=\"node\">\n<title>Intel</title>\n<ellipse fill=\"none\" stroke=\"#000000\" cx=\"241.7609\" cy=\"-358.3782\" rx=\"92.7622\" ry=\"57.0522\"/>\n<polygon fill=\"none\" stroke=\"#000000\" points=\"187.7609,-370.3782 187.7609,-391.3782 296.7609,-391.3782 296.7609,-370.3782 187.7609,-370.3782\"/>\n<text text-anchor=\"start\" x=\"225.2609\" y=\"-377.1782\" font-family=\"Times,serif\" font-size=\"14.00\" fill=\"#000000\"> Intel </text>\n<polygon fill=\"none\" stroke=\"#000000\" points=\"187.7609,-347.3782 187.7609,-368.3782 230.7609,-368.3782 230.7609,-347.3782 187.7609,-347.3782\"/>\n<text text-anchor=\"start\" x=\"190.7609\" y=\"-354.1782\" font-family=\"Times,serif\" font-size=\"14.00\" fill=\"#000000\">Dumb</text>\n<polygon fill=\"none\" stroke=\"#000000\" points=\"232.7609,-347.3782 232.7609,-368.3782 296.7609,-368.3782 296.7609,-347.3782 232.7609,-347.3782\"/>\n<text text-anchor=\"start\" x=\"235.7609\" y=\"-354.1782\" font-family=\"Times,serif\" font-size=\"14.00\" fill=\"#000000\">Intelligent</text>\n<polygon fill=\"none\" stroke=\"#000000\" points=\"187.7609,-324.3782 187.7609,-345.3782 230.7609,-345.3782 230.7609,-324.3782 187.7609,-324.3782\"/>\n<text text-anchor=\"start\" x=\"195.7609\" y=\"-331.1782\" font-family=\"Times,serif\" font-size=\"14.00\" fill=\"#000000\">0.42</text>\n<polygon fill=\"none\" stroke=\"#000000\" points=\"232.7609,-324.3782 232.7609,-345.3782 296.7609,-345.3782 296.7609,-324.3782 232.7609,-324.3782\"/>\n<text text-anchor=\"start\" x=\"251.2609\" y=\"-331.1782\" font-family=\"Times,serif\" font-size=\"14.00\" fill=\"#000000\">0.58</text>\n<polygon fill=\"none\" stroke=\"#000000\" points=\"184.2609,-321.8782 184.2609,-394.8782 299.2609,-394.8782 299.2609,-321.8782 184.2609,-321.8782\"/>\n</g>\n<!-- Intel&#45;&gt;Grade -->\n<g id=\"edge3\" class=\"edge\">\n<title>Intel&#45;&gt;Grade</title>\n<path fill=\"none\" stroke=\"#000000\" d=\"M189.2375,-310.7429C170.6206,-293.8586 149.6282,-274.8198 130.8071,-257.7503\"/>\n<polygon fill=\"#000000\" stroke=\"#000000\" points=\"132.9219,-254.9432 123.1632,-250.8178 128.2193,-260.1284 132.9219,-254.9432\"/>\n</g>\n<!-- SAT -->\n<g id=\"node5\" class=\"node\">\n<title>SAT</title>\n<ellipse fill=\"none\" stroke=\"#000000\" cx=\"241.7609\" cy=\"-207.8269\" rx=\"66.4361\" ry=\"57.0522\"/>\n<polygon fill=\"#bebebe\" stroke=\"transparent\" points=\"205.7609,-219.8269 205.7609,-240.8269 277.7609,-240.8269 277.7609,-219.8269 205.7609,-219.8269\"/>\n<polygon fill=\"none\" stroke=\"#000000\" points=\"205.7609,-219.8269 205.7609,-240.8269 277.7609,-240.8269 277.7609,-219.8269 205.7609,-219.8269\"/>\n<text text-anchor=\"start\" x=\"224.7609\" y=\"-226.6269\" font-family=\"Times,serif\" font-size=\"14.00\" fill=\"#000000\"> SAT </text>\n<polygon fill=\"none\" stroke=\"#000000\" points=\"205.7609,-196.8269 205.7609,-217.8269 235.7609,-217.8269 235.7609,-196.8269 205.7609,-196.8269\"/>\n<text text-anchor=\"start\" x=\"208.7609\" y=\"-203.6269\" font-family=\"Times,serif\" font-size=\"14.00\" fill=\"#000000\">Bad</text>\n<polygon fill=\"none\" stroke=\"#000000\" points=\"237.7609,-196.8269 237.7609,-217.8269 277.7609,-217.8269 277.7609,-196.8269 237.7609,-196.8269\"/>\n<text text-anchor=\"start\" x=\"240.7609\" y=\"-203.6269\" font-family=\"Times,serif\" font-size=\"14.00\" fill=\"#000000\">Good</text>\n<polygon fill=\"none\" stroke=\"#000000\" points=\"205.7609,-173.8269 205.7609,-194.8269 235.7609,-194.8269 235.7609,-173.8269 205.7609,-173.8269\"/>\n<text text-anchor=\"start\" x=\"211.2609\" y=\"-180.6269\" font-family=\"Times,serif\" font-size=\"14.00\" fill=\"#000000\">0.0</text>\n<polygon fill=\"none\" stroke=\"#000000\" points=\"237.7609,-173.8269 237.7609,-194.8269 277.7609,-194.8269 277.7609,-173.8269 237.7609,-173.8269\"/>\n<text text-anchor=\"start\" x=\"248.2609\" y=\"-180.6269\" font-family=\"Times,serif\" font-size=\"14.00\" fill=\"#000000\">1.0</text>\n<polygon fill=\"none\" stroke=\"#000000\" points=\"202.7609,-171.3269 202.7609,-244.3269 280.7609,-244.3269 280.7609,-171.3269 202.7609,-171.3269\"/>\n</g>\n<!-- Intel&#45;&gt;SAT -->\n<g id=\"edge4\" class=\"edge\">\n<title>Intel&#45;&gt;SAT</title>\n<path fill=\"none\" stroke=\"#000000\" d=\"M241.7609,-301.0318C241.7609,-292.761 241.7609,-284.1837 241.7609,-275.7314\"/>\n<polygon fill=\"#000000\" stroke=\"#000000\" points=\"245.261,-275.5127 241.7609,-265.5127 238.261,-275.5127 245.261,-275.5127\"/>\n</g>\n</g>\n</svg>\n"
          },
          "metadata": {
            "tags": []
          }
        },
        {
          "output_type": "execute_result",
          "data": {
            "application/vnd.google.colaboratory.intrinsic+json": {
              "type": "string"
            },
            "text/plain": [
              "'student_pgm_marginals_given_grade_sat.pdf'"
            ]
          },
          "metadata": {
            "tags": []
          },
          "execution_count": 17
        }
      ]
    },
    {
      "cell_type": "code",
      "metadata": {
        "id": "FDxivZgxxJcg"
      },
      "source": [
        ""
      ],
      "execution_count": 17,
      "outputs": []
    }
  ]
}
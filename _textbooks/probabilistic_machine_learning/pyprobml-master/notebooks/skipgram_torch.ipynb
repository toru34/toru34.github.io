{
  "nbformat": 4,
  "nbformat_minor": 0,
  "metadata": {
    "colab": {
      "name": "skipgram_torch.ipynb",
      "provenance": [],
      "toc_visible": true
    },
    "kernelspec": {
      "name": "python3",
      "display_name": "Python 3"
    },
    "language_info": {
      "name": "python"
    },
    "accelerator": "GPU"
  },
  "cells": [
    {
      "cell_type": "markdown",
      "metadata": {
        "id": "dr9s3opBLaxy"
      },
      "source": [
        "\n",
        "# Learning word emebddings using skipgram with negative sampling.\n",
        "\n",
        "Based on D2L 14.3 http://d2l.ai/chapter_natural-language-processing-pretraining/word-embedding-dataset.html and 14.4 of http://d2l.ai/chapter_natural-language-processing-pretraining/word2vec-pretraining.html.\n",
        "\n"
      ]
    },
    {
      "cell_type": "code",
      "metadata": {
        "id": "vROd7EtcLU8y"
      },
      "source": [
        "import numpy as np\n",
        "import matplotlib.pyplot as plt\n",
        "np.random.seed(seed=1)\n",
        "import math\n",
        "\n",
        "import os\n",
        "import random\n",
        "import torch\n",
        "from torch import nn\n",
        "from torch.nn import functional as F\n",
        "\n",
        "import requests\n",
        "import zipfile\n",
        "import hashlib\n",
        "import collections\n",
        "from IPython import display\n",
        "import time\n",
        "\n",
        "!mkdir figures # for saving plots\n"
      ],
      "execution_count": 1,
      "outputs": []
    },
    {
      "cell_type": "markdown",
      "metadata": {
        "id": "DB7i4BaGMHHw"
      },
      "source": [
        "# Data\n",
        "\n",
        "We use the Penn Tree Bank (PTB), which is a small but commonly-used corpus derived from the Wall Stree Journal.\n"
      ]
    },
    {
      "cell_type": "code",
      "metadata": {
        "id": "tbsp6DoWfHoT"
      },
      "source": [
        "# Required functions for downloading data\n",
        "\n",
        "def download(name, cache_dir=os.path.join('..', 'data')):\n",
        "    \"\"\"Download a file inserted into DATA_HUB, return the local filename.\"\"\"\n",
        "    assert name in DATA_HUB, f\"{name} does not exist in {DATA_HUB}.\"\n",
        "    url, sha1_hash = DATA_HUB[name]\n",
        "    os.makedirs(cache_dir, exist_ok=True)\n",
        "    fname = os.path.join(cache_dir, url.split('/')[-1])\n",
        "    if os.path.exists(fname):\n",
        "        sha1 = hashlib.sha1()\n",
        "        with open(fname, 'rb') as f:\n",
        "            while True:\n",
        "                data = f.read(1048576)\n",
        "                if not data:\n",
        "                    break\n",
        "                sha1.update(data)\n",
        "        if sha1.hexdigest() == sha1_hash:\n",
        "            return fname  # Hit cache\n",
        "    print(f'Downloading {fname} from {url}...')\n",
        "    r = requests.get(url, stream=True, verify=True)\n",
        "    with open(fname, 'wb') as f:\n",
        "        f.write(r.content)\n",
        "    return fname\n",
        "\n",
        "def download_extract(name, folder=None):\n",
        "    \"\"\"Download and extract a zip/tar file.\"\"\"\n",
        "    fname = download(name)\n",
        "    base_dir = os.path.dirname(fname)\n",
        "    data_dir, ext = os.path.splitext(fname)\n",
        "    if ext == '.zip':\n",
        "        fp = zipfile.ZipFile(fname, 'r')\n",
        "    elif ext in ('.tar', '.gz'):\n",
        "        fp = tarfile.open(fname, 'r')\n",
        "    else:\n",
        "        assert False, 'Only zip/tar files can be extracted.'\n",
        "    fp.extractall(base_dir)\n",
        "    return os.path.join(base_dir, folder) if folder else data_dir"
      ],
      "execution_count": 2,
      "outputs": []
    },
    {
      "cell_type": "code",
      "metadata": {
        "colab": {
          "base_uri": "https://localhost:8080/",
          "height": 52
        },
        "id": "oqzb1aR7LuBn",
        "outputId": "5f46e8af-1a50-440c-a3ac-3301ea3c9dda"
      },
      "source": [
        "DATA_HUB = dict()\n",
        "DATA_URL = 'http://d2l-data.s3-accelerate.amazonaws.com/'\n",
        "\n",
        "DATA_HUB['ptb'] = (DATA_URL + 'ptb.zip',\n",
        "                       '319d85e578af0cdc590547f26231e4e31cdf1e42')\n",
        "\n",
        "#@save\n",
        "def read_ptb():\n",
        "    data_dir = download_extract('ptb')\n",
        "    with open(os.path.join(data_dir, 'ptb.train.txt')) as f:\n",
        "        raw_text = f.read()\n",
        "    return [line.split() for line in raw_text.split('\\n')]\n",
        "\n",
        "sentences = read_ptb()\n",
        "f'# sentences: {len(sentences)}'"
      ],
      "execution_count": 3,
      "outputs": [
        {
          "output_type": "stream",
          "text": [
            "Downloading ../data/ptb.zip from http://d2l-data.s3-accelerate.amazonaws.com/ptb.zip...\n"
          ],
          "name": "stdout"
        },
        {
          "output_type": "execute_result",
          "data": {
            "application/vnd.google.colaboratory.intrinsic+json": {
              "type": "string"
            },
            "text/plain": [
              "'# sentences: 42069'"
            ]
          },
          "metadata": {
            "tags": []
          },
          "execution_count": 3
        }
      ]
    },
    {
      "cell_type": "markdown",
      "metadata": {
        "id": "nMNb72PtMXeB"
      },
      "source": [
        "We make a vocabulary, replacing any word that occurs less than 10 times with unk."
      ]
    },
    {
      "cell_type": "code",
      "metadata": {
        "id": "d6Y-1kY6fQgP"
      },
      "source": [
        "class Vocab:  \n",
        "    \"\"\"Vocabulary for text.\"\"\"\n",
        "    def __init__(self, tokens=None, min_freq=0, reserved_tokens=None):\n",
        "        if tokens is None:\n",
        "            tokens = []\n",
        "        if reserved_tokens is None:\n",
        "            reserved_tokens = []\n",
        "        # Sort according to frequencies\n",
        "        counter = count_corpus(tokens)\n",
        "        self.token_freqs = sorted(counter.items(), key=lambda x: x[1],\n",
        "                                  reverse=True)\n",
        "        # The index for the unknown token is 0\n",
        "        self.unk, uniq_tokens = 0, ['<unk>'] + reserved_tokens\n",
        "        uniq_tokens += [\n",
        "            token for token, freq in self.token_freqs\n",
        "            if freq >= min_freq and token not in uniq_tokens]\n",
        "        self.idx_to_token, self.token_to_idx = [], dict()\n",
        "        for token in uniq_tokens:\n",
        "            self.idx_to_token.append(token)\n",
        "            self.token_to_idx[token] = len(self.idx_to_token) - 1\n",
        "\n",
        "    def __len__(self):\n",
        "        return len(self.idx_to_token)\n",
        "\n",
        "    def __getitem__(self, tokens):\n",
        "        if not isinstance(tokens, (list, tuple)):\n",
        "            return self.token_to_idx.get(tokens, self.unk)\n",
        "        return [self.__getitem__(token) for token in tokens]\n",
        "\n",
        "    def to_tokens(self, indices):\n",
        "        if not isinstance(indices, (list, tuple)):\n",
        "            return self.idx_to_token[indices]\n",
        "        return [self.idx_to_token[index] for index in indices]\n",
        "\n",
        "def count_corpus(tokens):  \n",
        "    \"\"\"Count token frequencies.\"\"\"\n",
        "    # Here `tokens` is a 1D list or 2D list\n",
        "    if len(tokens) == 0 or isinstance(tokens[0], list):\n",
        "        # Flatten a list of token lists into a list of tokens\n",
        "        tokens = [token for line in tokens for token in line]\n",
        "    return collections.Counter(tokens)"
      ],
      "execution_count": 4,
      "outputs": []
    },
    {
      "cell_type": "code",
      "metadata": {
        "colab": {
          "base_uri": "https://localhost:8080/",
          "height": 35
        },
        "id": "ZSaGwiy4MRWs",
        "outputId": "78aee7e8-8cd0-4547-fffd-4c4ab5313013"
      },
      "source": [
        "vocab = Vocab(sentences, min_freq=10)\n",
        "f'vocab size: {len(vocab)}'"
      ],
      "execution_count": 6,
      "outputs": [
        {
          "output_type": "execute_result",
          "data": {
            "application/vnd.google.colaboratory.intrinsic+json": {
              "type": "string"
            },
            "text/plain": [
              "'vocab size: 6719'"
            ]
          },
          "metadata": {
            "tags": []
          },
          "execution_count": 6
        }
      ]
    },
    {
      "cell_type": "markdown",
      "metadata": {
        "id": "NoaUzLSKM9ct"
      },
      "source": [
        "Mikolov suggested keeping word $w$ with probability\n",
        "$$\n",
        "\\sqrt{\\theta / f(w)}\n",
        "$$\n",
        "where $\\theta=10^{-4}$ is a threshold, and $f(w)=N(w)/N$ is the empirical frequency of word $w$."
      ]
    },
    {
      "cell_type": "code",
      "metadata": {
        "id": "y0oKquhrffjm"
      },
      "source": [
        "def count_corpus(tokens):\n",
        "    \"\"\"Count token frequencies.\"\"\"\n",
        "    # Here `tokens` is a 1D list or 2D list\n",
        "    if len(tokens) == 0 or isinstance(tokens[0], list):\n",
        "        # Flatten a list of token lists into a list of tokens\n",
        "        tokens = [token for line in tokens for token in line]\n",
        "    return collections.Counter(tokens)"
      ],
      "execution_count": null,
      "outputs": []
    },
    {
      "cell_type": "code",
      "metadata": {
        "id": "VeUDAQ5QMW5E"
      },
      "source": [
        "def subsampling(sentences, vocab):\n",
        "    # Map low frequency words into <unk>\n",
        "    sentences = [[vocab.idx_to_token[vocab[tk]] for tk in line]\n",
        "                 for line in sentences]\n",
        "    # Count the frequency for each word\n",
        "    counter = count_corpus(sentences)\n",
        "    num_tokens = sum(counter.values())\n",
        "\n",
        "    # Return True if to keep this token during subsampling\n",
        "    def keep(token):\n",
        "        return (random.uniform(0, 1) < math.sqrt(\n",
        "            1e-4 / counter[token] * num_tokens))\n",
        "\n",
        "    # Now do the subsampling\n",
        "    return [[tk for tk in line if keep(tk)] for line in sentences]\n",
        "\n",
        "subsampled = subsampling(sentences, vocab)"
      ],
      "execution_count": 8,
      "outputs": []
    },
    {
      "cell_type": "markdown",
      "metadata": {
        "id": "WZHLGAVcNbFi"
      },
      "source": [
        "We compare the frequency of certain common and rare words in the original and subsampled data below."
      ]
    },
    {
      "cell_type": "code",
      "metadata": {
        "colab": {
          "base_uri": "https://localhost:8080/"
        },
        "id": "jbg8GeMrNal5",
        "outputId": "baac0362-18cd-4f8e-d5ba-c70ec998f1c8"
      },
      "source": [
        "def compare_counts(token):\n",
        "    return (f'# of \"{token}\": '\n",
        "            f'before={sum([line.count(token) for line in sentences])}, '\n",
        "            f'after={sum([line.count(token) for line in subsampled])}')\n",
        "\n",
        "print(compare_counts('the'))\n",
        "print(compare_counts('join'))\n",
        "\n"
      ],
      "execution_count": 9,
      "outputs": [
        {
          "output_type": "stream",
          "text": [
            "# of \"the\": before=50770, after=2214\n",
            "# of \"join\": before=45, after=45\n"
          ],
          "name": "stdout"
        }
      ]
    },
    {
      "cell_type": "markdown",
      "metadata": {
        "id": "1k9mPeZFN0Ip"
      },
      "source": [
        "Let's tokenize the subsampled data.\n"
      ]
    },
    {
      "cell_type": "code",
      "metadata": {
        "colab": {
          "base_uri": "https://localhost:8080/"
        },
        "id": "qRIu5H7iNp8q",
        "outputId": "bb84c698-a04b-4a28-e825-6b3caee747cd"
      },
      "source": [
        "corpus = [vocab[line] for line in subsampled]\n",
        "\n",
        "print(corpus[0:3])\n"
      ],
      "execution_count": 10,
      "outputs": [
        {
          "output_type": "stream",
          "text": [
            "[[0], [392, 32, 2115, 145, 274], [140, 5277, 3054, 1580, 95]]\n"
          ],
          "name": "stdout"
        }
      ]
    },
    {
      "cell_type": "markdown",
      "metadata": {
        "id": "5x7g3ONVONJh"
      },
      "source": [
        "## Extracting central target words and their contexts\n",
        "\n",
        "We randomly sample a context length for each central word, up to some maximum length, and then extract all the context words as a list of lists."
      ]
    },
    {
      "cell_type": "code",
      "metadata": {
        "id": "_PuIQF0rN4QW"
      },
      "source": [
        "def get_centers_and_contexts(corpus, max_window_size):\n",
        "    centers, contexts = [], []\n",
        "    for line in corpus:\n",
        "        # Each sentence needs at least 2 words to form a \"central target word\n",
        "        # - context word\" pair\n",
        "        if len(line) < 2:\n",
        "            continue\n",
        "        centers += line\n",
        "        for i in range(len(line)):  # Context window centered at i\n",
        "            window_size = random.randint(1, max_window_size)\n",
        "            indices = list(\n",
        "                range(max(0, i - window_size),\n",
        "                      min(len(line), i + 1 + window_size)))\n",
        "            # Exclude the central target word from the context words\n",
        "            indices.remove(i)\n",
        "            contexts.append([line[idx] for idx in indices])\n",
        "    return centers, contexts"
      ],
      "execution_count": 11,
      "outputs": []
    },
    {
      "cell_type": "markdown",
      "metadata": {
        "id": "A3SpK42xObtI"
      },
      "source": [
        "Example. Suppose we have a corpus with 2 sentences of length 7 and 3, and we use a max context of size 2. Here are the centers and contexts."
      ]
    },
    {
      "cell_type": "code",
      "metadata": {
        "colab": {
          "base_uri": "https://localhost:8080/"
        },
        "id": "beMj64wtOXrS",
        "outputId": "01e5c860-8167-4d88-9623-953dd077849c"
      },
      "source": [
        "tiny_dataset = [list(range(7)), list(range(7, 10))]\n",
        "print('dataset', tiny_dataset)\n",
        "for center, context in zip(*get_centers_and_contexts(tiny_dataset, 2)):\n",
        "    print('center', center, 'has contexts', context)"
      ],
      "execution_count": 12,
      "outputs": [
        {
          "output_type": "stream",
          "text": [
            "dataset [[0, 1, 2, 3, 4, 5, 6], [7, 8, 9]]\n",
            "center 0 has contexts [1]\n",
            "center 1 has contexts [0, 2, 3]\n",
            "center 2 has contexts [1, 3]\n",
            "center 3 has contexts [1, 2, 4, 5]\n",
            "center 4 has contexts [2, 3, 5, 6]\n",
            "center 5 has contexts [4, 6]\n",
            "center 6 has contexts [5]\n",
            "center 7 has contexts [8, 9]\n",
            "center 8 has contexts [7, 9]\n",
            "center 9 has contexts [7, 8]\n"
          ],
          "name": "stdout"
        }
      ]
    },
    {
      "cell_type": "markdown",
      "metadata": {
        "id": "tPXfWy-AOmsm"
      },
      "source": [
        "Extract context for the full dataset."
      ]
    },
    {
      "cell_type": "code",
      "metadata": {
        "colab": {
          "base_uri": "https://localhost:8080/",
          "height": 35
        },
        "id": "bzqrVGvZOiFo",
        "outputId": "bcdafd70-62d1-4366-f0c4-039453773c78"
      },
      "source": [
        "all_centers, all_contexts = get_centers_and_contexts(corpus, 5)\n",
        "f'# center-context pairs: {len(all_centers)}'"
      ],
      "execution_count": 13,
      "outputs": [
        {
          "output_type": "execute_result",
          "data": {
            "application/vnd.google.colaboratory.intrinsic+json": {
              "type": "string"
            },
            "text/plain": [
              "'# center-context pairs: 353392'"
            ]
          },
          "metadata": {
            "tags": []
          },
          "execution_count": 13
        }
      ]
    },
    {
      "cell_type": "markdown",
      "metadata": {
        "id": "eNpvCW42OxoM"
      },
      "source": [
        "## Negative sampling\n",
        "\n",
        "For speed, we define a sampling class that pre-computes 10,000 random indices from the weighted distribution, using a single call to `random.choices`, and then sequentially returns elements of this list. If we reach the end of the cache, we refill it."
      ]
    },
    {
      "cell_type": "code",
      "metadata": {
        "id": "Bw8PkcmWOpNO"
      },
      "source": [
        "class RandomGenerator:\n",
        "    \"\"\"Draw a random int in [0, n] according to n sampling weights.\"\"\"\n",
        "    def __init__(self, sampling_weights):\n",
        "        self.population = list(range(len(sampling_weights)))\n",
        "        self.sampling_weights = sampling_weights\n",
        "        self.candidates = []\n",
        "        self.i = 0\n",
        "\n",
        "    def draw(self):\n",
        "        if self.i == len(self.candidates):\n",
        "            self.candidates = random.choices(self.population,\n",
        "                                             self.sampling_weights, k=10000)\n",
        "            self.i = 0\n",
        "        self.i += 1\n",
        "        return self.candidates[self.i - 1]"
      ],
      "execution_count": 14,
      "outputs": []
    },
    {
      "cell_type": "markdown",
      "metadata": {
        "id": "LJ7AoKIYPH7t"
      },
      "source": [
        "Example."
      ]
    },
    {
      "cell_type": "code",
      "metadata": {
        "colab": {
          "base_uri": "https://localhost:8080/"
        },
        "id": "nuSGYZcSPItE",
        "outputId": "2efcb93f-1fb7-4c4d-89ad-b36efda68ad7"
      },
      "source": [
        "generator = RandomGenerator([2, 3, 4])\n",
        "[generator.draw() for _ in range(10)]"
      ],
      "execution_count": 15,
      "outputs": [
        {
          "output_type": "execute_result",
          "data": {
            "text/plain": [
              "[0, 1, 0, 0, 1, 2, 1, 0, 2, 1]"
            ]
          },
          "metadata": {
            "tags": []
          },
          "execution_count": 15
        }
      ]
    },
    {
      "cell_type": "markdown",
      "metadata": {
        "id": "8_PNuohYPNbd"
      },
      "source": [
        "Now we generate $K$ negatives for each context. These are drawn from $p(w) \\propto \\text{freq}(w)^{0.75}$."
      ]
    },
    {
      "cell_type": "code",
      "metadata": {
        "id": "bxOnDh5CPI6b"
      },
      "source": [
        "def get_negatives(all_contexts, corpus, K):\n",
        "    counter = count_corpus(corpus)\n",
        "    sampling_weights = [counter[i]**0.75 for i in range(len(counter))]\n",
        "    all_negatives, generator = [], RandomGenerator(sampling_weights)\n",
        "    for contexts in all_contexts:\n",
        "        negatives = []\n",
        "        while len(negatives) < len(contexts) * K:\n",
        "            neg = generator.draw()\n",
        "            # Noise words cannot be context words\n",
        "            if neg not in contexts:\n",
        "                negatives.append(neg)\n",
        "        all_negatives.append(negatives)\n",
        "    return all_negatives\n",
        "\n",
        "all_negatives = get_negatives(all_contexts, corpus, 5)"
      ],
      "execution_count": 17,
      "outputs": []
    },
    {
      "cell_type": "markdown",
      "metadata": {
        "id": "WKkm7nI9Pibc"
      },
      "source": [
        "## Minibatching\n",
        "\n",
        "Suppose the $i$'th central word has $n_i$ contexts and $m_i$ noise words.\n",
        "Since $n_i+m_i$ might be different for each $i$ (due to edge effects), the minibatch will be ragged. To fix this, we pad to a maximum length $L$, and then create a validity mask of length $L$, where 0 means invalid location (to be ignored when computing the loss) and 1 means valid location. We assign the label vector to have $n_i$ 1's and $L-n_i$ 0's. (Some of these labels will be masked out.)\n"
      ]
    },
    {
      "cell_type": "code",
      "metadata": {
        "id": "JUzjsZU4Pjmj"
      },
      "source": [
        "def batchify(data):\n",
        "    max_len = max(len(c) + len(n) for _, c, n in data)\n",
        "    centers, contexts_negatives, masks, labels = [], [], [], []\n",
        "    for center, context, negative in data:\n",
        "        cur_len = len(context) + len(negative)\n",
        "        centers += [center]\n",
        "        contexts_negatives += [context + negative + [0] * (max_len - cur_len)]\n",
        "        masks += [[1] * cur_len + [0] * (max_len - cur_len)]\n",
        "        labels += [[1] * len(context) + [0] * (max_len - len(context))]\n",
        "    return (torch.tensor(centers).reshape(\n",
        "        (-1, 1)), torch.tensor(contexts_negatives), torch.tensor(masks),\n",
        "            torch.tensor(labels))"
      ],
      "execution_count": 18,
      "outputs": []
    },
    {
      "cell_type": "markdown",
      "metadata": {
        "id": "Hpb4iIYyQmP2"
      },
      "source": [
        "Example. We make a ragged minibatch with 2 examples, and then pad them to a standard size."
      ]
    },
    {
      "cell_type": "code",
      "metadata": {
        "colab": {
          "base_uri": "https://localhost:8080/"
        },
        "id": "Ev657i6PQlyt",
        "outputId": "bca00a12-6288-4b8f-8f37-b82079bc5f7a"
      },
      "source": [
        "x_1 = (1, [2, 2], [3, 3, 3, 3])\n",
        "x_2 = (1, [2, 2, 2], [3, 3])\n",
        "batch = batchify((x_1, x_2))\n",
        "\n",
        "names = ['centers', 'contexts_negatives', 'masks', 'labels']\n",
        "for name, data in zip(names, batch):\n",
        "    print(name, '=', data)"
      ],
      "execution_count": 19,
      "outputs": [
        {
          "output_type": "stream",
          "text": [
            "centers = tensor([[1],\n",
            "        [1]])\n",
            "contexts_negatives = tensor([[2, 2, 3, 3, 3, 3],\n",
            "        [2, 2, 2, 3, 3, 0]])\n",
            "masks = tensor([[1, 1, 1, 1, 1, 1],\n",
            "        [1, 1, 1, 1, 1, 0]])\n",
            "labels = tensor([[1, 1, 0, 0, 0, 0],\n",
            "        [1, 1, 1, 0, 0, 0]])\n"
          ],
          "name": "stdout"
        }
      ]
    },
    {
      "cell_type": "markdown",
      "metadata": {
        "id": "OE1O1OXzQvqE"
      },
      "source": [
        "## Dataloader\n",
        "\n",
        "Now we put it altogether."
      ]
    },
    {
      "cell_type": "code",
      "metadata": {
        "id": "9u36bZjFQwUI"
      },
      "source": [
        "def load_data_ptb(batch_size, max_window_size, num_noise_words):\n",
        "    num_workers = 4 # Use 4 processes to read the data.\n",
        "    sentences = read_ptb()\n",
        "    vocab = Vocab(sentences, min_freq=10)\n",
        "    subsampled = subsampling(sentences, vocab)\n",
        "    corpus = [vocab[line] for line in subsampled]\n",
        "    all_centers, all_contexts = get_centers_and_contexts(\n",
        "        corpus, max_window_size)\n",
        "    all_negatives = get_negatives(all_contexts, corpus, num_noise_words)\n",
        "\n",
        "    class PTBDataset(torch.utils.data.Dataset):\n",
        "        def __init__(self, centers, contexts, negatives):\n",
        "            assert len(centers) == len(contexts) == len(negatives)\n",
        "            self.centers = centers\n",
        "            self.contexts = contexts\n",
        "            self.negatives = negatives\n",
        "\n",
        "        def __getitem__(self, index):\n",
        "            return (self.centers[index], self.contexts[index],\n",
        "                    self.negatives[index])\n",
        "\n",
        "        def __len__(self):\n",
        "            return len(self.centers)\n",
        "\n",
        "    dataset = PTBDataset(all_centers, all_contexts, all_negatives)\n",
        "\n",
        "    data_iter = torch.utils.data.DataLoader(dataset, batch_size, shuffle=True,\n",
        "                                            collate_fn=batchify,\n",
        "                                            num_workers=num_workers)\n",
        "    return data_iter, vocab"
      ],
      "execution_count": 20,
      "outputs": []
    },
    {
      "cell_type": "markdown",
      "metadata": {
        "id": "gH3v0fIZQ2oA"
      },
      "source": [
        "Let's print the first minibatch."
      ]
    },
    {
      "cell_type": "code",
      "metadata": {
        "colab": {
          "base_uri": "https://localhost:8080/"
        },
        "id": "_K4vYTN8Q17B",
        "outputId": "d66ac138-c23f-42a5-8e8b-d8ffebbe1121"
      },
      "source": [
        "data_iter, vocab = load_data_ptb(512, 5, 5)\n",
        "for batch in data_iter:\n",
        "    for name, data in zip(names, batch):\n",
        "        print(name, 'shape:', data.shape)\n",
        "    break"
      ],
      "execution_count": 21,
      "outputs": [
        {
          "output_type": "stream",
          "text": [
            "/usr/local/lib/python3.7/dist-packages/torch/utils/data/dataloader.py:477: UserWarning: This DataLoader will create 4 worker processes in total. Our suggested max number of worker in current system is 2, which is smaller than what this DataLoader is going to create. Please be aware that excessive worker creation might get DataLoader running slow or even freeze, lower the worker number to avoid potential slowness/freeze if necessary.\n",
            "  cpuset_checked))\n"
          ],
          "name": "stderr"
        },
        {
          "output_type": "stream",
          "text": [
            "centers shape: torch.Size([512, 1])\n",
            "contexts_negatives shape: torch.Size([512, 60])\n",
            "masks shape: torch.Size([512, 60])\n",
            "labels shape: torch.Size([512, 60])\n"
          ],
          "name": "stdout"
        }
      ]
    },
    {
      "cell_type": "code",
      "metadata": {
        "colab": {
          "base_uri": "https://localhost:8080/"
        },
        "id": "wq8-RhbWQ6_K",
        "outputId": "f28304fd-6166-498b-c14a-f54cd84dae76"
      },
      "source": [
        "batch_size, max_window_size, num_noise_words = 512, 5, 5\n",
        "data_iter, vocab = load_data_ptb(batch_size, max_window_size,\n",
        "                                     num_noise_words)"
      ],
      "execution_count": 22,
      "outputs": [
        {
          "output_type": "stream",
          "text": [
            "/usr/local/lib/python3.7/dist-packages/torch/utils/data/dataloader.py:477: UserWarning: This DataLoader will create 4 worker processes in total. Our suggested max number of worker in current system is 2, which is smaller than what this DataLoader is going to create. Please be aware that excessive worker creation might get DataLoader running slow or even freeze, lower the worker number to avoid potential slowness/freeze if necessary.\n",
            "  cpuset_checked))\n"
          ],
          "name": "stderr"
        }
      ]
    },
    {
      "cell_type": "markdown",
      "metadata": {
        "id": "6XgKBUNFRU9l"
      },
      "source": [
        "# Model\n",
        "\n",
        "The model just has 2 embedding matrices, $U$ and $V$. The core computation is computing the logits, as shown below.\n",
        "The center variable has the shape (batch size, 1), while the contexts_and_negatives variable has the shape (batch size, max_len). These get embedded into size $(B,1,E)$ and $(B,L,E)$. We permute the latter to $(B,E,L)$ and use [batch matrix multiplication](https://pytorch.org/docs/stable/generated/torch.bmm.html) to get $(B,1,L)$ matrix of inner products between each center's embedding and each context's embedding.\n"
      ]
    },
    {
      "cell_type": "code",
      "metadata": {
        "id": "OS-fGRskRUTp"
      },
      "source": [
        "def skip_gram(center, contexts_and_negatives, embed_v, embed_u):\n",
        "    v = embed_v(center)\n",
        "    u = embed_u(contexts_and_negatives)\n",
        "    pred = torch.bmm(v, u.permute(0, 2, 1))\n",
        "    return pred"
      ],
      "execution_count": 23,
      "outputs": []
    },
    {
      "cell_type": "markdown",
      "metadata": {
        "id": "g_I3K96mSm7U"
      },
      "source": [
        "Example. Assume the vocab size is 20 and we use $E=4$ embedding dimensions.\n",
        "We compute the logits for a minibatch of $B=2$ sequences, with max length $L=4$."
      ]
    },
    {
      "cell_type": "code",
      "metadata": {
        "colab": {
          "base_uri": "https://localhost:8080/"
        },
        "id": "-2lAFhkLSn_c",
        "outputId": "038df1e9-4af0-4ee8-b3d8-874abc4a3867"
      },
      "source": [
        "embed = nn.Embedding(num_embeddings=20, embedding_dim=4)\n",
        "print(f'Parameter embedding_weight ({embed.weight.shape}, '\n",
        "      'dtype={embed.weight.dtype})')\n",
        "\n",
        "skip_gram(torch.ones((2, 1), dtype=torch.long),\n",
        "          torch.ones((2, 4), dtype=torch.long), embed, embed).shape"
      ],
      "execution_count": 24,
      "outputs": [
        {
          "output_type": "stream",
          "text": [
            "Parameter embedding_weight (torch.Size([20, 4]), dtype={embed.weight.dtype})\n"
          ],
          "name": "stdout"
        },
        {
          "output_type": "execute_result",
          "data": {
            "text/plain": [
              "torch.Size([2, 1, 4])"
            ]
          },
          "metadata": {
            "tags": []
          },
          "execution_count": 24
        }
      ]
    },
    {
      "cell_type": "markdown",
      "metadata": {
        "id": "mhrEM7kzTM0Z"
      },
      "source": [
        "# Loss\n",
        "\n",
        "We use masked binary cross entropy loss.\n"
      ]
    },
    {
      "cell_type": "code",
      "metadata": {
        "id": "8evLH52GSoL9"
      },
      "source": [
        "class SigmoidBCELoss(nn.Module):\n",
        "    \"BCEWithLogitLoss with masking on call.\"\n",
        "\n",
        "    def __init__(self):\n",
        "        super().__init__()\n",
        "\n",
        "    def forward(self, inputs, target, mask=None):\n",
        "        out = nn.functional.binary_cross_entropy_with_logits(\n",
        "            inputs, target, weight=mask, reduction=\"none\")\n",
        "        return out.mean(dim=1)\n",
        "\n",
        "loss = SigmoidBCELoss()"
      ],
      "execution_count": 25,
      "outputs": []
    },
    {
      "cell_type": "markdown",
      "metadata": {
        "id": "rsbJwjYlTcIk"
      },
      "source": [
        "Different masks can lead to different results."
      ]
    },
    {
      "cell_type": "code",
      "metadata": {
        "colab": {
          "base_uri": "https://localhost:8080/"
        },
        "id": "vz4LYr9PTaes",
        "outputId": "0ec922be-652d-496c-fc07-cb6a24f40bfa"
      },
      "source": [
        "pred = torch.tensor([[.5] * 4] * 2)\n",
        "label = torch.tensor([[1., 0., 1., 0.]] * 2)\n",
        "mask = torch.tensor([[1, 1, 1, 1], [1, 1, 0, 0]])\n",
        "loss(pred, label, mask)"
      ],
      "execution_count": 26,
      "outputs": [
        {
          "output_type": "execute_result",
          "data": {
            "text/plain": [
              "tensor([0.7241, 0.3620])"
            ]
          },
          "metadata": {
            "tags": []
          },
          "execution_count": 26
        }
      ]
    },
    {
      "cell_type": "markdown",
      "metadata": {
        "id": "s7AGoXGtTebf"
      },
      "source": [
        "If we normalize by the number of valid masked entries, then predictions with the same per-token accuracy will score the same."
      ]
    },
    {
      "cell_type": "code",
      "metadata": {
        "colab": {
          "base_uri": "https://localhost:8080/"
        },
        "id": "-eKRhakxTiRg",
        "outputId": "90cd1ad4-bf97-44ba-f70c-c0bb0b827f0b"
      },
      "source": [
        "loss(pred, label, mask) / mask.sum(axis=1) * mask.shape[1]"
      ],
      "execution_count": 27,
      "outputs": [
        {
          "output_type": "execute_result",
          "data": {
            "text/plain": [
              "tensor([0.7241, 0.7241])"
            ]
          },
          "metadata": {
            "tags": []
          },
          "execution_count": 27
        }
      ]
    },
    {
      "cell_type": "markdown",
      "metadata": {
        "id": "dL_D_9G5U6dD"
      },
      "source": [
        "# Training"
      ]
    },
    {
      "cell_type": "code",
      "metadata": {
        "id": "T1HlZeOQT924"
      },
      "source": [
        "embed_size = 100\n",
        "net = nn.Sequential(\n",
        "    nn.Embedding(num_embeddings=len(vocab), embedding_dim=embed_size),\n",
        "    nn.Embedding(num_embeddings=len(vocab), embedding_dim=embed_size))\n",
        "\n",
        "# setting device to use\n",
        "device = 'cuda' if torch.cuda.is_available() else 'cpu'\n"
      ],
      "execution_count": 28,
      "outputs": []
    },
    {
      "cell_type": "code",
      "metadata": {
        "id": "_pFCOLWzgfCM"
      },
      "source": [
        "# Functions for plotting and accumulating sum\n",
        "def set_axes(axes, xlabel, ylabel, xlim, ylim, xscale, yscale, legend):\n",
        "    \"\"\"Set the axes for matplotlib.\"\"\"\n",
        "    axes.set_xlabel(xlabel)\n",
        "    axes.set_ylabel(ylabel)\n",
        "    axes.set_xscale(xscale)\n",
        "    axes.set_yscale(yscale)\n",
        "    axes.set_xlim(xlim)\n",
        "    axes.set_ylim(ylim)\n",
        "    if legend:\n",
        "        axes.legend(legend)\n",
        "    axes.grid()\n",
        "\n",
        "class Animator:\n",
        "    \"\"\"For plotting data in animation.\"\"\"\n",
        "    def __init__(self, xlabel=None, ylabel=None, legend=None, xlim=None,\n",
        "                 ylim=None, xscale='linear', yscale='linear',\n",
        "                 fmts=('-', 'm--', 'g-.', 'r:'), nrows=1, ncols=1,\n",
        "                 figsize=(3.5, 2.5)):\n",
        "        # Incrementally plot multiple lines\n",
        "        if legend is None:\n",
        "            legend = []\n",
        "        display.set_matplotlib_formats('svg')\n",
        "        self.fig, self.axes = plt.subplots(nrows, ncols, figsize=figsize)\n",
        "        if nrows * ncols == 1:\n",
        "            self.axes = [self.axes,]\n",
        "        # Use a lambda function to capture arguments\n",
        "        self.config_axes = lambda: set_axes(self.axes[\n",
        "            0], xlabel, ylabel, xlim, ylim, xscale, yscale, legend)\n",
        "        self.X, self.Y, self.fmts = None, None, fmts\n",
        "\n",
        "    def add(self, x, y):\n",
        "        # Add multiple data points into the figure\n",
        "        if not hasattr(y, \"__len__\"):\n",
        "            y = [y]\n",
        "        n = len(y)\n",
        "        if not hasattr(x, \"__len__\"):\n",
        "            x = [x] * n\n",
        "        if not self.X:\n",
        "            self.X = [[] for _ in range(n)]\n",
        "        if not self.Y:\n",
        "            self.Y = [[] for _ in range(n)]\n",
        "        for i, (a, b) in enumerate(zip(x, y)):\n",
        "            if a is not None and b is not None:\n",
        "                self.X[i].append(a)\n",
        "                self.Y[i].append(b)\n",
        "        self.axes[0].cla()\n",
        "        for x, y, fmt in zip(self.X, self.Y, self.fmts):\n",
        "            self.axes[0].plot(x, y, fmt)\n",
        "        self.config_axes()\n",
        "        display.display(self.fig)\n",
        "        display.clear_output(wait=True)\n",
        "\n",
        "class Accumulator:\n",
        "    \"\"\"For accumulating sums over `n` variables.\"\"\"\n",
        "    def __init__(self, n):\n",
        "        self.data = [0.0] * n\n",
        "\n",
        "    def add(self, *args):\n",
        "        self.data = [a + float(b) for a, b in zip(self.data, args)]\n",
        "\n",
        "    def reset(self):\n",
        "        self.data = [0.0] * len(self.data)\n",
        "\n",
        "    def __getitem__(self, idx):\n",
        "        return self.data[idx]"
      ],
      "execution_count": 29,
      "outputs": []
    },
    {
      "cell_type": "code",
      "metadata": {
        "id": "-doWfnbXU8Ii"
      },
      "source": [
        "def train(net, data_iter, lr, num_epochs, device=device):\n",
        "    def init_weights(m):\n",
        "        if type(m) == nn.Embedding:\n",
        "            nn.init.xavier_uniform_(m.weight)\n",
        "\n",
        "    net.apply(init_weights)\n",
        "    net = net.to(device)\n",
        "    optimizer = torch.optim.Adam(net.parameters(), lr=lr)\n",
        "    animator = Animator(xlabel='epoch', ylabel='loss',\n",
        "                            xlim=[1, num_epochs])\n",
        "    metric = Accumulator(2)  # Sum of losses, no. of tokens\n",
        "    for epoch in range(num_epochs):\n",
        "        seconds, num_batches = time.time(), len(data_iter)\n",
        "        for i, batch in enumerate(data_iter):\n",
        "            optimizer.zero_grad()\n",
        "            center, context_negative, mask, label = [\n",
        "                data.to(device) for data in batch]\n",
        "\n",
        "            pred = skip_gram(center, context_negative, net[0], net[1])\n",
        "            l = (\n",
        "                loss(pred.reshape(label.shape).float(), label.float(), mask) /\n",
        "                mask.sum(axis=1) * mask.shape[1])\n",
        "            l.sum().backward()\n",
        "            optimizer.step()\n",
        "            metric.add(l.sum(), l.numel())\n",
        "            if (i + 1) % (num_batches // 5) == 0 or i == num_batches - 1:\n",
        "                animator.add(epoch + (i + 1) / num_batches,\n",
        "                             (metric[0] / metric[1],))\n",
        "    print(f'loss {metric[0] / metric[1]:.3f}, '\n",
        "          f'{metric[1] / (time.time() - seconds):.1f} tokens/sec on {str(device)}')"
      ],
      "execution_count": 30,
      "outputs": []
    },
    {
      "cell_type": "markdown",
      "metadata": {
        "id": "sfFeTYl9VGaV"
      },
      "source": []
    },
    {
      "cell_type": "code",
      "metadata": {
        "colab": {
          "base_uri": "https://localhost:8080/",
          "height": 279
        },
        "id": "xK_9c5o0U_ze",
        "outputId": "525b6540-6861-448f-95ba-7c70a4ba7ba2"
      },
      "source": [
        "lr, num_epochs = 0.01, 5\n",
        "train(net, data_iter, lr, num_epochs)"
      ],
      "execution_count": 31,
      "outputs": [
        {
          "output_type": "stream",
          "text": [
            "loss 0.373, 216415.7 tokens/sec on cuda\n"
          ],
          "name": "stdout"
        },
        {
          "output_type": "display_data",
          "data": {
            "text/plain": [
              "<Figure size 252x180 with 1 Axes>"
            ],
            "image/svg+xml": "<?xml version=\"1.0\" encoding=\"utf-8\" standalone=\"no\"?>\n<!DOCTYPE svg PUBLIC \"-//W3C//DTD SVG 1.1//EN\"\n  \"http://www.w3.org/Graphics/SVG/1.1/DTD/svg11.dtd\">\n<!-- Created with matplotlib (https://matplotlib.org/) -->\n<svg height=\"180.65625pt\" version=\"1.1\" viewBox=\"0 0 255.825 180.65625\" width=\"255.825pt\" xmlns=\"http://www.w3.org/2000/svg\" xmlns:xlink=\"http://www.w3.org/1999/xlink\">\n <defs>\n  <style type=\"text/css\">\n*{stroke-linecap:butt;stroke-linejoin:round;}\n  </style>\n </defs>\n <g id=\"figure_1\">\n  <g id=\"patch_1\">\n   <path d=\"M 0 180.65625 \nL 255.825 180.65625 \nL 255.825 0 \nL 0 0 \nz\n\" style=\"fill:none;\"/>\n  </g>\n  <g id=\"axes_1\">\n   <g id=\"patch_2\">\n    <path d=\"M 50.14375 143.1 \nL 245.44375 143.1 \nL 245.44375 7.2 \nL 50.14375 7.2 \nz\n\" style=\"fill:#ffffff;\"/>\n   </g>\n   <g id=\"matplotlib.axis_1\">\n    <g id=\"xtick_1\">\n     <g id=\"line2d_1\">\n      <path clip-path=\"url(#p118401295b)\" d=\"M 50.14375 143.1 \nL 50.14375 7.2 \n\" style=\"fill:none;stroke:#b0b0b0;stroke-linecap:square;stroke-width:0.8;\"/>\n     </g>\n     <g id=\"line2d_2\">\n      <defs>\n       <path d=\"M 0 0 \nL 0 3.5 \n\" id=\"m55fe334174\" style=\"stroke:#000000;stroke-width:0.8;\"/>\n      </defs>\n      <g>\n       <use style=\"stroke:#000000;stroke-width:0.8;\" x=\"50.14375\" xlink:href=\"#m55fe334174\" y=\"143.1\"/>\n      </g>\n     </g>\n     <g id=\"text_1\">\n      <!-- 1 -->\n      <defs>\n       <path d=\"M 12.40625 8.296875 \nL 28.515625 8.296875 \nL 28.515625 63.921875 \nL 10.984375 60.40625 \nL 10.984375 69.390625 \nL 28.421875 72.90625 \nL 38.28125 72.90625 \nL 38.28125 8.296875 \nL 54.390625 8.296875 \nL 54.390625 0 \nL 12.40625 0 \nz\n\" id=\"DejaVuSans-49\"/>\n      </defs>\n      <g transform=\"translate(46.9625 157.698438)scale(0.1 -0.1)\">\n       <use xlink:href=\"#DejaVuSans-49\"/>\n      </g>\n     </g>\n    </g>\n    <g id=\"xtick_2\">\n     <g id=\"line2d_3\">\n      <path clip-path=\"url(#p118401295b)\" d=\"M 98.96875 143.1 \nL 98.96875 7.2 \n\" style=\"fill:none;stroke:#b0b0b0;stroke-linecap:square;stroke-width:0.8;\"/>\n     </g>\n     <g id=\"line2d_4\">\n      <g>\n       <use style=\"stroke:#000000;stroke-width:0.8;\" x=\"98.96875\" xlink:href=\"#m55fe334174\" y=\"143.1\"/>\n      </g>\n     </g>\n     <g id=\"text_2\">\n      <!-- 2 -->\n      <defs>\n       <path d=\"M 19.1875 8.296875 \nL 53.609375 8.296875 \nL 53.609375 0 \nL 7.328125 0 \nL 7.328125 8.296875 \nQ 12.9375 14.109375 22.625 23.890625 \nQ 32.328125 33.6875 34.8125 36.53125 \nQ 39.546875 41.84375 41.421875 45.53125 \nQ 43.3125 49.21875 43.3125 52.78125 \nQ 43.3125 58.59375 39.234375 62.25 \nQ 35.15625 65.921875 28.609375 65.921875 \nQ 23.96875 65.921875 18.8125 64.3125 \nQ 13.671875 62.703125 7.8125 59.421875 \nL 7.8125 69.390625 \nQ 13.765625 71.78125 18.9375 73 \nQ 24.125 74.21875 28.421875 74.21875 \nQ 39.75 74.21875 46.484375 68.546875 \nQ 53.21875 62.890625 53.21875 53.421875 \nQ 53.21875 48.921875 51.53125 44.890625 \nQ 49.859375 40.875 45.40625 35.40625 \nQ 44.1875 33.984375 37.640625 27.21875 \nQ 31.109375 20.453125 19.1875 8.296875 \nz\n\" id=\"DejaVuSans-50\"/>\n      </defs>\n      <g transform=\"translate(95.7875 157.698438)scale(0.1 -0.1)\">\n       <use xlink:href=\"#DejaVuSans-50\"/>\n      </g>\n     </g>\n    </g>\n    <g id=\"xtick_3\">\n     <g id=\"line2d_5\">\n      <path clip-path=\"url(#p118401295b)\" d=\"M 147.79375 143.1 \nL 147.79375 7.2 \n\" style=\"fill:none;stroke:#b0b0b0;stroke-linecap:square;stroke-width:0.8;\"/>\n     </g>\n     <g id=\"line2d_6\">\n      <g>\n       <use style=\"stroke:#000000;stroke-width:0.8;\" x=\"147.79375\" xlink:href=\"#m55fe334174\" y=\"143.1\"/>\n      </g>\n     </g>\n     <g id=\"text_3\">\n      <!-- 3 -->\n      <defs>\n       <path d=\"M 40.578125 39.3125 \nQ 47.65625 37.796875 51.625 33 \nQ 55.609375 28.21875 55.609375 21.1875 \nQ 55.609375 10.40625 48.1875 4.484375 \nQ 40.765625 -1.421875 27.09375 -1.421875 \nQ 22.515625 -1.421875 17.65625 -0.515625 \nQ 12.796875 0.390625 7.625 2.203125 \nL 7.625 11.71875 \nQ 11.71875 9.328125 16.59375 8.109375 \nQ 21.484375 6.890625 26.8125 6.890625 \nQ 36.078125 6.890625 40.9375 10.546875 \nQ 45.796875 14.203125 45.796875 21.1875 \nQ 45.796875 27.640625 41.28125 31.265625 \nQ 36.765625 34.90625 28.71875 34.90625 \nL 20.21875 34.90625 \nL 20.21875 43.015625 \nL 29.109375 43.015625 \nQ 36.375 43.015625 40.234375 45.921875 \nQ 44.09375 48.828125 44.09375 54.296875 \nQ 44.09375 59.90625 40.109375 62.90625 \nQ 36.140625 65.921875 28.71875 65.921875 \nQ 24.65625 65.921875 20.015625 65.03125 \nQ 15.375 64.15625 9.8125 62.3125 \nL 9.8125 71.09375 \nQ 15.4375 72.65625 20.34375 73.4375 \nQ 25.25 74.21875 29.59375 74.21875 \nQ 40.828125 74.21875 47.359375 69.109375 \nQ 53.90625 64.015625 53.90625 55.328125 \nQ 53.90625 49.265625 50.4375 45.09375 \nQ 46.96875 40.921875 40.578125 39.3125 \nz\n\" id=\"DejaVuSans-51\"/>\n      </defs>\n      <g transform=\"translate(144.6125 157.698438)scale(0.1 -0.1)\">\n       <use xlink:href=\"#DejaVuSans-51\"/>\n      </g>\n     </g>\n    </g>\n    <g id=\"xtick_4\">\n     <g id=\"line2d_7\">\n      <path clip-path=\"url(#p118401295b)\" d=\"M 196.61875 143.1 \nL 196.61875 7.2 \n\" style=\"fill:none;stroke:#b0b0b0;stroke-linecap:square;stroke-width:0.8;\"/>\n     </g>\n     <g id=\"line2d_8\">\n      <g>\n       <use style=\"stroke:#000000;stroke-width:0.8;\" x=\"196.61875\" xlink:href=\"#m55fe334174\" y=\"143.1\"/>\n      </g>\n     </g>\n     <g id=\"text_4\">\n      <!-- 4 -->\n      <defs>\n       <path d=\"M 37.796875 64.3125 \nL 12.890625 25.390625 \nL 37.796875 25.390625 \nz\nM 35.203125 72.90625 \nL 47.609375 72.90625 \nL 47.609375 25.390625 \nL 58.015625 25.390625 \nL 58.015625 17.1875 \nL 47.609375 17.1875 \nL 47.609375 0 \nL 37.796875 0 \nL 37.796875 17.1875 \nL 4.890625 17.1875 \nL 4.890625 26.703125 \nz\n\" id=\"DejaVuSans-52\"/>\n      </defs>\n      <g transform=\"translate(193.4375 157.698438)scale(0.1 -0.1)\">\n       <use xlink:href=\"#DejaVuSans-52\"/>\n      </g>\n     </g>\n    </g>\n    <g id=\"xtick_5\">\n     <g id=\"line2d_9\">\n      <path clip-path=\"url(#p118401295b)\" d=\"M 245.44375 143.1 \nL 245.44375 7.2 \n\" style=\"fill:none;stroke:#b0b0b0;stroke-linecap:square;stroke-width:0.8;\"/>\n     </g>\n     <g id=\"line2d_10\">\n      <g>\n       <use style=\"stroke:#000000;stroke-width:0.8;\" x=\"245.44375\" xlink:href=\"#m55fe334174\" y=\"143.1\"/>\n      </g>\n     </g>\n     <g id=\"text_5\">\n      <!-- 5 -->\n      <defs>\n       <path d=\"M 10.796875 72.90625 \nL 49.515625 72.90625 \nL 49.515625 64.59375 \nL 19.828125 64.59375 \nL 19.828125 46.734375 \nQ 21.96875 47.46875 24.109375 47.828125 \nQ 26.265625 48.1875 28.421875 48.1875 \nQ 40.625 48.1875 47.75 41.5 \nQ 54.890625 34.8125 54.890625 23.390625 \nQ 54.890625 11.625 47.5625 5.09375 \nQ 40.234375 -1.421875 26.90625 -1.421875 \nQ 22.3125 -1.421875 17.546875 -0.640625 \nQ 12.796875 0.140625 7.71875 1.703125 \nL 7.71875 11.625 \nQ 12.109375 9.234375 16.796875 8.0625 \nQ 21.484375 6.890625 26.703125 6.890625 \nQ 35.15625 6.890625 40.078125 11.328125 \nQ 45.015625 15.765625 45.015625 23.390625 \nQ 45.015625 31 40.078125 35.4375 \nQ 35.15625 39.890625 26.703125 39.890625 \nQ 22.75 39.890625 18.8125 39.015625 \nQ 14.890625 38.140625 10.796875 36.28125 \nz\n\" id=\"DejaVuSans-53\"/>\n      </defs>\n      <g transform=\"translate(242.2625 157.698438)scale(0.1 -0.1)\">\n       <use xlink:href=\"#DejaVuSans-53\"/>\n      </g>\n     </g>\n    </g>\n    <g id=\"text_6\">\n     <!-- epoch -->\n     <defs>\n      <path d=\"M 56.203125 29.59375 \nL 56.203125 25.203125 \nL 14.890625 25.203125 \nQ 15.484375 15.921875 20.484375 11.0625 \nQ 25.484375 6.203125 34.421875 6.203125 \nQ 39.59375 6.203125 44.453125 7.46875 \nQ 49.3125 8.734375 54.109375 11.28125 \nL 54.109375 2.78125 \nQ 49.265625 0.734375 44.1875 -0.34375 \nQ 39.109375 -1.421875 33.890625 -1.421875 \nQ 20.796875 -1.421875 13.15625 6.1875 \nQ 5.515625 13.8125 5.515625 26.8125 \nQ 5.515625 40.234375 12.765625 48.109375 \nQ 20.015625 56 32.328125 56 \nQ 43.359375 56 49.78125 48.890625 \nQ 56.203125 41.796875 56.203125 29.59375 \nz\nM 47.21875 32.234375 \nQ 47.125 39.59375 43.09375 43.984375 \nQ 39.0625 48.390625 32.421875 48.390625 \nQ 24.90625 48.390625 20.390625 44.140625 \nQ 15.875 39.890625 15.1875 32.171875 \nz\n\" id=\"DejaVuSans-101\"/>\n      <path d=\"M 18.109375 8.203125 \nL 18.109375 -20.796875 \nL 9.078125 -20.796875 \nL 9.078125 54.6875 \nL 18.109375 54.6875 \nL 18.109375 46.390625 \nQ 20.953125 51.265625 25.265625 53.625 \nQ 29.59375 56 35.59375 56 \nQ 45.5625 56 51.78125 48.09375 \nQ 58.015625 40.1875 58.015625 27.296875 \nQ 58.015625 14.40625 51.78125 6.484375 \nQ 45.5625 -1.421875 35.59375 -1.421875 \nQ 29.59375 -1.421875 25.265625 0.953125 \nQ 20.953125 3.328125 18.109375 8.203125 \nz\nM 48.6875 27.296875 \nQ 48.6875 37.203125 44.609375 42.84375 \nQ 40.53125 48.484375 33.40625 48.484375 \nQ 26.265625 48.484375 22.1875 42.84375 \nQ 18.109375 37.203125 18.109375 27.296875 \nQ 18.109375 17.390625 22.1875 11.75 \nQ 26.265625 6.109375 33.40625 6.109375 \nQ 40.53125 6.109375 44.609375 11.75 \nQ 48.6875 17.390625 48.6875 27.296875 \nz\n\" id=\"DejaVuSans-112\"/>\n      <path d=\"M 30.609375 48.390625 \nQ 23.390625 48.390625 19.1875 42.75 \nQ 14.984375 37.109375 14.984375 27.296875 \nQ 14.984375 17.484375 19.15625 11.84375 \nQ 23.34375 6.203125 30.609375 6.203125 \nQ 37.796875 6.203125 41.984375 11.859375 \nQ 46.1875 17.53125 46.1875 27.296875 \nQ 46.1875 37.015625 41.984375 42.703125 \nQ 37.796875 48.390625 30.609375 48.390625 \nz\nM 30.609375 56 \nQ 42.328125 56 49.015625 48.375 \nQ 55.71875 40.765625 55.71875 27.296875 \nQ 55.71875 13.875 49.015625 6.21875 \nQ 42.328125 -1.421875 30.609375 -1.421875 \nQ 18.84375 -1.421875 12.171875 6.21875 \nQ 5.515625 13.875 5.515625 27.296875 \nQ 5.515625 40.765625 12.171875 48.375 \nQ 18.84375 56 30.609375 56 \nz\n\" id=\"DejaVuSans-111\"/>\n      <path d=\"M 48.78125 52.59375 \nL 48.78125 44.1875 \nQ 44.96875 46.296875 41.140625 47.34375 \nQ 37.3125 48.390625 33.40625 48.390625 \nQ 24.65625 48.390625 19.8125 42.84375 \nQ 14.984375 37.3125 14.984375 27.296875 \nQ 14.984375 17.28125 19.8125 11.734375 \nQ 24.65625 6.203125 33.40625 6.203125 \nQ 37.3125 6.203125 41.140625 7.25 \nQ 44.96875 8.296875 48.78125 10.40625 \nL 48.78125 2.09375 \nQ 45.015625 0.34375 40.984375 -0.53125 \nQ 36.96875 -1.421875 32.421875 -1.421875 \nQ 20.0625 -1.421875 12.78125 6.34375 \nQ 5.515625 14.109375 5.515625 27.296875 \nQ 5.515625 40.671875 12.859375 48.328125 \nQ 20.21875 56 33.015625 56 \nQ 37.15625 56 41.109375 55.140625 \nQ 45.0625 54.296875 48.78125 52.59375 \nz\n\" id=\"DejaVuSans-99\"/>\n      <path d=\"M 54.890625 33.015625 \nL 54.890625 0 \nL 45.90625 0 \nL 45.90625 32.71875 \nQ 45.90625 40.484375 42.875 44.328125 \nQ 39.84375 48.1875 33.796875 48.1875 \nQ 26.515625 48.1875 22.3125 43.546875 \nQ 18.109375 38.921875 18.109375 30.90625 \nL 18.109375 0 \nL 9.078125 0 \nL 9.078125 75.984375 \nL 18.109375 75.984375 \nL 18.109375 46.1875 \nQ 21.34375 51.125 25.703125 53.5625 \nQ 30.078125 56 35.796875 56 \nQ 45.21875 56 50.046875 50.171875 \nQ 54.890625 44.34375 54.890625 33.015625 \nz\n\" id=\"DejaVuSans-104\"/>\n     </defs>\n     <g transform=\"translate(132.565625 171.376563)scale(0.1 -0.1)\">\n      <use xlink:href=\"#DejaVuSans-101\"/>\n      <use x=\"61.523438\" xlink:href=\"#DejaVuSans-112\"/>\n      <use x=\"125\" xlink:href=\"#DejaVuSans-111\"/>\n      <use x=\"186.181641\" xlink:href=\"#DejaVuSans-99\"/>\n      <use x=\"241.162109\" xlink:href=\"#DejaVuSans-104\"/>\n     </g>\n    </g>\n   </g>\n   <g id=\"matplotlib.axis_2\">\n    <g id=\"ytick_1\">\n     <g id=\"line2d_11\">\n      <path clip-path=\"url(#p118401295b)\" d=\"M 50.14375 115.41728 \nL 245.44375 115.41728 \n\" style=\"fill:none;stroke:#b0b0b0;stroke-linecap:square;stroke-width:0.8;\"/>\n     </g>\n     <g id=\"line2d_12\">\n      <defs>\n       <path d=\"M 0 0 \nL -3.5 0 \n\" id=\"md5b42bf6f7\" style=\"stroke:#000000;stroke-width:0.8;\"/>\n      </defs>\n      <g>\n       <use style=\"stroke:#000000;stroke-width:0.8;\" x=\"50.14375\" xlink:href=\"#md5b42bf6f7\" y=\"115.41728\"/>\n      </g>\n     </g>\n     <g id=\"text_7\">\n      <!-- 0.40 -->\n      <defs>\n       <path d=\"M 31.78125 66.40625 \nQ 24.171875 66.40625 20.328125 58.90625 \nQ 16.5 51.421875 16.5 36.375 \nQ 16.5 21.390625 20.328125 13.890625 \nQ 24.171875 6.390625 31.78125 6.390625 \nQ 39.453125 6.390625 43.28125 13.890625 \nQ 47.125 21.390625 47.125 36.375 \nQ 47.125 51.421875 43.28125 58.90625 \nQ 39.453125 66.40625 31.78125 66.40625 \nz\nM 31.78125 74.21875 \nQ 44.046875 74.21875 50.515625 64.515625 \nQ 56.984375 54.828125 56.984375 36.375 \nQ 56.984375 17.96875 50.515625 8.265625 \nQ 44.046875 -1.421875 31.78125 -1.421875 \nQ 19.53125 -1.421875 13.0625 8.265625 \nQ 6.59375 17.96875 6.59375 36.375 \nQ 6.59375 54.828125 13.0625 64.515625 \nQ 19.53125 74.21875 31.78125 74.21875 \nz\n\" id=\"DejaVuSans-48\"/>\n       <path d=\"M 10.6875 12.40625 \nL 21 12.40625 \nL 21 0 \nL 10.6875 0 \nz\n\" id=\"DejaVuSans-46\"/>\n      </defs>\n      <g transform=\"translate(20.878125 119.216499)scale(0.1 -0.1)\">\n       <use xlink:href=\"#DejaVuSans-48\"/>\n       <use x=\"63.623047\" xlink:href=\"#DejaVuSans-46\"/>\n       <use x=\"95.410156\" xlink:href=\"#DejaVuSans-52\"/>\n       <use x=\"159.033203\" xlink:href=\"#DejaVuSans-48\"/>\n      </g>\n     </g>\n    </g>\n    <g id=\"ytick_2\">\n     <g id=\"line2d_13\">\n      <path clip-path=\"url(#p118401295b)\" d=\"M 50.14375 75.716397 \nL 245.44375 75.716397 \n\" style=\"fill:none;stroke:#b0b0b0;stroke-linecap:square;stroke-width:0.8;\"/>\n     </g>\n     <g id=\"line2d_14\">\n      <g>\n       <use style=\"stroke:#000000;stroke-width:0.8;\" x=\"50.14375\" xlink:href=\"#md5b42bf6f7\" y=\"75.716397\"/>\n      </g>\n     </g>\n     <g id=\"text_8\">\n      <!-- 0.45 -->\n      <g transform=\"translate(20.878125 79.515616)scale(0.1 -0.1)\">\n       <use xlink:href=\"#DejaVuSans-48\"/>\n       <use x=\"63.623047\" xlink:href=\"#DejaVuSans-46\"/>\n       <use x=\"95.410156\" xlink:href=\"#DejaVuSans-52\"/>\n       <use x=\"159.033203\" xlink:href=\"#DejaVuSans-53\"/>\n      </g>\n     </g>\n    </g>\n    <g id=\"ytick_3\">\n     <g id=\"line2d_15\">\n      <path clip-path=\"url(#p118401295b)\" d=\"M 50.14375 36.015515 \nL 245.44375 36.015515 \n\" style=\"fill:none;stroke:#b0b0b0;stroke-linecap:square;stroke-width:0.8;\"/>\n     </g>\n     <g id=\"line2d_16\">\n      <g>\n       <use style=\"stroke:#000000;stroke-width:0.8;\" x=\"50.14375\" xlink:href=\"#md5b42bf6f7\" y=\"36.015515\"/>\n      </g>\n     </g>\n     <g id=\"text_9\">\n      <!-- 0.50 -->\n      <g transform=\"translate(20.878125 39.814734)scale(0.1 -0.1)\">\n       <use xlink:href=\"#DejaVuSans-48\"/>\n       <use x=\"63.623047\" xlink:href=\"#DejaVuSans-46\"/>\n       <use x=\"95.410156\" xlink:href=\"#DejaVuSans-53\"/>\n       <use x=\"159.033203\" xlink:href=\"#DejaVuSans-48\"/>\n      </g>\n     </g>\n    </g>\n    <g id=\"text_10\">\n     <!-- loss -->\n     <defs>\n      <path d=\"M 9.421875 75.984375 \nL 18.40625 75.984375 \nL 18.40625 0 \nL 9.421875 0 \nz\n\" id=\"DejaVuSans-108\"/>\n      <path d=\"M 44.28125 53.078125 \nL 44.28125 44.578125 \nQ 40.484375 46.53125 36.375 47.5 \nQ 32.28125 48.484375 27.875 48.484375 \nQ 21.1875 48.484375 17.84375 46.4375 \nQ 14.5 44.390625 14.5 40.28125 \nQ 14.5 37.15625 16.890625 35.375 \nQ 19.28125 33.59375 26.515625 31.984375 \nL 29.59375 31.296875 \nQ 39.15625 29.25 43.1875 25.515625 \nQ 47.21875 21.78125 47.21875 15.09375 \nQ 47.21875 7.46875 41.1875 3.015625 \nQ 35.15625 -1.421875 24.609375 -1.421875 \nQ 20.21875 -1.421875 15.453125 -0.5625 \nQ 10.6875 0.296875 5.421875 2 \nL 5.421875 11.28125 \nQ 10.40625 8.6875 15.234375 7.390625 \nQ 20.0625 6.109375 24.8125 6.109375 \nQ 31.15625 6.109375 34.5625 8.28125 \nQ 37.984375 10.453125 37.984375 14.40625 \nQ 37.984375 18.0625 35.515625 20.015625 \nQ 33.0625 21.96875 24.703125 23.78125 \nL 21.578125 24.515625 \nQ 13.234375 26.265625 9.515625 29.90625 \nQ 5.8125 33.546875 5.8125 39.890625 \nQ 5.8125 47.609375 11.28125 51.796875 \nQ 16.75 56 26.8125 56 \nQ 31.78125 56 36.171875 55.265625 \nQ 40.578125 54.546875 44.28125 53.078125 \nz\n\" id=\"DejaVuSans-115\"/>\n     </defs>\n     <g transform=\"translate(14.798437 84.807812)rotate(-90)scale(0.1 -0.1)\">\n      <use xlink:href=\"#DejaVuSans-108\"/>\n      <use x=\"27.783203\" xlink:href=\"#DejaVuSans-111\"/>\n      <use x=\"88.964844\" xlink:href=\"#DejaVuSans-115\"/>\n      <use x=\"141.064453\" xlink:href=\"#DejaVuSans-115\"/>\n     </g>\n    </g>\n   </g>\n   <g id=\"line2d_17\">\n    <path clip-path=\"url(#p118401295b)\" d=\"M 11.027059 13.377273 \nL 20.735368 47.487693 \nL 30.443677 62.116067 \nL 40.151987 70.596656 \nL 49.860296 76.217476 \nL 50.14375 76.325173 \nL 59.852059 85.936813 \nL 69.560368 91.969516 \nL 79.268677 95.907771 \nL 88.976987 98.536059 \nL 98.685296 100.44435 \nL 98.96875 100.485742 \nL 108.677059 106.672664 \nL 118.385368 110.847123 \nL 128.093677 113.684594 \nL 137.801987 115.612263 \nL 147.510296 116.906806 \nL 147.79375 116.93936 \nL 157.502059 121.126214 \nL 167.210368 124.043794 \nL 176.918677 126.064258 \nL 186.626987 127.464884 \nL 196.335296 128.416218 \nL 196.61875 128.4378 \nL 206.327059 131.467275 \nL 216.035368 133.614263 \nL 225.743677 135.128603 \nL 235.451987 136.177243 \nL 245.160296 136.91107 \nL 245.44375 136.922727 \n\" style=\"fill:none;stroke:#1f77b4;stroke-linecap:square;stroke-width:1.5;\"/>\n   </g>\n   <g id=\"patch_3\">\n    <path d=\"M 50.14375 143.1 \nL 50.14375 7.2 \n\" style=\"fill:none;stroke:#000000;stroke-linecap:square;stroke-linejoin:miter;stroke-width:0.8;\"/>\n   </g>\n   <g id=\"patch_4\">\n    <path d=\"M 245.44375 143.1 \nL 245.44375 7.2 \n\" style=\"fill:none;stroke:#000000;stroke-linecap:square;stroke-linejoin:miter;stroke-width:0.8;\"/>\n   </g>\n   <g id=\"patch_5\">\n    <path d=\"M 50.14375 143.1 \nL 245.44375 143.1 \n\" style=\"fill:none;stroke:#000000;stroke-linecap:square;stroke-linejoin:miter;stroke-width:0.8;\"/>\n   </g>\n   <g id=\"patch_6\">\n    <path d=\"M 50.14375 7.2 \nL 245.44375 7.2 \n\" style=\"fill:none;stroke:#000000;stroke-linecap:square;stroke-linejoin:miter;stroke-width:0.8;\"/>\n   </g>\n  </g>\n </g>\n <defs>\n  <clipPath id=\"p118401295b\">\n   <rect height=\"135.9\" width=\"195.3\" x=\"50.14375\" y=\"7.2\"/>\n  </clipPath>\n </defs>\n</svg>\n"
          },
          "metadata": {
            "tags": [],
            "needs_background": "light"
          }
        }
      ]
    },
    {
      "cell_type": "code",
      "metadata": {
        "id": "LCE3TJ1aVB6A"
      },
      "source": [],
      "execution_count": null,
      "outputs": []
    },
    {
      "cell_type": "markdown",
      "metadata": {
        "id": "3voD1-xBVHwX"
      },
      "source": [
        "# Test\n",
        "\n",
        "We find the $k$ nearest words to the query, where we measure similarity using cosine similarity\n",
        "$$\\text{sim} = \\frac{x^T y}{||x|| \\; ||y||}$$\n"
      ]
    },
    {
      "cell_type": "code",
      "metadata": {
        "id": "JVTQ-0CoVIdD"
      },
      "source": [
        "def get_similar_tokens(query_token, k, embed):\n",
        "    W = embed.weight.data\n",
        "    x = W[vocab[query_token]]\n",
        "    # Compute the cosine similarity. Add 1e-9 for numerical stability\n",
        "    cos = torch.mv(\n",
        "        W, x) / torch.sqrt(torch.sum(W * W, dim=1) * torch.sum(x * x) + 1e-9)\n",
        "    topk = torch.topk(cos, k=k + 1)[1].cpu().numpy().astype('int32')\n",
        "    for i in topk[1:]:  # Remove the input words\n",
        "        print(f'cosine sim={float(cos[i]):.3f}: {vocab.idx_to_token[i]}')\n"
      ],
      "execution_count": 32,
      "outputs": []
    },
    {
      "cell_type": "code",
      "metadata": {
        "colab": {
          "base_uri": "https://localhost:8080/"
        },
        "id": "oQV8-sbKVbpi",
        "outputId": "a8feb3c7-0306-4711-b304-78e76840941f"
      },
      "source": [
        "\n",
        "get_similar_tokens('chip', 3, net[0])"
      ],
      "execution_count": null,
      "outputs": [
        {
          "output_type": "stream",
          "text": [
            "cosine sim=0.505: intel\n",
            "cosine sim=0.491: hewlett-packard\n",
            "cosine sim=0.485: chips\n"
          ],
          "name": "stdout"
        }
      ]
    },
    {
      "cell_type": "code",
      "metadata": {
        "colab": {
          "base_uri": "https://localhost:8080/"
        },
        "id": "kHPttEZAVdqf",
        "outputId": "b9315ba1-acba-4b6d-b4af-9a82ca93ecd1"
      },
      "source": [
        "\n",
        "get_similar_tokens('president', 3, net[0])"
      ],
      "execution_count": null,
      "outputs": [
        {
          "output_type": "stream",
          "text": [
            "cosine sim=0.606: chief\n",
            "cosine sim=0.581: vice\n",
            "cosine sim=0.528: e.\n"
          ],
          "name": "stdout"
        }
      ]
    },
    {
      "cell_type": "code",
      "metadata": {
        "colab": {
          "base_uri": "https://localhost:8080/"
        },
        "id": "v4Lvq9MjVfMd",
        "outputId": "d7eefae8-b8dc-4158-e613-a0377218ad15"
      },
      "source": [
        "\n",
        "get_similar_tokens('dog', 3, net[0])"
      ],
      "execution_count": null,
      "outputs": [
        {
          "output_type": "stream",
          "text": [
            "cosine sim=0.453: republican\n",
            "cosine sim=0.449: republicans\n",
            "cosine sim=0.445: athletics\n"
          ],
          "name": "stdout"
        }
      ]
    },
    {
      "cell_type": "markdown",
      "metadata": {
        "id": "Jy9dYoy5WRv1"
      },
      "source": [
        "# Pre-trained models\n",
        "\n",
        "For better results, you should use a larger model that is trained on more data,\n",
        "such as those provided by the [Spacy library](https://spacy.io/usage/linguistic-features#vectors-similarity). For a demo, see [this script](https://github.com/probml/pyprobml/blob/master/scripts/word_embedding_spacy.py)."
      ]
    },
    {
      "cell_type": "code",
      "metadata": {
        "id": "ro1WU-yUVhoY"
      },
      "source": [],
      "execution_count": null,
      "outputs": []
    }
  ]
}
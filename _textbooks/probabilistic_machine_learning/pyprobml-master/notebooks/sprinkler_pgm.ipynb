{
  "nbformat": 4,
  "nbformat_minor": 0,
  "metadata": {
    "colab": {
      "name": "sprinkler_pgm.ipynb",
      "provenance": [],
      "toc_visible": true,
      "authorship_tag": "ABX9TyOKToXtRqZ07Ip1OfuLcAuP",
      "include_colab_link": true
    },
    "kernelspec": {
      "name": "python3",
      "display_name": "Python 3"
    },
    "language_info": {
      "name": "python"
    }
  },
  "cells": [
    {
      "cell_type": "markdown",
      "metadata": {
        "id": "view-in-github",
        "colab_type": "text"
      },
      "source": [
        "<a href=\"https://colab.research.google.com/github/probml/pyprobml/blob/master/notebooks/sprinkler_pgm.ipynb\" target=\"_parent\"><img src=\"https://colab.research.google.com/assets/colab-badge.svg\" alt=\"Open In Colab\"/></a>"
      ]
    },
    {
      "cell_type": "markdown",
      "metadata": {
        "id": "caeOoFYBb5p2"
      },
      "source": [
        "# Directed graphical models\n",
        "\n",
        "We illustrate some basic properties of DGMs."
      ]
    },
    {
      "cell_type": "code",
      "metadata": {
        "colab": {
          "base_uri": "https://localhost:8080/"
        },
        "id": "p4SVMjkpbcJ7",
        "outputId": "7981ae35-bac7-4def-b85d-7c5d4e0a3c8f"
      },
      "source": [
        "!pip install  causalgraphicalmodels\n",
        "!pip install pgmpy\n",
        "\n",
        "#!ls /usr/local/lib/python3.7/dist-packages/pgmpy/utils"
      ],
      "execution_count": 1,
      "outputs": [
        {
          "output_type": "stream",
          "text": [
            "Collecting causalgraphicalmodels\n",
            "  Downloading https://files.pythonhosted.org/packages/c8/ee/3b2d184576f3cb4873cebfc696e8e5c1e53eaef691f38aea76c206f9f916/causalgraphicalmodels-0.0.4-py3-none-any.whl\n",
            "Requirement already satisfied: graphviz in /usr/local/lib/python3.7/dist-packages (from causalgraphicalmodels) (0.10.1)\n",
            "Requirement already satisfied: pandas in /usr/local/lib/python3.7/dist-packages (from causalgraphicalmodels) (1.1.5)\n",
            "Requirement already satisfied: networkx in /usr/local/lib/python3.7/dist-packages (from causalgraphicalmodels) (2.5.1)\n",
            "Requirement already satisfied: numpy in /usr/local/lib/python3.7/dist-packages (from causalgraphicalmodels) (1.19.5)\n",
            "Requirement already satisfied: python-dateutil>=2.7.3 in /usr/local/lib/python3.7/dist-packages (from pandas->causalgraphicalmodels) (2.8.1)\n",
            "Requirement already satisfied: pytz>=2017.2 in /usr/local/lib/python3.7/dist-packages (from pandas->causalgraphicalmodels) (2018.9)\n",
            "Requirement already satisfied: decorator<5,>=4.3 in /usr/local/lib/python3.7/dist-packages (from networkx->causalgraphicalmodels) (4.4.2)\n",
            "Requirement already satisfied: six>=1.5 in /usr/local/lib/python3.7/dist-packages (from python-dateutil>=2.7.3->pandas->causalgraphicalmodels) (1.15.0)\n",
            "Installing collected packages: causalgraphicalmodels\n",
            "Successfully installed causalgraphicalmodels-0.0.4\n",
            "Collecting pgmpy\n",
            "\u001b[?25l  Downloading https://files.pythonhosted.org/packages/a3/0e/d9fadbfaa35e010c04d43acd3ae9fbefec98897dd7d61a6b7eb5a8b34072/pgmpy-0.1.14-py3-none-any.whl (331kB)\n",
            "\u001b[K     |████████████████████████████████| 337kB 6.8MB/s \n",
            "\u001b[?25hRequirement already satisfied: pandas in /usr/local/lib/python3.7/dist-packages (from pgmpy) (1.1.5)\n",
            "Requirement already satisfied: tqdm in /usr/local/lib/python3.7/dist-packages (from pgmpy) (4.41.1)\n",
            "Requirement already satisfied: statsmodels in /usr/local/lib/python3.7/dist-packages (from pgmpy) (0.10.2)\n",
            "Requirement already satisfied: scikit-learn in /usr/local/lib/python3.7/dist-packages (from pgmpy) (0.22.2.post1)\n",
            "Requirement already satisfied: numpy in /usr/local/lib/python3.7/dist-packages (from pgmpy) (1.19.5)\n",
            "Requirement already satisfied: networkx in /usr/local/lib/python3.7/dist-packages (from pgmpy) (2.5.1)\n",
            "Requirement already satisfied: scipy in /usr/local/lib/python3.7/dist-packages (from pgmpy) (1.4.1)\n",
            "Requirement already satisfied: joblib in /usr/local/lib/python3.7/dist-packages (from pgmpy) (1.0.1)\n",
            "Requirement already satisfied: pyparsing in /usr/local/lib/python3.7/dist-packages (from pgmpy) (2.4.7)\n",
            "Requirement already satisfied: torch in /usr/local/lib/python3.7/dist-packages (from pgmpy) (1.8.1+cu101)\n",
            "Requirement already satisfied: pytz>=2017.2 in /usr/local/lib/python3.7/dist-packages (from pandas->pgmpy) (2018.9)\n",
            "Requirement already satisfied: python-dateutil>=2.7.3 in /usr/local/lib/python3.7/dist-packages (from pandas->pgmpy) (2.8.1)\n",
            "Requirement already satisfied: patsy>=0.4.0 in /usr/local/lib/python3.7/dist-packages (from statsmodels->pgmpy) (0.5.1)\n",
            "Requirement already satisfied: decorator<5,>=4.3 in /usr/local/lib/python3.7/dist-packages (from networkx->pgmpy) (4.4.2)\n",
            "Requirement already satisfied: typing-extensions in /usr/local/lib/python3.7/dist-packages (from torch->pgmpy) (3.7.4.3)\n",
            "Requirement already satisfied: six>=1.5 in /usr/local/lib/python3.7/dist-packages (from python-dateutil>=2.7.3->pandas->pgmpy) (1.15.0)\n",
            "Installing collected packages: pgmpy\n",
            "Successfully installed pgmpy-0.1.14\n"
          ],
          "name": "stdout"
        }
      ]
    },
    {
      "cell_type": "code",
      "metadata": {
        "id": "Go1UPp8eMIyC"
      },
      "source": [
        "from causalgraphicalmodels import CausalGraphicalModel\n",
        "import pgmpy\n",
        "import numpy as np\n",
        "import pandas as pd"
      ],
      "execution_count": 19,
      "outputs": []
    },
    {
      "cell_type": "markdown",
      "metadata": {
        "id": "FO0xjHmYcBxI"
      },
      "source": [
        "# Make the model"
      ]
    },
    {
      "cell_type": "code",
      "metadata": {
        "id": "_W8DPmP7bX-F"
      },
      "source": [
        "sprinkler = CausalGraphicalModel(\n",
        "    nodes=[\"cloudy\", \"rain\", \"sprinkler\", \"wet\", \"slippery\"],\n",
        "    edges=[\n",
        "        (\"cloudy\", \"rain\"), \n",
        "        (\"cloudy\", \"sprinkler\"), \n",
        "        (\"rain\", \"wet\"),\n",
        "        (\"sprinkler\", \"wet\"), \n",
        "        (\"wet\", \"slippery\")\n",
        "    ]\n",
        ")\n",
        "\n"
      ],
      "execution_count": null,
      "outputs": []
    },
    {
      "cell_type": "markdown",
      "metadata": {
        "id": "U3UlRiqWcDgY"
      },
      "source": [
        "# Draw the model"
      ]
    },
    {
      "cell_type": "code",
      "metadata": {
        "id": "pnMGiQ8pb4Sq"
      },
      "source": [
        "# draw return a graphviz `dot` object, which jupyter can render\n",
        "out = sprinkler.draw()"
      ],
      "execution_count": null,
      "outputs": []
    },
    {
      "cell_type": "code",
      "metadata": {
        "colab": {
          "base_uri": "https://localhost:8080/"
        },
        "id": "PCCMSDcLsQDE",
        "outputId": "7811c485-5562-477b-bcae-640cd5101196"
      },
      "source": [
        "type(out)\n"
      ],
      "execution_count": null,
      "outputs": [
        {
          "output_type": "execute_result",
          "data": {
            "text/plain": [
              "graphviz.dot.Digraph"
            ]
          },
          "metadata": {
            "tags": []
          },
          "execution_count": 14
        }
      ]
    },
    {
      "cell_type": "code",
      "metadata": {
        "colab": {
          "base_uri": "https://localhost:8080/",
          "height": 367
        },
        "id": "x8Qs8OSSsIty",
        "outputId": "b34bd7f5-c6db-417f-a71a-67bbc8daaba9"
      },
      "source": [
        "display(out)"
      ],
      "execution_count": null,
      "outputs": [
        {
          "output_type": "display_data",
          "data": {
            "text/plain": [
              "<graphviz.dot.Digraph at 0x7fd6a178a1d0>"
            ],
            "image/svg+xml": "<?xml version=\"1.0\" encoding=\"UTF-8\" standalone=\"no\"?>\n<!DOCTYPE svg PUBLIC \"-//W3C//DTD SVG 1.1//EN\"\n \"http://www.w3.org/Graphics/SVG/1.1/DTD/svg11.dtd\">\n<!-- Generated by graphviz version 2.40.1 (20161225.0304)\n -->\n<!-- Title: %3 Pages: 1 -->\n<svg width=\"168pt\" height=\"260pt\"\n viewBox=\"0.00 0.00 167.55 260.00\" xmlns=\"http://www.w3.org/2000/svg\" xmlns:xlink=\"http://www.w3.org/1999/xlink\">\n<g id=\"graph0\" class=\"graph\" transform=\"scale(1 1) rotate(0) translate(4 256)\">\n<title>%3</title>\n<polygon fill=\"#ffffff\" stroke=\"transparent\" points=\"-4,4 -4,-256 163.5461,-256 163.5461,4 -4,4\"/>\n<!-- rain -->\n<g id=\"node1\" class=\"node\">\n<title>rain</title>\n<ellipse fill=\"none\" stroke=\"#000000\" cx=\"27\" cy=\"-162\" rx=\"27\" ry=\"18\"/>\n<text text-anchor=\"middle\" x=\"27\" y=\"-158.3\" font-family=\"Times,serif\" font-size=\"14.00\" fill=\"#000000\">rain</text>\n</g>\n<!-- wet -->\n<g id=\"node5\" class=\"node\">\n<title>wet</title>\n<ellipse fill=\"none\" stroke=\"#000000\" cx=\"71\" cy=\"-90\" rx=\"27\" ry=\"18\"/>\n<text text-anchor=\"middle\" x=\"71\" y=\"-86.3\" font-family=\"Times,serif\" font-size=\"14.00\" fill=\"#000000\">wet</text>\n</g>\n<!-- rain&#45;&gt;wet -->\n<g id=\"edge3\" class=\"edge\">\n<title>rain&#45;&gt;wet</title>\n<path fill=\"none\" stroke=\"#000000\" d=\"M37.2051,-145.3008C42.5696,-136.5224 49.2626,-125.5703 55.2737,-115.7339\"/>\n<polygon fill=\"#000000\" stroke=\"#000000\" points=\"58.3167,-117.4666 60.5447,-107.1086 52.3437,-113.8164 58.3167,-117.4666\"/>\n</g>\n<!-- sprinkler -->\n<g id=\"node2\" class=\"node\">\n<title>sprinkler</title>\n<ellipse fill=\"none\" stroke=\"#000000\" cx=\"116\" cy=\"-162\" rx=\"43.5923\" ry=\"18\"/>\n<text text-anchor=\"middle\" x=\"116\" y=\"-158.3\" font-family=\"Times,serif\" font-size=\"14.00\" fill=\"#000000\">sprinkler</text>\n</g>\n<!-- sprinkler&#45;&gt;wet -->\n<g id=\"edge4\" class=\"edge\">\n<title>sprinkler&#45;&gt;wet</title>\n<path fill=\"none\" stroke=\"#000000\" d=\"M105.1068,-144.5708C99.6102,-135.7763 92.8411,-124.9457 86.786,-115.2577\"/>\n<polygon fill=\"#000000\" stroke=\"#000000\" points=\"89.7511,-113.3979 81.4831,-106.7729 83.8151,-117.1079 89.7511,-113.3979\"/>\n</g>\n<!-- cloudy -->\n<g id=\"node3\" class=\"node\">\n<title>cloudy</title>\n<ellipse fill=\"none\" stroke=\"#000000\" cx=\"71\" cy=\"-234\" rx=\"36.2938\" ry=\"18\"/>\n<text text-anchor=\"middle\" x=\"71\" y=\"-230.3\" font-family=\"Times,serif\" font-size=\"14.00\" fill=\"#000000\">cloudy</text>\n</g>\n<!-- cloudy&#45;&gt;rain -->\n<g id=\"edge1\" class=\"edge\">\n<title>cloudy&#45;&gt;rain</title>\n<path fill=\"none\" stroke=\"#000000\" d=\"M60.3488,-216.5708C55.0293,-207.8661 48.4907,-197.1665 42.6167,-187.5546\"/>\n<polygon fill=\"#000000\" stroke=\"#000000\" points=\"45.4512,-185.4807 37.2501,-178.7729 39.4782,-189.1308 45.4512,-185.4807\"/>\n</g>\n<!-- cloudy&#45;&gt;sprinkler -->\n<g id=\"edge2\" class=\"edge\">\n<title>cloudy&#45;&gt;sprinkler</title>\n<path fill=\"none\" stroke=\"#000000\" d=\"M81.8932,-216.5708C87.2154,-208.0553 93.7308,-197.6308 99.6356,-188.183\"/>\n<polygon fill=\"#000000\" stroke=\"#000000\" points=\"102.7191,-189.8532 105.0511,-179.5182 96.7831,-186.1432 102.7191,-189.8532\"/>\n</g>\n<!-- slippery -->\n<g id=\"node4\" class=\"node\">\n<title>slippery</title>\n<ellipse fill=\"none\" stroke=\"#000000\" cx=\"71\" cy=\"-18\" rx=\"40.0939\" ry=\"18\"/>\n<text text-anchor=\"middle\" x=\"71\" y=\"-14.3\" font-family=\"Times,serif\" font-size=\"14.00\" fill=\"#000000\">slippery</text>\n</g>\n<!-- wet&#45;&gt;slippery -->\n<g id=\"edge5\" class=\"edge\">\n<title>wet&#45;&gt;slippery</title>\n<path fill=\"none\" stroke=\"#000000\" d=\"M71,-71.8314C71,-64.131 71,-54.9743 71,-46.4166\"/>\n<polygon fill=\"#000000\" stroke=\"#000000\" points=\"74.5001,-46.4132 71,-36.4133 67.5001,-46.4133 74.5001,-46.4132\"/>\n</g>\n</g>\n</svg>\n"
          },
          "metadata": {
            "tags": []
          }
        }
      ]
    },
    {
      "cell_type": "code",
      "metadata": {
        "colab": {
          "base_uri": "https://localhost:8080/",
          "height": 35
        },
        "id": "sL02TpzKsg10",
        "outputId": "ed5d8de5-940c-467b-fc42-9877bee3f0fc"
      },
      "source": [
        "out.render()  "
      ],
      "execution_count": null,
      "outputs": [
        {
          "output_type": "execute_result",
          "data": {
            "application/vnd.google.colaboratory.intrinsic+json": {
              "type": "string"
            },
            "text/plain": [
              "'Digraph.gv.pdf'"
            ]
          },
          "metadata": {
            "tags": []
          },
          "execution_count": 37
        }
      ]
    },
    {
      "cell_type": "markdown",
      "metadata": {
        "id": "ZKK4TvYTcFZi"
      },
      "source": [
        "# Display the factorization"
      ]
    },
    {
      "cell_type": "code",
      "metadata": {
        "colab": {
          "base_uri": "https://localhost:8080/"
        },
        "id": "5sqd2omObvG0",
        "outputId": "737488e8-a785-4cfb-bbae-2b71f5b7d898"
      },
      "source": [
        "print(sprinkler.get_distribution())"
      ],
      "execution_count": null,
      "outputs": [
        {
          "output_type": "stream",
          "text": [
            "P(season)P(sprinkler|season)P(rain|season)P(wet|rain,sprinkler)P(slippery|wet)\n"
          ],
          "name": "stdout"
        }
      ]
    },
    {
      "cell_type": "markdown",
      "metadata": {
        "id": "esxi6RlAcHhD"
      },
      "source": [
        "# D-separation"
      ]
    },
    {
      "cell_type": "code",
      "metadata": {
        "colab": {
          "base_uri": "https://localhost:8080/"
        },
        "id": "jZaNeHdQb1Rd",
        "outputId": "914b6b74-d3c2-423c-fd5d-6a822d7ae528"
      },
      "source": [
        "\n",
        "# check for d-seperation of two nodes\n",
        "sprinkler.is_d_separated(\"slippery\", \"cloudy\", {\"wet\"})"
      ],
      "execution_count": null,
      "outputs": [
        {
          "output_type": "execute_result",
          "data": {
            "text/plain": [
              "True"
            ]
          },
          "metadata": {
            "tags": []
          },
          "execution_count": 38
        }
      ]
    },
    {
      "cell_type": "markdown",
      "metadata": {
        "id": "p71us5z5cJt3"
      },
      "source": [
        "# Extract CI relationships"
      ]
    },
    {
      "cell_type": "code",
      "metadata": {
        "colab": {
          "base_uri": "https://localhost:8080/"
        },
        "id": "UPYs6KMXbvbt",
        "outputId": "ee0dbdc7-dab1-431f-c023-31091d100494"
      },
      "source": [
        "# get all the conditional independence relationships implied by a CGM\n",
        "CI = sprinkler.get_all_independence_relationships()\n",
        "print(CI)"
      ],
      "execution_count": null,
      "outputs": [
        {
          "output_type": "stream",
          "text": [
            "[('rain', 'sprinkler', {'cloudy'}), ('rain', 'slippery', {'wet'}), ('rain', 'slippery', {'sprinkler', 'wet'}), ('rain', 'slippery', {'cloudy', 'wet'}), ('rain', 'slippery', {'sprinkler', 'cloudy', 'wet'}), ('sprinkler', 'slippery', {'wet'}), ('sprinkler', 'slippery', {'rain', 'wet'}), ('sprinkler', 'slippery', {'cloudy', 'wet'}), ('sprinkler', 'slippery', {'rain', 'cloudy', 'wet'}), ('cloudy', 'slippery', {'wet'}), ('cloudy', 'slippery', {'rain', 'sprinkler'}), ('cloudy', 'slippery', {'rain', 'wet'}), ('cloudy', 'slippery', {'sprinkler', 'wet'}), ('cloudy', 'slippery', {'rain', 'sprinkler', 'wet'}), ('cloudy', 'wet', {'rain', 'sprinkler'}), ('cloudy', 'wet', {'slippery', 'rain', 'sprinkler'})]\n"
          ],
          "name": "stdout"
        }
      ]
    },
    {
      "cell_type": "code",
      "metadata": {
        "colab": {
          "base_uri": "https://localhost:8080/",
          "height": 543
        },
        "id": "70jWucdv2ut4",
        "outputId": "2327326f-1a77-4f90-bcdb-73127b95411d"
      },
      "source": [
        "records = []\n",
        "for ci in CI:\n",
        "  record = (ci[0], ci[1], ', '.join(x for x in ci[2]))\n",
        "  records.append(record)\n",
        "\n",
        "print(records)\n",
        "df = pd.DataFrame(records, columns = ('X', 'Y', 'Z'))\n",
        "display(df)"
      ],
      "execution_count": null,
      "outputs": [
        {
          "output_type": "stream",
          "text": [
            "[('rain', 'sprinkler', 'cloudy'), ('rain', 'slippery', 'wet'), ('rain', 'slippery', 'sprinkler, wet'), ('rain', 'slippery', 'cloudy, wet'), ('rain', 'slippery', 'sprinkler, cloudy, wet'), ('sprinkler', 'slippery', 'wet'), ('sprinkler', 'slippery', 'rain, wet'), ('sprinkler', 'slippery', 'cloudy, wet'), ('sprinkler', 'slippery', 'rain, cloudy, wet'), ('cloudy', 'slippery', 'wet'), ('cloudy', 'slippery', 'rain, sprinkler'), ('cloudy', 'slippery', 'rain, wet'), ('cloudy', 'slippery', 'sprinkler, wet'), ('cloudy', 'slippery', 'rain, sprinkler, wet'), ('cloudy', 'wet', 'rain, sprinkler'), ('cloudy', 'wet', 'slippery, rain, sprinkler')]\n"
          ],
          "name": "stdout"
        },
        {
          "output_type": "display_data",
          "data": {
            "text/html": [
              "<div>\n",
              "<style scoped>\n",
              "    .dataframe tbody tr th:only-of-type {\n",
              "        vertical-align: middle;\n",
              "    }\n",
              "\n",
              "    .dataframe tbody tr th {\n",
              "        vertical-align: top;\n",
              "    }\n",
              "\n",
              "    .dataframe thead th {\n",
              "        text-align: right;\n",
              "    }\n",
              "</style>\n",
              "<table border=\"1\" class=\"dataframe\">\n",
              "  <thead>\n",
              "    <tr style=\"text-align: right;\">\n",
              "      <th></th>\n",
              "      <th>X</th>\n",
              "      <th>Y</th>\n",
              "      <th>Z</th>\n",
              "    </tr>\n",
              "  </thead>\n",
              "  <tbody>\n",
              "    <tr>\n",
              "      <th>0</th>\n",
              "      <td>rain</td>\n",
              "      <td>sprinkler</td>\n",
              "      <td>cloudy</td>\n",
              "    </tr>\n",
              "    <tr>\n",
              "      <th>1</th>\n",
              "      <td>rain</td>\n",
              "      <td>slippery</td>\n",
              "      <td>wet</td>\n",
              "    </tr>\n",
              "    <tr>\n",
              "      <th>2</th>\n",
              "      <td>rain</td>\n",
              "      <td>slippery</td>\n",
              "      <td>sprinkler, wet</td>\n",
              "    </tr>\n",
              "    <tr>\n",
              "      <th>3</th>\n",
              "      <td>rain</td>\n",
              "      <td>slippery</td>\n",
              "      <td>cloudy, wet</td>\n",
              "    </tr>\n",
              "    <tr>\n",
              "      <th>4</th>\n",
              "      <td>rain</td>\n",
              "      <td>slippery</td>\n",
              "      <td>sprinkler, cloudy, wet</td>\n",
              "    </tr>\n",
              "    <tr>\n",
              "      <th>5</th>\n",
              "      <td>sprinkler</td>\n",
              "      <td>slippery</td>\n",
              "      <td>wet</td>\n",
              "    </tr>\n",
              "    <tr>\n",
              "      <th>6</th>\n",
              "      <td>sprinkler</td>\n",
              "      <td>slippery</td>\n",
              "      <td>rain, wet</td>\n",
              "    </tr>\n",
              "    <tr>\n",
              "      <th>7</th>\n",
              "      <td>sprinkler</td>\n",
              "      <td>slippery</td>\n",
              "      <td>cloudy, wet</td>\n",
              "    </tr>\n",
              "    <tr>\n",
              "      <th>8</th>\n",
              "      <td>sprinkler</td>\n",
              "      <td>slippery</td>\n",
              "      <td>rain, cloudy, wet</td>\n",
              "    </tr>\n",
              "    <tr>\n",
              "      <th>9</th>\n",
              "      <td>cloudy</td>\n",
              "      <td>slippery</td>\n",
              "      <td>wet</td>\n",
              "    </tr>\n",
              "    <tr>\n",
              "      <th>10</th>\n",
              "      <td>cloudy</td>\n",
              "      <td>slippery</td>\n",
              "      <td>rain, sprinkler</td>\n",
              "    </tr>\n",
              "    <tr>\n",
              "      <th>11</th>\n",
              "      <td>cloudy</td>\n",
              "      <td>slippery</td>\n",
              "      <td>rain, wet</td>\n",
              "    </tr>\n",
              "    <tr>\n",
              "      <th>12</th>\n",
              "      <td>cloudy</td>\n",
              "      <td>slippery</td>\n",
              "      <td>sprinkler, wet</td>\n",
              "    </tr>\n",
              "    <tr>\n",
              "      <th>13</th>\n",
              "      <td>cloudy</td>\n",
              "      <td>slippery</td>\n",
              "      <td>rain, sprinkler, wet</td>\n",
              "    </tr>\n",
              "    <tr>\n",
              "      <th>14</th>\n",
              "      <td>cloudy</td>\n",
              "      <td>wet</td>\n",
              "      <td>rain, sprinkler</td>\n",
              "    </tr>\n",
              "    <tr>\n",
              "      <th>15</th>\n",
              "      <td>cloudy</td>\n",
              "      <td>wet</td>\n",
              "      <td>slippery, rain, sprinkler</td>\n",
              "    </tr>\n",
              "  </tbody>\n",
              "</table>\n",
              "</div>"
            ],
            "text/plain": [
              "            X          Y                          Z\n",
              "0        rain  sprinkler                     cloudy\n",
              "1        rain   slippery                        wet\n",
              "2        rain   slippery             sprinkler, wet\n",
              "3        rain   slippery                cloudy, wet\n",
              "4        rain   slippery     sprinkler, cloudy, wet\n",
              "5   sprinkler   slippery                        wet\n",
              "6   sprinkler   slippery                  rain, wet\n",
              "7   sprinkler   slippery                cloudy, wet\n",
              "8   sprinkler   slippery          rain, cloudy, wet\n",
              "9      cloudy   slippery                        wet\n",
              "10     cloudy   slippery            rain, sprinkler\n",
              "11     cloudy   slippery                  rain, wet\n",
              "12     cloudy   slippery             sprinkler, wet\n",
              "13     cloudy   slippery       rain, sprinkler, wet\n",
              "14     cloudy        wet            rain, sprinkler\n",
              "15     cloudy        wet  slippery, rain, sprinkler"
            ]
          },
          "metadata": {
            "tags": []
          }
        }
      ]
    },
    {
      "cell_type": "code",
      "metadata": {
        "colab": {
          "base_uri": "https://localhost:8080/"
        },
        "id": "E2aCZYTu3n5z",
        "outputId": "905c6abb-652d-4947-d4c0-170648041e61"
      },
      "source": [
        "print(df.to_latex(index=False))"
      ],
      "execution_count": null,
      "outputs": [
        {
          "output_type": "stream",
          "text": [
            "\\begin{tabular}{lll}\n",
            "\\toprule\n",
            "         X &          Y &                          Z \\\\\n",
            "\\midrule\n",
            "      rain &  sprinkler &                     cloudy \\\\\n",
            "      rain &   slippery &                        wet \\\\\n",
            "      rain &   slippery &             sprinkler, wet \\\\\n",
            "      rain &   slippery &                cloudy, wet \\\\\n",
            "      rain &   slippery &     sprinkler, cloudy, wet \\\\\n",
            " sprinkler &   slippery &                        wet \\\\\n",
            " sprinkler &   slippery &                  rain, wet \\\\\n",
            " sprinkler &   slippery &                cloudy, wet \\\\\n",
            " sprinkler &   slippery &          rain, cloudy, wet \\\\\n",
            "    cloudy &   slippery &                        wet \\\\\n",
            "    cloudy &   slippery &            rain, sprinkler \\\\\n",
            "    cloudy &   slippery &                  rain, wet \\\\\n",
            "    cloudy &   slippery &             sprinkler, wet \\\\\n",
            "    cloudy &   slippery &       rain, sprinkler, wet \\\\\n",
            "    cloudy &        wet &            rain, sprinkler \\\\\n",
            "    cloudy &        wet &  slippery, rain, sprinkler \\\\\n",
            "\\bottomrule\n",
            "\\end{tabular}\n",
            "\n"
          ],
          "name": "stdout"
        }
      ]
    },
    {
      "cell_type": "markdown",
      "metadata": {
        "id": "NWhIaqSeu-AY"
      },
      "source": [
        "# Parameterize the model"
      ]
    },
    {
      "cell_type": "code",
      "metadata": {
        "colab": {
          "base_uri": "https://localhost:8080/"
        },
        "id": "ni3LOOaQbzIh",
        "outputId": "6a871813-bf14-4c47-8908-90f5fc64cbff"
      },
      "source": [
        "\n",
        "\n",
        "from pgmpy.models import BayesianModel\n",
        "from pgmpy.factors.discrete import TabularCPD\n",
        "\n",
        "# Defining the model structure. We can define the network by just passing a list of edges.\n",
        "model = BayesianModel([('C', 'S'), ('C', 'R'), ('S', 'W'), ('R', 'W'), ('W', 'L')])\n",
        "\n",
        "# Defining individual CPDs.\n",
        "cpd_c = TabularCPD(variable='C', variable_card=2, values=np.reshape([0.5, 0.5],(2,1)))\n",
        "\n",
        "# In pgmpy the columns are the evidences and rows are the states of the variable.\n",
        " \n",
        "cpd_s = TabularCPD(variable='S', variable_card=2, \n",
        "                   values=[[0.5, 0.9],\n",
        "                           [0.5, 0.1]],\n",
        "                  evidence=['C'],\n",
        "                  evidence_card=[2])\n",
        "\n",
        "cpd_r = TabularCPD(variable='R', variable_card=2, \n",
        "                   values=[[0.8, 0.2],\n",
        "                           [0.2, 0.8]],\n",
        "                  evidence=['C'],\n",
        "                  evidence_card=[2])\n",
        "\n",
        "cpd_w = TabularCPD(variable='W', variable_card=2, \n",
        "                   values=[[1.0, 0.1, 0.1, 0.01],\n",
        "                           [0.0, 0.9, 0.9, 0.99]],\n",
        "                  evidence=['S', 'R'],\n",
        "                  evidence_card=[2, 2])\n",
        "\n",
        "cpd_l = TabularCPD(variable='L', variable_card=2, \n",
        "                   values=[[0.9, 0.1],\n",
        "                           [0.1, 0.9]],\n",
        "                  evidence=['W'],\n",
        "                  evidence_card=[2])\n",
        "\n",
        "# Associating the CPDs with the network\n",
        "model.add_cpds(cpd_c, cpd_s, cpd_r, cpd_w, cpd_l)\n",
        "\n",
        "# check_model checks for the network structure and CPDs and verifies that the CPDs are correctly \n",
        "# defined and sum to 1.\n",
        "model.check_model()\n",
        "\n",
        "\n"
      ],
      "execution_count": null,
      "outputs": [
        {
          "output_type": "execute_result",
          "data": {
            "text/plain": [
              "True"
            ]
          },
          "metadata": {
            "tags": []
          },
          "execution_count": 27
        }
      ]
    },
    {
      "cell_type": "markdown",
      "metadata": {
        "id": "gDGeTduQ4mOp"
      },
      "source": [
        "# Inference"
      ]
    },
    {
      "cell_type": "code",
      "metadata": {
        "colab": {
          "base_uri": "https://localhost:8080/"
        },
        "id": "V9-tbp7wx2D3",
        "outputId": "e6d47854-ce71-47d9-f851-e1c086d666e2"
      },
      "source": [
        "from pgmpy.inference import VariableElimination\n",
        "infer = VariableElimination(model)\n",
        "\n",
        "# p(R=1)= 0.5*0.2 + 0.5*0.8 = 0.5\n",
        "probs = infer.query(['R']).values\n",
        "print('\\np(R=1) = ', probs[1])\n",
        "\n",
        "# P(R=1|W=1) = 0.7079\n",
        "probs = infer.query(['R'], evidence={'W': 1}).values\n",
        "print('\\np(R=1|W=1) = ', probs[1])\n",
        "\n",
        "\n",
        "# P(R=1|W=1,S=1) = 0.3204\n",
        "probs = infer.query(['R'], evidence={'W': 1, 'S': 1}).values\n",
        "print('\\np(R=1|W=1,S=1) = ', probs[1])"
      ],
      "execution_count": null,
      "outputs": [
        {
          "output_type": "stream",
          "text": [
            "Finding Elimination Order: : 100%|██████████| 4/4 [00:00<00:00, 557.40it/s]\n",
            "Eliminating: W: 100%|██████████| 4/4 [00:00<00:00, 341.96it/s]\n",
            "Finding Elimination Order: : 100%|██████████| 3/3 [00:00<00:00, 710.42it/s]\n",
            "Eliminating: C: 100%|██████████| 3/3 [00:00<00:00, 435.59it/s]\n",
            "Finding Elimination Order: : 100%|██████████| 2/2 [00:00<00:00, 754.71it/s]\n",
            "Eliminating: C: 100%|██████████| 2/2 [00:00<00:00, 517.24it/s]"
          ],
          "name": "stderr"
        },
        {
          "output_type": "stream",
          "text": [
            "\n",
            "p(R=1) =  0.5\n",
            "\n",
            "p(R=1|W=1) =  0.7079276773296245\n",
            "\n",
            "p(R=1|W=1,S=1) =  0.32038834951456313\n"
          ],
          "name": "stdout"
        },
        {
          "output_type": "stream",
          "text": [
            "\n"
          ],
          "name": "stderr"
        }
      ]
    }
  ]
}
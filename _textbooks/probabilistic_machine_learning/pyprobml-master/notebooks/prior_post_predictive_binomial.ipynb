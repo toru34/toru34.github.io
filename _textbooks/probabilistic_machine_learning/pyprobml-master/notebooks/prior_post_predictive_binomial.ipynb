{
  "nbformat": 4,
  "nbformat_minor": 0,
  "metadata": {
    "colab": {
      "name": "prior_post_predictive_binomial.ipynb",
      "provenance": [],
      "include_colab_link": true
    },
    "kernelspec": {
      "display_name": "Python 3",
      "name": "python3"
    }
  },
  "cells": [
    {
      "cell_type": "markdown",
      "metadata": {
        "id": "view-in-github",
        "colab_type": "text"
      },
      "source": [
        "<a href=\"https://colab.research.google.com/github/probml/pyprobml/blob/master/notebooks/prior_post_predictive_binomial.ipynb\" target=\"_parent\"><img src=\"https://colab.research.google.com/assets/colab-badge.svg\" alt=\"Open In Colab\"/></a>"
      ]
    },
    {
      "cell_type": "markdown",
      "metadata": {
        "id": "BVqejBGvj0bD"
      },
      "source": [
        "Plot rior and posterior predctiive for beta binomial distribution.\n",
        "Based on  fig 1.6 of 'Bayesian Modeling and Computation'.\n",
        "Code currently uses pymc3, although it could be done analytically."
      ]
    },
    {
      "cell_type": "code",
      "metadata": {
        "id": "G3cEAhF5gWoX"
      },
      "source": [
        "!git clone https://github.com/probml/pyprobml /pyprobml &> /dev/null\n",
        "%cd -q /pyprobml/scripts\n",
        "import pyprobml_utils as pml\n",
        "import numpy as np\n",
        "import matplotlib.pyplot as plt"
      ],
      "execution_count": 1,
      "outputs": []
    },
    {
      "cell_type": "code",
      "metadata": {
        "id": "47Q9AnzKga6B",
        "colab": {
          "base_uri": "https://localhost:8080/"
        },
        "outputId": "d413e387-73e6-4090-ad91-59566d0be177"
      },
      "source": [
        "#!pip install pymc3 # colab uses 3.7 by default (as of April 2021)\n",
        "\n",
        " # arviz needs 3.8+\n",
        "#!pip install pymc3>=3.8 # fails to update\n",
        "!pip install pymc3==3.11 \n",
        "\n",
        "import pymc3 as pm\n",
        "print(pm.__version__)\n",
        "\n",
        "#!pip install arviz\n",
        "import arviz as az\n",
        "print(az.__version__)"
      ],
      "execution_count": 3,
      "outputs": [
        {
          "output_type": "stream",
          "text": [
            "Collecting pymc3==3.11\n",
            "\u001b[?25l  Downloading https://files.pythonhosted.org/packages/c6/23/3b8372a8670b4fc41f1d7c9740e66c46f0aa8f865390f883cc6913e22d5d/pymc3-3.11.0-py3-none-any.whl (866kB)\n",
            "\u001b[K     |████████████████████████████████| 870kB 5.7MB/s \n",
            "\u001b[?25hRequirement already satisfied: patsy>=0.5.1 in /usr/local/lib/python3.7/dist-packages (from pymc3==3.11) (0.5.1)\n",
            "Requirement already satisfied: scipy>=1.2.0 in /usr/local/lib/python3.7/dist-packages (from pymc3==3.11) (1.4.1)\n",
            "Collecting arviz>=0.11.0\n",
            "\u001b[?25l  Downloading https://files.pythonhosted.org/packages/e2/a8/e2ad120b06822e29e0d185bed1ae300576f3f61f97fceb6933ba6f6accf7/arviz-0.11.2-py3-none-any.whl (1.6MB)\n",
            "\u001b[K     |████████████████████████████████| 1.6MB 17.2MB/s \n",
            "\u001b[?25hRequirement already satisfied: typing-extensions>=3.7.4 in /usr/local/lib/python3.7/dist-packages (from pymc3==3.11) (3.7.4.3)\n",
            "Requirement already satisfied: dill in /usr/local/lib/python3.7/dist-packages (from pymc3==3.11) (0.3.3)\n",
            "Requirement already satisfied: numpy>=1.15.0 in /usr/local/lib/python3.7/dist-packages (from pymc3==3.11) (1.19.5)\n",
            "Collecting theano-pymc==1.1.0\n",
            "\u001b[?25l  Downloading https://files.pythonhosted.org/packages/75/cb/36188950d63e0726a419ba307e4f085e03e83cbc6b7612bdad3f715e57f1/Theano-PyMC-1.1.0.tar.gz (1.8MB)\n",
            "\u001b[K     |████████████████████████████████| 1.8MB 31.3MB/s \n",
            "\u001b[?25hRequirement already satisfied: fastprogress>=0.2.0 in /usr/local/lib/python3.7/dist-packages (from pymc3==3.11) (1.0.0)\n",
            "Requirement already satisfied: pandas>=0.24.0 in /usr/local/lib/python3.7/dist-packages (from pymc3==3.11) (1.1.5)\n",
            "Requirement already satisfied: six in /usr/local/lib/python3.7/dist-packages (from patsy>=0.5.1->pymc3==3.11) (1.15.0)\n",
            "Collecting xarray>=0.16.1\n",
            "\u001b[?25l  Downloading https://files.pythonhosted.org/packages/a5/19/debc1f470b8b9e2949da221663c8102ed6728f4d38dc964085ca43de1428/xarray-0.17.0-py3-none-any.whl (759kB)\n",
            "\u001b[K     |████████████████████████████████| 768kB 40.3MB/s \n",
            "\u001b[?25hCollecting netcdf4\n",
            "\u001b[?25l  Downloading https://files.pythonhosted.org/packages/37/56/f65978898fb8e7e5df9c67531d86eb24eb04938deae3b61dbcce12c98212/netCDF4-1.5.6-cp37-cp37m-manylinux2014_x86_64.whl (4.7MB)\n",
            "\u001b[K     |████████████████████████████████| 4.7MB 41.0MB/s \n",
            "\u001b[?25hRequirement already satisfied: matplotlib>=3.0 in /usr/local/lib/python3.7/dist-packages (from arviz>=0.11.0->pymc3==3.11) (3.2.2)\n",
            "Requirement already satisfied: setuptools>=38.4 in /usr/local/lib/python3.7/dist-packages (from arviz>=0.11.0->pymc3==3.11) (56.0.0)\n",
            "Requirement already satisfied: packaging in /usr/local/lib/python3.7/dist-packages (from arviz>=0.11.0->pymc3==3.11) (20.9)\n",
            "Requirement already satisfied: filelock in /usr/local/lib/python3.7/dist-packages (from theano-pymc==1.1.0->pymc3==3.11) (3.0.12)\n",
            "Requirement already satisfied: python-dateutil>=2.7.3 in /usr/local/lib/python3.7/dist-packages (from pandas>=0.24.0->pymc3==3.11) (2.8.1)\n",
            "Requirement already satisfied: pytz>=2017.2 in /usr/local/lib/python3.7/dist-packages (from pandas>=0.24.0->pymc3==3.11) (2018.9)\n",
            "Collecting cftime\n",
            "\u001b[?25l  Downloading https://files.pythonhosted.org/packages/41/e0/3e120cca16571c5ee3b35f1ed432c2aae5dc91e2b789e8b9c3a70e721ea0/cftime-1.4.1-cp37-cp37m-manylinux2014_x86_64.whl (313kB)\n",
            "\u001b[K     |████████████████████████████████| 317kB 38.9MB/s \n",
            "\u001b[?25hRequirement already satisfied: cycler>=0.10 in /usr/local/lib/python3.7/dist-packages (from matplotlib>=3.0->arviz>=0.11.0->pymc3==3.11) (0.10.0)\n",
            "Requirement already satisfied: pyparsing!=2.0.4,!=2.1.2,!=2.1.6,>=2.0.1 in /usr/local/lib/python3.7/dist-packages (from matplotlib>=3.0->arviz>=0.11.0->pymc3==3.11) (2.4.7)\n",
            "Requirement already satisfied: kiwisolver>=1.0.1 in /usr/local/lib/python3.7/dist-packages (from matplotlib>=3.0->arviz>=0.11.0->pymc3==3.11) (1.3.1)\n",
            "Building wheels for collected packages: theano-pymc\n",
            "  Building wheel for theano-pymc (setup.py) ... \u001b[?25l\u001b[?25hdone\n",
            "  Created wheel for theano-pymc: filename=Theano_PyMC-1.1.0-cp37-none-any.whl size=1530105 sha256=b5d16cb66a5960db31a0b16c584362b0067e68e9d3fcb0a11df854afd37496d2\n",
            "  Stored in directory: /root/.cache/pip/wheels/04/f4/99/b28060d0c539d136469541a984e54372a4ce8cd995f9de257f\n",
            "Successfully built theano-pymc\n",
            "Installing collected packages: xarray, cftime, netcdf4, arviz, theano-pymc, pymc3\n",
            "  Found existing installation: xarray 0.15.1\n",
            "    Uninstalling xarray-0.15.1:\n",
            "      Successfully uninstalled xarray-0.15.1\n",
            "  Found existing installation: pymc3 3.7\n",
            "    Uninstalling pymc3-3.7:\n",
            "      Successfully uninstalled pymc3-3.7\n",
            "Successfully installed arviz-0.11.2 cftime-1.4.1 netcdf4-1.5.6 pymc3-3.11.0 theano-pymc-1.1.0 xarray-0.17.0\n",
            "3.11.0\n",
            "0.11.2\n"
          ],
          "name": "stdout"
        }
      ]
    },
    {
      "cell_type": "code",
      "metadata": {
        "colab": {
          "base_uri": "https://localhost:8080/",
          "height": 256
        },
        "id": "lIYdn1woOS1n",
        "outputId": "00757b40-2953-47ec-9beb-1fe5002fb3a6"
      },
      "source": [
        "\n",
        "\n",
        "import arviz as az\n",
        "import matplotlib.pyplot as plt\n",
        "import numpy as np\n",
        "import pandas as pd\n",
        "import pymc3 as pm\n",
        "from scipy import stats\n",
        "from scipy.stats import entropy\n",
        "from scipy.optimize import minimize\n",
        "\n",
        "import pyprobml_utils as pml\n",
        "\n",
        "\n",
        "np.random.seed(0)\n",
        "Y = stats.bernoulli(0.7).rvs(20)\n",
        "\n",
        "\n",
        "with pm.Model() as model:\n",
        "    θ = pm.Beta(\"θ\", 1, 1)\n",
        "    y_obs = pm.Binomial(\"y_obs\",n=1, p=θ, observed=Y)\n",
        "    idata = pm.sample(1000, return_inferencedata=True)\n",
        "    \n",
        "    \n",
        "pred_dists = (pm.sample_prior_predictive(1000, model)[\"y_obs\"],\n",
        "              pm.sample_posterior_predictive(idata, 1000, model)[\"y_obs\"])\n"
      ],
      "execution_count": 4,
      "outputs": [
        {
          "output_type": "stream",
          "text": [
            "Auto-assigning NUTS sampler...\n",
            "Initializing NUTS using jitter+adapt_diag...\n",
            "Sequential sampling (2 chains in 1 job)\n",
            "NUTS: [θ]\n"
          ],
          "name": "stderr"
        },
        {
          "output_type": "display_data",
          "data": {
            "text/html": [
              "\n",
              "    <div>\n",
              "        <style>\n",
              "            /* Turns off some styling */\n",
              "            progress {\n",
              "                /* gets rid of default border in Firefox and Opera. */\n",
              "                border: none;\n",
              "                /* Needs to be in here for Safari polyfill so background images work as expected. */\n",
              "                background-size: auto;\n",
              "            }\n",
              "            .progress-bar-interrupted, .progress-bar-interrupted::-webkit-progress-bar {\n",
              "                background: #F44336;\n",
              "            }\n",
              "        </style>\n",
              "      <progress value='2000' class='' max='2000' style='width:300px; height:20px; vertical-align: middle;'></progress>\n",
              "      100.00% [2000/2000 00:01<00:00 Sampling chain 0, 0 divergences]\n",
              "    </div>\n",
              "    "
            ],
            "text/plain": [
              "<IPython.core.display.HTML object>"
            ]
          },
          "metadata": {
            "tags": []
          }
        },
        {
          "output_type": "stream",
          "text": [
            "/usr/local/lib/python3.7/dist-packages/pymc3/math.py:246: RuntimeWarning: divide by zero encountered in log1p\n",
            "  return np.where(x < 0.6931471805599453, np.log(-np.expm1(-x)), np.log1p(-np.exp(-x)))\n"
          ],
          "name": "stderr"
        },
        {
          "output_type": "display_data",
          "data": {
            "text/html": [
              "\n",
              "    <div>\n",
              "        <style>\n",
              "            /* Turns off some styling */\n",
              "            progress {\n",
              "                /* gets rid of default border in Firefox and Opera. */\n",
              "                border: none;\n",
              "                /* Needs to be in here for Safari polyfill so background images work as expected. */\n",
              "                background-size: auto;\n",
              "            }\n",
              "            .progress-bar-interrupted, .progress-bar-interrupted::-webkit-progress-bar {\n",
              "                background: #F44336;\n",
              "            }\n",
              "        </style>\n",
              "      <progress value='2000' class='' max='2000' style='width:300px; height:20px; vertical-align: middle;'></progress>\n",
              "      100.00% [2000/2000 00:01<00:00 Sampling chain 1, 0 divergences]\n",
              "    </div>\n",
              "    "
            ],
            "text/plain": [
              "<IPython.core.display.HTML object>"
            ]
          },
          "metadata": {
            "tags": []
          }
        },
        {
          "output_type": "stream",
          "text": [
            "Sampling 2 chains for 1_000 tune and 1_000 draw iterations (2_000 + 2_000 draws total) took 3 seconds.\n",
            "/usr/local/lib/python3.7/dist-packages/pymc3/sampling.py:1688: UserWarning: samples parameter is smaller than nchains times ndraws, some draws and/or chains may not be represented in the returned posterior predictive sample\n",
            "  \"samples parameter is smaller than nchains times ndraws, some draws \"\n"
          ],
          "name": "stderr"
        },
        {
          "output_type": "display_data",
          "data": {
            "text/html": [
              "\n",
              "    <div>\n",
              "        <style>\n",
              "            /* Turns off some styling */\n",
              "            progress {\n",
              "                /* gets rid of default border in Firefox and Opera. */\n",
              "                border: none;\n",
              "                /* Needs to be in here for Safari polyfill so background images work as expected. */\n",
              "                background-size: auto;\n",
              "            }\n",
              "            .progress-bar-interrupted, .progress-bar-interrupted::-webkit-progress-bar {\n",
              "                background: #F44336;\n",
              "            }\n",
              "        </style>\n",
              "      <progress value='1000' class='' max='1000' style='width:300px; height:20px; vertical-align: middle;'></progress>\n",
              "      100.00% [1000/1000 00:00<00:00]\n",
              "    </div>\n",
              "    "
            ],
            "text/plain": [
              "<IPython.core.display.HTML object>"
            ]
          },
          "metadata": {
            "tags": []
          }
        }
      ]
    },
    {
      "cell_type": "code",
      "metadata": {
        "colab": {
          "base_uri": "https://localhost:8080/"
        },
        "id": "p8oKY1-1lJim",
        "outputId": "46a27be8-f529-468b-cffd-e1a6fa61cc0f"
      },
      "source": [
        "dist=pred_dists[0]\n",
        "print(dist.shape)\n",
        "num_success = dist.sum(1)\n",
        "print(num_success.shape)\n"
      ],
      "execution_count": 9,
      "outputs": [
        {
          "output_type": "stream",
          "text": [
            "(1000, 20)\n",
            "(1000,)\n"
          ],
          "name": "stdout"
        }
      ]
    },
    {
      "cell_type": "code",
      "metadata": {
        "colab": {
          "base_uri": "https://localhost:8080/",
          "height": 330
        },
        "id": "TwZN8R4Rlyy6",
        "outputId": "cc3caef3-e7cb-462a-a297-41db1798f91e"
      },
      "source": [
        "\n",
        "fig, ax = plt.subplots()\n",
        "az.plot_dist(pred_dists[0].sum(1), hist_kwargs={\"color\":\"0.5\", \"bins\":range(0, 22)})\n",
        "ax.set_title(f\"Prior predictive distribution\",fontweight='bold')\n",
        "ax.set_xlim(-1, 21)\n",
        "ax.set_ylim(0, 0.15) \n",
        "ax.set_xlabel(\"number of success\")"
      ],
      "execution_count": 16,
      "outputs": [
        {
          "output_type": "stream",
          "text": [
            "AxesSubplot(0.125,0.125;0.775x0.755)\n"
          ],
          "name": "stdout"
        },
        {
          "output_type": "execute_result",
          "data": {
            "text/plain": [
              "Text(0.5, 0, 'number of success')"
            ]
          },
          "metadata": {
            "tags": []
          },
          "execution_count": 16
        },
        {
          "output_type": "display_data",
          "data": {
            "image/png": "[encoded data removed]",
            "text/plain": [
              "<Figure size 432x288 with 1 Axes>"
            ]
          },
          "metadata": {
            "tags": [],
            "needs_background": "light"
          }
        }
      ]
    },
    {
      "cell_type": "code",
      "metadata": {
        "colab": {
          "base_uri": "https://localhost:8080/",
          "height": 330
        },
        "id": "3aMkcUljmQC-",
        "outputId": "322acfee-6b70-4fc7-f2a4-a7af24c535b2"
      },
      "source": [
        "fig, ax = plt.subplots()\n",
        "az.plot_dist(pred_dists[1].sum(1), hist_kwargs={\"color\":\"0.5\", \"bins\":range(0, 22)})\n",
        "ax.set_title(f\"Posterior predictive distribution\",fontweight='bold')\n",
        "ax.set_xlim(-1, 21)\n",
        "ax.set_ylim(0, 0.15) \n",
        "ax.set_xlabel(\"number of success\")"
      ],
      "execution_count": 17,
      "outputs": [
        {
          "output_type": "stream",
          "text": [
            "AxesSubplot(0.125,0.125;0.775x0.755)\n"
          ],
          "name": "stdout"
        },
        {
          "output_type": "execute_result",
          "data": {
            "text/plain": [
              "Text(0.5, 0, 'number of success')"
            ]
          },
          "metadata": {
            "tags": []
          },
          "execution_count": 17
        },
        {
          "output_type": "display_data",
          "data": {
            "image/png": "[encoded data removed]",
            "text/plain": [
              "<Figure size 432x288 with 1 Axes>"
            ]
          },
          "metadata": {
            "tags": [],
            "needs_background": "light"
          }
        }
      ]
    },
    {
      "cell_type": "code",
      "metadata": {
        "id": "qe1AhaYKg-4p",
        "colab": {
          "base_uri": "https://localhost:8080/",
          "height": 321
        },
        "outputId": "a2ba11a9-a17f-4b44-eb52-1a4ce71d8b72"
      },
      "source": [
        "fig, ax = plt.subplots()\n",
        "az.plot_dist(θ.distribution.random(size=1000), plot_kwargs={\"color\":\"0.5\"},\n",
        "             fill_kwargs={'alpha':1})\n",
        "ax.set_title(\"Prior distribution\", fontweight='bold')\n",
        "ax.set_xlim(0, 1)\n",
        "ax.set_ylim(0, 4)\n",
        "ax.tick_params(axis='both', pad=7)\n",
        "ax.set_xlabel(\"θ\") \n",
        "    \n",
        "\n",
        "\n"
      ],
      "execution_count": 20,
      "outputs": [
        {
          "output_type": "execute_result",
          "data": {
            "text/plain": [
              "Text(0.5, 0, 'θ')"
            ]
          },
          "metadata": {
            "tags": []
          },
          "execution_count": 20
        },
        {
          "output_type": "display_data",
          "data": {
            "image/png": "[encoded data removed]",
            "text/plain": [
              "<Figure size 432x288 with 1 Axes>"
            ]
          },
          "metadata": {
            "tags": [],
            "needs_background": "light"
          }
        }
      ]
    },
    {
      "cell_type": "code",
      "metadata": {
        "colab": {
          "base_uri": "https://localhost:8080/",
          "height": 321
        },
        "id": "YxLCEgRMmqb7",
        "outputId": "e9bb894f-b1a3-445b-a7d9-b80436459dec"
      },
      "source": [
        "fig, ax = plt.subplots()\n",
        "az.plot_dist(idata.posterior[\"θ\"], plot_kwargs={\"color\":\"0.5\"},\n",
        "             fill_kwargs={'alpha':1})\n",
        "ax.set_title(\"Posterior distribution\", fontweight='bold')\n",
        "ax.set_xlim(0, 1)\n",
        "ax.set_ylim(0, 4)\n",
        "ax.tick_params(axis='both', pad=7)\n",
        "ax.set_xlabel(\"θ\")\n"
      ],
      "execution_count": 21,
      "outputs": [
        {
          "output_type": "execute_result",
          "data": {
            "text/plain": [
              "Text(0.5, 0, 'θ')"
            ]
          },
          "metadata": {
            "tags": []
          },
          "execution_count": 21
        },
        {
          "output_type": "display_data",
          "data": {
            "image/png": "[encoded data removed]",
            "text/plain": [
              "<Figure size 432x288 with 1 Axes>"
            ]
          },
          "metadata": {
            "tags": [],
            "needs_background": "light"
          }
        }
      ]
    },
    {
      "cell_type": "code",
      "metadata": {
        "id": "9x5zR_kthjCc"
      },
      "source": [
        ""
      ],
      "execution_count": null,
      "outputs": []
    }
  ]
}
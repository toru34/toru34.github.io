{
  "nbformat": 4,
  "nbformat_minor": 0,
  "metadata": {
    "colab": {
      "name": "sklearn_intro.ipynb",
      "provenance": [],
      "toc_visible": true,
      "include_colab_link": true
    },
    "kernelspec": {
      "name": "python3",
      "display_name": "Python 3"
    }
  },
  "cells": [
    {
      "cell_type": "markdown",
      "metadata": {
        "id": "view-in-github",
        "colab_type": "text"
      },
      "source": [
        "<a href=\"https://colab.research.google.com/github/probml/pyprobml/blob/master/book1/intro/sklearn_intro.ipynb\" target=\"_parent\"><img src=\"https://colab.research.google.com/assets/colab-badge.svg\" alt=\"Open In Colab\"/></a>"
      ]
    },
    {
      "cell_type": "markdown",
      "metadata": {
        "id": "N8swpNugjZ2m"
      },
      "source": [
        "# Introduction to sklearn\n",
        "\n",
        "[Scikit-learn](http://scikit-learn.org) is a widely used Python machine learning library. There are several good tutorials on it, some of which we list below. \n",
        "\n",
        "\n",
        "| Name | Notes |\n",
        "| ---- | ---- | \n",
        "|[Python data science handbook](https://colab.research.google.com/github/jakevdp/PythonDataScienceHandbook/blob/master/notebooks/05.02-Introducing-Scikit-Learn.ipynb)|  by Jake VanderPlas. Covers many python libraries. |\n",
        "|[Hands-on Machine Learning with Scikit-Learn, Keras and TensorFlow v2](https://github.com/ageron/handson-ml2)| by Aurelion Geron. Covers sklearn and TF2.|\n",
        "|[Python Machine Learning v3](https://sebastianraschka.com/books.html) | by Sebastian Raschka. Covers sklearn and TF2. |\n",
        "\n",
        "In the sections below, we just give a few examples of how to use it.\n",
        "\n",
        "\n",
        "If you want to scale up sklearn to handle datasets that do not fit into memory, and/or you want to run slow jobs in parallel (e.g., for grid search over model hyper-parameters) on multiple cores of your laptop or in the cloud, you should use [ML-dask](https://ml.dask.org/)."
      ]
    },
    {
      "cell_type": "markdown",
      "metadata": {
        "id": "uCLsMbr6jXHp"
      },
      "source": [
        "# Install necessary libraries\n",
        "\n",
        "\n"
      ]
    },
    {
      "cell_type": "code",
      "metadata": {
        "id": "ds8fKSWOjX6J"
      },
      "source": [
        "# Standard Python libraries\n",
        "from __future__ import absolute_import, division, print_function, unicode_literals\n",
        "\n",
        "import os\n",
        "import time\n",
        "import numpy as np\n",
        "import glob\n",
        "import matplotlib.pyplot as plt\n",
        "import PIL\n",
        "import imageio\n",
        "\n",
        "from IPython import display\n",
        "\n",
        "import sklearn\n",
        "\n",
        "import seaborn as sns;\n",
        "sns.set(style=\"ticks\", color_codes=True)\n",
        "\n",
        "import pandas as pd\n",
        "pd.set_option('precision', 2) # 2 decimal places\n",
        "pd.set_option('display.max_rows', 20)\n",
        "pd.set_option('display.max_columns', 30)\n",
        "pd.set_option('display.width', 100) # wide windows\n",
        "\n"
      ],
      "execution_count": null,
      "outputs": []
    },
    {
      "cell_type": "markdown",
      "metadata": {
        "id": "7Tr1OoImahkV"
      },
      "source": [
        "# Estimators\n",
        "\n",
        "Most of sklearn is designed around the concept of \"estimators\", which are objects that can transform data. That is, we can think of an estimator as a function of the form $f(x,\\theta)$, where $x$ is the input, and $\\theta$ is the internal state (e.g., model parameters) of the object. Each estimator has two main methods:  ```fit``` and ```predict```. The fit method has the form ```f=fit(f,data)```, and updates the internal state (e.g., by computing the maximum likelihood estimate of the parameters). The predict method has the form ```y=predict(f,x)```. We can also have stateless estimators (with no internal parameters), which do things like preprocess the data. We give examples of all this below."
      ]
    },
    {
      "cell_type": "markdown",
      "metadata": {
        "id": "AreGt3B0ssxu"
      },
      "source": [
        "# Logistic regression \n",
        "\n",
        "We illustrate how to fit a logistic regression model using the Iris dataset."
      ]
    },
    {
      "cell_type": "code",
      "metadata": {
        "colab": {
          "base_uri": "https://localhost:8080/"
        },
        "id": "GDzMgv-5sx_T",
        "outputId": "63435d9e-82da-4211-e69c-6224e7134564"
      },
      "source": [
        "from sklearn.linear_model import LogisticRegression\n",
        "from sklearn import datasets\n",
        "\n",
        "iris = datasets.load_iris()\n",
        "\n",
        "# use 2 features and all 3 classes\n",
        "X = iris[\"data\"][:, (2, 3)]  # petal length, petal width\n",
        "y = iris[\"target\"]\n",
        "\n",
        "#softmax_reg = LogisticRegression(multi_class=\"multinomial\", solver=\"lbfgs\", penalty=\"none\")\n",
        "softmax_reg = LogisticRegression(multi_class=\"multinomial\",solver=\"lbfgs\", C=1000, random_state=42)\n",
        "softmax_reg.fit(X, y)\n",
        "\n",
        "# Get predictive distribution for a single example\n",
        "X = [[2.5, 3.0]] # (1,2) array\n",
        "y_probs = softmax_reg.predict_proba(X)\n",
        "print(np.round(y_probs, 2))"
      ],
      "execution_count": null,
      "outputs": [
        {
          "output_type": "stream",
          "text": [
            "[[0.01 0.4  0.6 ]]\n"
          ],
          "name": "stdout"
        }
      ]
    },
    {
      "cell_type": "code",
      "metadata": {
        "colab": {
          "base_uri": "https://localhost:8080/"
        },
        "id": "dFF7PzN2tOmy",
        "outputId": "e353a8a5-a37e-4f68-81e3-0ed1b480b079"
      },
      "source": [
        "# Fit model and evaluate on separate test set\n",
        "\n",
        "from sklearn.model_selection import train_test_split\n",
        "iris = datasets.load_iris()\n",
        "X = iris.data[:, :2]  # we only take the first two features to make problem harder\n",
        "#X = iris.data # use all data\n",
        "y = iris.target\n",
        "\n",
        "X_train, X_test, y_train, y_test = train_test_split(\n",
        "    X, y, test_size=0.33, random_state=42)\n",
        "\n",
        "# compute MLE (penalty=None means do not use regularization)\n",
        "logreg = LogisticRegression(solver='lbfgs', multi_class='multinomial', penalty='none')\n",
        "logreg.fit(X_train, y_train)\n",
        "\n",
        "y_pred = logreg.predict(X_test) # categorical labels\n",
        "errs = (y_pred != y_test)\n",
        "nerrs = np.sum(errs)\n",
        "print(\"Made {} errors out of {}, on instances {}\".format(nerrs, len(y_pred), np.where(errs)))\n",
        "# With ndims=2: Made 10 errors out of 50, on instances\n",
        "#  (array([ 4, 15, 21, 32, 35, 36, 40, 41, 42, 48]),)\n",
        "\n",
        "\n",
        "from sklearn.metrics import zero_one_loss\n",
        "err_rate_test = zero_one_loss(y_test, y_pred)\n",
        "assert np.isclose(err_rate_test, nerrs / len(y_pred))\n",
        "err_rate_train =  zero_one_loss(y_train, logreg.predict(X_train))\n",
        "print(\"Error rates on train {:0.3f} and test {:0.3f}\".format(\n",
        "    err_rate_train, err_rate_test))\n",
        "#Error rates on train 0.180 and test 0.200"
      ],
      "execution_count": null,
      "outputs": [
        {
          "output_type": "stream",
          "text": [
            "Made 10 errors out of 50, on instances (array([ 4, 15, 21, 32, 35, 36, 40, 41, 42, 48]),)\n",
            "Error rates on train 0.180 and test 0.200\n"
          ],
          "name": "stdout"
        }
      ]
    },
    {
      "cell_type": "markdown",
      "metadata": {
        "id": "1jMdzyTFnBJT"
      },
      "source": [
        "# Data preprocessing <a class=\"anchor\" id=\"preprocess\"></a>\n",
        "\n",
        "We often have to preprocess data before feeding it to an ML model. \n",
        "We give some examples below."
      ]
    },
    {
      "cell_type": "markdown",
      "metadata": {
        "id": "Mga3-OTEnTg-"
      },
      "source": [
        "### Standardizing numeric features in Boston housing <a class=\"anchor\" id=\"preprocess-boston\"></a>"
      ]
    },
    {
      "cell_type": "code",
      "metadata": {
        "id": "l_W4Catpm-Od",
        "colab": {
          "base_uri": "https://localhost:8080/",
          "height": 742
        },
        "outputId": "d9b32388-3738-41c8-f755-0a1f8c4db0f9"
      },
      "source": [
        "import sklearn.datasets\n",
        "import sklearn.linear_model as lm\n",
        "from sklearn.model_selection import train_test_split\n",
        "\n",
        "\n",
        "boston = sklearn.datasets.load_boston()\n",
        "X = boston.data\n",
        "y = boston.target\n",
        "\n",
        "X_train, X_test, y_train, y_test = train_test_split(\n",
        "    X, y, test_size=0.33, random_state=42)\n",
        "\n",
        "scaler = sklearn.preprocessing.StandardScaler()\n",
        "scaler = scaler.fit(X_train)\n",
        "X_train_scaled = scaler.transform(X_train)\n",
        "X_test_scaled = scaler.transform(X_test)\n",
        "X_scaled = scaler.transform(X) # entire dataset\n",
        "\n",
        "# scatter plot of response vs each feature.\n",
        "# The shape of the data looks the same as the unscaled case, but the x-axis of each feature is changed.\n",
        "nrows = 3; ncols = 4;\n",
        "fig, ax = plt.subplots(nrows=nrows, ncols=ncols, sharey=True, figsize=[15,10])\n",
        "plt.tight_layout()\n",
        "plt.clf()\n",
        "for i in range(0,12):\n",
        "    plt.subplot(nrows, ncols, i+1)\n",
        "    plt.scatter(X_scaled[:,i], y)\n",
        "    plt.xlabel(boston.feature_names[i])\n",
        "    plt.ylabel(\"house price\")\n",
        "    plt.grid()\n",
        "#save_fig(\"boston-housing-scatter-scaled.pdf\")\n",
        "plt.show()"
      ],
      "execution_count": null,
      "outputs": [
        {
          "output_type": "display_data",
          "data": {
            "image/png": "[encoded data removed]",
            "text/plain": [
              "<Figure size 1080x720 with 12 Axes>"
            ]
          },
          "metadata": {
            "tags": [],
            "needs_background": "light"
          }
        }
      ]
    },
    {
      "cell_type": "markdown",
      "metadata": {
        "id": "JR9qx9pKndcW"
      },
      "source": [
        "### One-hot encoding for Autompg <a class=\"anchor\" id=\"preprocess-onehot\"></a>\n",
        "\n",
        "We need to convert categorical inputs (aka factors) to one-hot vectors. We illustrate this below.\n"
      ]
    },
    {
      "cell_type": "code",
      "metadata": {
        "id": "bQt8IZUNnd-t",
        "colab": {
          "base_uri": "https://localhost:8080/",
          "height": 435
        },
        "outputId": "59271c3f-2d98-45c3-98ea-57731fb6d788"
      },
      "source": [
        "# Get data \n",
        "url = 'https://archive.ics.uci.edu/ml/machine-learning-databases/auto-mpg/auto-mpg.data'\n",
        "column_names = ['MPG','Cylinders','Displacement','Horsepower','Weight',\n",
        "                'Acceleration', 'Year', 'Origin', 'Name']\n",
        "df = pd.read_csv(url, names=column_names, sep='\\s+', na_values=\"?\")\n",
        "\n",
        "# The last column (name) is a unique id for the car, so we drop it\n",
        "df = df.drop(columns=['Name'])\n",
        "\n",
        "# Ensure same number of rows for all features.\n",
        "df = df.dropna()\n",
        "\n",
        "# Convert origin integer to categorical factor\n",
        "df['Origin'] = df.Origin.replace([1,2,3],['USA','Europe','Japan'])\n",
        "df['Origin'] = df['Origin'].astype('category')\n",
        "\n",
        "\n",
        "df.info()\n",
        "\n",
        "df.tail()"
      ],
      "execution_count": null,
      "outputs": [
        {
          "output_type": "stream",
          "text": [
            "<class 'pandas.core.frame.DataFrame'>\n",
            "Int64Index: 392 entries, 0 to 397\n",
            "Data columns (total 8 columns):\n",
            " #   Column        Non-Null Count  Dtype   \n",
            "---  ------        --------------  -----   \n",
            " 0   MPG           392 non-null    float64 \n",
            " 1   Cylinders     392 non-null    int64   \n",
            " 2   Displacement  392 non-null    float64 \n",
            " 3   Horsepower    392 non-null    float64 \n",
            " 4   Weight        392 non-null    float64 \n",
            " 5   Acceleration  392 non-null    float64 \n",
            " 6   Year          392 non-null    int64   \n",
            " 7   Origin        392 non-null    category\n",
            "dtypes: category(1), float64(5), int64(2)\n",
            "memory usage: 25.0 KB\n"
          ],
          "name": "stdout"
        },
        {
          "output_type": "execute_result",
          "data": {
            "text/html": [
              "<div>\n",
              "<style scoped>\n",
              "    .dataframe tbody tr th:only-of-type {\n",
              "        vertical-align: middle;\n",
              "    }\n",
              "\n",
              "    .dataframe tbody tr th {\n",
              "        vertical-align: top;\n",
              "    }\n",
              "\n",
              "    .dataframe thead th {\n",
              "        text-align: right;\n",
              "    }\n",
              "</style>\n",
              "<table border=\"1\" class=\"dataframe\">\n",
              "  <thead>\n",
              "    <tr style=\"text-align: right;\">\n",
              "      <th></th>\n",
              "      <th>MPG</th>\n",
              "      <th>Cylinders</th>\n",
              "      <th>Displacement</th>\n",
              "      <th>Horsepower</th>\n",
              "      <th>Weight</th>\n",
              "      <th>Acceleration</th>\n",
              "      <th>Year</th>\n",
              "      <th>Origin</th>\n",
              "    </tr>\n",
              "  </thead>\n",
              "  <tbody>\n",
              "    <tr>\n",
              "      <th>393</th>\n",
              "      <td>27.0</td>\n",
              "      <td>4</td>\n",
              "      <td>140.0</td>\n",
              "      <td>86.0</td>\n",
              "      <td>2790.0</td>\n",
              "      <td>15.6</td>\n",
              "      <td>82</td>\n",
              "      <td>USA</td>\n",
              "    </tr>\n",
              "    <tr>\n",
              "      <th>394</th>\n",
              "      <td>44.0</td>\n",
              "      <td>4</td>\n",
              "      <td>97.0</td>\n",
              "      <td>52.0</td>\n",
              "      <td>2130.0</td>\n",
              "      <td>24.6</td>\n",
              "      <td>82</td>\n",
              "      <td>Europe</td>\n",
              "    </tr>\n",
              "    <tr>\n",
              "      <th>395</th>\n",
              "      <td>32.0</td>\n",
              "      <td>4</td>\n",
              "      <td>135.0</td>\n",
              "      <td>84.0</td>\n",
              "      <td>2295.0</td>\n",
              "      <td>11.6</td>\n",
              "      <td>82</td>\n",
              "      <td>USA</td>\n",
              "    </tr>\n",
              "    <tr>\n",
              "      <th>396</th>\n",
              "      <td>28.0</td>\n",
              "      <td>4</td>\n",
              "      <td>120.0</td>\n",
              "      <td>79.0</td>\n",
              "      <td>2625.0</td>\n",
              "      <td>18.6</td>\n",
              "      <td>82</td>\n",
              "      <td>USA</td>\n",
              "    </tr>\n",
              "    <tr>\n",
              "      <th>397</th>\n",
              "      <td>31.0</td>\n",
              "      <td>4</td>\n",
              "      <td>119.0</td>\n",
              "      <td>82.0</td>\n",
              "      <td>2720.0</td>\n",
              "      <td>19.4</td>\n",
              "      <td>82</td>\n",
              "      <td>USA</td>\n",
              "    </tr>\n",
              "  </tbody>\n",
              "</table>\n",
              "</div>"
            ],
            "text/plain": [
              "      MPG  Cylinders  Displacement  Horsepower  Weight  Acceleration  Year  Origin\n",
              "393  27.0          4         140.0        86.0  2790.0          15.6    82     USA\n",
              "394  44.0          4          97.0        52.0  2130.0          24.6    82  Europe\n",
              "395  32.0          4         135.0        84.0  2295.0          11.6    82     USA\n",
              "396  28.0          4         120.0        79.0  2625.0          18.6    82     USA\n",
              "397  31.0          4         119.0        82.0  2720.0          19.4    82     USA"
            ]
          },
          "metadata": {
            "tags": []
          },
          "execution_count": 6
        }
      ]
    },
    {
      "cell_type": "code",
      "metadata": {
        "id": "8foO-n6Znhoi",
        "colab": {
          "base_uri": "https://localhost:8080/"
        },
        "outputId": "faf78c1b-dcbf-40d7-9f78-cc5a58fb6fc0"
      },
      "source": [
        "# Convert origin factor to integer\n",
        "from sklearn.preprocessing import LabelEncoder\n",
        "encoder = LabelEncoder()\n",
        "origin_cat = df['Origin']\n",
        "\n",
        "print('before transform')\n",
        "print(origin_cat)\n",
        "\n",
        "origin_int = encoder.fit_transform(origin_cat)\n",
        "print('after transform')\n",
        "print(origin_int)\n",
        "\n",
        "# Make sure we can decode back to strings\n",
        "print('class names are {}'.format(encoder.classes_))\n",
        "origin_cat2 = encoder.inverse_transform(origin_int)\n",
        "print(origin_cat2)"
      ],
      "execution_count": null,
      "outputs": [
        {
          "output_type": "stream",
          "text": [
            "before transform\n",
            "0         USA\n",
            "1         USA\n",
            "2         USA\n",
            "3         USA\n",
            "4         USA\n",
            "        ...  \n",
            "393       USA\n",
            "394    Europe\n",
            "395       USA\n",
            "396       USA\n",
            "397       USA\n",
            "Name: Origin, Length: 392, dtype: category\n",
            "Categories (3, object): ['Europe', 'Japan', 'USA']\n",
            "after transform\n",
            "[2 2 2 2 2 2 2 2 2 2 2 2 2 2 1 2 2 2 1 0 0 0 0 0 2 2 2 2 2 1 2 1 2 2 2 2 2\n",
            " 2 2 2 2 2 2 2 2 2 2 2 2 0 0 0 1 1 0 2 1 2 0 2 2 2 2 2 2 2 2 2 2 2 1 2 2 2\n",
            " 2 0 0 0 0 2 1 1 2 1 2 2 2 2 2 2 2 2 2 2 2 2 2 2 2 2 2 0 2 2 2 2 2 1 2 1 1\n",
            " 2 2 0 2 2 0 0 0 0 2 0 1 2 2 2 2 1 2 1 2 2 2 2 2 2 2 2 2 0 0 0 1 1 2 0 0 1\n",
            " 1 0 2 2 2 2 2 2 2 2 2 2 2 2 2 2 2 1 2 2 2 1 0 1 2 0 2 0 0 0 0 1 0 0 2 2 0\n",
            " 2 2 2 2 2 2 2 2 2 2 0 1 2 2 2 2 0 1 1 2 0 2 0 1 0 2 2 2 2 1 2 0 2 1 2 2 2\n",
            " 2 2 2 2 2 2 2 2 2 0 2 1 2 2 2 1 0 1 0 1 0 2 1 1 1 2 2 2 2 2 2 2 2 2 2 2 2\n",
            " 2 2 2 2 2 2 1 1 2 1 2 2 1 0 0 0 0 0 1 2 2 2 2 2 2 2 2 2 2 2 2 2 0 1 2 2 0\n",
            " 2 0 2 2 2 1 0 2 2 2 2 0 1 2 1 2 2 2 2 0 1 1 1 1 1 2 1 0 0 0 0 1 1 0 1 1 0\n",
            " 1 2 2 2 2 2 1 2 1 1 1 1 1 2 2 2 0 1 1 1 1 0 0 1 1 2 2 2 2 2 2 2 2 2 2 2 0\n",
            " 1 1 2 2 1 1 1 1 1 1 2 2 2 2 1 2 2 2 0 2 2 2]\n",
            "class names are ['Europe' 'Japan' 'USA']\n",
            "['USA' 'USA' 'USA' 'USA' 'USA' 'USA' 'USA' 'USA' 'USA' 'USA' 'USA' 'USA'\n",
            " 'USA' 'USA' 'Japan' 'USA' 'USA' 'USA' 'Japan' 'Europe' 'Europe' 'Europe'\n",
            " 'Europe' 'Europe' 'USA' 'USA' 'USA' 'USA' 'USA' 'Japan' 'USA' 'Japan'\n",
            " 'USA' 'USA' 'USA' 'USA' 'USA' 'USA' 'USA' 'USA' 'USA' 'USA' 'USA' 'USA'\n",
            " 'USA' 'USA' 'USA' 'USA' 'USA' 'Europe' 'Europe' 'Europe' 'Japan' 'Japan'\n",
            " 'Europe' 'USA' 'Japan' 'USA' 'Europe' 'USA' 'USA' 'USA' 'USA' 'USA' 'USA'\n",
            " 'USA' 'USA' 'USA' 'USA' 'USA' 'Japan' 'USA' 'USA' 'USA' 'USA' 'Europe'\n",
            " 'Europe' 'Europe' 'Europe' 'USA' 'Japan' 'Japan' 'USA' 'Japan' 'USA'\n",
            " 'USA' 'USA' 'USA' 'USA' 'USA' 'USA' 'USA' 'USA' 'USA' 'USA' 'USA' 'USA'\n",
            " 'USA' 'USA' 'USA' 'USA' 'Europe' 'USA' 'USA' 'USA' 'USA' 'USA' 'Japan'\n",
            " 'USA' 'Japan' 'Japan' 'USA' 'USA' 'Europe' 'USA' 'USA' 'Europe' 'Europe'\n",
            " 'Europe' 'Europe' 'USA' 'Europe' 'Japan' 'USA' 'USA' 'USA' 'USA' 'Japan'\n",
            " 'USA' 'Japan' 'USA' 'USA' 'USA' 'USA' 'USA' 'USA' 'USA' 'USA' 'USA'\n",
            " 'Europe' 'Europe' 'Europe' 'Japan' 'Japan' 'USA' 'Europe' 'Europe'\n",
            " 'Japan' 'Japan' 'Europe' 'USA' 'USA' 'USA' 'USA' 'USA' 'USA' 'USA' 'USA'\n",
            " 'USA' 'USA' 'USA' 'USA' 'USA' 'USA' 'USA' 'Japan' 'USA' 'USA' 'USA'\n",
            " 'Japan' 'Europe' 'Japan' 'USA' 'Europe' 'USA' 'Europe' 'Europe' 'Europe'\n",
            " 'Europe' 'Japan' 'Europe' 'Europe' 'USA' 'USA' 'Europe' 'USA' 'USA' 'USA'\n",
            " 'USA' 'USA' 'USA' 'USA' 'USA' 'USA' 'USA' 'Europe' 'Japan' 'USA' 'USA'\n",
            " 'USA' 'USA' 'Europe' 'Japan' 'Japan' 'USA' 'Europe' 'USA' 'Europe'\n",
            " 'Japan' 'Europe' 'USA' 'USA' 'USA' 'USA' 'Japan' 'USA' 'Europe' 'USA'\n",
            " 'Japan' 'USA' 'USA' 'USA' 'USA' 'USA' 'USA' 'USA' 'USA' 'USA' 'USA' 'USA'\n",
            " 'USA' 'Europe' 'USA' 'Japan' 'USA' 'USA' 'USA' 'Japan' 'Europe' 'Japan'\n",
            " 'Europe' 'Japan' 'Europe' 'USA' 'Japan' 'Japan' 'Japan' 'USA' 'USA' 'USA'\n",
            " 'USA' 'USA' 'USA' 'USA' 'USA' 'USA' 'USA' 'USA' 'USA' 'USA' 'USA' 'USA'\n",
            " 'USA' 'USA' 'USA' 'Japan' 'Japan' 'USA' 'Japan' 'USA' 'USA' 'Japan'\n",
            " 'Europe' 'Europe' 'Europe' 'Europe' 'Europe' 'Japan' 'USA' 'USA' 'USA'\n",
            " 'USA' 'USA' 'USA' 'USA' 'USA' 'USA' 'USA' 'USA' 'USA' 'USA' 'Europe'\n",
            " 'Japan' 'USA' 'USA' 'Europe' 'USA' 'Europe' 'USA' 'USA' 'USA' 'Japan'\n",
            " 'Europe' 'USA' 'USA' 'USA' 'USA' 'Europe' 'Japan' 'USA' 'Japan' 'USA'\n",
            " 'USA' 'USA' 'USA' 'Europe' 'Japan' 'Japan' 'Japan' 'Japan' 'Japan' 'USA'\n",
            " 'Japan' 'Europe' 'Europe' 'Europe' 'Europe' 'Japan' 'Japan' 'Europe'\n",
            " 'Japan' 'Japan' 'Europe' 'Japan' 'USA' 'USA' 'USA' 'USA' 'USA' 'Japan'\n",
            " 'USA' 'Japan' 'Japan' 'Japan' 'Japan' 'Japan' 'USA' 'USA' 'USA' 'Europe'\n",
            " 'Japan' 'Japan' 'Japan' 'Japan' 'Europe' 'Europe' 'Japan' 'Japan' 'USA'\n",
            " 'USA' 'USA' 'USA' 'USA' 'USA' 'USA' 'USA' 'USA' 'USA' 'USA' 'Europe'\n",
            " 'Japan' 'Japan' 'USA' 'USA' 'Japan' 'Japan' 'Japan' 'Japan' 'Japan'\n",
            " 'Japan' 'USA' 'USA' 'USA' 'USA' 'Japan' 'USA' 'USA' 'USA' 'Europe' 'USA'\n",
            " 'USA' 'USA']\n"
          ],
          "name": "stdout"
        }
      ]
    },
    {
      "cell_type": "code",
      "metadata": {
        "id": "DcXmfUdPnlX6",
        "colab": {
          "base_uri": "https://localhost:8080/"
        },
        "outputId": "e2101669-deba-4567-de1e-d9a5fa6f96e6"
      },
      "source": [
        "# Convert integer encoding to one-hot vectors\n",
        "from sklearn.preprocessing import OneHotEncoder\n",
        "encoder = OneHotEncoder()\n",
        "origin_onehot_sparse = encoder.fit_transform(origin_int.reshape(-1,1)) # Sparse array\n",
        "origin_onehot_dense = origin_onehot_sparse.toarray()\n",
        "print(origin_onehot_dense[-5:,:])"
      ],
      "execution_count": null,
      "outputs": [
        {
          "output_type": "stream",
          "text": [
            "[[0. 0. 1.]\n",
            " [1. 0. 0.]\n",
            " [0. 0. 1.]\n",
            " [0. 0. 1.]\n",
            " [0. 0. 1.]]\n"
          ],
          "name": "stdout"
        }
      ]
    },
    {
      "cell_type": "code",
      "metadata": {
        "id": "fabhz1wWnq86",
        "colab": {
          "base_uri": "https://localhost:8080/",
          "height": 51
        },
        "outputId": "532ead5d-d22a-4b9e-b8c1-666038e9162d"
      },
      "source": [
        "# We should be able to combine LabelEncoder and OneHotEncoder together\n",
        "# using a Pipeline. However this fails due to known bug: https://github.com/scikit-learn/scikit-learn/issues/3956\n",
        "# TypeError: fit_transform() takes 2 positional arguments but 3 were given\n",
        "\n",
        "'''\n",
        "from sklearn.pipeline import Pipeline\n",
        "pipeline = Pipeline([\n",
        "    ('str2int', LabelEncoder()),\n",
        "    ('int2onehot', OneHotEncoder())\n",
        "])\n",
        "origin_onehot2 = pipeline.fit_transform(df['Origin'])\n",
        "'''\n",
        "\n",
        "# However, as of sckit v0.20, we can now convert Categorical to OneHot directly.\n",
        "# https://jorisvandenbossche.github.io/blog/2017/11/20/categorical-encoder/\n",
        "# https://medium.com/bigdatarepublic/integrating-pandas-and-scikit-learn-with-pipelines-f70eb6183696\n",
        "\n",
        "'''\n",
        "from sklearn.preprocessing import CategoricalEncoder # not available :(\n",
        "encoder = CategoricalEncoder()\n",
        "origin_onehot2 = encoder.fit_transform(df['Origin'])\n",
        "print(origin_onehot2)\n",
        "'''"
      ],
      "execution_count": null,
      "outputs": [
        {
          "output_type": "execute_result",
          "data": {
            "application/vnd.google.colaboratory.intrinsic+json": {
              "type": "string"
            },
            "text/plain": [
              "\"\\nfrom sklearn.preprocessing import CategoricalEncoder\\nencoder = CategoricalEncoder()\\norigin_onehot2 = encoder.fit_transform(df['Origin'])\\nprint(origin_onehot2)\\n\""
            ]
          },
          "metadata": {
            "tags": []
          },
          "execution_count": 11
        }
      ]
    },
    {
      "cell_type": "code",
      "metadata": {
        "id": "CQ1yTfK8nucx",
        "colab": {
          "base_uri": "https://localhost:8080/",
          "height": 191
        },
        "outputId": "c1657339-785a-4346-ef42-c6f829d2b98e"
      },
      "source": [
        "# Function to add one-hot encoding as extra columns to a dataframe\n",
        "\n",
        "# See also sklearn-pandas library\n",
        "#https://github.com/scikit-learn-contrib/sklearn-pandas#transformation-mapping\n",
        "\n",
        "def one_hot_encode_dataframe_col(df, colname):\n",
        "  encoder = OneHotEncoder(sparse=False)\n",
        "  data = df[[colname]] # Extract column as (N,1) matrix\n",
        "  data_onehot = encoder.fit_transform(data)\n",
        "  df = df.drop(columns=[colname])\n",
        "  ncats = np.size(encoder.categories_)\n",
        "  for c in range(ncats):\n",
        "    colname_c = '{}:{}'.format(colname, c)\n",
        "    df[colname_c] = data_onehot[:,c]\n",
        "  return df, encoder\n",
        "\n",
        "df_onehot, encoder_origin = one_hot_encode_dataframe_col(df, 'Origin')\n",
        "\n",
        "df_onehot.tail()"
      ],
      "execution_count": null,
      "outputs": [
        {
          "output_type": "execute_result",
          "data": {
            "text/html": [
              "<div>\n",
              "<style scoped>\n",
              "    .dataframe tbody tr th:only-of-type {\n",
              "        vertical-align: middle;\n",
              "    }\n",
              "\n",
              "    .dataframe tbody tr th {\n",
              "        vertical-align: top;\n",
              "    }\n",
              "\n",
              "    .dataframe thead th {\n",
              "        text-align: right;\n",
              "    }\n",
              "</style>\n",
              "<table border=\"1\" class=\"dataframe\">\n",
              "  <thead>\n",
              "    <tr style=\"text-align: right;\">\n",
              "      <th></th>\n",
              "      <th>MPG</th>\n",
              "      <th>Cylinders</th>\n",
              "      <th>Displacement</th>\n",
              "      <th>Horsepower</th>\n",
              "      <th>Weight</th>\n",
              "      <th>Acceleration</th>\n",
              "      <th>Year</th>\n",
              "      <th>Origin:0</th>\n",
              "      <th>Origin:1</th>\n",
              "      <th>Origin:2</th>\n",
              "    </tr>\n",
              "  </thead>\n",
              "  <tbody>\n",
              "    <tr>\n",
              "      <th>393</th>\n",
              "      <td>27.0</td>\n",
              "      <td>4</td>\n",
              "      <td>140.0</td>\n",
              "      <td>86.0</td>\n",
              "      <td>2790.0</td>\n",
              "      <td>15.6</td>\n",
              "      <td>82</td>\n",
              "      <td>0.0</td>\n",
              "      <td>0.0</td>\n",
              "      <td>1.0</td>\n",
              "    </tr>\n",
              "    <tr>\n",
              "      <th>394</th>\n",
              "      <td>44.0</td>\n",
              "      <td>4</td>\n",
              "      <td>97.0</td>\n",
              "      <td>52.0</td>\n",
              "      <td>2130.0</td>\n",
              "      <td>24.6</td>\n",
              "      <td>82</td>\n",
              "      <td>1.0</td>\n",
              "      <td>0.0</td>\n",
              "      <td>0.0</td>\n",
              "    </tr>\n",
              "    <tr>\n",
              "      <th>395</th>\n",
              "      <td>32.0</td>\n",
              "      <td>4</td>\n",
              "      <td>135.0</td>\n",
              "      <td>84.0</td>\n",
              "      <td>2295.0</td>\n",
              "      <td>11.6</td>\n",
              "      <td>82</td>\n",
              "      <td>0.0</td>\n",
              "      <td>0.0</td>\n",
              "      <td>1.0</td>\n",
              "    </tr>\n",
              "    <tr>\n",
              "      <th>396</th>\n",
              "      <td>28.0</td>\n",
              "      <td>4</td>\n",
              "      <td>120.0</td>\n",
              "      <td>79.0</td>\n",
              "      <td>2625.0</td>\n",
              "      <td>18.6</td>\n",
              "      <td>82</td>\n",
              "      <td>0.0</td>\n",
              "      <td>0.0</td>\n",
              "      <td>1.0</td>\n",
              "    </tr>\n",
              "    <tr>\n",
              "      <th>397</th>\n",
              "      <td>31.0</td>\n",
              "      <td>4</td>\n",
              "      <td>119.0</td>\n",
              "      <td>82.0</td>\n",
              "      <td>2720.0</td>\n",
              "      <td>19.4</td>\n",
              "      <td>82</td>\n",
              "      <td>0.0</td>\n",
              "      <td>0.0</td>\n",
              "      <td>1.0</td>\n",
              "    </tr>\n",
              "  </tbody>\n",
              "</table>\n",
              "</div>"
            ],
            "text/plain": [
              "      MPG  Cylinders  Displacement  Horsepower  Weight  Acceleration  Year  Origin:0  Origin:1  \\\n",
              "393  27.0          4         140.0        86.0  2790.0          15.6    82       0.0       0.0   \n",
              "394  44.0          4          97.0        52.0  2130.0          24.6    82       1.0       0.0   \n",
              "395  32.0          4         135.0        84.0  2295.0          11.6    82       0.0       0.0   \n",
              "396  28.0          4         120.0        79.0  2625.0          18.6    82       0.0       0.0   \n",
              "397  31.0          4         119.0        82.0  2720.0          19.4    82       0.0       0.0   \n",
              "\n",
              "     Origin:2  \n",
              "393       1.0  \n",
              "394       0.0  \n",
              "395       1.0  \n",
              "396       1.0  \n",
              "397       1.0  "
            ]
          },
          "metadata": {
            "tags": []
          },
          "execution_count": 12
        }
      ]
    },
    {
      "cell_type": "markdown",
      "metadata": {
        "id": "wxk5g7Srn7p1"
      },
      "source": [
        "### Feature crosses for Autompg <a class=\"anchor\" id=\"preprocess-feature-cross\"></a>\n",
        "\n",
        "We will use the [Patsy](https://patsy.readthedocs.io/en/latest/) library, which provides R-like syntax for specifying feature interactions.\n"
      ]
    },
    {
      "cell_type": "code",
      "metadata": {
        "id": "TGHOBmDGnxVp",
        "colab": {
          "base_uri": "https://localhost:8080/"
        },
        "outputId": "2dc43bb0-79e6-4722-c42e-c14472b0b8db"
      },
      "source": [
        "# Simple example of feature cross\n",
        "import patsy\n",
        "\n",
        "cylinders = pd.Series([4,   2,    3,   2,   4], dtype='int')\n",
        "colors = pd.Series(['R', 'R', 'G', 'B', 'R'], dtype='category')\n",
        "origin = pd.Series(['U', 'J', 'J', 'U', 'U'], dtype='category')\n",
        "data = {'Cyl': cylinders, 'C': colors, 'O': origin}\n",
        "df0 = pd.DataFrame(data=data)\n",
        "print(df0)\n",
        "\n",
        "df_cross0 = patsy.dmatrix('Cyl + C + O + C:O', df0, return_type='dataframe')\n",
        "print(df_cross0.tail())"
      ],
      "execution_count": null,
      "outputs": [
        {
          "output_type": "stream",
          "text": [
            "   Cyl  C  O\n",
            "0    4  R  U\n",
            "1    2  R  J\n",
            "2    3  G  J\n",
            "3    2  B  U\n",
            "4    4  R  U\n",
            "   Intercept  C[T.G]  C[T.R]  O[T.U]  C[T.G]:O[T.U]  C[T.R]:O[T.U]  Cyl\n",
            "0        1.0     0.0     1.0     1.0            0.0            1.0  4.0\n",
            "1        1.0     0.0     1.0     0.0            0.0            0.0  2.0\n",
            "2        1.0     1.0     0.0     0.0            0.0            0.0  3.0\n",
            "3        1.0     0.0     0.0     1.0            0.0            0.0  2.0\n",
            "4        1.0     0.0     1.0     1.0            0.0            1.0  4.0\n"
          ],
          "name": "stdout"
        }
      ]
    },
    {
      "cell_type": "code",
      "metadata": {
        "id": "K-L0BxwEoCmw",
        "colab": {
          "base_uri": "https://localhost:8080/"
        },
        "outputId": "79267ce6-3281-49d3-f80f-e75f67df782c"
      },
      "source": [
        "# Create feature crosses for AutoMPG\n",
        "\n",
        "# For demo purposes, replace integer year with binary decade (70s and 80s)\n",
        "year = df.pop('Year')\n",
        "decade = [ 70 if (y>=70 and y<=79) else 80 for y in year ]\n",
        "df['Decade'] =  pd.Series(decade, dtype='category')\n",
        "\n",
        "# Make feature cross between #decades and origin (2*3 values)\n",
        "y = df.pop(\"MPG\") # Remove target column from dataframe and store\n",
        "df.columns = ['Cyl', 'Dsp', 'HP', 'Wgt', 'Acc',  'O', 'D'] # Shorten names\n",
        "df['O'] = df['O'].replace(['USA','Europe','Japan'], ['U','E','J'])\n",
        "df_cross = patsy.dmatrix('D:O + Cyl + Dsp + HP + Wgt + Acc', df, return_type='dataframe')\n",
        "print(df_cross.tail())"
      ],
      "execution_count": null,
      "outputs": [
        {
          "output_type": "stream",
          "text": [
            "     Intercept  O[T.J]  O[T.U]  D[T.80]:O[E]  D[T.80]:O[J]  D[T.80]:O[U]  Cyl    Dsp     HP  \\\n",
            "387        1.0     0.0     1.0           0.0           0.0           1.0  6.0  262.0   85.0   \n",
            "388        1.0     0.0     1.0           0.0           0.0           1.0  4.0  156.0   92.0   \n",
            "389        1.0     0.0     1.0           0.0           0.0           1.0  6.0  232.0  112.0   \n",
            "390        1.0     1.0     0.0           0.0           1.0           0.0  4.0  144.0   96.0   \n",
            "391        1.0     0.0     1.0           0.0           0.0           1.0  4.0  135.0   84.0   \n",
            "\n",
            "        Wgt   Acc  \n",
            "387  3015.0  17.0  \n",
            "388  2585.0  14.5  \n",
            "389  2835.0  14.7  \n",
            "390  2665.0  13.9  \n",
            "391  2370.0  13.0  \n"
          ],
          "name": "stdout"
        }
      ]
    },
    {
      "cell_type": "code",
      "metadata": {
        "id": "5B3bHDgXoE84"
      },
      "source": [
        ""
      ],
      "execution_count": null,
      "outputs": []
    }
  ]
}
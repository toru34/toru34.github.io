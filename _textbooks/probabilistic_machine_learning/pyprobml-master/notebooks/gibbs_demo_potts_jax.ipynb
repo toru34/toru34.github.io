{
  "nbformat": 4,
  "nbformat_minor": 0,
  "metadata": {
    "colab": {
      "name": "gibbs_demo_potts_jax_version.ipynb",
      "provenance": [],
      "collapsed_sections": []
    },
    "kernelspec": {
      "display_name": "Python 3",
      "name": "python3"
    },
    "language_info": {
      "name": "python"
    },
    "widgets": {
      "application/vnd.jupyter.widget-state+json": {
        "59382bbeee02433b823c3f58099783cb": {
          "model_module": "@jupyter-widgets/controls",
          "model_name": "HBoxModel",
          "state": {
            "_view_name": "HBoxView",
            "_dom_classes": [],
            "_model_name": "HBoxModel",
            "_view_module": "@jupyter-widgets/controls",
            "_model_module_version": "1.5.0",
            "_view_count": null,
            "_view_module_version": "1.5.0",
            "box_style": "",
            "layout": "IPY_MODEL_ff4fefdf30b94aaa8eb4bb5cb1a35ea7",
            "_model_module": "@jupyter-widgets/controls",
            "children": [
              "IPY_MODEL_bc93265d7bc644a29a8993efc365442a",
              "IPY_MODEL_6237cb298df2434682b8bb5692f69d21"
            ]
          }
        },
        "ff4fefdf30b94aaa8eb4bb5cb1a35ea7": {
          "model_module": "@jupyter-widgets/base",
          "model_name": "LayoutModel",
          "state": {
            "_view_name": "LayoutView",
            "grid_template_rows": null,
            "right": null,
            "justify_content": null,
            "_view_module": "@jupyter-widgets/base",
            "overflow": null,
            "_model_module_version": "1.2.0",
            "_view_count": null,
            "flex_flow": null,
            "width": null,
            "min_width": null,
            "border": null,
            "align_items": null,
            "bottom": null,
            "_model_module": "@jupyter-widgets/base",
            "top": null,
            "grid_column": null,
            "overflow_y": null,
            "overflow_x": null,
            "grid_auto_flow": null,
            "grid_area": null,
            "grid_template_columns": null,
            "flex": null,
            "_model_name": "LayoutModel",
            "justify_items": null,
            "grid_row": null,
            "max_height": null,
            "align_content": null,
            "visibility": null,
            "align_self": null,
            "height": null,
            "min_height": null,
            "padding": null,
            "grid_auto_rows": null,
            "grid_gap": null,
            "max_width": null,
            "order": null,
            "_view_module_version": "1.2.0",
            "grid_template_areas": null,
            "object_position": null,
            "object_fit": null,
            "grid_auto_columns": null,
            "margin": null,
            "display": null,
            "left": null
          }
        },
        "bc93265d7bc644a29a8993efc365442a": {
          "model_module": "@jupyter-widgets/controls",
          "model_name": "FloatProgressModel",
          "state": {
            "_view_name": "ProgressView",
            "style": "IPY_MODEL_da8f0af268284e7fbc6ee35ff8771baa",
            "_dom_classes": [],
            "description": "100%",
            "_model_name": "FloatProgressModel",
            "bar_style": "success",
            "max": 2,
            "_view_module": "@jupyter-widgets/controls",
            "_model_module_version": "1.5.0",
            "value": 2,
            "_view_count": null,
            "_view_module_version": "1.5.0",
            "orientation": "horizontal",
            "min": 0,
            "description_tooltip": null,
            "_model_module": "@jupyter-widgets/controls",
            "layout": "IPY_MODEL_64f188f566464b8c935f2ad9008608ed"
          }
        },
        "6237cb298df2434682b8bb5692f69d21": {
          "model_module": "@jupyter-widgets/controls",
          "model_name": "HTMLModel",
          "state": {
            "_view_name": "HTMLView",
            "style": "IPY_MODEL_05ae5a4d5a6b410a864e8b6324668cc1",
            "_dom_classes": [],
            "description": "",
            "_model_name": "HTMLModel",
            "placeholder": "​",
            "_view_module": "@jupyter-widgets/controls",
            "_model_module_version": "1.5.0",
            "value": " 2/2 [00:16&lt;00:00,  8.26s/it]",
            "_view_count": null,
            "_view_module_version": "1.5.0",
            "description_tooltip": null,
            "_model_module": "@jupyter-widgets/controls",
            "layout": "IPY_MODEL_a5c38bfc6ff44cdabb9af0bae8a3373b"
          }
        },
        "da8f0af268284e7fbc6ee35ff8771baa": {
          "model_module": "@jupyter-widgets/controls",
          "model_name": "ProgressStyleModel",
          "state": {
            "_view_name": "StyleView",
            "_model_name": "ProgressStyleModel",
            "description_width": "initial",
            "_view_module": "@jupyter-widgets/base",
            "_model_module_version": "1.5.0",
            "_view_count": null,
            "_view_module_version": "1.2.0",
            "bar_color": null,
            "_model_module": "@jupyter-widgets/controls"
          }
        },
        "64f188f566464b8c935f2ad9008608ed": {
          "model_module": "@jupyter-widgets/base",
          "model_name": "LayoutModel",
          "state": {
            "_view_name": "LayoutView",
            "grid_template_rows": null,
            "right": null,
            "justify_content": null,
            "_view_module": "@jupyter-widgets/base",
            "overflow": null,
            "_model_module_version": "1.2.0",
            "_view_count": null,
            "flex_flow": null,
            "width": null,
            "min_width": null,
            "border": null,
            "align_items": null,
            "bottom": null,
            "_model_module": "@jupyter-widgets/base",
            "top": null,
            "grid_column": null,
            "overflow_y": null,
            "overflow_x": null,
            "grid_auto_flow": null,
            "grid_area": null,
            "grid_template_columns": null,
            "flex": null,
            "_model_name": "LayoutModel",
            "justify_items": null,
            "grid_row": null,
            "max_height": null,
            "align_content": null,
            "visibility": null,
            "align_self": null,
            "height": null,
            "min_height": null,
            "padding": null,
            "grid_auto_rows": null,
            "grid_gap": null,
            "max_width": null,
            "order": null,
            "_view_module_version": "1.2.0",
            "grid_template_areas": null,
            "object_position": null,
            "object_fit": null,
            "grid_auto_columns": null,
            "margin": null,
            "display": null,
            "left": null
          }
        },
        "05ae5a4d5a6b410a864e8b6324668cc1": {
          "model_module": "@jupyter-widgets/controls",
          "model_name": "DescriptionStyleModel",
          "state": {
            "_view_name": "StyleView",
            "_model_name": "DescriptionStyleModel",
            "description_width": "",
            "_view_module": "@jupyter-widgets/base",
            "_model_module_version": "1.5.0",
            "_view_count": null,
            "_view_module_version": "1.2.0",
            "_model_module": "@jupyter-widgets/controls"
          }
        },
        "a5c38bfc6ff44cdabb9af0bae8a3373b": {
          "model_module": "@jupyter-widgets/base",
          "model_name": "LayoutModel",
          "state": {
            "_view_name": "LayoutView",
            "grid_template_rows": null,
            "right": null,
            "justify_content": null,
            "_view_module": "@jupyter-widgets/base",
            "overflow": null,
            "_model_module_version": "1.2.0",
            "_view_count": null,
            "flex_flow": null,
            "width": null,
            "min_width": null,
            "border": null,
            "align_items": null,
            "bottom": null,
            "_model_module": "@jupyter-widgets/base",
            "top": null,
            "grid_column": null,
            "overflow_y": null,
            "overflow_x": null,
            "grid_auto_flow": null,
            "grid_area": null,
            "grid_template_columns": null,
            "flex": null,
            "_model_name": "LayoutModel",
            "justify_items": null,
            "grid_row": null,
            "max_height": null,
            "align_content": null,
            "visibility": null,
            "align_self": null,
            "height": null,
            "min_height": null,
            "padding": null,
            "grid_auto_rows": null,
            "grid_gap": null,
            "max_width": null,
            "order": null,
            "_view_module_version": "1.2.0",
            "grid_template_areas": null,
            "object_position": null,
            "object_fit": null,
            "grid_auto_columns": null,
            "margin": null,
            "display": null,
            "left": null
          }
        },
        "6bf23f5839b047f8a4c6cd4e29084212": {
          "model_module": "@jupyter-widgets/controls",
          "model_name": "HBoxModel",
          "state": {
            "_view_name": "HBoxView",
            "_dom_classes": [],
            "_model_name": "HBoxModel",
            "_view_module": "@jupyter-widgets/controls",
            "_model_module_version": "1.5.0",
            "_view_count": null,
            "_view_module_version": "1.5.0",
            "box_style": "",
            "layout": "IPY_MODEL_a307cfb915bd45fc885cabfb21d5e7d4",
            "_model_module": "@jupyter-widgets/controls",
            "children": [
              "IPY_MODEL_8841ff5f33154e26abbd56e336573b92",
              "IPY_MODEL_e1b7ba83610b4999a94cdc8ad57881c7"
            ]
          }
        },
        "a307cfb915bd45fc885cabfb21d5e7d4": {
          "model_module": "@jupyter-widgets/base",
          "model_name": "LayoutModel",
          "state": {
            "_view_name": "LayoutView",
            "grid_template_rows": null,
            "right": null,
            "justify_content": null,
            "_view_module": "@jupyter-widgets/base",
            "overflow": null,
            "_model_module_version": "1.2.0",
            "_view_count": null,
            "flex_flow": null,
            "width": null,
            "min_width": null,
            "border": null,
            "align_items": null,
            "bottom": null,
            "_model_module": "@jupyter-widgets/base",
            "top": null,
            "grid_column": null,
            "overflow_y": null,
            "overflow_x": null,
            "grid_auto_flow": null,
            "grid_area": null,
            "grid_template_columns": null,
            "flex": null,
            "_model_name": "LayoutModel",
            "justify_items": null,
            "grid_row": null,
            "max_height": null,
            "align_content": null,
            "visibility": null,
            "align_self": null,
            "height": null,
            "min_height": null,
            "padding": null,
            "grid_auto_rows": null,
            "grid_gap": null,
            "max_width": null,
            "order": null,
            "_view_module_version": "1.2.0",
            "grid_template_areas": null,
            "object_position": null,
            "object_fit": null,
            "grid_auto_columns": null,
            "margin": null,
            "display": null,
            "left": null
          }
        },
        "8841ff5f33154e26abbd56e336573b92": {
          "model_module": "@jupyter-widgets/controls",
          "model_name": "FloatProgressModel",
          "state": {
            "_view_name": "ProgressView",
            "style": "IPY_MODEL_9bcad2121a974028883b6e8059b895ac",
            "_dom_classes": [],
            "description": "100%",
            "_model_name": "FloatProgressModel",
            "bar_style": "success",
            "max": 3,
            "_view_module": "@jupyter-widgets/controls",
            "_model_module_version": "1.5.0",
            "value": 3,
            "_view_count": null,
            "_view_module_version": "1.5.0",
            "orientation": "horizontal",
            "min": 0,
            "description_tooltip": null,
            "_model_module": "@jupyter-widgets/controls",
            "layout": "IPY_MODEL_b846949aa3cf42c1b91fe3c1dc2fe166"
          }
        },
        "e1b7ba83610b4999a94cdc8ad57881c7": {
          "model_module": "@jupyter-widgets/controls",
          "model_name": "HTMLModel",
          "state": {
            "_view_name": "HTMLView",
            "style": "IPY_MODEL_016407df18d44895b665e89c593ab1cb",
            "_dom_classes": [],
            "description": "",
            "_model_name": "HTMLModel",
            "placeholder": "​",
            "_view_module": "@jupyter-widgets/controls",
            "_model_module_version": "1.5.0",
            "value": " 3/3 [09:42&lt;00:00, 194.19s/it]",
            "_view_count": null,
            "_view_module_version": "1.5.0",
            "description_tooltip": null,
            "_model_module": "@jupyter-widgets/controls",
            "layout": "IPY_MODEL_c745769c904b4ba485130b65b676a3b7"
          }
        },
        "9bcad2121a974028883b6e8059b895ac": {
          "model_module": "@jupyter-widgets/controls",
          "model_name": "ProgressStyleModel",
          "state": {
            "_view_name": "StyleView",
            "_model_name": "ProgressStyleModel",
            "description_width": "initial",
            "_view_module": "@jupyter-widgets/base",
            "_model_module_version": "1.5.0",
            "_view_count": null,
            "_view_module_version": "1.2.0",
            "bar_color": null,
            "_model_module": "@jupyter-widgets/controls"
          }
        },
        "b846949aa3cf42c1b91fe3c1dc2fe166": {
          "model_module": "@jupyter-widgets/base",
          "model_name": "LayoutModel",
          "state": {
            "_view_name": "LayoutView",
            "grid_template_rows": null,
            "right": null,
            "justify_content": null,
            "_view_module": "@jupyter-widgets/base",
            "overflow": null,
            "_model_module_version": "1.2.0",
            "_view_count": null,
            "flex_flow": null,
            "width": null,
            "min_width": null,
            "border": null,
            "align_items": null,
            "bottom": null,
            "_model_module": "@jupyter-widgets/base",
            "top": null,
            "grid_column": null,
            "overflow_y": null,
            "overflow_x": null,
            "grid_auto_flow": null,
            "grid_area": null,
            "grid_template_columns": null,
            "flex": null,
            "_model_name": "LayoutModel",
            "justify_items": null,
            "grid_row": null,
            "max_height": null,
            "align_content": null,
            "visibility": null,
            "align_self": null,
            "height": null,
            "min_height": null,
            "padding": null,
            "grid_auto_rows": null,
            "grid_gap": null,
            "max_width": null,
            "order": null,
            "_view_module_version": "1.2.0",
            "grid_template_areas": null,
            "object_position": null,
            "object_fit": null,
            "grid_auto_columns": null,
            "margin": null,
            "display": null,
            "left": null
          }
        },
        "016407df18d44895b665e89c593ab1cb": {
          "model_module": "@jupyter-widgets/controls",
          "model_name": "DescriptionStyleModel",
          "state": {
            "_view_name": "StyleView",
            "_model_name": "DescriptionStyleModel",
            "description_width": "",
            "_view_module": "@jupyter-widgets/base",
            "_model_module_version": "1.5.0",
            "_view_count": null,
            "_view_module_version": "1.2.0",
            "_model_module": "@jupyter-widgets/controls"
          }
        },
        "c745769c904b4ba485130b65b676a3b7": {
          "model_module": "@jupyter-widgets/base",
          "model_name": "LayoutModel",
          "state": {
            "_view_name": "LayoutView",
            "grid_template_rows": null,
            "right": null,
            "justify_content": null,
            "_view_module": "@jupyter-widgets/base",
            "overflow": null,
            "_model_module_version": "1.2.0",
            "_view_count": null,
            "flex_flow": null,
            "width": null,
            "min_width": null,
            "border": null,
            "align_items": null,
            "bottom": null,
            "_model_module": "@jupyter-widgets/base",
            "top": null,
            "grid_column": null,
            "overflow_y": null,
            "overflow_x": null,
            "grid_auto_flow": null,
            "grid_area": null,
            "grid_template_columns": null,
            "flex": null,
            "_model_name": "LayoutModel",
            "justify_items": null,
            "grid_row": null,
            "max_height": null,
            "align_content": null,
            "visibility": null,
            "align_self": null,
            "height": null,
            "min_height": null,
            "padding": null,
            "grid_auto_rows": null,
            "grid_gap": null,
            "max_width": null,
            "order": null,
            "_view_module_version": "1.2.0",
            "grid_template_areas": null,
            "object_position": null,
            "object_fit": null,
            "grid_auto_columns": null,
            "margin": null,
            "display": null,
            "left": null
          }
        },
        "69a87679be3a4279976a4a5bdcfd232f": {
          "model_module": "@jupyter-widgets/controls",
          "model_name": "HBoxModel",
          "state": {
            "_view_name": "HBoxView",
            "_dom_classes": [],
            "_model_name": "HBoxModel",
            "_view_module": "@jupyter-widgets/controls",
            "_model_module_version": "1.5.0",
            "_view_count": null,
            "_view_module_version": "1.5.0",
            "box_style": "",
            "layout": "IPY_MODEL_6229f7b060e7452d93fcc2584447192c",
            "_model_module": "@jupyter-widgets/controls",
            "children": [
              "IPY_MODEL_9780fc3c915544919336b745e73a44ff",
              "IPY_MODEL_2a4775131d944b3db962a7ff8937ff63"
            ]
          }
        },
        "6229f7b060e7452d93fcc2584447192c": {
          "model_module": "@jupyter-widgets/base",
          "model_name": "LayoutModel",
          "state": {
            "_view_name": "LayoutView",
            "grid_template_rows": null,
            "right": null,
            "justify_content": null,
            "_view_module": "@jupyter-widgets/base",
            "overflow": null,
            "_model_module_version": "1.2.0",
            "_view_count": null,
            "flex_flow": null,
            "width": null,
            "min_width": null,
            "border": null,
            "align_items": null,
            "bottom": null,
            "_model_module": "@jupyter-widgets/base",
            "top": null,
            "grid_column": null,
            "overflow_y": null,
            "overflow_x": null,
            "grid_auto_flow": null,
            "grid_area": null,
            "grid_template_columns": null,
            "flex": null,
            "_model_name": "LayoutModel",
            "justify_items": null,
            "grid_row": null,
            "max_height": null,
            "align_content": null,
            "visibility": null,
            "align_self": null,
            "height": null,
            "min_height": null,
            "padding": null,
            "grid_auto_rows": null,
            "grid_gap": null,
            "max_width": null,
            "order": null,
            "_view_module_version": "1.2.0",
            "grid_template_areas": null,
            "object_position": null,
            "object_fit": null,
            "grid_auto_columns": null,
            "margin": null,
            "display": null,
            "left": null
          }
        },
        "9780fc3c915544919336b745e73a44ff": {
          "model_module": "@jupyter-widgets/controls",
          "model_name": "FloatProgressModel",
          "state": {
            "_view_name": "ProgressView",
            "style": "IPY_MODEL_4c58c34db15848fcbf508ad146d14bd2",
            "_dom_classes": [],
            "description": "100%",
            "_model_name": "FloatProgressModel",
            "bar_style": "success",
            "max": 8000,
            "_view_module": "@jupyter-widgets/controls",
            "_model_module_version": "1.5.0",
            "value": 8000,
            "_view_count": null,
            "_view_module_version": "1.5.0",
            "orientation": "horizontal",
            "min": 0,
            "description_tooltip": null,
            "_model_module": "@jupyter-widgets/controls",
            "layout": "IPY_MODEL_98ea1535e3664c358c837c0f004572da"
          }
        },
        "2a4775131d944b3db962a7ff8937ff63": {
          "model_module": "@jupyter-widgets/controls",
          "model_name": "HTMLModel",
          "state": {
            "_view_name": "HTMLView",
            "style": "IPY_MODEL_0f4b4c6bc0934db0b820c2fd547da488",
            "_dom_classes": [],
            "description": "",
            "_model_name": "HTMLModel",
            "placeholder": "​",
            "_view_module": "@jupyter-widgets/controls",
            "_model_module_version": "1.5.0",
            "value": " 8000/8000 [00:14&lt;00:00, 554.49it/s]",
            "_view_count": null,
            "_view_module_version": "1.5.0",
            "description_tooltip": null,
            "_model_module": "@jupyter-widgets/controls",
            "layout": "IPY_MODEL_6d1df69e990948fcbb05c173ed7f333f"
          }
        },
        "4c58c34db15848fcbf508ad146d14bd2": {
          "model_module": "@jupyter-widgets/controls",
          "model_name": "ProgressStyleModel",
          "state": {
            "_view_name": "StyleView",
            "_model_name": "ProgressStyleModel",
            "description_width": "initial",
            "_view_module": "@jupyter-widgets/base",
            "_model_module_version": "1.5.0",
            "_view_count": null,
            "_view_module_version": "1.2.0",
            "bar_color": null,
            "_model_module": "@jupyter-widgets/controls"
          }
        },
        "98ea1535e3664c358c837c0f004572da": {
          "model_module": "@jupyter-widgets/base",
          "model_name": "LayoutModel",
          "state": {
            "_view_name": "LayoutView",
            "grid_template_rows": null,
            "right": null,
            "justify_content": null,
            "_view_module": "@jupyter-widgets/base",
            "overflow": null,
            "_model_module_version": "1.2.0",
            "_view_count": null,
            "flex_flow": null,
            "width": null,
            "min_width": null,
            "border": null,
            "align_items": null,
            "bottom": null,
            "_model_module": "@jupyter-widgets/base",
            "top": null,
            "grid_column": null,
            "overflow_y": null,
            "overflow_x": null,
            "grid_auto_flow": null,
            "grid_area": null,
            "grid_template_columns": null,
            "flex": null,
            "_model_name": "LayoutModel",
            "justify_items": null,
            "grid_row": null,
            "max_height": null,
            "align_content": null,
            "visibility": null,
            "align_self": null,
            "height": null,
            "min_height": null,
            "padding": null,
            "grid_auto_rows": null,
            "grid_gap": null,
            "max_width": null,
            "order": null,
            "_view_module_version": "1.2.0",
            "grid_template_areas": null,
            "object_position": null,
            "object_fit": null,
            "grid_auto_columns": null,
            "margin": null,
            "display": null,
            "left": null
          }
        },
        "0f4b4c6bc0934db0b820c2fd547da488": {
          "model_module": "@jupyter-widgets/controls",
          "model_name": "DescriptionStyleModel",
          "state": {
            "_view_name": "StyleView",
            "_model_name": "DescriptionStyleModel",
            "description_width": "",
            "_view_module": "@jupyter-widgets/base",
            "_model_module_version": "1.5.0",
            "_view_count": null,
            "_view_module_version": "1.2.0",
            "_model_module": "@jupyter-widgets/controls"
          }
        },
        "6d1df69e990948fcbb05c173ed7f333f": {
          "model_module": "@jupyter-widgets/base",
          "model_name": "LayoutModel",
          "state": {
            "_view_name": "LayoutView",
            "grid_template_rows": null,
            "right": null,
            "justify_content": null,
            "_view_module": "@jupyter-widgets/base",
            "overflow": null,
            "_model_module_version": "1.2.0",
            "_view_count": null,
            "flex_flow": null,
            "width": null,
            "min_width": null,
            "border": null,
            "align_items": null,
            "bottom": null,
            "_model_module": "@jupyter-widgets/base",
            "top": null,
            "grid_column": null,
            "overflow_y": null,
            "overflow_x": null,
            "grid_auto_flow": null,
            "grid_area": null,
            "grid_template_columns": null,
            "flex": null,
            "_model_name": "LayoutModel",
            "justify_items": null,
            "grid_row": null,
            "max_height": null,
            "align_content": null,
            "visibility": null,
            "align_self": null,
            "height": null,
            "min_height": null,
            "padding": null,
            "grid_auto_rows": null,
            "grid_gap": null,
            "max_width": null,
            "order": null,
            "_view_module_version": "1.2.0",
            "grid_template_areas": null,
            "object_position": null,
            "object_fit": null,
            "grid_auto_columns": null,
            "margin": null,
            "display": null,
            "left": null
          }
        },
        "6370fbea05e8471abe37311912316ea3": {
          "model_module": "@jupyter-widgets/controls",
          "model_name": "HBoxModel",
          "state": {
            "_view_name": "HBoxView",
            "_dom_classes": [],
            "_model_name": "HBoxModel",
            "_view_module": "@jupyter-widgets/controls",
            "_model_module_version": "1.5.0",
            "_view_count": null,
            "_view_module_version": "1.5.0",
            "box_style": "",
            "layout": "IPY_MODEL_da89e7576f714ad08e6383d663f880b5",
            "_model_module": "@jupyter-widgets/controls",
            "children": [
              "IPY_MODEL_41f1eb0bedda4c899ee40241309153b2",
              "IPY_MODEL_4eb980c4fc5b453595c6ce69e11baa43"
            ]
          }
        },
        "da89e7576f714ad08e6383d663f880b5": {
          "model_module": "@jupyter-widgets/base",
          "model_name": "LayoutModel",
          "state": {
            "_view_name": "LayoutView",
            "grid_template_rows": null,
            "right": null,
            "justify_content": null,
            "_view_module": "@jupyter-widgets/base",
            "overflow": null,
            "_model_module_version": "1.2.0",
            "_view_count": null,
            "flex_flow": null,
            "width": null,
            "min_width": null,
            "border": null,
            "align_items": null,
            "bottom": null,
            "_model_module": "@jupyter-widgets/base",
            "top": null,
            "grid_column": null,
            "overflow_y": null,
            "overflow_x": null,
            "grid_auto_flow": null,
            "grid_area": null,
            "grid_template_columns": null,
            "flex": null,
            "_model_name": "LayoutModel",
            "justify_items": null,
            "grid_row": null,
            "max_height": null,
            "align_content": null,
            "visibility": null,
            "align_self": null,
            "height": null,
            "min_height": null,
            "padding": null,
            "grid_auto_rows": null,
            "grid_gap": null,
            "max_width": null,
            "order": null,
            "_view_module_version": "1.2.0",
            "grid_template_areas": null,
            "object_position": null,
            "object_fit": null,
            "grid_auto_columns": null,
            "margin": null,
            "display": null,
            "left": null
          }
        },
        "41f1eb0bedda4c899ee40241309153b2": {
          "model_module": "@jupyter-widgets/controls",
          "model_name": "FloatProgressModel",
          "state": {
            "_view_name": "ProgressView",
            "style": "IPY_MODEL_fc7cc73c7d934e54aea993d719b0c65f",
            "_dom_classes": [],
            "description": "100%",
            "_model_name": "FloatProgressModel",
            "bar_style": "success",
            "max": 8000,
            "_view_module": "@jupyter-widgets/controls",
            "_model_module_version": "1.5.0",
            "value": 8000,
            "_view_count": null,
            "_view_module_version": "1.5.0",
            "orientation": "horizontal",
            "min": 0,
            "description_tooltip": null,
            "_model_module": "@jupyter-widgets/controls",
            "layout": "IPY_MODEL_441623ef7c8942dbbb4968690b40108a"
          }
        },
        "4eb980c4fc5b453595c6ce69e11baa43": {
          "model_module": "@jupyter-widgets/controls",
          "model_name": "HTMLModel",
          "state": {
            "_view_name": "HTMLView",
            "style": "IPY_MODEL_40a705d0bde1443da0b51d203fce65c1",
            "_dom_classes": [],
            "description": "",
            "_model_name": "HTMLModel",
            "placeholder": "​",
            "_view_module": "@jupyter-widgets/controls",
            "_model_module_version": "1.5.0",
            "value": " 8000/8000 [09:37&lt;00:00, 13.85it/s]",
            "_view_count": null,
            "_view_module_version": "1.5.0",
            "description_tooltip": null,
            "_model_module": "@jupyter-widgets/controls",
            "layout": "IPY_MODEL_5691975b221147b48de5050e97f585ba"
          }
        },
        "fc7cc73c7d934e54aea993d719b0c65f": {
          "model_module": "@jupyter-widgets/controls",
          "model_name": "ProgressStyleModel",
          "state": {
            "_view_name": "StyleView",
            "_model_name": "ProgressStyleModel",
            "description_width": "initial",
            "_view_module": "@jupyter-widgets/base",
            "_model_module_version": "1.5.0",
            "_view_count": null,
            "_view_module_version": "1.2.0",
            "bar_color": null,
            "_model_module": "@jupyter-widgets/controls"
          }
        },
        "441623ef7c8942dbbb4968690b40108a": {
          "model_module": "@jupyter-widgets/base",
          "model_name": "LayoutModel",
          "state": {
            "_view_name": "LayoutView",
            "grid_template_rows": null,
            "right": null,
            "justify_content": null,
            "_view_module": "@jupyter-widgets/base",
            "overflow": null,
            "_model_module_version": "1.2.0",
            "_view_count": null,
            "flex_flow": null,
            "width": null,
            "min_width": null,
            "border": null,
            "align_items": null,
            "bottom": null,
            "_model_module": "@jupyter-widgets/base",
            "top": null,
            "grid_column": null,
            "overflow_y": null,
            "overflow_x": null,
            "grid_auto_flow": null,
            "grid_area": null,
            "grid_template_columns": null,
            "flex": null,
            "_model_name": "LayoutModel",
            "justify_items": null,
            "grid_row": null,
            "max_height": null,
            "align_content": null,
            "visibility": null,
            "align_self": null,
            "height": null,
            "min_height": null,
            "padding": null,
            "grid_auto_rows": null,
            "grid_gap": null,
            "max_width": null,
            "order": null,
            "_view_module_version": "1.2.0",
            "grid_template_areas": null,
            "object_position": null,
            "object_fit": null,
            "grid_auto_columns": null,
            "margin": null,
            "display": null,
            "left": null
          }
        },
        "40a705d0bde1443da0b51d203fce65c1": {
          "model_module": "@jupyter-widgets/controls",
          "model_name": "DescriptionStyleModel",
          "state": {
            "_view_name": "StyleView",
            "_model_name": "DescriptionStyleModel",
            "description_width": "",
            "_view_module": "@jupyter-widgets/base",
            "_model_module_version": "1.5.0",
            "_view_count": null,
            "_view_module_version": "1.2.0",
            "_model_module": "@jupyter-widgets/controls"
          }
        },
        "5691975b221147b48de5050e97f585ba": {
          "model_module": "@jupyter-widgets/base",
          "model_name": "LayoutModel",
          "state": {
            "_view_name": "LayoutView",
            "grid_template_rows": null,
            "right": null,
            "justify_content": null,
            "_view_module": "@jupyter-widgets/base",
            "overflow": null,
            "_model_module_version": "1.2.0",
            "_view_count": null,
            "flex_flow": null,
            "width": null,
            "min_width": null,
            "border": null,
            "align_items": null,
            "bottom": null,
            "_model_module": "@jupyter-widgets/base",
            "top": null,
            "grid_column": null,
            "overflow_y": null,
            "overflow_x": null,
            "grid_auto_flow": null,
            "grid_area": null,
            "grid_template_columns": null,
            "flex": null,
            "_model_name": "LayoutModel",
            "justify_items": null,
            "grid_row": null,
            "max_height": null,
            "align_content": null,
            "visibility": null,
            "align_self": null,
            "height": null,
            "min_height": null,
            "padding": null,
            "grid_auto_rows": null,
            "grid_gap": null,
            "max_width": null,
            "order": null,
            "_view_module_version": "1.2.0",
            "grid_template_areas": null,
            "object_position": null,
            "object_fit": null,
            "grid_auto_columns": null,
            "margin": null,
            "display": null,
            "left": null
          }
        },
        "9669df99d61145298168425b0ec56f6f": {
          "model_module": "@jupyter-widgets/controls",
          "model_name": "HBoxModel",
          "state": {
            "_view_name": "HBoxView",
            "_dom_classes": [],
            "_model_name": "HBoxModel",
            "_view_module": "@jupyter-widgets/controls",
            "_model_module_version": "1.5.0",
            "_view_count": null,
            "_view_module_version": "1.5.0",
            "box_style": "",
            "layout": "IPY_MODEL_08e5d00299c94751bfcb1092aed772b4",
            "_model_module": "@jupyter-widgets/controls",
            "children": [
              "IPY_MODEL_7b7700554cf0401ea51cb1389aabebde",
              "IPY_MODEL_ef94fdbbd91d4cfabb784c8680b8eb71"
            ]
          }
        },
        "08e5d00299c94751bfcb1092aed772b4": {
          "model_module": "@jupyter-widgets/base",
          "model_name": "LayoutModel",
          "state": {
            "_view_name": "LayoutView",
            "grid_template_rows": null,
            "right": null,
            "justify_content": null,
            "_view_module": "@jupyter-widgets/base",
            "overflow": null,
            "_model_module_version": "1.2.0",
            "_view_count": null,
            "flex_flow": null,
            "width": null,
            "min_width": null,
            "border": null,
            "align_items": null,
            "bottom": null,
            "_model_module": "@jupyter-widgets/base",
            "top": null,
            "grid_column": null,
            "overflow_y": null,
            "overflow_x": null,
            "grid_auto_flow": null,
            "grid_area": null,
            "grid_template_columns": null,
            "flex": null,
            "_model_name": "LayoutModel",
            "justify_items": null,
            "grid_row": null,
            "max_height": null,
            "align_content": null,
            "visibility": null,
            "align_self": null,
            "height": null,
            "min_height": null,
            "padding": null,
            "grid_auto_rows": null,
            "grid_gap": null,
            "max_width": null,
            "order": null,
            "_view_module_version": "1.2.0",
            "grid_template_areas": null,
            "object_position": null,
            "object_fit": null,
            "grid_auto_columns": null,
            "margin": null,
            "display": null,
            "left": null
          }
        },
        "7b7700554cf0401ea51cb1389aabebde": {
          "model_module": "@jupyter-widgets/controls",
          "model_name": "FloatProgressModel",
          "state": {
            "_view_name": "ProgressView",
            "style": "IPY_MODEL_2ee2acb5e7934239ae986e96076fe90d",
            "_dom_classes": [],
            "description": "100%",
            "_model_name": "FloatProgressModel",
            "bar_style": "success",
            "max": 8000,
            "_view_module": "@jupyter-widgets/controls",
            "_model_module_version": "1.5.0",
            "value": 8000,
            "_view_count": null,
            "_view_module_version": "1.5.0",
            "orientation": "horizontal",
            "min": 0,
            "description_tooltip": null,
            "_model_module": "@jupyter-widgets/controls",
            "layout": "IPY_MODEL_527042ec355343ce99a1ea76d4d96b19"
          }
        },
        "ef94fdbbd91d4cfabb784c8680b8eb71": {
          "model_module": "@jupyter-widgets/controls",
          "model_name": "HTMLModel",
          "state": {
            "_view_name": "HTMLView",
            "style": "IPY_MODEL_68203780498147d4b0fb3d0e6d5da0ee",
            "_dom_classes": [],
            "description": "",
            "_model_name": "HTMLModel",
            "placeholder": "​",
            "_view_module": "@jupyter-widgets/controls",
            "_model_module_version": "1.5.0",
            "value": " 8000/8000 [00:04&lt;00:00, 1667.02it/s]",
            "_view_count": null,
            "_view_module_version": "1.5.0",
            "description_tooltip": null,
            "_model_module": "@jupyter-widgets/controls",
            "layout": "IPY_MODEL_9a727e64b3714807bfb885acb19c3cda"
          }
        },
        "2ee2acb5e7934239ae986e96076fe90d": {
          "model_module": "@jupyter-widgets/controls",
          "model_name": "ProgressStyleModel",
          "state": {
            "_view_name": "StyleView",
            "_model_name": "ProgressStyleModel",
            "description_width": "initial",
            "_view_module": "@jupyter-widgets/base",
            "_model_module_version": "1.5.0",
            "_view_count": null,
            "_view_module_version": "1.2.0",
            "bar_color": null,
            "_model_module": "@jupyter-widgets/controls"
          }
        },
        "527042ec355343ce99a1ea76d4d96b19": {
          "model_module": "@jupyter-widgets/base",
          "model_name": "LayoutModel",
          "state": {
            "_view_name": "LayoutView",
            "grid_template_rows": null,
            "right": null,
            "justify_content": null,
            "_view_module": "@jupyter-widgets/base",
            "overflow": null,
            "_model_module_version": "1.2.0",
            "_view_count": null,
            "flex_flow": null,
            "width": null,
            "min_width": null,
            "border": null,
            "align_items": null,
            "bottom": null,
            "_model_module": "@jupyter-widgets/base",
            "top": null,
            "grid_column": null,
            "overflow_y": null,
            "overflow_x": null,
            "grid_auto_flow": null,
            "grid_area": null,
            "grid_template_columns": null,
            "flex": null,
            "_model_name": "LayoutModel",
            "justify_items": null,
            "grid_row": null,
            "max_height": null,
            "align_content": null,
            "visibility": null,
            "align_self": null,
            "height": null,
            "min_height": null,
            "padding": null,
            "grid_auto_rows": null,
            "grid_gap": null,
            "max_width": null,
            "order": null,
            "_view_module_version": "1.2.0",
            "grid_template_areas": null,
            "object_position": null,
            "object_fit": null,
            "grid_auto_columns": null,
            "margin": null,
            "display": null,
            "left": null
          }
        },
        "68203780498147d4b0fb3d0e6d5da0ee": {
          "model_module": "@jupyter-widgets/controls",
          "model_name": "DescriptionStyleModel",
          "state": {
            "_view_name": "StyleView",
            "_model_name": "DescriptionStyleModel",
            "description_width": "",
            "_view_module": "@jupyter-widgets/base",
            "_model_module_version": "1.5.0",
            "_view_count": null,
            "_view_module_version": "1.2.0",
            "_model_module": "@jupyter-widgets/controls"
          }
        },
        "9a727e64b3714807bfb885acb19c3cda": {
          "model_module": "@jupyter-widgets/base",
          "model_name": "LayoutModel",
          "state": {
            "_view_name": "LayoutView",
            "grid_template_rows": null,
            "right": null,
            "justify_content": null,
            "_view_module": "@jupyter-widgets/base",
            "overflow": null,
            "_model_module_version": "1.2.0",
            "_view_count": null,
            "flex_flow": null,
            "width": null,
            "min_width": null,
            "border": null,
            "align_items": null,
            "bottom": null,
            "_model_module": "@jupyter-widgets/base",
            "top": null,
            "grid_column": null,
            "overflow_y": null,
            "overflow_x": null,
            "grid_auto_flow": null,
            "grid_area": null,
            "grid_template_columns": null,
            "flex": null,
            "_model_name": "LayoutModel",
            "justify_items": null,
            "grid_row": null,
            "max_height": null,
            "align_content": null,
            "visibility": null,
            "align_self": null,
            "height": null,
            "min_height": null,
            "padding": null,
            "grid_auto_rows": null,
            "grid_gap": null,
            "max_width": null,
            "order": null,
            "_view_module_version": "1.2.0",
            "grid_template_areas": null,
            "object_position": null,
            "object_fit": null,
            "grid_auto_columns": null,
            "margin": null,
            "display": null,
            "left": null
          }
        }
      }
    },
    "accelerator": "GPU"
  },
  "cells": [
    {
      "cell_type": "markdown",
      "metadata": {
        "id": "wB8eX0M9r9a3"
      },
      "source": [
        "# The math"
      ]
    },
    {
      "cell_type": "markdown",
      "metadata": {
        "id": "pJSNoqiKiqNK"
      },
      "source": [
        "The potts model\n",
        "$$p(x) = \\frac{1}{Z}\\exp{-\\mathcal{E}(x)}\\\\\n",
        "\\mathcal{E}(x) = - J\\sum_{i\\sim j}\\mathbb{I}(x_i = x_j)\\\\\n",
        "p(x_i = k | x_{-i}) = \\frac{\\exp(J\\sum_{n\\in \\text{nbr}}\\mathbb{I}(x_n = k))}{\\sum_{k'}\\exp(J\\sum_{n\\in \\text{nbr}}\\mathbb{I}(x_n = k))}$$ "
      ]
    },
    {
      "cell_type": "markdown",
      "metadata": {
        "id": "Ha2X3MkZjVoL"
      },
      "source": [
        "In order to efficiently compute \n",
        "$$\n",
        "\\sum_{n\\in \\text{nbr}}$$ \n",
        "for all the different states in our potts model we use a convolution. The idea is to first reperesent each potts model state as a one-hot state and then apply a convolution to compute the logits. "
      ]
    },
    {
      "cell_type": "markdown",
      "metadata": {
        "id": "mZuX38K4mTy_"
      },
      "source": [
        "$$\\begin{pmatrix}\n",
        "S_{11} & S_{12} & \\ldots & S_{1n} \\\\\n",
        "S_{21} & S_{22} & \\ldots & S_{2n} \\\\\n",
        "\\vdots & &\\ddots & \\vdots\\\\\n",
        "S_{n1} & S_{n2} & \\ldots & S_{nn} \\\\\n",
        " \\end{pmatrix} \\underset{\\longrightarrow}{\\text{padding}} \\begin{pmatrix}\n",
        " 0 & \\ldots & 0 & \\ldots & 0 & 0\\\\\n",
        "0 & S_{11} & S_{12} & \\ldots & S_{1n} & 0 \\\\\n",
        "0 & S_{21} & S_{22} & \\ldots & S_{2n}&0 \\\\\n",
        "\\vdots & &\\ddots & \\vdots\\\\\n",
        "0 & S_{n1} & S_{n2} & \\ldots & S_{nn} & 0 \\\\\n",
        "0 & \\ldots & 0 & \\ldots & 0 & 0\\\\\n",
        " \\end{pmatrix} \\underset{\\longrightarrow}{\\text{convolution}} \\begin{pmatrix}\n",
        "E_{11} & E_{12} & \\ldots & E_{1n} \\\\\n",
        "E_{21} & E_{22} & \\ldots & E_{2n} \\\\\n",
        "\\vdots & &\\ddots & \\vdots\\\\\n",
        "E_{n1} & E_{n2} & \\ldots & E_{nn} \\\\\n",
        " \\end{pmatrix} $$ "
      ]
    },
    {
      "cell_type": "markdown",
      "metadata": {
        "id": "pjkZLlz8qepC"
      },
      "source": [
        "An example\n",
        "$$\\begin{pmatrix}\n",
        "1 & 1 & 1 \\\\\n",
        "1 & 1 & 1 \\\\\n",
        "1 & 1 & 1 \n",
        " \\end{pmatrix} \\underset{\\longrightarrow}{\\text{padding}} \\begin{pmatrix}\n",
        " 0 & 0 & 0 & 0 & 0\\\\\n",
        "0 & 1 & 1 & 1 & 0 \\\\\n",
        "0 & 1 & 1 & 1 & 0\\\\\n",
        "0 & 1 & 1 & 1 & 0 \\\\\n",
        "0 & 0 & 0 & 0 & 0\n",
        " \\end{pmatrix} \\underset{\\longrightarrow}{\\text{convolution}} \\begin{pmatrix}\n",
        "2 & 3  & 2 \\\\\n",
        "3 & 4 & 3 \\\\\n",
        "2 & 3  & 2\n",
        " \\end{pmatrix} $$ "
      ]
    },
    {
      "cell_type": "markdown",
      "metadata": {
        "id": "XARcMmGZrPGF"
      },
      "source": [
        "Where the matrix $$\\begin{pmatrix}\n",
        "2 & 3  & 2 \\\\\n",
        "3 & 4 & 3 \\\\\n",
        "2 & 3  & 2\n",
        " \\end{pmatrix} $$ correspond to the number of neighbours with the same value around in the matrix \\begin{pmatrix}\n",
        "1 & 1 & 1 \\\\\n",
        "1 & 1 & 1 \\\\\n",
        "1 & 1 & 1 \n",
        " \\end{pmatrix} "
      ]
    },
    {
      "cell_type": "markdown",
      "metadata": {
        "id": "RYfQg2U_rkZk"
      },
      "source": [
        "For more than 2 states, we represent the abobe matrix as a 3d tensor which you can imagine as the state matrix but with each element as a one hot vector. "
      ]
    },
    {
      "cell_type": "markdown",
      "metadata": {
        "id": "EHJcunQyiGk7"
      },
      "source": [
        "# Import libaries"
      ]
    },
    {
      "cell_type": "code",
      "metadata": {
        "id": "85GN9Dk3l9DB"
      },
      "source": [
        "import jax\n",
        "import jax.numpy as jnp \n",
        "from jax import lax\n",
        "from jax import vmap\n",
        "from jax import random\n",
        "from jax import jit\n",
        "import numpy as np\n",
        "import matplotlib.pyplot as plt\n",
        "from tqdm import trange"
      ],
      "execution_count": null,
      "outputs": []
    },
    {
      "cell_type": "markdown",
      "metadata": {
        "id": "canIPYzdiJZ1"
      },
      "source": [
        "# The K number of states and size of the board"
      ]
    },
    {
      "cell_type": "code",
      "metadata": {
        "id": "gwydLmZbe6bw"
      },
      "source": [
        "K= 10\n",
        "ix = 128\n",
        "iy = 128"
      ],
      "execution_count": null,
      "outputs": []
    },
    {
      "cell_type": "markdown",
      "metadata": {
        "id": "6CL6cxWoiTOT"
      },
      "source": [
        "# The key and the kernel"
      ]
    },
    {
      "cell_type": "code",
      "metadata": {
        "id": "EAvOkb4XksB5"
      },
      "source": [
        "key = random.PRNGKey(12234)"
      ],
      "execution_count": null,
      "outputs": []
    },
    {
      "cell_type": "code",
      "metadata": {
        "id": "e_FUJlaNYtSP"
      },
      "source": [
        "kernel = jnp.zeros((3, 3, 1, 1), dtype=jnp.float32)\n",
        "kernel += jnp.array([[0, 1, 0],\n",
        "                     [1, 0,1],\n",
        "                     [0,1,0]])[:, :, jnp.newaxis, jnp.newaxis]\n",
        "\n",
        "dn = lax.conv_dimension_numbers((K, ix, iy, 1),     # only ndim matters, not shape\n",
        "                                 kernel.shape,  # only ndim matters, not shape \n",
        "                                ('NHWC', 'HWIO', 'NHWC'))  # the important bit"
      ],
      "execution_count": null,
      "outputs": []
    },
    {
      "cell_type": "markdown",
      "metadata": {
        "id": "U696TCZ3iXjB"
      },
      "source": [
        "# Creating the checkerboard "
      ]
    },
    {
      "cell_type": "code",
      "metadata": {
        "id": "96V2oEqqWti3"
      },
      "source": [
        "mask = jnp.indices((K, iy, ix, 1)).sum(axis=0) % 2"
      ],
      "execution_count": null,
      "outputs": []
    },
    {
      "cell_type": "code",
      "metadata": {
        "id": "9D_sZ2pRWuj1"
      },
      "source": [
        "def checkerboard_pattern1(x):\n",
        "  return mask[0, :, : , 0]\n",
        "\n",
        "def checkerboard_pattern2(x):\n",
        "  return mask[1, :, : , 0]\n",
        "\n",
        "def make_checkerboard_pattern1():\n",
        "  arr = vmap(checkerboard_pattern1, in_axes=0)(jnp.array(K*[1]))\n",
        "  return jnp.expand_dims(arr, -1)\n",
        "\n",
        "def make_checkerboard_pattern2():\n",
        "  arr = vmap(checkerboard_pattern2, in_axes=0)(jnp.array(K*[1]))\n",
        "  return jnp.expand_dims(arr, -1)"
      ],
      "execution_count": null,
      "outputs": []
    },
    {
      "cell_type": "code",
      "metadata": {
        "id": "pS0O_5ztel-l"
      },
      "source": [
        "def test_state_mat_update(state_mat_update):\n",
        "  \"\"\"\n",
        "  Checking the checkerboard pattern is the same for each channel\n",
        "  \"\"\"\n",
        "  mask = make_checkerboard_pattern1()\n",
        "  inverse_mask = make_checkerboard_pattern2()\n",
        "  state_mat = jnp.zeros((K, 128, 128, 1))\n",
        "  sample = jnp.ones((K, 128, 128, 1))\n",
        "  new_state = state_mat_update(mask, inverse_mask, sample, state_mat)\n",
        "  assert jnp.array_equal(new_state[0, :, :, 0], new_state[1, :, :, 0])\n",
        "\n",
        "def test_state_mat_update2(state_mat_update):\n",
        "  \"\"\"\n",
        "  Checking the checkerboard pattern is the same for each channel\n",
        "  \"\"\"\n",
        "  mask = make_checkerboard_pattern1()\n",
        "  inverse_mask = make_checkerboard_pattern2()\n",
        "  state_mat = jnp.ones((K, 128, 128, 1))\n",
        "  sample = jnp.zeros((K, 128, 128, 1))\n",
        "  new_state = state_mat_update(mask, inverse_mask, sample, state_mat)\n",
        "  assert jnp.array_equal(new_state[0, :, :, 0], new_state[1, :, :, 0])\n",
        "\n",
        "def test_energy(energy):\n",
        "  \"\"\"\n",
        "  If you give the convolution all ones, it will produce the number of edges \n",
        "  it is connected to on a grid i.e the number of neighbours around it. \n",
        "  \"\"\"\n",
        "  X = jnp.ones((3, 3))\n",
        "  state_mat = jax.nn.one_hot(X, K, axis=0)[:, :, :, jnp.newaxis]\n",
        "  energy = energy(state_mat, 1)\n",
        "  assert np.array_equal(energy[1,:,:,0], \n",
        "                        jnp.array([[2,3,2], [3, 4, 3], [2, 3, 2]]))"
      ],
      "execution_count": null,
      "outputs": []
    },
    {
      "cell_type": "code",
      "metadata": {
        "id": "aoL_FB675xcE"
      },
      "source": [
        "def sampler(K, key, logits):\n",
        "  # Sample from the energy using gumbel trick\n",
        "  u = random.uniform(key, shape=(K, ix, iy, 1))\n",
        "  sample = jnp.argmax(logits - jnp.log(-jnp.log(u)), axis=0)\n",
        "  sample = jax.nn.one_hot(sample, K, axis=0)\n",
        "  return sample\n",
        "\n",
        "def state_mat_update(mask, inverse_mask, sample, state_mat):\n",
        "  # Update the state_mat using masking\n",
        "  masked_sample = mask*sample \n",
        "  masked_state_mat = inverse_mask*state_mat \n",
        "  state_mat  = masked_state_mat+masked_sample\n",
        "  return state_mat\n",
        "\n",
        "def energy(state_mat, jvalue):\n",
        "  # Calculate energy\n",
        "  logits = lax.conv_general_dilated(state_mat, jvalue*kernel, \n",
        "                                    (1,1), 'SAME', (1,1), (1,1), dn)  \n",
        "  return logits\n",
        "\n",
        "def gibbs_sampler(key, jvalue, niter=1):\n",
        "  key, key2 = random.split(key)\n",
        "  \n",
        "  X = random.randint(key, shape=(ix, iy), minval=0, maxval=K)\n",
        "  state_mat = jax.nn.one_hot(X, K, axis=0)[:, :, :, jnp.newaxis]\n",
        "\n",
        "  mask = make_checkerboard_pattern1()\n",
        "  inverse_mask = make_checkerboard_pattern2()\n",
        "  \n",
        "  @jit\n",
        "  def state_update(key, state_mat, mask, inverse_mask):\n",
        "    logits = energy(state_mat, jvalue)  \n",
        "    sample = sampler(K, key, logits)\n",
        "    state_mat = state_mat_update(mask, inverse_mask, sample, state_mat)\n",
        "    return state_mat\n",
        "\n",
        "  for iter in tqdm(range(niter)):\n",
        "    key, key2 = random.split(key2)\n",
        "    state_mat = state_update(key, state_mat, mask, inverse_mask )\n",
        "    mask, inverse_mask = inverse_mask, mask\n",
        "      \n",
        "  return jnp.squeeze(jnp.argmax(state_mat, axis=0), axis=-1)"
      ],
      "execution_count": null,
      "outputs": []
    },
    {
      "cell_type": "markdown",
      "metadata": {
        "id": "3cCjF0RTr3Dv"
      },
      "source": [
        "# Running the test"
      ]
    },
    {
      "cell_type": "code",
      "metadata": {
        "id": "4VX58dRNg_pF"
      },
      "source": [
        "test_state_mat_update(state_mat_update)\n",
        "test_state_mat_update2(state_mat_update)\n",
        "test_energy(energy)"
      ],
      "execution_count": null,
      "outputs": []
    },
    {
      "cell_type": "markdown",
      "metadata": {
        "id": "G1jxMXGgr5LO"
      },
      "source": [
        "# Running the model"
      ]
    },
    {
      "cell_type": "code",
      "metadata": {
        "id": "2poygXwns9Gu"
      },
      "source": [
        "Jvals = [1.42, 1.43, 1.44]"
      ],
      "execution_count": null,
      "outputs": []
    },
    {
      "cell_type": "code",
      "metadata": {
        "colab": {
          "base_uri": "https://localhost:8080/",
          "height": 185,
          "referenced_widgets": [
            "59382bbeee02433b823c3f58099783cb",
            "ff4fefdf30b94aaa8eb4bb5cb1a35ea7",
            "bc93265d7bc644a29a8993efc365442a",
            "6237cb298df2434682b8bb5692f69d21",
            "da8f0af268284e7fbc6ee35ff8771baa",
            "64f188f566464b8c935f2ad9008608ed",
            "05ae5a4d5a6b410a864e8b6324668cc1",
            "a5c38bfc6ff44cdabb9af0bae8a3373b"
          ]
        },
        "id": "4DLUNREjz2gz",
        "outputId": "12acd6b4-32cf-4c8d-9b14-3f269db84cd8"
      },
      "source": [
        "gibbs_sampler(key, 1, niter=2)"
      ],
      "execution_count": null,
      "outputs": [
        {
          "output_type": "display_data",
          "data": {
            "application/vnd.jupyter.widget-view+json": {
              "model_id": "59382bbeee02433b823c3f58099783cb",
              "version_minor": 0,
              "version_major": 2
            },
            "text/plain": [
              "HBox(children=(FloatProgress(value=0.0, max=2.0), HTML(value='')))"
            ]
          },
          "metadata": {
            "tags": []
          }
        },
        {
          "output_type": "stream",
          "text": [
            "\n"
          ],
          "name": "stdout"
        },
        {
          "output_type": "execute_result",
          "data": {
            "text/plain": [
              "DeviceArray([[9, 3, 4, ..., 5, 9, 9],\n",
              "             [3, 2, 3, ..., 3, 8, 5],\n",
              "             [4, 0, 3, ..., 3, 7, 6],\n",
              "             ...,\n",
              "             [5, 5, 5, ..., 8, 2, 5],\n",
              "             [5, 5, 7, ..., 3, 2, 3],\n",
              "             [4, 9, 5, ..., 6, 7, 3]], dtype=int32)"
            ]
          },
          "metadata": {
            "tags": []
          },
          "execution_count": 48
        }
      ]
    },
    {
      "cell_type": "code",
      "metadata": {
        "colab": {
          "base_uri": "https://localhost:8080/",
          "height": 391,
          "referenced_widgets": [
            "6bf23f5839b047f8a4c6cd4e29084212",
            "a307cfb915bd45fc885cabfb21d5e7d4",
            "8841ff5f33154e26abbd56e336573b92",
            "e1b7ba83610b4999a94cdc8ad57881c7",
            "9bcad2121a974028883b6e8059b895ac",
            "b846949aa3cf42c1b91fe3c1dc2fe166",
            "016407df18d44895b665e89c593ab1cb",
            "c745769c904b4ba485130b65b676a3b7",
            "69a87679be3a4279976a4a5bdcfd232f",
            "6229f7b060e7452d93fcc2584447192c",
            "9780fc3c915544919336b745e73a44ff",
            "2a4775131d944b3db962a7ff8937ff63",
            "4c58c34db15848fcbf508ad146d14bd2",
            "98ea1535e3664c358c837c0f004572da",
            "0f4b4c6bc0934db0b820c2fd547da488",
            "6d1df69e990948fcbb05c173ed7f333f",
            "6370fbea05e8471abe37311912316ea3",
            "da89e7576f714ad08e6383d663f880b5",
            "41f1eb0bedda4c899ee40241309153b2",
            "4eb980c4fc5b453595c6ce69e11baa43",
            "fc7cc73c7d934e54aea993d719b0c65f",
            "441623ef7c8942dbbb4968690b40108a",
            "40a705d0bde1443da0b51d203fce65c1",
            "5691975b221147b48de5050e97f585ba",
            "9669df99d61145298168425b0ec56f6f",
            "08e5d00299c94751bfcb1092aed772b4",
            "7b7700554cf0401ea51cb1389aabebde",
            "ef94fdbbd91d4cfabb784c8680b8eb71",
            "2ee2acb5e7934239ae986e96076fe90d",
            "527042ec355343ce99a1ea76d4d96b19",
            "68203780498147d4b0fb3d0e6d5da0ee",
            "9a727e64b3714807bfb885acb19c3cda"
          ]
        },
        "id": "78pi2s6mtABW",
        "outputId": "2f9ce70b-9d21-4c10-a980-daaf85d10711"
      },
      "source": [
        "dfig, axs = plt.subplots(1, len(Jvals), figsize=(8, 8))\n",
        "for t in tqdm(range(len(Jvals))):\n",
        "  arr = gibbs_sampler(key, Jvals[t], niter=8000)\n",
        "  axs[t].imshow(arr, cmap='Accent', interpolation=\"nearest\")\n",
        "  axs[t].set_title(f\"J = {Jvals[t]}\")"
      ],
      "execution_count": null,
      "outputs": [
        {
          "output_type": "display_data",
          "data": {
            "application/vnd.jupyter.widget-view+json": {
              "model_id": "6bf23f5839b047f8a4c6cd4e29084212",
              "version_minor": 0,
              "version_major": 2
            },
            "text/plain": [
              "HBox(children=(FloatProgress(value=0.0, max=3.0), HTML(value='')))"
            ]
          },
          "metadata": {
            "tags": []
          }
        },
        {
          "output_type": "display_data",
          "data": {
            "application/vnd.jupyter.widget-view+json": {
              "model_id": "69a87679be3a4279976a4a5bdcfd232f",
              "version_minor": 0,
              "version_major": 2
            },
            "text/plain": [
              "HBox(children=(FloatProgress(value=0.0, max=8000.0), HTML(value='')))"
            ]
          },
          "metadata": {
            "tags": []
          }
        },
        {
          "output_type": "stream",
          "text": [
            "\n"
          ],
          "name": "stdout"
        },
        {
          "output_type": "display_data",
          "data": {
            "application/vnd.jupyter.widget-view+json": {
              "model_id": "6370fbea05e8471abe37311912316ea3",
              "version_minor": 0,
              "version_major": 2
            },
            "text/plain": [
              "HBox(children=(FloatProgress(value=0.0, max=8000.0), HTML(value='')))"
            ]
          },
          "metadata": {
            "tags": []
          }
        },
        {
          "output_type": "stream",
          "text": [
            "\n"
          ],
          "name": "stdout"
        },
        {
          "output_type": "display_data",
          "data": {
            "application/vnd.jupyter.widget-view+json": {
              "model_id": "9669df99d61145298168425b0ec56f6f",
              "version_minor": 0,
              "version_major": 2
            },
            "text/plain": [
              "HBox(children=(FloatProgress(value=0.0, max=8000.0), HTML(value='')))"
            ]
          },
          "metadata": {
            "tags": []
          }
        },
        {
          "output_type": "stream",
          "text": [
            "\n",
            "\n"
          ],
          "name": "stdout"
        },
        {
          "output_type": "display_data",
          "data": {
            "image/png": "[encoded data removed]",
            "text/plain": [
              "<Figure size 576x576 with 3 Axes>"
            ]
          },
          "metadata": {
            "tags": [],
            "needs_background": "light"
          }
        }
      ]
    },
    {
      "cell_type": "code",
      "metadata": {
        "id": "gAQtirK6kGja"
      },
      "source": [
        ""
      ],
      "execution_count": null,
      "outputs": []
    }
  ]
}